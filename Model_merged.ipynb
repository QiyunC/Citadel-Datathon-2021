{
 "cells": [
  {
   "cell_type": "code",
   "execution_count": 1,
   "metadata": {},
   "outputs": [
    {
     "data": {
      "text/html": [
       "        <script type=\"text/javascript\">\n",
       "        window.PlotlyConfig = {MathJaxConfig: 'local'};\n",
       "        if (window.MathJax) {MathJax.Hub.Config({SVG: {font: \"STIX-Web\"}});}\n",
       "        if (typeof require !== 'undefined') {\n",
       "        require.undef(\"plotly\");\n",
       "        requirejs.config({\n",
       "            paths: {\n",
       "                'plotly': ['https://cdn.plot.ly/plotly-2.4.2.min']\n",
       "            }\n",
       "        });\n",
       "        require(['plotly'], function(Plotly) {\n",
       "            window._Plotly = Plotly;\n",
       "        });\n",
       "        }\n",
       "        </script>\n",
       "        "
      ]
     },
     "metadata": {},
     "output_type": "display_data"
    }
   ],
   "source": [
    "import plotly\n",
    "import plotly.graph_objs as go\n",
    "import plotly.express as px \n",
    "from plotly.offline import init_notebook_mode, iplot\n",
    "\n",
    "import numpy as np\n",
    "import pandas as pd \n",
    "\n",
    "from sklearn import preprocessing\n",
    "from sklearn.preprocessing import OneHotEncoder\n",
    "from sklearn.impute import KNNImputer\n",
    "from sklearn import decomposition\n",
    "\n",
    "init_notebook_mode(connected=True)  "
   ]
  },
  {
   "cell_type": "code",
   "execution_count": 2,
   "metadata": {},
   "outputs": [
    {
     "name": "stdout",
     "output_type": "stream",
     "text": [
      "Columns Index(['ParentLocationCode', 'ParentLocation', 'SpatialDimValueCode',\n",
      "       'Location', 'Year', 'Gender', 'Value', 'arg', 'cpi', 'edu', 'employ',\n",
      "       'exchange', 'gdp', 'green', 'income', 'pop', 'tax', 'LifeLadder',\n",
      "       'LogGDPPerCapita', 'SocialSupport', 'Expectancy', 'Freedom',\n",
      "       'Generosity', 'Corruption', 'PositiveAffect', 'NegativeAffect'],\n",
      "      dtype='object')\n",
      "Categories [array(['Africa', 'Americas', 'Eastern Mediterranean', 'Europe',\n",
      "       'South-East Asia', 'Western Pacific'], dtype=object)]\n"
     ]
    },
    {
     "name": "stderr",
     "output_type": "stream",
     "text": [
      "/Library/Frameworks/Python.framework/Versions/3.7/lib/python3.7/site-packages/ipykernel_launcher.py:31: SettingWithCopyWarning:\n",
      "\n",
      "\n",
      "A value is trying to be set on a copy of a slice from a DataFrame.\n",
      "Try using .loc[row_indexer,col_indexer] = value instead\n",
      "\n",
      "See the caveats in the documentation: https://pandas.pydata.org/pandas-docs/stable/user_guide/indexing.html#returning-a-view-versus-a-copy\n",
      "\n",
      "/Library/Frameworks/Python.framework/Versions/3.7/lib/python3.7/site-packages/pandas/core/frame.py:2963: SettingWithCopyWarning:\n",
      "\n",
      "\n",
      "A value is trying to be set on a copy of a slice from a DataFrame.\n",
      "Try using .loc[row_indexer,col_indexer] = value instead\n",
      "\n",
      "See the caveats in the documentation: https://pandas.pydata.org/pandas-docs/stable/user_guide/indexing.html#returning-a-view-versus-a-copy\n",
      "\n",
      "/Library/Frameworks/Python.framework/Versions/3.7/lib/python3.7/site-packages/ipykernel_launcher.py:46: SettingWithCopyWarning:\n",
      "\n",
      "\n",
      "A value is trying to be set on a copy of a slice from a DataFrame.\n",
      "Try using .loc[row_indexer,col_indexer] = value instead\n",
      "\n",
      "See the caveats in the documentation: https://pandas.pydata.org/pandas-docs/stable/user_guide/indexing.html#returning-a-view-versus-a-copy\n",
      "\n",
      "/Library/Frameworks/Python.framework/Versions/3.7/lib/python3.7/site-packages/pandas/core/indexing.py:966: SettingWithCopyWarning:\n",
      "\n",
      "\n",
      "A value is trying to be set on a copy of a slice from a DataFrame.\n",
      "Try using .loc[row_indexer,col_indexer] = value instead\n",
      "\n",
      "See the caveats in the documentation: https://pandas.pydata.org/pandas-docs/stable/user_guide/indexing.html#returning-a-view-versus-a-copy\n",
      "\n",
      "/Library/Frameworks/Python.framework/Versions/3.7/lib/python3.7/site-packages/pandas/core/frame.py:2963: SettingWithCopyWarning:\n",
      "\n",
      "\n",
      "A value is trying to be set on a copy of a slice from a DataFrame.\n",
      "Try using .loc[row_indexer,col_indexer] = value instead\n",
      "\n",
      "See the caveats in the documentation: https://pandas.pydata.org/pandas-docs/stable/user_guide/indexing.html#returning-a-view-versus-a-copy\n",
      "\n"
     ]
    }
   ],
   "source": [
    "data_dir = ''\n",
    "ww_df = pd.read_csv(data_dir + 'extra_ww.csv')\n",
    "ww_df = ww_df[ww_df['Gender'] == 'Both sexes'].reset_index(drop=True)\n",
    "print(\"Columns\", ww_df.columns)\n",
    "num_cols = [\n",
    "    'Year',\n",
    "    'arg', 'cpi', 'edu', 'employ',\n",
    "    'exchange', 'gdp', 'green', 'income', 'pop', 'tax', 'LifeLadder',\n",
    "    'LogGDPPerCapita', 'SocialSupport', 'Expectancy', 'Freedom',\n",
    "    'Generosity', 'Corruption', 'PositiveAffect', 'NegativeAffect'\n",
    "]\n",
    "cat_col = ['ParentLocation']\n",
    "\n",
    "# One-Hot encode categorical variables\n",
    "enc = OneHotEncoder(handle_unknown='ignore')\n",
    "enc.fit(ww_df[cat_col])\n",
    "print(\"Categories\", enc.categories_)\n",
    "# Merge One-Hot varables with original dataset\n",
    "enc_df = pd.DataFrame(enc.fit_transform(ww_df[cat_col]).toarray())\n",
    "enc_df.columns = enc.categories_[0]\n",
    "ww_df = ww_df.join(enc_df)\n",
    "\n",
    "# select continous years of data\n",
    "ww_df_ts = ww_df[(ww_df['Year'] >= 2013) & (ww_df['Year'] <= 2018)]\n",
    "\n",
    "# cube root transformation\n",
    "cbrt_cols = ['cpi', 'exchange', 'gdp', \n",
    "            'green', 'income', 'pop']\n",
    "for col in cbrt_cols:\n",
    "    cbrt_col_name = 'cbrt_' + col\n",
    "    ww_df_ts[cbrt_col_name] = np.cbrt(ww_df_ts[col])\n",
    "\n",
    "# numerical columns, pca columns, categorical columns\n",
    "num_cols_m1 = ['edu', 'employ', 'LogGDPPerCapita', 'cbrt_income', 'pop', 'tax']\n",
    "pca_cols_m1 = ['LifeLadder', 'SocialSupport', 'Expectancy', 'Freedom', 'PositiveAffect', 'NegativeAffect']\n",
    "cat_cols_m1 = list(enc_df.columns)\n",
    "\n",
    "# normalize\n",
    "scaler = preprocessing.MinMaxScaler()\n",
    "data_scaled = scaler.fit_transform(ww_df_ts[num_cols_m1+pca_cols_m1])\n",
    "data_normalized = pd.DataFrame(data_scaled, columns = [num_cols_m1+pca_cols_m1])\n",
    "ww_df_ts[num_cols_m1+pca_cols_m1] = data_normalized\n",
    "\n",
    "# fillna\n",
    "imputer = KNNImputer(n_neighbors=3)\n",
    "ww_df_ts[num_cols_m1+pca_cols_m1] = imputer.fit_transform(ww_df_ts[num_cols_m1+pca_cols_m1])\n",
    "# ww_df_ts[num_cols_m1+pca_cols_m1].info() # check no NA values\n",
    "\n",
    "# PCA\n",
    "pca = decomposition.PCA(n_components=3)\n",
    "pca.fit(ww_df_ts[pca_cols_m1])\n",
    "pca_trans_cols_m1 = pca.transform(ww_df_ts[pca_cols_m1])\n",
    "pca_lst = ['pca_1', 'pca_2', 'pca_3']\n",
    "ww_df_ts[pca_lst] = pd.DataFrame(pca_trans_cols_m1)\n",
    "\n",
    "# Define Columns\n",
    "all_num_cols = num_cols_m1 + pca_lst\n",
    "feature_cols = all_num_cols + cat_cols_m1\n",
    "add_cols     = ['Year', 'Location']\n",
    "df = ww_df_ts[feature_cols + add_cols + ['Value']]"
   ]
  },
  {
   "cell_type": "code",
   "execution_count": 3,
   "metadata": {},
   "outputs": [],
   "source": [
    "# preprocess, including time info\n",
    "# location annual progression - world annual (mean) progression from 2013 to 2018\n",
    "\n",
    "def getProgress(dff,cols,years):\n",
    "    d = dict()\n",
    "    d[\"Year\"] = list(years)\n",
    "    for col in cols:\n",
    "        res = [0] # init 2013\n",
    "        L = list(dff[col])\n",
    "        for i in range(1,len(L)):\n",
    "            if L[i-1] == 0: \n",
    "                res.append(0)\n",
    "            else:\n",
    "                res.append((L[i] - L[i-1]) / L[i-1]) \n",
    "        d[col+\"_prog\"] = res\n",
    "    return pd.DataFrame(d)\n",
    "\n",
    "def vsWorld(countries,df_ww,dfs_country,numeric_cols):\n",
    "    L = []\n",
    "    for i in range(len(countries)):\n",
    "        d = dict()\n",
    "        d[\"Location\"] = np.repeat(countries[i],len(range(2013,2019)))\n",
    "        d[\"Year\"] = range(2013,2019)\n",
    "        df_country = dfs_country[i]\n",
    "        for X in numeric_cols:\n",
    "            d[X+\"_relprog\"] = (df_country[X+\"_prog\"] - df_ww[X+\"_prog\"])\n",
    "        L.append(pd.DataFrame(d))\n",
    "    return pd.concat(L)\n",
    "\n",
    "\n",
    "df_ww_annual_avg = df.groupby([\"Year\"]).mean()\n",
    "df_ww_annual_progress = getProgress(df_ww_annual_avg,all_num_cols,df_ww_annual_avg.index)\n",
    "df_count = df.groupby([\"Location\",\"Year\"]).sum()\n",
    "countries = df[\"Location\"].unique()\n",
    "dfs_country = [getProgress(df_count.loc[(c,)],all_num_cols,range(2013,2019)) for c in countries]\n",
    "df_all = df.merge(vsWorld(countries, df_ww_annual_progress,dfs_country,all_num_cols),how=\"left\") \n"
   ]
  },
  {
   "cell_type": "code",
   "execution_count": 13,
   "metadata": {},
   "outputs": [
    {
     "data": {
      "text/html": [
       "<div>\n",
       "<style scoped>\n",
       "    .dataframe tbody tr th:only-of-type {\n",
       "        vertical-align: middle;\n",
       "    }\n",
       "\n",
       "    .dataframe tbody tr th {\n",
       "        vertical-align: top;\n",
       "    }\n",
       "\n",
       "    .dataframe thead th {\n",
       "        text-align: right;\n",
       "    }\n",
       "</style>\n",
       "<table border=\"1\" class=\"dataframe\">\n",
       "  <thead>\n",
       "    <tr style=\"text-align: right;\">\n",
       "      <th></th>\n",
       "      <th>edu</th>\n",
       "      <th>employ</th>\n",
       "      <th>LogGDPPerCapita</th>\n",
       "      <th>cbrt_income</th>\n",
       "      <th>pop</th>\n",
       "      <th>tax</th>\n",
       "      <th>pca_1</th>\n",
       "      <th>pca_2</th>\n",
       "      <th>pca_3</th>\n",
       "      <th>Africa</th>\n",
       "      <th>...</th>\n",
       "      <th>Value</th>\n",
       "      <th>edu_relprog</th>\n",
       "      <th>employ_relprog</th>\n",
       "      <th>LogGDPPerCapita_relprog</th>\n",
       "      <th>cbrt_income_relprog</th>\n",
       "      <th>pop_relprog</th>\n",
       "      <th>tax_relprog</th>\n",
       "      <th>pca_1_relprog</th>\n",
       "      <th>pca_2_relprog</th>\n",
       "      <th>pca_3_relprog</th>\n",
       "    </tr>\n",
       "  </thead>\n",
       "  <tbody>\n",
       "    <tr>\n",
       "      <th>0</th>\n",
       "      <td>0.435265</td>\n",
       "      <td>0.327886</td>\n",
       "      <td>0.798337</td>\n",
       "      <td>0.242478</td>\n",
       "      <td>0.000809</td>\n",
       "      <td>0.388227</td>\n",
       "      <td>-0.391721</td>\n",
       "      <td>0.117101</td>\n",
       "      <td>0.168434</td>\n",
       "      <td>1.0</td>\n",
       "      <td>...</td>\n",
       "      <td>10.7</td>\n",
       "      <td>-0.018273</td>\n",
       "      <td>0.010655</td>\n",
       "      <td>-0.008991</td>\n",
       "      <td>0.009258</td>\n",
       "      <td>0.009082</td>\n",
       "      <td>-0.003805</td>\n",
       "      <td>-0.767715</td>\n",
       "      <td>-0.233795</td>\n",
       "      <td>-0.502952</td>\n",
       "    </tr>\n",
       "    <tr>\n",
       "      <th>1</th>\n",
       "      <td>0.508801</td>\n",
       "      <td>0.479838</td>\n",
       "      <td>0.569910</td>\n",
       "      <td>0.369193</td>\n",
       "      <td>0.033583</td>\n",
       "      <td>0.460127</td>\n",
       "      <td>-0.004758</td>\n",
       "      <td>-0.009640</td>\n",
       "      <td>-0.006987</td>\n",
       "      <td>0.0</td>\n",
       "      <td>...</td>\n",
       "      <td>10.9</td>\n",
       "      <td>-0.018273</td>\n",
       "      <td>0.010655</td>\n",
       "      <td>-0.008991</td>\n",
       "      <td>-0.016265</td>\n",
       "      <td>-0.001205</td>\n",
       "      <td>-0.003805</td>\n",
       "      <td>-0.767715</td>\n",
       "      <td>-0.233795</td>\n",
       "      <td>-0.502952</td>\n",
       "    </tr>\n",
       "  </tbody>\n",
       "</table>\n",
       "<p>2 rows × 27 columns</p>\n",
       "</div>"
      ],
      "text/plain": [
       "        edu    employ  LogGDPPerCapita  cbrt_income       pop       tax  \\\n",
       "0  0.435265  0.327886         0.798337     0.242478  0.000809  0.388227   \n",
       "1  0.508801  0.479838         0.569910     0.369193  0.033583  0.460127   \n",
       "\n",
       "      pca_1     pca_2     pca_3  Africa  ...  Value  edu_relprog  \\\n",
       "0 -0.391721  0.117101  0.168434     1.0  ...   10.7    -0.018273   \n",
       "1 -0.004758 -0.009640 -0.006987     0.0  ...   10.9    -0.018273   \n",
       "\n",
       "   employ_relprog  LogGDPPerCapita_relprog  cbrt_income_relprog  pop_relprog  \\\n",
       "0        0.010655                -0.008991             0.009258     0.009082   \n",
       "1        0.010655                -0.008991            -0.016265    -0.001205   \n",
       "\n",
       "  tax_relprog  pca_1_relprog  pca_2_relprog  pca_3_relprog  \n",
       "0   -0.003805      -0.767715      -0.233795      -0.502952  \n",
       "1   -0.003805      -0.767715      -0.233795      -0.502952  \n",
       "\n",
       "[2 rows x 27 columns]"
      ]
     },
     "execution_count": 13,
     "metadata": {},
     "output_type": "execute_result"
    }
   ],
   "source": []
  },
  {
   "cell_type": "code",
   "execution_count": 81,
   "metadata": {
    "scrolled": true
   },
   "outputs": [
    {
     "name": "stdout",
     "output_type": "stream",
     "text": [
      "0.49722232954605544 0.4856230402951719\n"
     ]
    }
   ],
   "source": [
    "# Model: Multiple Linear Regression\n",
    "# Data: Original features\n",
    "\n",
    "from sklearn.linear_model import LinearRegression\n",
    "from sklearn.model_selection import train_test_split\n",
    "np.random.seed(42)\n",
    "\n",
    "X_m1 = df_all[num_cols_m1 + cat_cols_m1 + pca_lst]\n",
    "Y_m1 = df_all['Value']\n",
    "\n",
    "\n",
    "# Record Average Train and Validation Accuracy\n",
    "coefficients = []\n",
    "train_acc_lst, test_acc_lst = [], []\n",
    "for i in range(20):\n",
    "    X_m1_train, X_m1_test,Y_m1_train, Y_m1_test = train_test_split(X_m1, Y_m1, test_size =0.2)\n",
    "    lr_model = LinearRegression()\n",
    "    lr_model.fit(X_m1_train, Y_m1_train)\n",
    "    coefficients.append(lr_model.coef_)\n",
    "    train_acc_lst.append(lr_model.score(X_m1_train, Y_m1_train))\n",
    "    test_acc_lst.append(lr_model.score(X_m1_test, Y_m1_test))\n",
    "train_acc_lst, test_acc_lst = np.array(train_acc_lst), np.array(test_acc_lst)\n",
    "print(np.mean(train_acc_lst), np.mean(test_acc_lst))\n",
    "naive = pd.DataFrame({'Feature':X_m1_train.columns, \n",
    "              'mean coefficients' : sum(coefficients)/len(coefficients)})\n",
    "naive.to_csv(\"naive_coeffi.csv\",index=False)"
   ]
  },
  {
   "cell_type": "code",
   "execution_count": 9,
   "metadata": {},
   "outputs": [
    {
     "name": "stdout",
     "output_type": "stream",
     "text": [
      "0.41960408345367073 0.3333617642126903\n"
     ]
    }
   ],
   "source": [
    "# Model: Multiple Linear Regression\n",
    "# Data: Relative numerical features + one-hot categorical features\n",
    "\n",
    "from sklearn.linear_model import LinearRegression\n",
    "from sklearn.model_selection import train_test_split\n",
    "np.random.seed(42)\n",
    "relative_features = [col + \"_relprog\" for col in num_cols_m1 + pca_lst]\n",
    "X_m2 = df_all[relative_features + cat_cols_m1]\n",
    "Y_m2 = df_all['Value']\n",
    "\n",
    "\n",
    "# Record Average Train and Validation Accuracy\n",
    "train_acc_lst_m2, test_acc_lst_m2 = [], []\n",
    "for i in range(20):\n",
    "    X_m2_train, X_m2_test,Y_m2_train, Y_m2_test = train_test_split(X_m2, Y_m2, test_size =0.2)\n",
    "    lr_model_2 = LinearRegression()\n",
    "    lr_model_2.fit(X_m2_train, Y_m2_train)\n",
    "    train_acc_lst_m2.append(lr_model_2.score(X_m2_train, Y_m2_train))\n",
    "    test_acc_lst_m2.append(lr_model_2.score(X_m2_test, Y_m2_test))\n",
    "train_acc_lst, test_acc_lst = np.array(train_acc_lst_m2), np.array(test_acc_lst_m2)\n",
    "print(np.mean(train_acc_lst_m2), np.mean(test_acc_lst_m2))"
   ]
  },
  {
   "cell_type": "code",
   "execution_count": 82,
   "metadata": {},
   "outputs": [
    {
     "name": "stdout",
     "output_type": "stream",
     "text": [
      "0.49076008105404306 0.5052438946183064\n"
     ]
    }
   ],
   "source": [
    "# Model: Lasso Linear Regression\n",
    "# Data: Original Features\n",
    "\n",
    "from sklearn import linear_model\n",
    "from sklearn.model_selection import train_test_split\n",
    "\n",
    "coefficients_3 = []\n",
    "# Record Average Train and Validation Accuracy\n",
    "train_acc_lst_m3, test_acc_lst_m3 = [], []\n",
    "for i in range(20):\n",
    "    X_m3_train, X_m3_test,Y_m3_train, Y_m3_test = train_test_split(X_m1, Y_m1, test_size =0.2)\n",
    "    lr_model = linear_model.Lasso(alpha=0.01,max_iter=100000,tol=1e-1)\n",
    "    lr_model.fit(X_m3_train, Y_m3_train)\n",
    "    coefficients_3.append(lr_model.coef_)\n",
    "    train_acc_lst_m3.append(lr_model.score(X_m3_train, Y_m3_train))\n",
    "    test_acc_lst_m3.append(lr_model.score(X_m3_test, Y_m3_test))\n",
    "train_acc_lst_m3, test_acc_lst_m3 = np.array(train_acc_lst_m3), np.array(test_acc_lst_m3)\n",
    "print(np.mean(train_acc_lst_m3), np.mean(test_acc_lst_m3))\n",
    "lasso = pd.DataFrame({'Feature':X_m1_train.columns, \n",
    "              'mean coefficients' : sum(coefficients_3)/len(coefficients_3)})\n",
    "lasso.to_csv(\"lasso_coeffi.csv\",index=False)"
   ]
  },
  {
   "cell_type": "code",
   "execution_count": 15,
   "metadata": {},
   "outputs": [
    {
     "name": "stdout",
     "output_type": "stream",
     "text": [
      "0.41475430337243013 0.32302818683824197\n"
     ]
    }
   ],
   "source": [
    "# Model: Lasso Linear Regression\n",
    "# Data: Relative numerical features + one-hot categorical features\n",
    "\n",
    "from sklearn import linear_model\n",
    "from sklearn.model_selection import train_test_split\n",
    "\n",
    "# Record Average Train and Validation Accuracy\n",
    "train_acc_lst_m3, test_acc_lst_m3 = [], []\n",
    "for i in range(20):\n",
    "    X_m3_train, X_m3_test,Y_m3_train, Y_m3_test = train_test_split(X_m2, Y_m2, test_size =0.2)\n",
    "    lr_model = linear_model.Lasso(alpha=0.01,max_iter=100000,tol=1e-1)\n",
    "    lr_model.fit(X_m3_train, Y_m3_train)\n",
    "    train_acc_lst_m3.append(lr_model.score(X_m3_train, Y_m3_train))\n",
    "    test_acc_lst_m3.append(lr_model.score(X_m3_test, Y_m3_test))\n",
    "train_acc_lst_m3, test_acc_lst_m3 = np.array(train_acc_lst_m3), np.array(test_acc_lst_m3)\n",
    "print(np.mean(train_acc_lst_m3), np.mean(test_acc_lst_m3))"
   ]
  },
  {
   "cell_type": "code",
   "execution_count": 83,
   "metadata": {},
   "outputs": [
    {
     "name": "stdout",
     "output_type": "stream",
     "text": [
      "0.4935548632763428 0.4972161204278726\n"
     ]
    }
   ],
   "source": [
    "# Model: Ridge Linear Regression\n",
    "# Data: Original Features\n",
    "\n",
    "from sklearn import linear_model\n",
    "from sklearn.model_selection import train_test_split\n",
    "\n",
    "coefficients_5 = []\n",
    "# Record Average Train and Validation Accuracy\n",
    "train_acc_lst_m5, test_acc_lst_m5 = [], []\n",
    "for i in range(20):\n",
    "    X_m5_train, X_m5_test,Y_m5_train, Y_m5_test = train_test_split(X_m1, Y_m1, test_size =0.2)\n",
    "    lr_model = linear_model.Ridge(alpha=1.0,max_iter=100000,tol=1e-1)\n",
    "    lr_model.fit(X_m5_train, Y_m5_train)\n",
    "    coefficients_5.append(lr_model.coef_)\n",
    "    train_acc_lst_m5.append(lr_model.score(X_m5_train, Y_m5_train))\n",
    "    test_acc_lst_m5.append(lr_model.score(X_m5_test, Y_m5_test))\n",
    "train_acc_lst_m5, test_acc_lst_m5 = np.array(train_acc_lst_m5), np.array(test_acc_lst_m5)\n",
    "print(np.mean(train_acc_lst_m5), np.mean(test_acc_lst_m5))\n",
    "ridge = pd.DataFrame({'Feature':X_m1_train.columns, \n",
    "              'mean coefficients' : sum(coefficients_5)/len(coefficients_5)})\n",
    "ridge.to_csv(\"ridge_coeffi.csv\",index=False)"
   ]
  },
  {
   "cell_type": "code",
   "execution_count": 75,
   "metadata": {},
   "outputs": [
    {
     "data": {
      "text/plain": [
       "<matplotlib.legend.Legend at 0x7ff742493e80>"
      ]
     },
     "execution_count": 75,
     "metadata": {},
     "output_type": "execute_result"
    },
    {
     "data": {
      "image/png": "[encoded data removed]",
      "text/plain": [
       "<Figure size 1080x360 with 1 Axes>"
      ]
     },
     "metadata": {
      "needs_background": "light"
     },
     "output_type": "display_data"
    }
   ],
   "source": [
    "# Model: Decision Tree\n",
    "# Data: Original features\n",
    "\n",
    "import matplotlib.pyplot as plt\n",
    "from sklearn.model_selection import KFold\n",
    "from sklearn.model_selection import cross_val_score\n",
    "from sklearn import tree\n",
    "from sklearn.tree import DecisionTreeRegressor, export_graphviz\n",
    "import graphviz \n",
    "from graphviz import Source\n",
    "\n",
    "np.random.seed(42) \n",
    "\n",
    "cv = 5\n",
    "d_lst = np.arange(1, 21)\n",
    "mean_acc_score = []\n",
    "total_acc_score_lst = []\n",
    "for d in d_lst:\n",
    "    # train-test split; calculate validation score\n",
    "    clf = DecisionTreeRegressor(max_depth=d)\n",
    "    clf_score = cross_val_score(clf, X_m1, Y_m1, cv=cv) # scoring=\"R2\" by default\n",
    "#     print(\"d, clf_score\", d, clf_score)\n",
    "    # whole dataset\n",
    "    clf = DecisionTreeRegressor(max_depth=d)\n",
    "    clf.fit(X_m1, Y_m1)\n",
    "    total_acc = clf.score(X_m1, Y_m1)\n",
    "    mean_clf_score = np.mean(clf_score)\n",
    "    mean_acc_score.append(mean_clf_score)\n",
    "    total_acc_score_lst.append(total_acc)\n",
    "\n",
    "fig, ax = plt.subplots(figsize=(15,5))\n",
    "ax.plot(d_lst, mean_acc_score, label = \"Mean Validation R2\")\n",
    "ax.plot(d_lst, total_acc_score_lst, label = \"Entire Dataset R2\")\n",
    "\n",
    "ax.set_xlabel('Depth of Decision Tree')\n",
    "ax.set_ylabel('Mean %d-Fold R2 Score' % cv)\n",
    "ax.set_xticks(d_lst)\n",
    "ax.set_ylim(plt.ylim())\n",
    "ax.legend()"
   ]
  },
  {
   "cell_type": "code",
   "execution_count": 76,
   "metadata": {},
   "outputs": [
    {
     "data": {
      "text/plain": [
       "(0.7536168341553655, 0.8946870018550763)"
      ]
     },
     "execution_count": 76,
     "metadata": {},
     "output_type": "execute_result"
    }
   ],
   "source": [
    "mean_acc_score [8], total_acc_score_lst[8]"
   ]
  },
  {
   "cell_type": "code",
   "execution_count": 80,
   "metadata": {},
   "outputs": [
    {
     "data": {
      "text/plain": [
       "['edu',\n",
       " 'employ',\n",
       " 'LogGDPPerCapita',\n",
       " 'cbrt_income',\n",
       " 'pop',\n",
       " 'tax',\n",
       " 'Africa',\n",
       " 'Americas',\n",
       " 'Eastern Mediterranean',\n",
       " 'Europe',\n",
       " 'South-East Asia',\n",
       " 'Western Pacific',\n",
       " 'pca_1',\n",
       " 'pca_2',\n",
       " 'pca_3']"
      ]
     },
     "execution_count": 80,
     "metadata": {},
     "output_type": "execute_result"
    }
   ],
   "source": [
    "from sklearn import tree\n",
    "from sklearn.tree import DecisionTreeClassifier, export_text\n",
    "\n",
    "# Decision Tree feature importance\n",
    "clf = DecisionTreeRegressor(max_depth=9)\n",
    "clf.fit(X_m1, Y_m1)\n",
    "import_lst = clf.feature_importances_.nonzero()\n",
    "tree_rules = export_text(clf, feature_names=list(X_m1.columns))\n",
    "#print(tree_rules)\n",
    "\n",
    "predicted = clf.predict(X_m1, list(Y_m1))\n",
    "accuracy_df = pd.DataFrame({\"predicted\":predicted,\"truth\":Y_m1})\n",
    "\n",
    "fea_info = [[X_m1.columns[i],  clf.feature_importances_[i]] for i in range(len(X_m1.columns))]\n",
    "#pd.DataFrame(fea_info, columns=['Feature', 'Importance'])\n",
    "#list(X_m1.columns)"
   ]
  },
  {
   "cell_type": "code",
   "execution_count": 55,
   "metadata": {},
   "outputs": [
    {
     "data": {
      "image/png": "[encoded data removed]",
      "text/plain": [
       "<Figure size 432x288 with 1 Axes>"
      ]
     },
     "metadata": {
      "needs_background": "light"
     },
     "output_type": "display_data"
    }
   ],
   "source": [
    "import seaborn as sns\n",
    "fig = sns.regplot(data=accuracy_df, x=\"predicted\",y=\"truth\")"
   ]
  }
 ],
 "metadata": {
  "kernelspec": {
   "display_name": "Python 3",
   "language": "python",
   "name": "python3"
  },
  "language_info": {
   "codemirror_mode": {
    "name": "ipython",
    "version": 3
   },
   "file_extension": ".py",
   "mimetype": "text/x-python",
   "name": "python",
   "nbconvert_exporter": "python",
   "pygments_lexer": "ipython3",
   "version": "3.7.0"
  }
 },
 "nbformat": 4,
 "nbformat_minor": 4
}
