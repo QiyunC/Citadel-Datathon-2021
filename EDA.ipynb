{
 "cells": [
  {
   "cell_type": "code",
   "execution_count": 1,
   "id": "c76d5a46",
   "metadata": {},
   "outputs": [],
   "source": [
    "import pandas as pd\n",
    "\n",
    "import plotly\n",
    "import plotly.graph_objs as go\n",
    "import plotly.express as px\n",
    "from plotly.subplots import make_subplots\n",
    "import scipy"
   ]
  },
  {
   "cell_type": "code",
   "execution_count": 2,
   "id": "600b39cd",
   "metadata": {},
   "outputs": [],
   "source": [
    "data_dir = 'Datasets/'\n",
    "ww_use_df = pd.read_csv(data_dir + \"tobacco_use_ww.csv\")\n",
    "stop_smoking_df = pd.read_csv(data_dir + \"stop_smoking.csv\")\n",
    "death_df = pd.read_csv(data_dir + \"death_rates_smoking_age.csv\")\n",
    "extra_ww_df = pd.read_csv(\"extra_ww.csv\")"
   ]
  },
  {
   "cell_type": "markdown",
   "metadata": {},
   "source": [
    "## Worldwide tobacco use"
   ]
  },
  {
   "cell_type": "code",
   "execution_count": 3,
   "metadata": {},
   "outputs": [
    {
     "data": {
      "text/html": [
       "<div>\n",
       "<style scoped>\n",
       "    .dataframe tbody tr th:only-of-type {\n",
       "        vertical-align: middle;\n",
       "    }\n",
       "\n",
       "    .dataframe tbody tr th {\n",
       "        vertical-align: top;\n",
       "    }\n",
       "\n",
       "    .dataframe thead th {\n",
       "        text-align: right;\n",
       "    }\n",
       "</style>\n",
       "<table border=\"1\" class=\"dataframe\">\n",
       "  <thead>\n",
       "    <tr style=\"text-align: right;\">\n",
       "      <th></th>\n",
       "      <th>ParentLocationCode</th>\n",
       "      <th>ParentLocation</th>\n",
       "      <th>SpatialDimValueCode</th>\n",
       "      <th>Location</th>\n",
       "      <th>Year</th>\n",
       "      <th>Gender</th>\n",
       "      <th>Value</th>\n",
       "    </tr>\n",
       "  </thead>\n",
       "  <tbody>\n",
       "    <tr>\n",
       "      <th>0</th>\n",
       "      <td>SEAR</td>\n",
       "      <td>South-East Asia</td>\n",
       "      <td>PRK</td>\n",
       "      <td>Democratic People's Republic of Korea</td>\n",
       "      <td>2018</td>\n",
       "      <td>Female</td>\n",
       "      <td>0.0</td>\n",
       "    </tr>\n",
       "    <tr>\n",
       "      <th>1</th>\n",
       "      <td>EUR</td>\n",
       "      <td>Europe</td>\n",
       "      <td>AZE</td>\n",
       "      <td>Azerbaijan</td>\n",
       "      <td>2018</td>\n",
       "      <td>Female</td>\n",
       "      <td>0.2</td>\n",
       "    </tr>\n",
       "    <tr>\n",
       "      <th>2</th>\n",
       "      <td>AFR</td>\n",
       "      <td>Africa</td>\n",
       "      <td>ERI</td>\n",
       "      <td>Eritrea</td>\n",
       "      <td>2018</td>\n",
       "      <td>Female</td>\n",
       "      <td>0.3</td>\n",
       "    </tr>\n",
       "    <tr>\n",
       "      <th>3</th>\n",
       "      <td>EMR</td>\n",
       "      <td>Eastern Mediterranean</td>\n",
       "      <td>EGY</td>\n",
       "      <td>Egypt</td>\n",
       "      <td>2018</td>\n",
       "      <td>Female</td>\n",
       "      <td>0.4</td>\n",
       "    </tr>\n",
       "    <tr>\n",
       "      <th>4</th>\n",
       "      <td>AFR</td>\n",
       "      <td>Africa</td>\n",
       "      <td>GHA</td>\n",
       "      <td>Ghana</td>\n",
       "      <td>2018</td>\n",
       "      <td>Female</td>\n",
       "      <td>0.4</td>\n",
       "    </tr>\n",
       "    <tr>\n",
       "      <th>...</th>\n",
       "      <td>...</td>\n",
       "      <td>...</td>\n",
       "      <td>...</td>\n",
       "      <td>...</td>\n",
       "      <td>...</td>\n",
       "      <td>...</td>\n",
       "      <td>...</td>\n",
       "    </tr>\n",
       "    <tr>\n",
       "      <th>4018</th>\n",
       "      <td>WPR</td>\n",
       "      <td>Western Pacific</td>\n",
       "      <td>TUV</td>\n",
       "      <td>Tuvalu</td>\n",
       "      <td>2000</td>\n",
       "      <td>Male</td>\n",
       "      <td>84.6</td>\n",
       "    </tr>\n",
       "    <tr>\n",
       "      <th>4019</th>\n",
       "      <td>AMR</td>\n",
       "      <td>Americas</td>\n",
       "      <td>JAM</td>\n",
       "      <td>Jamaica</td>\n",
       "      <td>2000</td>\n",
       "      <td>Female</td>\n",
       "      <td>9.1</td>\n",
       "    </tr>\n",
       "    <tr>\n",
       "      <th>4020</th>\n",
       "      <td>AFR</td>\n",
       "      <td>Africa</td>\n",
       "      <td>STP</td>\n",
       "      <td>Sao Tome and Principe</td>\n",
       "      <td>2000</td>\n",
       "      <td>Male</td>\n",
       "      <td>9.2</td>\n",
       "    </tr>\n",
       "    <tr>\n",
       "      <th>4021</th>\n",
       "      <td>EMR</td>\n",
       "      <td>Eastern Mediterranean</td>\n",
       "      <td>OMN</td>\n",
       "      <td>Oman</td>\n",
       "      <td>2000</td>\n",
       "      <td>Both sexes</td>\n",
       "      <td>9.5</td>\n",
       "    </tr>\n",
       "    <tr>\n",
       "      <th>4022</th>\n",
       "      <td>SEAR</td>\n",
       "      <td>South-East Asia</td>\n",
       "      <td>TLS</td>\n",
       "      <td>Timor-Leste</td>\n",
       "      <td>2000</td>\n",
       "      <td>Male</td>\n",
       "      <td>91.0</td>\n",
       "    </tr>\n",
       "  </tbody>\n",
       "</table>\n",
       "<p>4023 rows × 7 columns</p>\n",
       "</div>"
      ],
      "text/plain": [
       "     ParentLocationCode         ParentLocation SpatialDimValueCode  \\\n",
       "0                  SEAR        South-East Asia                 PRK   \n",
       "1                   EUR                 Europe                 AZE   \n",
       "2                   AFR                 Africa                 ERI   \n",
       "3                   EMR  Eastern Mediterranean                 EGY   \n",
       "4                   AFR                 Africa                 GHA   \n",
       "...                 ...                    ...                 ...   \n",
       "4018                WPR        Western Pacific                 TUV   \n",
       "4019                AMR               Americas                 JAM   \n",
       "4020                AFR                 Africa                 STP   \n",
       "4021                EMR  Eastern Mediterranean                 OMN   \n",
       "4022               SEAR        South-East Asia                 TLS   \n",
       "\n",
       "                                   Location  Year      Gender  Value  \n",
       "0     Democratic People's Republic of Korea  2018      Female    0.0  \n",
       "1                                Azerbaijan  2018      Female    0.2  \n",
       "2                                   Eritrea  2018      Female    0.3  \n",
       "3                                     Egypt  2018      Female    0.4  \n",
       "4                                     Ghana  2018      Female    0.4  \n",
       "...                                     ...   ...         ...    ...  \n",
       "4018                                 Tuvalu  2000        Male   84.6  \n",
       "4019                                Jamaica  2000      Female    9.1  \n",
       "4020                  Sao Tome and Principe  2000        Male    9.2  \n",
       "4021                                   Oman  2000  Both sexes    9.5  \n",
       "4022                            Timor-Leste  2000        Male   91.0  \n",
       "\n",
       "[4023 rows x 7 columns]"
      ]
     },
     "execution_count": 3,
     "metadata": {},
     "output_type": "execute_result"
    }
   ],
   "source": [
    "ww_use_df"
   ]
  },
  {
   "cell_type": "code",
   "execution_count": 4,
   "metadata": {},
   "outputs": [],
   "source": [
    "def plot_country_use(country_name):\n",
    "    country_df = ww_use_df[ww_use_df[\"Location\"] == country_name]\n",
    "    fig = px.line(country_df.query(\"Gender == 'Both sexes'\"), x=\"Year\", y=\"Value\", markers=True, title=country_name)\n",
    "    fig.show()\n"
   ]
  },
  {
   "cell_type": "code",
   "execution_count": 5,
   "metadata": {},
   "outputs": [
    {
     "data": {
      "application/vnd.plotly.v1+json": {
       "config": {
        "plotlyServerURL": "https://plot.ly"
       },
       "data": [
        {
         "hovertemplate": "Year=%{x}<br>Value=%{y}<extra></extra>",
         "legendgroup": "",
         "line": {
          "color": "#636efa",
          "dash": "solid"
         },
         "marker": {
          "symbol": "circle"
         },
         "mode": "markers+lines",
         "name": "",
         "orientation": "v",
         "showlegend": false,
         "type": "scatter",
         "x": [
          2018,
          2017,
          2016,
          2015,
          2014,
          2013,
          2010,
          2005,
          2000
         ],
         "xaxis": "x",
         "y": [
          17.5,
          18.3,
          19.1,
          20,
          20.7,
          21.8,
          24.7,
          30.7,
          37.9
         ],
         "yaxis": "y"
        }
       ],
       "layout": {
        "legend": {
         "tracegroupgap": 0
        },
        "template": {
         "data": {
          "bar": [
           {
            "error_x": {
             "color": "#2a3f5f"
            },
            "error_y": {
             "color": "#2a3f5f"
            },
            "marker": {
             "line": {
              "color": "#E5ECF6",
              "width": 0.5
             },
             "pattern": {
              "fillmode": "overlay",
              "size": 10,
              "solidity": 0.2
             }
            },
            "type": "bar"
           }
          ],
          "barpolar": [
           {
            "marker": {
             "line": {
              "color": "#E5ECF6",
              "width": 0.5
             },
             "pattern": {
              "fillmode": "overlay",
              "size": 10,
              "solidity": 0.2
             }
            },
            "type": "barpolar"
           }
          ],
          "carpet": [
           {
            "aaxis": {
             "endlinecolor": "#2a3f5f",
             "gridcolor": "white",
             "linecolor": "white",
             "minorgridcolor": "white",
             "startlinecolor": "#2a3f5f"
            },
            "baxis": {
             "endlinecolor": "#2a3f5f",
             "gridcolor": "white",
             "linecolor": "white",
             "minorgridcolor": "white",
             "startlinecolor": "#2a3f5f"
            },
            "type": "carpet"
           }
          ],
          "choropleth": [
           {
            "colorbar": {
             "outlinewidth": 0,
             "ticks": ""
            },
            "type": "choropleth"
           }
          ],
          "contour": [
           {
            "colorbar": {
             "outlinewidth": 0,
             "ticks": ""
            },
            "colorscale": [
             [
              0,
              "#0d0887"
             ],
             [
              0.1111111111111111,
              "#46039f"
             ],
             [
              0.2222222222222222,
              "#7201a8"
             ],
             [
              0.3333333333333333,
              "#9c179e"
             ],
             [
              0.4444444444444444,
              "#bd3786"
             ],
             [
              0.5555555555555556,
              "#d8576b"
             ],
             [
              0.6666666666666666,
              "#ed7953"
             ],
             [
              0.7777777777777778,
              "#fb9f3a"
             ],
             [
              0.8888888888888888,
              "#fdca26"
             ],
             [
              1,
              "#f0f921"
             ]
            ],
            "type": "contour"
           }
          ],
          "contourcarpet": [
           {
            "colorbar": {
             "outlinewidth": 0,
             "ticks": ""
            },
            "type": "contourcarpet"
           }
          ],
          "heatmap": [
           {
            "colorbar": {
             "outlinewidth": 0,
             "ticks": ""
            },
            "colorscale": [
             [
              0,
              "#0d0887"
             ],
             [
              0.1111111111111111,
              "#46039f"
             ],
             [
              0.2222222222222222,
              "#7201a8"
             ],
             [
              0.3333333333333333,
              "#9c179e"
             ],
             [
              0.4444444444444444,
              "#bd3786"
             ],
             [
              0.5555555555555556,
              "#d8576b"
             ],
             [
              0.6666666666666666,
              "#ed7953"
             ],
             [
              0.7777777777777778,
              "#fb9f3a"
             ],
             [
              0.8888888888888888,
              "#fdca26"
             ],
             [
              1,
              "#f0f921"
             ]
            ],
            "type": "heatmap"
           }
          ],
          "heatmapgl": [
           {
            "colorbar": {
             "outlinewidth": 0,
             "ticks": ""
            },
            "colorscale": [
             [
              0,
              "#0d0887"
             ],
             [
              0.1111111111111111,
              "#46039f"
             ],
             [
              0.2222222222222222,
              "#7201a8"
             ],
             [
              0.3333333333333333,
              "#9c179e"
             ],
             [
              0.4444444444444444,
              "#bd3786"
             ],
             [
              0.5555555555555556,
              "#d8576b"
             ],
             [
              0.6666666666666666,
              "#ed7953"
             ],
             [
              0.7777777777777778,
              "#fb9f3a"
             ],
             [
              0.8888888888888888,
              "#fdca26"
             ],
             [
              1,
              "#f0f921"
             ]
            ],
            "type": "heatmapgl"
           }
          ],
          "histogram": [
           {
            "marker": {
             "pattern": {
              "fillmode": "overlay",
              "size": 10,
              "solidity": 0.2
             }
            },
            "type": "histogram"
           }
          ],
          "histogram2d": [
           {
            "colorbar": {
             "outlinewidth": 0,
             "ticks": ""
            },
            "colorscale": [
             [
              0,
              "#0d0887"
             ],
             [
              0.1111111111111111,
              "#46039f"
             ],
             [
              0.2222222222222222,
              "#7201a8"
             ],
             [
              0.3333333333333333,
              "#9c179e"
             ],
             [
              0.4444444444444444,
              "#bd3786"
             ],
             [
              0.5555555555555556,
              "#d8576b"
             ],
             [
              0.6666666666666666,
              "#ed7953"
             ],
             [
              0.7777777777777778,
              "#fb9f3a"
             ],
             [
              0.8888888888888888,
              "#fdca26"
             ],
             [
              1,
              "#f0f921"
             ]
            ],
            "type": "histogram2d"
           }
          ],
          "histogram2dcontour": [
           {
            "colorbar": {
             "outlinewidth": 0,
             "ticks": ""
            },
            "colorscale": [
             [
              0,
              "#0d0887"
             ],
             [
              0.1111111111111111,
              "#46039f"
             ],
             [
              0.2222222222222222,
              "#7201a8"
             ],
             [
              0.3333333333333333,
              "#9c179e"
             ],
             [
              0.4444444444444444,
              "#bd3786"
             ],
             [
              0.5555555555555556,
              "#d8576b"
             ],
             [
              0.6666666666666666,
              "#ed7953"
             ],
             [
              0.7777777777777778,
              "#fb9f3a"
             ],
             [
              0.8888888888888888,
              "#fdca26"
             ],
             [
              1,
              "#f0f921"
             ]
            ],
            "type": "histogram2dcontour"
           }
          ],
          "mesh3d": [
           {
            "colorbar": {
             "outlinewidth": 0,
             "ticks": ""
            },
            "type": "mesh3d"
           }
          ],
          "parcoords": [
           {
            "line": {
             "colorbar": {
              "outlinewidth": 0,
              "ticks": ""
             }
            },
            "type": "parcoords"
           }
          ],
          "pie": [
           {
            "automargin": true,
            "type": "pie"
           }
          ],
          "scatter": [
           {
            "marker": {
             "colorbar": {
              "outlinewidth": 0,
              "ticks": ""
             }
            },
            "type": "scatter"
           }
          ],
          "scatter3d": [
           {
            "line": {
             "colorbar": {
              "outlinewidth": 0,
              "ticks": ""
             }
            },
            "marker": {
             "colorbar": {
              "outlinewidth": 0,
              "ticks": ""
             }
            },
            "type": "scatter3d"
           }
          ],
          "scattercarpet": [
           {
            "marker": {
             "colorbar": {
              "outlinewidth": 0,
              "ticks": ""
             }
            },
            "type": "scattercarpet"
           }
          ],
          "scattergeo": [
           {
            "marker": {
             "colorbar": {
              "outlinewidth": 0,
              "ticks": ""
             }
            },
            "type": "scattergeo"
           }
          ],
          "scattergl": [
           {
            "marker": {
             "colorbar": {
              "outlinewidth": 0,
              "ticks": ""
             }
            },
            "type": "scattergl"
           }
          ],
          "scattermapbox": [
           {
            "marker": {
             "colorbar": {
              "outlinewidth": 0,
              "ticks": ""
             }
            },
            "type": "scattermapbox"
           }
          ],
          "scatterpolar": [
           {
            "marker": {
             "colorbar": {
              "outlinewidth": 0,
              "ticks": ""
             }
            },
            "type": "scatterpolar"
           }
          ],
          "scatterpolargl": [
           {
            "marker": {
             "colorbar": {
              "outlinewidth": 0,
              "ticks": ""
             }
            },
            "type": "scatterpolargl"
           }
          ],
          "scatterternary": [
           {
            "marker": {
             "colorbar": {
              "outlinewidth": 0,
              "ticks": ""
             }
            },
            "type": "scatterternary"
           }
          ],
          "surface": [
           {
            "colorbar": {
             "outlinewidth": 0,
             "ticks": ""
            },
            "colorscale": [
             [
              0,
              "#0d0887"
             ],
             [
              0.1111111111111111,
              "#46039f"
             ],
             [
              0.2222222222222222,
              "#7201a8"
             ],
             [
              0.3333333333333333,
              "#9c179e"
             ],
             [
              0.4444444444444444,
              "#bd3786"
             ],
             [
              0.5555555555555556,
              "#d8576b"
             ],
             [
              0.6666666666666666,
              "#ed7953"
             ],
             [
              0.7777777777777778,
              "#fb9f3a"
             ],
             [
              0.8888888888888888,
              "#fdca26"
             ],
             [
              1,
              "#f0f921"
             ]
            ],
            "type": "surface"
           }
          ],
          "table": [
           {
            "cells": {
             "fill": {
              "color": "#EBF0F8"
             },
             "line": {
              "color": "white"
             }
            },
            "header": {
             "fill": {
              "color": "#C8D4E3"
             },
             "line": {
              "color": "white"
             }
            },
            "type": "table"
           }
          ]
         },
         "layout": {
          "annotationdefaults": {
           "arrowcolor": "#2a3f5f",
           "arrowhead": 0,
           "arrowwidth": 1
          },
          "autotypenumbers": "strict",
          "coloraxis": {
           "colorbar": {
            "outlinewidth": 0,
            "ticks": ""
           }
          },
          "colorscale": {
           "diverging": [
            [
             0,
             "#8e0152"
            ],
            [
             0.1,
             "#c51b7d"
            ],
            [
             0.2,
             "#de77ae"
            ],
            [
             0.3,
             "#f1b6da"
            ],
            [
             0.4,
             "#fde0ef"
            ],
            [
             0.5,
             "#f7f7f7"
            ],
            [
             0.6,
             "#e6f5d0"
            ],
            [
             0.7,
             "#b8e186"
            ],
            [
             0.8,
             "#7fbc41"
            ],
            [
             0.9,
             "#4d9221"
            ],
            [
             1,
             "#276419"
            ]
           ],
           "sequential": [
            [
             0,
             "#0d0887"
            ],
            [
             0.1111111111111111,
             "#46039f"
            ],
            [
             0.2222222222222222,
             "#7201a8"
            ],
            [
             0.3333333333333333,
             "#9c179e"
            ],
            [
             0.4444444444444444,
             "#bd3786"
            ],
            [
             0.5555555555555556,
             "#d8576b"
            ],
            [
             0.6666666666666666,
             "#ed7953"
            ],
            [
             0.7777777777777778,
             "#fb9f3a"
            ],
            [
             0.8888888888888888,
             "#fdca26"
            ],
            [
             1,
             "#f0f921"
            ]
           ],
           "sequentialminus": [
            [
             0,
             "#0d0887"
            ],
            [
             0.1111111111111111,
             "#46039f"
            ],
            [
             0.2222222222222222,
             "#7201a8"
            ],
            [
             0.3333333333333333,
             "#9c179e"
            ],
            [
             0.4444444444444444,
             "#bd3786"
            ],
            [
             0.5555555555555556,
             "#d8576b"
            ],
            [
             0.6666666666666666,
             "#ed7953"
            ],
            [
             0.7777777777777778,
             "#fb9f3a"
            ],
            [
             0.8888888888888888,
             "#fdca26"
            ],
            [
             1,
             "#f0f921"
            ]
           ]
          },
          "colorway": [
           "#636efa",
           "#EF553B",
           "#00cc96",
           "#ab63fa",
           "#FFA15A",
           "#19d3f3",
           "#FF6692",
           "#B6E880",
           "#FF97FF",
           "#FECB52"
          ],
          "font": {
           "color": "#2a3f5f"
          },
          "geo": {
           "bgcolor": "white",
           "lakecolor": "white",
           "landcolor": "#E5ECF6",
           "showlakes": true,
           "showland": true,
           "subunitcolor": "white"
          },
          "hoverlabel": {
           "align": "left"
          },
          "hovermode": "closest",
          "mapbox": {
           "style": "light"
          },
          "paper_bgcolor": "white",
          "plot_bgcolor": "#E5ECF6",
          "polar": {
           "angularaxis": {
            "gridcolor": "white",
            "linecolor": "white",
            "ticks": ""
           },
           "bgcolor": "#E5ECF6",
           "radialaxis": {
            "gridcolor": "white",
            "linecolor": "white",
            "ticks": ""
           }
          },
          "scene": {
           "xaxis": {
            "backgroundcolor": "#E5ECF6",
            "gridcolor": "white",
            "gridwidth": 2,
            "linecolor": "white",
            "showbackground": true,
            "ticks": "",
            "zerolinecolor": "white"
           },
           "yaxis": {
            "backgroundcolor": "#E5ECF6",
            "gridcolor": "white",
            "gridwidth": 2,
            "linecolor": "white",
            "showbackground": true,
            "ticks": "",
            "zerolinecolor": "white"
           },
           "zaxis": {
            "backgroundcolor": "#E5ECF6",
            "gridcolor": "white",
            "gridwidth": 2,
            "linecolor": "white",
            "showbackground": true,
            "ticks": "",
            "zerolinecolor": "white"
           }
          },
          "shapedefaults": {
           "line": {
            "color": "#2a3f5f"
           }
          },
          "ternary": {
           "aaxis": {
            "gridcolor": "white",
            "linecolor": "white",
            "ticks": ""
           },
           "baxis": {
            "gridcolor": "white",
            "linecolor": "white",
            "ticks": ""
           },
           "bgcolor": "#E5ECF6",
           "caxis": {
            "gridcolor": "white",
            "linecolor": "white",
            "ticks": ""
           }
          },
          "title": {
           "x": 0.05
          },
          "xaxis": {
           "automargin": true,
           "gridcolor": "white",
           "linecolor": "white",
           "ticks": "",
           "title": {
            "standoff": 15
           },
           "zerolinecolor": "white",
           "zerolinewidth": 2
          },
          "yaxis": {
           "automargin": true,
           "gridcolor": "white",
           "linecolor": "white",
           "ticks": "",
           "title": {
            "standoff": 15
           },
           "zerolinecolor": "white",
           "zerolinewidth": 2
          }
         }
        },
        "title": {
         "text": "Canada"
        },
        "xaxis": {
         "anchor": "y",
         "domain": [
          0,
          1
         ],
         "title": {
          "text": "Year"
         }
        },
        "yaxis": {
         "anchor": "x",
         "domain": [
          0,
          1
         ],
         "title": {
          "text": "Value"
         }
        }
       }
      }
     },
     "metadata": {},
     "output_type": "display_data"
    }
   ],
   "source": [
    "plot_country_use(\"Canada\")"
   ]
  },
  {
   "cell_type": "markdown",
   "metadata": {},
   "source": [
    "## Regulations"
   ]
  },
  {
   "cell_type": "markdown",
   "id": "3e3b928f",
   "metadata": {},
   "source": [
    "Notes\n",
    "\n",
    "- We should compare cigarette tax with baseline taxes"
   ]
  },
  {
   "cell_type": "code",
   "execution_count": 6,
   "id": "b1732023",
   "metadata": {},
   "outputs": [
    {
     "data": {
      "text/html": [
       "<div>\n",
       "<style scoped>\n",
       "    .dataframe tbody tr th:only-of-type {\n",
       "        vertical-align: middle;\n",
       "    }\n",
       "\n",
       "    .dataframe tbody tr th {\n",
       "        vertical-align: top;\n",
       "    }\n",
       "\n",
       "    .dataframe thead th {\n",
       "        text-align: right;\n",
       "    }\n",
       "</style>\n",
       "<table border=\"1\" class=\"dataframe\">\n",
       "  <thead>\n",
       "    <tr style=\"text-align: right;\">\n",
       "      <th></th>\n",
       "      <th>Entity</th>\n",
       "      <th>Code</th>\n",
       "      <th>Year</th>\n",
       "      <th>AvgCigarettePriceDollars</th>\n",
       "      <th>AvgTaxesAsPctCigarettePrice</th>\n",
       "      <th>EnforceBansTobaccoAd</th>\n",
       "      <th>HelpToQuit</th>\n",
       "    </tr>\n",
       "  </thead>\n",
       "  <tbody>\n",
       "    <tr>\n",
       "      <th>0</th>\n",
       "      <td>Algeria</td>\n",
       "      <td>DZA</td>\n",
       "      <td>2012</td>\n",
       "      <td>1.84</td>\n",
       "      <td>47.0</td>\n",
       "      <td>4</td>\n",
       "      <td>3</td>\n",
       "    </tr>\n",
       "    <tr>\n",
       "      <th>1</th>\n",
       "      <td>Algeria</td>\n",
       "      <td>DZA</td>\n",
       "      <td>2014</td>\n",
       "      <td>2.09</td>\n",
       "      <td>40.9</td>\n",
       "      <td>4</td>\n",
       "      <td>4</td>\n",
       "    </tr>\n",
       "    <tr>\n",
       "      <th>2</th>\n",
       "      <td>Argentina</td>\n",
       "      <td>ARG</td>\n",
       "      <td>2012</td>\n",
       "      <td>2.79</td>\n",
       "      <td>69.9</td>\n",
       "      <td>4</td>\n",
       "      <td>4</td>\n",
       "    </tr>\n",
       "    <tr>\n",
       "      <th>3</th>\n",
       "      <td>Argentina</td>\n",
       "      <td>ARG</td>\n",
       "      <td>2014</td>\n",
       "      <td>3.47</td>\n",
       "      <td>69.7</td>\n",
       "      <td>4</td>\n",
       "      <td>5</td>\n",
       "    </tr>\n",
       "    <tr>\n",
       "      <th>4</th>\n",
       "      <td>Armenia</td>\n",
       "      <td>ARM</td>\n",
       "      <td>2012</td>\n",
       "      <td>1.69</td>\n",
       "      <td>38.4</td>\n",
       "      <td>2</td>\n",
       "      <td>4</td>\n",
       "    </tr>\n",
       "    <tr>\n",
       "      <th>...</th>\n",
       "      <td>...</td>\n",
       "      <td>...</td>\n",
       "      <td>...</td>\n",
       "      <td>...</td>\n",
       "      <td>...</td>\n",
       "      <td>...</td>\n",
       "      <td>...</td>\n",
       "    </tr>\n",
       "    <tr>\n",
       "      <th>769</th>\n",
       "      <td>Yemen</td>\n",
       "      <td>YEM</td>\n",
       "      <td>2010</td>\n",
       "      <td>NaN</td>\n",
       "      <td>NaN</td>\n",
       "      <td>4</td>\n",
       "      <td>3</td>\n",
       "    </tr>\n",
       "    <tr>\n",
       "      <th>770</th>\n",
       "      <td>Zambia</td>\n",
       "      <td>ZMB</td>\n",
       "      <td>2007</td>\n",
       "      <td>NaN</td>\n",
       "      <td>NaN</td>\n",
       "      <td>2</td>\n",
       "      <td>3</td>\n",
       "    </tr>\n",
       "    <tr>\n",
       "      <th>771</th>\n",
       "      <td>Zambia</td>\n",
       "      <td>ZMB</td>\n",
       "      <td>2010</td>\n",
       "      <td>NaN</td>\n",
       "      <td>NaN</td>\n",
       "      <td>2</td>\n",
       "      <td>3</td>\n",
       "    </tr>\n",
       "    <tr>\n",
       "      <th>772</th>\n",
       "      <td>Zimbabwe</td>\n",
       "      <td>ZWE</td>\n",
       "      <td>2007</td>\n",
       "      <td>NaN</td>\n",
       "      <td>NaN</td>\n",
       "      <td>2</td>\n",
       "      <td>3</td>\n",
       "    </tr>\n",
       "    <tr>\n",
       "      <th>773</th>\n",
       "      <td>Zimbabwe</td>\n",
       "      <td>ZWE</td>\n",
       "      <td>2010</td>\n",
       "      <td>NaN</td>\n",
       "      <td>NaN</td>\n",
       "      <td>2</td>\n",
       "      <td>3</td>\n",
       "    </tr>\n",
       "  </tbody>\n",
       "</table>\n",
       "<p>774 rows × 7 columns</p>\n",
       "</div>"
      ],
      "text/plain": [
       "        Entity Code  Year  AvgCigarettePriceDollars  \\\n",
       "0      Algeria  DZA  2012                      1.84   \n",
       "1      Algeria  DZA  2014                      2.09   \n",
       "2    Argentina  ARG  2012                      2.79   \n",
       "3    Argentina  ARG  2014                      3.47   \n",
       "4      Armenia  ARM  2012                      1.69   \n",
       "..         ...  ...   ...                       ...   \n",
       "769      Yemen  YEM  2010                       NaN   \n",
       "770     Zambia  ZMB  2007                       NaN   \n",
       "771     Zambia  ZMB  2010                       NaN   \n",
       "772   Zimbabwe  ZWE  2007                       NaN   \n",
       "773   Zimbabwe  ZWE  2010                       NaN   \n",
       "\n",
       "     AvgTaxesAsPctCigarettePrice  EnforceBansTobaccoAd  HelpToQuit  \n",
       "0                           47.0                     4           3  \n",
       "1                           40.9                     4           4  \n",
       "2                           69.9                     4           4  \n",
       "3                           69.7                     4           5  \n",
       "4                           38.4                     2           4  \n",
       "..                           ...                   ...         ...  \n",
       "769                          NaN                     4           3  \n",
       "770                          NaN                     2           3  \n",
       "771                          NaN                     2           3  \n",
       "772                          NaN                     2           3  \n",
       "773                          NaN                     2           3  \n",
       "\n",
       "[774 rows x 7 columns]"
      ]
     },
     "execution_count": 6,
     "metadata": {},
     "output_type": "execute_result"
    }
   ],
   "source": [
    "stop_smoking_df"
   ]
  },
  {
   "cell_type": "code",
   "execution_count": 9,
   "id": "45ab5bcc",
   "metadata": {},
   "outputs": [
    {
     "data": {
      "text/html": [
       "<div>\n",
       "<style scoped>\n",
       "    .dataframe tbody tr th:only-of-type {\n",
       "        vertical-align: middle;\n",
       "    }\n",
       "\n",
       "    .dataframe tbody tr th {\n",
       "        vertical-align: top;\n",
       "    }\n",
       "\n",
       "    .dataframe thead th {\n",
       "        text-align: right;\n",
       "    }\n",
       "</style>\n",
       "<table border=\"1\" class=\"dataframe\">\n",
       "  <thead>\n",
       "    <tr style=\"text-align: right;\">\n",
       "      <th></th>\n",
       "      <th>Year</th>\n",
       "      <th>AvgCigarettePriceDollars</th>\n",
       "      <th>AvgTaxesAsPctCigarettePrice</th>\n",
       "      <th>EnforceBansTobaccoAd</th>\n",
       "      <th>HelpToQuit</th>\n",
       "    </tr>\n",
       "  </thead>\n",
       "  <tbody>\n",
       "    <tr>\n",
       "      <th>count</th>\n",
       "      <td>774.000000</td>\n",
       "      <td>208.000000</td>\n",
       "      <td>209.000000</td>\n",
       "      <td>774.000000</td>\n",
       "      <td>774.000000</td>\n",
       "    </tr>\n",
       "    <tr>\n",
       "      <th>mean</th>\n",
       "      <td>2010.755814</td>\n",
       "      <td>4.336394</td>\n",
       "      <td>57.339234</td>\n",
       "      <td>3.313953</td>\n",
       "      <td>3.493540</td>\n",
       "    </tr>\n",
       "    <tr>\n",
       "      <th>std</th>\n",
       "      <td>2.587373</td>\n",
       "      <td>2.534659</td>\n",
       "      <td>20.403278</td>\n",
       "      <td>1.088995</td>\n",
       "      <td>0.807042</td>\n",
       "    </tr>\n",
       "    <tr>\n",
       "      <th>min</th>\n",
       "      <td>2007.000000</td>\n",
       "      <td>0.000000</td>\n",
       "      <td>0.000000</td>\n",
       "      <td>2.000000</td>\n",
       "      <td>1.000000</td>\n",
       "    </tr>\n",
       "    <tr>\n",
       "      <th>25%</th>\n",
       "      <td>2010.000000</td>\n",
       "      <td>2.195000</td>\n",
       "      <td>42.900000</td>\n",
       "      <td>2.000000</td>\n",
       "      <td>3.000000</td>\n",
       "    </tr>\n",
       "    <tr>\n",
       "      <th>50%</th>\n",
       "      <td>2012.000000</td>\n",
       "      <td>4.155000</td>\n",
       "      <td>62.400000</td>\n",
       "      <td>4.000000</td>\n",
       "      <td>4.000000</td>\n",
       "    </tr>\n",
       "    <tr>\n",
       "      <th>75%</th>\n",
       "      <td>2013.500000</td>\n",
       "      <td>5.767500</td>\n",
       "      <td>75.200000</td>\n",
       "      <td>4.000000</td>\n",
       "      <td>4.000000</td>\n",
       "    </tr>\n",
       "    <tr>\n",
       "      <th>max</th>\n",
       "      <td>2014.000000</td>\n",
       "      <td>13.000000</td>\n",
       "      <td>86.400000</td>\n",
       "      <td>5.000000</td>\n",
       "      <td>5.000000</td>\n",
       "    </tr>\n",
       "  </tbody>\n",
       "</table>\n",
       "</div>"
      ],
      "text/plain": [
       "              Year  AvgCigarettePriceDollars  AvgTaxesAsPctCigarettePrice  \\\n",
       "count   774.000000                208.000000                   209.000000   \n",
       "mean   2010.755814                  4.336394                    57.339234   \n",
       "std       2.587373                  2.534659                    20.403278   \n",
       "min    2007.000000                  0.000000                     0.000000   \n",
       "25%    2010.000000                  2.195000                    42.900000   \n",
       "50%    2012.000000                  4.155000                    62.400000   \n",
       "75%    2013.500000                  5.767500                    75.200000   \n",
       "max    2014.000000                 13.000000                    86.400000   \n",
       "\n",
       "       EnforceBansTobaccoAd  HelpToQuit  \n",
       "count            774.000000  774.000000  \n",
       "mean               3.313953    3.493540  \n",
       "std                1.088995    0.807042  \n",
       "min                2.000000    1.000000  \n",
       "25%                2.000000    3.000000  \n",
       "50%                4.000000    4.000000  \n",
       "75%                4.000000    4.000000  \n",
       "max                5.000000    5.000000  "
      ]
     },
     "execution_count": 9,
     "metadata": {},
     "output_type": "execute_result"
    }
   ],
   "source": [
    "stop_smoking_df.describe()"
   ]
  },
  {
   "cell_type": "code",
   "execution_count": 10,
   "id": "b73d39b6",
   "metadata": {},
   "outputs": [],
   "source": [
    "stop_smoking_df[\"HelpSize\"] = (stop_smoking_df[\"HelpToQuit\"] / 5.) ** 2"
   ]
  },
  {
   "cell_type": "code",
   "execution_count": 11,
   "id": "4fdf620a",
   "metadata": {},
   "outputs": [
    {
     "data": {
      "application/vnd.plotly.v1+json": {
       "config": {
        "plotlyServerURL": "https://plot.ly"
       },
       "data": [
        {
         "hovertemplate": "<b>%{hovertext}</b><br><br>AvgTaxesAsPctCigarettePrice=%{x}<br>EnforceBansTobaccoAd=%{y}<br>HelpSize=%{marker.size}<extra></extra>",
         "hovertext": [
          "Algeria",
          "Algeria",
          "Argentina",
          "Argentina",
          "Armenia",
          "Armenia",
          "Australia",
          "Australia",
          "Austria",
          "Austria",
          "Azerbaijan",
          "Azerbaijan",
          "Bahamas",
          "Bangladesh",
          "Bangladesh",
          "Belarus",
          "Belarus",
          "Belgium",
          "Belgium",
          "Belize",
          "Bolivia",
          "Bolivia",
          "Bosnia and Herzegovina",
          "Bosnia and Herzegovina",
          "Brazil",
          "Brazil",
          "Bulgaria",
          "Bulgaria",
          "Burundi",
          "Cambodia",
          "Cambodia",
          "Cameroon",
          "Cameroon",
          "Canada",
          "Canada",
          "Chile",
          "Chile",
          "China",
          "China",
          "Colombia",
          "Colombia",
          "Comoros",
          "Costa Rica",
          "Croatia",
          "Croatia",
          "Cyprus",
          "Cyprus",
          "Czechia",
          "Czechia",
          "Denmark",
          "Denmark",
          "Dominican Republic",
          "Dominican Republic",
          "Ecuador",
          "Ecuador",
          "Egypt",
          "Egypt",
          "Estonia",
          "Estonia",
          "Ethiopia",
          "Fiji",
          "Fiji",
          "Finland",
          "Finland",
          "France",
          "France",
          "Gambia",
          "Georgia",
          "Georgia",
          "Germany",
          "Germany",
          "Ghana",
          "Ghana",
          "Greece",
          "Greece",
          "Guatemala",
          "Guatemala",
          "Honduras",
          "Honduras",
          "Hungary",
          "Hungary",
          "Iceland",
          "Iceland",
          "India",
          "India",
          "Indonesia",
          "Indonesia",
          "Iran",
          "Iran",
          "Ireland",
          "Ireland",
          "Israel",
          "Italy",
          "Italy",
          "Jamaica",
          "Jamaica",
          "Japan",
          "Japan",
          "Kazakhstan",
          "Kazakhstan",
          "Kenya",
          "Kenya",
          "Latvia",
          "Latvia",
          "Lebanon",
          "Lebanon",
          "Lithuania",
          "Lithuania",
          "Luxembourg",
          "Luxembourg",
          "Malaysia",
          "Malaysia",
          "Mali",
          "Mexico",
          "Mexico",
          "Moldova",
          "Moldova",
          "Mongolia",
          "Mongolia",
          "Morocco",
          "Morocco",
          "Nepal",
          "Nepal",
          "Netherlands",
          "Netherlands",
          "New Zealand",
          "New Zealand",
          "Nicaragua",
          "Nigeria",
          "North Macedonia",
          "North Macedonia",
          "Norway",
          "Norway",
          "Oman",
          "Oman",
          "Pakistan",
          "Pakistan",
          "Panama",
          "Panama",
          "Peru",
          "Peru",
          "Philippines",
          "Philippines",
          "Poland",
          "Poland",
          "Portugal",
          "Portugal",
          "Romania",
          "Romania",
          "Russia",
          "Russia",
          "Rwanda",
          "Saint Kitts and Nevis",
          "Samoa",
          "Saudi Arabia",
          "Senegal",
          "Senegal",
          "Serbia",
          "Serbia",
          "Sierra Leone",
          "Singapore",
          "Singapore",
          "Slovakia",
          "Slovakia",
          "Slovenia",
          "Slovenia",
          "South Africa",
          "South Africa",
          "South Korea",
          "South Korea",
          "Spain",
          "Spain",
          "Sri Lanka",
          "Sri Lanka",
          "Sweden",
          "Sweden",
          "Switzerland",
          "Switzerland",
          "Thailand",
          "Thailand",
          "Tonga",
          "Tunisia",
          "Tunisia",
          "Turkey",
          "Turkey",
          "Uganda",
          "Uganda",
          "Ukraine",
          "Ukraine",
          "United Arab Emirates",
          "United Arab Emirates",
          "United Kingdom",
          "United Kingdom",
          "United States",
          "United States",
          "Uruguay",
          "Uruguay",
          "Uzbekistan",
          "Uzbekistan",
          "Venezuela",
          "Vietnam",
          "Vietnam",
          "Yemen",
          "Yemen",
          "Zambia",
          "Zambia",
          "Zimbabwe",
          "Zimbabwe",
          "Liberia",
          "Afghanistan",
          "Afghanistan",
          "Afghanistan",
          "Afghanistan",
          "Albania",
          "Albania",
          "Albania",
          "Albania",
          "Algeria",
          "Algeria",
          "Andorra",
          "Andorra",
          "Andorra",
          "Andorra",
          "Angola",
          "Angola",
          "Angola",
          "Angola",
          "Antigua and Barbuda",
          "Antigua and Barbuda",
          "Antigua and Barbuda",
          "Antigua and Barbuda",
          "Argentina",
          "Argentina",
          "Armenia",
          "Armenia",
          "Australia",
          "Australia",
          "Austria",
          "Austria",
          "Azerbaijan",
          "Azerbaijan",
          "Bahamas",
          "Bahamas",
          "Bahamas",
          "Bahrain",
          "Bahrain",
          "Bahrain",
          "Bahrain",
          "Bangladesh",
          "Bangladesh",
          "Barbados",
          "Barbados",
          "Barbados",
          "Barbados",
          "Belarus",
          "Belarus",
          "Belgium",
          "Belgium",
          "Belize",
          "Belize",
          "Belize",
          "Benin",
          "Benin",
          "Benin",
          "Benin",
          "Bhutan",
          "Bhutan",
          "Bhutan",
          "Bhutan",
          "Bolivia",
          "Bolivia",
          "Bosnia and Herzegovina",
          "Bosnia and Herzegovina",
          "Botswana",
          "Botswana",
          "Botswana",
          "Botswana",
          "Brazil",
          "Brazil",
          "Brunei",
          "Brunei",
          "Brunei",
          "Brunei",
          "Bulgaria",
          "Bulgaria",
          "Burkina Faso",
          "Burkina Faso",
          "Burkina Faso",
          "Burkina Faso",
          "Burundi",
          "Burundi",
          "Burundi",
          "Cambodia",
          "Cambodia",
          "Cameroon",
          "Cameroon",
          "Canada",
          "Canada",
          "Cape Verde",
          "Cape Verde",
          "Cape Verde",
          "Cape Verde",
          "Central African Republic",
          "Central African Republic",
          "Central African Republic",
          "Central African Republic",
          "Chad",
          "Chad",
          "Chad",
          "Chad",
          "Chile",
          "Chile",
          "China",
          "China",
          "Colombia",
          "Colombia",
          "Comoros",
          "Comoros",
          "Comoros",
          "Congo",
          "Congo",
          "Congo",
          "Congo",
          "Cook Islands",
          "Cook Islands",
          "Cook Islands",
          "Cook Islands",
          "Costa Rica",
          "Costa Rica",
          "Costa Rica",
          "Cote d'Ivoire",
          "Cote d'Ivoire",
          "Cote d'Ivoire",
          "Cote d'Ivoire",
          "Croatia",
          "Croatia",
          "Cuba",
          "Cuba",
          "Cuba",
          "Cuba",
          "Cyprus",
          "Cyprus",
          "Czechia",
          "Czechia",
          "Democratic Republic of Congo",
          "Democratic Republic of Congo",
          "Democratic Republic of Congo",
          "Democratic Republic of Congo",
          "Denmark",
          "Denmark",
          "Djibouti",
          "Djibouti",
          "Djibouti",
          "Djibouti",
          "Dominica",
          "Dominica",
          "Dominica",
          "Dominica",
          "Dominican Republic",
          "Dominican Republic",
          "Ecuador",
          "Ecuador",
          "Egypt",
          "Egypt",
          "El Salvador",
          "El Salvador",
          "El Salvador",
          "El Salvador",
          "Equatorial Guinea",
          "Equatorial Guinea",
          "Equatorial Guinea",
          "Equatorial Guinea",
          "Eritrea",
          "Eritrea",
          "Eritrea",
          "Eritrea",
          "Estonia",
          "Estonia",
          "Eswatini",
          "Eswatini",
          "Eswatini",
          "Eswatini",
          "Ethiopia",
          "Ethiopia",
          "Ethiopia",
          "Fiji",
          "Fiji",
          "Finland",
          "Finland",
          "France",
          "France",
          "Gabon",
          "Gabon",
          "Gabon",
          "Gabon",
          "Gambia",
          "Gambia",
          "Gambia",
          "Georgia",
          "Georgia",
          "Germany",
          "Germany",
          "Ghana",
          "Ghana",
          "Greece",
          "Greece",
          "Grenada",
          "Grenada",
          "Grenada",
          "Grenada",
          "Guatemala",
          "Guatemala",
          "Guinea",
          "Guinea",
          "Guinea",
          "Guinea",
          "Guinea-Bissau",
          "Guinea-Bissau",
          "Guinea-Bissau",
          "Guinea-Bissau",
          "Guyana",
          "Guyana",
          "Guyana",
          "Guyana",
          "Haiti",
          "Haiti",
          "Haiti",
          "Haiti",
          "Honduras",
          "Honduras",
          "Hungary",
          "Hungary",
          "Iceland",
          "Iceland",
          "India",
          "India",
          "Indonesia",
          "Indonesia",
          "Iran",
          "Iran",
          "Iraq",
          "Iraq",
          "Iraq",
          "Iraq",
          "Ireland",
          "Ireland",
          "Israel",
          "Israel",
          "Israel",
          "Italy",
          "Italy",
          "Jamaica",
          "Jamaica",
          "Japan",
          "Japan",
          "Jordan",
          "Jordan",
          "Jordan",
          "Jordan",
          "Kazakhstan",
          "Kazakhstan",
          "Kenya",
          "Kenya",
          "Kiribati",
          "Kiribati",
          "Kiribati",
          "Kiribati",
          "Kuwait",
          "Kuwait",
          "Kuwait",
          "Kuwait",
          "Kyrgyzstan",
          "Kyrgyzstan",
          "Kyrgyzstan",
          "Kyrgyzstan",
          "Laos",
          "Laos",
          "Laos",
          "Laos",
          "Latvia",
          "Latvia",
          "Lebanon",
          "Lebanon",
          "Lesotho",
          "Lesotho",
          "Lesotho",
          "Lesotho",
          "Liberia",
          "Liberia",
          "Liberia",
          "Libya",
          "Libya",
          "Libya",
          "Libya",
          "Lithuania",
          "Lithuania",
          "Luxembourg",
          "Luxembourg",
          "Madagascar",
          "Madagascar",
          "Madagascar",
          "Madagascar",
          "Malawi",
          "Malawi",
          "Malawi",
          "Malawi",
          "Malaysia",
          "Malaysia",
          "Maldives",
          "Maldives",
          "Maldives",
          "Maldives",
          "Mali",
          "Mali",
          "Mali",
          "Malta",
          "Malta",
          "Malta",
          "Malta",
          "Marshall Islands",
          "Marshall Islands",
          "Marshall Islands",
          "Marshall Islands",
          "Mauritania",
          "Mauritania",
          "Mauritania",
          "Mauritania",
          "Mauritius",
          "Mauritius",
          "Mauritius",
          "Mauritius",
          "Mexico",
          "Mexico",
          "Micronesia (country)",
          "Micronesia (country)",
          "Micronesia (country)",
          "Micronesia (country)",
          "Moldova",
          "Moldova",
          "Monaco",
          "Monaco",
          "Monaco",
          "Monaco",
          "Mongolia",
          "Mongolia",
          "Montenegro",
          "Montenegro",
          "Montenegro",
          "Montenegro",
          "Morocco",
          "Morocco",
          "Mozambique",
          "Mozambique",
          "Mozambique",
          "Mozambique",
          "Myanmar",
          "Myanmar",
          "Myanmar",
          "Myanmar",
          "Namibia",
          "Namibia",
          "Namibia",
          "Namibia",
          "Nauru",
          "Nauru",
          "Nauru",
          "Nauru",
          "Nepal",
          "Nepal",
          "Netherlands",
          "Netherlands",
          "New Zealand",
          "New Zealand",
          "Nicaragua",
          "Nicaragua",
          "Nicaragua",
          "Niger",
          "Niger",
          "Niger",
          "Niger",
          "Nigeria",
          "Nigeria",
          "Nigeria",
          "Niue",
          "Niue",
          "Niue",
          "Niue",
          "North Korea",
          "North Korea",
          "North Korea",
          "North Korea",
          "North Macedonia",
          "North Macedonia",
          "Norway",
          "Norway",
          "Oman",
          "Oman",
          "Pakistan",
          "Pakistan",
          "Palau",
          "Palau",
          "Palau",
          "Palau",
          "Panama",
          "Panama",
          "Papua New Guinea",
          "Papua New Guinea",
          "Papua New Guinea",
          "Papua New Guinea",
          "Paraguay",
          "Paraguay",
          "Paraguay",
          "Paraguay",
          "Peru",
          "Peru",
          "Philippines",
          "Philippines",
          "Poland",
          "Poland",
          "Portugal",
          "Portugal",
          "Qatar",
          "Qatar",
          "Qatar",
          "Qatar",
          "Romania",
          "Romania",
          "Russia",
          "Russia",
          "Rwanda",
          "Rwanda",
          "Rwanda",
          "Saint Kitts and Nevis",
          "Saint Kitts and Nevis",
          "Saint Kitts and Nevis",
          "Saint Lucia",
          "Saint Lucia",
          "Saint Lucia",
          "Saint Lucia",
          "Saint Vincent and the Grenadines",
          "Saint Vincent and the Grenadines",
          "Saint Vincent and the Grenadines",
          "Saint Vincent and the Grenadines",
          "Samoa",
          "Samoa",
          "Samoa",
          "San Marino",
          "San Marino",
          "San Marino",
          "San Marino",
          "Sao Tome and Principe",
          "Sao Tome and Principe",
          "Sao Tome and Principe",
          "Sao Tome and Principe",
          "Saudi Arabia",
          "Saudi Arabia",
          "Saudi Arabia",
          "Senegal",
          "Senegal",
          "Serbia",
          "Serbia",
          "Seychelles",
          "Seychelles",
          "Seychelles",
          "Seychelles",
          "Sierra Leone",
          "Sierra Leone",
          "Sierra Leone",
          "Singapore",
          "Singapore",
          "Slovakia",
          "Slovakia",
          "Slovenia",
          "Slovenia",
          "Solomon Islands",
          "Solomon Islands",
          "Solomon Islands",
          "Solomon Islands",
          "Somalia",
          "Somalia",
          "Somalia",
          "Somalia",
          "South Africa",
          "South Africa",
          "South Korea",
          "South Korea",
          "South Sudan",
          "South Sudan",
          "Spain",
          "Spain",
          "Sri Lanka",
          "Sri Lanka",
          "Sudan",
          "Sudan",
          "Sudan",
          "Sudan",
          "Suriname",
          "Suriname",
          "Suriname",
          "Suriname",
          "Sweden",
          "Sweden",
          "Switzerland",
          "Switzerland",
          "Syria",
          "Syria",
          "Syria",
          "Syria",
          "Tajikistan",
          "Tajikistan",
          "Tajikistan",
          "Tajikistan",
          "Tanzania",
          "Tanzania",
          "Tanzania",
          "Tanzania",
          "Thailand",
          "Thailand",
          "Timor",
          "Timor",
          "Timor",
          "Timor",
          "Togo",
          "Togo",
          "Togo",
          "Togo",
          "Tonga",
          "Tonga",
          "Tonga",
          "Trinidad and Tobago",
          "Trinidad and Tobago",
          "Trinidad and Tobago",
          "Trinidad and Tobago",
          "Tunisia",
          "Tunisia",
          "Turkey",
          "Turkey",
          "Turkmenistan",
          "Turkmenistan",
          "Turkmenistan",
          "Turkmenistan",
          "Tuvalu",
          "Tuvalu",
          "Tuvalu",
          "Tuvalu",
          "Uganda",
          "Uganda",
          "Ukraine",
          "Ukraine",
          "United Arab Emirates",
          "United Arab Emirates",
          "United Kingdom",
          "United Kingdom",
          "United States",
          "United States",
          "Uruguay",
          "Uruguay",
          "Uzbekistan",
          "Uzbekistan",
          "Vanuatu",
          "Vanuatu",
          "Vanuatu",
          "Vanuatu",
          "Venezuela",
          "Venezuela",
          "Venezuela",
          "Vietnam",
          "Vietnam",
          "Yemen",
          "Yemen",
          "Zambia",
          "Zambia",
          "Zimbabwe",
          "Zimbabwe"
         ],
         "legendgroup": "",
         "marker": {
          "color": "#636efa",
          "size": [
           0.36,
           0.6400000000000001,
           0.6400000000000001,
           1,
           0.6400000000000001,
           0.6400000000000001,
           1,
           1,
           0.6400000000000001,
           0.6400000000000001,
           0.36,
           0.36,
           0.6400000000000001,
           0.36,
           0.36,
           0.6400000000000001,
           0.6400000000000001,
           0.6400000000000001,
           1,
           0.36,
           0.6400000000000001,
           0.6400000000000001,
           0.6400000000000001,
           0.6400000000000001,
           1,
           1,
           0.6400000000000001,
           0.6400000000000001,
           0.16000000000000003,
           0.36,
           0.36,
           0.36,
           0.6400000000000001,
           1,
           1,
           0.36,
           0.36,
           0.36,
           0.6400000000000001,
           0.36,
           0.36,
           0.16000000000000003,
           0.6400000000000001,
           0.6400000000000001,
           0.6400000000000001,
           0.6400000000000001,
           0.6400000000000001,
           0.6400000000000001,
           0.6400000000000001,
           1,
           1,
           0.36,
           0.36,
           0.6400000000000001,
           0.6400000000000001,
           0.6400000000000001,
           0.6400000000000001,
           0.6400000000000001,
           0.6400000000000001,
           0.6400000000000001,
           0.6400000000000001,
           0.6400000000000001,
           0.6400000000000001,
           0.6400000000000001,
           0.6400000000000001,
           0.6400000000000001,
           0.16000000000000003,
           0.36,
           0.6400000000000001,
           0.6400000000000001,
           0.6400000000000001,
           0.6400000000000001,
           0.6400000000000001,
           0.6400000000000001,
           0.6400000000000001,
           0.6400000000000001,
           0.6400000000000001,
           0.6400000000000001,
           0.6400000000000001,
           0.6400000000000001,
           0.6400000000000001,
           0.36,
           0.36,
           0.6400000000000001,
           0.6400000000000001,
           0.36,
           0.36,
           1,
           1,
           1,
           1,
           1,
           0.6400000000000001,
           0.6400000000000001,
           0.6400000000000001,
           0.6400000000000001,
           0.6400000000000001,
           0.6400000000000001,
           0.6400000000000001,
           0.6400000000000001,
           0.6400000000000001,
           0.6400000000000001,
           0.6400000000000001,
           0.6400000000000001,
           0.6400000000000001,
           0.6400000000000001,
           0.6400000000000001,
           0.6400000000000001,
           0.6400000000000001,
           0.6400000000000001,
           0.6400000000000001,
           0.6400000000000001,
           0.36,
           0.6400000000000001,
           1,
           0.36,
           0.6400000000000001,
           0.6400000000000001,
           0.6400000000000001,
           0.36,
           0.36,
           0.36,
           0.36,
           0.6400000000000001,
           1,
           1,
           1,
           0.36,
           0.6400000000000001,
           0.36,
           0.6400000000000001,
           0.6400000000000001,
           0.6400000000000001,
           0.36,
           0.6400000000000001,
           0.36,
           0.6400000000000001,
           1,
           1,
           0.36,
           0.36,
           0.6400000000000001,
           0.6400000000000001,
           0.6400000000000001,
           0.6400000000000001,
           0.6400000000000001,
           0.6400000000000001,
           1,
           0.6400000000000001,
           0.36,
           0.6400000000000001,
           0.16000000000000003,
           0.36,
           0.36,
           0.6400000000000001,
           0.36,
           0.36,
           0.6400000000000001,
           0.6400000000000001,
           0.16000000000000003,
           1,
           1,
           0.6400000000000001,
           0.6400000000000001,
           0.6400000000000001,
           0.6400000000000001,
           0.36,
           0.6400000000000001,
           1,
           1,
           0.6400000000000001,
           0.6400000000000001,
           0.36,
           0.36,
           0.6400000000000001,
           0.6400000000000001,
           0.6400000000000001,
           0.6400000000000001,
           0.6400000000000001,
           0.6400000000000001,
           0.6400000000000001,
           0.6400000000000001,
           0.6400000000000001,
           1,
           1,
           0.6400000000000001,
           0.6400000000000001,
           0.36,
           0.36,
           1,
           1,
           1,
           1,
           1,
           1,
           1,
           1,
           0.36,
           0.6400000000000001,
           0.6400000000000001,
           0.36,
           0.36,
           0.36,
           0.36,
           0.36,
           0.36,
           0.36,
           0.36,
           0.36,
           0.36,
           0.36,
           0.36,
           0.36,
           0.16000000000000003,
           0.36,
           0.6400000000000001,
           0.6400000000000001,
           0.36,
           0.36,
           0.6400000000000001,
           0.6400000000000001,
           0.6400000000000001,
           0.6400000000000001,
           0.36,
           0.36,
           0.36,
           0.36,
           0.36,
           0.36,
           0.36,
           0.36,
           0.6400000000000001,
           0.6400000000000001,
           0.36,
           0.36,
           1,
           1,
           0.6400000000000001,
           0.6400000000000001,
           0.16000000000000003,
           0.36,
           0.36,
           0.36,
           0.6400000000000001,
           1,
           1,
           0.6400000000000001,
           0.6400000000000001,
           0.36,
           0.36,
           0.36,
           0.36,
           0.6400000000000001,
           0.6400000000000001,
           0.6400000000000001,
           0.6400000000000001,
           1,
           0.6400000000000001,
           0.36,
           0.36,
           0.36,
           0.36,
           0.36,
           0.36,
           0.6400000000000001,
           0.16000000000000003,
           0.16000000000000003,
           0.16000000000000003,
           0.6400000000000001,
           0.36,
           0.36,
           0.36,
           0.36,
           0.36,
           0.36,
           0.36,
           0.36,
           1,
           1,
           0.6400000000000001,
           0.6400000000000001,
           0.6400000000000001,
           1,
           0.6400000000000001,
           0.6400000000000001,
           0.36,
           0.36,
           0.36,
           0.6400000000000001,
           0.16000000000000003,
           0.16000000000000003,
           0.16000000000000003,
           0.36,
           0.36,
           0.36,
           0.36,
           0.36,
           1,
           0.6400000000000001,
           0.6400000000000001,
           0.6400000000000001,
           0.6400000000000001,
           0.36,
           0.36,
           0.36,
           0.36,
           0.16000000000000003,
           0.16000000000000003,
           0.36,
           0.36,
           0.36,
           0.36,
           0.36,
           0.36,
           0.36,
           0.36,
           0.16000000000000003,
           0.16000000000000003,
           0.16000000000000003,
           0.36,
           0.6400000000000001,
           0.6400000000000001,
           0.6400000000000001,
           0.6400000000000001,
           0.6400000000000001,
           0.6400000000000001,
           0.6400000000000001,
           0.6400000000000001,
           0.6400000000000001,
           0.6400000000000001,
           0.36,
           0.36,
           0.36,
           0.6400000000000001,
           0.36,
           0.6400000000000001,
           0.6400000000000001,
           0.6400000000000001,
           0.6400000000000001,
           0.6400000000000001,
           0.6400000000000001,
           0.6400000000000001,
           0.36,
           0.6400000000000001,
           0.36,
           0.36,
           0.36,
           0.36,
           0.6400000000000001,
           0.6400000000000001,
           0.36,
           0.36,
           0.36,
           0.36,
           0.36,
           0.36,
           0.36,
           0.36,
           0.36,
           0.36,
           0.36,
           0.6400000000000001,
           0.6400000000000001,
           0.6400000000000001,
           0.6400000000000001,
           0.6400000000000001,
           1,
           1,
           0.16000000000000003,
           0.16000000000000003,
           0.16000000000000003,
           0.16000000000000003,
           0.16000000000000003,
           0.16000000000000003,
           0.16000000000000003,
           0.16000000000000003,
           0.36,
           0.36,
           0.6400000000000001,
           0.6400000000000001,
           0.6400000000000001,
           0.6400000000000001,
           0.16000000000000003,
           0.36,
           0.6400000000000001,
           0.16000000000000003,
           0.16000000000000003,
           0.6400000000000001,
           0.6400000000000001,
           0.6400000000000001,
           0.6400000000000001,
           0.36,
           0.36,
           0.36,
           0.36,
           0.16000000000000003,
           0.16000000000000003,
           0.16000000000000003,
           0.36,
           0.36,
           0.6400000000000001,
           0.6400000000000001,
           0.36,
           0.36,
           0.36,
           0.36,
           0.36,
           0.36,
           0.36,
           0.36,
           0.6400000000000001,
           0.6400000000000001,
           0.36,
           0.36,
           0.36,
           0.36,
           0.16000000000000003,
           0.16000000000000003,
           0.36,
           0.36,
           0.36,
           0.6400000000000001,
           0.6400000000000001,
           0.6400000000000001,
           0.36,
           0.36,
           0.36,
           0.36,
           0.36,
           0.36,
           0.36,
           0.6400000000000001,
           0.36,
           0.36,
           0.36,
           0.36,
           0.36,
           0.36,
           1,
           1,
           0.36,
           0.36,
           0.36,
           0.6400000000000001,
           1,
           1,
           0.6400000000000001,
           1,
           1,
           0.6400000000000001,
           0.6400000000000001,
           0.6400000000000001,
           0.6400000000000001,
           0.6400000000000001,
           0.6400000000000001,
           0.6400000000000001,
           0.6400000000000001,
           0.6400000000000001,
           0.6400000000000001,
           0.6400000000000001,
           0.6400000000000001,
           0.36,
           0.36,
           0.36,
           0.36,
           0.16000000000000003,
           0.36,
           0.6400000000000001,
           0.6400000000000001,
           1,
           1,
           0.36,
           0.36,
           0.6400000000000001,
           0.6400000000000001,
           0.36,
           0.36,
           0.36,
           0.16000000000000003,
           0.36,
           0.6400000000000001,
           0.6400000000000001,
           0.6400000000000001,
           0.36,
           0.6400000000000001,
           0.6400000000000001,
           0.6400000000000001,
           0.36,
           0.36,
           0.36,
           0.16000000000000003,
           0.36,
           0.6400000000000001,
           0.6400000000000001,
           0.6400000000000001,
           0.6400000000000001,
           0.16000000000000003,
           0.6400000000000001,
           0.36,
           0.36,
           0.36,
           0.36,
           0.16000000000000003,
           0.16000000000000003,
           0.16000000000000003,
           0.16000000000000003,
           0.6400000000000001,
           0.6400000000000001,
           0.36,
           0.36,
           0.36,
           0.16000000000000003,
           0.36,
           0.36,
           0.36,
           0.6400000000000001,
           0.6400000000000001,
           0.6400000000000001,
           1,
           0.6400000000000001,
           0.6400000000000001,
           0.6400000000000001,
           0.6400000000000001,
           0.16000000000000003,
           0.16000000000000003,
           0.16000000000000003,
           0.16000000000000003,
           0.6400000000000001,
           0.6400000000000001,
           0.6400000000000001,
           0.6400000000000001,
           0.6400000000000001,
           0.6400000000000001,
           0.36,
           0.36,
           0.36,
           0.6400000000000001,
           0.36,
           0.36,
           0.36,
           0.6400000000000001,
           0.6400000000000001,
           0.6400000000000001,
           0.6400000000000001,
           0.6400000000000001,
           0.16000000000000003,
           0.16000000000000003,
           0.6400000000000001,
           0.6400000000000001,
           0.36,
           0.36,
           0.36,
           0.36,
           0.36,
           0.36,
           0.36,
           0.36,
           0.36,
           0.6400000000000001,
           0.36,
           0.36,
           0.6400000000000001,
           0.6400000000000001,
           0.36,
           0.36,
           0.36,
           0.36,
           0.16000000000000003,
           0.6400000000000001,
           0.36,
           0.6400000000000001,
           1,
           1,
           0.36,
           0.36,
           0.36,
           0.36,
           0.36,
           0.36,
           0.36,
           0.6400000000000001,
           0.6400000000000001,
           0.6400000000000001,
           0.6400000000000001,
           0.6400000000000001,
           0.6400000000000001,
           0.6400000000000001,
           0.6400000000000001,
           0.6400000000000001,
           0.6400000000000001,
           0.6400000000000001,
           0.36,
           0.36,
           0.6400000000000001,
           0.6400000000000001,
           0.36,
           0.36,
           0.36,
           0.36,
           0.6400000000000001,
           0.6400000000000001,
           0.6400000000000001,
           0.6400000000000001,
           0.6400000000000001,
           1,
           0.16000000000000003,
           0.16000000000000003,
           0.16000000000000003,
           0.16000000000000003,
           0.6400000000000001,
           0.6400000000000001,
           0.6400000000000001,
           0.6400000000000001,
           0.36,
           0.36,
           0.6400000000000001,
           0.6400000000000001,
           0.6400000000000001,
           0.6400000000000001,
           0.6400000000000001,
           0.6400000000000001,
           0.6400000000000001,
           0.6400000000000001,
           0.6400000000000001,
           0.6400000000000001,
           0.6400000000000001,
           1,
           0.36,
           0.36,
           0.16000000000000003,
           0.16000000000000003,
           0.16000000000000003,
           0.36,
           0.36,
           0.36,
           0.36,
           0.36,
           0.36,
           0.36,
           0.36,
           0.36,
           0.36,
           0.36,
           0.36,
           0.36,
           0.36,
           0.36,
           0.36,
           0.36,
           0.6400000000000001,
           0.16000000000000003,
           0.16000000000000003,
           0.16000000000000003,
           0.6400000000000001,
           0.6400000000000001,
           0.6400000000000001,
           0.6400000000000001,
           0.36,
           0.36,
           0.36,
           0.6400000000000001,
           0.36,
           0.36,
           0.36,
           0.6400000000000001,
           0.16000000000000003,
           0.16000000000000003,
           0.16000000000000003,
           1,
           1,
           0.36,
           0.6400000000000001,
           0.6400000000000001,
           0.6400000000000001,
           0.36,
           0.36,
           0.36,
           0.6400000000000001,
           0.16000000000000003,
           0.16000000000000003,
           0.16000000000000003,
           0.16000000000000003,
           0.36,
           0.36,
           1,
           1,
           0.04000000000000001,
           0.04000000000000001,
           0.6400000000000001,
           0.6400000000000001,
           0.36,
           0.36,
           0.16000000000000003,
           0.16000000000000003,
           0.16000000000000003,
           0.16000000000000003,
           0.36,
           0.36,
           0.36,
           0.6400000000000001,
           0.6400000000000001,
           0.6400000000000001,
           0.6400000000000001,
           0.6400000000000001,
           0.6400000000000001,
           0.6400000000000001,
           0.6400000000000001,
           0.6400000000000001,
           0.36,
           0.36,
           0.36,
           0.36,
           0.6400000000000001,
           0.6400000000000001,
           0.6400000000000001,
           0.6400000000000001,
           0.6400000000000001,
           0.6400000000000001,
           0.16000000000000003,
           0.16000000000000003,
           0.16000000000000003,
           0.16000000000000003,
           0.36,
           0.36,
           0.36,
           0.16000000000000003,
           0.16000000000000003,
           0.36,
           0.6400000000000001,
           0.36,
           0.36,
           0.6400000000000001,
           0.6400000000000001,
           0.36,
           0.36,
           0.36,
           1,
           0.6400000000000001,
           0.6400000000000001,
           0.6400000000000001,
           0.6400000000000001,
           0.6400000000000001,
           0.6400000000000001,
           0.6400000000000001,
           0.6400000000000001,
           0.6400000000000001,
           0.6400000000000001,
           0.36,
           0.36,
           0.36,
           1,
           1,
           1,
           0.36,
           1,
           1,
           1,
           0.36,
           0.36,
           0.16000000000000003,
           0.36,
           0.36,
           0.36,
           0.6400000000000001,
           0.6400000000000001,
           0.6400000000000001,
           0.36,
           0.36,
           0.36,
           0.36,
           0.36,
           0.36,
           0.36,
           0.36
          ],
          "sizemode": "area",
          "sizeref": 0.0025,
          "symbol": "circle"
         },
         "mode": "markers",
         "name": "",
         "orientation": "v",
         "showlegend": false,
         "type": "scatter",
         "x": [
          47,
          40.9,
          69.9,
          69.7,
          38.4,
          44.1,
          63.1,
          58.4,
          75,
          74.9,
          19.8,
          17.6,
          41.6,
          63.8,
          75.6,
          41.2,
          52.7,
          76.4,
          76.4,
          42.5,
          40.4,
          40.4,
          75.2,
          86,
          62.6,
          64.3,
          86.4,
          84,
          41.2,
          17.1,
          22.2,
          21.5,
          17.9,
          64.5,
          64.5,
          82,
          81.6,
          47.7,
          47.8,
          50.9,
          49.5,
          50.8,
          71.8,
          70.4,
          74.8,
          75.8,
          77.3,
          80,
          75.6,
          78.7,
          78.8,
          58.3,
          57.7,
          64.2,
          62.7,
          71.5,
          72,
          79.2,
          81.7,
          18.7,
          40.6,
          44,
          79.8,
          81.7,
          80,
          80.6,
          34.4,
          54.9,
          47.5,
          74.5,
          73.5,
          23.1,
          28.3,
          83.2,
          81.6,
          49,
          49,
          36.2,
          38.1,
          84.1,
          77.4,
          56.9,
          56.4,
          33.2,
          66.1,
          35.5,
          50.8,
          2.7,
          4.3,
          78.8,
          77.8,
          85,
          75.5,
          76.1,
          46.1,
          42.9,
          63.2,
          62.9,
          27,
          39.7,
          48.8,
          49.3,
          78.7,
          77.3,
          44.4,
          48.3,
          75.8,
          77.6,
          71.1,
          70.7,
          58.4,
          59.8,
          38.1,
          66.5,
          65.8,
          44.6,
          51.6,
          0,
          44.2,
          68,
          68.4,
          32.9,
          46.6,
          73.1,
          74.8,
          73.3,
          75,
          30.5,
          21.7,
          70.8,
          69.8,
          72.8,
          67.2,
          22.1,
          22.1,
          61.6,
          60.7,
          56.5,
          56.5,
          44.9,
          39.5,
          34.2,
          53,
          79.7,
          82.6,
          76.3,
          79.6,
          75.3,
          77.3,
          45,
          50.5,
          24.1,
          19.9,
          59.5,
          22.9,
          29,
          37.9,
          75.4,
          73.8,
          19.7,
          70.4,
          73.8,
          83.1,
          84.6,
          78.4,
          79.4,
          47.6,
          48.1,
          65.3,
          60.3,
          79.2,
          78.8,
          74.2,
          73.5,
          73.8,
          68.8,
          63.6,
          61.9,
          68.7,
          70.2,
          64.3,
          84.5,
          78.1,
          80.3,
          82.2,
          44.2,
          40.2,
          59.7,
          62.4,
          24.5,
          21.1,
          76.1,
          81.3,
          42.9,
          42.9,
          69,
          65.6,
          32.7,
          31.1,
          71,
          41.6,
          41.6,
          52.9,
          53.7,
          25.8,
          21.3,
          57.6,
          59.8,
          17.2,
          null,
          null,
          null,
          null,
          null,
          null,
          null,
          null,
          null,
          null,
          null,
          null,
          null,
          null,
          null,
          null,
          null,
          null,
          null,
          null,
          null,
          null,
          null,
          null,
          null,
          null,
          null,
          null,
          null,
          null,
          null,
          null,
          null,
          null,
          null,
          null,
          null,
          null,
          null,
          null,
          null,
          null,
          null,
          null,
          null,
          null,
          null,
          null,
          null,
          null,
          null,
          null,
          null,
          null,
          null,
          null,
          null,
          null,
          null,
          null,
          null,
          null,
          null,
          null,
          null,
          null,
          null,
          null,
          null,
          null,
          null,
          null,
          null,
          null,
          null,
          null,
          null,
          null,
          null,
          null,
          null,
          null,
          null,
          null,
          null,
          null,
          null,
          null,
          null,
          null,
          null,
          null,
          null,
          null,
          null,
          null,
          null,
          null,
          null,
          null,
          null,
          null,
          null,
          null,
          null,
          null,
          null,
          null,
          null,
          null,
          null,
          null,
          null,
          null,
          null,
          null,
          null,
          null,
          null,
          null,
          null,
          null,
          null,
          null,
          null,
          null,
          null,
          null,
          null,
          null,
          null,
          null,
          null,
          null,
          null,
          null,
          null,
          null,
          null,
          null,
          null,
          null,
          null,
          null,
          null,
          null,
          null,
          null,
          null,
          null,
          null,
          null,
          null,
          null,
          null,
          null,
          null,
          null,
          null,
          null,
          null,
          null,
          null,
          null,
          null,
          null,
          null,
          null,
          null,
          null,
          null,
          null,
          null,
          null,
          null,
          null,
          null,
          null,
          null,
          null,
          null,
          null,
          null,
          null,
          null,
          null,
          null,
          null,
          null,
          null,
          null,
          null,
          null,
          null,
          null,
          null,
          null,
          null,
          null,
          null,
          null,
          null,
          null,
          null,
          null,
          null,
          null,
          null,
          null,
          null,
          null,
          null,
          null,
          null,
          null,
          null,
          null,
          null,
          null,
          null,
          null,
          null,
          null,
          null,
          null,
          null,
          null,
          null,
          null,
          null,
          null,
          null,
          null,
          null,
          null,
          null,
          null,
          null,
          null,
          null,
          null,
          null,
          null,
          null,
          null,
          null,
          null,
          null,
          null,
          null,
          null,
          null,
          null,
          null,
          null,
          null,
          null,
          null,
          null,
          null,
          null,
          null,
          null,
          null,
          null,
          null,
          null,
          null,
          null,
          null,
          null,
          null,
          null,
          null,
          null,
          null,
          null,
          null,
          null,
          null,
          null,
          null,
          null,
          null,
          null,
          null,
          null,
          null,
          null,
          null,
          null,
          null,
          null,
          null,
          null,
          null,
          null,
          null,
          null,
          null,
          null,
          null,
          null,
          null,
          null,
          null,
          null,
          null,
          null,
          null,
          null,
          null,
          null,
          null,
          null,
          null,
          null,
          null,
          null,
          null,
          null,
          null,
          null,
          null,
          null,
          null,
          null,
          null,
          null,
          null,
          null,
          null,
          null,
          null,
          null,
          null,
          null,
          null,
          null,
          null,
          null,
          null,
          null,
          null,
          null,
          null,
          null,
          null,
          null,
          null,
          null,
          null,
          null,
          null,
          null,
          null,
          null,
          null,
          null,
          null,
          null,
          null,
          null,
          null,
          null,
          null,
          null,
          null,
          null,
          null,
          null,
          null,
          null,
          null,
          null,
          null,
          null,
          null,
          null,
          null,
          null,
          null,
          null,
          null,
          null,
          null,
          null,
          null,
          null,
          null,
          null,
          null,
          null,
          null,
          null,
          null,
          null,
          null,
          null,
          null,
          null,
          null,
          null,
          null,
          null,
          null,
          null,
          null,
          null,
          null,
          null,
          null,
          null,
          null,
          null,
          null,
          null,
          null,
          null,
          null,
          null,
          null,
          null,
          null,
          null,
          null,
          null,
          null,
          null,
          null,
          null,
          null,
          null,
          null,
          null,
          null,
          null,
          null,
          null,
          null,
          null,
          null,
          null,
          null,
          null,
          null,
          null,
          null,
          null,
          null,
          null,
          null,
          null,
          null,
          null,
          null,
          null,
          null,
          null,
          null,
          null,
          null,
          null,
          null,
          null,
          null,
          null,
          null,
          null,
          null,
          null,
          null,
          null,
          null,
          null,
          null,
          null,
          null,
          null,
          null,
          null,
          null,
          null,
          null,
          null,
          null,
          null,
          null,
          null,
          null,
          null,
          null,
          null,
          null,
          null,
          null,
          null,
          null,
          null,
          null,
          null,
          null,
          null,
          null,
          null,
          null,
          null,
          null,
          null,
          null,
          null,
          null,
          null,
          null,
          null,
          null,
          null,
          null,
          null,
          null,
          null,
          null,
          null,
          null,
          null,
          null,
          null,
          null,
          null,
          null,
          null,
          null,
          null,
          null,
          null,
          null,
          null,
          null,
          null,
          null,
          null,
          null,
          null,
          null,
          null,
          null,
          null,
          null,
          null,
          null,
          null,
          null,
          null,
          null,
          null,
          null,
          null,
          null,
          null,
          null,
          null,
          null,
          null,
          null,
          null
         ],
         "xaxis": "x",
         "y": [
          4,
          4,
          4,
          4,
          2,
          2,
          4,
          4,
          4,
          4,
          4,
          4,
          2,
          4,
          4,
          4,
          4,
          4,
          4,
          2,
          4,
          4,
          4,
          4,
          5,
          5,
          4,
          4,
          2,
          4,
          4,
          4,
          4,
          4,
          4,
          4,
          4,
          4,
          4,
          5,
          5,
          2,
          4,
          4,
          4,
          4,
          4,
          4,
          4,
          4,
          4,
          2,
          2,
          4,
          4,
          4,
          4,
          4,
          4,
          4,
          4,
          4,
          4,
          4,
          4,
          4,
          4,
          2,
          2,
          4,
          4,
          5,
          5,
          4,
          4,
          2,
          2,
          4,
          4,
          4,
          4,
          4,
          4,
          4,
          4,
          2,
          2,
          5,
          5,
          4,
          4,
          2,
          4,
          4,
          2,
          2,
          2,
          2,
          4,
          4,
          5,
          5,
          4,
          4,
          4,
          4,
          4,
          4,
          4,
          4,
          4,
          4,
          4,
          2,
          2,
          4,
          4,
          4,
          4,
          4,
          4,
          4,
          5,
          4,
          4,
          4,
          4,
          2,
          2,
          4,
          4,
          4,
          4,
          2,
          2,
          2,
          4,
          5,
          5,
          2,
          2,
          4,
          4,
          4,
          4,
          4,
          4,
          4,
          4,
          2,
          5,
          2,
          2,
          4,
          2,
          2,
          4,
          4,
          4,
          2,
          4,
          4,
          4,
          4,
          4,
          4,
          4,
          4,
          2,
          2,
          5,
          5,
          4,
          4,
          4,
          4,
          2,
          2,
          4,
          4,
          4,
          4,
          4,
          5,
          5,
          2,
          2,
          4,
          4,
          4,
          5,
          4,
          4,
          2,
          2,
          4,
          5,
          4,
          4,
          2,
          4,
          4,
          4,
          5,
          2,
          2,
          2,
          2,
          2,
          4,
          4,
          4,
          4,
          5,
          5,
          5,
          5,
          4,
          4,
          2,
          2,
          2,
          2,
          2,
          2,
          2,
          2,
          2,
          2,
          2,
          2,
          2,
          2,
          2,
          2,
          4,
          4,
          4,
          4,
          4,
          4,
          2,
          2,
          2,
          2,
          4,
          5,
          5,
          4,
          4,
          2,
          2,
          2,
          2,
          4,
          4,
          4,
          4,
          2,
          2,
          2,
          4,
          4,
          4,
          4,
          2,
          4,
          4,
          4,
          4,
          4,
          4,
          4,
          4,
          4,
          4,
          4,
          4,
          4,
          4,
          4,
          4,
          4,
          4,
          4,
          4,
          4,
          4,
          4,
          2,
          2,
          2,
          2,
          2,
          4,
          4,
          2,
          4,
          2,
          2,
          2,
          2,
          2,
          2,
          2,
          2,
          3,
          5,
          5,
          5,
          4,
          4,
          4,
          4,
          2,
          5,
          2,
          4,
          2,
          4,
          4,
          4,
          4,
          4,
          4,
          4,
          4,
          2,
          2,
          4,
          2,
          2,
          2,
          2,
          4,
          4,
          2,
          2,
          2,
          2,
          4,
          4,
          4,
          4,
          3,
          3,
          3,
          3,
          4,
          4,
          5,
          5,
          5,
          5,
          2,
          2,
          2,
          2,
          2,
          2,
          2,
          2,
          4,
          4,
          2,
          2,
          4,
          4,
          2,
          2,
          2,
          2,
          5,
          5,
          5,
          5,
          4,
          4,
          2,
          2,
          2,
          4,
          2,
          2,
          4,
          4,
          4,
          4,
          4,
          4,
          4,
          2,
          2,
          2,
          4,
          4,
          4,
          4,
          2,
          2,
          3,
          4,
          2,
          2,
          4,
          4,
          2,
          2,
          2,
          2,
          2,
          2,
          4,
          4,
          5,
          5,
          2,
          2,
          2,
          2,
          2,
          2,
          2,
          2,
          2,
          2,
          2,
          2,
          2,
          4,
          4,
          4,
          4,
          4,
          4,
          4,
          2,
          2,
          5,
          5,
          4,
          4,
          4,
          4,
          4,
          4,
          2,
          2,
          2,
          4,
          4,
          2,
          2,
          2,
          2,
          4,
          4,
          4,
          4,
          4,
          4,
          5,
          5,
          2,
          2,
          2,
          5,
          4,
          4,
          4,
          4,
          2,
          4,
          4,
          4,
          4,
          4,
          4,
          4,
          4,
          4,
          2,
          2,
          2,
          2,
          2,
          2,
          2,
          2,
          2,
          4,
          5,
          5,
          5,
          4,
          4,
          4,
          4,
          5,
          5,
          5,
          5,
          2,
          2,
          2,
          2,
          4,
          4,
          4,
          5,
          5,
          5,
          2,
          5,
          4,
          4,
          4,
          4,
          4,
          2,
          2,
          2,
          2,
          2,
          2,
          2,
          2,
          4,
          5,
          5,
          5,
          2,
          2,
          2,
          2,
          2,
          2,
          4,
          4,
          2,
          2,
          2,
          2,
          4,
          4,
          4,
          4,
          4,
          4,
          4,
          4,
          4,
          4,
          4,
          4,
          4,
          4,
          4,
          4,
          2,
          4,
          4,
          4,
          2,
          4,
          4,
          4,
          2,
          4,
          4,
          4,
          4,
          4,
          2,
          2,
          2,
          5,
          5,
          5,
          5,
          2,
          2,
          2,
          2,
          2,
          2,
          2,
          2,
          2,
          2,
          2,
          4,
          4,
          4,
          4,
          2,
          2,
          2,
          2,
          2,
          2,
          4,
          4,
          2,
          5,
          4,
          4,
          4,
          4,
          2,
          2,
          2,
          2,
          2,
          2,
          2,
          4,
          4,
          4,
          4,
          4,
          4,
          4,
          4,
          4,
          4,
          4,
          2,
          2,
          2,
          2,
          2,
          2,
          2,
          2,
          2,
          2,
          2,
          2,
          2,
          2,
          2,
          2,
          2,
          4,
          4,
          2,
          4,
          4,
          4,
          2,
          2,
          2,
          2,
          2,
          2,
          2,
          2,
          2,
          4,
          4,
          2,
          4,
          4,
          4,
          2,
          2,
          2,
          4,
          4,
          4,
          4,
          4,
          4,
          2,
          4,
          4,
          4,
          2,
          2,
          2,
          2,
          4,
          4,
          2,
          2,
          2,
          2,
          4,
          5,
          4,
          4,
          4,
          4,
          4,
          4,
          2,
          2,
          2,
          5,
          4,
          4,
          2,
          2,
          4,
          4,
          4,
          4,
          4,
          4,
          4,
          4,
          4,
          4,
          4,
          4,
          4,
          4,
          2,
          2,
          2,
          2,
          2,
          2,
          5,
          5,
          4,
          4,
          4,
          2,
          2,
          2,
          2,
          4,
          4,
          2,
          4,
          2,
          2,
          2,
          4,
          2,
          5,
          5,
          5,
          2,
          2,
          2,
          4,
          4,
          4,
          4,
          4,
          2,
          2,
          2,
          4,
          2,
          2,
          2,
          5,
          5,
          5,
          2,
          2,
          2,
          4,
          4,
          4,
          4,
          2,
          2,
          2,
          2
         ],
         "yaxis": "y"
        }
       ],
       "layout": {
        "legend": {
         "itemsizing": "constant",
         "tracegroupgap": 0
        },
        "margin": {
         "t": 60
        },
        "template": {
         "data": {
          "bar": [
           {
            "error_x": {
             "color": "#2a3f5f"
            },
            "error_y": {
             "color": "#2a3f5f"
            },
            "marker": {
             "line": {
              "color": "#E5ECF6",
              "width": 0.5
             },
             "pattern": {
              "fillmode": "overlay",
              "size": 10,
              "solidity": 0.2
             }
            },
            "type": "bar"
           }
          ],
          "barpolar": [
           {
            "marker": {
             "line": {
              "color": "#E5ECF6",
              "width": 0.5
             },
             "pattern": {
              "fillmode": "overlay",
              "size": 10,
              "solidity": 0.2
             }
            },
            "type": "barpolar"
           }
          ],
          "carpet": [
           {
            "aaxis": {
             "endlinecolor": "#2a3f5f",
             "gridcolor": "white",
             "linecolor": "white",
             "minorgridcolor": "white",
             "startlinecolor": "#2a3f5f"
            },
            "baxis": {
             "endlinecolor": "#2a3f5f",
             "gridcolor": "white",
             "linecolor": "white",
             "minorgridcolor": "white",
             "startlinecolor": "#2a3f5f"
            },
            "type": "carpet"
           }
          ],
          "choropleth": [
           {
            "colorbar": {
             "outlinewidth": 0,
             "ticks": ""
            },
            "type": "choropleth"
           }
          ],
          "contour": [
           {
            "colorbar": {
             "outlinewidth": 0,
             "ticks": ""
            },
            "colorscale": [
             [
              0,
              "#0d0887"
             ],
             [
              0.1111111111111111,
              "#46039f"
             ],
             [
              0.2222222222222222,
              "#7201a8"
             ],
             [
              0.3333333333333333,
              "#9c179e"
             ],
             [
              0.4444444444444444,
              "#bd3786"
             ],
             [
              0.5555555555555556,
              "#d8576b"
             ],
             [
              0.6666666666666666,
              "#ed7953"
             ],
             [
              0.7777777777777778,
              "#fb9f3a"
             ],
             [
              0.8888888888888888,
              "#fdca26"
             ],
             [
              1,
              "#f0f921"
             ]
            ],
            "type": "contour"
           }
          ],
          "contourcarpet": [
           {
            "colorbar": {
             "outlinewidth": 0,
             "ticks": ""
            },
            "type": "contourcarpet"
           }
          ],
          "heatmap": [
           {
            "colorbar": {
             "outlinewidth": 0,
             "ticks": ""
            },
            "colorscale": [
             [
              0,
              "#0d0887"
             ],
             [
              0.1111111111111111,
              "#46039f"
             ],
             [
              0.2222222222222222,
              "#7201a8"
             ],
             [
              0.3333333333333333,
              "#9c179e"
             ],
             [
              0.4444444444444444,
              "#bd3786"
             ],
             [
              0.5555555555555556,
              "#d8576b"
             ],
             [
              0.6666666666666666,
              "#ed7953"
             ],
             [
              0.7777777777777778,
              "#fb9f3a"
             ],
             [
              0.8888888888888888,
              "#fdca26"
             ],
             [
              1,
              "#f0f921"
             ]
            ],
            "type": "heatmap"
           }
          ],
          "heatmapgl": [
           {
            "colorbar": {
             "outlinewidth": 0,
             "ticks": ""
            },
            "colorscale": [
             [
              0,
              "#0d0887"
             ],
             [
              0.1111111111111111,
              "#46039f"
             ],
             [
              0.2222222222222222,
              "#7201a8"
             ],
             [
              0.3333333333333333,
              "#9c179e"
             ],
             [
              0.4444444444444444,
              "#bd3786"
             ],
             [
              0.5555555555555556,
              "#d8576b"
             ],
             [
              0.6666666666666666,
              "#ed7953"
             ],
             [
              0.7777777777777778,
              "#fb9f3a"
             ],
             [
              0.8888888888888888,
              "#fdca26"
             ],
             [
              1,
              "#f0f921"
             ]
            ],
            "type": "heatmapgl"
           }
          ],
          "histogram": [
           {
            "marker": {
             "pattern": {
              "fillmode": "overlay",
              "size": 10,
              "solidity": 0.2
             }
            },
            "type": "histogram"
           }
          ],
          "histogram2d": [
           {
            "colorbar": {
             "outlinewidth": 0,
             "ticks": ""
            },
            "colorscale": [
             [
              0,
              "#0d0887"
             ],
             [
              0.1111111111111111,
              "#46039f"
             ],
             [
              0.2222222222222222,
              "#7201a8"
             ],
             [
              0.3333333333333333,
              "#9c179e"
             ],
             [
              0.4444444444444444,
              "#bd3786"
             ],
             [
              0.5555555555555556,
              "#d8576b"
             ],
             [
              0.6666666666666666,
              "#ed7953"
             ],
             [
              0.7777777777777778,
              "#fb9f3a"
             ],
             [
              0.8888888888888888,
              "#fdca26"
             ],
             [
              1,
              "#f0f921"
             ]
            ],
            "type": "histogram2d"
           }
          ],
          "histogram2dcontour": [
           {
            "colorbar": {
             "outlinewidth": 0,
             "ticks": ""
            },
            "colorscale": [
             [
              0,
              "#0d0887"
             ],
             [
              0.1111111111111111,
              "#46039f"
             ],
             [
              0.2222222222222222,
              "#7201a8"
             ],
             [
              0.3333333333333333,
              "#9c179e"
             ],
             [
              0.4444444444444444,
              "#bd3786"
             ],
             [
              0.5555555555555556,
              "#d8576b"
             ],
             [
              0.6666666666666666,
              "#ed7953"
             ],
             [
              0.7777777777777778,
              "#fb9f3a"
             ],
             [
              0.8888888888888888,
              "#fdca26"
             ],
             [
              1,
              "#f0f921"
             ]
            ],
            "type": "histogram2dcontour"
           }
          ],
          "mesh3d": [
           {
            "colorbar": {
             "outlinewidth": 0,
             "ticks": ""
            },
            "type": "mesh3d"
           }
          ],
          "parcoords": [
           {
            "line": {
             "colorbar": {
              "outlinewidth": 0,
              "ticks": ""
             }
            },
            "type": "parcoords"
           }
          ],
          "pie": [
           {
            "automargin": true,
            "type": "pie"
           }
          ],
          "scatter": [
           {
            "marker": {
             "colorbar": {
              "outlinewidth": 0,
              "ticks": ""
             }
            },
            "type": "scatter"
           }
          ],
          "scatter3d": [
           {
            "line": {
             "colorbar": {
              "outlinewidth": 0,
              "ticks": ""
             }
            },
            "marker": {
             "colorbar": {
              "outlinewidth": 0,
              "ticks": ""
             }
            },
            "type": "scatter3d"
           }
          ],
          "scattercarpet": [
           {
            "marker": {
             "colorbar": {
              "outlinewidth": 0,
              "ticks": ""
             }
            },
            "type": "scattercarpet"
           }
          ],
          "scattergeo": [
           {
            "marker": {
             "colorbar": {
              "outlinewidth": 0,
              "ticks": ""
             }
            },
            "type": "scattergeo"
           }
          ],
          "scattergl": [
           {
            "marker": {
             "colorbar": {
              "outlinewidth": 0,
              "ticks": ""
             }
            },
            "type": "scattergl"
           }
          ],
          "scattermapbox": [
           {
            "marker": {
             "colorbar": {
              "outlinewidth": 0,
              "ticks": ""
             }
            },
            "type": "scattermapbox"
           }
          ],
          "scatterpolar": [
           {
            "marker": {
             "colorbar": {
              "outlinewidth": 0,
              "ticks": ""
             }
            },
            "type": "scatterpolar"
           }
          ],
          "scatterpolargl": [
           {
            "marker": {
             "colorbar": {
              "outlinewidth": 0,
              "ticks": ""
             }
            },
            "type": "scatterpolargl"
           }
          ],
          "scatterternary": [
           {
            "marker": {
             "colorbar": {
              "outlinewidth": 0,
              "ticks": ""
             }
            },
            "type": "scatterternary"
           }
          ],
          "surface": [
           {
            "colorbar": {
             "outlinewidth": 0,
             "ticks": ""
            },
            "colorscale": [
             [
              0,
              "#0d0887"
             ],
             [
              0.1111111111111111,
              "#46039f"
             ],
             [
              0.2222222222222222,
              "#7201a8"
             ],
             [
              0.3333333333333333,
              "#9c179e"
             ],
             [
              0.4444444444444444,
              "#bd3786"
             ],
             [
              0.5555555555555556,
              "#d8576b"
             ],
             [
              0.6666666666666666,
              "#ed7953"
             ],
             [
              0.7777777777777778,
              "#fb9f3a"
             ],
             [
              0.8888888888888888,
              "#fdca26"
             ],
             [
              1,
              "#f0f921"
             ]
            ],
            "type": "surface"
           }
          ],
          "table": [
           {
            "cells": {
             "fill": {
              "color": "#EBF0F8"
             },
             "line": {
              "color": "white"
             }
            },
            "header": {
             "fill": {
              "color": "#C8D4E3"
             },
             "line": {
              "color": "white"
             }
            },
            "type": "table"
           }
          ]
         },
         "layout": {
          "annotationdefaults": {
           "arrowcolor": "#2a3f5f",
           "arrowhead": 0,
           "arrowwidth": 1
          },
          "autotypenumbers": "strict",
          "coloraxis": {
           "colorbar": {
            "outlinewidth": 0,
            "ticks": ""
           }
          },
          "colorscale": {
           "diverging": [
            [
             0,
             "#8e0152"
            ],
            [
             0.1,
             "#c51b7d"
            ],
            [
             0.2,
             "#de77ae"
            ],
            [
             0.3,
             "#f1b6da"
            ],
            [
             0.4,
             "#fde0ef"
            ],
            [
             0.5,
             "#f7f7f7"
            ],
            [
             0.6,
             "#e6f5d0"
            ],
            [
             0.7,
             "#b8e186"
            ],
            [
             0.8,
             "#7fbc41"
            ],
            [
             0.9,
             "#4d9221"
            ],
            [
             1,
             "#276419"
            ]
           ],
           "sequential": [
            [
             0,
             "#0d0887"
            ],
            [
             0.1111111111111111,
             "#46039f"
            ],
            [
             0.2222222222222222,
             "#7201a8"
            ],
            [
             0.3333333333333333,
             "#9c179e"
            ],
            [
             0.4444444444444444,
             "#bd3786"
            ],
            [
             0.5555555555555556,
             "#d8576b"
            ],
            [
             0.6666666666666666,
             "#ed7953"
            ],
            [
             0.7777777777777778,
             "#fb9f3a"
            ],
            [
             0.8888888888888888,
             "#fdca26"
            ],
            [
             1,
             "#f0f921"
            ]
           ],
           "sequentialminus": [
            [
             0,
             "#0d0887"
            ],
            [
             0.1111111111111111,
             "#46039f"
            ],
            [
             0.2222222222222222,
             "#7201a8"
            ],
            [
             0.3333333333333333,
             "#9c179e"
            ],
            [
             0.4444444444444444,
             "#bd3786"
            ],
            [
             0.5555555555555556,
             "#d8576b"
            ],
            [
             0.6666666666666666,
             "#ed7953"
            ],
            [
             0.7777777777777778,
             "#fb9f3a"
            ],
            [
             0.8888888888888888,
             "#fdca26"
            ],
            [
             1,
             "#f0f921"
            ]
           ]
          },
          "colorway": [
           "#636efa",
           "#EF553B",
           "#00cc96",
           "#ab63fa",
           "#FFA15A",
           "#19d3f3",
           "#FF6692",
           "#B6E880",
           "#FF97FF",
           "#FECB52"
          ],
          "font": {
           "color": "#2a3f5f"
          },
          "geo": {
           "bgcolor": "white",
           "lakecolor": "white",
           "landcolor": "#E5ECF6",
           "showlakes": true,
           "showland": true,
           "subunitcolor": "white"
          },
          "hoverlabel": {
           "align": "left"
          },
          "hovermode": "closest",
          "mapbox": {
           "style": "light"
          },
          "paper_bgcolor": "white",
          "plot_bgcolor": "#E5ECF6",
          "polar": {
           "angularaxis": {
            "gridcolor": "white",
            "linecolor": "white",
            "ticks": ""
           },
           "bgcolor": "#E5ECF6",
           "radialaxis": {
            "gridcolor": "white",
            "linecolor": "white",
            "ticks": ""
           }
          },
          "scene": {
           "xaxis": {
            "backgroundcolor": "#E5ECF6",
            "gridcolor": "white",
            "gridwidth": 2,
            "linecolor": "white",
            "showbackground": true,
            "ticks": "",
            "zerolinecolor": "white"
           },
           "yaxis": {
            "backgroundcolor": "#E5ECF6",
            "gridcolor": "white",
            "gridwidth": 2,
            "linecolor": "white",
            "showbackground": true,
            "ticks": "",
            "zerolinecolor": "white"
           },
           "zaxis": {
            "backgroundcolor": "#E5ECF6",
            "gridcolor": "white",
            "gridwidth": 2,
            "linecolor": "white",
            "showbackground": true,
            "ticks": "",
            "zerolinecolor": "white"
           }
          },
          "shapedefaults": {
           "line": {
            "color": "#2a3f5f"
           }
          },
          "ternary": {
           "aaxis": {
            "gridcolor": "white",
            "linecolor": "white",
            "ticks": ""
           },
           "baxis": {
            "gridcolor": "white",
            "linecolor": "white",
            "ticks": ""
           },
           "bgcolor": "#E5ECF6",
           "caxis": {
            "gridcolor": "white",
            "linecolor": "white",
            "ticks": ""
           }
          },
          "title": {
           "x": 0.05
          },
          "xaxis": {
           "automargin": true,
           "gridcolor": "white",
           "linecolor": "white",
           "ticks": "",
           "title": {
            "standoff": 15
           },
           "zerolinecolor": "white",
           "zerolinewidth": 2
          },
          "yaxis": {
           "automargin": true,
           "gridcolor": "white",
           "linecolor": "white",
           "ticks": "",
           "title": {
            "standoff": 15
           },
           "zerolinecolor": "white",
           "zerolinewidth": 2
          }
         }
        },
        "xaxis": {
         "anchor": "y",
         "domain": [
          0,
          1
         ],
         "title": {
          "text": "AvgTaxesAsPctCigarettePrice"
         }
        },
        "yaxis": {
         "anchor": "x",
         "domain": [
          0,
          1
         ],
         "title": {
          "text": "EnforceBansTobaccoAd"
         }
        }
       }
      }
     },
     "metadata": {},
     "output_type": "display_data"
    }
   ],
   "source": [
    "px.scatter(stop_smoking_df, x=\"AvgTaxesAsPctCigarettePrice\", y=\"EnforceBansTobaccoAd\", size=\"HelpSize\", hover_name=\"Entity\")"
   ]
  },
  {
   "cell_type": "markdown",
   "id": "43a93e3f",
   "metadata": {},
   "source": [
    "## Deaths"
   ]
  },
  {
   "cell_type": "markdown",
   "id": "5e54e6d1",
   "metadata": {},
   "source": [
    "Notes\n",
    "- China surprisingly low? underreported?"
   ]
  },
  {
   "cell_type": "code",
   "execution_count": 12,
   "id": "4683775e",
   "metadata": {},
   "outputs": [
    {
     "data": {
      "text/html": [
       "<div>\n",
       "<style scoped>\n",
       "    .dataframe tbody tr th:only-of-type {\n",
       "        vertical-align: middle;\n",
       "    }\n",
       "\n",
       "    .dataframe tbody tr th {\n",
       "        vertical-align: top;\n",
       "    }\n",
       "\n",
       "    .dataframe thead th {\n",
       "        text-align: right;\n",
       "    }\n",
       "</style>\n",
       "<table border=\"1\" class=\"dataframe\">\n",
       "  <thead>\n",
       "    <tr style=\"text-align: right;\">\n",
       "      <th></th>\n",
       "      <th>Entity</th>\n",
       "      <th>Code</th>\n",
       "      <th>Year</th>\n",
       "      <th>All_ages</th>\n",
       "      <th>Under_5</th>\n",
       "      <th>5_14</th>\n",
       "      <th>50_69</th>\n",
       "      <th>15_49</th>\n",
       "      <th>70_plus</th>\n",
       "    </tr>\n",
       "  </thead>\n",
       "  <tbody>\n",
       "    <tr>\n",
       "      <th>0</th>\n",
       "      <td>Afghanistan</td>\n",
       "      <td>AFG</td>\n",
       "      <td>1990</td>\n",
       "      <td>63.895905</td>\n",
       "      <td>NaN</td>\n",
       "      <td>NaN</td>\n",
       "      <td>267.230009</td>\n",
       "      <td>16.589519</td>\n",
       "      <td>679.006755</td>\n",
       "    </tr>\n",
       "    <tr>\n",
       "      <th>1</th>\n",
       "      <td>Afghanistan</td>\n",
       "      <td>AFG</td>\n",
       "      <td>1991</td>\n",
       "      <td>61.846347</td>\n",
       "      <td>NaN</td>\n",
       "      <td>NaN</td>\n",
       "      <td>266.975516</td>\n",
       "      <td>15.456913</td>\n",
       "      <td>677.617648</td>\n",
       "    </tr>\n",
       "    <tr>\n",
       "      <th>2</th>\n",
       "      <td>Afghanistan</td>\n",
       "      <td>AFG</td>\n",
       "      <td>1992</td>\n",
       "      <td>53.436511</td>\n",
       "      <td>NaN</td>\n",
       "      <td>NaN</td>\n",
       "      <td>266.430053</td>\n",
       "      <td>12.767999</td>\n",
       "      <td>679.505810</td>\n",
       "    </tr>\n",
       "    <tr>\n",
       "      <th>3</th>\n",
       "      <td>Afghanistan</td>\n",
       "      <td>AFG</td>\n",
       "      <td>1993</td>\n",
       "      <td>47.044347</td>\n",
       "      <td>NaN</td>\n",
       "      <td>NaN</td>\n",
       "      <td>267.969428</td>\n",
       "      <td>11.000425</td>\n",
       "      <td>683.973588</td>\n",
       "    </tr>\n",
       "    <tr>\n",
       "      <th>4</th>\n",
       "      <td>Afghanistan</td>\n",
       "      <td>AFG</td>\n",
       "      <td>1994</td>\n",
       "      <td>45.799808</td>\n",
       "      <td>NaN</td>\n",
       "      <td>NaN</td>\n",
       "      <td>272.403687</td>\n",
       "      <td>10.738020</td>\n",
       "      <td>691.007773</td>\n",
       "    </tr>\n",
       "  </tbody>\n",
       "</table>\n",
       "</div>"
      ],
      "text/plain": [
       "        Entity Code  Year   All_ages  Under_5  5_14       50_69      15_49  \\\n",
       "0  Afghanistan  AFG  1990  63.895905      NaN   NaN  267.230009  16.589519   \n",
       "1  Afghanistan  AFG  1991  61.846347      NaN   NaN  266.975516  15.456913   \n",
       "2  Afghanistan  AFG  1992  53.436511      NaN   NaN  266.430053  12.767999   \n",
       "3  Afghanistan  AFG  1993  47.044347      NaN   NaN  267.969428  11.000425   \n",
       "4  Afghanistan  AFG  1994  45.799808      NaN   NaN  272.403687  10.738020   \n",
       "\n",
       "      70_plus  \n",
       "0  679.006755  \n",
       "1  677.617648  \n",
       "2  679.505810  \n",
       "3  683.973588  \n",
       "4  691.007773  "
      ]
     },
     "execution_count": 12,
     "metadata": {},
     "output_type": "execute_result"
    }
   ],
   "source": [
    "death_df.head()"
   ]
  },
  {
   "cell_type": "code",
   "execution_count": 13,
   "id": "ff19c42f",
   "metadata": {},
   "outputs": [
    {
     "data": {
      "text/plain": [
       "(1990, 2017)"
      ]
     },
     "execution_count": 13,
     "metadata": {},
     "output_type": "execute_result"
    }
   ],
   "source": [
    "death_df[\"Year\"].min(), death_df[\"Year\"].max()"
   ]
  },
  {
   "cell_type": "code",
   "execution_count": 14,
   "id": "707c97ac",
   "metadata": {},
   "outputs": [
    {
     "data": {
      "text/plain": [
       "231"
      ]
     },
     "execution_count": 14,
     "metadata": {},
     "output_type": "execute_result"
    }
   ],
   "source": [
    "len(death_df[\"Entity\"].unique())"
   ]
  },
  {
   "cell_type": "code",
   "execution_count": 15,
   "id": "34f88d7a",
   "metadata": {},
   "outputs": [],
   "source": [
    "countries = [\"Canada\", \"China\", \"United States\", \"France\", \"Greece\"]"
   ]
  },
  {
   "cell_type": "code",
   "execution_count": 16,
   "id": "e1e0dcbf",
   "metadata": {},
   "outputs": [
    {
     "data": {
      "application/vnd.plotly.v1+json": {
       "config": {
        "plotlyServerURL": "https://plot.ly"
       },
       "data": [
        {
         "hovertemplate": "Entity=Canada<br>Year=%{x}<br>All_ages=%{y}<extra></extra>",
         "legendgroup": "Canada",
         "line": {
          "color": "#636efa",
          "dash": "solid"
         },
         "marker": {
          "symbol": "circle"
         },
         "mode": "lines",
         "name": "Canada",
         "orientation": "v",
         "showlegend": true,
         "type": "scatter",
         "x": [
          1990,
          1991,
          1992,
          1993,
          1994,
          1995,
          1996,
          1997,
          1998,
          1999,
          2000,
          2001,
          2002,
          2003,
          2004,
          2005,
          2006,
          2007,
          2008,
          2009,
          2010,
          2011,
          2012,
          2013,
          2014,
          2015,
          2016,
          2017
         ],
         "xaxis": "x",
         "y": [
          202.43167839222423,
          197.58469624197969,
          193.87349404109492,
          192.9583957537284,
          188.94977319479133,
          187.23458520547564,
          183.2116008173468,
          178.57742676148794,
          175.06781039400735,
          171.06077033720612,
          165.78904069687576,
          162.49637791742518,
          160.49195909072512,
          158.83332850911924,
          155.4721246390922,
          153.93360373660866,
          149.68076465443218,
          148.95385633670412,
          147.0661658001585,
          143.25424830581525,
          138.98934988361998,
          135.71431655685484,
          136.48743871902096,
          134.19578741358083,
          136.6507685668263,
          138.04237803154876,
          136.82377805029554,
          137.18280423132384
         ],
         "yaxis": "y"
        },
        {
         "hovertemplate": "Entity=China<br>Year=%{x}<br>All_ages=%{y}<extra></extra>",
         "legendgroup": "China",
         "line": {
          "color": "#EF553B",
          "dash": "solid"
         },
         "marker": {
          "symbol": "circle"
         },
         "mode": "lines",
         "name": "China",
         "orientation": "v",
         "showlegend": true,
         "type": "scatter",
         "x": [
          1990,
          1991,
          1992,
          1993,
          1994,
          1995,
          1996,
          1997,
          1998,
          1999,
          2000,
          2001,
          2002,
          2003,
          2004,
          2005,
          2006,
          2007,
          2008,
          2009,
          2010,
          2011,
          2012,
          2013,
          2014,
          2015,
          2016,
          2017
         ],
         "xaxis": "x",
         "y": [
          103.9645779112198,
          107.09510794912336,
          109.51886227092513,
          111.7377517603646,
          113.68616385183968,
          116.2501140199796,
          118.6421622719691,
          120.49446403551838,
          123.53140204179914,
          125.66272945403692,
          128.20913924477208,
          129.7297381615315,
          132.26524898444848,
          135.60530501993375,
          136.268302690713,
          133.21111681402323,
          128.8551942156606,
          127.81365731406164,
          128.97120097968153,
          131.62187802469353,
          134.7466610256244,
          136.92590325699948,
          138.5912376280007,
          138.25392774785556,
          143.51021546953538,
          150.56707673460696,
          154.93051260495216,
          155.58818579342451
         ],
         "yaxis": "y"
        },
        {
         "hovertemplate": "Entity=France<br>Year=%{x}<br>All_ages=%{y}<extra></extra>",
         "legendgroup": "France",
         "line": {
          "color": "#00cc96",
          "dash": "solid"
         },
         "marker": {
          "symbol": "circle"
         },
         "mode": "lines",
         "name": "France",
         "orientation": "v",
         "showlegend": true,
         "type": "scatter",
         "x": [
          1990,
          1991,
          1992,
          1993,
          1994,
          1995,
          1996,
          1997,
          1998,
          1999,
          2000,
          2001,
          2002,
          2003,
          2004,
          2005,
          2006,
          2007,
          2008,
          2009,
          2010,
          2011,
          2012,
          2013,
          2014,
          2015,
          2016,
          2017
         ],
         "xaxis": "x",
         "y": [
          158.72720543935048,
          157.5769707446189,
          156.72839117408728,
          157.7699432086024,
          156.04997385471634,
          154.78308510918174,
          153.00515142610922,
          150.5628338614736,
          153.12803357375012,
          151.64082588551312,
          147.7265160277904,
          146.77566778454897,
          145.7535119099255,
          144.25923731328808,
          136.77770492428158,
          137.20474699234964,
          134.91052564432286,
          133.15705588452002,
          132.6795817043989,
          133.02502119183765,
          131.2532539468674,
          130.3207167872473,
          129.0449816133017,
          126.89217951548878,
          123.50449317625184,
          123.18943932032934,
          120.8350761815106,
          120.224099419814
         ],
         "yaxis": "y"
        },
        {
         "hovertemplate": "Entity=Greece<br>Year=%{x}<br>All_ages=%{y}<extra></extra>",
         "legendgroup": "Greece",
         "line": {
          "color": "#ab63fa",
          "dash": "solid"
         },
         "marker": {
          "symbol": "circle"
         },
         "mode": "lines",
         "name": "Greece",
         "orientation": "v",
         "showlegend": true,
         "type": "scatter",
         "x": [
          1990,
          1991,
          1992,
          1993,
          1994,
          1995,
          1996,
          1997,
          1998,
          1999,
          2000,
          2001,
          2002,
          2003,
          2004,
          2005,
          2006,
          2007,
          2008,
          2009,
          2010,
          2011,
          2012,
          2013,
          2014,
          2015,
          2016,
          2017
         ],
         "xaxis": "x",
         "y": [
          202.2204741682743,
          206.6958607846261,
          209.03139162561428,
          205.28635736846192,
          204.6950680697369,
          206.60708348942612,
          208.3253599504528,
          206.88319385697815,
          209.2710821976778,
          212.9403120970487,
          213.27297723246463,
          211.4361636919496,
          208.36472023371488,
          211.22673498724012,
          212.1535940596374,
          209.8730114299297,
          207.0243859530464,
          215.86145850374345,
          213.12403959605476,
          212.4812357155364,
          209.87469767254132,
          216.7200612832288,
          222.59524180758996,
          218.07028040564109,
          219.50924360192545,
          227.5367055349412,
          231.4334462392696,
          234.57544440562148
         ],
         "yaxis": "y"
        },
        {
         "hovertemplate": "Entity=United States<br>Year=%{x}<br>All_ages=%{y}<extra></extra>",
         "legendgroup": "United States",
         "line": {
          "color": "#FFA15A",
          "dash": "solid"
         },
         "marker": {
          "symbol": "circle"
         },
         "mode": "lines",
         "name": "United States",
         "orientation": "v",
         "showlegend": true,
         "type": "scatter",
         "x": [
          1990,
          1991,
          1992,
          1993,
          1994,
          1995,
          1996,
          1997,
          1998,
          1999,
          2000,
          2001,
          2002,
          2003,
          2004,
          2005,
          2006,
          2007,
          2008,
          2009,
          2010,
          2011,
          2012,
          2013,
          2014,
          2015,
          2016,
          2017
         ],
         "xaxis": "x",
         "y": [
          218.20518765626755,
          211.0725596573673,
          202.98612000200123,
          201.38202611054732,
          195.7392131663691,
          192.2746034069789,
          186.2948675502754,
          180.94099894032792,
          177.15421184250755,
          175.36384755209835,
          172.08977991602188,
          169.1342230683913,
          166.48754947276208,
          163.0568724985858,
          156.85365901048587,
          155.3911550270852,
          151.27753546434693,
          146.8322219230504,
          144.24753575377858,
          140.6459483428326,
          136.47197741888542,
          135.56482468482676,
          133.39305557722287,
          131.99484120283807,
          130.4972911222026,
          129.52081802325512,
          129.99027539664303,
          129.91396469333628
         ],
         "yaxis": "y"
        }
       ],
       "layout": {
        "legend": {
         "title": {
          "text": "Entity"
         },
         "tracegroupgap": 0
        },
        "margin": {
         "t": 60
        },
        "template": {
         "data": {
          "bar": [
           {
            "error_x": {
             "color": "#2a3f5f"
            },
            "error_y": {
             "color": "#2a3f5f"
            },
            "marker": {
             "line": {
              "color": "#E5ECF6",
              "width": 0.5
             },
             "pattern": {
              "fillmode": "overlay",
              "size": 10,
              "solidity": 0.2
             }
            },
            "type": "bar"
           }
          ],
          "barpolar": [
           {
            "marker": {
             "line": {
              "color": "#E5ECF6",
              "width": 0.5
             },
             "pattern": {
              "fillmode": "overlay",
              "size": 10,
              "solidity": 0.2
             }
            },
            "type": "barpolar"
           }
          ],
          "carpet": [
           {
            "aaxis": {
             "endlinecolor": "#2a3f5f",
             "gridcolor": "white",
             "linecolor": "white",
             "minorgridcolor": "white",
             "startlinecolor": "#2a3f5f"
            },
            "baxis": {
             "endlinecolor": "#2a3f5f",
             "gridcolor": "white",
             "linecolor": "white",
             "minorgridcolor": "white",
             "startlinecolor": "#2a3f5f"
            },
            "type": "carpet"
           }
          ],
          "choropleth": [
           {
            "colorbar": {
             "outlinewidth": 0,
             "ticks": ""
            },
            "type": "choropleth"
           }
          ],
          "contour": [
           {
            "colorbar": {
             "outlinewidth": 0,
             "ticks": ""
            },
            "colorscale": [
             [
              0,
              "#0d0887"
             ],
             [
              0.1111111111111111,
              "#46039f"
             ],
             [
              0.2222222222222222,
              "#7201a8"
             ],
             [
              0.3333333333333333,
              "#9c179e"
             ],
             [
              0.4444444444444444,
              "#bd3786"
             ],
             [
              0.5555555555555556,
              "#d8576b"
             ],
             [
              0.6666666666666666,
              "#ed7953"
             ],
             [
              0.7777777777777778,
              "#fb9f3a"
             ],
             [
              0.8888888888888888,
              "#fdca26"
             ],
             [
              1,
              "#f0f921"
             ]
            ],
            "type": "contour"
           }
          ],
          "contourcarpet": [
           {
            "colorbar": {
             "outlinewidth": 0,
             "ticks": ""
            },
            "type": "contourcarpet"
           }
          ],
          "heatmap": [
           {
            "colorbar": {
             "outlinewidth": 0,
             "ticks": ""
            },
            "colorscale": [
             [
              0,
              "#0d0887"
             ],
             [
              0.1111111111111111,
              "#46039f"
             ],
             [
              0.2222222222222222,
              "#7201a8"
             ],
             [
              0.3333333333333333,
              "#9c179e"
             ],
             [
              0.4444444444444444,
              "#bd3786"
             ],
             [
              0.5555555555555556,
              "#d8576b"
             ],
             [
              0.6666666666666666,
              "#ed7953"
             ],
             [
              0.7777777777777778,
              "#fb9f3a"
             ],
             [
              0.8888888888888888,
              "#fdca26"
             ],
             [
              1,
              "#f0f921"
             ]
            ],
            "type": "heatmap"
           }
          ],
          "heatmapgl": [
           {
            "colorbar": {
             "outlinewidth": 0,
             "ticks": ""
            },
            "colorscale": [
             [
              0,
              "#0d0887"
             ],
             [
              0.1111111111111111,
              "#46039f"
             ],
             [
              0.2222222222222222,
              "#7201a8"
             ],
             [
              0.3333333333333333,
              "#9c179e"
             ],
             [
              0.4444444444444444,
              "#bd3786"
             ],
             [
              0.5555555555555556,
              "#d8576b"
             ],
             [
              0.6666666666666666,
              "#ed7953"
             ],
             [
              0.7777777777777778,
              "#fb9f3a"
             ],
             [
              0.8888888888888888,
              "#fdca26"
             ],
             [
              1,
              "#f0f921"
             ]
            ],
            "type": "heatmapgl"
           }
          ],
          "histogram": [
           {
            "marker": {
             "pattern": {
              "fillmode": "overlay",
              "size": 10,
              "solidity": 0.2
             }
            },
            "type": "histogram"
           }
          ],
          "histogram2d": [
           {
            "colorbar": {
             "outlinewidth": 0,
             "ticks": ""
            },
            "colorscale": [
             [
              0,
              "#0d0887"
             ],
             [
              0.1111111111111111,
              "#46039f"
             ],
             [
              0.2222222222222222,
              "#7201a8"
             ],
             [
              0.3333333333333333,
              "#9c179e"
             ],
             [
              0.4444444444444444,
              "#bd3786"
             ],
             [
              0.5555555555555556,
              "#d8576b"
             ],
             [
              0.6666666666666666,
              "#ed7953"
             ],
             [
              0.7777777777777778,
              "#fb9f3a"
             ],
             [
              0.8888888888888888,
              "#fdca26"
             ],
             [
              1,
              "#f0f921"
             ]
            ],
            "type": "histogram2d"
           }
          ],
          "histogram2dcontour": [
           {
            "colorbar": {
             "outlinewidth": 0,
             "ticks": ""
            },
            "colorscale": [
             [
              0,
              "#0d0887"
             ],
             [
              0.1111111111111111,
              "#46039f"
             ],
             [
              0.2222222222222222,
              "#7201a8"
             ],
             [
              0.3333333333333333,
              "#9c179e"
             ],
             [
              0.4444444444444444,
              "#bd3786"
             ],
             [
              0.5555555555555556,
              "#d8576b"
             ],
             [
              0.6666666666666666,
              "#ed7953"
             ],
             [
              0.7777777777777778,
              "#fb9f3a"
             ],
             [
              0.8888888888888888,
              "#fdca26"
             ],
             [
              1,
              "#f0f921"
             ]
            ],
            "type": "histogram2dcontour"
           }
          ],
          "mesh3d": [
           {
            "colorbar": {
             "outlinewidth": 0,
             "ticks": ""
            },
            "type": "mesh3d"
           }
          ],
          "parcoords": [
           {
            "line": {
             "colorbar": {
              "outlinewidth": 0,
              "ticks": ""
             }
            },
            "type": "parcoords"
           }
          ],
          "pie": [
           {
            "automargin": true,
            "type": "pie"
           }
          ],
          "scatter": [
           {
            "marker": {
             "colorbar": {
              "outlinewidth": 0,
              "ticks": ""
             }
            },
            "type": "scatter"
           }
          ],
          "scatter3d": [
           {
            "line": {
             "colorbar": {
              "outlinewidth": 0,
              "ticks": ""
             }
            },
            "marker": {
             "colorbar": {
              "outlinewidth": 0,
              "ticks": ""
             }
            },
            "type": "scatter3d"
           }
          ],
          "scattercarpet": [
           {
            "marker": {
             "colorbar": {
              "outlinewidth": 0,
              "ticks": ""
             }
            },
            "type": "scattercarpet"
           }
          ],
          "scattergeo": [
           {
            "marker": {
             "colorbar": {
              "outlinewidth": 0,
              "ticks": ""
             }
            },
            "type": "scattergeo"
           }
          ],
          "scattergl": [
           {
            "marker": {
             "colorbar": {
              "outlinewidth": 0,
              "ticks": ""
             }
            },
            "type": "scattergl"
           }
          ],
          "scattermapbox": [
           {
            "marker": {
             "colorbar": {
              "outlinewidth": 0,
              "ticks": ""
             }
            },
            "type": "scattermapbox"
           }
          ],
          "scatterpolar": [
           {
            "marker": {
             "colorbar": {
              "outlinewidth": 0,
              "ticks": ""
             }
            },
            "type": "scatterpolar"
           }
          ],
          "scatterpolargl": [
           {
            "marker": {
             "colorbar": {
              "outlinewidth": 0,
              "ticks": ""
             }
            },
            "type": "scatterpolargl"
           }
          ],
          "scatterternary": [
           {
            "marker": {
             "colorbar": {
              "outlinewidth": 0,
              "ticks": ""
             }
            },
            "type": "scatterternary"
           }
          ],
          "surface": [
           {
            "colorbar": {
             "outlinewidth": 0,
             "ticks": ""
            },
            "colorscale": [
             [
              0,
              "#0d0887"
             ],
             [
              0.1111111111111111,
              "#46039f"
             ],
             [
              0.2222222222222222,
              "#7201a8"
             ],
             [
              0.3333333333333333,
              "#9c179e"
             ],
             [
              0.4444444444444444,
              "#bd3786"
             ],
             [
              0.5555555555555556,
              "#d8576b"
             ],
             [
              0.6666666666666666,
              "#ed7953"
             ],
             [
              0.7777777777777778,
              "#fb9f3a"
             ],
             [
              0.8888888888888888,
              "#fdca26"
             ],
             [
              1,
              "#f0f921"
             ]
            ],
            "type": "surface"
           }
          ],
          "table": [
           {
            "cells": {
             "fill": {
              "color": "#EBF0F8"
             },
             "line": {
              "color": "white"
             }
            },
            "header": {
             "fill": {
              "color": "#C8D4E3"
             },
             "line": {
              "color": "white"
             }
            },
            "type": "table"
           }
          ]
         },
         "layout": {
          "annotationdefaults": {
           "arrowcolor": "#2a3f5f",
           "arrowhead": 0,
           "arrowwidth": 1
          },
          "autotypenumbers": "strict",
          "coloraxis": {
           "colorbar": {
            "outlinewidth": 0,
            "ticks": ""
           }
          },
          "colorscale": {
           "diverging": [
            [
             0,
             "#8e0152"
            ],
            [
             0.1,
             "#c51b7d"
            ],
            [
             0.2,
             "#de77ae"
            ],
            [
             0.3,
             "#f1b6da"
            ],
            [
             0.4,
             "#fde0ef"
            ],
            [
             0.5,
             "#f7f7f7"
            ],
            [
             0.6,
             "#e6f5d0"
            ],
            [
             0.7,
             "#b8e186"
            ],
            [
             0.8,
             "#7fbc41"
            ],
            [
             0.9,
             "#4d9221"
            ],
            [
             1,
             "#276419"
            ]
           ],
           "sequential": [
            [
             0,
             "#0d0887"
            ],
            [
             0.1111111111111111,
             "#46039f"
            ],
            [
             0.2222222222222222,
             "#7201a8"
            ],
            [
             0.3333333333333333,
             "#9c179e"
            ],
            [
             0.4444444444444444,
             "#bd3786"
            ],
            [
             0.5555555555555556,
             "#d8576b"
            ],
            [
             0.6666666666666666,
             "#ed7953"
            ],
            [
             0.7777777777777778,
             "#fb9f3a"
            ],
            [
             0.8888888888888888,
             "#fdca26"
            ],
            [
             1,
             "#f0f921"
            ]
           ],
           "sequentialminus": [
            [
             0,
             "#0d0887"
            ],
            [
             0.1111111111111111,
             "#46039f"
            ],
            [
             0.2222222222222222,
             "#7201a8"
            ],
            [
             0.3333333333333333,
             "#9c179e"
            ],
            [
             0.4444444444444444,
             "#bd3786"
            ],
            [
             0.5555555555555556,
             "#d8576b"
            ],
            [
             0.6666666666666666,
             "#ed7953"
            ],
            [
             0.7777777777777778,
             "#fb9f3a"
            ],
            [
             0.8888888888888888,
             "#fdca26"
            ],
            [
             1,
             "#f0f921"
            ]
           ]
          },
          "colorway": [
           "#636efa",
           "#EF553B",
           "#00cc96",
           "#ab63fa",
           "#FFA15A",
           "#19d3f3",
           "#FF6692",
           "#B6E880",
           "#FF97FF",
           "#FECB52"
          ],
          "font": {
           "color": "#2a3f5f"
          },
          "geo": {
           "bgcolor": "white",
           "lakecolor": "white",
           "landcolor": "#E5ECF6",
           "showlakes": true,
           "showland": true,
           "subunitcolor": "white"
          },
          "hoverlabel": {
           "align": "left"
          },
          "hovermode": "closest",
          "mapbox": {
           "style": "light"
          },
          "paper_bgcolor": "white",
          "plot_bgcolor": "#E5ECF6",
          "polar": {
           "angularaxis": {
            "gridcolor": "white",
            "linecolor": "white",
            "ticks": ""
           },
           "bgcolor": "#E5ECF6",
           "radialaxis": {
            "gridcolor": "white",
            "linecolor": "white",
            "ticks": ""
           }
          },
          "scene": {
           "xaxis": {
            "backgroundcolor": "#E5ECF6",
            "gridcolor": "white",
            "gridwidth": 2,
            "linecolor": "white",
            "showbackground": true,
            "ticks": "",
            "zerolinecolor": "white"
           },
           "yaxis": {
            "backgroundcolor": "#E5ECF6",
            "gridcolor": "white",
            "gridwidth": 2,
            "linecolor": "white",
            "showbackground": true,
            "ticks": "",
            "zerolinecolor": "white"
           },
           "zaxis": {
            "backgroundcolor": "#E5ECF6",
            "gridcolor": "white",
            "gridwidth": 2,
            "linecolor": "white",
            "showbackground": true,
            "ticks": "",
            "zerolinecolor": "white"
           }
          },
          "shapedefaults": {
           "line": {
            "color": "#2a3f5f"
           }
          },
          "ternary": {
           "aaxis": {
            "gridcolor": "white",
            "linecolor": "white",
            "ticks": ""
           },
           "baxis": {
            "gridcolor": "white",
            "linecolor": "white",
            "ticks": ""
           },
           "bgcolor": "#E5ECF6",
           "caxis": {
            "gridcolor": "white",
            "linecolor": "white",
            "ticks": ""
           }
          },
          "title": {
           "x": 0.05
          },
          "xaxis": {
           "automargin": true,
           "gridcolor": "white",
           "linecolor": "white",
           "ticks": "",
           "title": {
            "standoff": 15
           },
           "zerolinecolor": "white",
           "zerolinewidth": 2
          },
          "yaxis": {
           "automargin": true,
           "gridcolor": "white",
           "linecolor": "white",
           "ticks": "",
           "title": {
            "standoff": 15
           },
           "zerolinecolor": "white",
           "zerolinewidth": 2
          }
         }
        },
        "xaxis": {
         "anchor": "y",
         "domain": [
          0,
          1
         ],
         "title": {
          "text": "Year"
         }
        },
        "yaxis": {
         "anchor": "x",
         "domain": [
          0,
          1
         ],
         "title": {
          "text": "All_ages"
         }
        }
       }
      }
     },
     "metadata": {},
     "output_type": "display_data"
    }
   ],
   "source": [
    "px.line(death_df[death_df[\"Entity\"].isin(countries)], x=\"Year\", y=\"All_ages\", color=\"Entity\")"
   ]
  },
  {
   "cell_type": "markdown",
   "id": "d294d5ea",
   "metadata": {},
   "source": [
    "## Extra"
   ]
  },
  {
   "cell_type": "code",
   "execution_count": 17,
   "id": "6111f6e9",
   "metadata": {},
   "outputs": [
    {
     "data": {
      "text/html": [
       "<div>\n",
       "<style scoped>\n",
       "    .dataframe tbody tr th:only-of-type {\n",
       "        vertical-align: middle;\n",
       "    }\n",
       "\n",
       "    .dataframe tbody tr th {\n",
       "        vertical-align: top;\n",
       "    }\n",
       "\n",
       "    .dataframe thead th {\n",
       "        text-align: right;\n",
       "    }\n",
       "</style>\n",
       "<table border=\"1\" class=\"dataframe\">\n",
       "  <thead>\n",
       "    <tr style=\"text-align: right;\">\n",
       "      <th></th>\n",
       "      <th>ParentLocationCode</th>\n",
       "      <th>ParentLocation</th>\n",
       "      <th>SpatialDimValueCode</th>\n",
       "      <th>Location</th>\n",
       "      <th>Year</th>\n",
       "      <th>Gender</th>\n",
       "      <th>Value</th>\n",
       "      <th>arg</th>\n",
       "      <th>cpi</th>\n",
       "      <th>edu</th>\n",
       "      <th>...</th>\n",
       "      <th>tax</th>\n",
       "      <th>LifeLadder</th>\n",
       "      <th>LogGDPPerCapita</th>\n",
       "      <th>SocialSupport</th>\n",
       "      <th>Expectancy</th>\n",
       "      <th>Freedom</th>\n",
       "      <th>Generosity</th>\n",
       "      <th>Corruption</th>\n",
       "      <th>PositiveAffect</th>\n",
       "      <th>NegativeAffect</th>\n",
       "    </tr>\n",
       "  </thead>\n",
       "  <tbody>\n",
       "    <tr>\n",
       "      <th>0</th>\n",
       "      <td>SEAR</td>\n",
       "      <td>South-East Asia</td>\n",
       "      <td>PRK</td>\n",
       "      <td>Democratic People's Republic of Korea</td>\n",
       "      <td>2018</td>\n",
       "      <td>Female</td>\n",
       "      <td>0.0</td>\n",
       "      <td>NaN</td>\n",
       "      <td>NaN</td>\n",
       "      <td>NaN</td>\n",
       "      <td>...</td>\n",
       "      <td>NaN</td>\n",
       "      <td>NaN</td>\n",
       "      <td>NaN</td>\n",
       "      <td>NaN</td>\n",
       "      <td>NaN</td>\n",
       "      <td>NaN</td>\n",
       "      <td>NaN</td>\n",
       "      <td>NaN</td>\n",
       "      <td>NaN</td>\n",
       "      <td>NaN</td>\n",
       "    </tr>\n",
       "    <tr>\n",
       "      <th>1</th>\n",
       "      <td>EUR</td>\n",
       "      <td>Europe</td>\n",
       "      <td>AZE</td>\n",
       "      <td>Azerbaijan</td>\n",
       "      <td>2018</td>\n",
       "      <td>Female</td>\n",
       "      <td>0.2</td>\n",
       "      <td>57.825393</td>\n",
       "      <td>152.900000</td>\n",
       "      <td>94.480080</td>\n",
       "      <td>...</td>\n",
       "      <td>7.987705</td>\n",
       "      <td>5.168</td>\n",
       "      <td>9.562</td>\n",
       "      <td>0.781</td>\n",
       "      <td>65.5</td>\n",
       "      <td>0.772</td>\n",
       "      <td>-0.232</td>\n",
       "      <td>0.561</td>\n",
       "      <td>0.593</td>\n",
       "      <td>0.191</td>\n",
       "    </tr>\n",
       "    <tr>\n",
       "      <th>2</th>\n",
       "      <td>AFR</td>\n",
       "      <td>Africa</td>\n",
       "      <td>ERI</td>\n",
       "      <td>Eritrea</td>\n",
       "      <td>2018</td>\n",
       "      <td>Female</td>\n",
       "      <td>0.3</td>\n",
       "      <td>75.168317</td>\n",
       "      <td>NaN</td>\n",
       "      <td>47.697109</td>\n",
       "      <td>...</td>\n",
       "      <td>NaN</td>\n",
       "      <td>NaN</td>\n",
       "      <td>NaN</td>\n",
       "      <td>NaN</td>\n",
       "      <td>NaN</td>\n",
       "      <td>NaN</td>\n",
       "      <td>NaN</td>\n",
       "      <td>NaN</td>\n",
       "      <td>NaN</td>\n",
       "      <td>NaN</td>\n",
       "    </tr>\n",
       "    <tr>\n",
       "      <th>3</th>\n",
       "      <td>EMR</td>\n",
       "      <td>Eastern Mediterranean</td>\n",
       "      <td>EGY</td>\n",
       "      <td>Egypt</td>\n",
       "      <td>2018</td>\n",
       "      <td>Female</td>\n",
       "      <td>0.4</td>\n",
       "      <td>NaN</td>\n",
       "      <td>NaN</td>\n",
       "      <td>NaN</td>\n",
       "      <td>...</td>\n",
       "      <td>NaN</td>\n",
       "      <td>NaN</td>\n",
       "      <td>NaN</td>\n",
       "      <td>NaN</td>\n",
       "      <td>NaN</td>\n",
       "      <td>NaN</td>\n",
       "      <td>NaN</td>\n",
       "      <td>NaN</td>\n",
       "      <td>NaN</td>\n",
       "      <td>NaN</td>\n",
       "    </tr>\n",
       "    <tr>\n",
       "      <th>4</th>\n",
       "      <td>AFR</td>\n",
       "      <td>Africa</td>\n",
       "      <td>GHA</td>\n",
       "      <td>Ghana</td>\n",
       "      <td>2018</td>\n",
       "      <td>Female</td>\n",
       "      <td>0.4</td>\n",
       "      <td>64.967654</td>\n",
       "      <td>231.807235</td>\n",
       "      <td>71.319687</td>\n",
       "      <td>...</td>\n",
       "      <td>6.569099</td>\n",
       "      <td>5.004</td>\n",
       "      <td>8.555</td>\n",
       "      <td>0.761</td>\n",
       "      <td>57.2</td>\n",
       "      <td>0.817</td>\n",
       "      <td>0.062</td>\n",
       "      <td>0.846</td>\n",
       "      <td>0.747</td>\n",
       "      <td>0.250</td>\n",
       "    </tr>\n",
       "    <tr>\n",
       "      <th>...</th>\n",
       "      <td>...</td>\n",
       "      <td>...</td>\n",
       "      <td>...</td>\n",
       "      <td>...</td>\n",
       "      <td>...</td>\n",
       "      <td>...</td>\n",
       "      <td>...</td>\n",
       "      <td>...</td>\n",
       "      <td>...</td>\n",
       "      <td>...</td>\n",
       "      <td>...</td>\n",
       "      <td>...</td>\n",
       "      <td>...</td>\n",
       "      <td>...</td>\n",
       "      <td>...</td>\n",
       "      <td>...</td>\n",
       "      <td>...</td>\n",
       "      <td>...</td>\n",
       "      <td>...</td>\n",
       "      <td>...</td>\n",
       "      <td>...</td>\n",
       "    </tr>\n",
       "    <tr>\n",
       "      <th>4018</th>\n",
       "      <td>WPR</td>\n",
       "      <td>Western Pacific</td>\n",
       "      <td>TUV</td>\n",
       "      <td>Tuvalu</td>\n",
       "      <td>2000</td>\n",
       "      <td>Male</td>\n",
       "      <td>84.6</td>\n",
       "      <td>66.666667</td>\n",
       "      <td>NaN</td>\n",
       "      <td>NaN</td>\n",
       "      <td>...</td>\n",
       "      <td>NaN</td>\n",
       "      <td>NaN</td>\n",
       "      <td>NaN</td>\n",
       "      <td>NaN</td>\n",
       "      <td>NaN</td>\n",
       "      <td>NaN</td>\n",
       "      <td>NaN</td>\n",
       "      <td>NaN</td>\n",
       "      <td>NaN</td>\n",
       "      <td>NaN</td>\n",
       "    </tr>\n",
       "    <tr>\n",
       "      <th>4019</th>\n",
       "      <td>AMR</td>\n",
       "      <td>Americas</td>\n",
       "      <td>JAM</td>\n",
       "      <td>Jamaica</td>\n",
       "      <td>2000</td>\n",
       "      <td>Female</td>\n",
       "      <td>9.1</td>\n",
       "      <td>44.228994</td>\n",
       "      <td>34.041977</td>\n",
       "      <td>85.287460</td>\n",
       "      <td>...</td>\n",
       "      <td>10.929125</td>\n",
       "      <td>NaN</td>\n",
       "      <td>NaN</td>\n",
       "      <td>NaN</td>\n",
       "      <td>NaN</td>\n",
       "      <td>NaN</td>\n",
       "      <td>NaN</td>\n",
       "      <td>NaN</td>\n",
       "      <td>NaN</td>\n",
       "      <td>NaN</td>\n",
       "    </tr>\n",
       "    <tr>\n",
       "      <th>4020</th>\n",
       "      <td>AFR</td>\n",
       "      <td>Africa</td>\n",
       "      <td>STP</td>\n",
       "      <td>Sao Tome and Principe</td>\n",
       "      <td>2000</td>\n",
       "      <td>Male</td>\n",
       "      <td>9.2</td>\n",
       "      <td>51.041667</td>\n",
       "      <td>22.349333</td>\n",
       "      <td>NaN</td>\n",
       "      <td>...</td>\n",
       "      <td>NaN</td>\n",
       "      <td>NaN</td>\n",
       "      <td>NaN</td>\n",
       "      <td>NaN</td>\n",
       "      <td>NaN</td>\n",
       "      <td>NaN</td>\n",
       "      <td>NaN</td>\n",
       "      <td>NaN</td>\n",
       "      <td>NaN</td>\n",
       "      <td>NaN</td>\n",
       "    </tr>\n",
       "    <tr>\n",
       "      <th>4021</th>\n",
       "      <td>EMR</td>\n",
       "      <td>Eastern Mediterranean</td>\n",
       "      <td>OMN</td>\n",
       "      <td>Oman</td>\n",
       "      <td>2000</td>\n",
       "      <td>Both sexes</td>\n",
       "      <td>9.5</td>\n",
       "      <td>3.789984</td>\n",
       "      <td>74.767613</td>\n",
       "      <td>78.232674</td>\n",
       "      <td>...</td>\n",
       "      <td>NaN</td>\n",
       "      <td>NaN</td>\n",
       "      <td>NaN</td>\n",
       "      <td>NaN</td>\n",
       "      <td>NaN</td>\n",
       "      <td>NaN</td>\n",
       "      <td>NaN</td>\n",
       "      <td>NaN</td>\n",
       "      <td>NaN</td>\n",
       "      <td>NaN</td>\n",
       "    </tr>\n",
       "    <tr>\n",
       "      <th>4022</th>\n",
       "      <td>SEAR</td>\n",
       "      <td>South-East Asia</td>\n",
       "      <td>TLS</td>\n",
       "      <td>Timor-Leste</td>\n",
       "      <td>2000</td>\n",
       "      <td>Male</td>\n",
       "      <td>91.0</td>\n",
       "      <td>22.663080</td>\n",
       "      <td>NaN</td>\n",
       "      <td>NaN</td>\n",
       "      <td>...</td>\n",
       "      <td>NaN</td>\n",
       "      <td>NaN</td>\n",
       "      <td>NaN</td>\n",
       "      <td>NaN</td>\n",
       "      <td>NaN</td>\n",
       "      <td>NaN</td>\n",
       "      <td>NaN</td>\n",
       "      <td>NaN</td>\n",
       "      <td>NaN</td>\n",
       "      <td>NaN</td>\n",
       "    </tr>\n",
       "  </tbody>\n",
       "</table>\n",
       "<p>4023 rows × 26 columns</p>\n",
       "</div>"
      ],
      "text/plain": [
       "     ParentLocationCode         ParentLocation SpatialDimValueCode  \\\n",
       "0                  SEAR        South-East Asia                 PRK   \n",
       "1                   EUR                 Europe                 AZE   \n",
       "2                   AFR                 Africa                 ERI   \n",
       "3                   EMR  Eastern Mediterranean                 EGY   \n",
       "4                   AFR                 Africa                 GHA   \n",
       "...                 ...                    ...                 ...   \n",
       "4018                WPR        Western Pacific                 TUV   \n",
       "4019                AMR               Americas                 JAM   \n",
       "4020                AFR                 Africa                 STP   \n",
       "4021                EMR  Eastern Mediterranean                 OMN   \n",
       "4022               SEAR        South-East Asia                 TLS   \n",
       "\n",
       "                                   Location  Year      Gender  Value  \\\n",
       "0     Democratic People's Republic of Korea  2018      Female    0.0   \n",
       "1                                Azerbaijan  2018      Female    0.2   \n",
       "2                                   Eritrea  2018      Female    0.3   \n",
       "3                                     Egypt  2018      Female    0.4   \n",
       "4                                     Ghana  2018      Female    0.4   \n",
       "...                                     ...   ...         ...    ...   \n",
       "4018                                 Tuvalu  2000        Male   84.6   \n",
       "4019                                Jamaica  2000      Female    9.1   \n",
       "4020                  Sao Tome and Principe  2000        Male    9.2   \n",
       "4021                                   Oman  2000  Both sexes    9.5   \n",
       "4022                            Timor-Leste  2000        Male   91.0   \n",
       "\n",
       "            arg         cpi        edu  ...        tax  LifeLadder  \\\n",
       "0           NaN         NaN        NaN  ...        NaN         NaN   \n",
       "1     57.825393  152.900000  94.480080  ...   7.987705       5.168   \n",
       "2     75.168317         NaN  47.697109  ...        NaN         NaN   \n",
       "3           NaN         NaN        NaN  ...        NaN         NaN   \n",
       "4     64.967654  231.807235  71.319687  ...   6.569099       5.004   \n",
       "...         ...         ...        ...  ...        ...         ...   \n",
       "4018  66.666667         NaN        NaN  ...        NaN         NaN   \n",
       "4019  44.228994   34.041977  85.287460  ...  10.929125         NaN   \n",
       "4020  51.041667   22.349333        NaN  ...        NaN         NaN   \n",
       "4021   3.789984   74.767613  78.232674  ...        NaN         NaN   \n",
       "4022  22.663080         NaN        NaN  ...        NaN         NaN   \n",
       "\n",
       "      LogGDPPerCapita  SocialSupport  Expectancy  Freedom  Generosity  \\\n",
       "0                 NaN            NaN         NaN      NaN         NaN   \n",
       "1               9.562          0.781        65.5    0.772      -0.232   \n",
       "2                 NaN            NaN         NaN      NaN         NaN   \n",
       "3                 NaN            NaN         NaN      NaN         NaN   \n",
       "4               8.555          0.761        57.2    0.817       0.062   \n",
       "...               ...            ...         ...      ...         ...   \n",
       "4018              NaN            NaN         NaN      NaN         NaN   \n",
       "4019              NaN            NaN         NaN      NaN         NaN   \n",
       "4020              NaN            NaN         NaN      NaN         NaN   \n",
       "4021              NaN            NaN         NaN      NaN         NaN   \n",
       "4022              NaN            NaN         NaN      NaN         NaN   \n",
       "\n",
       "      Corruption  PositiveAffect  NegativeAffect  \n",
       "0            NaN             NaN             NaN  \n",
       "1          0.561           0.593           0.191  \n",
       "2            NaN             NaN             NaN  \n",
       "3            NaN             NaN             NaN  \n",
       "4          0.846           0.747           0.250  \n",
       "...          ...             ...             ...  \n",
       "4018         NaN             NaN             NaN  \n",
       "4019         NaN             NaN             NaN  \n",
       "4020         NaN             NaN             NaN  \n",
       "4021         NaN             NaN             NaN  \n",
       "4022         NaN             NaN             NaN  \n",
       "\n",
       "[4023 rows x 26 columns]"
      ]
     },
     "execution_count": 17,
     "metadata": {},
     "output_type": "execute_result"
    }
   ],
   "source": [
    "extra_ww_df"
   ]
  },
  {
   "cell_type": "markdown",
   "id": "3a6026a1",
   "metadata": {},
   "source": [
    "## Effect of regulation on tobacco usage (no baseline)"
   ]
  },
  {
   "cell_type": "code",
   "execution_count": 21,
   "id": "2a24f526",
   "metadata": {},
   "outputs": [],
   "source": [
    "from matplotlib import pyplot as plt\n",
    "import seaborn as sns"
   ]
  },
  {
   "cell_type": "code",
   "execution_count": 22,
   "id": "2143b47c",
   "metadata": {},
   "outputs": [],
   "source": [
    "def draw_tax_plot(reg_use_df, parent_location=None, save=None):\n",
    "    if parent_location == \"ALL\":\n",
    "        fig, axes = plt.subplots(2, 3, figsize=(18, 10))\n",
    "        min_y = reg_use_df[\"Pct_Smoking\"].min()\n",
    "        max_y = reg_use_df[\"Pct_Smoking\"].max()\n",
    "        for i, area in enumerate(reg_use_df[\"ParentLocation\"].unique()):\n",
    "            area_df = reg_use_df.query(f\"ParentLocation == '{area}'\")\n",
    "            row = i // 3\n",
    "            col = i % 3\n",
    "            sns.scatterplot(ax=axes[row][col], data=area_df, x=\"AvgTaxesAsPctCigarettePrice\", y=\"Pct_Smoking\")\n",
    "            sns.regplot(ax=axes[row][col], data=area_df, x=\"AvgTaxesAsPctCigarettePrice\", y=\"Pct_Smoking\", ci=None)\n",
    "            axes[row][col].set_xlabel(area)\n",
    "            axes[row][col].set_ylim(min_y, max_y)\n",
    "    else:\n",
    "        if parent_location is not None:\n",
    "            reg_use_df = reg_use_df.query(f\"ParentLocationCode == '{parent_location}'\")\n",
    "        fig, axes = plt.subplots(1, 1, figsize=(6, 5))\n",
    "        sns.scatterplot(ax=axes, data=reg_use_df, x=\"AvgTaxesAsPctCigarettePrice\", y=\"Pct_Smoking\")\n",
    "        sns.regplot(ax=axes, data=reg_use_df, x=\"AvgTaxesAsPctCigarettePrice\", y=\"Pct_Smoking\", ci=None)\n",
    "\n",
    "    if save is not None:\n",
    "        fig.savefig(f\"plots/{save}\")\n",
    "\n",
    "def draw_ads_plot(reg_use_df, parent_location=None, save=None):\n",
    "    if parent_location == \"ALL\":\n",
    "        fig, axes = plt.subplots(2, 3, figsize=(18, 10))\n",
    "        min_y = reg_use_df[\"Pct_Smoking\"].min()\n",
    "        max_y = reg_use_df[\"Pct_Smoking\"].max()\n",
    "        for i, area in enumerate(reg_use_df[\"ParentLocation\"].unique()):\n",
    "            area_df = reg_use_df.query(f\"ParentLocation == '{area}'\")\n",
    "            row = i // 3\n",
    "            col = i % 3\n",
    "            sns.barplot(ax=axes[row][col], data=area_df, x=\"EnforceBansTobaccoAd\", y=\"Pct_Smoking\", ci=68)\n",
    "            axes[row][col].set_xlabel(area)\n",
    "            axes[row][col].set_ylim(min_y, max_y)\n",
    "    else:\n",
    "        if parent_location is not None:\n",
    "            reg_use_df = reg_use_df.query(f\"ParentLocationCode == '{parent_location}'\")\n",
    "        fig, axes = plt.subplots(1, 1, figsize=(6, 5))\n",
    "        sns.barplot(ax=axes, data=reg_use_df, x=\"EnforceBansTobaccoAd\", y=\"Pct_Smoking\", ci=68)\n",
    "\n",
    "    if save is not None:\n",
    "        fig.savefig(f\"plots/{save}\")\n",
    "\n",
    "def draw_help_plot(reg_use_df, parent_location=None, save=None):\n",
    "    if parent_location == \"ALL\":\n",
    "        fig, axes = plt.subplots(2, 3, figsize=(18, 10))\n",
    "        min_y = reg_use_df[\"Pct_Smoking\"].min()\n",
    "        max_y = reg_use_df[\"Pct_Smoking\"].max()\n",
    "        for i, area in enumerate(reg_use_df[\"ParentLocation\"].unique()):\n",
    "            area_df = reg_use_df.query(f\"ParentLocation == '{area}'\")\n",
    "            row = i // 3\n",
    "            col = i % 3\n",
    "            sns.barplot(ax=axes[row][col], data=area_df, x=\"HelpToQuit\", y=\"Pct_Smoking\", ci=68)\n",
    "            axes[row][col].set_xlabel(area)\n",
    "            axes[row][col].set_ylim(min_y, max_y)\n",
    "    else:\n",
    "        if parent_location is not None:\n",
    "            reg_use_df = reg_use_df.query(f\"ParentLocationCode == '{parent_location}'\")\n",
    "        fig, axes = plt.subplots(1, 1, figsize=(6, 5))\n",
    "        sns.barplot(ax=axes, data=reg_use_df, x=\"HelpToQuit\", y=\"Pct_Smoking\", ci=68)\n",
    "\n",
    "    if save is not None:\n",
    "        fig.savefig(f\"plots/{save}\")"
   ]
  },
  {
   "cell_type": "code",
   "execution_count": 23,
   "metadata": {},
   "outputs": [],
   "source": [
    "def merge_reg_use(reg_df, use_df, year_delay=1):\n",
    "    reg_df = reg_df.copy()\n",
    "    use_df = use_df.copy()\n",
    "\n",
    "    use_df = use_df.rename(columns={\"SpatialDimValueCode\": \"Code\", \"Value\": \"Pct_Smoking\"}).query(\"Gender == 'Both sexes'\")\n",
    "    use_df = use_df[use_df[\"Year\"] == 2018]\n",
    "    reg_df = reg_df[reg_df[\"Year\"] == 2014]\n",
    "    # reg_df[\"EffectiveYear\"] = reg_df[\"Year\"] + year_delay\n",
    "\n",
    "    reg_use_df = pd.merge(reg_df, use_df, left_on=\"Code\", right_on=\"Code\")\n",
    "    return reg_use_df\n"
   ]
  },
  {
   "cell_type": "code",
   "execution_count": 24,
   "metadata": {},
   "outputs": [
    {
     "data": {
      "text/html": [
       "<div>\n",
       "<style scoped>\n",
       "    .dataframe tbody tr th:only-of-type {\n",
       "        vertical-align: middle;\n",
       "    }\n",
       "\n",
       "    .dataframe tbody tr th {\n",
       "        vertical-align: top;\n",
       "    }\n",
       "\n",
       "    .dataframe thead th {\n",
       "        text-align: right;\n",
       "    }\n",
       "</style>\n",
       "<table border=\"1\" class=\"dataframe\">\n",
       "  <thead>\n",
       "    <tr style=\"text-align: right;\">\n",
       "      <th></th>\n",
       "      <th>Entity</th>\n",
       "      <th>Code</th>\n",
       "      <th>Year_x</th>\n",
       "      <th>AvgCigarettePriceDollars</th>\n",
       "      <th>AvgTaxesAsPctCigarettePrice</th>\n",
       "      <th>EnforceBansTobaccoAd</th>\n",
       "      <th>HelpToQuit</th>\n",
       "      <th>HelpSize</th>\n",
       "      <th>ParentLocationCode</th>\n",
       "      <th>ParentLocation</th>\n",
       "      <th>Location</th>\n",
       "      <th>Year_y</th>\n",
       "      <th>Gender</th>\n",
       "      <th>Pct_Smoking</th>\n",
       "    </tr>\n",
       "  </thead>\n",
       "  <tbody>\n",
       "    <tr>\n",
       "      <th>0</th>\n",
       "      <td>Algeria</td>\n",
       "      <td>DZA</td>\n",
       "      <td>2014</td>\n",
       "      <td>2.09</td>\n",
       "      <td>40.9</td>\n",
       "      <td>4</td>\n",
       "      <td>4</td>\n",
       "      <td>0.64</td>\n",
       "      <td>AFR</td>\n",
       "      <td>Africa</td>\n",
       "      <td>Algeria</td>\n",
       "      <td>2018</td>\n",
       "      <td>Both sexes</td>\n",
       "      <td>18.8</td>\n",
       "    </tr>\n",
       "    <tr>\n",
       "      <th>1</th>\n",
       "      <td>Argentina</td>\n",
       "      <td>ARG</td>\n",
       "      <td>2014</td>\n",
       "      <td>3.47</td>\n",
       "      <td>69.7</td>\n",
       "      <td>4</td>\n",
       "      <td>5</td>\n",
       "      <td>1.00</td>\n",
       "      <td>AMR</td>\n",
       "      <td>Americas</td>\n",
       "      <td>Argentina</td>\n",
       "      <td>2018</td>\n",
       "      <td>Both sexes</td>\n",
       "      <td>21.8</td>\n",
       "    </tr>\n",
       "    <tr>\n",
       "      <th>2</th>\n",
       "      <td>Armenia</td>\n",
       "      <td>ARM</td>\n",
       "      <td>2014</td>\n",
       "      <td>1.74</td>\n",
       "      <td>44.1</td>\n",
       "      <td>2</td>\n",
       "      <td>4</td>\n",
       "      <td>0.64</td>\n",
       "      <td>EUR</td>\n",
       "      <td>Europe</td>\n",
       "      <td>Armenia</td>\n",
       "      <td>2018</td>\n",
       "      <td>Both sexes</td>\n",
       "      <td>26.7</td>\n",
       "    </tr>\n",
       "    <tr>\n",
       "      <th>3</th>\n",
       "      <td>Australia</td>\n",
       "      <td>AUS</td>\n",
       "      <td>2014</td>\n",
       "      <td>10.64</td>\n",
       "      <td>58.4</td>\n",
       "      <td>4</td>\n",
       "      <td>5</td>\n",
       "      <td>1.00</td>\n",
       "      <td>WPR</td>\n",
       "      <td>Western Pacific</td>\n",
       "      <td>Australia</td>\n",
       "      <td>2018</td>\n",
       "      <td>Both sexes</td>\n",
       "      <td>16.2</td>\n",
       "    </tr>\n",
       "    <tr>\n",
       "      <th>4</th>\n",
       "      <td>Austria</td>\n",
       "      <td>AUT</td>\n",
       "      <td>2014</td>\n",
       "      <td>5.34</td>\n",
       "      <td>74.9</td>\n",
       "      <td>4</td>\n",
       "      <td>4</td>\n",
       "      <td>0.64</td>\n",
       "      <td>EUR</td>\n",
       "      <td>Europe</td>\n",
       "      <td>Austria</td>\n",
       "      <td>2018</td>\n",
       "      <td>Both sexes</td>\n",
       "      <td>29.1</td>\n",
       "    </tr>\n",
       "    <tr>\n",
       "      <th>...</th>\n",
       "      <td>...</td>\n",
       "      <td>...</td>\n",
       "      <td>...</td>\n",
       "      <td>...</td>\n",
       "      <td>...</td>\n",
       "      <td>...</td>\n",
       "      <td>...</td>\n",
       "      <td>...</td>\n",
       "      <td>...</td>\n",
       "      <td>...</td>\n",
       "      <td>...</td>\n",
       "      <td>...</td>\n",
       "      <td>...</td>\n",
       "      <td>...</td>\n",
       "    </tr>\n",
       "    <tr>\n",
       "      <th>144</th>\n",
       "      <td>Timor</td>\n",
       "      <td>TLS</td>\n",
       "      <td>2014</td>\n",
       "      <td>NaN</td>\n",
       "      <td>NaN</td>\n",
       "      <td>2</td>\n",
       "      <td>2</td>\n",
       "      <td>0.16</td>\n",
       "      <td>SEAR</td>\n",
       "      <td>South-East Asia</td>\n",
       "      <td>Timor-Leste</td>\n",
       "      <td>2018</td>\n",
       "      <td>Both sexes</td>\n",
       "      <td>38.2</td>\n",
       "    </tr>\n",
       "    <tr>\n",
       "      <th>145</th>\n",
       "      <td>Togo</td>\n",
       "      <td>TGO</td>\n",
       "      <td>2014</td>\n",
       "      <td>NaN</td>\n",
       "      <td>NaN</td>\n",
       "      <td>5</td>\n",
       "      <td>2</td>\n",
       "      <td>0.16</td>\n",
       "      <td>AFR</td>\n",
       "      <td>Africa</td>\n",
       "      <td>Togo</td>\n",
       "      <td>2018</td>\n",
       "      <td>Both sexes</td>\n",
       "      <td>7.6</td>\n",
       "    </tr>\n",
       "    <tr>\n",
       "      <th>146</th>\n",
       "      <td>Tonga</td>\n",
       "      <td>TON</td>\n",
       "      <td>2014</td>\n",
       "      <td>NaN</td>\n",
       "      <td>NaN</td>\n",
       "      <td>4</td>\n",
       "      <td>4</td>\n",
       "      <td>0.64</td>\n",
       "      <td>WPR</td>\n",
       "      <td>Western Pacific</td>\n",
       "      <td>Tonga</td>\n",
       "      <td>2018</td>\n",
       "      <td>Both sexes</td>\n",
       "      <td>30.2</td>\n",
       "    </tr>\n",
       "    <tr>\n",
       "      <th>147</th>\n",
       "      <td>Tuvalu</td>\n",
       "      <td>TUV</td>\n",
       "      <td>2014</td>\n",
       "      <td>NaN</td>\n",
       "      <td>NaN</td>\n",
       "      <td>5</td>\n",
       "      <td>4</td>\n",
       "      <td>0.64</td>\n",
       "      <td>WPR</td>\n",
       "      <td>Western Pacific</td>\n",
       "      <td>Tuvalu</td>\n",
       "      <td>2018</td>\n",
       "      <td>Both sexes</td>\n",
       "      <td>48.7</td>\n",
       "    </tr>\n",
       "    <tr>\n",
       "      <th>148</th>\n",
       "      <td>Vanuatu</td>\n",
       "      <td>VUT</td>\n",
       "      <td>2014</td>\n",
       "      <td>NaN</td>\n",
       "      <td>NaN</td>\n",
       "      <td>5</td>\n",
       "      <td>3</td>\n",
       "      <td>0.36</td>\n",
       "      <td>WPR</td>\n",
       "      <td>Western Pacific</td>\n",
       "      <td>Vanuatu</td>\n",
       "      <td>2018</td>\n",
       "      <td>Both sexes</td>\n",
       "      <td>24.1</td>\n",
       "    </tr>\n",
       "  </tbody>\n",
       "</table>\n",
       "<p>149 rows × 14 columns</p>\n",
       "</div>"
      ],
      "text/plain": [
       "        Entity Code  Year_x  AvgCigarettePriceDollars  \\\n",
       "0      Algeria  DZA    2014                      2.09   \n",
       "1    Argentina  ARG    2014                      3.47   \n",
       "2      Armenia  ARM    2014                      1.74   \n",
       "3    Australia  AUS    2014                     10.64   \n",
       "4      Austria  AUT    2014                      5.34   \n",
       "..         ...  ...     ...                       ...   \n",
       "144      Timor  TLS    2014                       NaN   \n",
       "145       Togo  TGO    2014                       NaN   \n",
       "146      Tonga  TON    2014                       NaN   \n",
       "147     Tuvalu  TUV    2014                       NaN   \n",
       "148    Vanuatu  VUT    2014                       NaN   \n",
       "\n",
       "     AvgTaxesAsPctCigarettePrice  EnforceBansTobaccoAd  HelpToQuit  HelpSize  \\\n",
       "0                           40.9                     4           4      0.64   \n",
       "1                           69.7                     4           5      1.00   \n",
       "2                           44.1                     2           4      0.64   \n",
       "3                           58.4                     4           5      1.00   \n",
       "4                           74.9                     4           4      0.64   \n",
       "..                           ...                   ...         ...       ...   \n",
       "144                          NaN                     2           2      0.16   \n",
       "145                          NaN                     5           2      0.16   \n",
       "146                          NaN                     4           4      0.64   \n",
       "147                          NaN                     5           4      0.64   \n",
       "148                          NaN                     5           3      0.36   \n",
       "\n",
       "    ParentLocationCode   ParentLocation     Location  Year_y      Gender  \\\n",
       "0                  AFR           Africa      Algeria    2018  Both sexes   \n",
       "1                  AMR         Americas    Argentina    2018  Both sexes   \n",
       "2                  EUR           Europe      Armenia    2018  Both sexes   \n",
       "3                  WPR  Western Pacific    Australia    2018  Both sexes   \n",
       "4                  EUR           Europe      Austria    2018  Both sexes   \n",
       "..                 ...              ...          ...     ...         ...   \n",
       "144               SEAR  South-East Asia  Timor-Leste    2018  Both sexes   \n",
       "145                AFR           Africa         Togo    2018  Both sexes   \n",
       "146                WPR  Western Pacific        Tonga    2018  Both sexes   \n",
       "147                WPR  Western Pacific       Tuvalu    2018  Both sexes   \n",
       "148                WPR  Western Pacific      Vanuatu    2018  Both sexes   \n",
       "\n",
       "     Pct_Smoking  \n",
       "0           18.8  \n",
       "1           21.8  \n",
       "2           26.7  \n",
       "3           16.2  \n",
       "4           29.1  \n",
       "..           ...  \n",
       "144         38.2  \n",
       "145          7.6  \n",
       "146         30.2  \n",
       "147         48.7  \n",
       "148         24.1  \n",
       "\n",
       "[149 rows x 14 columns]"
      ]
     },
     "execution_count": 24,
     "metadata": {},
     "output_type": "execute_result"
    }
   ],
   "source": [
    "reg_use_df = merge_reg_use(stop_smoking_df, ww_use_df, year_delay=1)\n",
    "reg_use_df"
   ]
  },
  {
   "cell_type": "markdown",
   "metadata": {},
   "source": [
    "Question: Do countries with higher taxes on cigarettes have lower percentage of smokers?\n",
    "\n",
    "Graph: Percent of smokers in a country after an onset period vs taxes imposed on cigarettes."
   ]
  },
  {
   "cell_type": "code",
   "execution_count": 25,
   "metadata": {},
   "outputs": [
    {
     "data": {
      "image/png": "[encoded data removed]",
      "text/plain": [
       "<Figure size 432x360 with 1 Axes>"
      ]
     },
     "metadata": {
      "needs_background": "light"
     },
     "output_type": "display_data"
    }
   ],
   "source": [
    "# fig = px.scatter(reg_use_df, x=\"AvgTaxesAsPctCigarettePrice\", y=\"Pct_Smoking\", trendline=\"ols\")\n",
    "# fig.show()\n",
    "# fig.write_image(\"plots/tax_no_norm.png\")\n",
    "draw_tax_plot(reg_use_df, save=\"tax_no_norm.png\")"
   ]
  },
  {
   "cell_type": "code",
   "execution_count": 26,
   "id": "b637923b",
   "metadata": {},
   "outputs": [
    {
     "data": {
      "text/plain": [
       "(0.5463138984072795, 4.11814402056638e-09)"
      ]
     },
     "execution_count": 26,
     "metadata": {},
     "output_type": "execute_result"
    }
   ],
   "source": [
    "clean_df = reg_use_df.dropna(subset=[\"AvgTaxesAsPctCigarettePrice\", \"Pct_Smoking\"])\n",
    "scipy.stats.pearsonr(clean_df[\"AvgTaxesAsPctCigarettePrice\"], clean_df[\"Pct_Smoking\"])"
   ]
  },
  {
   "cell_type": "markdown",
   "metadata": {},
   "source": [
    "Question: Do countries with stricter regulation on cigarette ads have a lower percentage of smokers?\n",
    "\n",
    "Graph: Percent of smokers in a country after an onset period vs ban on cigarette ads."
   ]
  },
  {
   "cell_type": "code",
   "execution_count": 27,
   "metadata": {},
   "outputs": [
    {
     "data": {
      "application/vnd.plotly.v1+json": {
       "config": {
        "plotlyServerURL": "https://plot.ly"
       },
       "data": [
        {
         "alignmentgroup": "True",
         "error_y": {
          "array": [
           9.05793478336439,
           9.419158480246306,
           12.592498341979388
          ]
         },
         "hovertemplate": "EnforceBansTobaccoAd=%{x}<br>Pct_Smoking=%{y}<extra></extra>",
         "legendgroup": "",
         "marker": {
          "color": "#636efa",
          "pattern": {
           "shape": ""
          }
         },
         "name": "",
         "offsetgroup": "",
         "orientation": "v",
         "showlegend": false,
         "textposition": "auto",
         "type": "bar",
         "x": [
          2,
          4,
          5
         ],
         "xaxis": "x",
         "y": [
          17.569444444444443,
          24.369662921348315,
          21.216666666666665
         ],
         "yaxis": "y"
        }
       ],
       "layout": {
        "barmode": "relative",
        "legend": {
         "tracegroupgap": 0
        },
        "template": {
         "data": {
          "bar": [
           {
            "error_x": {
             "color": "#2a3f5f"
            },
            "error_y": {
             "color": "#2a3f5f"
            },
            "marker": {
             "line": {
              "color": "#E5ECF6",
              "width": 0.5
             },
             "pattern": {
              "fillmode": "overlay",
              "size": 10,
              "solidity": 0.2
             }
            },
            "type": "bar"
           }
          ],
          "barpolar": [
           {
            "marker": {
             "line": {
              "color": "#E5ECF6",
              "width": 0.5
             },
             "pattern": {
              "fillmode": "overlay",
              "size": 10,
              "solidity": 0.2
             }
            },
            "type": "barpolar"
           }
          ],
          "carpet": [
           {
            "aaxis": {
             "endlinecolor": "#2a3f5f",
             "gridcolor": "white",
             "linecolor": "white",
             "minorgridcolor": "white",
             "startlinecolor": "#2a3f5f"
            },
            "baxis": {
             "endlinecolor": "#2a3f5f",
             "gridcolor": "white",
             "linecolor": "white",
             "minorgridcolor": "white",
             "startlinecolor": "#2a3f5f"
            },
            "type": "carpet"
           }
          ],
          "choropleth": [
           {
            "colorbar": {
             "outlinewidth": 0,
             "ticks": ""
            },
            "type": "choropleth"
           }
          ],
          "contour": [
           {
            "colorbar": {
             "outlinewidth": 0,
             "ticks": ""
            },
            "colorscale": [
             [
              0,
              "#0d0887"
             ],
             [
              0.1111111111111111,
              "#46039f"
             ],
             [
              0.2222222222222222,
              "#7201a8"
             ],
             [
              0.3333333333333333,
              "#9c179e"
             ],
             [
              0.4444444444444444,
              "#bd3786"
             ],
             [
              0.5555555555555556,
              "#d8576b"
             ],
             [
              0.6666666666666666,
              "#ed7953"
             ],
             [
              0.7777777777777778,
              "#fb9f3a"
             ],
             [
              0.8888888888888888,
              "#fdca26"
             ],
             [
              1,
              "#f0f921"
             ]
            ],
            "type": "contour"
           }
          ],
          "contourcarpet": [
           {
            "colorbar": {
             "outlinewidth": 0,
             "ticks": ""
            },
            "type": "contourcarpet"
           }
          ],
          "heatmap": [
           {
            "colorbar": {
             "outlinewidth": 0,
             "ticks": ""
            },
            "colorscale": [
             [
              0,
              "#0d0887"
             ],
             [
              0.1111111111111111,
              "#46039f"
             ],
             [
              0.2222222222222222,
              "#7201a8"
             ],
             [
              0.3333333333333333,
              "#9c179e"
             ],
             [
              0.4444444444444444,
              "#bd3786"
             ],
             [
              0.5555555555555556,
              "#d8576b"
             ],
             [
              0.6666666666666666,
              "#ed7953"
             ],
             [
              0.7777777777777778,
              "#fb9f3a"
             ],
             [
              0.8888888888888888,
              "#fdca26"
             ],
             [
              1,
              "#f0f921"
             ]
            ],
            "type": "heatmap"
           }
          ],
          "heatmapgl": [
           {
            "colorbar": {
             "outlinewidth": 0,
             "ticks": ""
            },
            "colorscale": [
             [
              0,
              "#0d0887"
             ],
             [
              0.1111111111111111,
              "#46039f"
             ],
             [
              0.2222222222222222,
              "#7201a8"
             ],
             [
              0.3333333333333333,
              "#9c179e"
             ],
             [
              0.4444444444444444,
              "#bd3786"
             ],
             [
              0.5555555555555556,
              "#d8576b"
             ],
             [
              0.6666666666666666,
              "#ed7953"
             ],
             [
              0.7777777777777778,
              "#fb9f3a"
             ],
             [
              0.8888888888888888,
              "#fdca26"
             ],
             [
              1,
              "#f0f921"
             ]
            ],
            "type": "heatmapgl"
           }
          ],
          "histogram": [
           {
            "marker": {
             "pattern": {
              "fillmode": "overlay",
              "size": 10,
              "solidity": 0.2
             }
            },
            "type": "histogram"
           }
          ],
          "histogram2d": [
           {
            "colorbar": {
             "outlinewidth": 0,
             "ticks": ""
            },
            "colorscale": [
             [
              0,
              "#0d0887"
             ],
             [
              0.1111111111111111,
              "#46039f"
             ],
             [
              0.2222222222222222,
              "#7201a8"
             ],
             [
              0.3333333333333333,
              "#9c179e"
             ],
             [
              0.4444444444444444,
              "#bd3786"
             ],
             [
              0.5555555555555556,
              "#d8576b"
             ],
             [
              0.6666666666666666,
              "#ed7953"
             ],
             [
              0.7777777777777778,
              "#fb9f3a"
             ],
             [
              0.8888888888888888,
              "#fdca26"
             ],
             [
              1,
              "#f0f921"
             ]
            ],
            "type": "histogram2d"
           }
          ],
          "histogram2dcontour": [
           {
            "colorbar": {
             "outlinewidth": 0,
             "ticks": ""
            },
            "colorscale": [
             [
              0,
              "#0d0887"
             ],
             [
              0.1111111111111111,
              "#46039f"
             ],
             [
              0.2222222222222222,
              "#7201a8"
             ],
             [
              0.3333333333333333,
              "#9c179e"
             ],
             [
              0.4444444444444444,
              "#bd3786"
             ],
             [
              0.5555555555555556,
              "#d8576b"
             ],
             [
              0.6666666666666666,
              "#ed7953"
             ],
             [
              0.7777777777777778,
              "#fb9f3a"
             ],
             [
              0.8888888888888888,
              "#fdca26"
             ],
             [
              1,
              "#f0f921"
             ]
            ],
            "type": "histogram2dcontour"
           }
          ],
          "mesh3d": [
           {
            "colorbar": {
             "outlinewidth": 0,
             "ticks": ""
            },
            "type": "mesh3d"
           }
          ],
          "parcoords": [
           {
            "line": {
             "colorbar": {
              "outlinewidth": 0,
              "ticks": ""
             }
            },
            "type": "parcoords"
           }
          ],
          "pie": [
           {
            "automargin": true,
            "type": "pie"
           }
          ],
          "scatter": [
           {
            "marker": {
             "colorbar": {
              "outlinewidth": 0,
              "ticks": ""
             }
            },
            "type": "scatter"
           }
          ],
          "scatter3d": [
           {
            "line": {
             "colorbar": {
              "outlinewidth": 0,
              "ticks": ""
             }
            },
            "marker": {
             "colorbar": {
              "outlinewidth": 0,
              "ticks": ""
             }
            },
            "type": "scatter3d"
           }
          ],
          "scattercarpet": [
           {
            "marker": {
             "colorbar": {
              "outlinewidth": 0,
              "ticks": ""
             }
            },
            "type": "scattercarpet"
           }
          ],
          "scattergeo": [
           {
            "marker": {
             "colorbar": {
              "outlinewidth": 0,
              "ticks": ""
             }
            },
            "type": "scattergeo"
           }
          ],
          "scattergl": [
           {
            "marker": {
             "colorbar": {
              "outlinewidth": 0,
              "ticks": ""
             }
            },
            "type": "scattergl"
           }
          ],
          "scattermapbox": [
           {
            "marker": {
             "colorbar": {
              "outlinewidth": 0,
              "ticks": ""
             }
            },
            "type": "scattermapbox"
           }
          ],
          "scatterpolar": [
           {
            "marker": {
             "colorbar": {
              "outlinewidth": 0,
              "ticks": ""
             }
            },
            "type": "scatterpolar"
           }
          ],
          "scatterpolargl": [
           {
            "marker": {
             "colorbar": {
              "outlinewidth": 0,
              "ticks": ""
             }
            },
            "type": "scatterpolargl"
           }
          ],
          "scatterternary": [
           {
            "marker": {
             "colorbar": {
              "outlinewidth": 0,
              "ticks": ""
             }
            },
            "type": "scatterternary"
           }
          ],
          "surface": [
           {
            "colorbar": {
             "outlinewidth": 0,
             "ticks": ""
            },
            "colorscale": [
             [
              0,
              "#0d0887"
             ],
             [
              0.1111111111111111,
              "#46039f"
             ],
             [
              0.2222222222222222,
              "#7201a8"
             ],
             [
              0.3333333333333333,
              "#9c179e"
             ],
             [
              0.4444444444444444,
              "#bd3786"
             ],
             [
              0.5555555555555556,
              "#d8576b"
             ],
             [
              0.6666666666666666,
              "#ed7953"
             ],
             [
              0.7777777777777778,
              "#fb9f3a"
             ],
             [
              0.8888888888888888,
              "#fdca26"
             ],
             [
              1,
              "#f0f921"
             ]
            ],
            "type": "surface"
           }
          ],
          "table": [
           {
            "cells": {
             "fill": {
              "color": "#EBF0F8"
             },
             "line": {
              "color": "white"
             }
            },
            "header": {
             "fill": {
              "color": "#C8D4E3"
             },
             "line": {
              "color": "white"
             }
            },
            "type": "table"
           }
          ]
         },
         "layout": {
          "annotationdefaults": {
           "arrowcolor": "#2a3f5f",
           "arrowhead": 0,
           "arrowwidth": 1
          },
          "autotypenumbers": "strict",
          "coloraxis": {
           "colorbar": {
            "outlinewidth": 0,
            "ticks": ""
           }
          },
          "colorscale": {
           "diverging": [
            [
             0,
             "#8e0152"
            ],
            [
             0.1,
             "#c51b7d"
            ],
            [
             0.2,
             "#de77ae"
            ],
            [
             0.3,
             "#f1b6da"
            ],
            [
             0.4,
             "#fde0ef"
            ],
            [
             0.5,
             "#f7f7f7"
            ],
            [
             0.6,
             "#e6f5d0"
            ],
            [
             0.7,
             "#b8e186"
            ],
            [
             0.8,
             "#7fbc41"
            ],
            [
             0.9,
             "#4d9221"
            ],
            [
             1,
             "#276419"
            ]
           ],
           "sequential": [
            [
             0,
             "#0d0887"
            ],
            [
             0.1111111111111111,
             "#46039f"
            ],
            [
             0.2222222222222222,
             "#7201a8"
            ],
            [
             0.3333333333333333,
             "#9c179e"
            ],
            [
             0.4444444444444444,
             "#bd3786"
            ],
            [
             0.5555555555555556,
             "#d8576b"
            ],
            [
             0.6666666666666666,
             "#ed7953"
            ],
            [
             0.7777777777777778,
             "#fb9f3a"
            ],
            [
             0.8888888888888888,
             "#fdca26"
            ],
            [
             1,
             "#f0f921"
            ]
           ],
           "sequentialminus": [
            [
             0,
             "#0d0887"
            ],
            [
             0.1111111111111111,
             "#46039f"
            ],
            [
             0.2222222222222222,
             "#7201a8"
            ],
            [
             0.3333333333333333,
             "#9c179e"
            ],
            [
             0.4444444444444444,
             "#bd3786"
            ],
            [
             0.5555555555555556,
             "#d8576b"
            ],
            [
             0.6666666666666666,
             "#ed7953"
            ],
            [
             0.7777777777777778,
             "#fb9f3a"
            ],
            [
             0.8888888888888888,
             "#fdca26"
            ],
            [
             1,
             "#f0f921"
            ]
           ]
          },
          "colorway": [
           "#636efa",
           "#EF553B",
           "#00cc96",
           "#ab63fa",
           "#FFA15A",
           "#19d3f3",
           "#FF6692",
           "#B6E880",
           "#FF97FF",
           "#FECB52"
          ],
          "font": {
           "color": "#2a3f5f"
          },
          "geo": {
           "bgcolor": "white",
           "lakecolor": "white",
           "landcolor": "#E5ECF6",
           "showlakes": true,
           "showland": true,
           "subunitcolor": "white"
          },
          "hoverlabel": {
           "align": "left"
          },
          "hovermode": "closest",
          "mapbox": {
           "style": "light"
          },
          "paper_bgcolor": "white",
          "plot_bgcolor": "#E5ECF6",
          "polar": {
           "angularaxis": {
            "gridcolor": "white",
            "linecolor": "white",
            "ticks": ""
           },
           "bgcolor": "#E5ECF6",
           "radialaxis": {
            "gridcolor": "white",
            "linecolor": "white",
            "ticks": ""
           }
          },
          "scene": {
           "xaxis": {
            "backgroundcolor": "#E5ECF6",
            "gridcolor": "white",
            "gridwidth": 2,
            "linecolor": "white",
            "showbackground": true,
            "ticks": "",
            "zerolinecolor": "white"
           },
           "yaxis": {
            "backgroundcolor": "#E5ECF6",
            "gridcolor": "white",
            "gridwidth": 2,
            "linecolor": "white",
            "showbackground": true,
            "ticks": "",
            "zerolinecolor": "white"
           },
           "zaxis": {
            "backgroundcolor": "#E5ECF6",
            "gridcolor": "white",
            "gridwidth": 2,
            "linecolor": "white",
            "showbackground": true,
            "ticks": "",
            "zerolinecolor": "white"
           }
          },
          "shapedefaults": {
           "line": {
            "color": "#2a3f5f"
           }
          },
          "ternary": {
           "aaxis": {
            "gridcolor": "white",
            "linecolor": "white",
            "ticks": ""
           },
           "baxis": {
            "gridcolor": "white",
            "linecolor": "white",
            "ticks": ""
           },
           "bgcolor": "#E5ECF6",
           "caxis": {
            "gridcolor": "white",
            "linecolor": "white",
            "ticks": ""
           }
          },
          "title": {
           "x": 0.05
          },
          "xaxis": {
           "automargin": true,
           "gridcolor": "white",
           "linecolor": "white",
           "ticks": "",
           "title": {
            "standoff": 15
           },
           "zerolinecolor": "white",
           "zerolinewidth": 2
          },
          "yaxis": {
           "automargin": true,
           "gridcolor": "white",
           "linecolor": "white",
           "ticks": "",
           "title": {
            "standoff": 15
           },
           "zerolinecolor": "white",
           "zerolinewidth": 2
          }
         }
        },
        "title": {
         "text": "Percent Smoker vs. Ads ban"
        },
        "xaxis": {
         "anchor": "y",
         "domain": [
          0,
          1
         ],
         "title": {
          "text": "EnforceBansTobaccoAd"
         }
        },
        "yaxis": {
         "anchor": "x",
         "domain": [
          0,
          1
         ],
         "title": {
          "text": "Pct_Smoking"
         }
        }
       }
      }
     },
     "metadata": {},
     "output_type": "display_data"
    }
   ],
   "source": [
    "ban_df = reg_use_df.groupby(\"EnforceBansTobaccoAd\").mean()\n",
    "ban_df[\"Smoking_Std\"] = reg_use_df.groupby(\"EnforceBansTobaccoAd\").std()[\"Pct_Smoking\"]\n",
    "\n",
    "px.bar(ban_df, x=ban_df.index, y=\"Pct_Smoking\", title=\"Percent Smoker vs. Ads ban\", error_y=\"Smoking_Std\")"
   ]
  },
  {
   "cell_type": "code",
   "execution_count": 28,
   "id": "a7eca97e",
   "metadata": {},
   "outputs": [
    {
     "data": {
      "application/vnd.plotly.v1+json": {
       "config": {
        "plotlyServerURL": "https://plot.ly"
       },
       "data": [
        {
         "alignmentgroup": "True",
         "error_y": {
          "array": [
           11.158434776735787,
           13.11543763789442,
           9.977382356446531,
           5.19394854126178
          ]
         },
         "hovertemplate": "HelpToQuit=%{x}<br>Pct_Smoking=%{y}<extra></extra>",
         "legendgroup": "",
         "marker": {
          "color": "#636efa",
          "pattern": {
           "shape": ""
          }
         },
         "name": "",
         "offsetgroup": "",
         "orientation": "v",
         "showlegend": false,
         "textposition": "auto",
         "type": "bar",
         "x": [
          2,
          3,
          4,
          5
         ],
         "xaxis": "x",
         "y": [
          18.32,
          21.7448275862069,
          23.623255813953488,
          19.383333333333333
         ],
         "yaxis": "y"
        }
       ],
       "layout": {
        "barmode": "relative",
        "legend": {
         "tracegroupgap": 0
        },
        "margin": {
         "t": 60
        },
        "template": {
         "data": {
          "bar": [
           {
            "error_x": {
             "color": "#2a3f5f"
            },
            "error_y": {
             "color": "#2a3f5f"
            },
            "marker": {
             "line": {
              "color": "#E5ECF6",
              "width": 0.5
             },
             "pattern": {
              "fillmode": "overlay",
              "size": 10,
              "solidity": 0.2
             }
            },
            "type": "bar"
           }
          ],
          "barpolar": [
           {
            "marker": {
             "line": {
              "color": "#E5ECF6",
              "width": 0.5
             },
             "pattern": {
              "fillmode": "overlay",
              "size": 10,
              "solidity": 0.2
             }
            },
            "type": "barpolar"
           }
          ],
          "carpet": [
           {
            "aaxis": {
             "endlinecolor": "#2a3f5f",
             "gridcolor": "white",
             "linecolor": "white",
             "minorgridcolor": "white",
             "startlinecolor": "#2a3f5f"
            },
            "baxis": {
             "endlinecolor": "#2a3f5f",
             "gridcolor": "white",
             "linecolor": "white",
             "minorgridcolor": "white",
             "startlinecolor": "#2a3f5f"
            },
            "type": "carpet"
           }
          ],
          "choropleth": [
           {
            "colorbar": {
             "outlinewidth": 0,
             "ticks": ""
            },
            "type": "choropleth"
           }
          ],
          "contour": [
           {
            "colorbar": {
             "outlinewidth": 0,
             "ticks": ""
            },
            "colorscale": [
             [
              0,
              "#0d0887"
             ],
             [
              0.1111111111111111,
              "#46039f"
             ],
             [
              0.2222222222222222,
              "#7201a8"
             ],
             [
              0.3333333333333333,
              "#9c179e"
             ],
             [
              0.4444444444444444,
              "#bd3786"
             ],
             [
              0.5555555555555556,
              "#d8576b"
             ],
             [
              0.6666666666666666,
              "#ed7953"
             ],
             [
              0.7777777777777778,
              "#fb9f3a"
             ],
             [
              0.8888888888888888,
              "#fdca26"
             ],
             [
              1,
              "#f0f921"
             ]
            ],
            "type": "contour"
           }
          ],
          "contourcarpet": [
           {
            "colorbar": {
             "outlinewidth": 0,
             "ticks": ""
            },
            "type": "contourcarpet"
           }
          ],
          "heatmap": [
           {
            "colorbar": {
             "outlinewidth": 0,
             "ticks": ""
            },
            "colorscale": [
             [
              0,
              "#0d0887"
             ],
             [
              0.1111111111111111,
              "#46039f"
             ],
             [
              0.2222222222222222,
              "#7201a8"
             ],
             [
              0.3333333333333333,
              "#9c179e"
             ],
             [
              0.4444444444444444,
              "#bd3786"
             ],
             [
              0.5555555555555556,
              "#d8576b"
             ],
             [
              0.6666666666666666,
              "#ed7953"
             ],
             [
              0.7777777777777778,
              "#fb9f3a"
             ],
             [
              0.8888888888888888,
              "#fdca26"
             ],
             [
              1,
              "#f0f921"
             ]
            ],
            "type": "heatmap"
           }
          ],
          "heatmapgl": [
           {
            "colorbar": {
             "outlinewidth": 0,
             "ticks": ""
            },
            "colorscale": [
             [
              0,
              "#0d0887"
             ],
             [
              0.1111111111111111,
              "#46039f"
             ],
             [
              0.2222222222222222,
              "#7201a8"
             ],
             [
              0.3333333333333333,
              "#9c179e"
             ],
             [
              0.4444444444444444,
              "#bd3786"
             ],
             [
              0.5555555555555556,
              "#d8576b"
             ],
             [
              0.6666666666666666,
              "#ed7953"
             ],
             [
              0.7777777777777778,
              "#fb9f3a"
             ],
             [
              0.8888888888888888,
              "#fdca26"
             ],
             [
              1,
              "#f0f921"
             ]
            ],
            "type": "heatmapgl"
           }
          ],
          "histogram": [
           {
            "marker": {
             "pattern": {
              "fillmode": "overlay",
              "size": 10,
              "solidity": 0.2
             }
            },
            "type": "histogram"
           }
          ],
          "histogram2d": [
           {
            "colorbar": {
             "outlinewidth": 0,
             "ticks": ""
            },
            "colorscale": [
             [
              0,
              "#0d0887"
             ],
             [
              0.1111111111111111,
              "#46039f"
             ],
             [
              0.2222222222222222,
              "#7201a8"
             ],
             [
              0.3333333333333333,
              "#9c179e"
             ],
             [
              0.4444444444444444,
              "#bd3786"
             ],
             [
              0.5555555555555556,
              "#d8576b"
             ],
             [
              0.6666666666666666,
              "#ed7953"
             ],
             [
              0.7777777777777778,
              "#fb9f3a"
             ],
             [
              0.8888888888888888,
              "#fdca26"
             ],
             [
              1,
              "#f0f921"
             ]
            ],
            "type": "histogram2d"
           }
          ],
          "histogram2dcontour": [
           {
            "colorbar": {
             "outlinewidth": 0,
             "ticks": ""
            },
            "colorscale": [
             [
              0,
              "#0d0887"
             ],
             [
              0.1111111111111111,
              "#46039f"
             ],
             [
              0.2222222222222222,
              "#7201a8"
             ],
             [
              0.3333333333333333,
              "#9c179e"
             ],
             [
              0.4444444444444444,
              "#bd3786"
             ],
             [
              0.5555555555555556,
              "#d8576b"
             ],
             [
              0.6666666666666666,
              "#ed7953"
             ],
             [
              0.7777777777777778,
              "#fb9f3a"
             ],
             [
              0.8888888888888888,
              "#fdca26"
             ],
             [
              1,
              "#f0f921"
             ]
            ],
            "type": "histogram2dcontour"
           }
          ],
          "mesh3d": [
           {
            "colorbar": {
             "outlinewidth": 0,
             "ticks": ""
            },
            "type": "mesh3d"
           }
          ],
          "parcoords": [
           {
            "line": {
             "colorbar": {
              "outlinewidth": 0,
              "ticks": ""
             }
            },
            "type": "parcoords"
           }
          ],
          "pie": [
           {
            "automargin": true,
            "type": "pie"
           }
          ],
          "scatter": [
           {
            "marker": {
             "colorbar": {
              "outlinewidth": 0,
              "ticks": ""
             }
            },
            "type": "scatter"
           }
          ],
          "scatter3d": [
           {
            "line": {
             "colorbar": {
              "outlinewidth": 0,
              "ticks": ""
             }
            },
            "marker": {
             "colorbar": {
              "outlinewidth": 0,
              "ticks": ""
             }
            },
            "type": "scatter3d"
           }
          ],
          "scattercarpet": [
           {
            "marker": {
             "colorbar": {
              "outlinewidth": 0,
              "ticks": ""
             }
            },
            "type": "scattercarpet"
           }
          ],
          "scattergeo": [
           {
            "marker": {
             "colorbar": {
              "outlinewidth": 0,
              "ticks": ""
             }
            },
            "type": "scattergeo"
           }
          ],
          "scattergl": [
           {
            "marker": {
             "colorbar": {
              "outlinewidth": 0,
              "ticks": ""
             }
            },
            "type": "scattergl"
           }
          ],
          "scattermapbox": [
           {
            "marker": {
             "colorbar": {
              "outlinewidth": 0,
              "ticks": ""
             }
            },
            "type": "scattermapbox"
           }
          ],
          "scatterpolar": [
           {
            "marker": {
             "colorbar": {
              "outlinewidth": 0,
              "ticks": ""
             }
            },
            "type": "scatterpolar"
           }
          ],
          "scatterpolargl": [
           {
            "marker": {
             "colorbar": {
              "outlinewidth": 0,
              "ticks": ""
             }
            },
            "type": "scatterpolargl"
           }
          ],
          "scatterternary": [
           {
            "marker": {
             "colorbar": {
              "outlinewidth": 0,
              "ticks": ""
             }
            },
            "type": "scatterternary"
           }
          ],
          "surface": [
           {
            "colorbar": {
             "outlinewidth": 0,
             "ticks": ""
            },
            "colorscale": [
             [
              0,
              "#0d0887"
             ],
             [
              0.1111111111111111,
              "#46039f"
             ],
             [
              0.2222222222222222,
              "#7201a8"
             ],
             [
              0.3333333333333333,
              "#9c179e"
             ],
             [
              0.4444444444444444,
              "#bd3786"
             ],
             [
              0.5555555555555556,
              "#d8576b"
             ],
             [
              0.6666666666666666,
              "#ed7953"
             ],
             [
              0.7777777777777778,
              "#fb9f3a"
             ],
             [
              0.8888888888888888,
              "#fdca26"
             ],
             [
              1,
              "#f0f921"
             ]
            ],
            "type": "surface"
           }
          ],
          "table": [
           {
            "cells": {
             "fill": {
              "color": "#EBF0F8"
             },
             "line": {
              "color": "white"
             }
            },
            "header": {
             "fill": {
              "color": "#C8D4E3"
             },
             "line": {
              "color": "white"
             }
            },
            "type": "table"
           }
          ]
         },
         "layout": {
          "annotationdefaults": {
           "arrowcolor": "#2a3f5f",
           "arrowhead": 0,
           "arrowwidth": 1
          },
          "autotypenumbers": "strict",
          "coloraxis": {
           "colorbar": {
            "outlinewidth": 0,
            "ticks": ""
           }
          },
          "colorscale": {
           "diverging": [
            [
             0,
             "#8e0152"
            ],
            [
             0.1,
             "#c51b7d"
            ],
            [
             0.2,
             "#de77ae"
            ],
            [
             0.3,
             "#f1b6da"
            ],
            [
             0.4,
             "#fde0ef"
            ],
            [
             0.5,
             "#f7f7f7"
            ],
            [
             0.6,
             "#e6f5d0"
            ],
            [
             0.7,
             "#b8e186"
            ],
            [
             0.8,
             "#7fbc41"
            ],
            [
             0.9,
             "#4d9221"
            ],
            [
             1,
             "#276419"
            ]
           ],
           "sequential": [
            [
             0,
             "#0d0887"
            ],
            [
             0.1111111111111111,
             "#46039f"
            ],
            [
             0.2222222222222222,
             "#7201a8"
            ],
            [
             0.3333333333333333,
             "#9c179e"
            ],
            [
             0.4444444444444444,
             "#bd3786"
            ],
            [
             0.5555555555555556,
             "#d8576b"
            ],
            [
             0.6666666666666666,
             "#ed7953"
            ],
            [
             0.7777777777777778,
             "#fb9f3a"
            ],
            [
             0.8888888888888888,
             "#fdca26"
            ],
            [
             1,
             "#f0f921"
            ]
           ],
           "sequentialminus": [
            [
             0,
             "#0d0887"
            ],
            [
             0.1111111111111111,
             "#46039f"
            ],
            [
             0.2222222222222222,
             "#7201a8"
            ],
            [
             0.3333333333333333,
             "#9c179e"
            ],
            [
             0.4444444444444444,
             "#bd3786"
            ],
            [
             0.5555555555555556,
             "#d8576b"
            ],
            [
             0.6666666666666666,
             "#ed7953"
            ],
            [
             0.7777777777777778,
             "#fb9f3a"
            ],
            [
             0.8888888888888888,
             "#fdca26"
            ],
            [
             1,
             "#f0f921"
            ]
           ]
          },
          "colorway": [
           "#636efa",
           "#EF553B",
           "#00cc96",
           "#ab63fa",
           "#FFA15A",
           "#19d3f3",
           "#FF6692",
           "#B6E880",
           "#FF97FF",
           "#FECB52"
          ],
          "font": {
           "color": "#2a3f5f"
          },
          "geo": {
           "bgcolor": "white",
           "lakecolor": "white",
           "landcolor": "#E5ECF6",
           "showlakes": true,
           "showland": true,
           "subunitcolor": "white"
          },
          "hoverlabel": {
           "align": "left"
          },
          "hovermode": "closest",
          "mapbox": {
           "style": "light"
          },
          "paper_bgcolor": "white",
          "plot_bgcolor": "#E5ECF6",
          "polar": {
           "angularaxis": {
            "gridcolor": "white",
            "linecolor": "white",
            "ticks": ""
           },
           "bgcolor": "#E5ECF6",
           "radialaxis": {
            "gridcolor": "white",
            "linecolor": "white",
            "ticks": ""
           }
          },
          "scene": {
           "xaxis": {
            "backgroundcolor": "#E5ECF6",
            "gridcolor": "white",
            "gridwidth": 2,
            "linecolor": "white",
            "showbackground": true,
            "ticks": "",
            "zerolinecolor": "white"
           },
           "yaxis": {
            "backgroundcolor": "#E5ECF6",
            "gridcolor": "white",
            "gridwidth": 2,
            "linecolor": "white",
            "showbackground": true,
            "ticks": "",
            "zerolinecolor": "white"
           },
           "zaxis": {
            "backgroundcolor": "#E5ECF6",
            "gridcolor": "white",
            "gridwidth": 2,
            "linecolor": "white",
            "showbackground": true,
            "ticks": "",
            "zerolinecolor": "white"
           }
          },
          "shapedefaults": {
           "line": {
            "color": "#2a3f5f"
           }
          },
          "ternary": {
           "aaxis": {
            "gridcolor": "white",
            "linecolor": "white",
            "ticks": ""
           },
           "baxis": {
            "gridcolor": "white",
            "linecolor": "white",
            "ticks": ""
           },
           "bgcolor": "#E5ECF6",
           "caxis": {
            "gridcolor": "white",
            "linecolor": "white",
            "ticks": ""
           }
          },
          "title": {
           "x": 0.05
          },
          "xaxis": {
           "automargin": true,
           "gridcolor": "white",
           "linecolor": "white",
           "ticks": "",
           "title": {
            "standoff": 15
           },
           "zerolinecolor": "white",
           "zerolinewidth": 2
          },
          "yaxis": {
           "automargin": true,
           "gridcolor": "white",
           "linecolor": "white",
           "ticks": "",
           "title": {
            "standoff": 15
           },
           "zerolinecolor": "white",
           "zerolinewidth": 2
          }
         }
        },
        "xaxis": {
         "anchor": "y",
         "domain": [
          0,
          1
         ],
         "title": {
          "text": "HelpToQuit"
         }
        },
        "yaxis": {
         "anchor": "x",
         "domain": [
          0,
          1
         ],
         "title": {
          "text": "Pct_Smoking"
         }
        }
       }
      }
     },
     "metadata": {},
     "output_type": "display_data"
    }
   ],
   "source": [
    "help_df = reg_use_df.groupby(\"HelpToQuit\").mean()\n",
    "help_df[\"Smoking_Std\"] = reg_use_df.groupby(\"HelpToQuit\").std()[\"Pct_Smoking\"]\n",
    "px.bar(help_df, x=help_df.index, y=\"Pct_Smoking\", error_y=\"Smoking_Std\")"
   ]
  },
  {
   "cell_type": "markdown",
   "metadata": {},
   "source": [
    "## Looking at consistency of policy across years"
   ]
  },
  {
   "cell_type": "code",
   "execution_count": 29,
   "id": "2239dbc9",
   "metadata": {},
   "outputs": [
    {
     "data": {
      "application/vnd.plotly.v1+json": {
       "config": {
        "plotlyServerURL": "https://plot.ly"
       },
       "data": [
        {
         "alignmentgroup": "True",
         "bingroup": "x",
         "hovertemplate": "variable=EnforceBansTobaccoAd<br>value=%{x}<br>count=%{y}<extra></extra>",
         "legendgroup": "EnforceBansTobaccoAd",
         "marker": {
          "color": "#636efa",
          "pattern": {
           "shape": ""
          }
         },
         "name": "EnforceBansTobaccoAd",
         "offsetgroup": "EnforceBansTobaccoAd",
         "orientation": "v",
         "showlegend": true,
         "type": "histogram",
         "x": [
          0,
          0,
          0,
          0,
          0,
          0,
          1.1547005383792515,
          0,
          0,
          0,
          0,
          0,
          1.4142135623730951,
          0,
          0,
          0,
          0,
          0,
          0,
          1,
          0,
          0,
          0,
          0.5773502691896258,
          0,
          0,
          0,
          0,
          1.1547005383792515,
          0,
          1,
          0,
          0,
          1,
          0,
          0,
          1.5,
          1,
          0,
          0,
          1.1547005383792515,
          0,
          0,
          0,
          0,
          0,
          0,
          0,
          0,
          0,
          0,
          1.1547005383792515,
          0,
          1.1547005383792515,
          0,
          0,
          0,
          1,
          1.1547005383792515,
          0,
          0,
          0,
          1,
          0,
          0,
          0.49999999999999994,
          1.7320508075688772,
          0,
          0,
          0,
          0.5773502691896258,
          0,
          0,
          0,
          1,
          0,
          0,
          0,
          0,
          0,
          0,
          0,
          0,
          0,
          0,
          0,
          0,
          0,
          0,
          1.5,
          0,
          1,
          0,
          0,
          1.1547005383792515,
          0,
          0,
          0.4999999999999999,
          0,
          0,
          0,
          0,
          0,
          0.4999999999999999,
          1.2583057392117916,
          0,
          0,
          0,
          0.4999999999999999,
          0,
          0,
          0,
          0,
          0,
          0,
          0,
          0,
          0,
          1,
          1,
          1.2583057392117916,
          0,
          0,
          0,
          0,
          0,
          0,
          0,
          0,
          0,
          0,
          1,
          1.1547005383792515,
          1.5,
          0,
          0,
          0,
          1,
          0,
          0,
          0,
          0,
          1.5,
          0,
          0,
          0,
          0,
          1,
          1,
          0,
          0,
          1,
          0,
          1,
          0,
          0,
          0,
          0,
          1,
          0,
          0,
          0,
          0,
          0.5,
          0,
          0,
          1.5,
          0,
          0,
          0,
          0,
          0,
          0,
          0,
          1.7320508075688772,
          0,
          0,
          0,
          1.4142135623730951,
          1,
          1.5,
          0,
          1,
          0.4999999999999999,
          0,
          0,
          1.2583057392117916,
          1.1547005383792515,
          1.5,
          0,
          0,
          0.4999999999999999,
          0,
          0
         ],
         "xaxis": "x",
         "yaxis": "y"
        }
       ],
       "layout": {
        "barmode": "relative",
        "legend": {
         "title": {
          "text": "variable"
         },
         "tracegroupgap": 0
        },
        "margin": {
         "t": 60
        },
        "template": {
         "data": {
          "bar": [
           {
            "error_x": {
             "color": "#2a3f5f"
            },
            "error_y": {
             "color": "#2a3f5f"
            },
            "marker": {
             "line": {
              "color": "#E5ECF6",
              "width": 0.5
             },
             "pattern": {
              "fillmode": "overlay",
              "size": 10,
              "solidity": 0.2
             }
            },
            "type": "bar"
           }
          ],
          "barpolar": [
           {
            "marker": {
             "line": {
              "color": "#E5ECF6",
              "width": 0.5
             },
             "pattern": {
              "fillmode": "overlay",
              "size": 10,
              "solidity": 0.2
             }
            },
            "type": "barpolar"
           }
          ],
          "carpet": [
           {
            "aaxis": {
             "endlinecolor": "#2a3f5f",
             "gridcolor": "white",
             "linecolor": "white",
             "minorgridcolor": "white",
             "startlinecolor": "#2a3f5f"
            },
            "baxis": {
             "endlinecolor": "#2a3f5f",
             "gridcolor": "white",
             "linecolor": "white",
             "minorgridcolor": "white",
             "startlinecolor": "#2a3f5f"
            },
            "type": "carpet"
           }
          ],
          "choropleth": [
           {
            "colorbar": {
             "outlinewidth": 0,
             "ticks": ""
            },
            "type": "choropleth"
           }
          ],
          "contour": [
           {
            "colorbar": {
             "outlinewidth": 0,
             "ticks": ""
            },
            "colorscale": [
             [
              0,
              "#0d0887"
             ],
             [
              0.1111111111111111,
              "#46039f"
             ],
             [
              0.2222222222222222,
              "#7201a8"
             ],
             [
              0.3333333333333333,
              "#9c179e"
             ],
             [
              0.4444444444444444,
              "#bd3786"
             ],
             [
              0.5555555555555556,
              "#d8576b"
             ],
             [
              0.6666666666666666,
              "#ed7953"
             ],
             [
              0.7777777777777778,
              "#fb9f3a"
             ],
             [
              0.8888888888888888,
              "#fdca26"
             ],
             [
              1,
              "#f0f921"
             ]
            ],
            "type": "contour"
           }
          ],
          "contourcarpet": [
           {
            "colorbar": {
             "outlinewidth": 0,
             "ticks": ""
            },
            "type": "contourcarpet"
           }
          ],
          "heatmap": [
           {
            "colorbar": {
             "outlinewidth": 0,
             "ticks": ""
            },
            "colorscale": [
             [
              0,
              "#0d0887"
             ],
             [
              0.1111111111111111,
              "#46039f"
             ],
             [
              0.2222222222222222,
              "#7201a8"
             ],
             [
              0.3333333333333333,
              "#9c179e"
             ],
             [
              0.4444444444444444,
              "#bd3786"
             ],
             [
              0.5555555555555556,
              "#d8576b"
             ],
             [
              0.6666666666666666,
              "#ed7953"
             ],
             [
              0.7777777777777778,
              "#fb9f3a"
             ],
             [
              0.8888888888888888,
              "#fdca26"
             ],
             [
              1,
              "#f0f921"
             ]
            ],
            "type": "heatmap"
           }
          ],
          "heatmapgl": [
           {
            "colorbar": {
             "outlinewidth": 0,
             "ticks": ""
            },
            "colorscale": [
             [
              0,
              "#0d0887"
             ],
             [
              0.1111111111111111,
              "#46039f"
             ],
             [
              0.2222222222222222,
              "#7201a8"
             ],
             [
              0.3333333333333333,
              "#9c179e"
             ],
             [
              0.4444444444444444,
              "#bd3786"
             ],
             [
              0.5555555555555556,
              "#d8576b"
             ],
             [
              0.6666666666666666,
              "#ed7953"
             ],
             [
              0.7777777777777778,
              "#fb9f3a"
             ],
             [
              0.8888888888888888,
              "#fdca26"
             ],
             [
              1,
              "#f0f921"
             ]
            ],
            "type": "heatmapgl"
           }
          ],
          "histogram": [
           {
            "marker": {
             "pattern": {
              "fillmode": "overlay",
              "size": 10,
              "solidity": 0.2
             }
            },
            "type": "histogram"
           }
          ],
          "histogram2d": [
           {
            "colorbar": {
             "outlinewidth": 0,
             "ticks": ""
            },
            "colorscale": [
             [
              0,
              "#0d0887"
             ],
             [
              0.1111111111111111,
              "#46039f"
             ],
             [
              0.2222222222222222,
              "#7201a8"
             ],
             [
              0.3333333333333333,
              "#9c179e"
             ],
             [
              0.4444444444444444,
              "#bd3786"
             ],
             [
              0.5555555555555556,
              "#d8576b"
             ],
             [
              0.6666666666666666,
              "#ed7953"
             ],
             [
              0.7777777777777778,
              "#fb9f3a"
             ],
             [
              0.8888888888888888,
              "#fdca26"
             ],
             [
              1,
              "#f0f921"
             ]
            ],
            "type": "histogram2d"
           }
          ],
          "histogram2dcontour": [
           {
            "colorbar": {
             "outlinewidth": 0,
             "ticks": ""
            },
            "colorscale": [
             [
              0,
              "#0d0887"
             ],
             [
              0.1111111111111111,
              "#46039f"
             ],
             [
              0.2222222222222222,
              "#7201a8"
             ],
             [
              0.3333333333333333,
              "#9c179e"
             ],
             [
              0.4444444444444444,
              "#bd3786"
             ],
             [
              0.5555555555555556,
              "#d8576b"
             ],
             [
              0.6666666666666666,
              "#ed7953"
             ],
             [
              0.7777777777777778,
              "#fb9f3a"
             ],
             [
              0.8888888888888888,
              "#fdca26"
             ],
             [
              1,
              "#f0f921"
             ]
            ],
            "type": "histogram2dcontour"
           }
          ],
          "mesh3d": [
           {
            "colorbar": {
             "outlinewidth": 0,
             "ticks": ""
            },
            "type": "mesh3d"
           }
          ],
          "parcoords": [
           {
            "line": {
             "colorbar": {
              "outlinewidth": 0,
              "ticks": ""
             }
            },
            "type": "parcoords"
           }
          ],
          "pie": [
           {
            "automargin": true,
            "type": "pie"
           }
          ],
          "scatter": [
           {
            "marker": {
             "colorbar": {
              "outlinewidth": 0,
              "ticks": ""
             }
            },
            "type": "scatter"
           }
          ],
          "scatter3d": [
           {
            "line": {
             "colorbar": {
              "outlinewidth": 0,
              "ticks": ""
             }
            },
            "marker": {
             "colorbar": {
              "outlinewidth": 0,
              "ticks": ""
             }
            },
            "type": "scatter3d"
           }
          ],
          "scattercarpet": [
           {
            "marker": {
             "colorbar": {
              "outlinewidth": 0,
              "ticks": ""
             }
            },
            "type": "scattercarpet"
           }
          ],
          "scattergeo": [
           {
            "marker": {
             "colorbar": {
              "outlinewidth": 0,
              "ticks": ""
             }
            },
            "type": "scattergeo"
           }
          ],
          "scattergl": [
           {
            "marker": {
             "colorbar": {
              "outlinewidth": 0,
              "ticks": ""
             }
            },
            "type": "scattergl"
           }
          ],
          "scattermapbox": [
           {
            "marker": {
             "colorbar": {
              "outlinewidth": 0,
              "ticks": ""
             }
            },
            "type": "scattermapbox"
           }
          ],
          "scatterpolar": [
           {
            "marker": {
             "colorbar": {
              "outlinewidth": 0,
              "ticks": ""
             }
            },
            "type": "scatterpolar"
           }
          ],
          "scatterpolargl": [
           {
            "marker": {
             "colorbar": {
              "outlinewidth": 0,
              "ticks": ""
             }
            },
            "type": "scatterpolargl"
           }
          ],
          "scatterternary": [
           {
            "marker": {
             "colorbar": {
              "outlinewidth": 0,
              "ticks": ""
             }
            },
            "type": "scatterternary"
           }
          ],
          "surface": [
           {
            "colorbar": {
             "outlinewidth": 0,
             "ticks": ""
            },
            "colorscale": [
             [
              0,
              "#0d0887"
             ],
             [
              0.1111111111111111,
              "#46039f"
             ],
             [
              0.2222222222222222,
              "#7201a8"
             ],
             [
              0.3333333333333333,
              "#9c179e"
             ],
             [
              0.4444444444444444,
              "#bd3786"
             ],
             [
              0.5555555555555556,
              "#d8576b"
             ],
             [
              0.6666666666666666,
              "#ed7953"
             ],
             [
              0.7777777777777778,
              "#fb9f3a"
             ],
             [
              0.8888888888888888,
              "#fdca26"
             ],
             [
              1,
              "#f0f921"
             ]
            ],
            "type": "surface"
           }
          ],
          "table": [
           {
            "cells": {
             "fill": {
              "color": "#EBF0F8"
             },
             "line": {
              "color": "white"
             }
            },
            "header": {
             "fill": {
              "color": "#C8D4E3"
             },
             "line": {
              "color": "white"
             }
            },
            "type": "table"
           }
          ]
         },
         "layout": {
          "annotationdefaults": {
           "arrowcolor": "#2a3f5f",
           "arrowhead": 0,
           "arrowwidth": 1
          },
          "autotypenumbers": "strict",
          "coloraxis": {
           "colorbar": {
            "outlinewidth": 0,
            "ticks": ""
           }
          },
          "colorscale": {
           "diverging": [
            [
             0,
             "#8e0152"
            ],
            [
             0.1,
             "#c51b7d"
            ],
            [
             0.2,
             "#de77ae"
            ],
            [
             0.3,
             "#f1b6da"
            ],
            [
             0.4,
             "#fde0ef"
            ],
            [
             0.5,
             "#f7f7f7"
            ],
            [
             0.6,
             "#e6f5d0"
            ],
            [
             0.7,
             "#b8e186"
            ],
            [
             0.8,
             "#7fbc41"
            ],
            [
             0.9,
             "#4d9221"
            ],
            [
             1,
             "#276419"
            ]
           ],
           "sequential": [
            [
             0,
             "#0d0887"
            ],
            [
             0.1111111111111111,
             "#46039f"
            ],
            [
             0.2222222222222222,
             "#7201a8"
            ],
            [
             0.3333333333333333,
             "#9c179e"
            ],
            [
             0.4444444444444444,
             "#bd3786"
            ],
            [
             0.5555555555555556,
             "#d8576b"
            ],
            [
             0.6666666666666666,
             "#ed7953"
            ],
            [
             0.7777777777777778,
             "#fb9f3a"
            ],
            [
             0.8888888888888888,
             "#fdca26"
            ],
            [
             1,
             "#f0f921"
            ]
           ],
           "sequentialminus": [
            [
             0,
             "#0d0887"
            ],
            [
             0.1111111111111111,
             "#46039f"
            ],
            [
             0.2222222222222222,
             "#7201a8"
            ],
            [
             0.3333333333333333,
             "#9c179e"
            ],
            [
             0.4444444444444444,
             "#bd3786"
            ],
            [
             0.5555555555555556,
             "#d8576b"
            ],
            [
             0.6666666666666666,
             "#ed7953"
            ],
            [
             0.7777777777777778,
             "#fb9f3a"
            ],
            [
             0.8888888888888888,
             "#fdca26"
            ],
            [
             1,
             "#f0f921"
            ]
           ]
          },
          "colorway": [
           "#636efa",
           "#EF553B",
           "#00cc96",
           "#ab63fa",
           "#FFA15A",
           "#19d3f3",
           "#FF6692",
           "#B6E880",
           "#FF97FF",
           "#FECB52"
          ],
          "font": {
           "color": "#2a3f5f"
          },
          "geo": {
           "bgcolor": "white",
           "lakecolor": "white",
           "landcolor": "#E5ECF6",
           "showlakes": true,
           "showland": true,
           "subunitcolor": "white"
          },
          "hoverlabel": {
           "align": "left"
          },
          "hovermode": "closest",
          "mapbox": {
           "style": "light"
          },
          "paper_bgcolor": "white",
          "plot_bgcolor": "#E5ECF6",
          "polar": {
           "angularaxis": {
            "gridcolor": "white",
            "linecolor": "white",
            "ticks": ""
           },
           "bgcolor": "#E5ECF6",
           "radialaxis": {
            "gridcolor": "white",
            "linecolor": "white",
            "ticks": ""
           }
          },
          "scene": {
           "xaxis": {
            "backgroundcolor": "#E5ECF6",
            "gridcolor": "white",
            "gridwidth": 2,
            "linecolor": "white",
            "showbackground": true,
            "ticks": "",
            "zerolinecolor": "white"
           },
           "yaxis": {
            "backgroundcolor": "#E5ECF6",
            "gridcolor": "white",
            "gridwidth": 2,
            "linecolor": "white",
            "showbackground": true,
            "ticks": "",
            "zerolinecolor": "white"
           },
           "zaxis": {
            "backgroundcolor": "#E5ECF6",
            "gridcolor": "white",
            "gridwidth": 2,
            "linecolor": "white",
            "showbackground": true,
            "ticks": "",
            "zerolinecolor": "white"
           }
          },
          "shapedefaults": {
           "line": {
            "color": "#2a3f5f"
           }
          },
          "ternary": {
           "aaxis": {
            "gridcolor": "white",
            "linecolor": "white",
            "ticks": ""
           },
           "baxis": {
            "gridcolor": "white",
            "linecolor": "white",
            "ticks": ""
           },
           "bgcolor": "#E5ECF6",
           "caxis": {
            "gridcolor": "white",
            "linecolor": "white",
            "ticks": ""
           }
          },
          "title": {
           "x": 0.05
          },
          "xaxis": {
           "automargin": true,
           "gridcolor": "white",
           "linecolor": "white",
           "ticks": "",
           "title": {
            "standoff": 15
           },
           "zerolinecolor": "white",
           "zerolinewidth": 2
          },
          "yaxis": {
           "automargin": true,
           "gridcolor": "white",
           "linecolor": "white",
           "ticks": "",
           "title": {
            "standoff": 15
           },
           "zerolinecolor": "white",
           "zerolinewidth": 2
          }
         }
        },
        "xaxis": {
         "anchor": "y",
         "domain": [
          0,
          1
         ],
         "title": {
          "text": "value"
         }
        },
        "yaxis": {
         "anchor": "x",
         "domain": [
          0,
          1
         ],
         "title": {
          "text": "count"
         }
        }
       }
      }
     },
     "metadata": {},
     "output_type": "display_data"
    }
   ],
   "source": [
    "px.histogram(stop_smoking_df.groupby(\"Entity\").std()[\"EnforceBansTobaccoAd\"])"
   ]
  },
  {
   "cell_type": "code",
   "execution_count": 30,
   "metadata": {},
   "outputs": [
    {
     "data": {
      "application/vnd.plotly.v1+json": {
       "config": {
        "plotlyServerURL": "https://plot.ly"
       },
       "data": [
        {
         "alignmentgroup": "True",
         "bingroup": "x",
         "hovertemplate": "variable=AvgTaxesAsPctCigarettePrice<br>value=%{x}<br>count=%{y}<extra></extra>",
         "legendgroup": "AvgTaxesAsPctCigarettePrice",
         "marker": {
          "color": "#636efa",
          "pattern": {
           "shape": ""
          }
         },
         "name": "AvgTaxesAsPctCigarettePrice",
         "offsetgroup": "AvgTaxesAsPctCigarettePrice",
         "orientation": "v",
         "showlegend": true,
         "type": "histogram",
         "x": [
          null,
          null,
          4.313351365237943,
          null,
          null,
          null,
          0.14142135623731653,
          4.030508652763323,
          3.3234018715767757,
          0.07071067811865074,
          1.5556349186104053,
          null,
          null,
          8.343860018001264,
          null,
          8.131727983645296,
          0,
          null,
          null,
          null,
          0,
          7.636753236814716,
          null,
          1.2020815280171253,
          null,
          1.697056274847718,
          null,
          null,
          3.6062445840513924,
          2.545584412271572,
          0,
          null,
          null,
          null,
          0.28284271247462306,
          0.07071067811865074,
          0.989949493661168,
          null,
          null,
          null,
          null,
          null,
          3.1112698372208083,
          null,
          1.0606601717798212,
          3.111269837220813,
          null,
          0.07071067811865074,
          null,
          null,
          0.42426406871192446,
          1.0606601717798212,
          0.3535533905932738,
          null,
          null,
          null,
          1.7677669529663689,
          null,
          null,
          2.404163056034263,
          1.3435028842544443,
          0.42426406871192446,
          null,
          null,
          5.232590180780453,
          0.7071067811865476,
          3.676955262170045,
          1.1313708498984871,
          null,
          0,
          null,
          null,
          null,
          null,
          1.3435028842544368,
          4.73761543394986,
          0.3535533905932738,
          23.263813101037407,
          10.818733752154175,
          1.1313708498984758,
          null,
          0.7071067811865476,
          null,
          0.42426406871192446,
          2.2627416997969543,
          0.21213203435596475,
          null,
          8.980256121069155,
          0.3535533905932738,
          null,
          null,
          null,
          null,
          0.9899494936611706,
          2.757716446627537,
          null,
          null,
          null,
          1.2727922061357886,
          0.282842712474618,
          null,
          null,
          0.989949493661168,
          null,
          null,
          null,
          null,
          null,
          null,
          0.4949747468305903,
          null,
          4.949747468305833,
          null,
          31.254119728445403,
          null,
          0.28284271247462306,
          null,
          null,
          null,
          null,
          9.687362902255703,
          1.2020815280171377,
          1.2020815280171278,
          null,
          null,
          null,
          null,
          null,
          0.7071067811865476,
          3.959797974644662,
          0,
          0.6363961030678943,
          null,
          0,
          null,
          null,
          3.818376618407358,
          13.293607486307092,
          2.0506096654409767,
          2.3334523779156098,
          null,
          1.4142135623730951,
          3.8890872965260113,
          null,
          null,
          null,
          null,
          null,
          null,
          null,
          null,
          6.293250352560269,
          1.1313708498984771,
          null,
          null,
          2.4041630560342604,
          1.0606601717798212,
          0.7071067811865476,
          null,
          null,
          0.3535533905932738,
          3.5355339059327378,
          null,
          0.28284271247462306,
          0.49497474683058024,
          null,
          null,
          3.5355339059327378,
          1.2020815280171329,
          null,
          null,
          null,
          1.0606601717798212,
          null,
          null,
          null,
          null,
          4.5254833995939086,
          1.3435028842544443,
          null,
          null,
          2.8284271247461903,
          1.9091883092036779,
          2.4041630560342604,
          3.676955262170054,
          0,
          2.4041630560342657,
          1.1313708498984771,
          null,
          null,
          0,
          0.5656854249492436,
          3.181980515339464,
          1.555634918610399
         ],
         "xaxis": "x",
         "yaxis": "y"
        }
       ],
       "layout": {
        "barmode": "relative",
        "legend": {
         "title": {
          "text": "variable"
         },
         "tracegroupgap": 0
        },
        "margin": {
         "t": 60
        },
        "template": {
         "data": {
          "bar": [
           {
            "error_x": {
             "color": "#2a3f5f"
            },
            "error_y": {
             "color": "#2a3f5f"
            },
            "marker": {
             "line": {
              "color": "#E5ECF6",
              "width": 0.5
             },
             "pattern": {
              "fillmode": "overlay",
              "size": 10,
              "solidity": 0.2
             }
            },
            "type": "bar"
           }
          ],
          "barpolar": [
           {
            "marker": {
             "line": {
              "color": "#E5ECF6",
              "width": 0.5
             },
             "pattern": {
              "fillmode": "overlay",
              "size": 10,
              "solidity": 0.2
             }
            },
            "type": "barpolar"
           }
          ],
          "carpet": [
           {
            "aaxis": {
             "endlinecolor": "#2a3f5f",
             "gridcolor": "white",
             "linecolor": "white",
             "minorgridcolor": "white",
             "startlinecolor": "#2a3f5f"
            },
            "baxis": {
             "endlinecolor": "#2a3f5f",
             "gridcolor": "white",
             "linecolor": "white",
             "minorgridcolor": "white",
             "startlinecolor": "#2a3f5f"
            },
            "type": "carpet"
           }
          ],
          "choropleth": [
           {
            "colorbar": {
             "outlinewidth": 0,
             "ticks": ""
            },
            "type": "choropleth"
           }
          ],
          "contour": [
           {
            "colorbar": {
             "outlinewidth": 0,
             "ticks": ""
            },
            "colorscale": [
             [
              0,
              "#0d0887"
             ],
             [
              0.1111111111111111,
              "#46039f"
             ],
             [
              0.2222222222222222,
              "#7201a8"
             ],
             [
              0.3333333333333333,
              "#9c179e"
             ],
             [
              0.4444444444444444,
              "#bd3786"
             ],
             [
              0.5555555555555556,
              "#d8576b"
             ],
             [
              0.6666666666666666,
              "#ed7953"
             ],
             [
              0.7777777777777778,
              "#fb9f3a"
             ],
             [
              0.8888888888888888,
              "#fdca26"
             ],
             [
              1,
              "#f0f921"
             ]
            ],
            "type": "contour"
           }
          ],
          "contourcarpet": [
           {
            "colorbar": {
             "outlinewidth": 0,
             "ticks": ""
            },
            "type": "contourcarpet"
           }
          ],
          "heatmap": [
           {
            "colorbar": {
             "outlinewidth": 0,
             "ticks": ""
            },
            "colorscale": [
             [
              0,
              "#0d0887"
             ],
             [
              0.1111111111111111,
              "#46039f"
             ],
             [
              0.2222222222222222,
              "#7201a8"
             ],
             [
              0.3333333333333333,
              "#9c179e"
             ],
             [
              0.4444444444444444,
              "#bd3786"
             ],
             [
              0.5555555555555556,
              "#d8576b"
             ],
             [
              0.6666666666666666,
              "#ed7953"
             ],
             [
              0.7777777777777778,
              "#fb9f3a"
             ],
             [
              0.8888888888888888,
              "#fdca26"
             ],
             [
              1,
              "#f0f921"
             ]
            ],
            "type": "heatmap"
           }
          ],
          "heatmapgl": [
           {
            "colorbar": {
             "outlinewidth": 0,
             "ticks": ""
            },
            "colorscale": [
             [
              0,
              "#0d0887"
             ],
             [
              0.1111111111111111,
              "#46039f"
             ],
             [
              0.2222222222222222,
              "#7201a8"
             ],
             [
              0.3333333333333333,
              "#9c179e"
             ],
             [
              0.4444444444444444,
              "#bd3786"
             ],
             [
              0.5555555555555556,
              "#d8576b"
             ],
             [
              0.6666666666666666,
              "#ed7953"
             ],
             [
              0.7777777777777778,
              "#fb9f3a"
             ],
             [
              0.8888888888888888,
              "#fdca26"
             ],
             [
              1,
              "#f0f921"
             ]
            ],
            "type": "heatmapgl"
           }
          ],
          "histogram": [
           {
            "marker": {
             "pattern": {
              "fillmode": "overlay",
              "size": 10,
              "solidity": 0.2
             }
            },
            "type": "histogram"
           }
          ],
          "histogram2d": [
           {
            "colorbar": {
             "outlinewidth": 0,
             "ticks": ""
            },
            "colorscale": [
             [
              0,
              "#0d0887"
             ],
             [
              0.1111111111111111,
              "#46039f"
             ],
             [
              0.2222222222222222,
              "#7201a8"
             ],
             [
              0.3333333333333333,
              "#9c179e"
             ],
             [
              0.4444444444444444,
              "#bd3786"
             ],
             [
              0.5555555555555556,
              "#d8576b"
             ],
             [
              0.6666666666666666,
              "#ed7953"
             ],
             [
              0.7777777777777778,
              "#fb9f3a"
             ],
             [
              0.8888888888888888,
              "#fdca26"
             ],
             [
              1,
              "#f0f921"
             ]
            ],
            "type": "histogram2d"
           }
          ],
          "histogram2dcontour": [
           {
            "colorbar": {
             "outlinewidth": 0,
             "ticks": ""
            },
            "colorscale": [
             [
              0,
              "#0d0887"
             ],
             [
              0.1111111111111111,
              "#46039f"
             ],
             [
              0.2222222222222222,
              "#7201a8"
             ],
             [
              0.3333333333333333,
              "#9c179e"
             ],
             [
              0.4444444444444444,
              "#bd3786"
             ],
             [
              0.5555555555555556,
              "#d8576b"
             ],
             [
              0.6666666666666666,
              "#ed7953"
             ],
             [
              0.7777777777777778,
              "#fb9f3a"
             ],
             [
              0.8888888888888888,
              "#fdca26"
             ],
             [
              1,
              "#f0f921"
             ]
            ],
            "type": "histogram2dcontour"
           }
          ],
          "mesh3d": [
           {
            "colorbar": {
             "outlinewidth": 0,
             "ticks": ""
            },
            "type": "mesh3d"
           }
          ],
          "parcoords": [
           {
            "line": {
             "colorbar": {
              "outlinewidth": 0,
              "ticks": ""
             }
            },
            "type": "parcoords"
           }
          ],
          "pie": [
           {
            "automargin": true,
            "type": "pie"
           }
          ],
          "scatter": [
           {
            "marker": {
             "colorbar": {
              "outlinewidth": 0,
              "ticks": ""
             }
            },
            "type": "scatter"
           }
          ],
          "scatter3d": [
           {
            "line": {
             "colorbar": {
              "outlinewidth": 0,
              "ticks": ""
             }
            },
            "marker": {
             "colorbar": {
              "outlinewidth": 0,
              "ticks": ""
             }
            },
            "type": "scatter3d"
           }
          ],
          "scattercarpet": [
           {
            "marker": {
             "colorbar": {
              "outlinewidth": 0,
              "ticks": ""
             }
            },
            "type": "scattercarpet"
           }
          ],
          "scattergeo": [
           {
            "marker": {
             "colorbar": {
              "outlinewidth": 0,
              "ticks": ""
             }
            },
            "type": "scattergeo"
           }
          ],
          "scattergl": [
           {
            "marker": {
             "colorbar": {
              "outlinewidth": 0,
              "ticks": ""
             }
            },
            "type": "scattergl"
           }
          ],
          "scattermapbox": [
           {
            "marker": {
             "colorbar": {
              "outlinewidth": 0,
              "ticks": ""
             }
            },
            "type": "scattermapbox"
           }
          ],
          "scatterpolar": [
           {
            "marker": {
             "colorbar": {
              "outlinewidth": 0,
              "ticks": ""
             }
            },
            "type": "scatterpolar"
           }
          ],
          "scatterpolargl": [
           {
            "marker": {
             "colorbar": {
              "outlinewidth": 0,
              "ticks": ""
             }
            },
            "type": "scatterpolargl"
           }
          ],
          "scatterternary": [
           {
            "marker": {
             "colorbar": {
              "outlinewidth": 0,
              "ticks": ""
             }
            },
            "type": "scatterternary"
           }
          ],
          "surface": [
           {
            "colorbar": {
             "outlinewidth": 0,
             "ticks": ""
            },
            "colorscale": [
             [
              0,
              "#0d0887"
             ],
             [
              0.1111111111111111,
              "#46039f"
             ],
             [
              0.2222222222222222,
              "#7201a8"
             ],
             [
              0.3333333333333333,
              "#9c179e"
             ],
             [
              0.4444444444444444,
              "#bd3786"
             ],
             [
              0.5555555555555556,
              "#d8576b"
             ],
             [
              0.6666666666666666,
              "#ed7953"
             ],
             [
              0.7777777777777778,
              "#fb9f3a"
             ],
             [
              0.8888888888888888,
              "#fdca26"
             ],
             [
              1,
              "#f0f921"
             ]
            ],
            "type": "surface"
           }
          ],
          "table": [
           {
            "cells": {
             "fill": {
              "color": "#EBF0F8"
             },
             "line": {
              "color": "white"
             }
            },
            "header": {
             "fill": {
              "color": "#C8D4E3"
             },
             "line": {
              "color": "white"
             }
            },
            "type": "table"
           }
          ]
         },
         "layout": {
          "annotationdefaults": {
           "arrowcolor": "#2a3f5f",
           "arrowhead": 0,
           "arrowwidth": 1
          },
          "autotypenumbers": "strict",
          "coloraxis": {
           "colorbar": {
            "outlinewidth": 0,
            "ticks": ""
           }
          },
          "colorscale": {
           "diverging": [
            [
             0,
             "#8e0152"
            ],
            [
             0.1,
             "#c51b7d"
            ],
            [
             0.2,
             "#de77ae"
            ],
            [
             0.3,
             "#f1b6da"
            ],
            [
             0.4,
             "#fde0ef"
            ],
            [
             0.5,
             "#f7f7f7"
            ],
            [
             0.6,
             "#e6f5d0"
            ],
            [
             0.7,
             "#b8e186"
            ],
            [
             0.8,
             "#7fbc41"
            ],
            [
             0.9,
             "#4d9221"
            ],
            [
             1,
             "#276419"
            ]
           ],
           "sequential": [
            [
             0,
             "#0d0887"
            ],
            [
             0.1111111111111111,
             "#46039f"
            ],
            [
             0.2222222222222222,
             "#7201a8"
            ],
            [
             0.3333333333333333,
             "#9c179e"
            ],
            [
             0.4444444444444444,
             "#bd3786"
            ],
            [
             0.5555555555555556,
             "#d8576b"
            ],
            [
             0.6666666666666666,
             "#ed7953"
            ],
            [
             0.7777777777777778,
             "#fb9f3a"
            ],
            [
             0.8888888888888888,
             "#fdca26"
            ],
            [
             1,
             "#f0f921"
            ]
           ],
           "sequentialminus": [
            [
             0,
             "#0d0887"
            ],
            [
             0.1111111111111111,
             "#46039f"
            ],
            [
             0.2222222222222222,
             "#7201a8"
            ],
            [
             0.3333333333333333,
             "#9c179e"
            ],
            [
             0.4444444444444444,
             "#bd3786"
            ],
            [
             0.5555555555555556,
             "#d8576b"
            ],
            [
             0.6666666666666666,
             "#ed7953"
            ],
            [
             0.7777777777777778,
             "#fb9f3a"
            ],
            [
             0.8888888888888888,
             "#fdca26"
            ],
            [
             1,
             "#f0f921"
            ]
           ]
          },
          "colorway": [
           "#636efa",
           "#EF553B",
           "#00cc96",
           "#ab63fa",
           "#FFA15A",
           "#19d3f3",
           "#FF6692",
           "#B6E880",
           "#FF97FF",
           "#FECB52"
          ],
          "font": {
           "color": "#2a3f5f"
          },
          "geo": {
           "bgcolor": "white",
           "lakecolor": "white",
           "landcolor": "#E5ECF6",
           "showlakes": true,
           "showland": true,
           "subunitcolor": "white"
          },
          "hoverlabel": {
           "align": "left"
          },
          "hovermode": "closest",
          "mapbox": {
           "style": "light"
          },
          "paper_bgcolor": "white",
          "plot_bgcolor": "#E5ECF6",
          "polar": {
           "angularaxis": {
            "gridcolor": "white",
            "linecolor": "white",
            "ticks": ""
           },
           "bgcolor": "#E5ECF6",
           "radialaxis": {
            "gridcolor": "white",
            "linecolor": "white",
            "ticks": ""
           }
          },
          "scene": {
           "xaxis": {
            "backgroundcolor": "#E5ECF6",
            "gridcolor": "white",
            "gridwidth": 2,
            "linecolor": "white",
            "showbackground": true,
            "ticks": "",
            "zerolinecolor": "white"
           },
           "yaxis": {
            "backgroundcolor": "#E5ECF6",
            "gridcolor": "white",
            "gridwidth": 2,
            "linecolor": "white",
            "showbackground": true,
            "ticks": "",
            "zerolinecolor": "white"
           },
           "zaxis": {
            "backgroundcolor": "#E5ECF6",
            "gridcolor": "white",
            "gridwidth": 2,
            "linecolor": "white",
            "showbackground": true,
            "ticks": "",
            "zerolinecolor": "white"
           }
          },
          "shapedefaults": {
           "line": {
            "color": "#2a3f5f"
           }
          },
          "ternary": {
           "aaxis": {
            "gridcolor": "white",
            "linecolor": "white",
            "ticks": ""
           },
           "baxis": {
            "gridcolor": "white",
            "linecolor": "white",
            "ticks": ""
           },
           "bgcolor": "#E5ECF6",
           "caxis": {
            "gridcolor": "white",
            "linecolor": "white",
            "ticks": ""
           }
          },
          "title": {
           "x": 0.05
          },
          "xaxis": {
           "automargin": true,
           "gridcolor": "white",
           "linecolor": "white",
           "ticks": "",
           "title": {
            "standoff": 15
           },
           "zerolinecolor": "white",
           "zerolinewidth": 2
          },
          "yaxis": {
           "automargin": true,
           "gridcolor": "white",
           "linecolor": "white",
           "ticks": "",
           "title": {
            "standoff": 15
           },
           "zerolinecolor": "white",
           "zerolinewidth": 2
          }
         }
        },
        "xaxis": {
         "anchor": "y",
         "domain": [
          0,
          1
         ],
         "title": {
          "text": "value"
         }
        },
        "yaxis": {
         "anchor": "x",
         "domain": [
          0,
          1
         ],
         "title": {
          "text": "count"
         }
        }
       }
      }
     },
     "metadata": {},
     "output_type": "display_data"
    }
   ],
   "source": [
    "px.histogram(stop_smoking_df.groupby(\"Entity\").std()[\"AvgTaxesAsPctCigarettePrice\"])"
   ]
  },
  {
   "cell_type": "markdown",
   "id": "281f7b6d",
   "metadata": {},
   "source": [
    "## Effect of regulation on tobacco usage (self baseline)"
   ]
  },
  {
   "cell_type": "markdown",
   "id": "1b42a056",
   "metadata": {},
   "source": [
    "Take tobacco usage in 2018 and subtract by the value in 2000.\n",
    "Average the regulation since there is little variance for most countries."
   ]
  },
  {
   "cell_type": "code",
   "execution_count": 31,
   "id": "49bc2894",
   "metadata": {},
   "outputs": [],
   "source": [
    "def merge_reg_use_with_self_baseline(reg_df, use_df):\n",
    "    reg_df = reg_df.copy()\n",
    "    use_df = use_df.copy()\n",
    "\n",
    "    use_df = use_df.rename(columns={\"SpatialDimValueCode\": \"Code\", \"Value\": \"Pct_Smoking\"}).query(\"Gender == 'Male'\")\n",
    "    recent_use_df = use_df[use_df[\"Year\"] == 2018]\n",
    "    baseline_use_df = use_df[use_df[\"Year\"] == 2000][[\"Code\", \"Pct_Smoking\"]]\n",
    "    recent_use_df = pd.merge(recent_use_df, baseline_use_df, on=\"Code\")\n",
    "    recent_use_df[\"Pct_Smoking\"] = (recent_use_df[\"Pct_Smoking_x\"] - recent_use_df[\"Pct_Smoking_y\"]) / recent_use_df[\"Pct_Smoking_y\"]\n",
    "\n",
    "    # taxe_price_df = reg_df.groupby(\"Code\").mean()[[\"AvgTaxesAsPctCigarettePrice\", \"AvgCigarettePriceDollars\"]]\n",
    "    # ad_ban_df = reg_df.groupby(\"Code\").median()[[\"EnforceBansTobaccoAd\"]]\n",
    "    # reg_df = pd.merge(taxe_price_df, ad_ban_df, on=\"Code\")\n",
    "    reg_df = reg_df[reg_df[\"Year\"] == 2014]\n",
    "\n",
    "    # Normalizing values\n",
    "    # baseline_reg_df = use_df.groupby(\"Code\").mean()[[\"tax\"]]\n",
    "    # reg_df = pd.merge(reg_df, baseline_reg_df, on=\"Code\")\n",
    "    # reg_df[\"NormalizedCigaretteTax\"] = reg_df[\"AvgTaxesAsPctCigarettePrice\"] - reg_df[\"tax\"]\n",
    "    # reg_df.drop(columns=\"tax\", inplace=True)\n",
    "\n",
    "    reg_use_df = pd.merge(reg_df, recent_use_df, on=\"Code\")\n",
    "    return reg_use_df"
   ]
  },
  {
   "cell_type": "code",
   "execution_count": 32,
   "id": "afee2a70",
   "metadata": {},
   "outputs": [
    {
     "data": {
      "text/html": [
       "<div>\n",
       "<style scoped>\n",
       "    .dataframe tbody tr th:only-of-type {\n",
       "        vertical-align: middle;\n",
       "    }\n",
       "\n",
       "    .dataframe tbody tr th {\n",
       "        vertical-align: top;\n",
       "    }\n",
       "\n",
       "    .dataframe thead th {\n",
       "        text-align: right;\n",
       "    }\n",
       "</style>\n",
       "<table border=\"1\" class=\"dataframe\">\n",
       "  <thead>\n",
       "    <tr style=\"text-align: right;\">\n",
       "      <th></th>\n",
       "      <th>Entity</th>\n",
       "      <th>Code</th>\n",
       "      <th>Year_x</th>\n",
       "      <th>AvgCigarettePriceDollars</th>\n",
       "      <th>AvgTaxesAsPctCigarettePrice</th>\n",
       "      <th>EnforceBansTobaccoAd</th>\n",
       "      <th>HelpToQuit</th>\n",
       "      <th>HelpSize</th>\n",
       "      <th>ParentLocationCode</th>\n",
       "      <th>ParentLocation</th>\n",
       "      <th>...</th>\n",
       "      <th>LogGDPPerCapita</th>\n",
       "      <th>SocialSupport</th>\n",
       "      <th>Expectancy</th>\n",
       "      <th>Freedom</th>\n",
       "      <th>Generosity</th>\n",
       "      <th>Corruption</th>\n",
       "      <th>PositiveAffect</th>\n",
       "      <th>NegativeAffect</th>\n",
       "      <th>Pct_Smoking_y</th>\n",
       "      <th>Pct_Smoking</th>\n",
       "    </tr>\n",
       "  </thead>\n",
       "  <tbody>\n",
       "    <tr>\n",
       "      <th>0</th>\n",
       "      <td>Algeria</td>\n",
       "      <td>DZA</td>\n",
       "      <td>2014</td>\n",
       "      <td>2.09</td>\n",
       "      <td>40.9</td>\n",
       "      <td>4</td>\n",
       "      <td>4</td>\n",
       "      <td>0.64</td>\n",
       "      <td>AFR</td>\n",
       "      <td>Africa</td>\n",
       "      <td>...</td>\n",
       "      <td>9.348</td>\n",
       "      <td>0.799</td>\n",
       "      <td>65.9</td>\n",
       "      <td>0.583</td>\n",
       "      <td>-0.146</td>\n",
       "      <td>0.759</td>\n",
       "      <td>0.591</td>\n",
       "      <td>0.293</td>\n",
       "      <td>42.4</td>\n",
       "      <td>-0.143868</td>\n",
       "    </tr>\n",
       "    <tr>\n",
       "      <th>1</th>\n",
       "      <td>Argentina</td>\n",
       "      <td>ARG</td>\n",
       "      <td>2014</td>\n",
       "      <td>3.47</td>\n",
       "      <td>69.7</td>\n",
       "      <td>4</td>\n",
       "      <td>5</td>\n",
       "      <td>1.00</td>\n",
       "      <td>AMR</td>\n",
       "      <td>Americas</td>\n",
       "      <td>...</td>\n",
       "      <td>10.032</td>\n",
       "      <td>0.900</td>\n",
       "      <td>68.8</td>\n",
       "      <td>0.846</td>\n",
       "      <td>-0.211</td>\n",
       "      <td>0.855</td>\n",
       "      <td>0.820</td>\n",
       "      <td>0.321</td>\n",
       "      <td>53.5</td>\n",
       "      <td>-0.472897</td>\n",
       "    </tr>\n",
       "    <tr>\n",
       "      <th>2</th>\n",
       "      <td>Armenia</td>\n",
       "      <td>ARM</td>\n",
       "      <td>2014</td>\n",
       "      <td>1.74</td>\n",
       "      <td>44.1</td>\n",
       "      <td>2</td>\n",
       "      <td>4</td>\n",
       "      <td>0.64</td>\n",
       "      <td>EUR</td>\n",
       "      <td>Europe</td>\n",
       "      <td>...</td>\n",
       "      <td>9.451</td>\n",
       "      <td>0.814</td>\n",
       "      <td>66.9</td>\n",
       "      <td>0.808</td>\n",
       "      <td>-0.163</td>\n",
       "      <td>0.677</td>\n",
       "      <td>0.581</td>\n",
       "      <td>0.455</td>\n",
       "      <td>66.1</td>\n",
       "      <td>-0.216339</td>\n",
       "    </tr>\n",
       "    <tr>\n",
       "      <th>3</th>\n",
       "      <td>Australia</td>\n",
       "      <td>AUS</td>\n",
       "      <td>2014</td>\n",
       "      <td>10.64</td>\n",
       "      <td>58.4</td>\n",
       "      <td>4</td>\n",
       "      <td>5</td>\n",
       "      <td>1.00</td>\n",
       "      <td>WPR</td>\n",
       "      <td>Western Pacific</td>\n",
       "      <td>...</td>\n",
       "      <td>10.811</td>\n",
       "      <td>0.940</td>\n",
       "      <td>73.6</td>\n",
       "      <td>0.916</td>\n",
       "      <td>0.146</td>\n",
       "      <td>0.405</td>\n",
       "      <td>0.759</td>\n",
       "      <td>0.187</td>\n",
       "      <td>29.9</td>\n",
       "      <td>-0.374582</td>\n",
       "    </tr>\n",
       "    <tr>\n",
       "      <th>4</th>\n",
       "      <td>Austria</td>\n",
       "      <td>AUT</td>\n",
       "      <td>2014</td>\n",
       "      <td>5.34</td>\n",
       "      <td>74.9</td>\n",
       "      <td>4</td>\n",
       "      <td>4</td>\n",
       "      <td>0.64</td>\n",
       "      <td>EUR</td>\n",
       "      <td>Europe</td>\n",
       "      <td>...</td>\n",
       "      <td>10.928</td>\n",
       "      <td>0.912</td>\n",
       "      <td>73.0</td>\n",
       "      <td>0.904</td>\n",
       "      <td>0.053</td>\n",
       "      <td>0.523</td>\n",
       "      <td>0.752</td>\n",
       "      <td>0.226</td>\n",
       "      <td>53.0</td>\n",
       "      <td>-0.426415</td>\n",
       "    </tr>\n",
       "    <tr>\n",
       "      <th>...</th>\n",
       "      <td>...</td>\n",
       "      <td>...</td>\n",
       "      <td>...</td>\n",
       "      <td>...</td>\n",
       "      <td>...</td>\n",
       "      <td>...</td>\n",
       "      <td>...</td>\n",
       "      <td>...</td>\n",
       "      <td>...</td>\n",
       "      <td>...</td>\n",
       "      <td>...</td>\n",
       "      <td>...</td>\n",
       "      <td>...</td>\n",
       "      <td>...</td>\n",
       "      <td>...</td>\n",
       "      <td>...</td>\n",
       "      <td>...</td>\n",
       "      <td>...</td>\n",
       "      <td>...</td>\n",
       "      <td>...</td>\n",
       "      <td>...</td>\n",
       "    </tr>\n",
       "    <tr>\n",
       "      <th>144</th>\n",
       "      <td>Timor</td>\n",
       "      <td>TLS</td>\n",
       "      <td>2014</td>\n",
       "      <td>NaN</td>\n",
       "      <td>NaN</td>\n",
       "      <td>2</td>\n",
       "      <td>2</td>\n",
       "      <td>0.16</td>\n",
       "      <td>SEAR</td>\n",
       "      <td>South-East Asia</td>\n",
       "      <td>...</td>\n",
       "      <td>NaN</td>\n",
       "      <td>NaN</td>\n",
       "      <td>NaN</td>\n",
       "      <td>NaN</td>\n",
       "      <td>NaN</td>\n",
       "      <td>NaN</td>\n",
       "      <td>NaN</td>\n",
       "      <td>NaN</td>\n",
       "      <td>91.0</td>\n",
       "      <td>-0.276923</td>\n",
       "    </tr>\n",
       "    <tr>\n",
       "      <th>145</th>\n",
       "      <td>Togo</td>\n",
       "      <td>TGO</td>\n",
       "      <td>2014</td>\n",
       "      <td>NaN</td>\n",
       "      <td>NaN</td>\n",
       "      <td>5</td>\n",
       "      <td>2</td>\n",
       "      <td>0.16</td>\n",
       "      <td>AFR</td>\n",
       "      <td>Africa</td>\n",
       "      <td>...</td>\n",
       "      <td>7.348</td>\n",
       "      <td>0.596</td>\n",
       "      <td>54.7</td>\n",
       "      <td>0.612</td>\n",
       "      <td>-0.007</td>\n",
       "      <td>0.809</td>\n",
       "      <td>0.608</td>\n",
       "      <td>0.446</td>\n",
       "      <td>19.1</td>\n",
       "      <td>-0.293194</td>\n",
       "    </tr>\n",
       "    <tr>\n",
       "      <th>146</th>\n",
       "      <td>Tonga</td>\n",
       "      <td>TON</td>\n",
       "      <td>2014</td>\n",
       "      <td>NaN</td>\n",
       "      <td>NaN</td>\n",
       "      <td>4</td>\n",
       "      <td>4</td>\n",
       "      <td>0.64</td>\n",
       "      <td>WPR</td>\n",
       "      <td>Western Pacific</td>\n",
       "      <td>...</td>\n",
       "      <td>NaN</td>\n",
       "      <td>NaN</td>\n",
       "      <td>NaN</td>\n",
       "      <td>NaN</td>\n",
       "      <td>NaN</td>\n",
       "      <td>NaN</td>\n",
       "      <td>NaN</td>\n",
       "      <td>NaN</td>\n",
       "      <td>51.8</td>\n",
       "      <td>-0.065637</td>\n",
       "    </tr>\n",
       "    <tr>\n",
       "      <th>147</th>\n",
       "      <td>Tuvalu</td>\n",
       "      <td>TUV</td>\n",
       "      <td>2014</td>\n",
       "      <td>NaN</td>\n",
       "      <td>NaN</td>\n",
       "      <td>5</td>\n",
       "      <td>4</td>\n",
       "      <td>0.64</td>\n",
       "      <td>WPR</td>\n",
       "      <td>Western Pacific</td>\n",
       "      <td>...</td>\n",
       "      <td>NaN</td>\n",
       "      <td>NaN</td>\n",
       "      <td>NaN</td>\n",
       "      <td>NaN</td>\n",
       "      <td>NaN</td>\n",
       "      <td>NaN</td>\n",
       "      <td>NaN</td>\n",
       "      <td>NaN</td>\n",
       "      <td>84.6</td>\n",
       "      <td>-0.219858</td>\n",
       "    </tr>\n",
       "    <tr>\n",
       "      <th>148</th>\n",
       "      <td>Vanuatu</td>\n",
       "      <td>VUT</td>\n",
       "      <td>2014</td>\n",
       "      <td>NaN</td>\n",
       "      <td>NaN</td>\n",
       "      <td>5</td>\n",
       "      <td>3</td>\n",
       "      <td>0.36</td>\n",
       "      <td>WPR</td>\n",
       "      <td>Western Pacific</td>\n",
       "      <td>...</td>\n",
       "      <td>NaN</td>\n",
       "      <td>NaN</td>\n",
       "      <td>NaN</td>\n",
       "      <td>NaN</td>\n",
       "      <td>NaN</td>\n",
       "      <td>NaN</td>\n",
       "      <td>NaN</td>\n",
       "      <td>NaN</td>\n",
       "      <td>59.1</td>\n",
       "      <td>-0.238579</td>\n",
       "    </tr>\n",
       "  </tbody>\n",
       "</table>\n",
       "<p>149 rows × 35 columns</p>\n",
       "</div>"
      ],
      "text/plain": [
       "        Entity Code  Year_x  AvgCigarettePriceDollars  \\\n",
       "0      Algeria  DZA    2014                      2.09   \n",
       "1    Argentina  ARG    2014                      3.47   \n",
       "2      Armenia  ARM    2014                      1.74   \n",
       "3    Australia  AUS    2014                     10.64   \n",
       "4      Austria  AUT    2014                      5.34   \n",
       "..         ...  ...     ...                       ...   \n",
       "144      Timor  TLS    2014                       NaN   \n",
       "145       Togo  TGO    2014                       NaN   \n",
       "146      Tonga  TON    2014                       NaN   \n",
       "147     Tuvalu  TUV    2014                       NaN   \n",
       "148    Vanuatu  VUT    2014                       NaN   \n",
       "\n",
       "     AvgTaxesAsPctCigarettePrice  EnforceBansTobaccoAd  HelpToQuit  HelpSize  \\\n",
       "0                           40.9                     4           4      0.64   \n",
       "1                           69.7                     4           5      1.00   \n",
       "2                           44.1                     2           4      0.64   \n",
       "3                           58.4                     4           5      1.00   \n",
       "4                           74.9                     4           4      0.64   \n",
       "..                           ...                   ...         ...       ...   \n",
       "144                          NaN                     2           2      0.16   \n",
       "145                          NaN                     5           2      0.16   \n",
       "146                          NaN                     4           4      0.64   \n",
       "147                          NaN                     5           4      0.64   \n",
       "148                          NaN                     5           3      0.36   \n",
       "\n",
       "    ParentLocationCode   ParentLocation  ... LogGDPPerCapita  SocialSupport  \\\n",
       "0                  AFR           Africa  ...           9.348          0.799   \n",
       "1                  AMR         Americas  ...          10.032          0.900   \n",
       "2                  EUR           Europe  ...           9.451          0.814   \n",
       "3                  WPR  Western Pacific  ...          10.811          0.940   \n",
       "4                  EUR           Europe  ...          10.928          0.912   \n",
       "..                 ...              ...  ...             ...            ...   \n",
       "144               SEAR  South-East Asia  ...             NaN            NaN   \n",
       "145                AFR           Africa  ...           7.348          0.596   \n",
       "146                WPR  Western Pacific  ...             NaN            NaN   \n",
       "147                WPR  Western Pacific  ...             NaN            NaN   \n",
       "148                WPR  Western Pacific  ...             NaN            NaN   \n",
       "\n",
       "    Expectancy  Freedom  Generosity  Corruption  PositiveAffect  \\\n",
       "0         65.9    0.583      -0.146       0.759           0.591   \n",
       "1         68.8    0.846      -0.211       0.855           0.820   \n",
       "2         66.9    0.808      -0.163       0.677           0.581   \n",
       "3         73.6    0.916       0.146       0.405           0.759   \n",
       "4         73.0    0.904       0.053       0.523           0.752   \n",
       "..         ...      ...         ...         ...             ...   \n",
       "144        NaN      NaN         NaN         NaN             NaN   \n",
       "145       54.7    0.612      -0.007       0.809           0.608   \n",
       "146        NaN      NaN         NaN         NaN             NaN   \n",
       "147        NaN      NaN         NaN         NaN             NaN   \n",
       "148        NaN      NaN         NaN         NaN             NaN   \n",
       "\n",
       "     NegativeAffect  Pct_Smoking_y  Pct_Smoking  \n",
       "0             0.293           42.4    -0.143868  \n",
       "1             0.321           53.5    -0.472897  \n",
       "2             0.455           66.1    -0.216339  \n",
       "3             0.187           29.9    -0.374582  \n",
       "4             0.226           53.0    -0.426415  \n",
       "..              ...            ...          ...  \n",
       "144             NaN           91.0    -0.276923  \n",
       "145           0.446           19.1    -0.293194  \n",
       "146             NaN           51.8    -0.065637  \n",
       "147             NaN           84.6    -0.219858  \n",
       "148             NaN           59.1    -0.238579  \n",
       "\n",
       "[149 rows x 35 columns]"
      ]
     },
     "execution_count": 32,
     "metadata": {},
     "output_type": "execute_result"
    }
   ],
   "source": [
    "reg_use_df = merge_reg_use_with_self_baseline(stop_smoking_df, extra_ww_df)\n",
    "reg_use_df"
   ]
  },
  {
   "cell_type": "code",
   "execution_count": 33,
   "id": "15621551",
   "metadata": {},
   "outputs": [],
   "source": [
    "# Random visualization of change in smoking rate by area\n",
    "# recent_use_df_by_area = reg_use_df.groupby(\"ParentLocation\").mean()\n",
    "# px.bar(recent_use_df_by_area, x=recent_use_df_by_area.index, y=\"Pct_Smoking\")"
   ]
  },
  {
   "cell_type": "code",
   "execution_count": 34,
   "id": "66aee100",
   "metadata": {},
   "outputs": [],
   "source": [
    "# reg_df_by_area = reg_use_df.groupby(\"ParentLocation\").mean()\n",
    "# px.bar(reg_df_by_area, x=reg_df_by_area.index, y=\"AvgTaxesAsPctCigarettePrice\")"
   ]
  },
  {
   "cell_type": "markdown",
   "id": "f0a1371c",
   "metadata": {},
   "source": [
    "Change in percentage of smokers from 2000-2018 as a function of average tax percentage\n",
    "\n",
    "Observations:\n",
    "- Slight correlation between taxes and smoking rate\n",
    "- Taxes not very effective?\n",
    "\n",
    "Note:\n",
    "- Normalize against tax rate"
   ]
  },
  {
   "cell_type": "code",
   "execution_count": 35,
   "id": "0cfd7f9b",
   "metadata": {},
   "outputs": [
    {
     "data": {
      "image/png": "[encoded data removed]",
      "text/plain": [
       "<Figure size 1296x720 with 6 Axes>"
      ]
     },
     "metadata": {
      "needs_background": "light"
     },
     "output_type": "display_data"
    }
   ],
   "source": [
    "draw_tax_plot(reg_use_df, parent_location=\"ALL\", save=\"tax_time_norm_ALL.png\")"
   ]
  },
  {
   "cell_type": "markdown",
   "id": "896e00e2",
   "metadata": {},
   "source": [
    "Percent change in smoking rate as a function of median tobacco ad ban"
   ]
  },
  {
   "cell_type": "code",
   "execution_count": 36,
   "id": "378ac332",
   "metadata": {},
   "outputs": [
    {
     "data": {
      "image/png": "[encoded data removed]",
      "text/plain": [
       "<Figure size 1296x720 with 6 Axes>"
      ]
     },
     "metadata": {
      "needs_background": "light"
     },
     "output_type": "display_data"
    }
   ],
   "source": [
    "draw_ads_plot(reg_use_df, parent_location=\"ALL\", save=\"ads_time_norm_ALL.png\")"
   ]
  },
  {
   "cell_type": "code",
   "execution_count": 37,
   "id": "988ecf6e",
   "metadata": {},
   "outputs": [
    {
     "data": {
      "image/png": "[encoded data removed]",
      "text/plain": [
       "<Figure size 1296x720 with 6 Axes>"
      ]
     },
     "metadata": {
      "needs_background": "light"
     },
     "output_type": "display_data"
    }
   ],
   "source": [
    "draw_help_plot(reg_use_df, parent_location=\"ALL\")"
   ]
  },
  {
   "cell_type": "code",
   "execution_count": null,
   "id": "1c216bb5",
   "metadata": {},
   "outputs": [],
   "source": []
  },
  {
   "cell_type": "markdown",
   "id": "531cf3b3",
   "metadata": {},
   "source": [
    "## Effect of regulation on tobacco usage (region baseline)"
   ]
  },
  {
   "cell_type": "code",
   "execution_count": 38,
   "id": "9c35055f",
   "metadata": {},
   "outputs": [],
   "source": [
    "def normalize_by_area(df):\n",
    "    area_df = df.groupby(\"ParentLocationCode\").mean()[[\"Pct_Smoking\"]].rename(columns={\"Pct_Smoking\": \"Baseline_Smoking\"})\n",
    "    df = pd.merge(df, area_df, on=\"ParentLocationCode\")\n",
    "    df[\"Pct_Smoking\"] = (df[\"Pct_Smoking\"] - df[\"Baseline_Smoking\"])\n",
    "    df.drop(columns=\"Baseline_Smoking\", inplace=True)\n",
    "    return df\n",
    "\n",
    "def merge_reg_use_with_area_baseline(reg_df, use_df):\n",
    "    reg_df = reg_df.copy()\n",
    "    use_df = use_df.copy()\n",
    "\n",
    "    use_df = use_df.rename(columns={\"SpatialDimValueCode\": \"Code\", \"Value\": \"Pct_Smoking\"}).query(\"Gender == 'Male'\")\n",
    "    recent_use_df = use_df[use_df[\"Year\"] == 2018]\n",
    "    # baseline_use_df = use_df[use_df[\"Year\"] == 2000]\n",
    "\n",
    "    # Normalizing by area\n",
    "    recent_use_df = normalize_by_area(recent_use_df)\n",
    "    # baseline_use_df = normalize_by_area(baseline_use_df)\n",
    "    # baseline_use_df = baseline_use_df[[\"Code\", \"Pct_Smoking\"]]\n",
    "\n",
    "    # recent_use_df = pd.merge(recent_use_df, baseline_use_df, on=\"Code\")\n",
    "    # recent_use_df[\"Pct_Smoking_Change\"] = (recent_use_df[\"Pct_Smoking_x\"] - recent_use_df[\"Pct_Smoking_y\"]) / recent_use_df[\"Pct_Smoking_y\"]\n",
    "\n",
    "    reg_df = reg_df[reg_df[\"Year\"] == 2014]\n",
    "\n",
    "    # Normalizing values\n",
    "    # baseline_reg_df = use_df.query(\"Year == 2014\")[[\"Code\", \"tax\"]].rename(columns={\"Code\": \"tmp_code\"})\n",
    "    # reg_df = pd.merge(reg_df, baseline_reg_df, left_on=\"Code\", right_on=\"tmp_code\").drop(columns=\"tmp_code\")\n",
    "    # reg_df[\"NormalizedCigaretteTax\"] = reg_df[\"AvgTaxesAsPctCigarettePrice\"] - reg_df[\"tax\"]\n",
    "    # reg_df.drop(columns=\"tax\", inplace=True)\n",
    "\n",
    "    reg_use_df = pd.merge(reg_df, recent_use_df, on=\"Code\")\n",
    "    return reg_use_df"
   ]
  },
  {
   "cell_type": "code",
   "execution_count": 39,
   "id": "231dced5",
   "metadata": {},
   "outputs": [
    {
     "data": {
      "text/html": [
       "<div>\n",
       "<style scoped>\n",
       "    .dataframe tbody tr th:only-of-type {\n",
       "        vertical-align: middle;\n",
       "    }\n",
       "\n",
       "    .dataframe tbody tr th {\n",
       "        vertical-align: top;\n",
       "    }\n",
       "\n",
       "    .dataframe thead th {\n",
       "        text-align: right;\n",
       "    }\n",
       "</style>\n",
       "<table border=\"1\" class=\"dataframe\">\n",
       "  <thead>\n",
       "    <tr style=\"text-align: right;\">\n",
       "      <th></th>\n",
       "      <th>Entity</th>\n",
       "      <th>Code</th>\n",
       "      <th>Year_x</th>\n",
       "      <th>AvgCigarettePriceDollars</th>\n",
       "      <th>AvgTaxesAsPctCigarettePrice</th>\n",
       "      <th>EnforceBansTobaccoAd</th>\n",
       "      <th>HelpToQuit</th>\n",
       "      <th>HelpSize</th>\n",
       "      <th>ParentLocationCode</th>\n",
       "      <th>ParentLocation</th>\n",
       "      <th>...</th>\n",
       "      <th>tax</th>\n",
       "      <th>LifeLadder</th>\n",
       "      <th>LogGDPPerCapita</th>\n",
       "      <th>SocialSupport</th>\n",
       "      <th>Expectancy</th>\n",
       "      <th>Freedom</th>\n",
       "      <th>Generosity</th>\n",
       "      <th>Corruption</th>\n",
       "      <th>PositiveAffect</th>\n",
       "      <th>NegativeAffect</th>\n",
       "    </tr>\n",
       "  </thead>\n",
       "  <tbody>\n",
       "    <tr>\n",
       "      <th>0</th>\n",
       "      <td>Algeria</td>\n",
       "      <td>DZA</td>\n",
       "      <td>2014</td>\n",
       "      <td>2.09</td>\n",
       "      <td>40.9</td>\n",
       "      <td>4</td>\n",
       "      <td>4</td>\n",
       "      <td>0.64</td>\n",
       "      <td>AFR</td>\n",
       "      <td>Africa</td>\n",
       "      <td>...</td>\n",
       "      <td>NaN</td>\n",
       "      <td>5.043</td>\n",
       "      <td>9.348</td>\n",
       "      <td>0.799</td>\n",
       "      <td>65.9</td>\n",
       "      <td>0.583</td>\n",
       "      <td>-0.146</td>\n",
       "      <td>0.759</td>\n",
       "      <td>0.591</td>\n",
       "      <td>0.293</td>\n",
       "    </tr>\n",
       "    <tr>\n",
       "      <th>1</th>\n",
       "      <td>Argentina</td>\n",
       "      <td>ARG</td>\n",
       "      <td>2014</td>\n",
       "      <td>3.47</td>\n",
       "      <td>69.7</td>\n",
       "      <td>4</td>\n",
       "      <td>5</td>\n",
       "      <td>1.00</td>\n",
       "      <td>AMR</td>\n",
       "      <td>Americas</td>\n",
       "      <td>...</td>\n",
       "      <td>7.585677</td>\n",
       "      <td>5.793</td>\n",
       "      <td>10.032</td>\n",
       "      <td>0.900</td>\n",
       "      <td>68.8</td>\n",
       "      <td>0.846</td>\n",
       "      <td>-0.211</td>\n",
       "      <td>0.855</td>\n",
       "      <td>0.820</td>\n",
       "      <td>0.321</td>\n",
       "    </tr>\n",
       "    <tr>\n",
       "      <th>2</th>\n",
       "      <td>Armenia</td>\n",
       "      <td>ARM</td>\n",
       "      <td>2014</td>\n",
       "      <td>1.74</td>\n",
       "      <td>44.1</td>\n",
       "      <td>2</td>\n",
       "      <td>4</td>\n",
       "      <td>0.64</td>\n",
       "      <td>EUR</td>\n",
       "      <td>Europe</td>\n",
       "      <td>...</td>\n",
       "      <td>11.753299</td>\n",
       "      <td>5.062</td>\n",
       "      <td>9.451</td>\n",
       "      <td>0.814</td>\n",
       "      <td>66.9</td>\n",
       "      <td>0.808</td>\n",
       "      <td>-0.163</td>\n",
       "      <td>0.677</td>\n",
       "      <td>0.581</td>\n",
       "      <td>0.455</td>\n",
       "    </tr>\n",
       "    <tr>\n",
       "      <th>3</th>\n",
       "      <td>Australia</td>\n",
       "      <td>AUS</td>\n",
       "      <td>2014</td>\n",
       "      <td>10.64</td>\n",
       "      <td>58.4</td>\n",
       "      <td>4</td>\n",
       "      <td>5</td>\n",
       "      <td>1.00</td>\n",
       "      <td>WPR</td>\n",
       "      <td>Western Pacific</td>\n",
       "      <td>...</td>\n",
       "      <td>5.838860</td>\n",
       "      <td>7.177</td>\n",
       "      <td>10.811</td>\n",
       "      <td>0.940</td>\n",
       "      <td>73.6</td>\n",
       "      <td>0.916</td>\n",
       "      <td>0.146</td>\n",
       "      <td>0.405</td>\n",
       "      <td>0.759</td>\n",
       "      <td>0.187</td>\n",
       "    </tr>\n",
       "    <tr>\n",
       "      <th>4</th>\n",
       "      <td>Austria</td>\n",
       "      <td>AUT</td>\n",
       "      <td>2014</td>\n",
       "      <td>5.34</td>\n",
       "      <td>74.9</td>\n",
       "      <td>4</td>\n",
       "      <td>4</td>\n",
       "      <td>0.64</td>\n",
       "      <td>EUR</td>\n",
       "      <td>Europe</td>\n",
       "      <td>...</td>\n",
       "      <td>13.320046</td>\n",
       "      <td>7.396</td>\n",
       "      <td>10.928</td>\n",
       "      <td>0.912</td>\n",
       "      <td>73.0</td>\n",
       "      <td>0.904</td>\n",
       "      <td>0.053</td>\n",
       "      <td>0.523</td>\n",
       "      <td>0.752</td>\n",
       "      <td>0.226</td>\n",
       "    </tr>\n",
       "    <tr>\n",
       "      <th>...</th>\n",
       "      <td>...</td>\n",
       "      <td>...</td>\n",
       "      <td>...</td>\n",
       "      <td>...</td>\n",
       "      <td>...</td>\n",
       "      <td>...</td>\n",
       "      <td>...</td>\n",
       "      <td>...</td>\n",
       "      <td>...</td>\n",
       "      <td>...</td>\n",
       "      <td>...</td>\n",
       "      <td>...</td>\n",
       "      <td>...</td>\n",
       "      <td>...</td>\n",
       "      <td>...</td>\n",
       "      <td>...</td>\n",
       "      <td>...</td>\n",
       "      <td>...</td>\n",
       "      <td>...</td>\n",
       "      <td>...</td>\n",
       "      <td>...</td>\n",
       "    </tr>\n",
       "    <tr>\n",
       "      <th>144</th>\n",
       "      <td>Timor</td>\n",
       "      <td>TLS</td>\n",
       "      <td>2014</td>\n",
       "      <td>NaN</td>\n",
       "      <td>NaN</td>\n",
       "      <td>2</td>\n",
       "      <td>2</td>\n",
       "      <td>0.16</td>\n",
       "      <td>SEAR</td>\n",
       "      <td>South-East Asia</td>\n",
       "      <td>...</td>\n",
       "      <td>5.333911</td>\n",
       "      <td>NaN</td>\n",
       "      <td>NaN</td>\n",
       "      <td>NaN</td>\n",
       "      <td>NaN</td>\n",
       "      <td>NaN</td>\n",
       "      <td>NaN</td>\n",
       "      <td>NaN</td>\n",
       "      <td>NaN</td>\n",
       "      <td>NaN</td>\n",
       "    </tr>\n",
       "    <tr>\n",
       "      <th>145</th>\n",
       "      <td>Togo</td>\n",
       "      <td>TGO</td>\n",
       "      <td>2014</td>\n",
       "      <td>NaN</td>\n",
       "      <td>NaN</td>\n",
       "      <td>5</td>\n",
       "      <td>2</td>\n",
       "      <td>0.16</td>\n",
       "      <td>AFR</td>\n",
       "      <td>Africa</td>\n",
       "      <td>...</td>\n",
       "      <td>10.090436</td>\n",
       "      <td>4.023</td>\n",
       "      <td>7.348</td>\n",
       "      <td>0.596</td>\n",
       "      <td>54.7</td>\n",
       "      <td>0.612</td>\n",
       "      <td>-0.007</td>\n",
       "      <td>0.809</td>\n",
       "      <td>0.608</td>\n",
       "      <td>0.446</td>\n",
       "    </tr>\n",
       "    <tr>\n",
       "      <th>146</th>\n",
       "      <td>Tonga</td>\n",
       "      <td>TON</td>\n",
       "      <td>2014</td>\n",
       "      <td>NaN</td>\n",
       "      <td>NaN</td>\n",
       "      <td>4</td>\n",
       "      <td>4</td>\n",
       "      <td>0.64</td>\n",
       "      <td>WPR</td>\n",
       "      <td>Western Pacific</td>\n",
       "      <td>...</td>\n",
       "      <td>NaN</td>\n",
       "      <td>NaN</td>\n",
       "      <td>NaN</td>\n",
       "      <td>NaN</td>\n",
       "      <td>NaN</td>\n",
       "      <td>NaN</td>\n",
       "      <td>NaN</td>\n",
       "      <td>NaN</td>\n",
       "      <td>NaN</td>\n",
       "      <td>NaN</td>\n",
       "    </tr>\n",
       "    <tr>\n",
       "      <th>147</th>\n",
       "      <td>Tuvalu</td>\n",
       "      <td>TUV</td>\n",
       "      <td>2014</td>\n",
       "      <td>NaN</td>\n",
       "      <td>NaN</td>\n",
       "      <td>5</td>\n",
       "      <td>4</td>\n",
       "      <td>0.64</td>\n",
       "      <td>WPR</td>\n",
       "      <td>Western Pacific</td>\n",
       "      <td>...</td>\n",
       "      <td>NaN</td>\n",
       "      <td>NaN</td>\n",
       "      <td>NaN</td>\n",
       "      <td>NaN</td>\n",
       "      <td>NaN</td>\n",
       "      <td>NaN</td>\n",
       "      <td>NaN</td>\n",
       "      <td>NaN</td>\n",
       "      <td>NaN</td>\n",
       "      <td>NaN</td>\n",
       "    </tr>\n",
       "    <tr>\n",
       "      <th>148</th>\n",
       "      <td>Vanuatu</td>\n",
       "      <td>VUT</td>\n",
       "      <td>2014</td>\n",
       "      <td>NaN</td>\n",
       "      <td>NaN</td>\n",
       "      <td>5</td>\n",
       "      <td>3</td>\n",
       "      <td>0.36</td>\n",
       "      <td>WPR</td>\n",
       "      <td>Western Pacific</td>\n",
       "      <td>...</td>\n",
       "      <td>NaN</td>\n",
       "      <td>NaN</td>\n",
       "      <td>NaN</td>\n",
       "      <td>NaN</td>\n",
       "      <td>NaN</td>\n",
       "      <td>NaN</td>\n",
       "      <td>NaN</td>\n",
       "      <td>NaN</td>\n",
       "      <td>NaN</td>\n",
       "      <td>NaN</td>\n",
       "    </tr>\n",
       "  </tbody>\n",
       "</table>\n",
       "<p>149 rows × 33 columns</p>\n",
       "</div>"
      ],
      "text/plain": [
       "        Entity Code  Year_x  AvgCigarettePriceDollars  \\\n",
       "0      Algeria  DZA    2014                      2.09   \n",
       "1    Argentina  ARG    2014                      3.47   \n",
       "2      Armenia  ARM    2014                      1.74   \n",
       "3    Australia  AUS    2014                     10.64   \n",
       "4      Austria  AUT    2014                      5.34   \n",
       "..         ...  ...     ...                       ...   \n",
       "144      Timor  TLS    2014                       NaN   \n",
       "145       Togo  TGO    2014                       NaN   \n",
       "146      Tonga  TON    2014                       NaN   \n",
       "147     Tuvalu  TUV    2014                       NaN   \n",
       "148    Vanuatu  VUT    2014                       NaN   \n",
       "\n",
       "     AvgTaxesAsPctCigarettePrice  EnforceBansTobaccoAd  HelpToQuit  HelpSize  \\\n",
       "0                           40.9                     4           4      0.64   \n",
       "1                           69.7                     4           5      1.00   \n",
       "2                           44.1                     2           4      0.64   \n",
       "3                           58.4                     4           5      1.00   \n",
       "4                           74.9                     4           4      0.64   \n",
       "..                           ...                   ...         ...       ...   \n",
       "144                          NaN                     2           2      0.16   \n",
       "145                          NaN                     5           2      0.16   \n",
       "146                          NaN                     4           4      0.64   \n",
       "147                          NaN                     5           4      0.64   \n",
       "148                          NaN                     5           3      0.36   \n",
       "\n",
       "    ParentLocationCode   ParentLocation  ...        tax  LifeLadder  \\\n",
       "0                  AFR           Africa  ...        NaN       5.043   \n",
       "1                  AMR         Americas  ...   7.585677       5.793   \n",
       "2                  EUR           Europe  ...  11.753299       5.062   \n",
       "3                  WPR  Western Pacific  ...   5.838860       7.177   \n",
       "4                  EUR           Europe  ...  13.320046       7.396   \n",
       "..                 ...              ...  ...        ...         ...   \n",
       "144               SEAR  South-East Asia  ...   5.333911         NaN   \n",
       "145                AFR           Africa  ...  10.090436       4.023   \n",
       "146                WPR  Western Pacific  ...        NaN         NaN   \n",
       "147                WPR  Western Pacific  ...        NaN         NaN   \n",
       "148                WPR  Western Pacific  ...        NaN         NaN   \n",
       "\n",
       "    LogGDPPerCapita  SocialSupport  Expectancy  Freedom  Generosity  \\\n",
       "0             9.348          0.799        65.9    0.583      -0.146   \n",
       "1            10.032          0.900        68.8    0.846      -0.211   \n",
       "2             9.451          0.814        66.9    0.808      -0.163   \n",
       "3            10.811          0.940        73.6    0.916       0.146   \n",
       "4            10.928          0.912        73.0    0.904       0.053   \n",
       "..              ...            ...         ...      ...         ...   \n",
       "144             NaN            NaN         NaN      NaN         NaN   \n",
       "145           7.348          0.596        54.7    0.612      -0.007   \n",
       "146             NaN            NaN         NaN      NaN         NaN   \n",
       "147             NaN            NaN         NaN      NaN         NaN   \n",
       "148             NaN            NaN         NaN      NaN         NaN   \n",
       "\n",
       "     Corruption  PositiveAffect  NegativeAffect  \n",
       "0         0.759           0.591           0.293  \n",
       "1         0.855           0.820           0.321  \n",
       "2         0.677           0.581           0.455  \n",
       "3         0.405           0.759           0.187  \n",
       "4         0.523           0.752           0.226  \n",
       "..          ...             ...             ...  \n",
       "144         NaN             NaN             NaN  \n",
       "145       0.809           0.608           0.446  \n",
       "146         NaN             NaN             NaN  \n",
       "147         NaN             NaN             NaN  \n",
       "148         NaN             NaN             NaN  \n",
       "\n",
       "[149 rows x 33 columns]"
      ]
     },
     "execution_count": 39,
     "metadata": {},
     "output_type": "execute_result"
    }
   ],
   "source": [
    "reg_use_df = merge_reg_use_with_area_baseline(stop_smoking_df, extra_ww_df)\n",
    "reg_use_df"
   ]
  },
  {
   "cell_type": "code",
   "execution_count": 40,
   "id": "e83ef08b",
   "metadata": {},
   "outputs": [
    {
     "data": {
      "text/html": [
       "<div>\n",
       "<style scoped>\n",
       "    .dataframe tbody tr th:only-of-type {\n",
       "        vertical-align: middle;\n",
       "    }\n",
       "\n",
       "    .dataframe tbody tr th {\n",
       "        vertical-align: top;\n",
       "    }\n",
       "\n",
       "    .dataframe thead th {\n",
       "        text-align: right;\n",
       "    }\n",
       "</style>\n",
       "<table border=\"1\" class=\"dataframe\">\n",
       "  <thead>\n",
       "    <tr style=\"text-align: right;\">\n",
       "      <th></th>\n",
       "      <th>Entity</th>\n",
       "      <th>Code</th>\n",
       "      <th>Year_x</th>\n",
       "      <th>AvgCigarettePriceDollars</th>\n",
       "      <th>AvgTaxesAsPctCigarettePrice</th>\n",
       "      <th>EnforceBansTobaccoAd</th>\n",
       "      <th>HelpToQuit</th>\n",
       "      <th>HelpSize</th>\n",
       "      <th>ParentLocation</th>\n",
       "      <th>Location</th>\n",
       "      <th>...</th>\n",
       "      <th>tax</th>\n",
       "      <th>LifeLadder</th>\n",
       "      <th>LogGDPPerCapita</th>\n",
       "      <th>SocialSupport</th>\n",
       "      <th>Expectancy</th>\n",
       "      <th>Freedom</th>\n",
       "      <th>Generosity</th>\n",
       "      <th>Corruption</th>\n",
       "      <th>PositiveAffect</th>\n",
       "      <th>NegativeAffect</th>\n",
       "    </tr>\n",
       "    <tr>\n",
       "      <th>ParentLocationCode</th>\n",
       "      <th></th>\n",
       "      <th></th>\n",
       "      <th></th>\n",
       "      <th></th>\n",
       "      <th></th>\n",
       "      <th></th>\n",
       "      <th></th>\n",
       "      <th></th>\n",
       "      <th></th>\n",
       "      <th></th>\n",
       "      <th></th>\n",
       "      <th></th>\n",
       "      <th></th>\n",
       "      <th></th>\n",
       "      <th></th>\n",
       "      <th></th>\n",
       "      <th></th>\n",
       "      <th></th>\n",
       "      <th></th>\n",
       "      <th></th>\n",
       "      <th></th>\n",
       "    </tr>\n",
       "  </thead>\n",
       "  <tbody>\n",
       "    <tr>\n",
       "      <th>AFR</th>\n",
       "      <td>37</td>\n",
       "      <td>37</td>\n",
       "      <td>37</td>\n",
       "      <td>16</td>\n",
       "      <td>17</td>\n",
       "      <td>37</td>\n",
       "      <td>37</td>\n",
       "      <td>37</td>\n",
       "      <td>37</td>\n",
       "      <td>37</td>\n",
       "      <td>...</td>\n",
       "      <td>21</td>\n",
       "      <td>28</td>\n",
       "      <td>28</td>\n",
       "      <td>28</td>\n",
       "      <td>28</td>\n",
       "      <td>28</td>\n",
       "      <td>28</td>\n",
       "      <td>28</td>\n",
       "      <td>28</td>\n",
       "      <td>28</td>\n",
       "    </tr>\n",
       "    <tr>\n",
       "      <th>AMR</th>\n",
       "      <td>20</td>\n",
       "      <td>20</td>\n",
       "      <td>20</td>\n",
       "      <td>14</td>\n",
       "      <td>14</td>\n",
       "      <td>20</td>\n",
       "      <td>20</td>\n",
       "      <td>20</td>\n",
       "      <td>20</td>\n",
       "      <td>20</td>\n",
       "      <td>...</td>\n",
       "      <td>13</td>\n",
       "      <td>13</td>\n",
       "      <td>13</td>\n",
       "      <td>13</td>\n",
       "      <td>13</td>\n",
       "      <td>13</td>\n",
       "      <td>13</td>\n",
       "      <td>13</td>\n",
       "      <td>13</td>\n",
       "      <td>13</td>\n",
       "    </tr>\n",
       "    <tr>\n",
       "      <th>EMR</th>\n",
       "      <td>14</td>\n",
       "      <td>14</td>\n",
       "      <td>14</td>\n",
       "      <td>9</td>\n",
       "      <td>9</td>\n",
       "      <td>14</td>\n",
       "      <td>14</td>\n",
       "      <td>14</td>\n",
       "      <td>14</td>\n",
       "      <td>14</td>\n",
       "      <td>...</td>\n",
       "      <td>5</td>\n",
       "      <td>7</td>\n",
       "      <td>7</td>\n",
       "      <td>7</td>\n",
       "      <td>7</td>\n",
       "      <td>7</td>\n",
       "      <td>7</td>\n",
       "      <td>5</td>\n",
       "      <td>7</td>\n",
       "      <td>7</td>\n",
       "    </tr>\n",
       "    <tr>\n",
       "      <th>EUR</th>\n",
       "      <td>47</td>\n",
       "      <td>47</td>\n",
       "      <td>47</td>\n",
       "      <td>43</td>\n",
       "      <td>43</td>\n",
       "      <td>47</td>\n",
       "      <td>47</td>\n",
       "      <td>47</td>\n",
       "      <td>47</td>\n",
       "      <td>47</td>\n",
       "      <td>...</td>\n",
       "      <td>41</td>\n",
       "      <td>39</td>\n",
       "      <td>39</td>\n",
       "      <td>39</td>\n",
       "      <td>39</td>\n",
       "      <td>39</td>\n",
       "      <td>39</td>\n",
       "      <td>39</td>\n",
       "      <td>39</td>\n",
       "      <td>39</td>\n",
       "    </tr>\n",
       "    <tr>\n",
       "      <th>SEAR</th>\n",
       "      <td>9</td>\n",
       "      <td>9</td>\n",
       "      <td>9</td>\n",
       "      <td>6</td>\n",
       "      <td>6</td>\n",
       "      <td>9</td>\n",
       "      <td>9</td>\n",
       "      <td>9</td>\n",
       "      <td>9</td>\n",
       "      <td>9</td>\n",
       "      <td>...</td>\n",
       "      <td>7</td>\n",
       "      <td>7</td>\n",
       "      <td>7</td>\n",
       "      <td>7</td>\n",
       "      <td>7</td>\n",
       "      <td>7</td>\n",
       "      <td>7</td>\n",
       "      <td>7</td>\n",
       "      <td>7</td>\n",
       "      <td>7</td>\n",
       "    </tr>\n",
       "    <tr>\n",
       "      <th>WPR</th>\n",
       "      <td>22</td>\n",
       "      <td>22</td>\n",
       "      <td>22</td>\n",
       "      <td>11</td>\n",
       "      <td>11</td>\n",
       "      <td>22</td>\n",
       "      <td>22</td>\n",
       "      <td>22</td>\n",
       "      <td>22</td>\n",
       "      <td>22</td>\n",
       "      <td>...</td>\n",
       "      <td>11</td>\n",
       "      <td>9</td>\n",
       "      <td>9</td>\n",
       "      <td>9</td>\n",
       "      <td>9</td>\n",
       "      <td>9</td>\n",
       "      <td>9</td>\n",
       "      <td>7</td>\n",
       "      <td>9</td>\n",
       "      <td>9</td>\n",
       "    </tr>\n",
       "  </tbody>\n",
       "</table>\n",
       "<p>6 rows × 32 columns</p>\n",
       "</div>"
      ],
      "text/plain": [
       "                    Entity  Code  Year_x  AvgCigarettePriceDollars  \\\n",
       "ParentLocationCode                                                   \n",
       "AFR                     37    37      37                        16   \n",
       "AMR                     20    20      20                        14   \n",
       "EMR                     14    14      14                         9   \n",
       "EUR                     47    47      47                        43   \n",
       "SEAR                     9     9       9                         6   \n",
       "WPR                     22    22      22                        11   \n",
       "\n",
       "                    AvgTaxesAsPctCigarettePrice  EnforceBansTobaccoAd  \\\n",
       "ParentLocationCode                                                      \n",
       "AFR                                          17                    37   \n",
       "AMR                                          14                    20   \n",
       "EMR                                           9                    14   \n",
       "EUR                                          43                    47   \n",
       "SEAR                                          6                     9   \n",
       "WPR                                          11                    22   \n",
       "\n",
       "                    HelpToQuit  HelpSize  ParentLocation  Location  ...  tax  \\\n",
       "ParentLocationCode                                                  ...        \n",
       "AFR                         37        37              37        37  ...   21   \n",
       "AMR                         20        20              20        20  ...   13   \n",
       "EMR                         14        14              14        14  ...    5   \n",
       "EUR                         47        47              47        47  ...   41   \n",
       "SEAR                         9         9               9         9  ...    7   \n",
       "WPR                         22        22              22        22  ...   11   \n",
       "\n",
       "                    LifeLadder  LogGDPPerCapita  SocialSupport  Expectancy  \\\n",
       "ParentLocationCode                                                           \n",
       "AFR                         28               28             28          28   \n",
       "AMR                         13               13             13          13   \n",
       "EMR                          7                7              7           7   \n",
       "EUR                         39               39             39          39   \n",
       "SEAR                         7                7              7           7   \n",
       "WPR                          9                9              9           9   \n",
       "\n",
       "                    Freedom  Generosity  Corruption  PositiveAffect  \\\n",
       "ParentLocationCode                                                    \n",
       "AFR                      28          28          28              28   \n",
       "AMR                      13          13          13              13   \n",
       "EMR                       7           7           5               7   \n",
       "EUR                      39          39          39              39   \n",
       "SEAR                      7           7           7               7   \n",
       "WPR                       9           9           7               9   \n",
       "\n",
       "                    NegativeAffect  \n",
       "ParentLocationCode                  \n",
       "AFR                             28  \n",
       "AMR                             13  \n",
       "EMR                              7  \n",
       "EUR                             39  \n",
       "SEAR                             7  \n",
       "WPR                              9  \n",
       "\n",
       "[6 rows x 32 columns]"
      ]
     },
     "execution_count": 40,
     "metadata": {},
     "output_type": "execute_result"
    }
   ],
   "source": [
    "reg_use_df.groupby(\"ParentLocationCode\").count()"
   ]
  },
  {
   "cell_type": "code",
   "execution_count": 41,
   "id": "97f4cea5",
   "metadata": {},
   "outputs": [
    {
     "data": {
      "text/plain": [
       "array(['AFR', 'AMR', 'EUR', 'WPR', 'SEAR', 'EMR'], dtype=object)"
      ]
     },
     "execution_count": 41,
     "metadata": {},
     "output_type": "execute_result"
    }
   ],
   "source": [
    "reg_use_df.ParentLocationCode.unique()"
   ]
  },
  {
   "cell_type": "code",
   "execution_count": 42,
   "id": "181668c5",
   "metadata": {},
   "outputs": [
    {
     "data": {
      "text/plain": [
       "array(['Africa', 'Americas', 'Europe', 'Western Pacific',\n",
       "       'South-East Asia', 'Eastern Mediterranean'], dtype=object)"
      ]
     },
     "execution_count": 42,
     "metadata": {},
     "output_type": "execute_result"
    }
   ],
   "source": [
    "reg_use_df.ParentLocation.unique()"
   ]
  },
  {
   "cell_type": "code",
   "execution_count": 43,
   "id": "8829f672",
   "metadata": {},
   "outputs": [
    {
     "data": {
      "image/png": "[encoded data removed]",
      "text/plain": [
       "<Figure size 432x360 with 1 Axes>"
      ]
     },
     "metadata": {
      "needs_background": "light"
     },
     "output_type": "display_data"
    }
   ],
   "source": [
    "draw_tax_plot(reg_use_df, save=\"tax_area_norm.png\")"
   ]
  },
  {
   "cell_type": "code",
   "execution_count": 44,
   "id": "c21136e7",
   "metadata": {},
   "outputs": [
    {
     "data": {
      "text/plain": [
       "(0.0688745878350221, 0.4959374016597878)"
      ]
     },
     "execution_count": 44,
     "metadata": {},
     "output_type": "execute_result"
    }
   ],
   "source": [
    "clean_df = reg_use_df.dropna(subset=[\"AvgTaxesAsPctCigarettePrice\", \"Pct_Smoking\"])\n",
    "scipy.stats.pearsonr(clean_df[\"AvgTaxesAsPctCigarettePrice\"], clean_df[\"Pct_Smoking\"])"
   ]
  },
  {
   "cell_type": "markdown",
   "id": "4e8ac05c",
   "metadata": {},
   "source": [
    "We observe that taxes have different effects depending on the ParentLocation\n",
    "More specifically, in some Asian countries, higher taxes is correlated with a lower smoking rate\n",
    "We hypothesize that this may be due to cultural differences (e.g. different types of government, whether people are willing to listen to the government, etc.)\n",
    "\n",
    "Not enough data"
   ]
  },
  {
   "cell_type": "code",
   "execution_count": 45,
   "id": "be5c34be",
   "metadata": {},
   "outputs": [
    {
     "data": {
      "image/png": "[encoded data removed]",
      "text/plain": [
       "<Figure size 1296x720 with 6 Axes>"
      ]
     },
     "metadata": {
      "needs_background": "light"
     },
     "output_type": "display_data"
    }
   ],
   "source": [
    "draw_ads_plot(reg_use_df, parent_location=\"ALL\", save=\"ads_area_norm_ALL.png\")"
   ]
  },
  {
   "cell_type": "code",
   "execution_count": 46,
   "id": "11cc5694",
   "metadata": {},
   "outputs": [
    {
     "data": {
      "image/png": "[encoded data removed]",
      "text/plain": [
       "<Figure size 432x360 with 1 Axes>"
      ]
     },
     "metadata": {
      "needs_background": "light"
     },
     "output_type": "display_data"
    }
   ],
   "source": [
    "draw_help_plot(reg_use_df, parent_location=\"EUR\")"
   ]
  },
  {
   "cell_type": "markdown",
   "id": "9d67b0bb",
   "metadata": {},
   "source": []
  },
  {
   "cell_type": "markdown",
   "id": "5ee66b36",
   "metadata": {},
   "source": []
  }
 ],
 "metadata": {
  "interpreter": {
   "hash": "bcc143fceb1d261e388ea4ed9cd3db7690faed6f9b17bc5323448eea02da0617"
  },
  "kernelspec": {
   "display_name": "Python 3.8.8 64-bit ('dgl': conda)",
   "name": "python3"
  },
  "language_info": {
   "codemirror_mode": {
    "name": "ipython",
    "version": 3
   },
   "file_extension": ".py",
   "mimetype": "text/x-python",
   "name": "python",
   "nbconvert_exporter": "python",
   "pygments_lexer": "ipython3",
   "version": "3.9.7"
  }
 },
 "nbformat": 4,
 "nbformat_minor": 5
}
