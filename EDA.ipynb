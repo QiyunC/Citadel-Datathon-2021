{
 "cells": [
  {
   "cell_type": "code",
   "execution_count": 2,
   "id": "c76d5a46",
   "metadata": {},
   "outputs": [],
   "source": [
    "import pandas as pd\n",
    "\n",
    "import plotly\n",
    "import plotly.graph_objs as go\n",
    "import plotly.express as px"
   ]
  },
  {
   "cell_type": "code",
   "execution_count": 3,
   "id": "600b39cd",
   "metadata": {},
   "outputs": [],
   "source": [
    "data_dir = 'Datasets/'\n",
    "ww_use_df = pd.read_csv(data_dir + \"tobacco_use_ww.csv\")\n",
    "stop_smoking_df = pd.read_csv(data_dir + \"stop_smoking.csv\")\n",
    "death_df = pd.read_csv(data_dir + \"death_rates_smoking_age.csv\")"
   ]
  },
  {
   "cell_type": "markdown",
   "metadata": {},
   "source": [
    "## Worldwide tobacco use"
   ]
  },
  {
   "cell_type": "code",
   "execution_count": 4,
   "metadata": {},
   "outputs": [
    {
     "data": {
      "text/html": [
       "<div>\n",
       "<style scoped>\n",
       "    .dataframe tbody tr th:only-of-type {\n",
       "        vertical-align: middle;\n",
       "    }\n",
       "\n",
       "    .dataframe tbody tr th {\n",
       "        vertical-align: top;\n",
       "    }\n",
       "\n",
       "    .dataframe thead th {\n",
       "        text-align: right;\n",
       "    }\n",
       "</style>\n",
       "<table border=\"1\" class=\"dataframe\">\n",
       "  <thead>\n",
       "    <tr style=\"text-align: right;\">\n",
       "      <th></th>\n",
       "      <th>ParentLocationCode</th>\n",
       "      <th>ParentLocation</th>\n",
       "      <th>SpatialDimValueCode</th>\n",
       "      <th>Location</th>\n",
       "      <th>Year</th>\n",
       "      <th>Gender</th>\n",
       "      <th>Value</th>\n",
       "    </tr>\n",
       "  </thead>\n",
       "  <tbody>\n",
       "    <tr>\n",
       "      <th>0</th>\n",
       "      <td>SEAR</td>\n",
       "      <td>South-East Asia</td>\n",
       "      <td>PRK</td>\n",
       "      <td>Democratic People's Republic of Korea</td>\n",
       "      <td>2018</td>\n",
       "      <td>Female</td>\n",
       "      <td>0.0</td>\n",
       "    </tr>\n",
       "    <tr>\n",
       "      <th>1</th>\n",
       "      <td>EUR</td>\n",
       "      <td>Europe</td>\n",
       "      <td>AZE</td>\n",
       "      <td>Azerbaijan</td>\n",
       "      <td>2018</td>\n",
       "      <td>Female</td>\n",
       "      <td>0.2</td>\n",
       "    </tr>\n",
       "    <tr>\n",
       "      <th>2</th>\n",
       "      <td>AFR</td>\n",
       "      <td>Africa</td>\n",
       "      <td>ERI</td>\n",
       "      <td>Eritrea</td>\n",
       "      <td>2018</td>\n",
       "      <td>Female</td>\n",
       "      <td>0.3</td>\n",
       "    </tr>\n",
       "    <tr>\n",
       "      <th>3</th>\n",
       "      <td>EMR</td>\n",
       "      <td>Eastern Mediterranean</td>\n",
       "      <td>EGY</td>\n",
       "      <td>Egypt</td>\n",
       "      <td>2018</td>\n",
       "      <td>Female</td>\n",
       "      <td>0.4</td>\n",
       "    </tr>\n",
       "    <tr>\n",
       "      <th>4</th>\n",
       "      <td>AFR</td>\n",
       "      <td>Africa</td>\n",
       "      <td>GHA</td>\n",
       "      <td>Ghana</td>\n",
       "      <td>2018</td>\n",
       "      <td>Female</td>\n",
       "      <td>0.4</td>\n",
       "    </tr>\n",
       "    <tr>\n",
       "      <th>...</th>\n",
       "      <td>...</td>\n",
       "      <td>...</td>\n",
       "      <td>...</td>\n",
       "      <td>...</td>\n",
       "      <td>...</td>\n",
       "      <td>...</td>\n",
       "      <td>...</td>\n",
       "    </tr>\n",
       "    <tr>\n",
       "      <th>4018</th>\n",
       "      <td>WPR</td>\n",
       "      <td>Western Pacific</td>\n",
       "      <td>TUV</td>\n",
       "      <td>Tuvalu</td>\n",
       "      <td>2000</td>\n",
       "      <td>Male</td>\n",
       "      <td>84.6</td>\n",
       "    </tr>\n",
       "    <tr>\n",
       "      <th>4019</th>\n",
       "      <td>AMR</td>\n",
       "      <td>Americas</td>\n",
       "      <td>JAM</td>\n",
       "      <td>Jamaica</td>\n",
       "      <td>2000</td>\n",
       "      <td>Female</td>\n",
       "      <td>9.1</td>\n",
       "    </tr>\n",
       "    <tr>\n",
       "      <th>4020</th>\n",
       "      <td>AFR</td>\n",
       "      <td>Africa</td>\n",
       "      <td>STP</td>\n",
       "      <td>Sao Tome and Principe</td>\n",
       "      <td>2000</td>\n",
       "      <td>Male</td>\n",
       "      <td>9.2</td>\n",
       "    </tr>\n",
       "    <tr>\n",
       "      <th>4021</th>\n",
       "      <td>EMR</td>\n",
       "      <td>Eastern Mediterranean</td>\n",
       "      <td>OMN</td>\n",
       "      <td>Oman</td>\n",
       "      <td>2000</td>\n",
       "      <td>Both sexes</td>\n",
       "      <td>9.5</td>\n",
       "    </tr>\n",
       "    <tr>\n",
       "      <th>4022</th>\n",
       "      <td>SEAR</td>\n",
       "      <td>South-East Asia</td>\n",
       "      <td>TLS</td>\n",
       "      <td>Timor-Leste</td>\n",
       "      <td>2000</td>\n",
       "      <td>Male</td>\n",
       "      <td>91.0</td>\n",
       "    </tr>\n",
       "  </tbody>\n",
       "</table>\n",
       "<p>4023 rows × 7 columns</p>\n",
       "</div>"
      ],
      "text/plain": [
       "     ParentLocationCode         ParentLocation SpatialDimValueCode  \\\n",
       "0                  SEAR        South-East Asia                 PRK   \n",
       "1                   EUR                 Europe                 AZE   \n",
       "2                   AFR                 Africa                 ERI   \n",
       "3                   EMR  Eastern Mediterranean                 EGY   \n",
       "4                   AFR                 Africa                 GHA   \n",
       "...                 ...                    ...                 ...   \n",
       "4018                WPR        Western Pacific                 TUV   \n",
       "4019                AMR               Americas                 JAM   \n",
       "4020                AFR                 Africa                 STP   \n",
       "4021                EMR  Eastern Mediterranean                 OMN   \n",
       "4022               SEAR        South-East Asia                 TLS   \n",
       "\n",
       "                                   Location  Year      Gender  Value  \n",
       "0     Democratic People's Republic of Korea  2018      Female    0.0  \n",
       "1                                Azerbaijan  2018      Female    0.2  \n",
       "2                                   Eritrea  2018      Female    0.3  \n",
       "3                                     Egypt  2018      Female    0.4  \n",
       "4                                     Ghana  2018      Female    0.4  \n",
       "...                                     ...   ...         ...    ...  \n",
       "4018                                 Tuvalu  2000        Male   84.6  \n",
       "4019                                Jamaica  2000      Female    9.1  \n",
       "4020                  Sao Tome and Principe  2000        Male    9.2  \n",
       "4021                                   Oman  2000  Both sexes    9.5  \n",
       "4022                            Timor-Leste  2000        Male   91.0  \n",
       "\n",
       "[4023 rows x 7 columns]"
      ]
     },
     "execution_count": 4,
     "metadata": {},
     "output_type": "execute_result"
    }
   ],
   "source": [
    "ww_use_df"
   ]
  },
  {
   "cell_type": "code",
   "execution_count": 20,
   "metadata": {},
   "outputs": [],
   "source": [
    "def plot_country_use(country_name):\n",
    "    country_df = ww_use_df[ww_use_df[\"Location\"] == country_name]\n",
    "    fig = px.line(country_df.query(\"Gender == 'Both sexes'\"), x=\"Year\", y=\"Value\", markers=True, title=country_name)\n",
    "    fig.show()\n"
   ]
  },
  {
   "cell_type": "code",
   "execution_count": 21,
   "metadata": {},
   "outputs": [
    {
     "data": {
      "application/vnd.plotly.v1+json": {
       "config": {
        "plotlyServerURL": "https://plot.ly"
       },
       "data": [
        {
         "hovertemplate": "Year=%{x}<br>Value=%{y}<extra></extra>",
         "legendgroup": "",
         "line": {
          "color": "#636efa",
          "dash": "solid"
         },
         "marker": {
          "symbol": "circle"
         },
         "mode": "markers+lines",
         "name": "",
         "orientation": "v",
         "showlegend": false,
         "type": "scatter",
         "x": [
          2018,
          2017,
          2016,
          2015,
          2014,
          2013,
          2010,
          2005,
          2000
         ],
         "xaxis": "x",
         "y": [
          17.5,
          18.3,
          19.1,
          20,
          20.7,
          21.8,
          24.7,
          30.7,
          37.9
         ],
         "yaxis": "y"
        }
       ],
       "layout": {
        "legend": {
         "tracegroupgap": 0
        },
        "template": {
         "data": {
          "bar": [
           {
            "error_x": {
             "color": "#2a3f5f"
            },
            "error_y": {
             "color": "#2a3f5f"
            },
            "marker": {
             "line": {
              "color": "#E5ECF6",
              "width": 0.5
             },
             "pattern": {
              "fillmode": "overlay",
              "size": 10,
              "solidity": 0.2
             }
            },
            "type": "bar"
           }
          ],
          "barpolar": [
           {
            "marker": {
             "line": {
              "color": "#E5ECF6",
              "width": 0.5
             },
             "pattern": {
              "fillmode": "overlay",
              "size": 10,
              "solidity": 0.2
             }
            },
            "type": "barpolar"
           }
          ],
          "carpet": [
           {
            "aaxis": {
             "endlinecolor": "#2a3f5f",
             "gridcolor": "white",
             "linecolor": "white",
             "minorgridcolor": "white",
             "startlinecolor": "#2a3f5f"
            },
            "baxis": {
             "endlinecolor": "#2a3f5f",
             "gridcolor": "white",
             "linecolor": "white",
             "minorgridcolor": "white",
             "startlinecolor": "#2a3f5f"
            },
            "type": "carpet"
           }
          ],
          "choropleth": [
           {
            "colorbar": {
             "outlinewidth": 0,
             "ticks": ""
            },
            "type": "choropleth"
           }
          ],
          "contour": [
           {
            "colorbar": {
             "outlinewidth": 0,
             "ticks": ""
            },
            "colorscale": [
             [
              0,
              "#0d0887"
             ],
             [
              0.1111111111111111,
              "#46039f"
             ],
             [
              0.2222222222222222,
              "#7201a8"
             ],
             [
              0.3333333333333333,
              "#9c179e"
             ],
             [
              0.4444444444444444,
              "#bd3786"
             ],
             [
              0.5555555555555556,
              "#d8576b"
             ],
             [
              0.6666666666666666,
              "#ed7953"
             ],
             [
              0.7777777777777778,
              "#fb9f3a"
             ],
             [
              0.8888888888888888,
              "#fdca26"
             ],
             [
              1,
              "#f0f921"
             ]
            ],
            "type": "contour"
           }
          ],
          "contourcarpet": [
           {
            "colorbar": {
             "outlinewidth": 0,
             "ticks": ""
            },
            "type": "contourcarpet"
           }
          ],
          "heatmap": [
           {
            "colorbar": {
             "outlinewidth": 0,
             "ticks": ""
            },
            "colorscale": [
             [
              0,
              "#0d0887"
             ],
             [
              0.1111111111111111,
              "#46039f"
             ],
             [
              0.2222222222222222,
              "#7201a8"
             ],
             [
              0.3333333333333333,
              "#9c179e"
             ],
             [
              0.4444444444444444,
              "#bd3786"
             ],
             [
              0.5555555555555556,
              "#d8576b"
             ],
             [
              0.6666666666666666,
              "#ed7953"
             ],
             [
              0.7777777777777778,
              "#fb9f3a"
             ],
             [
              0.8888888888888888,
              "#fdca26"
             ],
             [
              1,
              "#f0f921"
             ]
            ],
            "type": "heatmap"
           }
          ],
          "heatmapgl": [
           {
            "colorbar": {
             "outlinewidth": 0,
             "ticks": ""
            },
            "colorscale": [
             [
              0,
              "#0d0887"
             ],
             [
              0.1111111111111111,
              "#46039f"
             ],
             [
              0.2222222222222222,
              "#7201a8"
             ],
             [
              0.3333333333333333,
              "#9c179e"
             ],
             [
              0.4444444444444444,
              "#bd3786"
             ],
             [
              0.5555555555555556,
              "#d8576b"
             ],
             [
              0.6666666666666666,
              "#ed7953"
             ],
             [
              0.7777777777777778,
              "#fb9f3a"
             ],
             [
              0.8888888888888888,
              "#fdca26"
             ],
             [
              1,
              "#f0f921"
             ]
            ],
            "type": "heatmapgl"
           }
          ],
          "histogram": [
           {
            "marker": {
             "pattern": {
              "fillmode": "overlay",
              "size": 10,
              "solidity": 0.2
             }
            },
            "type": "histogram"
           }
          ],
          "histogram2d": [
           {
            "colorbar": {
             "outlinewidth": 0,
             "ticks": ""
            },
            "colorscale": [
             [
              0,
              "#0d0887"
             ],
             [
              0.1111111111111111,
              "#46039f"
             ],
             [
              0.2222222222222222,
              "#7201a8"
             ],
             [
              0.3333333333333333,
              "#9c179e"
             ],
             [
              0.4444444444444444,
              "#bd3786"
             ],
             [
              0.5555555555555556,
              "#d8576b"
             ],
             [
              0.6666666666666666,
              "#ed7953"
             ],
             [
              0.7777777777777778,
              "#fb9f3a"
             ],
             [
              0.8888888888888888,
              "#fdca26"
             ],
             [
              1,
              "#f0f921"
             ]
            ],
            "type": "histogram2d"
           }
          ],
          "histogram2dcontour": [
           {
            "colorbar": {
             "outlinewidth": 0,
             "ticks": ""
            },
            "colorscale": [
             [
              0,
              "#0d0887"
             ],
             [
              0.1111111111111111,
              "#46039f"
             ],
             [
              0.2222222222222222,
              "#7201a8"
             ],
             [
              0.3333333333333333,
              "#9c179e"
             ],
             [
              0.4444444444444444,
              "#bd3786"
             ],
             [
              0.5555555555555556,
              "#d8576b"
             ],
             [
              0.6666666666666666,
              "#ed7953"
             ],
             [
              0.7777777777777778,
              "#fb9f3a"
             ],
             [
              0.8888888888888888,
              "#fdca26"
             ],
             [
              1,
              "#f0f921"
             ]
            ],
            "type": "histogram2dcontour"
           }
          ],
          "mesh3d": [
           {
            "colorbar": {
             "outlinewidth": 0,
             "ticks": ""
            },
            "type": "mesh3d"
           }
          ],
          "parcoords": [
           {
            "line": {
             "colorbar": {
              "outlinewidth": 0,
              "ticks": ""
             }
            },
            "type": "parcoords"
           }
          ],
          "pie": [
           {
            "automargin": true,
            "type": "pie"
           }
          ],
          "scatter": [
           {
            "marker": {
             "colorbar": {
              "outlinewidth": 0,
              "ticks": ""
             }
            },
            "type": "scatter"
           }
          ],
          "scatter3d": [
           {
            "line": {
             "colorbar": {
              "outlinewidth": 0,
              "ticks": ""
             }
            },
            "marker": {
             "colorbar": {
              "outlinewidth": 0,
              "ticks": ""
             }
            },
            "type": "scatter3d"
           }
          ],
          "scattercarpet": [
           {
            "marker": {
             "colorbar": {
              "outlinewidth": 0,
              "ticks": ""
             }
            },
            "type": "scattercarpet"
           }
          ],
          "scattergeo": [
           {
            "marker": {
             "colorbar": {
              "outlinewidth": 0,
              "ticks": ""
             }
            },
            "type": "scattergeo"
           }
          ],
          "scattergl": [
           {
            "marker": {
             "colorbar": {
              "outlinewidth": 0,
              "ticks": ""
             }
            },
            "type": "scattergl"
           }
          ],
          "scattermapbox": [
           {
            "marker": {
             "colorbar": {
              "outlinewidth": 0,
              "ticks": ""
             }
            },
            "type": "scattermapbox"
           }
          ],
          "scatterpolar": [
           {
            "marker": {
             "colorbar": {
              "outlinewidth": 0,
              "ticks": ""
             }
            },
            "type": "scatterpolar"
           }
          ],
          "scatterpolargl": [
           {
            "marker": {
             "colorbar": {
              "outlinewidth": 0,
              "ticks": ""
             }
            },
            "type": "scatterpolargl"
           }
          ],
          "scatterternary": [
           {
            "marker": {
             "colorbar": {
              "outlinewidth": 0,
              "ticks": ""
             }
            },
            "type": "scatterternary"
           }
          ],
          "surface": [
           {
            "colorbar": {
             "outlinewidth": 0,
             "ticks": ""
            },
            "colorscale": [
             [
              0,
              "#0d0887"
             ],
             [
              0.1111111111111111,
              "#46039f"
             ],
             [
              0.2222222222222222,
              "#7201a8"
             ],
             [
              0.3333333333333333,
              "#9c179e"
             ],
             [
              0.4444444444444444,
              "#bd3786"
             ],
             [
              0.5555555555555556,
              "#d8576b"
             ],
             [
              0.6666666666666666,
              "#ed7953"
             ],
             [
              0.7777777777777778,
              "#fb9f3a"
             ],
             [
              0.8888888888888888,
              "#fdca26"
             ],
             [
              1,
              "#f0f921"
             ]
            ],
            "type": "surface"
           }
          ],
          "table": [
           {
            "cells": {
             "fill": {
              "color": "#EBF0F8"
             },
             "line": {
              "color": "white"
             }
            },
            "header": {
             "fill": {
              "color": "#C8D4E3"
             },
             "line": {
              "color": "white"
             }
            },
            "type": "table"
           }
          ]
         },
         "layout": {
          "annotationdefaults": {
           "arrowcolor": "#2a3f5f",
           "arrowhead": 0,
           "arrowwidth": 1
          },
          "autotypenumbers": "strict",
          "coloraxis": {
           "colorbar": {
            "outlinewidth": 0,
            "ticks": ""
           }
          },
          "colorscale": {
           "diverging": [
            [
             0,
             "#8e0152"
            ],
            [
             0.1,
             "#c51b7d"
            ],
            [
             0.2,
             "#de77ae"
            ],
            [
             0.3,
             "#f1b6da"
            ],
            [
             0.4,
             "#fde0ef"
            ],
            [
             0.5,
             "#f7f7f7"
            ],
            [
             0.6,
             "#e6f5d0"
            ],
            [
             0.7,
             "#b8e186"
            ],
            [
             0.8,
             "#7fbc41"
            ],
            [
             0.9,
             "#4d9221"
            ],
            [
             1,
             "#276419"
            ]
           ],
           "sequential": [
            [
             0,
             "#0d0887"
            ],
            [
             0.1111111111111111,
             "#46039f"
            ],
            [
             0.2222222222222222,
             "#7201a8"
            ],
            [
             0.3333333333333333,
             "#9c179e"
            ],
            [
             0.4444444444444444,
             "#bd3786"
            ],
            [
             0.5555555555555556,
             "#d8576b"
            ],
            [
             0.6666666666666666,
             "#ed7953"
            ],
            [
             0.7777777777777778,
             "#fb9f3a"
            ],
            [
             0.8888888888888888,
             "#fdca26"
            ],
            [
             1,
             "#f0f921"
            ]
           ],
           "sequentialminus": [
            [
             0,
             "#0d0887"
            ],
            [
             0.1111111111111111,
             "#46039f"
            ],
            [
             0.2222222222222222,
             "#7201a8"
            ],
            [
             0.3333333333333333,
             "#9c179e"
            ],
            [
             0.4444444444444444,
             "#bd3786"
            ],
            [
             0.5555555555555556,
             "#d8576b"
            ],
            [
             0.6666666666666666,
             "#ed7953"
            ],
            [
             0.7777777777777778,
             "#fb9f3a"
            ],
            [
             0.8888888888888888,
             "#fdca26"
            ],
            [
             1,
             "#f0f921"
            ]
           ]
          },
          "colorway": [
           "#636efa",
           "#EF553B",
           "#00cc96",
           "#ab63fa",
           "#FFA15A",
           "#19d3f3",
           "#FF6692",
           "#B6E880",
           "#FF97FF",
           "#FECB52"
          ],
          "font": {
           "color": "#2a3f5f"
          },
          "geo": {
           "bgcolor": "white",
           "lakecolor": "white",
           "landcolor": "#E5ECF6",
           "showlakes": true,
           "showland": true,
           "subunitcolor": "white"
          },
          "hoverlabel": {
           "align": "left"
          },
          "hovermode": "closest",
          "mapbox": {
           "style": "light"
          },
          "paper_bgcolor": "white",
          "plot_bgcolor": "#E5ECF6",
          "polar": {
           "angularaxis": {
            "gridcolor": "white",
            "linecolor": "white",
            "ticks": ""
           },
           "bgcolor": "#E5ECF6",
           "radialaxis": {
            "gridcolor": "white",
            "linecolor": "white",
            "ticks": ""
           }
          },
          "scene": {
           "xaxis": {
            "backgroundcolor": "#E5ECF6",
            "gridcolor": "white",
            "gridwidth": 2,
            "linecolor": "white",
            "showbackground": true,
            "ticks": "",
            "zerolinecolor": "white"
           },
           "yaxis": {
            "backgroundcolor": "#E5ECF6",
            "gridcolor": "white",
            "gridwidth": 2,
            "linecolor": "white",
            "showbackground": true,
            "ticks": "",
            "zerolinecolor": "white"
           },
           "zaxis": {
            "backgroundcolor": "#E5ECF6",
            "gridcolor": "white",
            "gridwidth": 2,
            "linecolor": "white",
            "showbackground": true,
            "ticks": "",
            "zerolinecolor": "white"
           }
          },
          "shapedefaults": {
           "line": {
            "color": "#2a3f5f"
           }
          },
          "ternary": {
           "aaxis": {
            "gridcolor": "white",
            "linecolor": "white",
            "ticks": ""
           },
           "baxis": {
            "gridcolor": "white",
            "linecolor": "white",
            "ticks": ""
           },
           "bgcolor": "#E5ECF6",
           "caxis": {
            "gridcolor": "white",
            "linecolor": "white",
            "ticks": ""
           }
          },
          "title": {
           "x": 0.05
          },
          "xaxis": {
           "automargin": true,
           "gridcolor": "white",
           "linecolor": "white",
           "ticks": "",
           "title": {
            "standoff": 15
           },
           "zerolinecolor": "white",
           "zerolinewidth": 2
          },
          "yaxis": {
           "automargin": true,
           "gridcolor": "white",
           "linecolor": "white",
           "ticks": "",
           "title": {
            "standoff": 15
           },
           "zerolinecolor": "white",
           "zerolinewidth": 2
          }
         }
        },
        "title": {
         "text": "Canada"
        },
        "xaxis": {
         "anchor": "y",
         "domain": [
          0,
          1
         ],
         "title": {
          "text": "Year"
         }
        },
        "yaxis": {
         "anchor": "x",
         "domain": [
          0,
          1
         ],
         "title": {
          "text": "Value"
         }
        }
       }
      }
     },
     "metadata": {},
     "output_type": "display_data"
    }
   ],
   "source": [
    "plot_country_use(\"Canada\")"
   ]
  },
  {
   "cell_type": "markdown",
   "metadata": {},
   "source": [
    "## Regulations"
   ]
  },
  {
   "cell_type": "markdown",
   "id": "3e3b928f",
   "metadata": {},
   "source": [
    "Notes\n",
    "\n",
    "- We should compare cigarette tax with baseline taxes"
   ]
  },
  {
   "cell_type": "code",
   "execution_count": 33,
   "id": "b1732023",
   "metadata": {},
   "outputs": [
    {
     "data": {
      "text/html": [
       "<div>\n",
       "<style scoped>\n",
       "    .dataframe tbody tr th:only-of-type {\n",
       "        vertical-align: middle;\n",
       "    }\n",
       "\n",
       "    .dataframe tbody tr th {\n",
       "        vertical-align: top;\n",
       "    }\n",
       "\n",
       "    .dataframe thead th {\n",
       "        text-align: right;\n",
       "    }\n",
       "</style>\n",
       "<table border=\"1\" class=\"dataframe\">\n",
       "  <thead>\n",
       "    <tr style=\"text-align: right;\">\n",
       "      <th></th>\n",
       "      <th>Entity</th>\n",
       "      <th>Code</th>\n",
       "      <th>Year</th>\n",
       "      <th>AvgCigarettePriceDollars</th>\n",
       "      <th>AvgTaxesAsPctCigarettePrice</th>\n",
       "      <th>EnforceBansTobaccoAd</th>\n",
       "      <th>HelpToQuit</th>\n",
       "    </tr>\n",
       "  </thead>\n",
       "  <tbody>\n",
       "    <tr>\n",
       "      <th>0</th>\n",
       "      <td>Algeria</td>\n",
       "      <td>DZA</td>\n",
       "      <td>2012</td>\n",
       "      <td>1.84</td>\n",
       "      <td>47.0</td>\n",
       "      <td>4</td>\n",
       "      <td>3</td>\n",
       "    </tr>\n",
       "    <tr>\n",
       "      <th>1</th>\n",
       "      <td>Algeria</td>\n",
       "      <td>DZA</td>\n",
       "      <td>2014</td>\n",
       "      <td>2.09</td>\n",
       "      <td>40.9</td>\n",
       "      <td>4</td>\n",
       "      <td>4</td>\n",
       "    </tr>\n",
       "    <tr>\n",
       "      <th>2</th>\n",
       "      <td>Argentina</td>\n",
       "      <td>ARG</td>\n",
       "      <td>2012</td>\n",
       "      <td>2.79</td>\n",
       "      <td>69.9</td>\n",
       "      <td>4</td>\n",
       "      <td>4</td>\n",
       "    </tr>\n",
       "    <tr>\n",
       "      <th>3</th>\n",
       "      <td>Argentina</td>\n",
       "      <td>ARG</td>\n",
       "      <td>2014</td>\n",
       "      <td>3.47</td>\n",
       "      <td>69.7</td>\n",
       "      <td>4</td>\n",
       "      <td>5</td>\n",
       "    </tr>\n",
       "    <tr>\n",
       "      <th>4</th>\n",
       "      <td>Armenia</td>\n",
       "      <td>ARM</td>\n",
       "      <td>2012</td>\n",
       "      <td>1.69</td>\n",
       "      <td>38.4</td>\n",
       "      <td>2</td>\n",
       "      <td>4</td>\n",
       "    </tr>\n",
       "    <tr>\n",
       "      <th>...</th>\n",
       "      <td>...</td>\n",
       "      <td>...</td>\n",
       "      <td>...</td>\n",
       "      <td>...</td>\n",
       "      <td>...</td>\n",
       "      <td>...</td>\n",
       "      <td>...</td>\n",
       "    </tr>\n",
       "    <tr>\n",
       "      <th>769</th>\n",
       "      <td>Yemen</td>\n",
       "      <td>YEM</td>\n",
       "      <td>2010</td>\n",
       "      <td>NaN</td>\n",
       "      <td>NaN</td>\n",
       "      <td>4</td>\n",
       "      <td>3</td>\n",
       "    </tr>\n",
       "    <tr>\n",
       "      <th>770</th>\n",
       "      <td>Zambia</td>\n",
       "      <td>ZMB</td>\n",
       "      <td>2007</td>\n",
       "      <td>NaN</td>\n",
       "      <td>NaN</td>\n",
       "      <td>2</td>\n",
       "      <td>3</td>\n",
       "    </tr>\n",
       "    <tr>\n",
       "      <th>771</th>\n",
       "      <td>Zambia</td>\n",
       "      <td>ZMB</td>\n",
       "      <td>2010</td>\n",
       "      <td>NaN</td>\n",
       "      <td>NaN</td>\n",
       "      <td>2</td>\n",
       "      <td>3</td>\n",
       "    </tr>\n",
       "    <tr>\n",
       "      <th>772</th>\n",
       "      <td>Zimbabwe</td>\n",
       "      <td>ZWE</td>\n",
       "      <td>2007</td>\n",
       "      <td>NaN</td>\n",
       "      <td>NaN</td>\n",
       "      <td>2</td>\n",
       "      <td>3</td>\n",
       "    </tr>\n",
       "    <tr>\n",
       "      <th>773</th>\n",
       "      <td>Zimbabwe</td>\n",
       "      <td>ZWE</td>\n",
       "      <td>2010</td>\n",
       "      <td>NaN</td>\n",
       "      <td>NaN</td>\n",
       "      <td>2</td>\n",
       "      <td>3</td>\n",
       "    </tr>\n",
       "  </tbody>\n",
       "</table>\n",
       "<p>774 rows × 7 columns</p>\n",
       "</div>"
      ],
      "text/plain": [
       "        Entity Code  Year  AvgCigarettePriceDollars  \\\n",
       "0      Algeria  DZA  2012                      1.84   \n",
       "1      Algeria  DZA  2014                      2.09   \n",
       "2    Argentina  ARG  2012                      2.79   \n",
       "3    Argentina  ARG  2014                      3.47   \n",
       "4      Armenia  ARM  2012                      1.69   \n",
       "..         ...  ...   ...                       ...   \n",
       "769      Yemen  YEM  2010                       NaN   \n",
       "770     Zambia  ZMB  2007                       NaN   \n",
       "771     Zambia  ZMB  2010                       NaN   \n",
       "772   Zimbabwe  ZWE  2007                       NaN   \n",
       "773   Zimbabwe  ZWE  2010                       NaN   \n",
       "\n",
       "     AvgTaxesAsPctCigarettePrice  EnforceBansTobaccoAd  HelpToQuit  \n",
       "0                           47.0                     4           3  \n",
       "1                           40.9                     4           4  \n",
       "2                           69.9                     4           4  \n",
       "3                           69.7                     4           5  \n",
       "4                           38.4                     2           4  \n",
       "..                           ...                   ...         ...  \n",
       "769                          NaN                     4           3  \n",
       "770                          NaN                     2           3  \n",
       "771                          NaN                     2           3  \n",
       "772                          NaN                     2           3  \n",
       "773                          NaN                     2           3  \n",
       "\n",
       "[774 rows x 7 columns]"
      ]
     },
     "execution_count": 33,
     "metadata": {},
     "output_type": "execute_result"
    }
   ],
   "source": [
    "stop_smoking_df"
   ]
  },
  {
   "cell_type": "code",
   "execution_count": 35,
   "id": "c998f012",
   "metadata": {},
   "outputs": [
    {
     "data": {
      "text/plain": [
       "array([2012, 2014, 2007, 2010])"
      ]
     },
     "execution_count": 35,
     "metadata": {},
     "output_type": "execute_result"
    }
   ],
   "source": [
    "stop_smoking_df[\"Year\"].unique()"
   ]
  },
  {
   "cell_type": "code",
   "execution_count": 6,
   "id": "45ab5bcc",
   "metadata": {},
   "outputs": [
    {
     "data": {
      "text/html": [
       "<div>\n",
       "<style scoped>\n",
       "    .dataframe tbody tr th:only-of-type {\n",
       "        vertical-align: middle;\n",
       "    }\n",
       "\n",
       "    .dataframe tbody tr th {\n",
       "        vertical-align: top;\n",
       "    }\n",
       "\n",
       "    .dataframe thead th {\n",
       "        text-align: right;\n",
       "    }\n",
       "</style>\n",
       "<table border=\"1\" class=\"dataframe\">\n",
       "  <thead>\n",
       "    <tr style=\"text-align: right;\">\n",
       "      <th></th>\n",
       "      <th>Year</th>\n",
       "      <th>AvgCigarettePriceDollars</th>\n",
       "      <th>AvgTaxesAsPctCigarettePrice</th>\n",
       "      <th>EnforceBansTobaccoAd</th>\n",
       "      <th>HelpToQuit</th>\n",
       "    </tr>\n",
       "  </thead>\n",
       "  <tbody>\n",
       "    <tr>\n",
       "      <th>count</th>\n",
       "      <td>774.000000</td>\n",
       "      <td>208.000000</td>\n",
       "      <td>209.000000</td>\n",
       "      <td>774.000000</td>\n",
       "      <td>774.000000</td>\n",
       "    </tr>\n",
       "    <tr>\n",
       "      <th>mean</th>\n",
       "      <td>2010.755814</td>\n",
       "      <td>4.336394</td>\n",
       "      <td>57.339234</td>\n",
       "      <td>3.313953</td>\n",
       "      <td>3.493540</td>\n",
       "    </tr>\n",
       "    <tr>\n",
       "      <th>std</th>\n",
       "      <td>2.587373</td>\n",
       "      <td>2.534659</td>\n",
       "      <td>20.403278</td>\n",
       "      <td>1.088995</td>\n",
       "      <td>0.807042</td>\n",
       "    </tr>\n",
       "    <tr>\n",
       "      <th>min</th>\n",
       "      <td>2007.000000</td>\n",
       "      <td>0.000000</td>\n",
       "      <td>0.000000</td>\n",
       "      <td>2.000000</td>\n",
       "      <td>1.000000</td>\n",
       "    </tr>\n",
       "    <tr>\n",
       "      <th>25%</th>\n",
       "      <td>2010.000000</td>\n",
       "      <td>2.195000</td>\n",
       "      <td>42.900000</td>\n",
       "      <td>2.000000</td>\n",
       "      <td>3.000000</td>\n",
       "    </tr>\n",
       "    <tr>\n",
       "      <th>50%</th>\n",
       "      <td>2012.000000</td>\n",
       "      <td>4.155000</td>\n",
       "      <td>62.400000</td>\n",
       "      <td>4.000000</td>\n",
       "      <td>4.000000</td>\n",
       "    </tr>\n",
       "    <tr>\n",
       "      <th>75%</th>\n",
       "      <td>2013.500000</td>\n",
       "      <td>5.767500</td>\n",
       "      <td>75.200000</td>\n",
       "      <td>4.000000</td>\n",
       "      <td>4.000000</td>\n",
       "    </tr>\n",
       "    <tr>\n",
       "      <th>max</th>\n",
       "      <td>2014.000000</td>\n",
       "      <td>13.000000</td>\n",
       "      <td>86.400000</td>\n",
       "      <td>5.000000</td>\n",
       "      <td>5.000000</td>\n",
       "    </tr>\n",
       "  </tbody>\n",
       "</table>\n",
       "</div>"
      ],
      "text/plain": [
       "              Year  AvgCigarettePriceDollars  AvgTaxesAsPctCigarettePrice  \\\n",
       "count   774.000000                208.000000                   209.000000   \n",
       "mean   2010.755814                  4.336394                    57.339234   \n",
       "std       2.587373                  2.534659                    20.403278   \n",
       "min    2007.000000                  0.000000                     0.000000   \n",
       "25%    2010.000000                  2.195000                    42.900000   \n",
       "50%    2012.000000                  4.155000                    62.400000   \n",
       "75%    2013.500000                  5.767500                    75.200000   \n",
       "max    2014.000000                 13.000000                    86.400000   \n",
       "\n",
       "       EnforceBansTobaccoAd  HelpToQuit  \n",
       "count            774.000000  774.000000  \n",
       "mean               3.313953    3.493540  \n",
       "std                1.088995    0.807042  \n",
       "min                2.000000    1.000000  \n",
       "25%                2.000000    3.000000  \n",
       "50%                4.000000    4.000000  \n",
       "75%                4.000000    4.000000  \n",
       "max                5.000000    5.000000  "
      ]
     },
     "execution_count": 6,
     "metadata": {},
     "output_type": "execute_result"
    }
   ],
   "source": [
    "stop_smoking_df.describe()"
   ]
  },
  {
   "cell_type": "code",
   "execution_count": 13,
   "id": "b73d39b6",
   "metadata": {},
   "outputs": [],
   "source": [
    "stop_smoking_df[\"HelpSize\"] = (stop_smoking_df[\"HelpToQuit\"] / 5.) ** 2"
   ]
  },
  {
   "cell_type": "code",
   "execution_count": 14,
   "id": "4fdf620a",
   "metadata": {},
   "outputs": [
    {
     "data": {
      "application/vnd.plotly.v1+json": {
       "config": {
        "plotlyServerURL": "https://plot.ly"
       },
       "data": [
        {
         "hovertemplate": "<b>%{hovertext}</b><br><br>AvgTaxesAsPctCigarettePrice=%{x}<br>EnforceBansTobaccoAd=%{y}<br>HelpSize=%{marker.size}<extra></extra>",
         "hovertext": [
          "Algeria",
          "Algeria",
          "Argentina",
          "Argentina",
          "Armenia",
          "Armenia",
          "Australia",
          "Australia",
          "Austria",
          "Austria",
          "Azerbaijan",
          "Azerbaijan",
          "Bahamas",
          "Bangladesh",
          "Bangladesh",
          "Belarus",
          "Belarus",
          "Belgium",
          "Belgium",
          "Belize",
          "Bolivia",
          "Bolivia",
          "Bosnia and Herzegovina",
          "Bosnia and Herzegovina",
          "Brazil",
          "Brazil",
          "Bulgaria",
          "Bulgaria",
          "Burundi",
          "Cambodia",
          "Cambodia",
          "Cameroon",
          "Cameroon",
          "Canada",
          "Canada",
          "Chile",
          "Chile",
          "China",
          "China",
          "Colombia",
          "Colombia",
          "Comoros",
          "Costa Rica",
          "Croatia",
          "Croatia",
          "Cyprus",
          "Cyprus",
          "Czechia",
          "Czechia",
          "Denmark",
          "Denmark",
          "Dominican Republic",
          "Dominican Republic",
          "Ecuador",
          "Ecuador",
          "Egypt",
          "Egypt",
          "Estonia",
          "Estonia",
          "Ethiopia",
          "Fiji",
          "Fiji",
          "Finland",
          "Finland",
          "France",
          "France",
          "Gambia",
          "Georgia",
          "Georgia",
          "Germany",
          "Germany",
          "Ghana",
          "Ghana",
          "Greece",
          "Greece",
          "Guatemala",
          "Guatemala",
          "Honduras",
          "Honduras",
          "Hungary",
          "Hungary",
          "Iceland",
          "Iceland",
          "India",
          "India",
          "Indonesia",
          "Indonesia",
          "Iran",
          "Iran",
          "Ireland",
          "Ireland",
          "Israel",
          "Italy",
          "Italy",
          "Jamaica",
          "Jamaica",
          "Japan",
          "Japan",
          "Kazakhstan",
          "Kazakhstan",
          "Kenya",
          "Kenya",
          "Latvia",
          "Latvia",
          "Lebanon",
          "Lebanon",
          "Lithuania",
          "Lithuania",
          "Luxembourg",
          "Luxembourg",
          "Malaysia",
          "Malaysia",
          "Mali",
          "Mexico",
          "Mexico",
          "Moldova",
          "Moldova",
          "Mongolia",
          "Mongolia",
          "Morocco",
          "Morocco",
          "Nepal",
          "Nepal",
          "Netherlands",
          "Netherlands",
          "New Zealand",
          "New Zealand",
          "Nicaragua",
          "Nigeria",
          "North Macedonia",
          "North Macedonia",
          "Norway",
          "Norway",
          "Oman",
          "Oman",
          "Pakistan",
          "Pakistan",
          "Panama",
          "Panama",
          "Peru",
          "Peru",
          "Philippines",
          "Philippines",
          "Poland",
          "Poland",
          "Portugal",
          "Portugal",
          "Romania",
          "Romania",
          "Russia",
          "Russia",
          "Rwanda",
          "Saint Kitts and Nevis",
          "Samoa",
          "Saudi Arabia",
          "Senegal",
          "Senegal",
          "Serbia",
          "Serbia",
          "Sierra Leone",
          "Singapore",
          "Singapore",
          "Slovakia",
          "Slovakia",
          "Slovenia",
          "Slovenia",
          "South Africa",
          "South Africa",
          "South Korea",
          "South Korea",
          "Spain",
          "Spain",
          "Sri Lanka",
          "Sri Lanka",
          "Sweden",
          "Sweden",
          "Switzerland",
          "Switzerland",
          "Thailand",
          "Thailand",
          "Tonga",
          "Tunisia",
          "Tunisia",
          "Turkey",
          "Turkey",
          "Uganda",
          "Uganda",
          "Ukraine",
          "Ukraine",
          "United Arab Emirates",
          "United Arab Emirates",
          "United Kingdom",
          "United Kingdom",
          "United States",
          "United States",
          "Uruguay",
          "Uruguay",
          "Uzbekistan",
          "Uzbekistan",
          "Venezuela",
          "Vietnam",
          "Vietnam",
          "Yemen",
          "Yemen",
          "Zambia",
          "Zambia",
          "Zimbabwe",
          "Zimbabwe",
          "Liberia",
          "Afghanistan",
          "Afghanistan",
          "Afghanistan",
          "Afghanistan",
          "Albania",
          "Albania",
          "Albania",
          "Albania",
          "Algeria",
          "Algeria",
          "Andorra",
          "Andorra",
          "Andorra",
          "Andorra",
          "Angola",
          "Angola",
          "Angola",
          "Angola",
          "Antigua and Barbuda",
          "Antigua and Barbuda",
          "Antigua and Barbuda",
          "Antigua and Barbuda",
          "Argentina",
          "Argentina",
          "Armenia",
          "Armenia",
          "Australia",
          "Australia",
          "Austria",
          "Austria",
          "Azerbaijan",
          "Azerbaijan",
          "Bahamas",
          "Bahamas",
          "Bahamas",
          "Bahrain",
          "Bahrain",
          "Bahrain",
          "Bahrain",
          "Bangladesh",
          "Bangladesh",
          "Barbados",
          "Barbados",
          "Barbados",
          "Barbados",
          "Belarus",
          "Belarus",
          "Belgium",
          "Belgium",
          "Belize",
          "Belize",
          "Belize",
          "Benin",
          "Benin",
          "Benin",
          "Benin",
          "Bhutan",
          "Bhutan",
          "Bhutan",
          "Bhutan",
          "Bolivia",
          "Bolivia",
          "Bosnia and Herzegovina",
          "Bosnia and Herzegovina",
          "Botswana",
          "Botswana",
          "Botswana",
          "Botswana",
          "Brazil",
          "Brazil",
          "Brunei",
          "Brunei",
          "Brunei",
          "Brunei",
          "Bulgaria",
          "Bulgaria",
          "Burkina Faso",
          "Burkina Faso",
          "Burkina Faso",
          "Burkina Faso",
          "Burundi",
          "Burundi",
          "Burundi",
          "Cambodia",
          "Cambodia",
          "Cameroon",
          "Cameroon",
          "Canada",
          "Canada",
          "Cape Verde",
          "Cape Verde",
          "Cape Verde",
          "Cape Verde",
          "Central African Republic",
          "Central African Republic",
          "Central African Republic",
          "Central African Republic",
          "Chad",
          "Chad",
          "Chad",
          "Chad",
          "Chile",
          "Chile",
          "China",
          "China",
          "Colombia",
          "Colombia",
          "Comoros",
          "Comoros",
          "Comoros",
          "Congo",
          "Congo",
          "Congo",
          "Congo",
          "Cook Islands",
          "Cook Islands",
          "Cook Islands",
          "Cook Islands",
          "Costa Rica",
          "Costa Rica",
          "Costa Rica",
          "Cote d'Ivoire",
          "Cote d'Ivoire",
          "Cote d'Ivoire",
          "Cote d'Ivoire",
          "Croatia",
          "Croatia",
          "Cuba",
          "Cuba",
          "Cuba",
          "Cuba",
          "Cyprus",
          "Cyprus",
          "Czechia",
          "Czechia",
          "Democratic Republic of Congo",
          "Democratic Republic of Congo",
          "Democratic Republic of Congo",
          "Democratic Republic of Congo",
          "Denmark",
          "Denmark",
          "Djibouti",
          "Djibouti",
          "Djibouti",
          "Djibouti",
          "Dominica",
          "Dominica",
          "Dominica",
          "Dominica",
          "Dominican Republic",
          "Dominican Republic",
          "Ecuador",
          "Ecuador",
          "Egypt",
          "Egypt",
          "El Salvador",
          "El Salvador",
          "El Salvador",
          "El Salvador",
          "Equatorial Guinea",
          "Equatorial Guinea",
          "Equatorial Guinea",
          "Equatorial Guinea",
          "Eritrea",
          "Eritrea",
          "Eritrea",
          "Eritrea",
          "Estonia",
          "Estonia",
          "Eswatini",
          "Eswatini",
          "Eswatini",
          "Eswatini",
          "Ethiopia",
          "Ethiopia",
          "Ethiopia",
          "Fiji",
          "Fiji",
          "Finland",
          "Finland",
          "France",
          "France",
          "Gabon",
          "Gabon",
          "Gabon",
          "Gabon",
          "Gambia",
          "Gambia",
          "Gambia",
          "Georgia",
          "Georgia",
          "Germany",
          "Germany",
          "Ghana",
          "Ghana",
          "Greece",
          "Greece",
          "Grenada",
          "Grenada",
          "Grenada",
          "Grenada",
          "Guatemala",
          "Guatemala",
          "Guinea",
          "Guinea",
          "Guinea",
          "Guinea",
          "Guinea-Bissau",
          "Guinea-Bissau",
          "Guinea-Bissau",
          "Guinea-Bissau",
          "Guyana",
          "Guyana",
          "Guyana",
          "Guyana",
          "Haiti",
          "Haiti",
          "Haiti",
          "Haiti",
          "Honduras",
          "Honduras",
          "Hungary",
          "Hungary",
          "Iceland",
          "Iceland",
          "India",
          "India",
          "Indonesia",
          "Indonesia",
          "Iran",
          "Iran",
          "Iraq",
          "Iraq",
          "Iraq",
          "Iraq",
          "Ireland",
          "Ireland",
          "Israel",
          "Israel",
          "Israel",
          "Italy",
          "Italy",
          "Jamaica",
          "Jamaica",
          "Japan",
          "Japan",
          "Jordan",
          "Jordan",
          "Jordan",
          "Jordan",
          "Kazakhstan",
          "Kazakhstan",
          "Kenya",
          "Kenya",
          "Kiribati",
          "Kiribati",
          "Kiribati",
          "Kiribati",
          "Kuwait",
          "Kuwait",
          "Kuwait",
          "Kuwait",
          "Kyrgyzstan",
          "Kyrgyzstan",
          "Kyrgyzstan",
          "Kyrgyzstan",
          "Laos",
          "Laos",
          "Laos",
          "Laos",
          "Latvia",
          "Latvia",
          "Lebanon",
          "Lebanon",
          "Lesotho",
          "Lesotho",
          "Lesotho",
          "Lesotho",
          "Liberia",
          "Liberia",
          "Liberia",
          "Libya",
          "Libya",
          "Libya",
          "Libya",
          "Lithuania",
          "Lithuania",
          "Luxembourg",
          "Luxembourg",
          "Madagascar",
          "Madagascar",
          "Madagascar",
          "Madagascar",
          "Malawi",
          "Malawi",
          "Malawi",
          "Malawi",
          "Malaysia",
          "Malaysia",
          "Maldives",
          "Maldives",
          "Maldives",
          "Maldives",
          "Mali",
          "Mali",
          "Mali",
          "Malta",
          "Malta",
          "Malta",
          "Malta",
          "Marshall Islands",
          "Marshall Islands",
          "Marshall Islands",
          "Marshall Islands",
          "Mauritania",
          "Mauritania",
          "Mauritania",
          "Mauritania",
          "Mauritius",
          "Mauritius",
          "Mauritius",
          "Mauritius",
          "Mexico",
          "Mexico",
          "Micronesia (country)",
          "Micronesia (country)",
          "Micronesia (country)",
          "Micronesia (country)",
          "Moldova",
          "Moldova",
          "Monaco",
          "Monaco",
          "Monaco",
          "Monaco",
          "Mongolia",
          "Mongolia",
          "Montenegro",
          "Montenegro",
          "Montenegro",
          "Montenegro",
          "Morocco",
          "Morocco",
          "Mozambique",
          "Mozambique",
          "Mozambique",
          "Mozambique",
          "Myanmar",
          "Myanmar",
          "Myanmar",
          "Myanmar",
          "Namibia",
          "Namibia",
          "Namibia",
          "Namibia",
          "Nauru",
          "Nauru",
          "Nauru",
          "Nauru",
          "Nepal",
          "Nepal",
          "Netherlands",
          "Netherlands",
          "New Zealand",
          "New Zealand",
          "Nicaragua",
          "Nicaragua",
          "Nicaragua",
          "Niger",
          "Niger",
          "Niger",
          "Niger",
          "Nigeria",
          "Nigeria",
          "Nigeria",
          "Niue",
          "Niue",
          "Niue",
          "Niue",
          "North Korea",
          "North Korea",
          "North Korea",
          "North Korea",
          "North Macedonia",
          "North Macedonia",
          "Norway",
          "Norway",
          "Oman",
          "Oman",
          "Pakistan",
          "Pakistan",
          "Palau",
          "Palau",
          "Palau",
          "Palau",
          "Panama",
          "Panama",
          "Papua New Guinea",
          "Papua New Guinea",
          "Papua New Guinea",
          "Papua New Guinea",
          "Paraguay",
          "Paraguay",
          "Paraguay",
          "Paraguay",
          "Peru",
          "Peru",
          "Philippines",
          "Philippines",
          "Poland",
          "Poland",
          "Portugal",
          "Portugal",
          "Qatar",
          "Qatar",
          "Qatar",
          "Qatar",
          "Romania",
          "Romania",
          "Russia",
          "Russia",
          "Rwanda",
          "Rwanda",
          "Rwanda",
          "Saint Kitts and Nevis",
          "Saint Kitts and Nevis",
          "Saint Kitts and Nevis",
          "Saint Lucia",
          "Saint Lucia",
          "Saint Lucia",
          "Saint Lucia",
          "Saint Vincent and the Grenadines",
          "Saint Vincent and the Grenadines",
          "Saint Vincent and the Grenadines",
          "Saint Vincent and the Grenadines",
          "Samoa",
          "Samoa",
          "Samoa",
          "San Marino",
          "San Marino",
          "San Marino",
          "San Marino",
          "Sao Tome and Principe",
          "Sao Tome and Principe",
          "Sao Tome and Principe",
          "Sao Tome and Principe",
          "Saudi Arabia",
          "Saudi Arabia",
          "Saudi Arabia",
          "Senegal",
          "Senegal",
          "Serbia",
          "Serbia",
          "Seychelles",
          "Seychelles",
          "Seychelles",
          "Seychelles",
          "Sierra Leone",
          "Sierra Leone",
          "Sierra Leone",
          "Singapore",
          "Singapore",
          "Slovakia",
          "Slovakia",
          "Slovenia",
          "Slovenia",
          "Solomon Islands",
          "Solomon Islands",
          "Solomon Islands",
          "Solomon Islands",
          "Somalia",
          "Somalia",
          "Somalia",
          "Somalia",
          "South Africa",
          "South Africa",
          "South Korea",
          "South Korea",
          "South Sudan",
          "South Sudan",
          "Spain",
          "Spain",
          "Sri Lanka",
          "Sri Lanka",
          "Sudan",
          "Sudan",
          "Sudan",
          "Sudan",
          "Suriname",
          "Suriname",
          "Suriname",
          "Suriname",
          "Sweden",
          "Sweden",
          "Switzerland",
          "Switzerland",
          "Syria",
          "Syria",
          "Syria",
          "Syria",
          "Tajikistan",
          "Tajikistan",
          "Tajikistan",
          "Tajikistan",
          "Tanzania",
          "Tanzania",
          "Tanzania",
          "Tanzania",
          "Thailand",
          "Thailand",
          "Timor",
          "Timor",
          "Timor",
          "Timor",
          "Togo",
          "Togo",
          "Togo",
          "Togo",
          "Tonga",
          "Tonga",
          "Tonga",
          "Trinidad and Tobago",
          "Trinidad and Tobago",
          "Trinidad and Tobago",
          "Trinidad and Tobago",
          "Tunisia",
          "Tunisia",
          "Turkey",
          "Turkey",
          "Turkmenistan",
          "Turkmenistan",
          "Turkmenistan",
          "Turkmenistan",
          "Tuvalu",
          "Tuvalu",
          "Tuvalu",
          "Tuvalu",
          "Uganda",
          "Uganda",
          "Ukraine",
          "Ukraine",
          "United Arab Emirates",
          "United Arab Emirates",
          "United Kingdom",
          "United Kingdom",
          "United States",
          "United States",
          "Uruguay",
          "Uruguay",
          "Uzbekistan",
          "Uzbekistan",
          "Vanuatu",
          "Vanuatu",
          "Vanuatu",
          "Vanuatu",
          "Venezuela",
          "Venezuela",
          "Venezuela",
          "Vietnam",
          "Vietnam",
          "Yemen",
          "Yemen",
          "Zambia",
          "Zambia",
          "Zimbabwe",
          "Zimbabwe"
         ],
         "legendgroup": "",
         "marker": {
          "color": "#636efa",
          "size": [
           0.36,
           0.6400000000000001,
           0.6400000000000001,
           1,
           0.6400000000000001,
           0.6400000000000001,
           1,
           1,
           0.6400000000000001,
           0.6400000000000001,
           0.36,
           0.36,
           0.6400000000000001,
           0.36,
           0.36,
           0.6400000000000001,
           0.6400000000000001,
           0.6400000000000001,
           1,
           0.36,
           0.6400000000000001,
           0.6400000000000001,
           0.6400000000000001,
           0.6400000000000001,
           1,
           1,
           0.6400000000000001,
           0.6400000000000001,
           0.16000000000000003,
           0.36,
           0.36,
           0.36,
           0.6400000000000001,
           1,
           1,
           0.36,
           0.36,
           0.36,
           0.6400000000000001,
           0.36,
           0.36,
           0.16000000000000003,
           0.6400000000000001,
           0.6400000000000001,
           0.6400000000000001,
           0.6400000000000001,
           0.6400000000000001,
           0.6400000000000001,
           0.6400000000000001,
           1,
           1,
           0.36,
           0.36,
           0.6400000000000001,
           0.6400000000000001,
           0.6400000000000001,
           0.6400000000000001,
           0.6400000000000001,
           0.6400000000000001,
           0.6400000000000001,
           0.6400000000000001,
           0.6400000000000001,
           0.6400000000000001,
           0.6400000000000001,
           0.6400000000000001,
           0.6400000000000001,
           0.16000000000000003,
           0.36,
           0.6400000000000001,
           0.6400000000000001,
           0.6400000000000001,
           0.6400000000000001,
           0.6400000000000001,
           0.6400000000000001,
           0.6400000000000001,
           0.6400000000000001,
           0.6400000000000001,
           0.6400000000000001,
           0.6400000000000001,
           0.6400000000000001,
           0.6400000000000001,
           0.36,
           0.36,
           0.6400000000000001,
           0.6400000000000001,
           0.36,
           0.36,
           1,
           1,
           1,
           1,
           1,
           0.6400000000000001,
           0.6400000000000001,
           0.6400000000000001,
           0.6400000000000001,
           0.6400000000000001,
           0.6400000000000001,
           0.6400000000000001,
           0.6400000000000001,
           0.6400000000000001,
           0.6400000000000001,
           0.6400000000000001,
           0.6400000000000001,
           0.6400000000000001,
           0.6400000000000001,
           0.6400000000000001,
           0.6400000000000001,
           0.6400000000000001,
           0.6400000000000001,
           0.6400000000000001,
           0.6400000000000001,
           0.36,
           0.6400000000000001,
           1,
           0.36,
           0.6400000000000001,
           0.6400000000000001,
           0.6400000000000001,
           0.36,
           0.36,
           0.36,
           0.36,
           0.6400000000000001,
           1,
           1,
           1,
           0.36,
           0.6400000000000001,
           0.36,
           0.6400000000000001,
           0.6400000000000001,
           0.6400000000000001,
           0.36,
           0.6400000000000001,
           0.36,
           0.6400000000000001,
           1,
           1,
           0.36,
           0.36,
           0.6400000000000001,
           0.6400000000000001,
           0.6400000000000001,
           0.6400000000000001,
           0.6400000000000001,
           0.6400000000000001,
           1,
           0.6400000000000001,
           0.36,
           0.6400000000000001,
           0.16000000000000003,
           0.36,
           0.36,
           0.6400000000000001,
           0.36,
           0.36,
           0.6400000000000001,
           0.6400000000000001,
           0.16000000000000003,
           1,
           1,
           0.6400000000000001,
           0.6400000000000001,
           0.6400000000000001,
           0.6400000000000001,
           0.36,
           0.6400000000000001,
           1,
           1,
           0.6400000000000001,
           0.6400000000000001,
           0.36,
           0.36,
           0.6400000000000001,
           0.6400000000000001,
           0.6400000000000001,
           0.6400000000000001,
           0.6400000000000001,
           0.6400000000000001,
           0.6400000000000001,
           0.6400000000000001,
           0.6400000000000001,
           1,
           1,
           0.6400000000000001,
           0.6400000000000001,
           0.36,
           0.36,
           1,
           1,
           1,
           1,
           1,
           1,
           1,
           1,
           0.36,
           0.6400000000000001,
           0.6400000000000001,
           0.36,
           0.36,
           0.36,
           0.36,
           0.36,
           0.36,
           0.36,
           0.36,
           0.36,
           0.36,
           0.36,
           0.36,
           0.36,
           0.16000000000000003,
           0.36,
           0.6400000000000001,
           0.6400000000000001,
           0.36,
           0.36,
           0.6400000000000001,
           0.6400000000000001,
           0.6400000000000001,
           0.6400000000000001,
           0.36,
           0.36,
           0.36,
           0.36,
           0.36,
           0.36,
           0.36,
           0.36,
           0.6400000000000001,
           0.6400000000000001,
           0.36,
           0.36,
           1,
           1,
           0.6400000000000001,
           0.6400000000000001,
           0.16000000000000003,
           0.36,
           0.36,
           0.36,
           0.6400000000000001,
           1,
           1,
           0.6400000000000001,
           0.6400000000000001,
           0.36,
           0.36,
           0.36,
           0.36,
           0.6400000000000001,
           0.6400000000000001,
           0.6400000000000001,
           0.6400000000000001,
           1,
           0.6400000000000001,
           0.36,
           0.36,
           0.36,
           0.36,
           0.36,
           0.36,
           0.6400000000000001,
           0.16000000000000003,
           0.16000000000000003,
           0.16000000000000003,
           0.6400000000000001,
           0.36,
           0.36,
           0.36,
           0.36,
           0.36,
           0.36,
           0.36,
           0.36,
           1,
           1,
           0.6400000000000001,
           0.6400000000000001,
           0.6400000000000001,
           1,
           0.6400000000000001,
           0.6400000000000001,
           0.36,
           0.36,
           0.36,
           0.6400000000000001,
           0.16000000000000003,
           0.16000000000000003,
           0.16000000000000003,
           0.36,
           0.36,
           0.36,
           0.36,
           0.36,
           1,
           0.6400000000000001,
           0.6400000000000001,
           0.6400000000000001,
           0.6400000000000001,
           0.36,
           0.36,
           0.36,
           0.36,
           0.16000000000000003,
           0.16000000000000003,
           0.36,
           0.36,
           0.36,
           0.36,
           0.36,
           0.36,
           0.36,
           0.36,
           0.16000000000000003,
           0.16000000000000003,
           0.16000000000000003,
           0.36,
           0.6400000000000001,
           0.6400000000000001,
           0.6400000000000001,
           0.6400000000000001,
           0.6400000000000001,
           0.6400000000000001,
           0.6400000000000001,
           0.6400000000000001,
           0.6400000000000001,
           0.6400000000000001,
           0.36,
           0.36,
           0.36,
           0.6400000000000001,
           0.36,
           0.6400000000000001,
           0.6400000000000001,
           0.6400000000000001,
           0.6400000000000001,
           0.6400000000000001,
           0.6400000000000001,
           0.6400000000000001,
           0.36,
           0.6400000000000001,
           0.36,
           0.36,
           0.36,
           0.36,
           0.6400000000000001,
           0.6400000000000001,
           0.36,
           0.36,
           0.36,
           0.36,
           0.36,
           0.36,
           0.36,
           0.36,
           0.36,
           0.36,
           0.36,
           0.6400000000000001,
           0.6400000000000001,
           0.6400000000000001,
           0.6400000000000001,
           0.6400000000000001,
           1,
           1,
           0.16000000000000003,
           0.16000000000000003,
           0.16000000000000003,
           0.16000000000000003,
           0.16000000000000003,
           0.16000000000000003,
           0.16000000000000003,
           0.16000000000000003,
           0.36,
           0.36,
           0.6400000000000001,
           0.6400000000000001,
           0.6400000000000001,
           0.6400000000000001,
           0.16000000000000003,
           0.36,
           0.6400000000000001,
           0.16000000000000003,
           0.16000000000000003,
           0.6400000000000001,
           0.6400000000000001,
           0.6400000000000001,
           0.6400000000000001,
           0.36,
           0.36,
           0.36,
           0.36,
           0.16000000000000003,
           0.16000000000000003,
           0.16000000000000003,
           0.36,
           0.36,
           0.6400000000000001,
           0.6400000000000001,
           0.36,
           0.36,
           0.36,
           0.36,
           0.36,
           0.36,
           0.36,
           0.36,
           0.6400000000000001,
           0.6400000000000001,
           0.36,
           0.36,
           0.36,
           0.36,
           0.16000000000000003,
           0.16000000000000003,
           0.36,
           0.36,
           0.36,
           0.6400000000000001,
           0.6400000000000001,
           0.6400000000000001,
           0.36,
           0.36,
           0.36,
           0.36,
           0.36,
           0.36,
           0.36,
           0.6400000000000001,
           0.36,
           0.36,
           0.36,
           0.36,
           0.36,
           0.36,
           1,
           1,
           0.36,
           0.36,
           0.36,
           0.6400000000000001,
           1,
           1,
           0.6400000000000001,
           1,
           1,
           0.6400000000000001,
           0.6400000000000001,
           0.6400000000000001,
           0.6400000000000001,
           0.6400000000000001,
           0.6400000000000001,
           0.6400000000000001,
           0.6400000000000001,
           0.6400000000000001,
           0.6400000000000001,
           0.6400000000000001,
           0.6400000000000001,
           0.36,
           0.36,
           0.36,
           0.36,
           0.16000000000000003,
           0.36,
           0.6400000000000001,
           0.6400000000000001,
           1,
           1,
           0.36,
           0.36,
           0.6400000000000001,
           0.6400000000000001,
           0.36,
           0.36,
           0.36,
           0.16000000000000003,
           0.36,
           0.6400000000000001,
           0.6400000000000001,
           0.6400000000000001,
           0.36,
           0.6400000000000001,
           0.6400000000000001,
           0.6400000000000001,
           0.36,
           0.36,
           0.36,
           0.16000000000000003,
           0.36,
           0.6400000000000001,
           0.6400000000000001,
           0.6400000000000001,
           0.6400000000000001,
           0.16000000000000003,
           0.6400000000000001,
           0.36,
           0.36,
           0.36,
           0.36,
           0.16000000000000003,
           0.16000000000000003,
           0.16000000000000003,
           0.16000000000000003,
           0.6400000000000001,
           0.6400000000000001,
           0.36,
           0.36,
           0.36,
           0.16000000000000003,
           0.36,
           0.36,
           0.36,
           0.6400000000000001,
           0.6400000000000001,
           0.6400000000000001,
           1,
           0.6400000000000001,
           0.6400000000000001,
           0.6400000000000001,
           0.6400000000000001,
           0.16000000000000003,
           0.16000000000000003,
           0.16000000000000003,
           0.16000000000000003,
           0.6400000000000001,
           0.6400000000000001,
           0.6400000000000001,
           0.6400000000000001,
           0.6400000000000001,
           0.6400000000000001,
           0.36,
           0.36,
           0.36,
           0.6400000000000001,
           0.36,
           0.36,
           0.36,
           0.6400000000000001,
           0.6400000000000001,
           0.6400000000000001,
           0.6400000000000001,
           0.6400000000000001,
           0.16000000000000003,
           0.16000000000000003,
           0.6400000000000001,
           0.6400000000000001,
           0.36,
           0.36,
           0.36,
           0.36,
           0.36,
           0.36,
           0.36,
           0.36,
           0.36,
           0.6400000000000001,
           0.36,
           0.36,
           0.6400000000000001,
           0.6400000000000001,
           0.36,
           0.36,
           0.36,
           0.36,
           0.16000000000000003,
           0.6400000000000001,
           0.36,
           0.6400000000000001,
           1,
           1,
           0.36,
           0.36,
           0.36,
           0.36,
           0.36,
           0.36,
           0.36,
           0.6400000000000001,
           0.6400000000000001,
           0.6400000000000001,
           0.6400000000000001,
           0.6400000000000001,
           0.6400000000000001,
           0.6400000000000001,
           0.6400000000000001,
           0.6400000000000001,
           0.6400000000000001,
           0.6400000000000001,
           0.36,
           0.36,
           0.6400000000000001,
           0.6400000000000001,
           0.36,
           0.36,
           0.36,
           0.36,
           0.6400000000000001,
           0.6400000000000001,
           0.6400000000000001,
           0.6400000000000001,
           0.6400000000000001,
           1,
           0.16000000000000003,
           0.16000000000000003,
           0.16000000000000003,
           0.16000000000000003,
           0.6400000000000001,
           0.6400000000000001,
           0.6400000000000001,
           0.6400000000000001,
           0.36,
           0.36,
           0.6400000000000001,
           0.6400000000000001,
           0.6400000000000001,
           0.6400000000000001,
           0.6400000000000001,
           0.6400000000000001,
           0.6400000000000001,
           0.6400000000000001,
           0.6400000000000001,
           0.6400000000000001,
           0.6400000000000001,
           1,
           0.36,
           0.36,
           0.16000000000000003,
           0.16000000000000003,
           0.16000000000000003,
           0.36,
           0.36,
           0.36,
           0.36,
           0.36,
           0.36,
           0.36,
           0.36,
           0.36,
           0.36,
           0.36,
           0.36,
           0.36,
           0.36,
           0.36,
           0.36,
           0.36,
           0.6400000000000001,
           0.16000000000000003,
           0.16000000000000003,
           0.16000000000000003,
           0.6400000000000001,
           0.6400000000000001,
           0.6400000000000001,
           0.6400000000000001,
           0.36,
           0.36,
           0.36,
           0.6400000000000001,
           0.36,
           0.36,
           0.36,
           0.6400000000000001,
           0.16000000000000003,
           0.16000000000000003,
           0.16000000000000003,
           1,
           1,
           0.36,
           0.6400000000000001,
           0.6400000000000001,
           0.6400000000000001,
           0.36,
           0.36,
           0.36,
           0.6400000000000001,
           0.16000000000000003,
           0.16000000000000003,
           0.16000000000000003,
           0.16000000000000003,
           0.36,
           0.36,
           1,
           1,
           0.04000000000000001,
           0.04000000000000001,
           0.6400000000000001,
           0.6400000000000001,
           0.36,
           0.36,
           0.16000000000000003,
           0.16000000000000003,
           0.16000000000000003,
           0.16000000000000003,
           0.36,
           0.36,
           0.36,
           0.6400000000000001,
           0.6400000000000001,
           0.6400000000000001,
           0.6400000000000001,
           0.6400000000000001,
           0.6400000000000001,
           0.6400000000000001,
           0.6400000000000001,
           0.6400000000000001,
           0.36,
           0.36,
           0.36,
           0.36,
           0.6400000000000001,
           0.6400000000000001,
           0.6400000000000001,
           0.6400000000000001,
           0.6400000000000001,
           0.6400000000000001,
           0.16000000000000003,
           0.16000000000000003,
           0.16000000000000003,
           0.16000000000000003,
           0.36,
           0.36,
           0.36,
           0.16000000000000003,
           0.16000000000000003,
           0.36,
           0.6400000000000001,
           0.36,
           0.36,
           0.6400000000000001,
           0.6400000000000001,
           0.36,
           0.36,
           0.36,
           1,
           0.6400000000000001,
           0.6400000000000001,
           0.6400000000000001,
           0.6400000000000001,
           0.6400000000000001,
           0.6400000000000001,
           0.6400000000000001,
           0.6400000000000001,
           0.6400000000000001,
           0.6400000000000001,
           0.36,
           0.36,
           0.36,
           1,
           1,
           1,
           0.36,
           1,
           1,
           1,
           0.36,
           0.36,
           0.16000000000000003,
           0.36,
           0.36,
           0.36,
           0.6400000000000001,
           0.6400000000000001,
           0.6400000000000001,
           0.36,
           0.36,
           0.36,
           0.36,
           0.36,
           0.36,
           0.36,
           0.36
          ],
          "sizemode": "area",
          "sizeref": 0.0025,
          "symbol": "circle"
         },
         "mode": "markers",
         "name": "",
         "orientation": "v",
         "showlegend": false,
         "type": "scatter",
         "x": [
          47,
          40.9,
          69.9,
          69.7,
          38.4,
          44.1,
          63.1,
          58.4,
          75,
          74.9,
          19.8,
          17.6,
          41.6,
          63.8,
          75.6,
          41.2,
          52.7,
          76.4,
          76.4,
          42.5,
          40.4,
          40.4,
          75.2,
          86,
          62.6,
          64.3,
          86.4,
          84,
          41.2,
          17.1,
          22.2,
          21.5,
          17.9,
          64.5,
          64.5,
          82,
          81.6,
          47.7,
          47.8,
          50.9,
          49.5,
          50.8,
          71.8,
          70.4,
          74.8,
          75.8,
          77.3,
          80,
          75.6,
          78.7,
          78.8,
          58.3,
          57.7,
          64.2,
          62.7,
          71.5,
          72,
          79.2,
          81.7,
          18.7,
          40.6,
          44,
          79.8,
          81.7,
          80,
          80.6,
          34.4,
          54.9,
          47.5,
          74.5,
          73.5,
          23.1,
          28.3,
          83.2,
          81.6,
          49,
          49,
          36.2,
          38.1,
          84.1,
          77.4,
          56.9,
          56.4,
          33.2,
          66.1,
          35.5,
          50.8,
          2.7,
          4.3,
          78.8,
          77.8,
          85,
          75.5,
          76.1,
          46.1,
          42.9,
          63.2,
          62.9,
          27,
          39.7,
          48.8,
          49.3,
          78.7,
          77.3,
          44.4,
          48.3,
          75.8,
          77.6,
          71.1,
          70.7,
          58.4,
          59.8,
          38.1,
          66.5,
          65.8,
          44.6,
          51.6,
          0,
          44.2,
          68,
          68.4,
          32.9,
          46.6,
          73.1,
          74.8,
          73.3,
          75,
          30.5,
          21.7,
          70.8,
          69.8,
          72.8,
          67.2,
          22.1,
          22.1,
          61.6,
          60.7,
          56.5,
          56.5,
          44.9,
          39.5,
          34.2,
          53,
          79.7,
          82.6,
          76.3,
          79.6,
          75.3,
          77.3,
          45,
          50.5,
          24.1,
          19.9,
          59.5,
          22.9,
          29,
          37.9,
          75.4,
          73.8,
          19.7,
          70.4,
          73.8,
          83.1,
          84.6,
          78.4,
          79.4,
          47.6,
          48.1,
          65.3,
          60.3,
          79.2,
          78.8,
          74.2,
          73.5,
          73.8,
          68.8,
          63.6,
          61.9,
          68.7,
          70.2,
          64.3,
          84.5,
          78.1,
          80.3,
          82.2,
          44.2,
          40.2,
          59.7,
          62.4,
          24.5,
          21.1,
          76.1,
          81.3,
          42.9,
          42.9,
          69,
          65.6,
          32.7,
          31.1,
          71,
          41.6,
          41.6,
          52.9,
          53.7,
          25.8,
          21.3,
          57.6,
          59.8,
          17.2,
          null,
          null,
          null,
          null,
          null,
          null,
          null,
          null,
          null,
          null,
          null,
          null,
          null,
          null,
          null,
          null,
          null,
          null,
          null,
          null,
          null,
          null,
          null,
          null,
          null,
          null,
          null,
          null,
          null,
          null,
          null,
          null,
          null,
          null,
          null,
          null,
          null,
          null,
          null,
          null,
          null,
          null,
          null,
          null,
          null,
          null,
          null,
          null,
          null,
          null,
          null,
          null,
          null,
          null,
          null,
          null,
          null,
          null,
          null,
          null,
          null,
          null,
          null,
          null,
          null,
          null,
          null,
          null,
          null,
          null,
          null,
          null,
          null,
          null,
          null,
          null,
          null,
          null,
          null,
          null,
          null,
          null,
          null,
          null,
          null,
          null,
          null,
          null,
          null,
          null,
          null,
          null,
          null,
          null,
          null,
          null,
          null,
          null,
          null,
          null,
          null,
          null,
          null,
          null,
          null,
          null,
          null,
          null,
          null,
          null,
          null,
          null,
          null,
          null,
          null,
          null,
          null,
          null,
          null,
          null,
          null,
          null,
          null,
          null,
          null,
          null,
          null,
          null,
          null,
          null,
          null,
          null,
          null,
          null,
          null,
          null,
          null,
          null,
          null,
          null,
          null,
          null,
          null,
          null,
          null,
          null,
          null,
          null,
          null,
          null,
          null,
          null,
          null,
          null,
          null,
          null,
          null,
          null,
          null,
          null,
          null,
          null,
          null,
          null,
          null,
          null,
          null,
          null,
          null,
          null,
          null,
          null,
          null,
          null,
          null,
          null,
          null,
          null,
          null,
          null,
          null,
          null,
          null,
          null,
          null,
          null,
          null,
          null,
          null,
          null,
          null,
          null,
          null,
          null,
          null,
          null,
          null,
          null,
          null,
          null,
          null,
          null,
          null,
          null,
          null,
          null,
          null,
          null,
          null,
          null,
          null,
          null,
          null,
          null,
          null,
          null,
          null,
          null,
          null,
          null,
          null,
          null,
          null,
          null,
          null,
          null,
          null,
          null,
          null,
          null,
          null,
          null,
          null,
          null,
          null,
          null,
          null,
          null,
          null,
          null,
          null,
          null,
          null,
          null,
          null,
          null,
          null,
          null,
          null,
          null,
          null,
          null,
          null,
          null,
          null,
          null,
          null,
          null,
          null,
          null,
          null,
          null,
          null,
          null,
          null,
          null,
          null,
          null,
          null,
          null,
          null,
          null,
          null,
          null,
          null,
          null,
          null,
          null,
          null,
          null,
          null,
          null,
          null,
          null,
          null,
          null,
          null,
          null,
          null,
          null,
          null,
          null,
          null,
          null,
          null,
          null,
          null,
          null,
          null,
          null,
          null,
          null,
          null,
          null,
          null,
          null,
          null,
          null,
          null,
          null,
          null,
          null,
          null,
          null,
          null,
          null,
          null,
          null,
          null,
          null,
          null,
          null,
          null,
          null,
          null,
          null,
          null,
          null,
          null,
          null,
          null,
          null,
          null,
          null,
          null,
          null,
          null,
          null,
          null,
          null,
          null,
          null,
          null,
          null,
          null,
          null,
          null,
          null,
          null,
          null,
          null,
          null,
          null,
          null,
          null,
          null,
          null,
          null,
          null,
          null,
          null,
          null,
          null,
          null,
          null,
          null,
          null,
          null,
          null,
          null,
          null,
          null,
          null,
          null,
          null,
          null,
          null,
          null,
          null,
          null,
          null,
          null,
          null,
          null,
          null,
          null,
          null,
          null,
          null,
          null,
          null,
          null,
          null,
          null,
          null,
          null,
          null,
          null,
          null,
          null,
          null,
          null,
          null,
          null,
          null,
          null,
          null,
          null,
          null,
          null,
          null,
          null,
          null,
          null,
          null,
          null,
          null,
          null,
          null,
          null,
          null,
          null,
          null,
          null,
          null,
          null,
          null,
          null,
          null,
          null,
          null,
          null,
          null,
          null,
          null,
          null,
          null,
          null,
          null,
          null,
          null,
          null,
          null,
          null,
          null,
          null,
          null,
          null,
          null,
          null,
          null,
          null,
          null,
          null,
          null,
          null,
          null,
          null,
          null,
          null,
          null,
          null,
          null,
          null,
          null,
          null,
          null,
          null,
          null,
          null,
          null,
          null,
          null,
          null,
          null,
          null,
          null,
          null,
          null,
          null,
          null,
          null,
          null,
          null,
          null,
          null,
          null,
          null,
          null,
          null,
          null,
          null,
          null,
          null,
          null,
          null,
          null,
          null,
          null,
          null,
          null,
          null,
          null,
          null,
          null,
          null,
          null,
          null,
          null,
          null,
          null,
          null,
          null,
          null,
          null,
          null,
          null,
          null,
          null,
          null,
          null,
          null,
          null,
          null,
          null,
          null,
          null,
          null,
          null,
          null,
          null,
          null,
          null,
          null,
          null,
          null,
          null,
          null,
          null,
          null,
          null,
          null,
          null,
          null,
          null,
          null,
          null,
          null,
          null,
          null,
          null,
          null,
          null,
          null,
          null,
          null,
          null,
          null,
          null,
          null,
          null,
          null,
          null,
          null,
          null
         ],
         "xaxis": "x",
         "y": [
          4,
          4,
          4,
          4,
          2,
          2,
          4,
          4,
          4,
          4,
          4,
          4,
          2,
          4,
          4,
          4,
          4,
          4,
          4,
          2,
          4,
          4,
          4,
          4,
          5,
          5,
          4,
          4,
          2,
          4,
          4,
          4,
          4,
          4,
          4,
          4,
          4,
          4,
          4,
          5,
          5,
          2,
          4,
          4,
          4,
          4,
          4,
          4,
          4,
          4,
          4,
          2,
          2,
          4,
          4,
          4,
          4,
          4,
          4,
          4,
          4,
          4,
          4,
          4,
          4,
          4,
          4,
          2,
          2,
          4,
          4,
          5,
          5,
          4,
          4,
          2,
          2,
          4,
          4,
          4,
          4,
          4,
          4,
          4,
          4,
          2,
          2,
          5,
          5,
          4,
          4,
          2,
          4,
          4,
          2,
          2,
          2,
          2,
          4,
          4,
          5,
          5,
          4,
          4,
          4,
          4,
          4,
          4,
          4,
          4,
          4,
          4,
          4,
          2,
          2,
          4,
          4,
          4,
          4,
          4,
          4,
          4,
          5,
          4,
          4,
          4,
          4,
          2,
          2,
          4,
          4,
          4,
          4,
          2,
          2,
          2,
          4,
          5,
          5,
          2,
          2,
          4,
          4,
          4,
          4,
          4,
          4,
          4,
          4,
          2,
          5,
          2,
          2,
          4,
          2,
          2,
          4,
          4,
          4,
          2,
          4,
          4,
          4,
          4,
          4,
          4,
          4,
          4,
          2,
          2,
          5,
          5,
          4,
          4,
          4,
          4,
          2,
          2,
          4,
          4,
          4,
          4,
          4,
          5,
          5,
          2,
          2,
          4,
          4,
          4,
          5,
          4,
          4,
          2,
          2,
          4,
          5,
          4,
          4,
          2,
          4,
          4,
          4,
          5,
          2,
          2,
          2,
          2,
          2,
          4,
          4,
          4,
          4,
          5,
          5,
          5,
          5,
          4,
          4,
          2,
          2,
          2,
          2,
          2,
          2,
          2,
          2,
          2,
          2,
          2,
          2,
          2,
          2,
          2,
          2,
          4,
          4,
          4,
          4,
          4,
          4,
          2,
          2,
          2,
          2,
          4,
          5,
          5,
          4,
          4,
          2,
          2,
          2,
          2,
          4,
          4,
          4,
          4,
          2,
          2,
          2,
          4,
          4,
          4,
          4,
          2,
          4,
          4,
          4,
          4,
          4,
          4,
          4,
          4,
          4,
          4,
          4,
          4,
          4,
          4,
          4,
          4,
          4,
          4,
          4,
          4,
          4,
          4,
          4,
          2,
          2,
          2,
          2,
          2,
          4,
          4,
          2,
          4,
          2,
          2,
          2,
          2,
          2,
          2,
          2,
          2,
          3,
          5,
          5,
          5,
          4,
          4,
          4,
          4,
          2,
          5,
          2,
          4,
          2,
          4,
          4,
          4,
          4,
          4,
          4,
          4,
          4,
          2,
          2,
          4,
          2,
          2,
          2,
          2,
          4,
          4,
          2,
          2,
          2,
          2,
          4,
          4,
          4,
          4,
          3,
          3,
          3,
          3,
          4,
          4,
          5,
          5,
          5,
          5,
          2,
          2,
          2,
          2,
          2,
          2,
          2,
          2,
          4,
          4,
          2,
          2,
          4,
          4,
          2,
          2,
          2,
          2,
          5,
          5,
          5,
          5,
          4,
          4,
          2,
          2,
          2,
          4,
          2,
          2,
          4,
          4,
          4,
          4,
          4,
          4,
          4,
          2,
          2,
          2,
          4,
          4,
          4,
          4,
          2,
          2,
          3,
          4,
          2,
          2,
          4,
          4,
          2,
          2,
          2,
          2,
          2,
          2,
          4,
          4,
          5,
          5,
          2,
          2,
          2,
          2,
          2,
          2,
          2,
          2,
          2,
          2,
          2,
          2,
          2,
          4,
          4,
          4,
          4,
          4,
          4,
          4,
          2,
          2,
          5,
          5,
          4,
          4,
          4,
          4,
          4,
          4,
          2,
          2,
          2,
          4,
          4,
          2,
          2,
          2,
          2,
          4,
          4,
          4,
          4,
          4,
          4,
          5,
          5,
          2,
          2,
          2,
          5,
          4,
          4,
          4,
          4,
          2,
          4,
          4,
          4,
          4,
          4,
          4,
          4,
          4,
          4,
          2,
          2,
          2,
          2,
          2,
          2,
          2,
          2,
          2,
          4,
          5,
          5,
          5,
          4,
          4,
          4,
          4,
          5,
          5,
          5,
          5,
          2,
          2,
          2,
          2,
          4,
          4,
          4,
          5,
          5,
          5,
          2,
          5,
          4,
          4,
          4,
          4,
          4,
          2,
          2,
          2,
          2,
          2,
          2,
          2,
          2,
          4,
          5,
          5,
          5,
          2,
          2,
          2,
          2,
          2,
          2,
          4,
          4,
          2,
          2,
          2,
          2,
          4,
          4,
          4,
          4,
          4,
          4,
          4,
          4,
          4,
          4,
          4,
          4,
          4,
          4,
          4,
          4,
          2,
          4,
          4,
          4,
          2,
          4,
          4,
          4,
          2,
          4,
          4,
          4,
          4,
          4,
          2,
          2,
          2,
          5,
          5,
          5,
          5,
          2,
          2,
          2,
          2,
          2,
          2,
          2,
          2,
          2,
          2,
          2,
          4,
          4,
          4,
          4,
          2,
          2,
          2,
          2,
          2,
          2,
          4,
          4,
          2,
          5,
          4,
          4,
          4,
          4,
          2,
          2,
          2,
          2,
          2,
          2,
          2,
          4,
          4,
          4,
          4,
          4,
          4,
          4,
          4,
          4,
          4,
          4,
          2,
          2,
          2,
          2,
          2,
          2,
          2,
          2,
          2,
          2,
          2,
          2,
          2,
          2,
          2,
          2,
          2,
          4,
          4,
          2,
          4,
          4,
          4,
          2,
          2,
          2,
          2,
          2,
          2,
          2,
          2,
          2,
          4,
          4,
          2,
          4,
          4,
          4,
          2,
          2,
          2,
          4,
          4,
          4,
          4,
          4,
          4,
          2,
          4,
          4,
          4,
          2,
          2,
          2,
          2,
          4,
          4,
          2,
          2,
          2,
          2,
          4,
          5,
          4,
          4,
          4,
          4,
          4,
          4,
          2,
          2,
          2,
          5,
          4,
          4,
          2,
          2,
          4,
          4,
          4,
          4,
          4,
          4,
          4,
          4,
          4,
          4,
          4,
          4,
          4,
          4,
          2,
          2,
          2,
          2,
          2,
          2,
          5,
          5,
          4,
          4,
          4,
          2,
          2,
          2,
          2,
          4,
          4,
          2,
          4,
          2,
          2,
          2,
          4,
          2,
          5,
          5,
          5,
          2,
          2,
          2,
          4,
          4,
          4,
          4,
          4,
          2,
          2,
          2,
          4,
          2,
          2,
          2,
          5,
          5,
          5,
          2,
          2,
          2,
          4,
          4,
          4,
          4,
          2,
          2,
          2,
          2
         ],
         "yaxis": "y"
        }
       ],
       "layout": {
        "legend": {
         "itemsizing": "constant",
         "tracegroupgap": 0
        },
        "margin": {
         "t": 60
        },
        "template": {
         "data": {
          "bar": [
           {
            "error_x": {
             "color": "#2a3f5f"
            },
            "error_y": {
             "color": "#2a3f5f"
            },
            "marker": {
             "line": {
              "color": "#E5ECF6",
              "width": 0.5
             },
             "pattern": {
              "fillmode": "overlay",
              "size": 10,
              "solidity": 0.2
             }
            },
            "type": "bar"
           }
          ],
          "barpolar": [
           {
            "marker": {
             "line": {
              "color": "#E5ECF6",
              "width": 0.5
             },
             "pattern": {
              "fillmode": "overlay",
              "size": 10,
              "solidity": 0.2
             }
            },
            "type": "barpolar"
           }
          ],
          "carpet": [
           {
            "aaxis": {
             "endlinecolor": "#2a3f5f",
             "gridcolor": "white",
             "linecolor": "white",
             "minorgridcolor": "white",
             "startlinecolor": "#2a3f5f"
            },
            "baxis": {
             "endlinecolor": "#2a3f5f",
             "gridcolor": "white",
             "linecolor": "white",
             "minorgridcolor": "white",
             "startlinecolor": "#2a3f5f"
            },
            "type": "carpet"
           }
          ],
          "choropleth": [
           {
            "colorbar": {
             "outlinewidth": 0,
             "ticks": ""
            },
            "type": "choropleth"
           }
          ],
          "contour": [
           {
            "colorbar": {
             "outlinewidth": 0,
             "ticks": ""
            },
            "colorscale": [
             [
              0,
              "#0d0887"
             ],
             [
              0.1111111111111111,
              "#46039f"
             ],
             [
              0.2222222222222222,
              "#7201a8"
             ],
             [
              0.3333333333333333,
              "#9c179e"
             ],
             [
              0.4444444444444444,
              "#bd3786"
             ],
             [
              0.5555555555555556,
              "#d8576b"
             ],
             [
              0.6666666666666666,
              "#ed7953"
             ],
             [
              0.7777777777777778,
              "#fb9f3a"
             ],
             [
              0.8888888888888888,
              "#fdca26"
             ],
             [
              1,
              "#f0f921"
             ]
            ],
            "type": "contour"
           }
          ],
          "contourcarpet": [
           {
            "colorbar": {
             "outlinewidth": 0,
             "ticks": ""
            },
            "type": "contourcarpet"
           }
          ],
          "heatmap": [
           {
            "colorbar": {
             "outlinewidth": 0,
             "ticks": ""
            },
            "colorscale": [
             [
              0,
              "#0d0887"
             ],
             [
              0.1111111111111111,
              "#46039f"
             ],
             [
              0.2222222222222222,
              "#7201a8"
             ],
             [
              0.3333333333333333,
              "#9c179e"
             ],
             [
              0.4444444444444444,
              "#bd3786"
             ],
             [
              0.5555555555555556,
              "#d8576b"
             ],
             [
              0.6666666666666666,
              "#ed7953"
             ],
             [
              0.7777777777777778,
              "#fb9f3a"
             ],
             [
              0.8888888888888888,
              "#fdca26"
             ],
             [
              1,
              "#f0f921"
             ]
            ],
            "type": "heatmap"
           }
          ],
          "heatmapgl": [
           {
            "colorbar": {
             "outlinewidth": 0,
             "ticks": ""
            },
            "colorscale": [
             [
              0,
              "#0d0887"
             ],
             [
              0.1111111111111111,
              "#46039f"
             ],
             [
              0.2222222222222222,
              "#7201a8"
             ],
             [
              0.3333333333333333,
              "#9c179e"
             ],
             [
              0.4444444444444444,
              "#bd3786"
             ],
             [
              0.5555555555555556,
              "#d8576b"
             ],
             [
              0.6666666666666666,
              "#ed7953"
             ],
             [
              0.7777777777777778,
              "#fb9f3a"
             ],
             [
              0.8888888888888888,
              "#fdca26"
             ],
             [
              1,
              "#f0f921"
             ]
            ],
            "type": "heatmapgl"
           }
          ],
          "histogram": [
           {
            "marker": {
             "pattern": {
              "fillmode": "overlay",
              "size": 10,
              "solidity": 0.2
             }
            },
            "type": "histogram"
           }
          ],
          "histogram2d": [
           {
            "colorbar": {
             "outlinewidth": 0,
             "ticks": ""
            },
            "colorscale": [
             [
              0,
              "#0d0887"
             ],
             [
              0.1111111111111111,
              "#46039f"
             ],
             [
              0.2222222222222222,
              "#7201a8"
             ],
             [
              0.3333333333333333,
              "#9c179e"
             ],
             [
              0.4444444444444444,
              "#bd3786"
             ],
             [
              0.5555555555555556,
              "#d8576b"
             ],
             [
              0.6666666666666666,
              "#ed7953"
             ],
             [
              0.7777777777777778,
              "#fb9f3a"
             ],
             [
              0.8888888888888888,
              "#fdca26"
             ],
             [
              1,
              "#f0f921"
             ]
            ],
            "type": "histogram2d"
           }
          ],
          "histogram2dcontour": [
           {
            "colorbar": {
             "outlinewidth": 0,
             "ticks": ""
            },
            "colorscale": [
             [
              0,
              "#0d0887"
             ],
             [
              0.1111111111111111,
              "#46039f"
             ],
             [
              0.2222222222222222,
              "#7201a8"
             ],
             [
              0.3333333333333333,
              "#9c179e"
             ],
             [
              0.4444444444444444,
              "#bd3786"
             ],
             [
              0.5555555555555556,
              "#d8576b"
             ],
             [
              0.6666666666666666,
              "#ed7953"
             ],
             [
              0.7777777777777778,
              "#fb9f3a"
             ],
             [
              0.8888888888888888,
              "#fdca26"
             ],
             [
              1,
              "#f0f921"
             ]
            ],
            "type": "histogram2dcontour"
           }
          ],
          "mesh3d": [
           {
            "colorbar": {
             "outlinewidth": 0,
             "ticks": ""
            },
            "type": "mesh3d"
           }
          ],
          "parcoords": [
           {
            "line": {
             "colorbar": {
              "outlinewidth": 0,
              "ticks": ""
             }
            },
            "type": "parcoords"
           }
          ],
          "pie": [
           {
            "automargin": true,
            "type": "pie"
           }
          ],
          "scatter": [
           {
            "marker": {
             "colorbar": {
              "outlinewidth": 0,
              "ticks": ""
             }
            },
            "type": "scatter"
           }
          ],
          "scatter3d": [
           {
            "line": {
             "colorbar": {
              "outlinewidth": 0,
              "ticks": ""
             }
            },
            "marker": {
             "colorbar": {
              "outlinewidth": 0,
              "ticks": ""
             }
            },
            "type": "scatter3d"
           }
          ],
          "scattercarpet": [
           {
            "marker": {
             "colorbar": {
              "outlinewidth": 0,
              "ticks": ""
             }
            },
            "type": "scattercarpet"
           }
          ],
          "scattergeo": [
           {
            "marker": {
             "colorbar": {
              "outlinewidth": 0,
              "ticks": ""
             }
            },
            "type": "scattergeo"
           }
          ],
          "scattergl": [
           {
            "marker": {
             "colorbar": {
              "outlinewidth": 0,
              "ticks": ""
             }
            },
            "type": "scattergl"
           }
          ],
          "scattermapbox": [
           {
            "marker": {
             "colorbar": {
              "outlinewidth": 0,
              "ticks": ""
             }
            },
            "type": "scattermapbox"
           }
          ],
          "scatterpolar": [
           {
            "marker": {
             "colorbar": {
              "outlinewidth": 0,
              "ticks": ""
             }
            },
            "type": "scatterpolar"
           }
          ],
          "scatterpolargl": [
           {
            "marker": {
             "colorbar": {
              "outlinewidth": 0,
              "ticks": ""
             }
            },
            "type": "scatterpolargl"
           }
          ],
          "scatterternary": [
           {
            "marker": {
             "colorbar": {
              "outlinewidth": 0,
              "ticks": ""
             }
            },
            "type": "scatterternary"
           }
          ],
          "surface": [
           {
            "colorbar": {
             "outlinewidth": 0,
             "ticks": ""
            },
            "colorscale": [
             [
              0,
              "#0d0887"
             ],
             [
              0.1111111111111111,
              "#46039f"
             ],
             [
              0.2222222222222222,
              "#7201a8"
             ],
             [
              0.3333333333333333,
              "#9c179e"
             ],
             [
              0.4444444444444444,
              "#bd3786"
             ],
             [
              0.5555555555555556,
              "#d8576b"
             ],
             [
              0.6666666666666666,
              "#ed7953"
             ],
             [
              0.7777777777777778,
              "#fb9f3a"
             ],
             [
              0.8888888888888888,
              "#fdca26"
             ],
             [
              1,
              "#f0f921"
             ]
            ],
            "type": "surface"
           }
          ],
          "table": [
           {
            "cells": {
             "fill": {
              "color": "#EBF0F8"
             },
             "line": {
              "color": "white"
             }
            },
            "header": {
             "fill": {
              "color": "#C8D4E3"
             },
             "line": {
              "color": "white"
             }
            },
            "type": "table"
           }
          ]
         },
         "layout": {
          "annotationdefaults": {
           "arrowcolor": "#2a3f5f",
           "arrowhead": 0,
           "arrowwidth": 1
          },
          "autotypenumbers": "strict",
          "coloraxis": {
           "colorbar": {
            "outlinewidth": 0,
            "ticks": ""
           }
          },
          "colorscale": {
           "diverging": [
            [
             0,
             "#8e0152"
            ],
            [
             0.1,
             "#c51b7d"
            ],
            [
             0.2,
             "#de77ae"
            ],
            [
             0.3,
             "#f1b6da"
            ],
            [
             0.4,
             "#fde0ef"
            ],
            [
             0.5,
             "#f7f7f7"
            ],
            [
             0.6,
             "#e6f5d0"
            ],
            [
             0.7,
             "#b8e186"
            ],
            [
             0.8,
             "#7fbc41"
            ],
            [
             0.9,
             "#4d9221"
            ],
            [
             1,
             "#276419"
            ]
           ],
           "sequential": [
            [
             0,
             "#0d0887"
            ],
            [
             0.1111111111111111,
             "#46039f"
            ],
            [
             0.2222222222222222,
             "#7201a8"
            ],
            [
             0.3333333333333333,
             "#9c179e"
            ],
            [
             0.4444444444444444,
             "#bd3786"
            ],
            [
             0.5555555555555556,
             "#d8576b"
            ],
            [
             0.6666666666666666,
             "#ed7953"
            ],
            [
             0.7777777777777778,
             "#fb9f3a"
            ],
            [
             0.8888888888888888,
             "#fdca26"
            ],
            [
             1,
             "#f0f921"
            ]
           ],
           "sequentialminus": [
            [
             0,
             "#0d0887"
            ],
            [
             0.1111111111111111,
             "#46039f"
            ],
            [
             0.2222222222222222,
             "#7201a8"
            ],
            [
             0.3333333333333333,
             "#9c179e"
            ],
            [
             0.4444444444444444,
             "#bd3786"
            ],
            [
             0.5555555555555556,
             "#d8576b"
            ],
            [
             0.6666666666666666,
             "#ed7953"
            ],
            [
             0.7777777777777778,
             "#fb9f3a"
            ],
            [
             0.8888888888888888,
             "#fdca26"
            ],
            [
             1,
             "#f0f921"
            ]
           ]
          },
          "colorway": [
           "#636efa",
           "#EF553B",
           "#00cc96",
           "#ab63fa",
           "#FFA15A",
           "#19d3f3",
           "#FF6692",
           "#B6E880",
           "#FF97FF",
           "#FECB52"
          ],
          "font": {
           "color": "#2a3f5f"
          },
          "geo": {
           "bgcolor": "white",
           "lakecolor": "white",
           "landcolor": "#E5ECF6",
           "showlakes": true,
           "showland": true,
           "subunitcolor": "white"
          },
          "hoverlabel": {
           "align": "left"
          },
          "hovermode": "closest",
          "mapbox": {
           "style": "light"
          },
          "paper_bgcolor": "white",
          "plot_bgcolor": "#E5ECF6",
          "polar": {
           "angularaxis": {
            "gridcolor": "white",
            "linecolor": "white",
            "ticks": ""
           },
           "bgcolor": "#E5ECF6",
           "radialaxis": {
            "gridcolor": "white",
            "linecolor": "white",
            "ticks": ""
           }
          },
          "scene": {
           "xaxis": {
            "backgroundcolor": "#E5ECF6",
            "gridcolor": "white",
            "gridwidth": 2,
            "linecolor": "white",
            "showbackground": true,
            "ticks": "",
            "zerolinecolor": "white"
           },
           "yaxis": {
            "backgroundcolor": "#E5ECF6",
            "gridcolor": "white",
            "gridwidth": 2,
            "linecolor": "white",
            "showbackground": true,
            "ticks": "",
            "zerolinecolor": "white"
           },
           "zaxis": {
            "backgroundcolor": "#E5ECF6",
            "gridcolor": "white",
            "gridwidth": 2,
            "linecolor": "white",
            "showbackground": true,
            "ticks": "",
            "zerolinecolor": "white"
           }
          },
          "shapedefaults": {
           "line": {
            "color": "#2a3f5f"
           }
          },
          "ternary": {
           "aaxis": {
            "gridcolor": "white",
            "linecolor": "white",
            "ticks": ""
           },
           "baxis": {
            "gridcolor": "white",
            "linecolor": "white",
            "ticks": ""
           },
           "bgcolor": "#E5ECF6",
           "caxis": {
            "gridcolor": "white",
            "linecolor": "white",
            "ticks": ""
           }
          },
          "title": {
           "x": 0.05
          },
          "xaxis": {
           "automargin": true,
           "gridcolor": "white",
           "linecolor": "white",
           "ticks": "",
           "title": {
            "standoff": 15
           },
           "zerolinecolor": "white",
           "zerolinewidth": 2
          },
          "yaxis": {
           "automargin": true,
           "gridcolor": "white",
           "linecolor": "white",
           "ticks": "",
           "title": {
            "standoff": 15
           },
           "zerolinecolor": "white",
           "zerolinewidth": 2
          }
         }
        },
        "xaxis": {
         "anchor": "y",
         "domain": [
          0,
          1
         ],
         "title": {
          "text": "AvgTaxesAsPctCigarettePrice"
         }
        },
        "yaxis": {
         "anchor": "x",
         "domain": [
          0,
          1
         ],
         "title": {
          "text": "EnforceBansTobaccoAd"
         }
        }
       }
      },
      "text/html": [
       "<div>                            <div id=\"7bc0adc4-a17a-42ff-93ea-58ee1ee28573\" class=\"plotly-graph-div\" style=\"height:525px; width:100%;\"></div>            <script type=\"text/javascript\">                require([\"plotly\"], function(Plotly) {                    window.PLOTLYENV=window.PLOTLYENV || {};                                    if (document.getElementById(\"7bc0adc4-a17a-42ff-93ea-58ee1ee28573\")) {                    Plotly.newPlot(                        \"7bc0adc4-a17a-42ff-93ea-58ee1ee28573\",                        [{\"hovertemplate\":\"<b>%{hovertext}</b><br><br>AvgTaxesAsPctCigarettePrice=%{x}<br>EnforceBansTobaccoAd=%{y}<br>HelpSize=%{marker.size}<extra></extra>\",\"hovertext\":[\"Algeria\",\"Algeria\",\"Argentina\",\"Argentina\",\"Armenia\",\"Armenia\",\"Australia\",\"Australia\",\"Austria\",\"Austria\",\"Azerbaijan\",\"Azerbaijan\",\"Bahamas\",\"Bangladesh\",\"Bangladesh\",\"Belarus\",\"Belarus\",\"Belgium\",\"Belgium\",\"Belize\",\"Bolivia\",\"Bolivia\",\"Bosnia and Herzegovina\",\"Bosnia and Herzegovina\",\"Brazil\",\"Brazil\",\"Bulgaria\",\"Bulgaria\",\"Burundi\",\"Cambodia\",\"Cambodia\",\"Cameroon\",\"Cameroon\",\"Canada\",\"Canada\",\"Chile\",\"Chile\",\"China\",\"China\",\"Colombia\",\"Colombia\",\"Comoros\",\"Costa Rica\",\"Croatia\",\"Croatia\",\"Cyprus\",\"Cyprus\",\"Czechia\",\"Czechia\",\"Denmark\",\"Denmark\",\"Dominican Republic\",\"Dominican Republic\",\"Ecuador\",\"Ecuador\",\"Egypt\",\"Egypt\",\"Estonia\",\"Estonia\",\"Ethiopia\",\"Fiji\",\"Fiji\",\"Finland\",\"Finland\",\"France\",\"France\",\"Gambia\",\"Georgia\",\"Georgia\",\"Germany\",\"Germany\",\"Ghana\",\"Ghana\",\"Greece\",\"Greece\",\"Guatemala\",\"Guatemala\",\"Honduras\",\"Honduras\",\"Hungary\",\"Hungary\",\"Iceland\",\"Iceland\",\"India\",\"India\",\"Indonesia\",\"Indonesia\",\"Iran\",\"Iran\",\"Ireland\",\"Ireland\",\"Israel\",\"Italy\",\"Italy\",\"Jamaica\",\"Jamaica\",\"Japan\",\"Japan\",\"Kazakhstan\",\"Kazakhstan\",\"Kenya\",\"Kenya\",\"Latvia\",\"Latvia\",\"Lebanon\",\"Lebanon\",\"Lithuania\",\"Lithuania\",\"Luxembourg\",\"Luxembourg\",\"Malaysia\",\"Malaysia\",\"Mali\",\"Mexico\",\"Mexico\",\"Moldova\",\"Moldova\",\"Mongolia\",\"Mongolia\",\"Morocco\",\"Morocco\",\"Nepal\",\"Nepal\",\"Netherlands\",\"Netherlands\",\"New Zealand\",\"New Zealand\",\"Nicaragua\",\"Nigeria\",\"North Macedonia\",\"North Macedonia\",\"Norway\",\"Norway\",\"Oman\",\"Oman\",\"Pakistan\",\"Pakistan\",\"Panama\",\"Panama\",\"Peru\",\"Peru\",\"Philippines\",\"Philippines\",\"Poland\",\"Poland\",\"Portugal\",\"Portugal\",\"Romania\",\"Romania\",\"Russia\",\"Russia\",\"Rwanda\",\"Saint Kitts and Nevis\",\"Samoa\",\"Saudi Arabia\",\"Senegal\",\"Senegal\",\"Serbia\",\"Serbia\",\"Sierra Leone\",\"Singapore\",\"Singapore\",\"Slovakia\",\"Slovakia\",\"Slovenia\",\"Slovenia\",\"South Africa\",\"South Africa\",\"South Korea\",\"South Korea\",\"Spain\",\"Spain\",\"Sri Lanka\",\"Sri Lanka\",\"Sweden\",\"Sweden\",\"Switzerland\",\"Switzerland\",\"Thailand\",\"Thailand\",\"Tonga\",\"Tunisia\",\"Tunisia\",\"Turkey\",\"Turkey\",\"Uganda\",\"Uganda\",\"Ukraine\",\"Ukraine\",\"United Arab Emirates\",\"United Arab Emirates\",\"United Kingdom\",\"United Kingdom\",\"United States\",\"United States\",\"Uruguay\",\"Uruguay\",\"Uzbekistan\",\"Uzbekistan\",\"Venezuela\",\"Vietnam\",\"Vietnam\",\"Yemen\",\"Yemen\",\"Zambia\",\"Zambia\",\"Zimbabwe\",\"Zimbabwe\",\"Liberia\",\"Afghanistan\",\"Afghanistan\",\"Afghanistan\",\"Afghanistan\",\"Albania\",\"Albania\",\"Albania\",\"Albania\",\"Algeria\",\"Algeria\",\"Andorra\",\"Andorra\",\"Andorra\",\"Andorra\",\"Angola\",\"Angola\",\"Angola\",\"Angola\",\"Antigua and Barbuda\",\"Antigua and Barbuda\",\"Antigua and Barbuda\",\"Antigua and Barbuda\",\"Argentina\",\"Argentina\",\"Armenia\",\"Armenia\",\"Australia\",\"Australia\",\"Austria\",\"Austria\",\"Azerbaijan\",\"Azerbaijan\",\"Bahamas\",\"Bahamas\",\"Bahamas\",\"Bahrain\",\"Bahrain\",\"Bahrain\",\"Bahrain\",\"Bangladesh\",\"Bangladesh\",\"Barbados\",\"Barbados\",\"Barbados\",\"Barbados\",\"Belarus\",\"Belarus\",\"Belgium\",\"Belgium\",\"Belize\",\"Belize\",\"Belize\",\"Benin\",\"Benin\",\"Benin\",\"Benin\",\"Bhutan\",\"Bhutan\",\"Bhutan\",\"Bhutan\",\"Bolivia\",\"Bolivia\",\"Bosnia and Herzegovina\",\"Bosnia and Herzegovina\",\"Botswana\",\"Botswana\",\"Botswana\",\"Botswana\",\"Brazil\",\"Brazil\",\"Brunei\",\"Brunei\",\"Brunei\",\"Brunei\",\"Bulgaria\",\"Bulgaria\",\"Burkina Faso\",\"Burkina Faso\",\"Burkina Faso\",\"Burkina Faso\",\"Burundi\",\"Burundi\",\"Burundi\",\"Cambodia\",\"Cambodia\",\"Cameroon\",\"Cameroon\",\"Canada\",\"Canada\",\"Cape Verde\",\"Cape Verde\",\"Cape Verde\",\"Cape Verde\",\"Central African Republic\",\"Central African Republic\",\"Central African Republic\",\"Central African Republic\",\"Chad\",\"Chad\",\"Chad\",\"Chad\",\"Chile\",\"Chile\",\"China\",\"China\",\"Colombia\",\"Colombia\",\"Comoros\",\"Comoros\",\"Comoros\",\"Congo\",\"Congo\",\"Congo\",\"Congo\",\"Cook Islands\",\"Cook Islands\",\"Cook Islands\",\"Cook Islands\",\"Costa Rica\",\"Costa Rica\",\"Costa Rica\",\"Cote d'Ivoire\",\"Cote d'Ivoire\",\"Cote d'Ivoire\",\"Cote d'Ivoire\",\"Croatia\",\"Croatia\",\"Cuba\",\"Cuba\",\"Cuba\",\"Cuba\",\"Cyprus\",\"Cyprus\",\"Czechia\",\"Czechia\",\"Democratic Republic of Congo\",\"Democratic Republic of Congo\",\"Democratic Republic of Congo\",\"Democratic Republic of Congo\",\"Denmark\",\"Denmark\",\"Djibouti\",\"Djibouti\",\"Djibouti\",\"Djibouti\",\"Dominica\",\"Dominica\",\"Dominica\",\"Dominica\",\"Dominican Republic\",\"Dominican Republic\",\"Ecuador\",\"Ecuador\",\"Egypt\",\"Egypt\",\"El Salvador\",\"El Salvador\",\"El Salvador\",\"El Salvador\",\"Equatorial Guinea\",\"Equatorial Guinea\",\"Equatorial Guinea\",\"Equatorial Guinea\",\"Eritrea\",\"Eritrea\",\"Eritrea\",\"Eritrea\",\"Estonia\",\"Estonia\",\"Eswatini\",\"Eswatini\",\"Eswatini\",\"Eswatini\",\"Ethiopia\",\"Ethiopia\",\"Ethiopia\",\"Fiji\",\"Fiji\",\"Finland\",\"Finland\",\"France\",\"France\",\"Gabon\",\"Gabon\",\"Gabon\",\"Gabon\",\"Gambia\",\"Gambia\",\"Gambia\",\"Georgia\",\"Georgia\",\"Germany\",\"Germany\",\"Ghana\",\"Ghana\",\"Greece\",\"Greece\",\"Grenada\",\"Grenada\",\"Grenada\",\"Grenada\",\"Guatemala\",\"Guatemala\",\"Guinea\",\"Guinea\",\"Guinea\",\"Guinea\",\"Guinea-Bissau\",\"Guinea-Bissau\",\"Guinea-Bissau\",\"Guinea-Bissau\",\"Guyana\",\"Guyana\",\"Guyana\",\"Guyana\",\"Haiti\",\"Haiti\",\"Haiti\",\"Haiti\",\"Honduras\",\"Honduras\",\"Hungary\",\"Hungary\",\"Iceland\",\"Iceland\",\"India\",\"India\",\"Indonesia\",\"Indonesia\",\"Iran\",\"Iran\",\"Iraq\",\"Iraq\",\"Iraq\",\"Iraq\",\"Ireland\",\"Ireland\",\"Israel\",\"Israel\",\"Israel\",\"Italy\",\"Italy\",\"Jamaica\",\"Jamaica\",\"Japan\",\"Japan\",\"Jordan\",\"Jordan\",\"Jordan\",\"Jordan\",\"Kazakhstan\",\"Kazakhstan\",\"Kenya\",\"Kenya\",\"Kiribati\",\"Kiribati\",\"Kiribati\",\"Kiribati\",\"Kuwait\",\"Kuwait\",\"Kuwait\",\"Kuwait\",\"Kyrgyzstan\",\"Kyrgyzstan\",\"Kyrgyzstan\",\"Kyrgyzstan\",\"Laos\",\"Laos\",\"Laos\",\"Laos\",\"Latvia\",\"Latvia\",\"Lebanon\",\"Lebanon\",\"Lesotho\",\"Lesotho\",\"Lesotho\",\"Lesotho\",\"Liberia\",\"Liberia\",\"Liberia\",\"Libya\",\"Libya\",\"Libya\",\"Libya\",\"Lithuania\",\"Lithuania\",\"Luxembourg\",\"Luxembourg\",\"Madagascar\",\"Madagascar\",\"Madagascar\",\"Madagascar\",\"Malawi\",\"Malawi\",\"Malawi\",\"Malawi\",\"Malaysia\",\"Malaysia\",\"Maldives\",\"Maldives\",\"Maldives\",\"Maldives\",\"Mali\",\"Mali\",\"Mali\",\"Malta\",\"Malta\",\"Malta\",\"Malta\",\"Marshall Islands\",\"Marshall Islands\",\"Marshall Islands\",\"Marshall Islands\",\"Mauritania\",\"Mauritania\",\"Mauritania\",\"Mauritania\",\"Mauritius\",\"Mauritius\",\"Mauritius\",\"Mauritius\",\"Mexico\",\"Mexico\",\"Micronesia (country)\",\"Micronesia (country)\",\"Micronesia (country)\",\"Micronesia (country)\",\"Moldova\",\"Moldova\",\"Monaco\",\"Monaco\",\"Monaco\",\"Monaco\",\"Mongolia\",\"Mongolia\",\"Montenegro\",\"Montenegro\",\"Montenegro\",\"Montenegro\",\"Morocco\",\"Morocco\",\"Mozambique\",\"Mozambique\",\"Mozambique\",\"Mozambique\",\"Myanmar\",\"Myanmar\",\"Myanmar\",\"Myanmar\",\"Namibia\",\"Namibia\",\"Namibia\",\"Namibia\",\"Nauru\",\"Nauru\",\"Nauru\",\"Nauru\",\"Nepal\",\"Nepal\",\"Netherlands\",\"Netherlands\",\"New Zealand\",\"New Zealand\",\"Nicaragua\",\"Nicaragua\",\"Nicaragua\",\"Niger\",\"Niger\",\"Niger\",\"Niger\",\"Nigeria\",\"Nigeria\",\"Nigeria\",\"Niue\",\"Niue\",\"Niue\",\"Niue\",\"North Korea\",\"North Korea\",\"North Korea\",\"North Korea\",\"North Macedonia\",\"North Macedonia\",\"Norway\",\"Norway\",\"Oman\",\"Oman\",\"Pakistan\",\"Pakistan\",\"Palau\",\"Palau\",\"Palau\",\"Palau\",\"Panama\",\"Panama\",\"Papua New Guinea\",\"Papua New Guinea\",\"Papua New Guinea\",\"Papua New Guinea\",\"Paraguay\",\"Paraguay\",\"Paraguay\",\"Paraguay\",\"Peru\",\"Peru\",\"Philippines\",\"Philippines\",\"Poland\",\"Poland\",\"Portugal\",\"Portugal\",\"Qatar\",\"Qatar\",\"Qatar\",\"Qatar\",\"Romania\",\"Romania\",\"Russia\",\"Russia\",\"Rwanda\",\"Rwanda\",\"Rwanda\",\"Saint Kitts and Nevis\",\"Saint Kitts and Nevis\",\"Saint Kitts and Nevis\",\"Saint Lucia\",\"Saint Lucia\",\"Saint Lucia\",\"Saint Lucia\",\"Saint Vincent and the Grenadines\",\"Saint Vincent and the Grenadines\",\"Saint Vincent and the Grenadines\",\"Saint Vincent and the Grenadines\",\"Samoa\",\"Samoa\",\"Samoa\",\"San Marino\",\"San Marino\",\"San Marino\",\"San Marino\",\"Sao Tome and Principe\",\"Sao Tome and Principe\",\"Sao Tome and Principe\",\"Sao Tome and Principe\",\"Saudi Arabia\",\"Saudi Arabia\",\"Saudi Arabia\",\"Senegal\",\"Senegal\",\"Serbia\",\"Serbia\",\"Seychelles\",\"Seychelles\",\"Seychelles\",\"Seychelles\",\"Sierra Leone\",\"Sierra Leone\",\"Sierra Leone\",\"Singapore\",\"Singapore\",\"Slovakia\",\"Slovakia\",\"Slovenia\",\"Slovenia\",\"Solomon Islands\",\"Solomon Islands\",\"Solomon Islands\",\"Solomon Islands\",\"Somalia\",\"Somalia\",\"Somalia\",\"Somalia\",\"South Africa\",\"South Africa\",\"South Korea\",\"South Korea\",\"South Sudan\",\"South Sudan\",\"Spain\",\"Spain\",\"Sri Lanka\",\"Sri Lanka\",\"Sudan\",\"Sudan\",\"Sudan\",\"Sudan\",\"Suriname\",\"Suriname\",\"Suriname\",\"Suriname\",\"Sweden\",\"Sweden\",\"Switzerland\",\"Switzerland\",\"Syria\",\"Syria\",\"Syria\",\"Syria\",\"Tajikistan\",\"Tajikistan\",\"Tajikistan\",\"Tajikistan\",\"Tanzania\",\"Tanzania\",\"Tanzania\",\"Tanzania\",\"Thailand\",\"Thailand\",\"Timor\",\"Timor\",\"Timor\",\"Timor\",\"Togo\",\"Togo\",\"Togo\",\"Togo\",\"Tonga\",\"Tonga\",\"Tonga\",\"Trinidad and Tobago\",\"Trinidad and Tobago\",\"Trinidad and Tobago\",\"Trinidad and Tobago\",\"Tunisia\",\"Tunisia\",\"Turkey\",\"Turkey\",\"Turkmenistan\",\"Turkmenistan\",\"Turkmenistan\",\"Turkmenistan\",\"Tuvalu\",\"Tuvalu\",\"Tuvalu\",\"Tuvalu\",\"Uganda\",\"Uganda\",\"Ukraine\",\"Ukraine\",\"United Arab Emirates\",\"United Arab Emirates\",\"United Kingdom\",\"United Kingdom\",\"United States\",\"United States\",\"Uruguay\",\"Uruguay\",\"Uzbekistan\",\"Uzbekistan\",\"Vanuatu\",\"Vanuatu\",\"Vanuatu\",\"Vanuatu\",\"Venezuela\",\"Venezuela\",\"Venezuela\",\"Vietnam\",\"Vietnam\",\"Yemen\",\"Yemen\",\"Zambia\",\"Zambia\",\"Zimbabwe\",\"Zimbabwe\"],\"legendgroup\":\"\",\"marker\":{\"color\":\"#636efa\",\"size\":[0.36,0.6400000000000001,0.6400000000000001,1.0,0.6400000000000001,0.6400000000000001,1.0,1.0,0.6400000000000001,0.6400000000000001,0.36,0.36,0.6400000000000001,0.36,0.36,0.6400000000000001,0.6400000000000001,0.6400000000000001,1.0,0.36,0.6400000000000001,0.6400000000000001,0.6400000000000001,0.6400000000000001,1.0,1.0,0.6400000000000001,0.6400000000000001,0.16000000000000003,0.36,0.36,0.36,0.6400000000000001,1.0,1.0,0.36,0.36,0.36,0.6400000000000001,0.36,0.36,0.16000000000000003,0.6400000000000001,0.6400000000000001,0.6400000000000001,0.6400000000000001,0.6400000000000001,0.6400000000000001,0.6400000000000001,1.0,1.0,0.36,0.36,0.6400000000000001,0.6400000000000001,0.6400000000000001,0.6400000000000001,0.6400000000000001,0.6400000000000001,0.6400000000000001,0.6400000000000001,0.6400000000000001,0.6400000000000001,0.6400000000000001,0.6400000000000001,0.6400000000000001,0.16000000000000003,0.36,0.6400000000000001,0.6400000000000001,0.6400000000000001,0.6400000000000001,0.6400000000000001,0.6400000000000001,0.6400000000000001,0.6400000000000001,0.6400000000000001,0.6400000000000001,0.6400000000000001,0.6400000000000001,0.6400000000000001,0.36,0.36,0.6400000000000001,0.6400000000000001,0.36,0.36,1.0,1.0,1.0,1.0,1.0,0.6400000000000001,0.6400000000000001,0.6400000000000001,0.6400000000000001,0.6400000000000001,0.6400000000000001,0.6400000000000001,0.6400000000000001,0.6400000000000001,0.6400000000000001,0.6400000000000001,0.6400000000000001,0.6400000000000001,0.6400000000000001,0.6400000000000001,0.6400000000000001,0.6400000000000001,0.6400000000000001,0.6400000000000001,0.6400000000000001,0.36,0.6400000000000001,1.0,0.36,0.6400000000000001,0.6400000000000001,0.6400000000000001,0.36,0.36,0.36,0.36,0.6400000000000001,1.0,1.0,1.0,0.36,0.6400000000000001,0.36,0.6400000000000001,0.6400000000000001,0.6400000000000001,0.36,0.6400000000000001,0.36,0.6400000000000001,1.0,1.0,0.36,0.36,0.6400000000000001,0.6400000000000001,0.6400000000000001,0.6400000000000001,0.6400000000000001,0.6400000000000001,1.0,0.6400000000000001,0.36,0.6400000000000001,0.16000000000000003,0.36,0.36,0.6400000000000001,0.36,0.36,0.6400000000000001,0.6400000000000001,0.16000000000000003,1.0,1.0,0.6400000000000001,0.6400000000000001,0.6400000000000001,0.6400000000000001,0.36,0.6400000000000001,1.0,1.0,0.6400000000000001,0.6400000000000001,0.36,0.36,0.6400000000000001,0.6400000000000001,0.6400000000000001,0.6400000000000001,0.6400000000000001,0.6400000000000001,0.6400000000000001,0.6400000000000001,0.6400000000000001,1.0,1.0,0.6400000000000001,0.6400000000000001,0.36,0.36,1.0,1.0,1.0,1.0,1.0,1.0,1.0,1.0,0.36,0.6400000000000001,0.6400000000000001,0.36,0.36,0.36,0.36,0.36,0.36,0.36,0.36,0.36,0.36,0.36,0.36,0.36,0.16000000000000003,0.36,0.6400000000000001,0.6400000000000001,0.36,0.36,0.6400000000000001,0.6400000000000001,0.6400000000000001,0.6400000000000001,0.36,0.36,0.36,0.36,0.36,0.36,0.36,0.36,0.6400000000000001,0.6400000000000001,0.36,0.36,1.0,1.0,0.6400000000000001,0.6400000000000001,0.16000000000000003,0.36,0.36,0.36,0.6400000000000001,1.0,1.0,0.6400000000000001,0.6400000000000001,0.36,0.36,0.36,0.36,0.6400000000000001,0.6400000000000001,0.6400000000000001,0.6400000000000001,1.0,0.6400000000000001,0.36,0.36,0.36,0.36,0.36,0.36,0.6400000000000001,0.16000000000000003,0.16000000000000003,0.16000000000000003,0.6400000000000001,0.36,0.36,0.36,0.36,0.36,0.36,0.36,0.36,1.0,1.0,0.6400000000000001,0.6400000000000001,0.6400000000000001,1.0,0.6400000000000001,0.6400000000000001,0.36,0.36,0.36,0.6400000000000001,0.16000000000000003,0.16000000000000003,0.16000000000000003,0.36,0.36,0.36,0.36,0.36,1.0,0.6400000000000001,0.6400000000000001,0.6400000000000001,0.6400000000000001,0.36,0.36,0.36,0.36,0.16000000000000003,0.16000000000000003,0.36,0.36,0.36,0.36,0.36,0.36,0.36,0.36,0.16000000000000003,0.16000000000000003,0.16000000000000003,0.36,0.6400000000000001,0.6400000000000001,0.6400000000000001,0.6400000000000001,0.6400000000000001,0.6400000000000001,0.6400000000000001,0.6400000000000001,0.6400000000000001,0.6400000000000001,0.36,0.36,0.36,0.6400000000000001,0.36,0.6400000000000001,0.6400000000000001,0.6400000000000001,0.6400000000000001,0.6400000000000001,0.6400000000000001,0.6400000000000001,0.36,0.6400000000000001,0.36,0.36,0.36,0.36,0.6400000000000001,0.6400000000000001,0.36,0.36,0.36,0.36,0.36,0.36,0.36,0.36,0.36,0.36,0.36,0.6400000000000001,0.6400000000000001,0.6400000000000001,0.6400000000000001,0.6400000000000001,1.0,1.0,0.16000000000000003,0.16000000000000003,0.16000000000000003,0.16000000000000003,0.16000000000000003,0.16000000000000003,0.16000000000000003,0.16000000000000003,0.36,0.36,0.6400000000000001,0.6400000000000001,0.6400000000000001,0.6400000000000001,0.16000000000000003,0.36,0.6400000000000001,0.16000000000000003,0.16000000000000003,0.6400000000000001,0.6400000000000001,0.6400000000000001,0.6400000000000001,0.36,0.36,0.36,0.36,0.16000000000000003,0.16000000000000003,0.16000000000000003,0.36,0.36,0.6400000000000001,0.6400000000000001,0.36,0.36,0.36,0.36,0.36,0.36,0.36,0.36,0.6400000000000001,0.6400000000000001,0.36,0.36,0.36,0.36,0.16000000000000003,0.16000000000000003,0.36,0.36,0.36,0.6400000000000001,0.6400000000000001,0.6400000000000001,0.36,0.36,0.36,0.36,0.36,0.36,0.36,0.6400000000000001,0.36,0.36,0.36,0.36,0.36,0.36,1.0,1.0,0.36,0.36,0.36,0.6400000000000001,1.0,1.0,0.6400000000000001,1.0,1.0,0.6400000000000001,0.6400000000000001,0.6400000000000001,0.6400000000000001,0.6400000000000001,0.6400000000000001,0.6400000000000001,0.6400000000000001,0.6400000000000001,0.6400000000000001,0.6400000000000001,0.6400000000000001,0.36,0.36,0.36,0.36,0.16000000000000003,0.36,0.6400000000000001,0.6400000000000001,1.0,1.0,0.36,0.36,0.6400000000000001,0.6400000000000001,0.36,0.36,0.36,0.16000000000000003,0.36,0.6400000000000001,0.6400000000000001,0.6400000000000001,0.36,0.6400000000000001,0.6400000000000001,0.6400000000000001,0.36,0.36,0.36,0.16000000000000003,0.36,0.6400000000000001,0.6400000000000001,0.6400000000000001,0.6400000000000001,0.16000000000000003,0.6400000000000001,0.36,0.36,0.36,0.36,0.16000000000000003,0.16000000000000003,0.16000000000000003,0.16000000000000003,0.6400000000000001,0.6400000000000001,0.36,0.36,0.36,0.16000000000000003,0.36,0.36,0.36,0.6400000000000001,0.6400000000000001,0.6400000000000001,1.0,0.6400000000000001,0.6400000000000001,0.6400000000000001,0.6400000000000001,0.16000000000000003,0.16000000000000003,0.16000000000000003,0.16000000000000003,0.6400000000000001,0.6400000000000001,0.6400000000000001,0.6400000000000001,0.6400000000000001,0.6400000000000001,0.36,0.36,0.36,0.6400000000000001,0.36,0.36,0.36,0.6400000000000001,0.6400000000000001,0.6400000000000001,0.6400000000000001,0.6400000000000001,0.16000000000000003,0.16000000000000003,0.6400000000000001,0.6400000000000001,0.36,0.36,0.36,0.36,0.36,0.36,0.36,0.36,0.36,0.6400000000000001,0.36,0.36,0.6400000000000001,0.6400000000000001,0.36,0.36,0.36,0.36,0.16000000000000003,0.6400000000000001,0.36,0.6400000000000001,1.0,1.0,0.36,0.36,0.36,0.36,0.36,0.36,0.36,0.6400000000000001,0.6400000000000001,0.6400000000000001,0.6400000000000001,0.6400000000000001,0.6400000000000001,0.6400000000000001,0.6400000000000001,0.6400000000000001,0.6400000000000001,0.6400000000000001,0.36,0.36,0.6400000000000001,0.6400000000000001,0.36,0.36,0.36,0.36,0.6400000000000001,0.6400000000000001,0.6400000000000001,0.6400000000000001,0.6400000000000001,1.0,0.16000000000000003,0.16000000000000003,0.16000000000000003,0.16000000000000003,0.6400000000000001,0.6400000000000001,0.6400000000000001,0.6400000000000001,0.36,0.36,0.6400000000000001,0.6400000000000001,0.6400000000000001,0.6400000000000001,0.6400000000000001,0.6400000000000001,0.6400000000000001,0.6400000000000001,0.6400000000000001,0.6400000000000001,0.6400000000000001,1.0,0.36,0.36,0.16000000000000003,0.16000000000000003,0.16000000000000003,0.36,0.36,0.36,0.36,0.36,0.36,0.36,0.36,0.36,0.36,0.36,0.36,0.36,0.36,0.36,0.36,0.36,0.6400000000000001,0.16000000000000003,0.16000000000000003,0.16000000000000003,0.6400000000000001,0.6400000000000001,0.6400000000000001,0.6400000000000001,0.36,0.36,0.36,0.6400000000000001,0.36,0.36,0.36,0.6400000000000001,0.16000000000000003,0.16000000000000003,0.16000000000000003,1.0,1.0,0.36,0.6400000000000001,0.6400000000000001,0.6400000000000001,0.36,0.36,0.36,0.6400000000000001,0.16000000000000003,0.16000000000000003,0.16000000000000003,0.16000000000000003,0.36,0.36,1.0,1.0,0.04000000000000001,0.04000000000000001,0.6400000000000001,0.6400000000000001,0.36,0.36,0.16000000000000003,0.16000000000000003,0.16000000000000003,0.16000000000000003,0.36,0.36,0.36,0.6400000000000001,0.6400000000000001,0.6400000000000001,0.6400000000000001,0.6400000000000001,0.6400000000000001,0.6400000000000001,0.6400000000000001,0.6400000000000001,0.36,0.36,0.36,0.36,0.6400000000000001,0.6400000000000001,0.6400000000000001,0.6400000000000001,0.6400000000000001,0.6400000000000001,0.16000000000000003,0.16000000000000003,0.16000000000000003,0.16000000000000003,0.36,0.36,0.36,0.16000000000000003,0.16000000000000003,0.36,0.6400000000000001,0.36,0.36,0.6400000000000001,0.6400000000000001,0.36,0.36,0.36,1.0,0.6400000000000001,0.6400000000000001,0.6400000000000001,0.6400000000000001,0.6400000000000001,0.6400000000000001,0.6400000000000001,0.6400000000000001,0.6400000000000001,0.6400000000000001,0.36,0.36,0.36,1.0,1.0,1.0,0.36,1.0,1.0,1.0,0.36,0.36,0.16000000000000003,0.36,0.36,0.36,0.6400000000000001,0.6400000000000001,0.6400000000000001,0.36,0.36,0.36,0.36,0.36,0.36,0.36,0.36],\"sizemode\":\"area\",\"sizeref\":0.0025,\"symbol\":\"circle\"},\"mode\":\"markers\",\"name\":\"\",\"orientation\":\"v\",\"showlegend\":false,\"type\":\"scatter\",\"x\":[47.0,40.9,69.9,69.7,38.4,44.1,63.1,58.4,75.0,74.9,19.8,17.6,41.6,63.8,75.6,41.2,52.7,76.4,76.4,42.5,40.4,40.4,75.2,86.0,62.6,64.3,86.4,84.0,41.2,17.1,22.2,21.5,17.9,64.5,64.5,82.0,81.6,47.7,47.8,50.9,49.5,50.8,71.8,70.4,74.8,75.8,77.3,80.0,75.6,78.7,78.8,58.3,57.7,64.2,62.7,71.5,72.0,79.2,81.7,18.7,40.6,44.0,79.8,81.7,80.0,80.6,34.4,54.9,47.5,74.5,73.5,23.1,28.3,83.2,81.6,49.0,49.0,36.2,38.1,84.1,77.4,56.9,56.4,33.2,66.1,35.5,50.8,2.7,4.3,78.8,77.8,85.0,75.5,76.1,46.1,42.9,63.2,62.9,27.0,39.7,48.8,49.3,78.7,77.3,44.4,48.3,75.8,77.6,71.1,70.7,58.4,59.8,38.1,66.5,65.8,44.6,51.6,0.0,44.2,68.0,68.4,32.9,46.6,73.1,74.8,73.3,75.0,30.5,21.7,70.8,69.8,72.8,67.2,22.1,22.1,61.6,60.7,56.5,56.5,44.9,39.5,34.2,53.0,79.7,82.6,76.3,79.6,75.3,77.3,45.0,50.5,24.1,19.9,59.5,22.9,29.0,37.9,75.4,73.8,19.7,70.4,73.8,83.1,84.6,78.4,79.4,47.6,48.1,65.3,60.3,79.2,78.8,74.2,73.5,73.8,68.8,63.6,61.9,68.7,70.2,64.3,84.5,78.1,80.3,82.2,44.2,40.2,59.7,62.4,24.5,21.1,76.1,81.3,42.9,42.9,69.0,65.6,32.7,31.1,71.0,41.6,41.6,52.9,53.7,25.8,21.3,57.6,59.8,17.2,null,null,null,null,null,null,null,null,null,null,null,null,null,null,null,null,null,null,null,null,null,null,null,null,null,null,null,null,null,null,null,null,null,null,null,null,null,null,null,null,null,null,null,null,null,null,null,null,null,null,null,null,null,null,null,null,null,null,null,null,null,null,null,null,null,null,null,null,null,null,null,null,null,null,null,null,null,null,null,null,null,null,null,null,null,null,null,null,null,null,null,null,null,null,null,null,null,null,null,null,null,null,null,null,null,null,null,null,null,null,null,null,null,null,null,null,null,null,null,null,null,null,null,null,null,null,null,null,null,null,null,null,null,null,null,null,null,null,null,null,null,null,null,null,null,null,null,null,null,null,null,null,null,null,null,null,null,null,null,null,null,null,null,null,null,null,null,null,null,null,null,null,null,null,null,null,null,null,null,null,null,null,null,null,null,null,null,null,null,null,null,null,null,null,null,null,null,null,null,null,null,null,null,null,null,null,null,null,null,null,null,null,null,null,null,null,null,null,null,null,null,null,null,null,null,null,null,null,null,null,null,null,null,null,null,null,null,null,null,null,null,null,null,null,null,null,null,null,null,null,null,null,null,null,null,null,null,null,null,null,null,null,null,null,null,null,null,null,null,null,null,null,null,null,null,null,null,null,null,null,null,null,null,null,null,null,null,null,null,null,null,null,null,null,null,null,null,null,null,null,null,null,null,null,null,null,null,null,null,null,null,null,null,null,null,null,null,null,null,null,null,null,null,null,null,null,null,null,null,null,null,null,null,null,null,null,null,null,null,null,null,null,null,null,null,null,null,null,null,null,null,null,null,null,null,null,null,null,null,null,null,null,null,null,null,null,null,null,null,null,null,null,null,null,null,null,null,null,null,null,null,null,null,null,null,null,null,null,null,null,null,null,null,null,null,null,null,null,null,null,null,null,null,null,null,null,null,null,null,null,null,null,null,null,null,null,null,null,null,null,null,null,null,null,null,null,null,null,null,null,null,null,null,null,null,null,null,null,null,null,null,null,null,null,null,null,null,null,null,null,null,null,null,null,null,null,null,null,null,null,null,null,null,null,null,null,null,null,null,null,null,null,null,null,null,null,null,null,null,null,null,null,null,null,null,null,null,null,null,null,null,null,null,null,null,null,null,null,null,null,null,null,null,null,null,null,null,null,null,null,null,null,null,null,null,null,null,null,null,null,null,null,null,null,null,null,null,null,null,null,null,null,null,null,null,null,null,null,null,null,null,null,null,null,null,null,null,null,null,null,null,null,null,null,null,null,null,null,null,null,null,null,null,null,null],\"xaxis\":\"x\",\"y\":[4,4,4,4,2,2,4,4,4,4,4,4,2,4,4,4,4,4,4,2,4,4,4,4,5,5,4,4,2,4,4,4,4,4,4,4,4,4,4,5,5,2,4,4,4,4,4,4,4,4,4,2,2,4,4,4,4,4,4,4,4,4,4,4,4,4,4,2,2,4,4,5,5,4,4,2,2,4,4,4,4,4,4,4,4,2,2,5,5,4,4,2,4,4,2,2,2,2,4,4,5,5,4,4,4,4,4,4,4,4,4,4,4,2,2,4,4,4,4,4,4,4,5,4,4,4,4,2,2,4,4,4,4,2,2,2,4,5,5,2,2,4,4,4,4,4,4,4,4,2,5,2,2,4,2,2,4,4,4,2,4,4,4,4,4,4,4,4,2,2,5,5,4,4,4,4,2,2,4,4,4,4,4,5,5,2,2,4,4,4,5,4,4,2,2,4,5,4,4,2,4,4,4,5,2,2,2,2,2,4,4,4,4,5,5,5,5,4,4,2,2,2,2,2,2,2,2,2,2,2,2,2,2,2,2,4,4,4,4,4,4,2,2,2,2,4,5,5,4,4,2,2,2,2,4,4,4,4,2,2,2,4,4,4,4,2,4,4,4,4,4,4,4,4,4,4,4,4,4,4,4,4,4,4,4,4,4,4,4,2,2,2,2,2,4,4,2,4,2,2,2,2,2,2,2,2,3,5,5,5,4,4,4,4,2,5,2,4,2,4,4,4,4,4,4,4,4,2,2,4,2,2,2,2,4,4,2,2,2,2,4,4,4,4,3,3,3,3,4,4,5,5,5,5,2,2,2,2,2,2,2,2,4,4,2,2,4,4,2,2,2,2,5,5,5,5,4,4,2,2,2,4,2,2,4,4,4,4,4,4,4,2,2,2,4,4,4,4,2,2,3,4,2,2,4,4,2,2,2,2,2,2,4,4,5,5,2,2,2,2,2,2,2,2,2,2,2,2,2,4,4,4,4,4,4,4,2,2,5,5,4,4,4,4,4,4,2,2,2,4,4,2,2,2,2,4,4,4,4,4,4,5,5,2,2,2,5,4,4,4,4,2,4,4,4,4,4,4,4,4,4,2,2,2,2,2,2,2,2,2,4,5,5,5,4,4,4,4,5,5,5,5,2,2,2,2,4,4,4,5,5,5,2,5,4,4,4,4,4,2,2,2,2,2,2,2,2,4,5,5,5,2,2,2,2,2,2,4,4,2,2,2,2,4,4,4,4,4,4,4,4,4,4,4,4,4,4,4,4,2,4,4,4,2,4,4,4,2,4,4,4,4,4,2,2,2,5,5,5,5,2,2,2,2,2,2,2,2,2,2,2,4,4,4,4,2,2,2,2,2,2,4,4,2,5,4,4,4,4,2,2,2,2,2,2,2,4,4,4,4,4,4,4,4,4,4,4,2,2,2,2,2,2,2,2,2,2,2,2,2,2,2,2,2,4,4,2,4,4,4,2,2,2,2,2,2,2,2,2,4,4,2,4,4,4,2,2,2,4,4,4,4,4,4,2,4,4,4,2,2,2,2,4,4,2,2,2,2,4,5,4,4,4,4,4,4,2,2,2,5,4,4,2,2,4,4,4,4,4,4,4,4,4,4,4,4,4,4,2,2,2,2,2,2,5,5,4,4,4,2,2,2,2,4,4,2,4,2,2,2,4,2,5,5,5,2,2,2,4,4,4,4,4,2,2,2,4,2,2,2,5,5,5,2,2,2,4,4,4,4,2,2,2,2],\"yaxis\":\"y\"}],                        {\"legend\":{\"itemsizing\":\"constant\",\"tracegroupgap\":0},\"margin\":{\"t\":60},\"template\":{\"data\":{\"bar\":[{\"error_x\":{\"color\":\"#2a3f5f\"},\"error_y\":{\"color\":\"#2a3f5f\"},\"marker\":{\"line\":{\"color\":\"#E5ECF6\",\"width\":0.5},\"pattern\":{\"fillmode\":\"overlay\",\"size\":10,\"solidity\":0.2}},\"type\":\"bar\"}],\"barpolar\":[{\"marker\":{\"line\":{\"color\":\"#E5ECF6\",\"width\":0.5},\"pattern\":{\"fillmode\":\"overlay\",\"size\":10,\"solidity\":0.2}},\"type\":\"barpolar\"}],\"carpet\":[{\"aaxis\":{\"endlinecolor\":\"#2a3f5f\",\"gridcolor\":\"white\",\"linecolor\":\"white\",\"minorgridcolor\":\"white\",\"startlinecolor\":\"#2a3f5f\"},\"baxis\":{\"endlinecolor\":\"#2a3f5f\",\"gridcolor\":\"white\",\"linecolor\":\"white\",\"minorgridcolor\":\"white\",\"startlinecolor\":\"#2a3f5f\"},\"type\":\"carpet\"}],\"choropleth\":[{\"colorbar\":{\"outlinewidth\":0,\"ticks\":\"\"},\"type\":\"choropleth\"}],\"contour\":[{\"colorbar\":{\"outlinewidth\":0,\"ticks\":\"\"},\"colorscale\":[[0.0,\"#0d0887\"],[0.1111111111111111,\"#46039f\"],[0.2222222222222222,\"#7201a8\"],[0.3333333333333333,\"#9c179e\"],[0.4444444444444444,\"#bd3786\"],[0.5555555555555556,\"#d8576b\"],[0.6666666666666666,\"#ed7953\"],[0.7777777777777778,\"#fb9f3a\"],[0.8888888888888888,\"#fdca26\"],[1.0,\"#f0f921\"]],\"type\":\"contour\"}],\"contourcarpet\":[{\"colorbar\":{\"outlinewidth\":0,\"ticks\":\"\"},\"type\":\"contourcarpet\"}],\"heatmap\":[{\"colorbar\":{\"outlinewidth\":0,\"ticks\":\"\"},\"colorscale\":[[0.0,\"#0d0887\"],[0.1111111111111111,\"#46039f\"],[0.2222222222222222,\"#7201a8\"],[0.3333333333333333,\"#9c179e\"],[0.4444444444444444,\"#bd3786\"],[0.5555555555555556,\"#d8576b\"],[0.6666666666666666,\"#ed7953\"],[0.7777777777777778,\"#fb9f3a\"],[0.8888888888888888,\"#fdca26\"],[1.0,\"#f0f921\"]],\"type\":\"heatmap\"}],\"heatmapgl\":[{\"colorbar\":{\"outlinewidth\":0,\"ticks\":\"\"},\"colorscale\":[[0.0,\"#0d0887\"],[0.1111111111111111,\"#46039f\"],[0.2222222222222222,\"#7201a8\"],[0.3333333333333333,\"#9c179e\"],[0.4444444444444444,\"#bd3786\"],[0.5555555555555556,\"#d8576b\"],[0.6666666666666666,\"#ed7953\"],[0.7777777777777778,\"#fb9f3a\"],[0.8888888888888888,\"#fdca26\"],[1.0,\"#f0f921\"]],\"type\":\"heatmapgl\"}],\"histogram\":[{\"marker\":{\"pattern\":{\"fillmode\":\"overlay\",\"size\":10,\"solidity\":0.2}},\"type\":\"histogram\"}],\"histogram2d\":[{\"colorbar\":{\"outlinewidth\":0,\"ticks\":\"\"},\"colorscale\":[[0.0,\"#0d0887\"],[0.1111111111111111,\"#46039f\"],[0.2222222222222222,\"#7201a8\"],[0.3333333333333333,\"#9c179e\"],[0.4444444444444444,\"#bd3786\"],[0.5555555555555556,\"#d8576b\"],[0.6666666666666666,\"#ed7953\"],[0.7777777777777778,\"#fb9f3a\"],[0.8888888888888888,\"#fdca26\"],[1.0,\"#f0f921\"]],\"type\":\"histogram2d\"}],\"histogram2dcontour\":[{\"colorbar\":{\"outlinewidth\":0,\"ticks\":\"\"},\"colorscale\":[[0.0,\"#0d0887\"],[0.1111111111111111,\"#46039f\"],[0.2222222222222222,\"#7201a8\"],[0.3333333333333333,\"#9c179e\"],[0.4444444444444444,\"#bd3786\"],[0.5555555555555556,\"#d8576b\"],[0.6666666666666666,\"#ed7953\"],[0.7777777777777778,\"#fb9f3a\"],[0.8888888888888888,\"#fdca26\"],[1.0,\"#f0f921\"]],\"type\":\"histogram2dcontour\"}],\"mesh3d\":[{\"colorbar\":{\"outlinewidth\":0,\"ticks\":\"\"},\"type\":\"mesh3d\"}],\"parcoords\":[{\"line\":{\"colorbar\":{\"outlinewidth\":0,\"ticks\":\"\"}},\"type\":\"parcoords\"}],\"pie\":[{\"automargin\":true,\"type\":\"pie\"}],\"scatter\":[{\"marker\":{\"colorbar\":{\"outlinewidth\":0,\"ticks\":\"\"}},\"type\":\"scatter\"}],\"scatter3d\":[{\"line\":{\"colorbar\":{\"outlinewidth\":0,\"ticks\":\"\"}},\"marker\":{\"colorbar\":{\"outlinewidth\":0,\"ticks\":\"\"}},\"type\":\"scatter3d\"}],\"scattercarpet\":[{\"marker\":{\"colorbar\":{\"outlinewidth\":0,\"ticks\":\"\"}},\"type\":\"scattercarpet\"}],\"scattergeo\":[{\"marker\":{\"colorbar\":{\"outlinewidth\":0,\"ticks\":\"\"}},\"type\":\"scattergeo\"}],\"scattergl\":[{\"marker\":{\"colorbar\":{\"outlinewidth\":0,\"ticks\":\"\"}},\"type\":\"scattergl\"}],\"scattermapbox\":[{\"marker\":{\"colorbar\":{\"outlinewidth\":0,\"ticks\":\"\"}},\"type\":\"scattermapbox\"}],\"scatterpolar\":[{\"marker\":{\"colorbar\":{\"outlinewidth\":0,\"ticks\":\"\"}},\"type\":\"scatterpolar\"}],\"scatterpolargl\":[{\"marker\":{\"colorbar\":{\"outlinewidth\":0,\"ticks\":\"\"}},\"type\":\"scatterpolargl\"}],\"scatterternary\":[{\"marker\":{\"colorbar\":{\"outlinewidth\":0,\"ticks\":\"\"}},\"type\":\"scatterternary\"}],\"surface\":[{\"colorbar\":{\"outlinewidth\":0,\"ticks\":\"\"},\"colorscale\":[[0.0,\"#0d0887\"],[0.1111111111111111,\"#46039f\"],[0.2222222222222222,\"#7201a8\"],[0.3333333333333333,\"#9c179e\"],[0.4444444444444444,\"#bd3786\"],[0.5555555555555556,\"#d8576b\"],[0.6666666666666666,\"#ed7953\"],[0.7777777777777778,\"#fb9f3a\"],[0.8888888888888888,\"#fdca26\"],[1.0,\"#f0f921\"]],\"type\":\"surface\"}],\"table\":[{\"cells\":{\"fill\":{\"color\":\"#EBF0F8\"},\"line\":{\"color\":\"white\"}},\"header\":{\"fill\":{\"color\":\"#C8D4E3\"},\"line\":{\"color\":\"white\"}},\"type\":\"table\"}]},\"layout\":{\"annotationdefaults\":{\"arrowcolor\":\"#2a3f5f\",\"arrowhead\":0,\"arrowwidth\":1},\"autotypenumbers\":\"strict\",\"coloraxis\":{\"colorbar\":{\"outlinewidth\":0,\"ticks\":\"\"}},\"colorscale\":{\"diverging\":[[0,\"#8e0152\"],[0.1,\"#c51b7d\"],[0.2,\"#de77ae\"],[0.3,\"#f1b6da\"],[0.4,\"#fde0ef\"],[0.5,\"#f7f7f7\"],[0.6,\"#e6f5d0\"],[0.7,\"#b8e186\"],[0.8,\"#7fbc41\"],[0.9,\"#4d9221\"],[1,\"#276419\"]],\"sequential\":[[0.0,\"#0d0887\"],[0.1111111111111111,\"#46039f\"],[0.2222222222222222,\"#7201a8\"],[0.3333333333333333,\"#9c179e\"],[0.4444444444444444,\"#bd3786\"],[0.5555555555555556,\"#d8576b\"],[0.6666666666666666,\"#ed7953\"],[0.7777777777777778,\"#fb9f3a\"],[0.8888888888888888,\"#fdca26\"],[1.0,\"#f0f921\"]],\"sequentialminus\":[[0.0,\"#0d0887\"],[0.1111111111111111,\"#46039f\"],[0.2222222222222222,\"#7201a8\"],[0.3333333333333333,\"#9c179e\"],[0.4444444444444444,\"#bd3786\"],[0.5555555555555556,\"#d8576b\"],[0.6666666666666666,\"#ed7953\"],[0.7777777777777778,\"#fb9f3a\"],[0.8888888888888888,\"#fdca26\"],[1.0,\"#f0f921\"]]},\"colorway\":[\"#636efa\",\"#EF553B\",\"#00cc96\",\"#ab63fa\",\"#FFA15A\",\"#19d3f3\",\"#FF6692\",\"#B6E880\",\"#FF97FF\",\"#FECB52\"],\"font\":{\"color\":\"#2a3f5f\"},\"geo\":{\"bgcolor\":\"white\",\"lakecolor\":\"white\",\"landcolor\":\"#E5ECF6\",\"showlakes\":true,\"showland\":true,\"subunitcolor\":\"white\"},\"hoverlabel\":{\"align\":\"left\"},\"hovermode\":\"closest\",\"mapbox\":{\"style\":\"light\"},\"paper_bgcolor\":\"white\",\"plot_bgcolor\":\"#E5ECF6\",\"polar\":{\"angularaxis\":{\"gridcolor\":\"white\",\"linecolor\":\"white\",\"ticks\":\"\"},\"bgcolor\":\"#E5ECF6\",\"radialaxis\":{\"gridcolor\":\"white\",\"linecolor\":\"white\",\"ticks\":\"\"}},\"scene\":{\"xaxis\":{\"backgroundcolor\":\"#E5ECF6\",\"gridcolor\":\"white\",\"gridwidth\":2,\"linecolor\":\"white\",\"showbackground\":true,\"ticks\":\"\",\"zerolinecolor\":\"white\"},\"yaxis\":{\"backgroundcolor\":\"#E5ECF6\",\"gridcolor\":\"white\",\"gridwidth\":2,\"linecolor\":\"white\",\"showbackground\":true,\"ticks\":\"\",\"zerolinecolor\":\"white\"},\"zaxis\":{\"backgroundcolor\":\"#E5ECF6\",\"gridcolor\":\"white\",\"gridwidth\":2,\"linecolor\":\"white\",\"showbackground\":true,\"ticks\":\"\",\"zerolinecolor\":\"white\"}},\"shapedefaults\":{\"line\":{\"color\":\"#2a3f5f\"}},\"ternary\":{\"aaxis\":{\"gridcolor\":\"white\",\"linecolor\":\"white\",\"ticks\":\"\"},\"baxis\":{\"gridcolor\":\"white\",\"linecolor\":\"white\",\"ticks\":\"\"},\"bgcolor\":\"#E5ECF6\",\"caxis\":{\"gridcolor\":\"white\",\"linecolor\":\"white\",\"ticks\":\"\"}},\"title\":{\"x\":0.05},\"xaxis\":{\"automargin\":true,\"gridcolor\":\"white\",\"linecolor\":\"white\",\"ticks\":\"\",\"title\":{\"standoff\":15},\"zerolinecolor\":\"white\",\"zerolinewidth\":2},\"yaxis\":{\"automargin\":true,\"gridcolor\":\"white\",\"linecolor\":\"white\",\"ticks\":\"\",\"title\":{\"standoff\":15},\"zerolinecolor\":\"white\",\"zerolinewidth\":2}}},\"xaxis\":{\"anchor\":\"y\",\"domain\":[0.0,1.0],\"title\":{\"text\":\"AvgTaxesAsPctCigarettePrice\"}},\"yaxis\":{\"anchor\":\"x\",\"domain\":[0.0,1.0],\"title\":{\"text\":\"EnforceBansTobaccoAd\"}}},                        {\"responsive\": true}                    ).then(function(){\n",
       "                            \n",
       "var gd = document.getElementById('7bc0adc4-a17a-42ff-93ea-58ee1ee28573');\n",
       "var x = new MutationObserver(function (mutations, observer) {{\n",
       "        var display = window.getComputedStyle(gd).display;\n",
       "        if (!display || display === 'none') {{\n",
       "            console.log([gd, 'removed!']);\n",
       "            Plotly.purge(gd);\n",
       "            observer.disconnect();\n",
       "        }}\n",
       "}});\n",
       "\n",
       "// Listen for the removal of the full notebook cells\n",
       "var notebookContainer = gd.closest('#notebook-container');\n",
       "if (notebookContainer) {{\n",
       "    x.observe(notebookContainer, {childList: true});\n",
       "}}\n",
       "\n",
       "// Listen for the clearing of the current output cell\n",
       "var outputEl = gd.closest('.output');\n",
       "if (outputEl) {{\n",
       "    x.observe(outputEl, {childList: true});\n",
       "}}\n",
       "\n",
       "                        })                };                });            </script>        </div>"
      ]
     },
     "metadata": {},
     "output_type": "display_data"
    }
   ],
   "source": [
    "px.scatter(stop_smoking_df, x=\"AvgTaxesAsPctCigarettePrice\", y=\"EnforceBansTobaccoAd\", size=\"HelpSize\", hover_name=\"Entity\")"
   ]
  },
  {
   "cell_type": "markdown",
   "id": "43a93e3f",
   "metadata": {},
   "source": [
    "## Deaths"
   ]
  },
  {
   "cell_type": "markdown",
   "id": "5e54e6d1",
   "metadata": {},
   "source": [
    "Notes\n",
    "- China surprisingly low? underreported?"
   ]
  },
  {
   "cell_type": "code",
   "execution_count": 17,
   "id": "4683775e",
   "metadata": {},
   "outputs": [
    {
     "data": {
      "text/html": [
       "<div>\n",
       "<style scoped>\n",
       "    .dataframe tbody tr th:only-of-type {\n",
       "        vertical-align: middle;\n",
       "    }\n",
       "\n",
       "    .dataframe tbody tr th {\n",
       "        vertical-align: top;\n",
       "    }\n",
       "\n",
       "    .dataframe thead th {\n",
       "        text-align: right;\n",
       "    }\n",
       "</style>\n",
       "<table border=\"1\" class=\"dataframe\">\n",
       "  <thead>\n",
       "    <tr style=\"text-align: right;\">\n",
       "      <th></th>\n",
       "      <th>Entity</th>\n",
       "      <th>Code</th>\n",
       "      <th>Year</th>\n",
       "      <th>All_ages</th>\n",
       "      <th>Under_5</th>\n",
       "      <th>5_14</th>\n",
       "      <th>50_69</th>\n",
       "      <th>15_49</th>\n",
       "      <th>70_plus</th>\n",
       "    </tr>\n",
       "  </thead>\n",
       "  <tbody>\n",
       "    <tr>\n",
       "      <th>0</th>\n",
       "      <td>Afghanistan</td>\n",
       "      <td>AFG</td>\n",
       "      <td>1990</td>\n",
       "      <td>63.895905</td>\n",
       "      <td>NaN</td>\n",
       "      <td>NaN</td>\n",
       "      <td>267.230009</td>\n",
       "      <td>16.589519</td>\n",
       "      <td>679.006755</td>\n",
       "    </tr>\n",
       "    <tr>\n",
       "      <th>1</th>\n",
       "      <td>Afghanistan</td>\n",
       "      <td>AFG</td>\n",
       "      <td>1991</td>\n",
       "      <td>61.846347</td>\n",
       "      <td>NaN</td>\n",
       "      <td>NaN</td>\n",
       "      <td>266.975516</td>\n",
       "      <td>15.456913</td>\n",
       "      <td>677.617648</td>\n",
       "    </tr>\n",
       "    <tr>\n",
       "      <th>2</th>\n",
       "      <td>Afghanistan</td>\n",
       "      <td>AFG</td>\n",
       "      <td>1992</td>\n",
       "      <td>53.436511</td>\n",
       "      <td>NaN</td>\n",
       "      <td>NaN</td>\n",
       "      <td>266.430053</td>\n",
       "      <td>12.767999</td>\n",
       "      <td>679.505810</td>\n",
       "    </tr>\n",
       "    <tr>\n",
       "      <th>3</th>\n",
       "      <td>Afghanistan</td>\n",
       "      <td>AFG</td>\n",
       "      <td>1993</td>\n",
       "      <td>47.044347</td>\n",
       "      <td>NaN</td>\n",
       "      <td>NaN</td>\n",
       "      <td>267.969428</td>\n",
       "      <td>11.000425</td>\n",
       "      <td>683.973588</td>\n",
       "    </tr>\n",
       "    <tr>\n",
       "      <th>4</th>\n",
       "      <td>Afghanistan</td>\n",
       "      <td>AFG</td>\n",
       "      <td>1994</td>\n",
       "      <td>45.799808</td>\n",
       "      <td>NaN</td>\n",
       "      <td>NaN</td>\n",
       "      <td>272.403687</td>\n",
       "      <td>10.738020</td>\n",
       "      <td>691.007773</td>\n",
       "    </tr>\n",
       "  </tbody>\n",
       "</table>\n",
       "</div>"
      ],
      "text/plain": [
       "        Entity Code  Year   All_ages  Under_5  5_14       50_69      15_49  \\\n",
       "0  Afghanistan  AFG  1990  63.895905      NaN   NaN  267.230009  16.589519   \n",
       "1  Afghanistan  AFG  1991  61.846347      NaN   NaN  266.975516  15.456913   \n",
       "2  Afghanistan  AFG  1992  53.436511      NaN   NaN  266.430053  12.767999   \n",
       "3  Afghanistan  AFG  1993  47.044347      NaN   NaN  267.969428  11.000425   \n",
       "4  Afghanistan  AFG  1994  45.799808      NaN   NaN  272.403687  10.738020   \n",
       "\n",
       "      70_plus  \n",
       "0  679.006755  \n",
       "1  677.617648  \n",
       "2  679.505810  \n",
       "3  683.973588  \n",
       "4  691.007773  "
      ]
     },
     "execution_count": 17,
     "metadata": {},
     "output_type": "execute_result"
    }
   ],
   "source": [
    "death_df.head()"
   ]
  },
  {
   "cell_type": "code",
   "execution_count": 29,
   "id": "ff19c42f",
   "metadata": {},
   "outputs": [
    {
     "data": {
      "text/plain": [
       "(1990, 2017)"
      ]
     },
     "execution_count": 29,
     "metadata": {},
     "output_type": "execute_result"
    }
   ],
   "source": [
    "death_df[\"Year\"].min(), death_df[\"Year\"].max()"
   ]
  },
  {
   "cell_type": "code",
   "execution_count": 32,
   "id": "707c97ac",
   "metadata": {},
   "outputs": [
    {
     "data": {
      "text/plain": [
       "231"
      ]
     },
     "execution_count": 32,
     "metadata": {},
     "output_type": "execute_result"
    }
   ],
   "source": [
    "len(death_df[\"Entity\"].unique())"
   ]
  },
  {
   "cell_type": "code",
   "execution_count": 33,
   "id": "34f88d7a",
   "metadata": {},
   "outputs": [],
   "source": [
    "countries = [\"Canada\", \"China\", \"United States\", \"France\", \"Greece\"]"
   ]
  },
  {
   "cell_type": "code",
   "execution_count": 34,
   "id": "e1e0dcbf",
   "metadata": {},
   "outputs": [
    {
     "data": {
      "application/vnd.plotly.v1+json": {
       "config": {
        "plotlyServerURL": "https://plot.ly"
       },
       "data": [
        {
         "hovertemplate": "Entity=Canada<br>Year=%{x}<br>All_ages=%{y}<extra></extra>",
         "legendgroup": "Canada",
         "line": {
          "color": "#636efa",
          "dash": "solid"
         },
         "marker": {
          "symbol": "circle"
         },
         "mode": "lines",
         "name": "Canada",
         "orientation": "v",
         "showlegend": true,
         "type": "scatter",
         "x": [
          1990,
          1991,
          1992,
          1993,
          1994,
          1995,
          1996,
          1997,
          1998,
          1999,
          2000,
          2001,
          2002,
          2003,
          2004,
          2005,
          2006,
          2007,
          2008,
          2009,
          2010,
          2011,
          2012,
          2013,
          2014,
          2015,
          2016,
          2017
         ],
         "xaxis": "x",
         "y": [
          202.43167839222423,
          197.58469624197969,
          193.87349404109492,
          192.9583957537284,
          188.94977319479133,
          187.23458520547564,
          183.2116008173468,
          178.57742676148794,
          175.06781039400735,
          171.06077033720612,
          165.78904069687576,
          162.49637791742518,
          160.49195909072512,
          158.83332850911924,
          155.4721246390922,
          153.93360373660866,
          149.68076465443218,
          148.95385633670412,
          147.0661658001585,
          143.25424830581525,
          138.98934988361998,
          135.71431655685484,
          136.48743871902096,
          134.19578741358083,
          136.6507685668263,
          138.04237803154876,
          136.82377805029554,
          137.18280423132384
         ],
         "yaxis": "y"
        },
        {
         "hovertemplate": "Entity=China<br>Year=%{x}<br>All_ages=%{y}<extra></extra>",
         "legendgroup": "China",
         "line": {
          "color": "#EF553B",
          "dash": "solid"
         },
         "marker": {
          "symbol": "circle"
         },
         "mode": "lines",
         "name": "China",
         "orientation": "v",
         "showlegend": true,
         "type": "scatter",
         "x": [
          1990,
          1991,
          1992,
          1993,
          1994,
          1995,
          1996,
          1997,
          1998,
          1999,
          2000,
          2001,
          2002,
          2003,
          2004,
          2005,
          2006,
          2007,
          2008,
          2009,
          2010,
          2011,
          2012,
          2013,
          2014,
          2015,
          2016,
          2017
         ],
         "xaxis": "x",
         "y": [
          103.9645779112198,
          107.09510794912336,
          109.51886227092513,
          111.7377517603646,
          113.68616385183968,
          116.2501140199796,
          118.6421622719691,
          120.49446403551838,
          123.53140204179914,
          125.66272945403692,
          128.20913924477208,
          129.7297381615315,
          132.26524898444848,
          135.60530501993375,
          136.268302690713,
          133.21111681402323,
          128.8551942156606,
          127.81365731406164,
          128.97120097968153,
          131.62187802469353,
          134.7466610256244,
          136.92590325699948,
          138.5912376280007,
          138.25392774785556,
          143.51021546953538,
          150.56707673460696,
          154.93051260495216,
          155.58818579342451
         ],
         "yaxis": "y"
        },
        {
         "hovertemplate": "Entity=France<br>Year=%{x}<br>All_ages=%{y}<extra></extra>",
         "legendgroup": "France",
         "line": {
          "color": "#00cc96",
          "dash": "solid"
         },
         "marker": {
          "symbol": "circle"
         },
         "mode": "lines",
         "name": "France",
         "orientation": "v",
         "showlegend": true,
         "type": "scatter",
         "x": [
          1990,
          1991,
          1992,
          1993,
          1994,
          1995,
          1996,
          1997,
          1998,
          1999,
          2000,
          2001,
          2002,
          2003,
          2004,
          2005,
          2006,
          2007,
          2008,
          2009,
          2010,
          2011,
          2012,
          2013,
          2014,
          2015,
          2016,
          2017
         ],
         "xaxis": "x",
         "y": [
          158.72720543935048,
          157.5769707446189,
          156.72839117408728,
          157.7699432086024,
          156.04997385471634,
          154.78308510918174,
          153.00515142610922,
          150.5628338614736,
          153.12803357375012,
          151.64082588551312,
          147.7265160277904,
          146.77566778454897,
          145.7535119099255,
          144.25923731328808,
          136.77770492428158,
          137.20474699234964,
          134.91052564432286,
          133.15705588452002,
          132.6795817043989,
          133.02502119183765,
          131.2532539468674,
          130.3207167872473,
          129.0449816133017,
          126.89217951548878,
          123.50449317625184,
          123.18943932032934,
          120.8350761815106,
          120.224099419814
         ],
         "yaxis": "y"
        },
        {
         "hovertemplate": "Entity=Greece<br>Year=%{x}<br>All_ages=%{y}<extra></extra>",
         "legendgroup": "Greece",
         "line": {
          "color": "#ab63fa",
          "dash": "solid"
         },
         "marker": {
          "symbol": "circle"
         },
         "mode": "lines",
         "name": "Greece",
         "orientation": "v",
         "showlegend": true,
         "type": "scatter",
         "x": [
          1990,
          1991,
          1992,
          1993,
          1994,
          1995,
          1996,
          1997,
          1998,
          1999,
          2000,
          2001,
          2002,
          2003,
          2004,
          2005,
          2006,
          2007,
          2008,
          2009,
          2010,
          2011,
          2012,
          2013,
          2014,
          2015,
          2016,
          2017
         ],
         "xaxis": "x",
         "y": [
          202.2204741682743,
          206.6958607846261,
          209.03139162561428,
          205.28635736846192,
          204.6950680697369,
          206.60708348942612,
          208.3253599504528,
          206.88319385697815,
          209.2710821976778,
          212.9403120970487,
          213.27297723246463,
          211.4361636919496,
          208.36472023371488,
          211.22673498724012,
          212.1535940596374,
          209.8730114299297,
          207.0243859530464,
          215.86145850374345,
          213.12403959605476,
          212.4812357155364,
          209.87469767254132,
          216.7200612832288,
          222.59524180758996,
          218.07028040564109,
          219.50924360192545,
          227.5367055349412,
          231.4334462392696,
          234.57544440562148
         ],
         "yaxis": "y"
        },
        {
         "hovertemplate": "Entity=United States<br>Year=%{x}<br>All_ages=%{y}<extra></extra>",
         "legendgroup": "United States",
         "line": {
          "color": "#FFA15A",
          "dash": "solid"
         },
         "marker": {
          "symbol": "circle"
         },
         "mode": "lines",
         "name": "United States",
         "orientation": "v",
         "showlegend": true,
         "type": "scatter",
         "x": [
          1990,
          1991,
          1992,
          1993,
          1994,
          1995,
          1996,
          1997,
          1998,
          1999,
          2000,
          2001,
          2002,
          2003,
          2004,
          2005,
          2006,
          2007,
          2008,
          2009,
          2010,
          2011,
          2012,
          2013,
          2014,
          2015,
          2016,
          2017
         ],
         "xaxis": "x",
         "y": [
          218.20518765626755,
          211.0725596573673,
          202.98612000200123,
          201.38202611054732,
          195.7392131663691,
          192.2746034069789,
          186.2948675502754,
          180.94099894032792,
          177.15421184250755,
          175.36384755209835,
          172.08977991602188,
          169.1342230683913,
          166.48754947276208,
          163.0568724985858,
          156.85365901048587,
          155.3911550270852,
          151.27753546434693,
          146.8322219230504,
          144.24753575377858,
          140.6459483428326,
          136.47197741888542,
          135.56482468482676,
          133.39305557722287,
          131.99484120283807,
          130.4972911222026,
          129.52081802325512,
          129.99027539664303,
          129.91396469333628
         ],
         "yaxis": "y"
        }
       ],
       "layout": {
        "legend": {
         "title": {
          "text": "Entity"
         },
         "tracegroupgap": 0
        },
        "margin": {
         "t": 60
        },
        "template": {
         "data": {
          "bar": [
           {
            "error_x": {
             "color": "#2a3f5f"
            },
            "error_y": {
             "color": "#2a3f5f"
            },
            "marker": {
             "line": {
              "color": "#E5ECF6",
              "width": 0.5
             },
             "pattern": {
              "fillmode": "overlay",
              "size": 10,
              "solidity": 0.2
             }
            },
            "type": "bar"
           }
          ],
          "barpolar": [
           {
            "marker": {
             "line": {
              "color": "#E5ECF6",
              "width": 0.5
             },
             "pattern": {
              "fillmode": "overlay",
              "size": 10,
              "solidity": 0.2
             }
            },
            "type": "barpolar"
           }
          ],
          "carpet": [
           {
            "aaxis": {
             "endlinecolor": "#2a3f5f",
             "gridcolor": "white",
             "linecolor": "white",
             "minorgridcolor": "white",
             "startlinecolor": "#2a3f5f"
            },
            "baxis": {
             "endlinecolor": "#2a3f5f",
             "gridcolor": "white",
             "linecolor": "white",
             "minorgridcolor": "white",
             "startlinecolor": "#2a3f5f"
            },
            "type": "carpet"
           }
          ],
          "choropleth": [
           {
            "colorbar": {
             "outlinewidth": 0,
             "ticks": ""
            },
            "type": "choropleth"
           }
          ],
          "contour": [
           {
            "colorbar": {
             "outlinewidth": 0,
             "ticks": ""
            },
            "colorscale": [
             [
              0,
              "#0d0887"
             ],
             [
              0.1111111111111111,
              "#46039f"
             ],
             [
              0.2222222222222222,
              "#7201a8"
             ],
             [
              0.3333333333333333,
              "#9c179e"
             ],
             [
              0.4444444444444444,
              "#bd3786"
             ],
             [
              0.5555555555555556,
              "#d8576b"
             ],
             [
              0.6666666666666666,
              "#ed7953"
             ],
             [
              0.7777777777777778,
              "#fb9f3a"
             ],
             [
              0.8888888888888888,
              "#fdca26"
             ],
             [
              1,
              "#f0f921"
             ]
            ],
            "type": "contour"
           }
          ],
          "contourcarpet": [
           {
            "colorbar": {
             "outlinewidth": 0,
             "ticks": ""
            },
            "type": "contourcarpet"
           }
          ],
          "heatmap": [
           {
            "colorbar": {
             "outlinewidth": 0,
             "ticks": ""
            },
            "colorscale": [
             [
              0,
              "#0d0887"
             ],
             [
              0.1111111111111111,
              "#46039f"
             ],
             [
              0.2222222222222222,
              "#7201a8"
             ],
             [
              0.3333333333333333,
              "#9c179e"
             ],
             [
              0.4444444444444444,
              "#bd3786"
             ],
             [
              0.5555555555555556,
              "#d8576b"
             ],
             [
              0.6666666666666666,
              "#ed7953"
             ],
             [
              0.7777777777777778,
              "#fb9f3a"
             ],
             [
              0.8888888888888888,
              "#fdca26"
             ],
             [
              1,
              "#f0f921"
             ]
            ],
            "type": "heatmap"
           }
          ],
          "heatmapgl": [
           {
            "colorbar": {
             "outlinewidth": 0,
             "ticks": ""
            },
            "colorscale": [
             [
              0,
              "#0d0887"
             ],
             [
              0.1111111111111111,
              "#46039f"
             ],
             [
              0.2222222222222222,
              "#7201a8"
             ],
             [
              0.3333333333333333,
              "#9c179e"
             ],
             [
              0.4444444444444444,
              "#bd3786"
             ],
             [
              0.5555555555555556,
              "#d8576b"
             ],
             [
              0.6666666666666666,
              "#ed7953"
             ],
             [
              0.7777777777777778,
              "#fb9f3a"
             ],
             [
              0.8888888888888888,
              "#fdca26"
             ],
             [
              1,
              "#f0f921"
             ]
            ],
            "type": "heatmapgl"
           }
          ],
          "histogram": [
           {
            "marker": {
             "pattern": {
              "fillmode": "overlay",
              "size": 10,
              "solidity": 0.2
             }
            },
            "type": "histogram"
           }
          ],
          "histogram2d": [
           {
            "colorbar": {
             "outlinewidth": 0,
             "ticks": ""
            },
            "colorscale": [
             [
              0,
              "#0d0887"
             ],
             [
              0.1111111111111111,
              "#46039f"
             ],
             [
              0.2222222222222222,
              "#7201a8"
             ],
             [
              0.3333333333333333,
              "#9c179e"
             ],
             [
              0.4444444444444444,
              "#bd3786"
             ],
             [
              0.5555555555555556,
              "#d8576b"
             ],
             [
              0.6666666666666666,
              "#ed7953"
             ],
             [
              0.7777777777777778,
              "#fb9f3a"
             ],
             [
              0.8888888888888888,
              "#fdca26"
             ],
             [
              1,
              "#f0f921"
             ]
            ],
            "type": "histogram2d"
           }
          ],
          "histogram2dcontour": [
           {
            "colorbar": {
             "outlinewidth": 0,
             "ticks": ""
            },
            "colorscale": [
             [
              0,
              "#0d0887"
             ],
             [
              0.1111111111111111,
              "#46039f"
             ],
             [
              0.2222222222222222,
              "#7201a8"
             ],
             [
              0.3333333333333333,
              "#9c179e"
             ],
             [
              0.4444444444444444,
              "#bd3786"
             ],
             [
              0.5555555555555556,
              "#d8576b"
             ],
             [
              0.6666666666666666,
              "#ed7953"
             ],
             [
              0.7777777777777778,
              "#fb9f3a"
             ],
             [
              0.8888888888888888,
              "#fdca26"
             ],
             [
              1,
              "#f0f921"
             ]
            ],
            "type": "histogram2dcontour"
           }
          ],
          "mesh3d": [
           {
            "colorbar": {
             "outlinewidth": 0,
             "ticks": ""
            },
            "type": "mesh3d"
           }
          ],
          "parcoords": [
           {
            "line": {
             "colorbar": {
              "outlinewidth": 0,
              "ticks": ""
             }
            },
            "type": "parcoords"
           }
          ],
          "pie": [
           {
            "automargin": true,
            "type": "pie"
           }
          ],
          "scatter": [
           {
            "marker": {
             "colorbar": {
              "outlinewidth": 0,
              "ticks": ""
             }
            },
            "type": "scatter"
           }
          ],
          "scatter3d": [
           {
            "line": {
             "colorbar": {
              "outlinewidth": 0,
              "ticks": ""
             }
            },
            "marker": {
             "colorbar": {
              "outlinewidth": 0,
              "ticks": ""
             }
            },
            "type": "scatter3d"
           }
          ],
          "scattercarpet": [
           {
            "marker": {
             "colorbar": {
              "outlinewidth": 0,
              "ticks": ""
             }
            },
            "type": "scattercarpet"
           }
          ],
          "scattergeo": [
           {
            "marker": {
             "colorbar": {
              "outlinewidth": 0,
              "ticks": ""
             }
            },
            "type": "scattergeo"
           }
          ],
          "scattergl": [
           {
            "marker": {
             "colorbar": {
              "outlinewidth": 0,
              "ticks": ""
             }
            },
            "type": "scattergl"
           }
          ],
          "scattermapbox": [
           {
            "marker": {
             "colorbar": {
              "outlinewidth": 0,
              "ticks": ""
             }
            },
            "type": "scattermapbox"
           }
          ],
          "scatterpolar": [
           {
            "marker": {
             "colorbar": {
              "outlinewidth": 0,
              "ticks": ""
             }
            },
            "type": "scatterpolar"
           }
          ],
          "scatterpolargl": [
           {
            "marker": {
             "colorbar": {
              "outlinewidth": 0,
              "ticks": ""
             }
            },
            "type": "scatterpolargl"
           }
          ],
          "scatterternary": [
           {
            "marker": {
             "colorbar": {
              "outlinewidth": 0,
              "ticks": ""
             }
            },
            "type": "scatterternary"
           }
          ],
          "surface": [
           {
            "colorbar": {
             "outlinewidth": 0,
             "ticks": ""
            },
            "colorscale": [
             [
              0,
              "#0d0887"
             ],
             [
              0.1111111111111111,
              "#46039f"
             ],
             [
              0.2222222222222222,
              "#7201a8"
             ],
             [
              0.3333333333333333,
              "#9c179e"
             ],
             [
              0.4444444444444444,
              "#bd3786"
             ],
             [
              0.5555555555555556,
              "#d8576b"
             ],
             [
              0.6666666666666666,
              "#ed7953"
             ],
             [
              0.7777777777777778,
              "#fb9f3a"
             ],
             [
              0.8888888888888888,
              "#fdca26"
             ],
             [
              1,
              "#f0f921"
             ]
            ],
            "type": "surface"
           }
          ],
          "table": [
           {
            "cells": {
             "fill": {
              "color": "#EBF0F8"
             },
             "line": {
              "color": "white"
             }
            },
            "header": {
             "fill": {
              "color": "#C8D4E3"
             },
             "line": {
              "color": "white"
             }
            },
            "type": "table"
           }
          ]
         },
         "layout": {
          "annotationdefaults": {
           "arrowcolor": "#2a3f5f",
           "arrowhead": 0,
           "arrowwidth": 1
          },
          "autotypenumbers": "strict",
          "coloraxis": {
           "colorbar": {
            "outlinewidth": 0,
            "ticks": ""
           }
          },
          "colorscale": {
           "diverging": [
            [
             0,
             "#8e0152"
            ],
            [
             0.1,
             "#c51b7d"
            ],
            [
             0.2,
             "#de77ae"
            ],
            [
             0.3,
             "#f1b6da"
            ],
            [
             0.4,
             "#fde0ef"
            ],
            [
             0.5,
             "#f7f7f7"
            ],
            [
             0.6,
             "#e6f5d0"
            ],
            [
             0.7,
             "#b8e186"
            ],
            [
             0.8,
             "#7fbc41"
            ],
            [
             0.9,
             "#4d9221"
            ],
            [
             1,
             "#276419"
            ]
           ],
           "sequential": [
            [
             0,
             "#0d0887"
            ],
            [
             0.1111111111111111,
             "#46039f"
            ],
            [
             0.2222222222222222,
             "#7201a8"
            ],
            [
             0.3333333333333333,
             "#9c179e"
            ],
            [
             0.4444444444444444,
             "#bd3786"
            ],
            [
             0.5555555555555556,
             "#d8576b"
            ],
            [
             0.6666666666666666,
             "#ed7953"
            ],
            [
             0.7777777777777778,
             "#fb9f3a"
            ],
            [
             0.8888888888888888,
             "#fdca26"
            ],
            [
             1,
             "#f0f921"
            ]
           ],
           "sequentialminus": [
            [
             0,
             "#0d0887"
            ],
            [
             0.1111111111111111,
             "#46039f"
            ],
            [
             0.2222222222222222,
             "#7201a8"
            ],
            [
             0.3333333333333333,
             "#9c179e"
            ],
            [
             0.4444444444444444,
             "#bd3786"
            ],
            [
             0.5555555555555556,
             "#d8576b"
            ],
            [
             0.6666666666666666,
             "#ed7953"
            ],
            [
             0.7777777777777778,
             "#fb9f3a"
            ],
            [
             0.8888888888888888,
             "#fdca26"
            ],
            [
             1,
             "#f0f921"
            ]
           ]
          },
          "colorway": [
           "#636efa",
           "#EF553B",
           "#00cc96",
           "#ab63fa",
           "#FFA15A",
           "#19d3f3",
           "#FF6692",
           "#B6E880",
           "#FF97FF",
           "#FECB52"
          ],
          "font": {
           "color": "#2a3f5f"
          },
          "geo": {
           "bgcolor": "white",
           "lakecolor": "white",
           "landcolor": "#E5ECF6",
           "showlakes": true,
           "showland": true,
           "subunitcolor": "white"
          },
          "hoverlabel": {
           "align": "left"
          },
          "hovermode": "closest",
          "mapbox": {
           "style": "light"
          },
          "paper_bgcolor": "white",
          "plot_bgcolor": "#E5ECF6",
          "polar": {
           "angularaxis": {
            "gridcolor": "white",
            "linecolor": "white",
            "ticks": ""
           },
           "bgcolor": "#E5ECF6",
           "radialaxis": {
            "gridcolor": "white",
            "linecolor": "white",
            "ticks": ""
           }
          },
          "scene": {
           "xaxis": {
            "backgroundcolor": "#E5ECF6",
            "gridcolor": "white",
            "gridwidth": 2,
            "linecolor": "white",
            "showbackground": true,
            "ticks": "",
            "zerolinecolor": "white"
           },
           "yaxis": {
            "backgroundcolor": "#E5ECF6",
            "gridcolor": "white",
            "gridwidth": 2,
            "linecolor": "white",
            "showbackground": true,
            "ticks": "",
            "zerolinecolor": "white"
           },
           "zaxis": {
            "backgroundcolor": "#E5ECF6",
            "gridcolor": "white",
            "gridwidth": 2,
            "linecolor": "white",
            "showbackground": true,
            "ticks": "",
            "zerolinecolor": "white"
           }
          },
          "shapedefaults": {
           "line": {
            "color": "#2a3f5f"
           }
          },
          "ternary": {
           "aaxis": {
            "gridcolor": "white",
            "linecolor": "white",
            "ticks": ""
           },
           "baxis": {
            "gridcolor": "white",
            "linecolor": "white",
            "ticks": ""
           },
           "bgcolor": "#E5ECF6",
           "caxis": {
            "gridcolor": "white",
            "linecolor": "white",
            "ticks": ""
           }
          },
          "title": {
           "x": 0.05
          },
          "xaxis": {
           "automargin": true,
           "gridcolor": "white",
           "linecolor": "white",
           "ticks": "",
           "title": {
            "standoff": 15
           },
           "zerolinecolor": "white",
           "zerolinewidth": 2
          },
          "yaxis": {
           "automargin": true,
           "gridcolor": "white",
           "linecolor": "white",
           "ticks": "",
           "title": {
            "standoff": 15
           },
           "zerolinecolor": "white",
           "zerolinewidth": 2
          }
         }
        },
        "xaxis": {
         "anchor": "y",
         "domain": [
          0,
          1
         ],
         "title": {
          "text": "Year"
         }
        },
        "yaxis": {
         "anchor": "x",
         "domain": [
          0,
          1
         ],
         "title": {
          "text": "All_ages"
         }
        }
       }
      },
      "text/html": [
       "<div>                            <div id=\"7c7d699c-e895-44c1-aee6-96b828ebe84a\" class=\"plotly-graph-div\" style=\"height:525px; width:100%;\"></div>            <script type=\"text/javascript\">                require([\"plotly\"], function(Plotly) {                    window.PLOTLYENV=window.PLOTLYENV || {};                                    if (document.getElementById(\"7c7d699c-e895-44c1-aee6-96b828ebe84a\")) {                    Plotly.newPlot(                        \"7c7d699c-e895-44c1-aee6-96b828ebe84a\",                        [{\"hovertemplate\":\"Entity=Canada<br>Year=%{x}<br>All_ages=%{y}<extra></extra>\",\"legendgroup\":\"Canada\",\"line\":{\"color\":\"#636efa\",\"dash\":\"solid\"},\"marker\":{\"symbol\":\"circle\"},\"mode\":\"lines\",\"name\":\"Canada\",\"orientation\":\"v\",\"showlegend\":true,\"type\":\"scatter\",\"x\":[1990,1991,1992,1993,1994,1995,1996,1997,1998,1999,2000,2001,2002,2003,2004,2005,2006,2007,2008,2009,2010,2011,2012,2013,2014,2015,2016,2017],\"xaxis\":\"x\",\"y\":[202.43167839222423,197.58469624197969,193.87349404109492,192.9583957537284,188.94977319479133,187.23458520547564,183.2116008173468,178.57742676148794,175.06781039400735,171.06077033720612,165.78904069687576,162.49637791742518,160.49195909072512,158.83332850911924,155.4721246390922,153.93360373660866,149.68076465443218,148.95385633670412,147.0661658001585,143.25424830581525,138.98934988361998,135.71431655685484,136.48743871902096,134.19578741358083,136.6507685668263,138.04237803154876,136.82377805029554,137.18280423132384],\"yaxis\":\"y\"},{\"hovertemplate\":\"Entity=China<br>Year=%{x}<br>All_ages=%{y}<extra></extra>\",\"legendgroup\":\"China\",\"line\":{\"color\":\"#EF553B\",\"dash\":\"solid\"},\"marker\":{\"symbol\":\"circle\"},\"mode\":\"lines\",\"name\":\"China\",\"orientation\":\"v\",\"showlegend\":true,\"type\":\"scatter\",\"x\":[1990,1991,1992,1993,1994,1995,1996,1997,1998,1999,2000,2001,2002,2003,2004,2005,2006,2007,2008,2009,2010,2011,2012,2013,2014,2015,2016,2017],\"xaxis\":\"x\",\"y\":[103.9645779112198,107.09510794912336,109.51886227092513,111.7377517603646,113.68616385183968,116.2501140199796,118.6421622719691,120.49446403551838,123.53140204179914,125.66272945403692,128.20913924477208,129.7297381615315,132.26524898444848,135.60530501993375,136.268302690713,133.21111681402323,128.8551942156606,127.81365731406164,128.97120097968153,131.62187802469353,134.7466610256244,136.92590325699948,138.5912376280007,138.25392774785556,143.51021546953538,150.56707673460696,154.93051260495216,155.58818579342451],\"yaxis\":\"y\"},{\"hovertemplate\":\"Entity=France<br>Year=%{x}<br>All_ages=%{y}<extra></extra>\",\"legendgroup\":\"France\",\"line\":{\"color\":\"#00cc96\",\"dash\":\"solid\"},\"marker\":{\"symbol\":\"circle\"},\"mode\":\"lines\",\"name\":\"France\",\"orientation\":\"v\",\"showlegend\":true,\"type\":\"scatter\",\"x\":[1990,1991,1992,1993,1994,1995,1996,1997,1998,1999,2000,2001,2002,2003,2004,2005,2006,2007,2008,2009,2010,2011,2012,2013,2014,2015,2016,2017],\"xaxis\":\"x\",\"y\":[158.72720543935048,157.5769707446189,156.72839117408728,157.7699432086024,156.04997385471634,154.78308510918174,153.00515142610922,150.5628338614736,153.12803357375012,151.64082588551312,147.7265160277904,146.77566778454897,145.7535119099255,144.25923731328808,136.77770492428158,137.20474699234964,134.91052564432286,133.15705588452002,132.6795817043989,133.02502119183765,131.2532539468674,130.3207167872473,129.0449816133017,126.89217951548878,123.50449317625184,123.18943932032934,120.8350761815106,120.224099419814],\"yaxis\":\"y\"},{\"hovertemplate\":\"Entity=Greece<br>Year=%{x}<br>All_ages=%{y}<extra></extra>\",\"legendgroup\":\"Greece\",\"line\":{\"color\":\"#ab63fa\",\"dash\":\"solid\"},\"marker\":{\"symbol\":\"circle\"},\"mode\":\"lines\",\"name\":\"Greece\",\"orientation\":\"v\",\"showlegend\":true,\"type\":\"scatter\",\"x\":[1990,1991,1992,1993,1994,1995,1996,1997,1998,1999,2000,2001,2002,2003,2004,2005,2006,2007,2008,2009,2010,2011,2012,2013,2014,2015,2016,2017],\"xaxis\":\"x\",\"y\":[202.2204741682743,206.6958607846261,209.03139162561428,205.28635736846192,204.6950680697369,206.60708348942612,208.3253599504528,206.88319385697815,209.2710821976778,212.9403120970487,213.27297723246463,211.4361636919496,208.36472023371488,211.22673498724012,212.1535940596374,209.8730114299297,207.0243859530464,215.86145850374345,213.12403959605476,212.4812357155364,209.87469767254132,216.7200612832288,222.59524180758996,218.07028040564109,219.50924360192545,227.5367055349412,231.4334462392696,234.57544440562148],\"yaxis\":\"y\"},{\"hovertemplate\":\"Entity=United States<br>Year=%{x}<br>All_ages=%{y}<extra></extra>\",\"legendgroup\":\"United States\",\"line\":{\"color\":\"#FFA15A\",\"dash\":\"solid\"},\"marker\":{\"symbol\":\"circle\"},\"mode\":\"lines\",\"name\":\"United States\",\"orientation\":\"v\",\"showlegend\":true,\"type\":\"scatter\",\"x\":[1990,1991,1992,1993,1994,1995,1996,1997,1998,1999,2000,2001,2002,2003,2004,2005,2006,2007,2008,2009,2010,2011,2012,2013,2014,2015,2016,2017],\"xaxis\":\"x\",\"y\":[218.20518765626755,211.0725596573673,202.98612000200123,201.38202611054732,195.7392131663691,192.2746034069789,186.2948675502754,180.94099894032792,177.15421184250755,175.36384755209835,172.08977991602188,169.1342230683913,166.48754947276208,163.0568724985858,156.85365901048587,155.3911550270852,151.27753546434693,146.8322219230504,144.24753575377858,140.6459483428326,136.47197741888542,135.56482468482676,133.39305557722287,131.99484120283807,130.4972911222026,129.52081802325512,129.99027539664303,129.91396469333628],\"yaxis\":\"y\"}],                        {\"legend\":{\"title\":{\"text\":\"Entity\"},\"tracegroupgap\":0},\"margin\":{\"t\":60},\"template\":{\"data\":{\"bar\":[{\"error_x\":{\"color\":\"#2a3f5f\"},\"error_y\":{\"color\":\"#2a3f5f\"},\"marker\":{\"line\":{\"color\":\"#E5ECF6\",\"width\":0.5},\"pattern\":{\"fillmode\":\"overlay\",\"size\":10,\"solidity\":0.2}},\"type\":\"bar\"}],\"barpolar\":[{\"marker\":{\"line\":{\"color\":\"#E5ECF6\",\"width\":0.5},\"pattern\":{\"fillmode\":\"overlay\",\"size\":10,\"solidity\":0.2}},\"type\":\"barpolar\"}],\"carpet\":[{\"aaxis\":{\"endlinecolor\":\"#2a3f5f\",\"gridcolor\":\"white\",\"linecolor\":\"white\",\"minorgridcolor\":\"white\",\"startlinecolor\":\"#2a3f5f\"},\"baxis\":{\"endlinecolor\":\"#2a3f5f\",\"gridcolor\":\"white\",\"linecolor\":\"white\",\"minorgridcolor\":\"white\",\"startlinecolor\":\"#2a3f5f\"},\"type\":\"carpet\"}],\"choropleth\":[{\"colorbar\":{\"outlinewidth\":0,\"ticks\":\"\"},\"type\":\"choropleth\"}],\"contour\":[{\"colorbar\":{\"outlinewidth\":0,\"ticks\":\"\"},\"colorscale\":[[0.0,\"#0d0887\"],[0.1111111111111111,\"#46039f\"],[0.2222222222222222,\"#7201a8\"],[0.3333333333333333,\"#9c179e\"],[0.4444444444444444,\"#bd3786\"],[0.5555555555555556,\"#d8576b\"],[0.6666666666666666,\"#ed7953\"],[0.7777777777777778,\"#fb9f3a\"],[0.8888888888888888,\"#fdca26\"],[1.0,\"#f0f921\"]],\"type\":\"contour\"}],\"contourcarpet\":[{\"colorbar\":{\"outlinewidth\":0,\"ticks\":\"\"},\"type\":\"contourcarpet\"}],\"heatmap\":[{\"colorbar\":{\"outlinewidth\":0,\"ticks\":\"\"},\"colorscale\":[[0.0,\"#0d0887\"],[0.1111111111111111,\"#46039f\"],[0.2222222222222222,\"#7201a8\"],[0.3333333333333333,\"#9c179e\"],[0.4444444444444444,\"#bd3786\"],[0.5555555555555556,\"#d8576b\"],[0.6666666666666666,\"#ed7953\"],[0.7777777777777778,\"#fb9f3a\"],[0.8888888888888888,\"#fdca26\"],[1.0,\"#f0f921\"]],\"type\":\"heatmap\"}],\"heatmapgl\":[{\"colorbar\":{\"outlinewidth\":0,\"ticks\":\"\"},\"colorscale\":[[0.0,\"#0d0887\"],[0.1111111111111111,\"#46039f\"],[0.2222222222222222,\"#7201a8\"],[0.3333333333333333,\"#9c179e\"],[0.4444444444444444,\"#bd3786\"],[0.5555555555555556,\"#d8576b\"],[0.6666666666666666,\"#ed7953\"],[0.7777777777777778,\"#fb9f3a\"],[0.8888888888888888,\"#fdca26\"],[1.0,\"#f0f921\"]],\"type\":\"heatmapgl\"}],\"histogram\":[{\"marker\":{\"pattern\":{\"fillmode\":\"overlay\",\"size\":10,\"solidity\":0.2}},\"type\":\"histogram\"}],\"histogram2d\":[{\"colorbar\":{\"outlinewidth\":0,\"ticks\":\"\"},\"colorscale\":[[0.0,\"#0d0887\"],[0.1111111111111111,\"#46039f\"],[0.2222222222222222,\"#7201a8\"],[0.3333333333333333,\"#9c179e\"],[0.4444444444444444,\"#bd3786\"],[0.5555555555555556,\"#d8576b\"],[0.6666666666666666,\"#ed7953\"],[0.7777777777777778,\"#fb9f3a\"],[0.8888888888888888,\"#fdca26\"],[1.0,\"#f0f921\"]],\"type\":\"histogram2d\"}],\"histogram2dcontour\":[{\"colorbar\":{\"outlinewidth\":0,\"ticks\":\"\"},\"colorscale\":[[0.0,\"#0d0887\"],[0.1111111111111111,\"#46039f\"],[0.2222222222222222,\"#7201a8\"],[0.3333333333333333,\"#9c179e\"],[0.4444444444444444,\"#bd3786\"],[0.5555555555555556,\"#d8576b\"],[0.6666666666666666,\"#ed7953\"],[0.7777777777777778,\"#fb9f3a\"],[0.8888888888888888,\"#fdca26\"],[1.0,\"#f0f921\"]],\"type\":\"histogram2dcontour\"}],\"mesh3d\":[{\"colorbar\":{\"outlinewidth\":0,\"ticks\":\"\"},\"type\":\"mesh3d\"}],\"parcoords\":[{\"line\":{\"colorbar\":{\"outlinewidth\":0,\"ticks\":\"\"}},\"type\":\"parcoords\"}],\"pie\":[{\"automargin\":true,\"type\":\"pie\"}],\"scatter\":[{\"marker\":{\"colorbar\":{\"outlinewidth\":0,\"ticks\":\"\"}},\"type\":\"scatter\"}],\"scatter3d\":[{\"line\":{\"colorbar\":{\"outlinewidth\":0,\"ticks\":\"\"}},\"marker\":{\"colorbar\":{\"outlinewidth\":0,\"ticks\":\"\"}},\"type\":\"scatter3d\"}],\"scattercarpet\":[{\"marker\":{\"colorbar\":{\"outlinewidth\":0,\"ticks\":\"\"}},\"type\":\"scattercarpet\"}],\"scattergeo\":[{\"marker\":{\"colorbar\":{\"outlinewidth\":0,\"ticks\":\"\"}},\"type\":\"scattergeo\"}],\"scattergl\":[{\"marker\":{\"colorbar\":{\"outlinewidth\":0,\"ticks\":\"\"}},\"type\":\"scattergl\"}],\"scattermapbox\":[{\"marker\":{\"colorbar\":{\"outlinewidth\":0,\"ticks\":\"\"}},\"type\":\"scattermapbox\"}],\"scatterpolar\":[{\"marker\":{\"colorbar\":{\"outlinewidth\":0,\"ticks\":\"\"}},\"type\":\"scatterpolar\"}],\"scatterpolargl\":[{\"marker\":{\"colorbar\":{\"outlinewidth\":0,\"ticks\":\"\"}},\"type\":\"scatterpolargl\"}],\"scatterternary\":[{\"marker\":{\"colorbar\":{\"outlinewidth\":0,\"ticks\":\"\"}},\"type\":\"scatterternary\"}],\"surface\":[{\"colorbar\":{\"outlinewidth\":0,\"ticks\":\"\"},\"colorscale\":[[0.0,\"#0d0887\"],[0.1111111111111111,\"#46039f\"],[0.2222222222222222,\"#7201a8\"],[0.3333333333333333,\"#9c179e\"],[0.4444444444444444,\"#bd3786\"],[0.5555555555555556,\"#d8576b\"],[0.6666666666666666,\"#ed7953\"],[0.7777777777777778,\"#fb9f3a\"],[0.8888888888888888,\"#fdca26\"],[1.0,\"#f0f921\"]],\"type\":\"surface\"}],\"table\":[{\"cells\":{\"fill\":{\"color\":\"#EBF0F8\"},\"line\":{\"color\":\"white\"}},\"header\":{\"fill\":{\"color\":\"#C8D4E3\"},\"line\":{\"color\":\"white\"}},\"type\":\"table\"}]},\"layout\":{\"annotationdefaults\":{\"arrowcolor\":\"#2a3f5f\",\"arrowhead\":0,\"arrowwidth\":1},\"autotypenumbers\":\"strict\",\"coloraxis\":{\"colorbar\":{\"outlinewidth\":0,\"ticks\":\"\"}},\"colorscale\":{\"diverging\":[[0,\"#8e0152\"],[0.1,\"#c51b7d\"],[0.2,\"#de77ae\"],[0.3,\"#f1b6da\"],[0.4,\"#fde0ef\"],[0.5,\"#f7f7f7\"],[0.6,\"#e6f5d0\"],[0.7,\"#b8e186\"],[0.8,\"#7fbc41\"],[0.9,\"#4d9221\"],[1,\"#276419\"]],\"sequential\":[[0.0,\"#0d0887\"],[0.1111111111111111,\"#46039f\"],[0.2222222222222222,\"#7201a8\"],[0.3333333333333333,\"#9c179e\"],[0.4444444444444444,\"#bd3786\"],[0.5555555555555556,\"#d8576b\"],[0.6666666666666666,\"#ed7953\"],[0.7777777777777778,\"#fb9f3a\"],[0.8888888888888888,\"#fdca26\"],[1.0,\"#f0f921\"]],\"sequentialminus\":[[0.0,\"#0d0887\"],[0.1111111111111111,\"#46039f\"],[0.2222222222222222,\"#7201a8\"],[0.3333333333333333,\"#9c179e\"],[0.4444444444444444,\"#bd3786\"],[0.5555555555555556,\"#d8576b\"],[0.6666666666666666,\"#ed7953\"],[0.7777777777777778,\"#fb9f3a\"],[0.8888888888888888,\"#fdca26\"],[1.0,\"#f0f921\"]]},\"colorway\":[\"#636efa\",\"#EF553B\",\"#00cc96\",\"#ab63fa\",\"#FFA15A\",\"#19d3f3\",\"#FF6692\",\"#B6E880\",\"#FF97FF\",\"#FECB52\"],\"font\":{\"color\":\"#2a3f5f\"},\"geo\":{\"bgcolor\":\"white\",\"lakecolor\":\"white\",\"landcolor\":\"#E5ECF6\",\"showlakes\":true,\"showland\":true,\"subunitcolor\":\"white\"},\"hoverlabel\":{\"align\":\"left\"},\"hovermode\":\"closest\",\"mapbox\":{\"style\":\"light\"},\"paper_bgcolor\":\"white\",\"plot_bgcolor\":\"#E5ECF6\",\"polar\":{\"angularaxis\":{\"gridcolor\":\"white\",\"linecolor\":\"white\",\"ticks\":\"\"},\"bgcolor\":\"#E5ECF6\",\"radialaxis\":{\"gridcolor\":\"white\",\"linecolor\":\"white\",\"ticks\":\"\"}},\"scene\":{\"xaxis\":{\"backgroundcolor\":\"#E5ECF6\",\"gridcolor\":\"white\",\"gridwidth\":2,\"linecolor\":\"white\",\"showbackground\":true,\"ticks\":\"\",\"zerolinecolor\":\"white\"},\"yaxis\":{\"backgroundcolor\":\"#E5ECF6\",\"gridcolor\":\"white\",\"gridwidth\":2,\"linecolor\":\"white\",\"showbackground\":true,\"ticks\":\"\",\"zerolinecolor\":\"white\"},\"zaxis\":{\"backgroundcolor\":\"#E5ECF6\",\"gridcolor\":\"white\",\"gridwidth\":2,\"linecolor\":\"white\",\"showbackground\":true,\"ticks\":\"\",\"zerolinecolor\":\"white\"}},\"shapedefaults\":{\"line\":{\"color\":\"#2a3f5f\"}},\"ternary\":{\"aaxis\":{\"gridcolor\":\"white\",\"linecolor\":\"white\",\"ticks\":\"\"},\"baxis\":{\"gridcolor\":\"white\",\"linecolor\":\"white\",\"ticks\":\"\"},\"bgcolor\":\"#E5ECF6\",\"caxis\":{\"gridcolor\":\"white\",\"linecolor\":\"white\",\"ticks\":\"\"}},\"title\":{\"x\":0.05},\"xaxis\":{\"automargin\":true,\"gridcolor\":\"white\",\"linecolor\":\"white\",\"ticks\":\"\",\"title\":{\"standoff\":15},\"zerolinecolor\":\"white\",\"zerolinewidth\":2},\"yaxis\":{\"automargin\":true,\"gridcolor\":\"white\",\"linecolor\":\"white\",\"ticks\":\"\",\"title\":{\"standoff\":15},\"zerolinecolor\":\"white\",\"zerolinewidth\":2}}},\"xaxis\":{\"anchor\":\"y\",\"domain\":[0.0,1.0],\"title\":{\"text\":\"Year\"}},\"yaxis\":{\"anchor\":\"x\",\"domain\":[0.0,1.0],\"title\":{\"text\":\"All_ages\"}}},                        {\"responsive\": true}                    ).then(function(){\n",
       "                            \n",
       "var gd = document.getElementById('7c7d699c-e895-44c1-aee6-96b828ebe84a');\n",
       "var x = new MutationObserver(function (mutations, observer) {{\n",
       "        var display = window.getComputedStyle(gd).display;\n",
       "        if (!display || display === 'none') {{\n",
       "            console.log([gd, 'removed!']);\n",
       "            Plotly.purge(gd);\n",
       "            observer.disconnect();\n",
       "        }}\n",
       "}});\n",
       "\n",
       "// Listen for the removal of the full notebook cells\n",
       "var notebookContainer = gd.closest('#notebook-container');\n",
       "if (notebookContainer) {{\n",
       "    x.observe(notebookContainer, {childList: true});\n",
       "}}\n",
       "\n",
       "// Listen for the clearing of the current output cell\n",
       "var outputEl = gd.closest('.output');\n",
       "if (outputEl) {{\n",
       "    x.observe(outputEl, {childList: true});\n",
       "}}\n",
       "\n",
       "                        })                };                });            </script>        </div>"
      ]
     },
     "metadata": {},
     "output_type": "display_data"
    }
   ],
   "source": [
    "px.line(death_df[death_df[\"Entity\"].isin(countries)], x=\"Year\", y=\"All_ages\", color=\"Entity\")"
   ]
  },
  {
   "cell_type": "markdown",
   "id": "3a6026a1",
   "metadata": {},
   "source": [
    "## Effect of regulation on tobacco usage (no baseline)"
   ]
  },
  {
   "cell_type": "markdown",
   "metadata": {},
   "source": [
    "Notes:\n",
    "- Use 2000 as baseline?"
   ]
  },
  {
   "cell_type": "code",
   "execution_count": 87,
   "metadata": {},
   "outputs": [],
   "source": [
    "def merge_reg_use(reg_df, use_df, year_delay=1):\n",
    "    reg_df = reg_df.copy()\n",
    "    use_df = use_df.copy()\n",
    "\n",
    "    use_df = use_df.rename(columns={\"SpatialDimValueCode\": \"Code\", \"Value\": \"Pct_Smoking\"}).query(\"Gender == 'Both sexes'\")\n",
    "    reg_df[\"EffectiveYear\"] = reg_df[\"Year\"] + year_delay\n",
    "\n",
    "    reg_use_df = pd.merge(reg_df, use_df, left_on=[\"Code\", \"EffectiveYear\"], right_on=[\"Code\", \"Year\"])\n",
    "    return reg_use_df\n"
   ]
  },
  {
   "cell_type": "code",
   "execution_count": 88,
   "metadata": {},
   "outputs": [
    {
     "data": {
      "text/html": [
       "<div>\n",
       "<style scoped>\n",
       "    .dataframe tbody tr th:only-of-type {\n",
       "        vertical-align: middle;\n",
       "    }\n",
       "\n",
       "    .dataframe tbody tr th {\n",
       "        vertical-align: top;\n",
       "    }\n",
       "\n",
       "    .dataframe thead th {\n",
       "        text-align: right;\n",
       "    }\n",
       "</style>\n",
       "<table border=\"1\" class=\"dataframe\">\n",
       "  <thead>\n",
       "    <tr style=\"text-align: right;\">\n",
       "      <th></th>\n",
       "      <th>Entity</th>\n",
       "      <th>Code</th>\n",
       "      <th>Year_x</th>\n",
       "      <th>AvgCigarettePriceDollars</th>\n",
       "      <th>AvgTaxesAsPctCigarettePrice</th>\n",
       "      <th>EnforceBansTobaccoAd</th>\n",
       "      <th>HelpToQuit</th>\n",
       "      <th>EffectiveYear</th>\n",
       "      <th>ParentLocationCode</th>\n",
       "      <th>ParentLocation</th>\n",
       "      <th>Location</th>\n",
       "      <th>Year_y</th>\n",
       "      <th>Gender</th>\n",
       "      <th>Pct_Smoking</th>\n",
       "    </tr>\n",
       "  </thead>\n",
       "  <tbody>\n",
       "    <tr>\n",
       "      <th>0</th>\n",
       "      <td>Algeria</td>\n",
       "      <td>DZA</td>\n",
       "      <td>2012</td>\n",
       "      <td>1.84</td>\n",
       "      <td>47.0</td>\n",
       "      <td>4</td>\n",
       "      <td>3</td>\n",
       "      <td>2015</td>\n",
       "      <td>AFR</td>\n",
       "      <td>Africa</td>\n",
       "      <td>Algeria</td>\n",
       "      <td>2015</td>\n",
       "      <td>Both sexes</td>\n",
       "      <td>19.3</td>\n",
       "    </tr>\n",
       "    <tr>\n",
       "      <th>1</th>\n",
       "      <td>Algeria</td>\n",
       "      <td>DZA</td>\n",
       "      <td>2014</td>\n",
       "      <td>2.09</td>\n",
       "      <td>40.9</td>\n",
       "      <td>4</td>\n",
       "      <td>4</td>\n",
       "      <td>2017</td>\n",
       "      <td>AFR</td>\n",
       "      <td>Africa</td>\n",
       "      <td>Algeria</td>\n",
       "      <td>2017</td>\n",
       "      <td>Both sexes</td>\n",
       "      <td>18.9</td>\n",
       "    </tr>\n",
       "    <tr>\n",
       "      <th>2</th>\n",
       "      <td>Argentina</td>\n",
       "      <td>ARG</td>\n",
       "      <td>2012</td>\n",
       "      <td>2.79</td>\n",
       "      <td>69.9</td>\n",
       "      <td>4</td>\n",
       "      <td>4</td>\n",
       "      <td>2015</td>\n",
       "      <td>AMR</td>\n",
       "      <td>Americas</td>\n",
       "      <td>Argentina</td>\n",
       "      <td>2015</td>\n",
       "      <td>Both sexes</td>\n",
       "      <td>24.6</td>\n",
       "    </tr>\n",
       "    <tr>\n",
       "      <th>3</th>\n",
       "      <td>Argentina</td>\n",
       "      <td>ARG</td>\n",
       "      <td>2014</td>\n",
       "      <td>3.47</td>\n",
       "      <td>69.7</td>\n",
       "      <td>4</td>\n",
       "      <td>5</td>\n",
       "      <td>2017</td>\n",
       "      <td>AMR</td>\n",
       "      <td>Americas</td>\n",
       "      <td>Argentina</td>\n",
       "      <td>2017</td>\n",
       "      <td>Both sexes</td>\n",
       "      <td>22.7</td>\n",
       "    </tr>\n",
       "    <tr>\n",
       "      <th>4</th>\n",
       "      <td>Armenia</td>\n",
       "      <td>ARM</td>\n",
       "      <td>2012</td>\n",
       "      <td>1.69</td>\n",
       "      <td>38.4</td>\n",
       "      <td>2</td>\n",
       "      <td>4</td>\n",
       "      <td>2015</td>\n",
       "      <td>EUR</td>\n",
       "      <td>Europe</td>\n",
       "      <td>Armenia</td>\n",
       "      <td>2015</td>\n",
       "      <td>Both sexes</td>\n",
       "      <td>27.9</td>\n",
       "    </tr>\n",
       "  </tbody>\n",
       "</table>\n",
       "</div>"
      ],
      "text/plain": [
       "      Entity Code  Year_x  AvgCigarettePriceDollars  \\\n",
       "0    Algeria  DZA    2012                      1.84   \n",
       "1    Algeria  DZA    2014                      2.09   \n",
       "2  Argentina  ARG    2012                      2.79   \n",
       "3  Argentina  ARG    2014                      3.47   \n",
       "4    Armenia  ARM    2012                      1.69   \n",
       "\n",
       "   AvgTaxesAsPctCigarettePrice  EnforceBansTobaccoAd  HelpToQuit  \\\n",
       "0                         47.0                     4           3   \n",
       "1                         40.9                     4           4   \n",
       "2                         69.9                     4           4   \n",
       "3                         69.7                     4           5   \n",
       "4                         38.4                     2           4   \n",
       "\n",
       "   EffectiveYear ParentLocationCode ParentLocation   Location  Year_y  \\\n",
       "0           2015                AFR         Africa    Algeria    2015   \n",
       "1           2017                AFR         Africa    Algeria    2017   \n",
       "2           2015                AMR       Americas  Argentina    2015   \n",
       "3           2017                AMR       Americas  Argentina    2017   \n",
       "4           2015                EUR         Europe    Armenia    2015   \n",
       "\n",
       "       Gender  Pct_Smoking  \n",
       "0  Both sexes         19.3  \n",
       "1  Both sexes         18.9  \n",
       "2  Both sexes         24.6  \n",
       "3  Both sexes         22.7  \n",
       "4  Both sexes         27.9  "
      ]
     },
     "execution_count": 88,
     "metadata": {},
     "output_type": "execute_result"
    }
   ],
   "source": [
    "reg_use_df = merge_reg_use(stop_smoking_df, ww_use_df, year_delay=3)\n",
    "reg_use_df.head()"
   ]
  },
  {
   "cell_type": "code",
   "execution_count": 89,
   "metadata": {},
   "outputs": [
    {
     "data": {
      "application/vnd.plotly.v1+json": {
       "config": {
        "plotlyServerURL": "https://plot.ly"
       },
       "data": [
        {
         "hovertemplate": "<b>%{hovertext}</b><br><br>AvgTaxesAsPctCigarettePrice=%{x}<br>EnforceBansTobaccoAd=%{y}<br>Pct_Smoking=%{marker.size}<extra></extra>",
         "hovertext": [
          "Algeria",
          "Algeria",
          "Argentina",
          "Argentina",
          "Armenia",
          "Armenia",
          "Australia",
          "Australia",
          "Austria",
          "Austria",
          "Azerbaijan",
          "Azerbaijan",
          "Bahamas",
          "Bangladesh",
          "Bangladesh",
          "Belarus",
          "Belarus",
          "Belgium",
          "Belgium",
          "Bosnia and Herzegovina",
          "Bosnia and Herzegovina",
          "Brazil",
          "Brazil",
          "Bulgaria",
          "Bulgaria",
          "Burundi",
          "Cambodia",
          "Cambodia",
          "Cameroon",
          "Cameroon",
          "Canada",
          "Canada",
          "Chile",
          "Chile",
          "China",
          "China",
          "Colombia",
          "Colombia",
          "Comoros",
          "Costa Rica",
          "Croatia",
          "Croatia",
          "Cyprus",
          "Cyprus",
          "Czechia",
          "Czechia",
          "Denmark",
          "Denmark",
          "Dominican Republic",
          "Dominican Republic",
          "Egypt",
          "Egypt",
          "Estonia",
          "Estonia",
          "Ethiopia",
          "Fiji",
          "Fiji",
          "Finland",
          "Finland",
          "France",
          "France",
          "Gambia",
          "Georgia",
          "Georgia",
          "Germany",
          "Germany",
          "Ghana",
          "Ghana",
          "Greece",
          "Greece",
          "Hungary",
          "Hungary",
          "Iceland",
          "Iceland",
          "India",
          "India",
          "Indonesia",
          "Indonesia",
          "Iran",
          "Iran",
          "Ireland",
          "Ireland",
          "Israel",
          "Italy",
          "Italy",
          "Jamaica",
          "Jamaica",
          "Japan",
          "Japan",
          "Kazakhstan",
          "Kazakhstan",
          "Kenya",
          "Kenya",
          "Latvia",
          "Latvia",
          "Lebanon",
          "Lebanon",
          "Lithuania",
          "Lithuania",
          "Luxembourg",
          "Luxembourg",
          "Malaysia",
          "Malaysia",
          "Mali",
          "Mexico",
          "Mexico",
          "Moldova",
          "Moldova",
          "Mongolia",
          "Mongolia",
          "Morocco",
          "Morocco",
          "Nepal",
          "Nepal",
          "Netherlands",
          "Netherlands",
          "New Zealand",
          "New Zealand",
          "Nigeria",
          "Norway",
          "Norway",
          "Oman",
          "Oman",
          "Pakistan",
          "Pakistan",
          "Panama",
          "Panama",
          "Peru",
          "Peru",
          "Philippines",
          "Philippines",
          "Poland",
          "Poland",
          "Portugal",
          "Portugal",
          "Romania",
          "Romania",
          "Russia",
          "Russia",
          "Rwanda",
          "Samoa",
          "Saudi Arabia",
          "Senegal",
          "Senegal",
          "Serbia",
          "Serbia",
          "Sierra Leone",
          "Singapore",
          "Singapore",
          "Slovakia",
          "Slovakia",
          "Slovenia",
          "Slovenia",
          "South Africa",
          "South Africa",
          "South Korea",
          "South Korea",
          "Spain",
          "Spain",
          "Sri Lanka",
          "Sri Lanka",
          "Sweden",
          "Sweden",
          "Switzerland",
          "Switzerland",
          "Thailand",
          "Thailand",
          "Tonga",
          "Tunisia",
          "Tunisia",
          "Turkey",
          "Turkey",
          "Uganda",
          "Uganda",
          "Ukraine",
          "Ukraine",
          "United Arab Emirates",
          "United Arab Emirates",
          "United Kingdom",
          "United Kingdom",
          "United States",
          "United States",
          "Uruguay",
          "Uruguay",
          "Uzbekistan",
          "Uzbekistan",
          "Yemen",
          "Yemen",
          "Zambia",
          "Zambia",
          "Zimbabwe",
          "Zimbabwe",
          "Liberia",
          "Albania",
          "Albania",
          "Albania",
          "Albania",
          "Algeria",
          "Algeria",
          "Andorra",
          "Andorra",
          "Andorra",
          "Andorra",
          "Argentina",
          "Argentina",
          "Armenia",
          "Armenia",
          "Australia",
          "Australia",
          "Austria",
          "Austria",
          "Azerbaijan",
          "Azerbaijan",
          "Bahamas",
          "Bahamas",
          "Bahamas",
          "Bahrain",
          "Bahrain",
          "Bahrain",
          "Bahrain",
          "Bangladesh",
          "Bangladesh",
          "Barbados",
          "Barbados",
          "Barbados",
          "Barbados",
          "Belarus",
          "Belarus",
          "Belgium",
          "Belgium",
          "Benin",
          "Benin",
          "Benin",
          "Benin",
          "Bosnia and Herzegovina",
          "Bosnia and Herzegovina",
          "Botswana",
          "Botswana",
          "Botswana",
          "Botswana",
          "Brazil",
          "Brazil",
          "Brunei",
          "Brunei",
          "Brunei",
          "Brunei",
          "Bulgaria",
          "Bulgaria",
          "Burkina Faso",
          "Burkina Faso",
          "Burkina Faso",
          "Burkina Faso",
          "Burundi",
          "Burundi",
          "Burundi",
          "Cambodia",
          "Cambodia",
          "Cameroon",
          "Cameroon",
          "Canada",
          "Canada",
          "Chad",
          "Chad",
          "Chad",
          "Chad",
          "Chile",
          "Chile",
          "China",
          "China",
          "Colombia",
          "Colombia",
          "Comoros",
          "Comoros",
          "Comoros",
          "Congo",
          "Congo",
          "Congo",
          "Congo",
          "Cook Islands",
          "Cook Islands",
          "Cook Islands",
          "Cook Islands",
          "Costa Rica",
          "Costa Rica",
          "Costa Rica",
          "Cote d'Ivoire",
          "Cote d'Ivoire",
          "Cote d'Ivoire",
          "Cote d'Ivoire",
          "Croatia",
          "Croatia",
          "Cuba",
          "Cuba",
          "Cuba",
          "Cuba",
          "Cyprus",
          "Cyprus",
          "Czechia",
          "Czechia",
          "Denmark",
          "Denmark",
          "Dominican Republic",
          "Dominican Republic",
          "Egypt",
          "Egypt",
          "El Salvador",
          "El Salvador",
          "El Salvador",
          "El Salvador",
          "Eritrea",
          "Eritrea",
          "Eritrea",
          "Eritrea",
          "Estonia",
          "Estonia",
          "Eswatini",
          "Eswatini",
          "Eswatini",
          "Eswatini",
          "Ethiopia",
          "Ethiopia",
          "Ethiopia",
          "Fiji",
          "Fiji",
          "Finland",
          "Finland",
          "France",
          "France",
          "Gambia",
          "Gambia",
          "Gambia",
          "Georgia",
          "Georgia",
          "Germany",
          "Germany",
          "Ghana",
          "Ghana",
          "Greece",
          "Greece",
          "Guyana",
          "Guyana",
          "Guyana",
          "Guyana",
          "Haiti",
          "Haiti",
          "Haiti",
          "Haiti",
          "Hungary",
          "Hungary",
          "Iceland",
          "Iceland",
          "India",
          "India",
          "Indonesia",
          "Indonesia",
          "Iran",
          "Iran",
          "Iraq",
          "Iraq",
          "Iraq",
          "Iraq",
          "Ireland",
          "Ireland",
          "Israel",
          "Israel",
          "Israel",
          "Italy",
          "Italy",
          "Jamaica",
          "Jamaica",
          "Japan",
          "Japan",
          "Kazakhstan",
          "Kazakhstan",
          "Kenya",
          "Kenya",
          "Kiribati",
          "Kiribati",
          "Kiribati",
          "Kiribati",
          "Kuwait",
          "Kuwait",
          "Kuwait",
          "Kuwait",
          "Kyrgyzstan",
          "Kyrgyzstan",
          "Kyrgyzstan",
          "Kyrgyzstan",
          "Laos",
          "Laos",
          "Laos",
          "Laos",
          "Latvia",
          "Latvia",
          "Lebanon",
          "Lebanon",
          "Lesotho",
          "Lesotho",
          "Lesotho",
          "Lesotho",
          "Liberia",
          "Liberia",
          "Liberia",
          "Lithuania",
          "Lithuania",
          "Luxembourg",
          "Luxembourg",
          "Madagascar",
          "Madagascar",
          "Madagascar",
          "Madagascar",
          "Malawi",
          "Malawi",
          "Malawi",
          "Malawi",
          "Malaysia",
          "Malaysia",
          "Mali",
          "Mali",
          "Mali",
          "Malta",
          "Malta",
          "Malta",
          "Malta",
          "Mauritius",
          "Mauritius",
          "Mauritius",
          "Mauritius",
          "Mexico",
          "Mexico",
          "Moldova",
          "Moldova",
          "Mongolia",
          "Mongolia",
          "Morocco",
          "Morocco",
          "Mozambique",
          "Mozambique",
          "Mozambique",
          "Mozambique",
          "Myanmar",
          "Myanmar",
          "Myanmar",
          "Myanmar",
          "Namibia",
          "Namibia",
          "Namibia",
          "Namibia",
          "Nauru",
          "Nauru",
          "Nauru",
          "Nauru",
          "Nepal",
          "Nepal",
          "Netherlands",
          "Netherlands",
          "New Zealand",
          "New Zealand",
          "Niger",
          "Niger",
          "Niger",
          "Niger",
          "Nigeria",
          "Nigeria",
          "Nigeria",
          "North Korea",
          "North Korea",
          "North Korea",
          "North Korea",
          "Norway",
          "Norway",
          "Oman",
          "Oman",
          "Pakistan",
          "Pakistan",
          "Palau",
          "Palau",
          "Palau",
          "Palau",
          "Panama",
          "Panama",
          "Paraguay",
          "Paraguay",
          "Paraguay",
          "Paraguay",
          "Peru",
          "Peru",
          "Philippines",
          "Philippines",
          "Poland",
          "Poland",
          "Portugal",
          "Portugal",
          "Qatar",
          "Qatar",
          "Qatar",
          "Qatar",
          "Romania",
          "Romania",
          "Russia",
          "Russia",
          "Rwanda",
          "Rwanda",
          "Rwanda",
          "Samoa",
          "Samoa",
          "Samoa",
          "Sao Tome and Principe",
          "Sao Tome and Principe",
          "Sao Tome and Principe",
          "Sao Tome and Principe",
          "Saudi Arabia",
          "Saudi Arabia",
          "Saudi Arabia",
          "Senegal",
          "Senegal",
          "Serbia",
          "Serbia",
          "Seychelles",
          "Seychelles",
          "Seychelles",
          "Seychelles",
          "Sierra Leone",
          "Sierra Leone",
          "Sierra Leone",
          "Singapore",
          "Singapore",
          "Slovakia",
          "Slovakia",
          "Slovenia",
          "Slovenia",
          "Solomon Islands",
          "Solomon Islands",
          "Solomon Islands",
          "Solomon Islands",
          "South Africa",
          "South Africa",
          "South Korea",
          "South Korea",
          "Spain",
          "Spain",
          "Sri Lanka",
          "Sri Lanka",
          "Sweden",
          "Sweden",
          "Switzerland",
          "Switzerland",
          "Tanzania",
          "Tanzania",
          "Tanzania",
          "Tanzania",
          "Thailand",
          "Thailand",
          "Timor",
          "Timor",
          "Timor",
          "Timor",
          "Togo",
          "Togo",
          "Togo",
          "Togo",
          "Tonga",
          "Tonga",
          "Tonga",
          "Tunisia",
          "Tunisia",
          "Turkey",
          "Turkey",
          "Tuvalu",
          "Tuvalu",
          "Tuvalu",
          "Tuvalu",
          "Uganda",
          "Uganda",
          "Ukraine",
          "Ukraine",
          "United Arab Emirates",
          "United Arab Emirates",
          "United Kingdom",
          "United Kingdom",
          "United States",
          "United States",
          "Uruguay",
          "Uruguay",
          "Uzbekistan",
          "Uzbekistan",
          "Vanuatu",
          "Vanuatu",
          "Vanuatu",
          "Vanuatu",
          "Yemen",
          "Yemen",
          "Zambia",
          "Zambia",
          "Zimbabwe",
          "Zimbabwe"
         ],
         "legendgroup": "",
         "marker": {
          "color": "#636efa",
          "size": [
           19.3,
           18.9,
           24.6,
           22.7,
           27.9,
           27.3,
           17.7,
           16.6,
           31.5,
           29.9,
           20.7,
           19.9,
           11,
           40.7,
           39.5,
           28,
           27,
           25.7,
           25.2,
           39.6,
           38.7,
           18.5,
           17.2,
           40.5,
           39.5,
           12.9,
           24.8,
           22.8,
           9.4,
           9.4,
           20,
           18.3,
           45.9,
           45,
           25.3,
           24.9,
           8.9,
           8.2,
           20.1,
           10.1,
           36.3,
           36.5,
           37.5,
           37,
           32.1,
           31.7,
           20.8,
           19.3,
           10.5,
           9.7,
           21.3,
           21.4,
           32.1,
           31,
           4.7,
           27.4,
           26.9,
           20.9,
           20.1,
           34.5,
           34.6,
           14.7,
           30.4,
           29.9,
           28.9,
           28.4,
           4,
           3.8,
           40.6,
           39.6,
           31.9,
           31,
           15.7,
           14.4,
           29.6,
           27.8,
           38.2,
           38.1,
           15.1,
           14.4,
           25.3,
           24.2,
           25.8,
           23.8,
           23.5,
           12,
           11.3,
           23.4,
           22.4,
           25.7,
           24.9,
           12.7,
           12.1,
           37.3,
           36.9,
           42.6,
           42.6,
           28.5,
           27.6,
           22.9,
           22.1,
           22.8,
           22.1,
           12,
           15.2,
           14.3,
           25,
           25.2,
           29,
           28.2,
           15.9,
           15.2,
           35.7,
           33.1,
           24.7,
           23.9,
           16.6,
           15.4,
           5.1,
           21.2,
           19.3,
           9.6,
           9.6,
           22.3,
           20.7,
           7.9,
           7.2,
           11.7,
           10.2,
           25.8,
           24.7,
           28.1,
           26.7,
           27.3,
           27.7,
           27.5,
           26.2,
           29,
           28.4,
           13.5,
           30.5,
           16.6,
           9.8,
           9.3,
           41.3,
           40.9,
           20.5,
           16.5,
           16.5,
           32,
           32.2,
           23.1,
           22.8,
           32.2,
           31.6,
           23.8,
           22.6,
           29.3,
           28.2,
           23.5,
           23.1,
           32,
           29.9,
           25.7,
           25.4,
           24.1,
           23.3,
           30.6,
           27.9,
           26.7,
           30.1,
           29.5,
           11.4,
           10.3,
           27.3,
           26,
           18.7,
           18.5,
           21.3,
           19.8,
           26,
           25.3,
           24,
           22.5,
           12.8,
           12.5,
           22.2,
           21.3,
           15.4,
           14.9,
           14.5,
           14.1,
           8.6,
           31.1,
           30.3,
           29.9,
           29.3,
           20,
           19.5,
           34.7,
           34.3,
           34.2,
           33.9,
           30.1,
           26.6,
           30,
           28.9,
           20.4,
           18.6,
           36.1,
           33.2,
           22.8,
           21.5,
           11.1,
           11,
           11,
           26,
           25.5,
           25.4,
           25.2,
           43.5,
           41.7,
           9.3,
           9,
           8.9,
           8.7,
           31,
           29.1,
           27,
           26.3,
           10.4,
           9.1,
           8.3,
           7.5,
           41.4,
           40.3,
           26.4,
           25.2,
           24.6,
           23.9,
           22.3,
           19.9,
           16.1,
           15.9,
           15.7,
           15.6,
           43.1,
           41.4,
           20.4,
           18.6,
           17.4,
           16.4,
           15.5,
           14.3,
           13.6,
           30.6,
           27,
           9.6,
           9.5,
           24.7,
           21.8,
           13,
           12.5,
           12.2,
           11.8,
           48.3,
           46.8,
           26.6,
           25.9,
           11,
           9.7,
           26.6,
           23.4,
           21.8,
           13.5,
           14.4,
           15,
           15.7,
           32.7,
           30.3,
           28.8,
           27.3,
           12.8,
           11.6,
           10.8,
           15.6,
           14.4,
           13.8,
           13.2,
           35.6,
           35.9,
           34.4,
           31.4,
           29.4,
           27.8,
           38.8,
           38,
           32.9,
           32.4,
           25.3,
           22.4,
           12.6,
           11.3,
           21.2,
           21.1,
           15.1,
           14.2,
           13.6,
           13,
           9.2,
           8.5,
           7.9,
           7.5,
           34.7,
           32.9,
           11.1,
           10.9,
           10.8,
           10.7,
           5.5,
           5.1,
           4.9,
           29,
           28.1,
           23.4,
           21.9,
           34.5,
           34.5,
           17.1,
           16.1,
           15.3,
           31.6,
           30.7,
           30.3,
           29.5,
           4.7,
           4.3,
           43.4,
           41.8,
           17.1,
           15,
           13.8,
           12.6,
           9.7,
           9.1,
           8.8,
           8.5,
           34.2,
           32.9,
           19.4,
           17.1,
           34.8,
           31.5,
           38.8,
           38.3,
           16.8,
           15.7,
           24.2,
           23.5,
           22.9,
           22.5,
           28.2,
           26.4,
           27.8,
           26.9,
           26.2,
           24.7,
           24.2,
           14,
           12.7,
           26.4,
           24.5,
           27.9,
           26.5,
           14.4,
           13.3,
           58.1,
           56,
           54.2,
           52.8,
           23.6,
           23,
           22.6,
           22.4,
           29.4,
           28.8,
           28.4,
           28.1,
           47,
           43.2,
           40.9,
           38.7,
           38.4,
           37.7,
           42.9,
           42.7,
           26,
           27.2,
           28,
           29.2,
           10.4,
           9.6,
           9.1,
           30.8,
           29.4,
           24.9,
           23.7,
           34,
           32,
           30.7,
           29.4,
           17.4,
           15.5,
           14.3,
           13.3,
           24.5,
           23.4,
           12.3,
           12.2,
           12.1,
           28.6,
           27.3,
           26.4,
           25.7,
           30.1,
           28.7,
           28,
           27.2,
           17.7,
           16.1,
           24.8,
           25,
           31.9,
           30.1,
           18,
           16.8,
           19.2,
           17.2,
           16,
           14.9,
           52.5,
           49.6,
           47.8,
           46.1,
           20.4,
           19.2,
           18.6,
           18.1,
           59.5,
           56.5,
           54.7,
           52.9,
           43.4,
           38.4,
           27,
           25.6,
           20.1,
           17.9,
           8.1,
           8.2,
           8.4,
           8.5,
           5.7,
           5.3,
           4.9,
           19.8,
           19.4,
           19.2,
           18.9,
           26.8,
           23.2,
           9.6,
           9.6,
           27.1,
           24.2,
           27.7,
           26.2,
           25.1,
           24.3,
           10.1,
           8.8,
           18.5,
           16.1,
           14.6,
           13.4,
           16.6,
           13.5,
           28.6,
           26.9,
           31.6,
           29.3,
           26.4,
           26.9,
           14.5,
           14.3,
           14.2,
           14.1,
           31.6,
           29.1,
           30.6,
           29.6,
           15.9,
           14.9,
           14.2,
           33.5,
           31.6,
           29.3,
           5.7,
           5.6,
           5.5,
           5.5,
           16.6,
           16.7,
           16.6,
           11.2,
           10.3,
           42.7,
           41.9,
           22.9,
           22.1,
           21.7,
           21.3,
           25.7,
           23.3,
           21.8,
           16.5,
           16.4,
           31.9,
           32,
           23.8,
           23.3,
           39.5,
           38.8,
           38.4,
           38,
           33.9,
           32.8,
           26.9,
           25,
           31.6,
           30.1,
           24.6,
           23.9,
           37.6,
           34.1,
           26.6,
           26.1,
           17,
           15.5,
           14.5,
           13.7,
           26.5,
           25,
           45.6,
           42.6,
           40.8,
           39,
           9.2,
           8.5,
           8.1,
           7.8,
           31.3,
           30.8,
           30.3,
           31.3,
           29.2,
           31.7,
           30.8,
           54.4,
           52.3,
           50.8,
           49.3,
           14.8,
           12.6,
           30.7,
           28.7,
           19.4,
           19,
           25.4,
           22.8,
           27.9,
           26.8,
           28.3,
           25.6,
           13.8,
           13.2,
           27.2,
           25.9,
           25.1,
           24.4,
           24.5,
           23,
           16.7,
           15.9,
           15.6,
           14.9
          ],
          "sizemode": "area",
          "sizeref": 0.14875,
          "symbol": "circle"
         },
         "mode": "markers",
         "name": "",
         "orientation": "v",
         "showlegend": false,
         "type": "scatter",
         "x": [
          47,
          40.9,
          69.9,
          69.7,
          38.4,
          44.1,
          63.1,
          58.4,
          75,
          74.9,
          19.8,
          17.6,
          41.6,
          63.8,
          75.6,
          41.2,
          52.7,
          76.4,
          76.4,
          75.2,
          86,
          62.6,
          64.3,
          86.4,
          84,
          41.2,
          17.1,
          22.2,
          21.5,
          17.9,
          64.5,
          64.5,
          82,
          81.6,
          47.7,
          47.8,
          50.9,
          49.5,
          50.8,
          71.8,
          70.4,
          74.8,
          75.8,
          77.3,
          80,
          75.6,
          78.7,
          78.8,
          58.3,
          57.7,
          71.5,
          72,
          79.2,
          81.7,
          18.7,
          40.6,
          44,
          79.8,
          81.7,
          80,
          80.6,
          34.4,
          54.9,
          47.5,
          74.5,
          73.5,
          23.1,
          28.3,
          83.2,
          81.6,
          84.1,
          77.4,
          56.9,
          56.4,
          33.2,
          66.1,
          35.5,
          50.8,
          2.7,
          4.3,
          78.8,
          77.8,
          85,
          75.5,
          76.1,
          46.1,
          42.9,
          63.2,
          62.9,
          27,
          39.7,
          48.8,
          49.3,
          78.7,
          77.3,
          44.4,
          48.3,
          75.8,
          77.6,
          71.1,
          70.7,
          58.4,
          59.8,
          38.1,
          66.5,
          65.8,
          44.6,
          51.6,
          0,
          44.2,
          68,
          68.4,
          32.9,
          46.6,
          73.1,
          74.8,
          73.3,
          75,
          21.7,
          72.8,
          67.2,
          22.1,
          22.1,
          61.6,
          60.7,
          56.5,
          56.5,
          44.9,
          39.5,
          34.2,
          53,
          79.7,
          82.6,
          76.3,
          79.6,
          75.3,
          77.3,
          45,
          50.5,
          24.1,
          59.5,
          22.9,
          29,
          37.9,
          75.4,
          73.8,
          19.7,
          70.4,
          73.8,
          83.1,
          84.6,
          78.4,
          79.4,
          47.6,
          48.1,
          65.3,
          60.3,
          79.2,
          78.8,
          74.2,
          73.5,
          73.8,
          68.8,
          63.6,
          61.9,
          68.7,
          70.2,
          64.3,
          84.5,
          78.1,
          80.3,
          82.2,
          44.2,
          40.2,
          59.7,
          62.4,
          24.5,
          21.1,
          76.1,
          81.3,
          42.9,
          42.9,
          69,
          65.6,
          32.7,
          31.1,
          52.9,
          53.7,
          25.8,
          21.3,
          57.6,
          59.8,
          17.2,
          null,
          null,
          null,
          null,
          null,
          null,
          null,
          null,
          null,
          null,
          null,
          null,
          null,
          null,
          null,
          null,
          null,
          null,
          null,
          null,
          null,
          null,
          null,
          null,
          null,
          null,
          null,
          null,
          null,
          null,
          null,
          null,
          null,
          null,
          null,
          null,
          null,
          null,
          null,
          null,
          null,
          null,
          null,
          null,
          null,
          null,
          null,
          null,
          null,
          null,
          null,
          null,
          null,
          null,
          null,
          null,
          null,
          null,
          null,
          null,
          null,
          null,
          null,
          null,
          null,
          null,
          null,
          null,
          null,
          null,
          null,
          null,
          null,
          null,
          null,
          null,
          null,
          null,
          null,
          null,
          null,
          null,
          null,
          null,
          null,
          null,
          null,
          null,
          null,
          null,
          null,
          null,
          null,
          null,
          null,
          null,
          null,
          null,
          null,
          null,
          null,
          null,
          null,
          null,
          null,
          null,
          null,
          null,
          null,
          null,
          null,
          null,
          null,
          null,
          null,
          null,
          null,
          null,
          null,
          null,
          null,
          null,
          null,
          null,
          null,
          null,
          null,
          null,
          null,
          null,
          null,
          null,
          null,
          null,
          null,
          null,
          null,
          null,
          null,
          null,
          null,
          null,
          null,
          null,
          null,
          null,
          null,
          null,
          null,
          null,
          null,
          null,
          null,
          null,
          null,
          null,
          null,
          null,
          null,
          null,
          null,
          null,
          null,
          null,
          null,
          null,
          null,
          null,
          null,
          null,
          null,
          null,
          null,
          null,
          null,
          null,
          null,
          null,
          null,
          null,
          null,
          null,
          null,
          null,
          null,
          null,
          null,
          null,
          null,
          null,
          null,
          null,
          null,
          null,
          null,
          null,
          null,
          null,
          null,
          null,
          null,
          null,
          null,
          null,
          null,
          null,
          null,
          null,
          null,
          null,
          null,
          null,
          null,
          null,
          null,
          null,
          null,
          null,
          null,
          null,
          null,
          null,
          null,
          null,
          null,
          null,
          null,
          null,
          null,
          null,
          null,
          null,
          null,
          null,
          null,
          null,
          null,
          null,
          null,
          null,
          null,
          null,
          null,
          null,
          null,
          null,
          null,
          null,
          null,
          null,
          null,
          null,
          null,
          null,
          null,
          null,
          null,
          null,
          null,
          null,
          null,
          null,
          null,
          null,
          null,
          null,
          null,
          null,
          null,
          null,
          null,
          null,
          null,
          null,
          null,
          null,
          null,
          null,
          null,
          null,
          null,
          null,
          null,
          null,
          null,
          null,
          null,
          null,
          null,
          null,
          null,
          null,
          null,
          null,
          null,
          null,
          null,
          null,
          null,
          null,
          null,
          null,
          null,
          null,
          null,
          null,
          null,
          null,
          null,
          null,
          null,
          null,
          null,
          null,
          null,
          null,
          null,
          null,
          null,
          null,
          null,
          null,
          null,
          null,
          null,
          null,
          null,
          null,
          null,
          null,
          null,
          null,
          null,
          null,
          null,
          null,
          null,
          null,
          null,
          null,
          null,
          null,
          null,
          null,
          null,
          null,
          null,
          null,
          null,
          null,
          null,
          null,
          null,
          null,
          null,
          null,
          null,
          null,
          null,
          null,
          null,
          null,
          null,
          null,
          null,
          null,
          null,
          null,
          null,
          null,
          null,
          null,
          null,
          null,
          null,
          null,
          null,
          null,
          null,
          null,
          null,
          null,
          null,
          null,
          null,
          null,
          null,
          null,
          null,
          null,
          null,
          null,
          null,
          null,
          null,
          null,
          null,
          null,
          null,
          null,
          null,
          null,
          null
         ],
         "xaxis": "x",
         "y": [
          4,
          4,
          4,
          4,
          2,
          2,
          4,
          4,
          4,
          4,
          4,
          4,
          2,
          4,
          4,
          4,
          4,
          4,
          4,
          4,
          4,
          5,
          5,
          4,
          4,
          2,
          4,
          4,
          4,
          4,
          4,
          4,
          4,
          4,
          4,
          4,
          5,
          5,
          2,
          4,
          4,
          4,
          4,
          4,
          4,
          4,
          4,
          4,
          2,
          2,
          4,
          4,
          4,
          4,
          4,
          4,
          4,
          4,
          4,
          4,
          4,
          4,
          2,
          2,
          4,
          4,
          5,
          5,
          4,
          4,
          4,
          4,
          4,
          4,
          4,
          4,
          2,
          2,
          5,
          5,
          4,
          4,
          2,
          4,
          4,
          2,
          2,
          2,
          2,
          4,
          4,
          5,
          5,
          4,
          4,
          4,
          4,
          4,
          4,
          4,
          4,
          4,
          4,
          4,
          2,
          2,
          4,
          4,
          4,
          4,
          4,
          4,
          4,
          5,
          4,
          4,
          4,
          4,
          2,
          4,
          4,
          2,
          2,
          2,
          4,
          5,
          5,
          2,
          2,
          4,
          4,
          4,
          4,
          4,
          4,
          4,
          4,
          2,
          5,
          2,
          4,
          2,
          2,
          4,
          4,
          4,
          2,
          4,
          4,
          4,
          4,
          4,
          4,
          4,
          4,
          2,
          2,
          5,
          5,
          4,
          4,
          4,
          4,
          2,
          2,
          4,
          4,
          4,
          4,
          4,
          5,
          5,
          2,
          2,
          4,
          4,
          4,
          5,
          4,
          4,
          2,
          2,
          4,
          5,
          4,
          4,
          4,
          5,
          2,
          2,
          2,
          2,
          2,
          5,
          5,
          5,
          5,
          4,
          4,
          2,
          2,
          2,
          2,
          2,
          2,
          2,
          2,
          4,
          4,
          4,
          4,
          4,
          4,
          2,
          2,
          2,
          2,
          4,
          5,
          5,
          4,
          4,
          2,
          2,
          2,
          2,
          4,
          4,
          4,
          4,
          4,
          4,
          4,
          4,
          4,
          4,
          4,
          4,
          4,
          4,
          4,
          4,
          4,
          4,
          4,
          4,
          4,
          4,
          4,
          4,
          4,
          4,
          2,
          2,
          2,
          2,
          2,
          4,
          4,
          2,
          4,
          3,
          5,
          5,
          5,
          4,
          4,
          4,
          4,
          2,
          5,
          2,
          4,
          2,
          4,
          4,
          4,
          4,
          4,
          4,
          4,
          4,
          2,
          2,
          4,
          2,
          2,
          2,
          2,
          4,
          4,
          2,
          2,
          2,
          2,
          4,
          4,
          4,
          4,
          4,
          4,
          2,
          2,
          4,
          4,
          2,
          2,
          4,
          4,
          5,
          5,
          5,
          5,
          4,
          4,
          2,
          2,
          2,
          4,
          2,
          2,
          4,
          4,
          4,
          4,
          4,
          4,
          4,
          4,
          4,
          4,
          2,
          2,
          3,
          4,
          2,
          2,
          4,
          4,
          2,
          2,
          2,
          2,
          2,
          2,
          2,
          2,
          4,
          4,
          4,
          4,
          4,
          4,
          2,
          2,
          5,
          5,
          4,
          4,
          4,
          4,
          4,
          4,
          2,
          2,
          2,
          4,
          4,
          2,
          2,
          2,
          2,
          4,
          4,
          5,
          5,
          2,
          2,
          2,
          5,
          4,
          4,
          4,
          4,
          2,
          4,
          4,
          4,
          4,
          4,
          4,
          4,
          4,
          4,
          2,
          2,
          2,
          2,
          2,
          2,
          2,
          2,
          2,
          4,
          4,
          4,
          4,
          5,
          5,
          5,
          5,
          2,
          2,
          2,
          2,
          4,
          4,
          2,
          5,
          4,
          4,
          4,
          4,
          4,
          4,
          5,
          5,
          5,
          2,
          2,
          4,
          4,
          4,
          4,
          4,
          4,
          4,
          4,
          4,
          4,
          4,
          4,
          4,
          4,
          2,
          4,
          4,
          4,
          2,
          4,
          4,
          4,
          2,
          4,
          4,
          4,
          4,
          4,
          5,
          5,
          5,
          5,
          2,
          2,
          2,
          2,
          2,
          2,
          2,
          4,
          4,
          2,
          2,
          2,
          2,
          2,
          2,
          4,
          4,
          2,
          5,
          2,
          2,
          2,
          2,
          2,
          2,
          2,
          4,
          4,
          4,
          4,
          4,
          4,
          4,
          4,
          4,
          4,
          4,
          2,
          2,
          2,
          2,
          2,
          2,
          4,
          4,
          2,
          2,
          2,
          2,
          2,
          2,
          2,
          2,
          2,
          4,
          4,
          2,
          4,
          4,
          4,
          2,
          2,
          2,
          4,
          4,
          4,
          4,
          4,
          4,
          2,
          4,
          4,
          4,
          4,
          4,
          2,
          2,
          4,
          5,
          4,
          4,
          4,
          4,
          2,
          2,
          4,
          4,
          4,
          4,
          4,
          4,
          2,
          2,
          2,
          2,
          2,
          2,
          5,
          5,
          4,
          4,
          4,
          4,
          4,
          2,
          4,
          2,
          5,
          5,
          5,
          2,
          2,
          2,
          4,
          4,
          4,
          4,
          4,
          2,
          2,
          2,
          4,
          2,
          2,
          2,
          5,
          5,
          5,
          4,
          4,
          2,
          2,
          2,
          2
         ],
         "yaxis": "y"
        }
       ],
       "layout": {
        "legend": {
         "itemsizing": "constant",
         "tracegroupgap": 0
        },
        "margin": {
         "t": 60
        },
        "template": {
         "data": {
          "bar": [
           {
            "error_x": {
             "color": "#2a3f5f"
            },
            "error_y": {
             "color": "#2a3f5f"
            },
            "marker": {
             "line": {
              "color": "#E5ECF6",
              "width": 0.5
             },
             "pattern": {
              "fillmode": "overlay",
              "size": 10,
              "solidity": 0.2
             }
            },
            "type": "bar"
           }
          ],
          "barpolar": [
           {
            "marker": {
             "line": {
              "color": "#E5ECF6",
              "width": 0.5
             },
             "pattern": {
              "fillmode": "overlay",
              "size": 10,
              "solidity": 0.2
             }
            },
            "type": "barpolar"
           }
          ],
          "carpet": [
           {
            "aaxis": {
             "endlinecolor": "#2a3f5f",
             "gridcolor": "white",
             "linecolor": "white",
             "minorgridcolor": "white",
             "startlinecolor": "#2a3f5f"
            },
            "baxis": {
             "endlinecolor": "#2a3f5f",
             "gridcolor": "white",
             "linecolor": "white",
             "minorgridcolor": "white",
             "startlinecolor": "#2a3f5f"
            },
            "type": "carpet"
           }
          ],
          "choropleth": [
           {
            "colorbar": {
             "outlinewidth": 0,
             "ticks": ""
            },
            "type": "choropleth"
           }
          ],
          "contour": [
           {
            "colorbar": {
             "outlinewidth": 0,
             "ticks": ""
            },
            "colorscale": [
             [
              0,
              "#0d0887"
             ],
             [
              0.1111111111111111,
              "#46039f"
             ],
             [
              0.2222222222222222,
              "#7201a8"
             ],
             [
              0.3333333333333333,
              "#9c179e"
             ],
             [
              0.4444444444444444,
              "#bd3786"
             ],
             [
              0.5555555555555556,
              "#d8576b"
             ],
             [
              0.6666666666666666,
              "#ed7953"
             ],
             [
              0.7777777777777778,
              "#fb9f3a"
             ],
             [
              0.8888888888888888,
              "#fdca26"
             ],
             [
              1,
              "#f0f921"
             ]
            ],
            "type": "contour"
           }
          ],
          "contourcarpet": [
           {
            "colorbar": {
             "outlinewidth": 0,
             "ticks": ""
            },
            "type": "contourcarpet"
           }
          ],
          "heatmap": [
           {
            "colorbar": {
             "outlinewidth": 0,
             "ticks": ""
            },
            "colorscale": [
             [
              0,
              "#0d0887"
             ],
             [
              0.1111111111111111,
              "#46039f"
             ],
             [
              0.2222222222222222,
              "#7201a8"
             ],
             [
              0.3333333333333333,
              "#9c179e"
             ],
             [
              0.4444444444444444,
              "#bd3786"
             ],
             [
              0.5555555555555556,
              "#d8576b"
             ],
             [
              0.6666666666666666,
              "#ed7953"
             ],
             [
              0.7777777777777778,
              "#fb9f3a"
             ],
             [
              0.8888888888888888,
              "#fdca26"
             ],
             [
              1,
              "#f0f921"
             ]
            ],
            "type": "heatmap"
           }
          ],
          "heatmapgl": [
           {
            "colorbar": {
             "outlinewidth": 0,
             "ticks": ""
            },
            "colorscale": [
             [
              0,
              "#0d0887"
             ],
             [
              0.1111111111111111,
              "#46039f"
             ],
             [
              0.2222222222222222,
              "#7201a8"
             ],
             [
              0.3333333333333333,
              "#9c179e"
             ],
             [
              0.4444444444444444,
              "#bd3786"
             ],
             [
              0.5555555555555556,
              "#d8576b"
             ],
             [
              0.6666666666666666,
              "#ed7953"
             ],
             [
              0.7777777777777778,
              "#fb9f3a"
             ],
             [
              0.8888888888888888,
              "#fdca26"
             ],
             [
              1,
              "#f0f921"
             ]
            ],
            "type": "heatmapgl"
           }
          ],
          "histogram": [
           {
            "marker": {
             "pattern": {
              "fillmode": "overlay",
              "size": 10,
              "solidity": 0.2
             }
            },
            "type": "histogram"
           }
          ],
          "histogram2d": [
           {
            "colorbar": {
             "outlinewidth": 0,
             "ticks": ""
            },
            "colorscale": [
             [
              0,
              "#0d0887"
             ],
             [
              0.1111111111111111,
              "#46039f"
             ],
             [
              0.2222222222222222,
              "#7201a8"
             ],
             [
              0.3333333333333333,
              "#9c179e"
             ],
             [
              0.4444444444444444,
              "#bd3786"
             ],
             [
              0.5555555555555556,
              "#d8576b"
             ],
             [
              0.6666666666666666,
              "#ed7953"
             ],
             [
              0.7777777777777778,
              "#fb9f3a"
             ],
             [
              0.8888888888888888,
              "#fdca26"
             ],
             [
              1,
              "#f0f921"
             ]
            ],
            "type": "histogram2d"
           }
          ],
          "histogram2dcontour": [
           {
            "colorbar": {
             "outlinewidth": 0,
             "ticks": ""
            },
            "colorscale": [
             [
              0,
              "#0d0887"
             ],
             [
              0.1111111111111111,
              "#46039f"
             ],
             [
              0.2222222222222222,
              "#7201a8"
             ],
             [
              0.3333333333333333,
              "#9c179e"
             ],
             [
              0.4444444444444444,
              "#bd3786"
             ],
             [
              0.5555555555555556,
              "#d8576b"
             ],
             [
              0.6666666666666666,
              "#ed7953"
             ],
             [
              0.7777777777777778,
              "#fb9f3a"
             ],
             [
              0.8888888888888888,
              "#fdca26"
             ],
             [
              1,
              "#f0f921"
             ]
            ],
            "type": "histogram2dcontour"
           }
          ],
          "mesh3d": [
           {
            "colorbar": {
             "outlinewidth": 0,
             "ticks": ""
            },
            "type": "mesh3d"
           }
          ],
          "parcoords": [
           {
            "line": {
             "colorbar": {
              "outlinewidth": 0,
              "ticks": ""
             }
            },
            "type": "parcoords"
           }
          ],
          "pie": [
           {
            "automargin": true,
            "type": "pie"
           }
          ],
          "scatter": [
           {
            "marker": {
             "colorbar": {
              "outlinewidth": 0,
              "ticks": ""
             }
            },
            "type": "scatter"
           }
          ],
          "scatter3d": [
           {
            "line": {
             "colorbar": {
              "outlinewidth": 0,
              "ticks": ""
             }
            },
            "marker": {
             "colorbar": {
              "outlinewidth": 0,
              "ticks": ""
             }
            },
            "type": "scatter3d"
           }
          ],
          "scattercarpet": [
           {
            "marker": {
             "colorbar": {
              "outlinewidth": 0,
              "ticks": ""
             }
            },
            "type": "scattercarpet"
           }
          ],
          "scattergeo": [
           {
            "marker": {
             "colorbar": {
              "outlinewidth": 0,
              "ticks": ""
             }
            },
            "type": "scattergeo"
           }
          ],
          "scattergl": [
           {
            "marker": {
             "colorbar": {
              "outlinewidth": 0,
              "ticks": ""
             }
            },
            "type": "scattergl"
           }
          ],
          "scattermapbox": [
           {
            "marker": {
             "colorbar": {
              "outlinewidth": 0,
              "ticks": ""
             }
            },
            "type": "scattermapbox"
           }
          ],
          "scatterpolar": [
           {
            "marker": {
             "colorbar": {
              "outlinewidth": 0,
              "ticks": ""
             }
            },
            "type": "scatterpolar"
           }
          ],
          "scatterpolargl": [
           {
            "marker": {
             "colorbar": {
              "outlinewidth": 0,
              "ticks": ""
             }
            },
            "type": "scatterpolargl"
           }
          ],
          "scatterternary": [
           {
            "marker": {
             "colorbar": {
              "outlinewidth": 0,
              "ticks": ""
             }
            },
            "type": "scatterternary"
           }
          ],
          "surface": [
           {
            "colorbar": {
             "outlinewidth": 0,
             "ticks": ""
            },
            "colorscale": [
             [
              0,
              "#0d0887"
             ],
             [
              0.1111111111111111,
              "#46039f"
             ],
             [
              0.2222222222222222,
              "#7201a8"
             ],
             [
              0.3333333333333333,
              "#9c179e"
             ],
             [
              0.4444444444444444,
              "#bd3786"
             ],
             [
              0.5555555555555556,
              "#d8576b"
             ],
             [
              0.6666666666666666,
              "#ed7953"
             ],
             [
              0.7777777777777778,
              "#fb9f3a"
             ],
             [
              0.8888888888888888,
              "#fdca26"
             ],
             [
              1,
              "#f0f921"
             ]
            ],
            "type": "surface"
           }
          ],
          "table": [
           {
            "cells": {
             "fill": {
              "color": "#EBF0F8"
             },
             "line": {
              "color": "white"
             }
            },
            "header": {
             "fill": {
              "color": "#C8D4E3"
             },
             "line": {
              "color": "white"
             }
            },
            "type": "table"
           }
          ]
         },
         "layout": {
          "annotationdefaults": {
           "arrowcolor": "#2a3f5f",
           "arrowhead": 0,
           "arrowwidth": 1
          },
          "autotypenumbers": "strict",
          "coloraxis": {
           "colorbar": {
            "outlinewidth": 0,
            "ticks": ""
           }
          },
          "colorscale": {
           "diverging": [
            [
             0,
             "#8e0152"
            ],
            [
             0.1,
             "#c51b7d"
            ],
            [
             0.2,
             "#de77ae"
            ],
            [
             0.3,
             "#f1b6da"
            ],
            [
             0.4,
             "#fde0ef"
            ],
            [
             0.5,
             "#f7f7f7"
            ],
            [
             0.6,
             "#e6f5d0"
            ],
            [
             0.7,
             "#b8e186"
            ],
            [
             0.8,
             "#7fbc41"
            ],
            [
             0.9,
             "#4d9221"
            ],
            [
             1,
             "#276419"
            ]
           ],
           "sequential": [
            [
             0,
             "#0d0887"
            ],
            [
             0.1111111111111111,
             "#46039f"
            ],
            [
             0.2222222222222222,
             "#7201a8"
            ],
            [
             0.3333333333333333,
             "#9c179e"
            ],
            [
             0.4444444444444444,
             "#bd3786"
            ],
            [
             0.5555555555555556,
             "#d8576b"
            ],
            [
             0.6666666666666666,
             "#ed7953"
            ],
            [
             0.7777777777777778,
             "#fb9f3a"
            ],
            [
             0.8888888888888888,
             "#fdca26"
            ],
            [
             1,
             "#f0f921"
            ]
           ],
           "sequentialminus": [
            [
             0,
             "#0d0887"
            ],
            [
             0.1111111111111111,
             "#46039f"
            ],
            [
             0.2222222222222222,
             "#7201a8"
            ],
            [
             0.3333333333333333,
             "#9c179e"
            ],
            [
             0.4444444444444444,
             "#bd3786"
            ],
            [
             0.5555555555555556,
             "#d8576b"
            ],
            [
             0.6666666666666666,
             "#ed7953"
            ],
            [
             0.7777777777777778,
             "#fb9f3a"
            ],
            [
             0.8888888888888888,
             "#fdca26"
            ],
            [
             1,
             "#f0f921"
            ]
           ]
          },
          "colorway": [
           "#636efa",
           "#EF553B",
           "#00cc96",
           "#ab63fa",
           "#FFA15A",
           "#19d3f3",
           "#FF6692",
           "#B6E880",
           "#FF97FF",
           "#FECB52"
          ],
          "font": {
           "color": "#2a3f5f"
          },
          "geo": {
           "bgcolor": "white",
           "lakecolor": "white",
           "landcolor": "#E5ECF6",
           "showlakes": true,
           "showland": true,
           "subunitcolor": "white"
          },
          "hoverlabel": {
           "align": "left"
          },
          "hovermode": "closest",
          "mapbox": {
           "style": "light"
          },
          "paper_bgcolor": "white",
          "plot_bgcolor": "#E5ECF6",
          "polar": {
           "angularaxis": {
            "gridcolor": "white",
            "linecolor": "white",
            "ticks": ""
           },
           "bgcolor": "#E5ECF6",
           "radialaxis": {
            "gridcolor": "white",
            "linecolor": "white",
            "ticks": ""
           }
          },
          "scene": {
           "xaxis": {
            "backgroundcolor": "#E5ECF6",
            "gridcolor": "white",
            "gridwidth": 2,
            "linecolor": "white",
            "showbackground": true,
            "ticks": "",
            "zerolinecolor": "white"
           },
           "yaxis": {
            "backgroundcolor": "#E5ECF6",
            "gridcolor": "white",
            "gridwidth": 2,
            "linecolor": "white",
            "showbackground": true,
            "ticks": "",
            "zerolinecolor": "white"
           },
           "zaxis": {
            "backgroundcolor": "#E5ECF6",
            "gridcolor": "white",
            "gridwidth": 2,
            "linecolor": "white",
            "showbackground": true,
            "ticks": "",
            "zerolinecolor": "white"
           }
          },
          "shapedefaults": {
           "line": {
            "color": "#2a3f5f"
           }
          },
          "ternary": {
           "aaxis": {
            "gridcolor": "white",
            "linecolor": "white",
            "ticks": ""
           },
           "baxis": {
            "gridcolor": "white",
            "linecolor": "white",
            "ticks": ""
           },
           "bgcolor": "#E5ECF6",
           "caxis": {
            "gridcolor": "white",
            "linecolor": "white",
            "ticks": ""
           }
          },
          "title": {
           "x": 0.05
          },
          "xaxis": {
           "automargin": true,
           "gridcolor": "white",
           "linecolor": "white",
           "ticks": "",
           "title": {
            "standoff": 15
           },
           "zerolinecolor": "white",
           "zerolinewidth": 2
          },
          "yaxis": {
           "automargin": true,
           "gridcolor": "white",
           "linecolor": "white",
           "ticks": "",
           "title": {
            "standoff": 15
           },
           "zerolinecolor": "white",
           "zerolinewidth": 2
          }
         }
        },
        "xaxis": {
         "anchor": "y",
         "domain": [
          0,
          1
         ],
         "title": {
          "text": "AvgTaxesAsPctCigarettePrice"
         }
        },
        "yaxis": {
         "anchor": "x",
         "domain": [
          0,
          1
         ],
         "title": {
          "text": "EnforceBansTobaccoAd"
         }
        }
       }
      }
     },
     "metadata": {},
     "output_type": "display_data"
    }
   ],
   "source": [
    "px.scatter(reg_use_df, x=\"AvgTaxesAsPctCigarettePrice\", y=\"EnforceBansTobaccoAd\", size=\"Pct_Smoking\", hover_name=\"Entity\")"
   ]
  },
  {
   "cell_type": "markdown",
   "metadata": {},
   "source": [
    "Question: Do countries with higher taxes on cigarettes have lower percentage of smokers?\n",
    "\n",
    "Graph: Percent of smokers in a country after an onset period vs taxes imposed on cigarettes."
   ]
  },
  {
   "cell_type": "code",
   "execution_count": 99,
   "metadata": {},
   "outputs": [
    {
     "data": {
      "application/vnd.plotly.v1+json": {
       "config": {
        "plotlyServerURL": "https://plot.ly"
       },
       "data": [
        {
         "hovertemplate": "AvgTaxesAsPctCigarettePrice=%{x}<br>Pct_Smoking=%{y}<extra></extra>",
         "legendgroup": "",
         "marker": {
          "color": "#636efa",
          "symbol": "circle"
         },
         "mode": "markers",
         "name": "",
         "orientation": "v",
         "showlegend": false,
         "type": "scatter",
         "x": [
          47,
          40.9,
          69.9,
          69.7,
          38.4,
          44.1,
          63.1,
          58.4,
          75,
          74.9,
          19.8,
          17.6,
          41.6,
          63.8,
          75.6,
          41.2,
          52.7,
          76.4,
          76.4,
          75.2,
          86,
          62.6,
          64.3,
          86.4,
          84,
          41.2,
          17.1,
          22.2,
          21.5,
          17.9,
          64.5,
          64.5,
          82,
          81.6,
          47.7,
          47.8,
          50.9,
          49.5,
          50.8,
          71.8,
          70.4,
          74.8,
          75.8,
          77.3,
          80,
          75.6,
          78.7,
          78.8,
          58.3,
          57.7,
          71.5,
          72,
          79.2,
          81.7,
          18.7,
          40.6,
          44,
          79.8,
          81.7,
          80,
          80.6,
          34.4,
          54.9,
          47.5,
          74.5,
          73.5,
          23.1,
          28.3,
          83.2,
          81.6,
          84.1,
          77.4,
          56.9,
          56.4,
          33.2,
          66.1,
          35.5,
          50.8,
          2.7,
          4.3,
          78.8,
          77.8,
          85,
          75.5,
          76.1,
          46.1,
          42.9,
          63.2,
          62.9,
          27,
          39.7,
          48.8,
          49.3,
          78.7,
          77.3,
          44.4,
          48.3,
          75.8,
          77.6,
          71.1,
          70.7,
          58.4,
          59.8,
          38.1,
          66.5,
          65.8,
          44.6,
          51.6,
          0,
          44.2,
          68,
          68.4,
          32.9,
          46.6,
          73.1,
          74.8,
          73.3,
          75,
          21.7,
          72.8,
          67.2,
          22.1,
          22.1,
          61.6,
          60.7,
          56.5,
          56.5,
          44.9,
          39.5,
          34.2,
          53,
          79.7,
          82.6,
          76.3,
          79.6,
          75.3,
          77.3,
          45,
          50.5,
          24.1,
          59.5,
          22.9,
          29,
          37.9,
          75.4,
          73.8,
          19.7,
          70.4,
          73.8,
          83.1,
          84.6,
          78.4,
          79.4,
          47.6,
          48.1,
          65.3,
          60.3,
          79.2,
          78.8,
          74.2,
          73.5,
          73.8,
          68.8,
          63.6,
          61.9,
          68.7,
          70.2,
          64.3,
          84.5,
          78.1,
          80.3,
          82.2,
          44.2,
          40.2,
          59.7,
          62.4,
          24.5,
          21.1,
          76.1,
          81.3,
          42.9,
          42.9,
          69,
          65.6,
          32.7,
          31.1,
          52.9,
          53.7,
          25.8,
          21.3,
          57.6,
          59.8,
          17.2,
          null,
          null,
          null,
          null,
          null,
          null,
          null,
          null,
          null,
          null,
          null,
          null,
          null,
          null,
          null,
          null,
          null,
          null,
          null,
          null,
          null,
          null,
          null,
          null,
          null,
          null,
          null,
          null,
          null,
          null,
          null,
          null,
          null,
          null,
          null,
          null,
          null,
          null,
          null,
          null,
          null,
          null,
          null,
          null,
          null,
          null,
          null,
          null,
          null,
          null,
          null,
          null,
          null,
          null,
          null,
          null,
          null,
          null,
          null,
          null,
          null,
          null,
          null,
          null,
          null,
          null,
          null,
          null,
          null,
          null,
          null,
          null,
          null,
          null,
          null,
          null,
          null,
          null,
          null,
          null,
          null,
          null,
          null,
          null,
          null,
          null,
          null,
          null,
          null,
          null,
          null,
          null,
          null,
          null,
          null,
          null,
          null,
          null,
          null,
          null,
          null,
          null,
          null,
          null,
          null,
          null,
          null,
          null,
          null,
          null,
          null,
          null,
          null,
          null,
          null,
          null,
          null,
          null,
          null,
          null,
          null,
          null,
          null,
          null,
          null,
          null,
          null,
          null,
          null,
          null,
          null,
          null,
          null,
          null,
          null,
          null,
          null,
          null,
          null,
          null,
          null,
          null,
          null,
          null,
          null,
          null,
          null,
          null,
          null,
          null,
          null,
          null,
          null,
          null,
          null,
          null,
          null,
          null,
          null,
          null,
          null,
          null,
          null,
          null,
          null,
          null,
          null,
          null,
          null,
          null,
          null,
          null,
          null,
          null,
          null,
          null,
          null,
          null,
          null,
          null,
          null,
          null,
          null,
          null,
          null,
          null,
          null,
          null,
          null,
          null,
          null,
          null,
          null,
          null,
          null,
          null,
          null,
          null,
          null,
          null,
          null,
          null,
          null,
          null,
          null,
          null,
          null,
          null,
          null,
          null,
          null,
          null,
          null,
          null,
          null,
          null,
          null,
          null,
          null,
          null,
          null,
          null,
          null,
          null,
          null,
          null,
          null,
          null,
          null,
          null,
          null,
          null,
          null,
          null,
          null,
          null,
          null,
          null,
          null,
          null,
          null,
          null,
          null,
          null,
          null,
          null,
          null,
          null,
          null,
          null,
          null,
          null,
          null,
          null,
          null,
          null,
          null,
          null,
          null,
          null,
          null,
          null,
          null,
          null,
          null,
          null,
          null,
          null,
          null,
          null,
          null,
          null,
          null,
          null,
          null,
          null,
          null,
          null,
          null,
          null,
          null,
          null,
          null,
          null,
          null,
          null,
          null,
          null,
          null,
          null,
          null,
          null,
          null,
          null,
          null,
          null,
          null,
          null,
          null,
          null,
          null,
          null,
          null,
          null,
          null,
          null,
          null,
          null,
          null,
          null,
          null,
          null,
          null,
          null,
          null,
          null,
          null,
          null,
          null,
          null,
          null,
          null,
          null,
          null,
          null,
          null,
          null,
          null,
          null,
          null,
          null,
          null,
          null,
          null,
          null,
          null,
          null,
          null,
          null,
          null,
          null,
          null,
          null,
          null,
          null,
          null,
          null,
          null,
          null,
          null,
          null,
          null,
          null,
          null,
          null,
          null,
          null,
          null,
          null,
          null,
          null,
          null,
          null,
          null,
          null,
          null,
          null,
          null,
          null,
          null,
          null,
          null,
          null,
          null,
          null,
          null,
          null,
          null,
          null,
          null,
          null,
          null,
          null,
          null,
          null,
          null,
          null,
          null,
          null,
          null,
          null,
          null,
          null,
          null,
          null,
          null,
          null,
          null,
          null,
          null,
          null,
          null,
          null
         ],
         "xaxis": "x",
         "y": [
          19.3,
          18.9,
          24.6,
          22.7,
          27.9,
          27.3,
          17.7,
          16.6,
          31.5,
          29.9,
          20.7,
          19.9,
          11,
          40.7,
          39.5,
          28,
          27,
          25.7,
          25.2,
          39.6,
          38.7,
          18.5,
          17.2,
          40.5,
          39.5,
          12.9,
          24.8,
          22.8,
          9.4,
          9.4,
          20,
          18.3,
          45.9,
          45,
          25.3,
          24.9,
          8.9,
          8.2,
          20.1,
          10.1,
          36.3,
          36.5,
          37.5,
          37,
          32.1,
          31.7,
          20.8,
          19.3,
          10.5,
          9.7,
          21.3,
          21.4,
          32.1,
          31,
          4.7,
          27.4,
          26.9,
          20.9,
          20.1,
          34.5,
          34.6,
          14.7,
          30.4,
          29.9,
          28.9,
          28.4,
          4,
          3.8,
          40.6,
          39.6,
          31.9,
          31,
          15.7,
          14.4,
          29.6,
          27.8,
          38.2,
          38.1,
          15.1,
          14.4,
          25.3,
          24.2,
          25.8,
          23.8,
          23.5,
          12,
          11.3,
          23.4,
          22.4,
          25.7,
          24.9,
          12.7,
          12.1,
          37.3,
          36.9,
          42.6,
          42.6,
          28.5,
          27.6,
          22.9,
          22.1,
          22.8,
          22.1,
          12,
          15.2,
          14.3,
          25,
          25.2,
          29,
          28.2,
          15.9,
          15.2,
          35.7,
          33.1,
          24.7,
          23.9,
          16.6,
          15.4,
          5.1,
          21.2,
          19.3,
          9.6,
          9.6,
          22.3,
          20.7,
          7.9,
          7.2,
          11.7,
          10.2,
          25.8,
          24.7,
          28.1,
          26.7,
          27.3,
          27.7,
          27.5,
          26.2,
          29,
          28.4,
          13.5,
          30.5,
          16.6,
          9.8,
          9.3,
          41.3,
          40.9,
          20.5,
          16.5,
          16.5,
          32,
          32.2,
          23.1,
          22.8,
          32.2,
          31.6,
          23.8,
          22.6,
          29.3,
          28.2,
          23.5,
          23.1,
          32,
          29.9,
          25.7,
          25.4,
          24.1,
          23.3,
          30.6,
          27.9,
          26.7,
          30.1,
          29.5,
          11.4,
          10.3,
          27.3,
          26,
          18.7,
          18.5,
          21.3,
          19.8,
          26,
          25.3,
          24,
          22.5,
          12.8,
          12.5,
          22.2,
          21.3,
          15.4,
          14.9,
          14.5,
          14.1,
          8.6,
          31.1,
          30.3,
          29.9,
          29.3,
          20,
          19.5,
          34.7,
          34.3,
          34.2,
          33.9,
          30.1,
          26.6,
          30,
          28.9,
          20.4,
          18.6,
          36.1,
          33.2,
          22.8,
          21.5,
          11.1,
          11,
          11,
          26,
          25.5,
          25.4,
          25.2,
          43.5,
          41.7,
          9.3,
          9,
          8.9,
          8.7,
          31,
          29.1,
          27,
          26.3,
          10.4,
          9.1,
          8.3,
          7.5,
          41.4,
          40.3,
          26.4,
          25.2,
          24.6,
          23.9,
          22.3,
          19.9,
          16.1,
          15.9,
          15.7,
          15.6,
          43.1,
          41.4,
          20.4,
          18.6,
          17.4,
          16.4,
          15.5,
          14.3,
          13.6,
          30.6,
          27,
          9.6,
          9.5,
          24.7,
          21.8,
          13,
          12.5,
          12.2,
          11.8,
          48.3,
          46.8,
          26.6,
          25.9,
          11,
          9.7,
          26.6,
          23.4,
          21.8,
          13.5,
          14.4,
          15,
          15.7,
          32.7,
          30.3,
          28.8,
          27.3,
          12.8,
          11.6,
          10.8,
          15.6,
          14.4,
          13.8,
          13.2,
          35.6,
          35.9,
          34.4,
          31.4,
          29.4,
          27.8,
          38.8,
          38,
          32.9,
          32.4,
          25.3,
          22.4,
          12.6,
          11.3,
          21.2,
          21.1,
          15.1,
          14.2,
          13.6,
          13,
          9.2,
          8.5,
          7.9,
          7.5,
          34.7,
          32.9,
          11.1,
          10.9,
          10.8,
          10.7,
          5.5,
          5.1,
          4.9,
          29,
          28.1,
          23.4,
          21.9,
          34.5,
          34.5,
          17.1,
          16.1,
          15.3,
          31.6,
          30.7,
          30.3,
          29.5,
          4.7,
          4.3,
          43.4,
          41.8,
          17.1,
          15,
          13.8,
          12.6,
          9.7,
          9.1,
          8.8,
          8.5,
          34.2,
          32.9,
          19.4,
          17.1,
          34.8,
          31.5,
          38.8,
          38.3,
          16.8,
          15.7,
          24.2,
          23.5,
          22.9,
          22.5,
          28.2,
          26.4,
          27.8,
          26.9,
          26.2,
          24.7,
          24.2,
          14,
          12.7,
          26.4,
          24.5,
          27.9,
          26.5,
          14.4,
          13.3,
          58.1,
          56,
          54.2,
          52.8,
          23.6,
          23,
          22.6,
          22.4,
          29.4,
          28.8,
          28.4,
          28.1,
          47,
          43.2,
          40.9,
          38.7,
          38.4,
          37.7,
          42.9,
          42.7,
          26,
          27.2,
          28,
          29.2,
          10.4,
          9.6,
          9.1,
          30.8,
          29.4,
          24.9,
          23.7,
          34,
          32,
          30.7,
          29.4,
          17.4,
          15.5,
          14.3,
          13.3,
          24.5,
          23.4,
          12.3,
          12.2,
          12.1,
          28.6,
          27.3,
          26.4,
          25.7,
          30.1,
          28.7,
          28,
          27.2,
          17.7,
          16.1,
          24.8,
          25,
          31.9,
          30.1,
          18,
          16.8,
          19.2,
          17.2,
          16,
          14.9,
          52.5,
          49.6,
          47.8,
          46.1,
          20.4,
          19.2,
          18.6,
          18.1,
          59.5,
          56.5,
          54.7,
          52.9,
          43.4,
          38.4,
          27,
          25.6,
          20.1,
          17.9,
          8.1,
          8.2,
          8.4,
          8.5,
          5.7,
          5.3,
          4.9,
          19.8,
          19.4,
          19.2,
          18.9,
          26.8,
          23.2,
          9.6,
          9.6,
          27.1,
          24.2,
          27.7,
          26.2,
          25.1,
          24.3,
          10.1,
          8.8,
          18.5,
          16.1,
          14.6,
          13.4,
          16.6,
          13.5,
          28.6,
          26.9,
          31.6,
          29.3,
          26.4,
          26.9,
          14.5,
          14.3,
          14.2,
          14.1,
          31.6,
          29.1,
          30.6,
          29.6,
          15.9,
          14.9,
          14.2,
          33.5,
          31.6,
          29.3,
          5.7,
          5.6,
          5.5,
          5.5,
          16.6,
          16.7,
          16.6,
          11.2,
          10.3,
          42.7,
          41.9,
          22.9,
          22.1,
          21.7,
          21.3,
          25.7,
          23.3,
          21.8,
          16.5,
          16.4,
          31.9,
          32,
          23.8,
          23.3,
          39.5,
          38.8,
          38.4,
          38,
          33.9,
          32.8,
          26.9,
          25,
          31.6,
          30.1,
          24.6,
          23.9,
          37.6,
          34.1,
          26.6,
          26.1,
          17,
          15.5,
          14.5,
          13.7,
          26.5,
          25,
          45.6,
          42.6,
          40.8,
          39,
          9.2,
          8.5,
          8.1,
          7.8,
          31.3,
          30.8,
          30.3,
          31.3,
          29.2,
          31.7,
          30.8,
          54.4,
          52.3,
          50.8,
          49.3,
          14.8,
          12.6,
          30.7,
          28.7,
          19.4,
          19,
          25.4,
          22.8,
          27.9,
          26.8,
          28.3,
          25.6,
          13.8,
          13.2,
          27.2,
          25.9,
          25.1,
          24.4,
          24.5,
          23,
          16.7,
          15.9,
          15.6,
          14.9
         ],
         "yaxis": "y"
        },
        {
         "hovertemplate": "<b>OLS trendline</b><br>Pct_Smoking = 0.216036 * AvgTaxesAsPctCigarettePrice + 11.0067<br>R<sup>2</sup>=0.235775<br><br>AvgTaxesAsPctCigarettePrice=%{x}<br>Pct_Smoking=%{y} <b>(trend)</b><extra></extra>",
         "legendgroup": "",
         "marker": {
          "color": "#636efa",
          "symbol": "circle"
         },
         "mode": "lines",
         "name": "",
         "showlegend": false,
         "type": "scatter",
         "x": [
          0,
          2.7,
          4.3,
          17.1,
          17.2,
          17.6,
          17.9,
          18.7,
          19.7,
          19.8,
          21.1,
          21.3,
          21.5,
          21.7,
          22.1,
          22.1,
          22.2,
          22.9,
          23.1,
          24.1,
          24.5,
          25.8,
          27,
          28.3,
          29,
          31.1,
          32.7,
          32.9,
          33.2,
          34.2,
          34.4,
          35.5,
          37.9,
          38.1,
          38.4,
          39.5,
          39.7,
          40.2,
          40.6,
          40.9,
          41.2,
          41.2,
          41.6,
          42.9,
          42.9,
          42.9,
          44,
          44.1,
          44.2,
          44.2,
          44.4,
          44.6,
          44.9,
          45,
          46.1,
          46.6,
          47,
          47.5,
          47.6,
          47.7,
          47.8,
          48.1,
          48.3,
          48.8,
          49.3,
          49.5,
          50.5,
          50.8,
          50.8,
          50.9,
          51.6,
          52.7,
          52.9,
          53,
          53.7,
          54.9,
          56.4,
          56.5,
          56.5,
          56.9,
          57.6,
          57.7,
          58.3,
          58.4,
          58.4,
          59.5,
          59.7,
          59.8,
          59.8,
          60.3,
          60.7,
          61.6,
          61.9,
          62.4,
          62.6,
          62.9,
          63.1,
          63.2,
          63.6,
          63.8,
          64.3,
          64.3,
          64.5,
          64.5,
          65.3,
          65.6,
          65.8,
          66.1,
          66.5,
          67.2,
          68,
          68.4,
          68.7,
          68.8,
          69,
          69.7,
          69.9,
          70.2,
          70.4,
          70.4,
          70.7,
          71.1,
          71.5,
          71.8,
          72,
          72.8,
          73.1,
          73.3,
          73.5,
          73.5,
          73.8,
          73.8,
          73.8,
          74.2,
          74.5,
          74.8,
          74.8,
          74.9,
          75,
          75,
          75.2,
          75.3,
          75.4,
          75.5,
          75.6,
          75.6,
          75.8,
          75.8,
          76.1,
          76.1,
          76.3,
          76.4,
          76.4,
          77.3,
          77.3,
          77.3,
          77.4,
          77.6,
          77.8,
          78.1,
          78.4,
          78.7,
          78.7,
          78.8,
          78.8,
          78.8,
          79.2,
          79.2,
          79.4,
          79.6,
          79.7,
          79.8,
          80,
          80,
          80.3,
          80.6,
          81.3,
          81.6,
          81.6,
          81.7,
          81.7,
          82,
          82.2,
          82.6,
          83.1,
          83.2,
          84,
          84.1,
          84.5,
          84.6,
          85,
          86,
          86.4
         ],
         "xaxis": "x",
         "y": [
          11.006722081089503,
          11.590019198076028,
          11.935676748882859,
          14.700937155337497,
          14.722540752262923,
          14.808955139964631,
          14.87376593074091,
          15.046594706144326,
          15.262630675398594,
          15.28423427232402,
          15.565081032354572,
          15.608288226205424,
          15.651495420056278,
          15.694702613907133,
          15.781117001608841,
          15.781117001608841,
          15.802720598534266,
          15.953945777012255,
          15.997152970863109,
          16.213188940117377,
          16.299603327819085,
          16.580450087849634,
          16.839693250954756,
          17.120540010985305,
          17.271765189463295,
          17.725440724897258,
          18.071098275704088,
          18.114305469554942,
          18.17911626033122,
          18.39515222958549,
          18.438359423436346,
          18.67599898961604,
          19.194485315826284,
          19.23769250967714,
          19.302503300453417,
          19.54014286663311,
          19.583350060483966,
          19.691368045111105,
          19.77778243281281,
          19.84259322358909,
          19.90740401436537,
          19.90740401436537,
          19.993818402067077,
          20.274665162097627,
          20.274665162097627,
          20.274665162097627,
          20.51230472827732,
          20.533908325202752,
          20.555511922128176,
          20.555511922128176,
          20.59871911597903,
          20.641926309829884,
          20.706737100606162,
          20.728340697531593,
          20.965980263711288,
          21.07399824833842,
          21.160412636040128,
          21.26843062066726,
          21.29003421759269,
          21.311637814518118,
          21.333241411443545,
          21.398052202219823,
          21.441259396070677,
          21.54927738069781,
          21.657295365324945,
          21.700502559175803,
          21.916538528430067,
          21.98134931920635,
          21.98134931920635,
          22.002952916131775,
          22.154178094609765,
          22.39181766078946,
          22.43502485464031,
          22.45662845156574,
          22.607853630043728,
          22.86709679314885,
          23.191150747030253,
          23.21275434395568,
          23.21275434395568,
          23.29916873165739,
          23.450393910135375,
          23.471997507060806,
          23.60161908861336,
          23.623222685538792,
          23.623222685538792,
          23.860862251718487,
          23.90406944556934,
          23.925673042494765,
          23.925673042494765,
          24.0336910271219,
          24.12010541482361,
          24.314537787152453,
          24.37934857792873,
          24.487366562555863,
          24.530573756406717,
          24.595384547183,
          24.638591741033856,
          24.66019533795928,
          24.74660972566099,
          24.789816919511843,
          24.897834904138975,
          24.897834904138975,
          24.94104209798983,
          24.94104209798983,
          25.113870873393246,
          25.178681664169524,
          25.221888858020378,
          25.286699648796656,
          25.373114036498364,
          25.524339214976358,
          25.697167990379768,
          25.783582378081476,
          25.848393168857758,
          25.869996765783185,
          25.91320395963404,
          26.064429138112025,
          26.10763633196288,
          26.17244712273916,
          26.215654316590015,
          26.215654316590015,
          26.280465107366297,
          26.366879495068,
          26.45329388276971,
          26.51810467354599,
          26.561311867396846,
          26.73414064280026,
          26.79895143357654,
          26.842158627427395,
          26.88536582127825,
          26.88536582127825,
          26.950176612054527,
          26.950176612054527,
          26.950176612054527,
          27.036590999756235,
          27.101401790532517,
          27.166212581308795,
          27.166212581308795,
          27.187816178234225,
          27.20941977515965,
          27.20941977515965,
          27.252626969010503,
          27.27423056593593,
          27.295834162861357,
          27.317437759786785,
          27.33904135671221,
          27.33904135671221,
          27.382248550563066,
          27.382248550563066,
          27.447059341339344,
          27.447059341339344,
          27.490266535190198,
          27.51187013211563,
          27.51187013211563,
          27.706302504444466,
          27.706302504444466,
          27.706302504444466,
          27.727906101369896,
          27.771113295220747,
          27.8143204890716,
          27.879131279847883,
          27.943942070624164,
          28.008752861400446,
          28.008752861400446,
          28.03035645832587,
          28.03035645832587,
          28.03035645832587,
          28.116770846027578,
          28.116770846027578,
          28.159978039878432,
          28.203185233729286,
          28.224788830654713,
          28.24639242758014,
          28.289599621430995,
          28.289599621430995,
          28.354410412207272,
          28.419221202983554,
          28.57044638146154,
          28.63525717223782,
          28.63525717223782,
          28.656860769163252,
          28.656860769163252,
          28.72167155993953,
          28.764878753790384,
          28.85129314149209,
          28.959311126119225,
          28.980914723044652,
          29.15374349844807,
          29.175347095373493,
          29.2617614830752,
          29.283365080000628,
          29.369779467702337,
          29.585815436956604,
          29.672229824658313
         ],
         "yaxis": "y"
        }
       ],
       "layout": {
        "legend": {
         "tracegroupgap": 0
        },
        "template": {
         "data": {
          "bar": [
           {
            "error_x": {
             "color": "#2a3f5f"
            },
            "error_y": {
             "color": "#2a3f5f"
            },
            "marker": {
             "line": {
              "color": "#E5ECF6",
              "width": 0.5
             },
             "pattern": {
              "fillmode": "overlay",
              "size": 10,
              "solidity": 0.2
             }
            },
            "type": "bar"
           }
          ],
          "barpolar": [
           {
            "marker": {
             "line": {
              "color": "#E5ECF6",
              "width": 0.5
             },
             "pattern": {
              "fillmode": "overlay",
              "size": 10,
              "solidity": 0.2
             }
            },
            "type": "barpolar"
           }
          ],
          "carpet": [
           {
            "aaxis": {
             "endlinecolor": "#2a3f5f",
             "gridcolor": "white",
             "linecolor": "white",
             "minorgridcolor": "white",
             "startlinecolor": "#2a3f5f"
            },
            "baxis": {
             "endlinecolor": "#2a3f5f",
             "gridcolor": "white",
             "linecolor": "white",
             "minorgridcolor": "white",
             "startlinecolor": "#2a3f5f"
            },
            "type": "carpet"
           }
          ],
          "choropleth": [
           {
            "colorbar": {
             "outlinewidth": 0,
             "ticks": ""
            },
            "type": "choropleth"
           }
          ],
          "contour": [
           {
            "colorbar": {
             "outlinewidth": 0,
             "ticks": ""
            },
            "colorscale": [
             [
              0,
              "#0d0887"
             ],
             [
              0.1111111111111111,
              "#46039f"
             ],
             [
              0.2222222222222222,
              "#7201a8"
             ],
             [
              0.3333333333333333,
              "#9c179e"
             ],
             [
              0.4444444444444444,
              "#bd3786"
             ],
             [
              0.5555555555555556,
              "#d8576b"
             ],
             [
              0.6666666666666666,
              "#ed7953"
             ],
             [
              0.7777777777777778,
              "#fb9f3a"
             ],
             [
              0.8888888888888888,
              "#fdca26"
             ],
             [
              1,
              "#f0f921"
             ]
            ],
            "type": "contour"
           }
          ],
          "contourcarpet": [
           {
            "colorbar": {
             "outlinewidth": 0,
             "ticks": ""
            },
            "type": "contourcarpet"
           }
          ],
          "heatmap": [
           {
            "colorbar": {
             "outlinewidth": 0,
             "ticks": ""
            },
            "colorscale": [
             [
              0,
              "#0d0887"
             ],
             [
              0.1111111111111111,
              "#46039f"
             ],
             [
              0.2222222222222222,
              "#7201a8"
             ],
             [
              0.3333333333333333,
              "#9c179e"
             ],
             [
              0.4444444444444444,
              "#bd3786"
             ],
             [
              0.5555555555555556,
              "#d8576b"
             ],
             [
              0.6666666666666666,
              "#ed7953"
             ],
             [
              0.7777777777777778,
              "#fb9f3a"
             ],
             [
              0.8888888888888888,
              "#fdca26"
             ],
             [
              1,
              "#f0f921"
             ]
            ],
            "type": "heatmap"
           }
          ],
          "heatmapgl": [
           {
            "colorbar": {
             "outlinewidth": 0,
             "ticks": ""
            },
            "colorscale": [
             [
              0,
              "#0d0887"
             ],
             [
              0.1111111111111111,
              "#46039f"
             ],
             [
              0.2222222222222222,
              "#7201a8"
             ],
             [
              0.3333333333333333,
              "#9c179e"
             ],
             [
              0.4444444444444444,
              "#bd3786"
             ],
             [
              0.5555555555555556,
              "#d8576b"
             ],
             [
              0.6666666666666666,
              "#ed7953"
             ],
             [
              0.7777777777777778,
              "#fb9f3a"
             ],
             [
              0.8888888888888888,
              "#fdca26"
             ],
             [
              1,
              "#f0f921"
             ]
            ],
            "type": "heatmapgl"
           }
          ],
          "histogram": [
           {
            "marker": {
             "pattern": {
              "fillmode": "overlay",
              "size": 10,
              "solidity": 0.2
             }
            },
            "type": "histogram"
           }
          ],
          "histogram2d": [
           {
            "colorbar": {
             "outlinewidth": 0,
             "ticks": ""
            },
            "colorscale": [
             [
              0,
              "#0d0887"
             ],
             [
              0.1111111111111111,
              "#46039f"
             ],
             [
              0.2222222222222222,
              "#7201a8"
             ],
             [
              0.3333333333333333,
              "#9c179e"
             ],
             [
              0.4444444444444444,
              "#bd3786"
             ],
             [
              0.5555555555555556,
              "#d8576b"
             ],
             [
              0.6666666666666666,
              "#ed7953"
             ],
             [
              0.7777777777777778,
              "#fb9f3a"
             ],
             [
              0.8888888888888888,
              "#fdca26"
             ],
             [
              1,
              "#f0f921"
             ]
            ],
            "type": "histogram2d"
           }
          ],
          "histogram2dcontour": [
           {
            "colorbar": {
             "outlinewidth": 0,
             "ticks": ""
            },
            "colorscale": [
             [
              0,
              "#0d0887"
             ],
             [
              0.1111111111111111,
              "#46039f"
             ],
             [
              0.2222222222222222,
              "#7201a8"
             ],
             [
              0.3333333333333333,
              "#9c179e"
             ],
             [
              0.4444444444444444,
              "#bd3786"
             ],
             [
              0.5555555555555556,
              "#d8576b"
             ],
             [
              0.6666666666666666,
              "#ed7953"
             ],
             [
              0.7777777777777778,
              "#fb9f3a"
             ],
             [
              0.8888888888888888,
              "#fdca26"
             ],
             [
              1,
              "#f0f921"
             ]
            ],
            "type": "histogram2dcontour"
           }
          ],
          "mesh3d": [
           {
            "colorbar": {
             "outlinewidth": 0,
             "ticks": ""
            },
            "type": "mesh3d"
           }
          ],
          "parcoords": [
           {
            "line": {
             "colorbar": {
              "outlinewidth": 0,
              "ticks": ""
             }
            },
            "type": "parcoords"
           }
          ],
          "pie": [
           {
            "automargin": true,
            "type": "pie"
           }
          ],
          "scatter": [
           {
            "marker": {
             "colorbar": {
              "outlinewidth": 0,
              "ticks": ""
             }
            },
            "type": "scatter"
           }
          ],
          "scatter3d": [
           {
            "line": {
             "colorbar": {
              "outlinewidth": 0,
              "ticks": ""
             }
            },
            "marker": {
             "colorbar": {
              "outlinewidth": 0,
              "ticks": ""
             }
            },
            "type": "scatter3d"
           }
          ],
          "scattercarpet": [
           {
            "marker": {
             "colorbar": {
              "outlinewidth": 0,
              "ticks": ""
             }
            },
            "type": "scattercarpet"
           }
          ],
          "scattergeo": [
           {
            "marker": {
             "colorbar": {
              "outlinewidth": 0,
              "ticks": ""
             }
            },
            "type": "scattergeo"
           }
          ],
          "scattergl": [
           {
            "marker": {
             "colorbar": {
              "outlinewidth": 0,
              "ticks": ""
             }
            },
            "type": "scattergl"
           }
          ],
          "scattermapbox": [
           {
            "marker": {
             "colorbar": {
              "outlinewidth": 0,
              "ticks": ""
             }
            },
            "type": "scattermapbox"
           }
          ],
          "scatterpolar": [
           {
            "marker": {
             "colorbar": {
              "outlinewidth": 0,
              "ticks": ""
             }
            },
            "type": "scatterpolar"
           }
          ],
          "scatterpolargl": [
           {
            "marker": {
             "colorbar": {
              "outlinewidth": 0,
              "ticks": ""
             }
            },
            "type": "scatterpolargl"
           }
          ],
          "scatterternary": [
           {
            "marker": {
             "colorbar": {
              "outlinewidth": 0,
              "ticks": ""
             }
            },
            "type": "scatterternary"
           }
          ],
          "surface": [
           {
            "colorbar": {
             "outlinewidth": 0,
             "ticks": ""
            },
            "colorscale": [
             [
              0,
              "#0d0887"
             ],
             [
              0.1111111111111111,
              "#46039f"
             ],
             [
              0.2222222222222222,
              "#7201a8"
             ],
             [
              0.3333333333333333,
              "#9c179e"
             ],
             [
              0.4444444444444444,
              "#bd3786"
             ],
             [
              0.5555555555555556,
              "#d8576b"
             ],
             [
              0.6666666666666666,
              "#ed7953"
             ],
             [
              0.7777777777777778,
              "#fb9f3a"
             ],
             [
              0.8888888888888888,
              "#fdca26"
             ],
             [
              1,
              "#f0f921"
             ]
            ],
            "type": "surface"
           }
          ],
          "table": [
           {
            "cells": {
             "fill": {
              "color": "#EBF0F8"
             },
             "line": {
              "color": "white"
             }
            },
            "header": {
             "fill": {
              "color": "#C8D4E3"
             },
             "line": {
              "color": "white"
             }
            },
            "type": "table"
           }
          ]
         },
         "layout": {
          "annotationdefaults": {
           "arrowcolor": "#2a3f5f",
           "arrowhead": 0,
           "arrowwidth": 1
          },
          "autotypenumbers": "strict",
          "coloraxis": {
           "colorbar": {
            "outlinewidth": 0,
            "ticks": ""
           }
          },
          "colorscale": {
           "diverging": [
            [
             0,
             "#8e0152"
            ],
            [
             0.1,
             "#c51b7d"
            ],
            [
             0.2,
             "#de77ae"
            ],
            [
             0.3,
             "#f1b6da"
            ],
            [
             0.4,
             "#fde0ef"
            ],
            [
             0.5,
             "#f7f7f7"
            ],
            [
             0.6,
             "#e6f5d0"
            ],
            [
             0.7,
             "#b8e186"
            ],
            [
             0.8,
             "#7fbc41"
            ],
            [
             0.9,
             "#4d9221"
            ],
            [
             1,
             "#276419"
            ]
           ],
           "sequential": [
            [
             0,
             "#0d0887"
            ],
            [
             0.1111111111111111,
             "#46039f"
            ],
            [
             0.2222222222222222,
             "#7201a8"
            ],
            [
             0.3333333333333333,
             "#9c179e"
            ],
            [
             0.4444444444444444,
             "#bd3786"
            ],
            [
             0.5555555555555556,
             "#d8576b"
            ],
            [
             0.6666666666666666,
             "#ed7953"
            ],
            [
             0.7777777777777778,
             "#fb9f3a"
            ],
            [
             0.8888888888888888,
             "#fdca26"
            ],
            [
             1,
             "#f0f921"
            ]
           ],
           "sequentialminus": [
            [
             0,
             "#0d0887"
            ],
            [
             0.1111111111111111,
             "#46039f"
            ],
            [
             0.2222222222222222,
             "#7201a8"
            ],
            [
             0.3333333333333333,
             "#9c179e"
            ],
            [
             0.4444444444444444,
             "#bd3786"
            ],
            [
             0.5555555555555556,
             "#d8576b"
            ],
            [
             0.6666666666666666,
             "#ed7953"
            ],
            [
             0.7777777777777778,
             "#fb9f3a"
            ],
            [
             0.8888888888888888,
             "#fdca26"
            ],
            [
             1,
             "#f0f921"
            ]
           ]
          },
          "colorway": [
           "#636efa",
           "#EF553B",
           "#00cc96",
           "#ab63fa",
           "#FFA15A",
           "#19d3f3",
           "#FF6692",
           "#B6E880",
           "#FF97FF",
           "#FECB52"
          ],
          "font": {
           "color": "#2a3f5f"
          },
          "geo": {
           "bgcolor": "white",
           "lakecolor": "white",
           "landcolor": "#E5ECF6",
           "showlakes": true,
           "showland": true,
           "subunitcolor": "white"
          },
          "hoverlabel": {
           "align": "left"
          },
          "hovermode": "closest",
          "mapbox": {
           "style": "light"
          },
          "paper_bgcolor": "white",
          "plot_bgcolor": "#E5ECF6",
          "polar": {
           "angularaxis": {
            "gridcolor": "white",
            "linecolor": "white",
            "ticks": ""
           },
           "bgcolor": "#E5ECF6",
           "radialaxis": {
            "gridcolor": "white",
            "linecolor": "white",
            "ticks": ""
           }
          },
          "scene": {
           "xaxis": {
            "backgroundcolor": "#E5ECF6",
            "gridcolor": "white",
            "gridwidth": 2,
            "linecolor": "white",
            "showbackground": true,
            "ticks": "",
            "zerolinecolor": "white"
           },
           "yaxis": {
            "backgroundcolor": "#E5ECF6",
            "gridcolor": "white",
            "gridwidth": 2,
            "linecolor": "white",
            "showbackground": true,
            "ticks": "",
            "zerolinecolor": "white"
           },
           "zaxis": {
            "backgroundcolor": "#E5ECF6",
            "gridcolor": "white",
            "gridwidth": 2,
            "linecolor": "white",
            "showbackground": true,
            "ticks": "",
            "zerolinecolor": "white"
           }
          },
          "shapedefaults": {
           "line": {
            "color": "#2a3f5f"
           }
          },
          "ternary": {
           "aaxis": {
            "gridcolor": "white",
            "linecolor": "white",
            "ticks": ""
           },
           "baxis": {
            "gridcolor": "white",
            "linecolor": "white",
            "ticks": ""
           },
           "bgcolor": "#E5ECF6",
           "caxis": {
            "gridcolor": "white",
            "linecolor": "white",
            "ticks": ""
           }
          },
          "title": {
           "x": 0.05
          },
          "xaxis": {
           "automargin": true,
           "gridcolor": "white",
           "linecolor": "white",
           "ticks": "",
           "title": {
            "standoff": 15
           },
           "zerolinecolor": "white",
           "zerolinewidth": 2
          },
          "yaxis": {
           "automargin": true,
           "gridcolor": "white",
           "linecolor": "white",
           "ticks": "",
           "title": {
            "standoff": 15
           },
           "zerolinecolor": "white",
           "zerolinewidth": 2
          }
         }
        },
        "title": {
         "text": "Percent Smoker vs. Taxes"
        },
        "xaxis": {
         "anchor": "y",
         "domain": [
          0,
          1
         ],
         "title": {
          "text": "AvgTaxesAsPctCigarettePrice"
         }
        },
        "yaxis": {
         "anchor": "x",
         "domain": [
          0,
          1
         ],
         "title": {
          "text": "Pct_Smoking"
         }
        }
       }
      }
     },
     "metadata": {},
     "output_type": "display_data"
    }
   ],
   "source": [
    "px.scatter(reg_use_df, x=\"AvgTaxesAsPctCigarettePrice\", y=\"Pct_Smoking\", title=\"Percent Smoker vs. Taxes\", trendline=\"ols\")"
   ]
  },
  {
   "cell_type": "markdown",
   "metadata": {},
   "source": [
    "Question: Do countries with stricter regulation on cigarette ads have a lower percentage of smokers?\n",
    "\n",
    "Graph: Percent of smokers in a country after an onset period vs ban on cigarette ads."
   ]
  },
  {
   "cell_type": "code",
   "execution_count": 100,
   "metadata": {},
   "outputs": [
    {
     "data": {
      "application/vnd.plotly.v1+json": {
       "config": {
        "plotlyServerURL": "https://plot.ly"
       },
       "data": [
        {
         "alignmentgroup": "True",
         "error_y": {
          "array": [
           11.232602653691599,
           12.232947314527273,
           9.223682302077949,
           12.239340217871204
          ]
         },
         "hovertemplate": "EnforceBansTobaccoAd=%{x}<br>Pct_Smoking=%{y}<extra></extra>",
         "legendgroup": "",
         "marker": {
          "color": "#636efa",
          "pattern": {
           "shape": ""
          }
         },
         "name": "",
         "offsetgroup": "",
         "orientation": "v",
         "showlegend": false,
         "textposition": "auto",
         "type": "bar",
         "x": [
          2,
          3,
          4,
          5
         ],
         "xaxis": "x",
         "y": [
          20.47806122448978,
          21.65,
          26.443452380952365,
          20.52258064516129
         ],
         "yaxis": "y"
        }
       ],
       "layout": {
        "barmode": "relative",
        "legend": {
         "tracegroupgap": 0
        },
        "template": {
         "data": {
          "bar": [
           {
            "error_x": {
             "color": "#2a3f5f"
            },
            "error_y": {
             "color": "#2a3f5f"
            },
            "marker": {
             "line": {
              "color": "#E5ECF6",
              "width": 0.5
             },
             "pattern": {
              "fillmode": "overlay",
              "size": 10,
              "solidity": 0.2
             }
            },
            "type": "bar"
           }
          ],
          "barpolar": [
           {
            "marker": {
             "line": {
              "color": "#E5ECF6",
              "width": 0.5
             },
             "pattern": {
              "fillmode": "overlay",
              "size": 10,
              "solidity": 0.2
             }
            },
            "type": "barpolar"
           }
          ],
          "carpet": [
           {
            "aaxis": {
             "endlinecolor": "#2a3f5f",
             "gridcolor": "white",
             "linecolor": "white",
             "minorgridcolor": "white",
             "startlinecolor": "#2a3f5f"
            },
            "baxis": {
             "endlinecolor": "#2a3f5f",
             "gridcolor": "white",
             "linecolor": "white",
             "minorgridcolor": "white",
             "startlinecolor": "#2a3f5f"
            },
            "type": "carpet"
           }
          ],
          "choropleth": [
           {
            "colorbar": {
             "outlinewidth": 0,
             "ticks": ""
            },
            "type": "choropleth"
           }
          ],
          "contour": [
           {
            "colorbar": {
             "outlinewidth": 0,
             "ticks": ""
            },
            "colorscale": [
             [
              0,
              "#0d0887"
             ],
             [
              0.1111111111111111,
              "#46039f"
             ],
             [
              0.2222222222222222,
              "#7201a8"
             ],
             [
              0.3333333333333333,
              "#9c179e"
             ],
             [
              0.4444444444444444,
              "#bd3786"
             ],
             [
              0.5555555555555556,
              "#d8576b"
             ],
             [
              0.6666666666666666,
              "#ed7953"
             ],
             [
              0.7777777777777778,
              "#fb9f3a"
             ],
             [
              0.8888888888888888,
              "#fdca26"
             ],
             [
              1,
              "#f0f921"
             ]
            ],
            "type": "contour"
           }
          ],
          "contourcarpet": [
           {
            "colorbar": {
             "outlinewidth": 0,
             "ticks": ""
            },
            "type": "contourcarpet"
           }
          ],
          "heatmap": [
           {
            "colorbar": {
             "outlinewidth": 0,
             "ticks": ""
            },
            "colorscale": [
             [
              0,
              "#0d0887"
             ],
             [
              0.1111111111111111,
              "#46039f"
             ],
             [
              0.2222222222222222,
              "#7201a8"
             ],
             [
              0.3333333333333333,
              "#9c179e"
             ],
             [
              0.4444444444444444,
              "#bd3786"
             ],
             [
              0.5555555555555556,
              "#d8576b"
             ],
             [
              0.6666666666666666,
              "#ed7953"
             ],
             [
              0.7777777777777778,
              "#fb9f3a"
             ],
             [
              0.8888888888888888,
              "#fdca26"
             ],
             [
              1,
              "#f0f921"
             ]
            ],
            "type": "heatmap"
           }
          ],
          "heatmapgl": [
           {
            "colorbar": {
             "outlinewidth": 0,
             "ticks": ""
            },
            "colorscale": [
             [
              0,
              "#0d0887"
             ],
             [
              0.1111111111111111,
              "#46039f"
             ],
             [
              0.2222222222222222,
              "#7201a8"
             ],
             [
              0.3333333333333333,
              "#9c179e"
             ],
             [
              0.4444444444444444,
              "#bd3786"
             ],
             [
              0.5555555555555556,
              "#d8576b"
             ],
             [
              0.6666666666666666,
              "#ed7953"
             ],
             [
              0.7777777777777778,
              "#fb9f3a"
             ],
             [
              0.8888888888888888,
              "#fdca26"
             ],
             [
              1,
              "#f0f921"
             ]
            ],
            "type": "heatmapgl"
           }
          ],
          "histogram": [
           {
            "marker": {
             "pattern": {
              "fillmode": "overlay",
              "size": 10,
              "solidity": 0.2
             }
            },
            "type": "histogram"
           }
          ],
          "histogram2d": [
           {
            "colorbar": {
             "outlinewidth": 0,
             "ticks": ""
            },
            "colorscale": [
             [
              0,
              "#0d0887"
             ],
             [
              0.1111111111111111,
              "#46039f"
             ],
             [
              0.2222222222222222,
              "#7201a8"
             ],
             [
              0.3333333333333333,
              "#9c179e"
             ],
             [
              0.4444444444444444,
              "#bd3786"
             ],
             [
              0.5555555555555556,
              "#d8576b"
             ],
             [
              0.6666666666666666,
              "#ed7953"
             ],
             [
              0.7777777777777778,
              "#fb9f3a"
             ],
             [
              0.8888888888888888,
              "#fdca26"
             ],
             [
              1,
              "#f0f921"
             ]
            ],
            "type": "histogram2d"
           }
          ],
          "histogram2dcontour": [
           {
            "colorbar": {
             "outlinewidth": 0,
             "ticks": ""
            },
            "colorscale": [
             [
              0,
              "#0d0887"
             ],
             [
              0.1111111111111111,
              "#46039f"
             ],
             [
              0.2222222222222222,
              "#7201a8"
             ],
             [
              0.3333333333333333,
              "#9c179e"
             ],
             [
              0.4444444444444444,
              "#bd3786"
             ],
             [
              0.5555555555555556,
              "#d8576b"
             ],
             [
              0.6666666666666666,
              "#ed7953"
             ],
             [
              0.7777777777777778,
              "#fb9f3a"
             ],
             [
              0.8888888888888888,
              "#fdca26"
             ],
             [
              1,
              "#f0f921"
             ]
            ],
            "type": "histogram2dcontour"
           }
          ],
          "mesh3d": [
           {
            "colorbar": {
             "outlinewidth": 0,
             "ticks": ""
            },
            "type": "mesh3d"
           }
          ],
          "parcoords": [
           {
            "line": {
             "colorbar": {
              "outlinewidth": 0,
              "ticks": ""
             }
            },
            "type": "parcoords"
           }
          ],
          "pie": [
           {
            "automargin": true,
            "type": "pie"
           }
          ],
          "scatter": [
           {
            "marker": {
             "colorbar": {
              "outlinewidth": 0,
              "ticks": ""
             }
            },
            "type": "scatter"
           }
          ],
          "scatter3d": [
           {
            "line": {
             "colorbar": {
              "outlinewidth": 0,
              "ticks": ""
             }
            },
            "marker": {
             "colorbar": {
              "outlinewidth": 0,
              "ticks": ""
             }
            },
            "type": "scatter3d"
           }
          ],
          "scattercarpet": [
           {
            "marker": {
             "colorbar": {
              "outlinewidth": 0,
              "ticks": ""
             }
            },
            "type": "scattercarpet"
           }
          ],
          "scattergeo": [
           {
            "marker": {
             "colorbar": {
              "outlinewidth": 0,
              "ticks": ""
             }
            },
            "type": "scattergeo"
           }
          ],
          "scattergl": [
           {
            "marker": {
             "colorbar": {
              "outlinewidth": 0,
              "ticks": ""
             }
            },
            "type": "scattergl"
           }
          ],
          "scattermapbox": [
           {
            "marker": {
             "colorbar": {
              "outlinewidth": 0,
              "ticks": ""
             }
            },
            "type": "scattermapbox"
           }
          ],
          "scatterpolar": [
           {
            "marker": {
             "colorbar": {
              "outlinewidth": 0,
              "ticks": ""
             }
            },
            "type": "scatterpolar"
           }
          ],
          "scatterpolargl": [
           {
            "marker": {
             "colorbar": {
              "outlinewidth": 0,
              "ticks": ""
             }
            },
            "type": "scatterpolargl"
           }
          ],
          "scatterternary": [
           {
            "marker": {
             "colorbar": {
              "outlinewidth": 0,
              "ticks": ""
             }
            },
            "type": "scatterternary"
           }
          ],
          "surface": [
           {
            "colorbar": {
             "outlinewidth": 0,
             "ticks": ""
            },
            "colorscale": [
             [
              0,
              "#0d0887"
             ],
             [
              0.1111111111111111,
              "#46039f"
             ],
             [
              0.2222222222222222,
              "#7201a8"
             ],
             [
              0.3333333333333333,
              "#9c179e"
             ],
             [
              0.4444444444444444,
              "#bd3786"
             ],
             [
              0.5555555555555556,
              "#d8576b"
             ],
             [
              0.6666666666666666,
              "#ed7953"
             ],
             [
              0.7777777777777778,
              "#fb9f3a"
             ],
             [
              0.8888888888888888,
              "#fdca26"
             ],
             [
              1,
              "#f0f921"
             ]
            ],
            "type": "surface"
           }
          ],
          "table": [
           {
            "cells": {
             "fill": {
              "color": "#EBF0F8"
             },
             "line": {
              "color": "white"
             }
            },
            "header": {
             "fill": {
              "color": "#C8D4E3"
             },
             "line": {
              "color": "white"
             }
            },
            "type": "table"
           }
          ]
         },
         "layout": {
          "annotationdefaults": {
           "arrowcolor": "#2a3f5f",
           "arrowhead": 0,
           "arrowwidth": 1
          },
          "autotypenumbers": "strict",
          "coloraxis": {
           "colorbar": {
            "outlinewidth": 0,
            "ticks": ""
           }
          },
          "colorscale": {
           "diverging": [
            [
             0,
             "#8e0152"
            ],
            [
             0.1,
             "#c51b7d"
            ],
            [
             0.2,
             "#de77ae"
            ],
            [
             0.3,
             "#f1b6da"
            ],
            [
             0.4,
             "#fde0ef"
            ],
            [
             0.5,
             "#f7f7f7"
            ],
            [
             0.6,
             "#e6f5d0"
            ],
            [
             0.7,
             "#b8e186"
            ],
            [
             0.8,
             "#7fbc41"
            ],
            [
             0.9,
             "#4d9221"
            ],
            [
             1,
             "#276419"
            ]
           ],
           "sequential": [
            [
             0,
             "#0d0887"
            ],
            [
             0.1111111111111111,
             "#46039f"
            ],
            [
             0.2222222222222222,
             "#7201a8"
            ],
            [
             0.3333333333333333,
             "#9c179e"
            ],
            [
             0.4444444444444444,
             "#bd3786"
            ],
            [
             0.5555555555555556,
             "#d8576b"
            ],
            [
             0.6666666666666666,
             "#ed7953"
            ],
            [
             0.7777777777777778,
             "#fb9f3a"
            ],
            [
             0.8888888888888888,
             "#fdca26"
            ],
            [
             1,
             "#f0f921"
            ]
           ],
           "sequentialminus": [
            [
             0,
             "#0d0887"
            ],
            [
             0.1111111111111111,
             "#46039f"
            ],
            [
             0.2222222222222222,
             "#7201a8"
            ],
            [
             0.3333333333333333,
             "#9c179e"
            ],
            [
             0.4444444444444444,
             "#bd3786"
            ],
            [
             0.5555555555555556,
             "#d8576b"
            ],
            [
             0.6666666666666666,
             "#ed7953"
            ],
            [
             0.7777777777777778,
             "#fb9f3a"
            ],
            [
             0.8888888888888888,
             "#fdca26"
            ],
            [
             1,
             "#f0f921"
            ]
           ]
          },
          "colorway": [
           "#636efa",
           "#EF553B",
           "#00cc96",
           "#ab63fa",
           "#FFA15A",
           "#19d3f3",
           "#FF6692",
           "#B6E880",
           "#FF97FF",
           "#FECB52"
          ],
          "font": {
           "color": "#2a3f5f"
          },
          "geo": {
           "bgcolor": "white",
           "lakecolor": "white",
           "landcolor": "#E5ECF6",
           "showlakes": true,
           "showland": true,
           "subunitcolor": "white"
          },
          "hoverlabel": {
           "align": "left"
          },
          "hovermode": "closest",
          "mapbox": {
           "style": "light"
          },
          "paper_bgcolor": "white",
          "plot_bgcolor": "#E5ECF6",
          "polar": {
           "angularaxis": {
            "gridcolor": "white",
            "linecolor": "white",
            "ticks": ""
           },
           "bgcolor": "#E5ECF6",
           "radialaxis": {
            "gridcolor": "white",
            "linecolor": "white",
            "ticks": ""
           }
          },
          "scene": {
           "xaxis": {
            "backgroundcolor": "#E5ECF6",
            "gridcolor": "white",
            "gridwidth": 2,
            "linecolor": "white",
            "showbackground": true,
            "ticks": "",
            "zerolinecolor": "white"
           },
           "yaxis": {
            "backgroundcolor": "#E5ECF6",
            "gridcolor": "white",
            "gridwidth": 2,
            "linecolor": "white",
            "showbackground": true,
            "ticks": "",
            "zerolinecolor": "white"
           },
           "zaxis": {
            "backgroundcolor": "#E5ECF6",
            "gridcolor": "white",
            "gridwidth": 2,
            "linecolor": "white",
            "showbackground": true,
            "ticks": "",
            "zerolinecolor": "white"
           }
          },
          "shapedefaults": {
           "line": {
            "color": "#2a3f5f"
           }
          },
          "ternary": {
           "aaxis": {
            "gridcolor": "white",
            "linecolor": "white",
            "ticks": ""
           },
           "baxis": {
            "gridcolor": "white",
            "linecolor": "white",
            "ticks": ""
           },
           "bgcolor": "#E5ECF6",
           "caxis": {
            "gridcolor": "white",
            "linecolor": "white",
            "ticks": ""
           }
          },
          "title": {
           "x": 0.05
          },
          "xaxis": {
           "automargin": true,
           "gridcolor": "white",
           "linecolor": "white",
           "ticks": "",
           "title": {
            "standoff": 15
           },
           "zerolinecolor": "white",
           "zerolinewidth": 2
          },
          "yaxis": {
           "automargin": true,
           "gridcolor": "white",
           "linecolor": "white",
           "ticks": "",
           "title": {
            "standoff": 15
           },
           "zerolinecolor": "white",
           "zerolinewidth": 2
          }
         }
        },
        "title": {
         "text": "Percent Smoker vs. Ads ban"
        },
        "xaxis": {
         "anchor": "y",
         "domain": [
          0,
          1
         ],
         "title": {
          "text": "EnforceBansTobaccoAd"
         }
        },
        "yaxis": {
         "anchor": "x",
         "domain": [
          0,
          1
         ],
         "title": {
          "text": "Pct_Smoking"
         }
        }
       }
      }
     },
     "metadata": {},
     "output_type": "display_data"
    }
   ],
   "source": [
    "ban_df = reg_use_df.groupby(\"EnforceBansTobaccoAd\").mean()\n",
    "ban_df[\"Smoking_Std\"] = reg_use_df.groupby(\"EnforceBansTobaccoAd\").std()[\"Pct_Smoking\"]\n",
    "\n",
    "px.bar(ban_df, x=ban_df.index, y=\"Pct_Smoking\", title=\"Percent Smoker vs. Ads ban\", error_y=\"Smoking_Std\")"
   ]
  },
  {
   "cell_type": "markdown",
   "metadata": {},
   "source": [
    "## Looking at consistency of policy across years"
   ]
  },
  {
   "cell_type": "code",
   "execution_count": 4,
   "id": "2239dbc9",
   "metadata": {},
   "outputs": [
    {
     "data": {
      "application/vnd.plotly.v1+json": {
       "config": {
        "plotlyServerURL": "https://plot.ly"
       },
       "data": [
        {
         "alignmentgroup": "True",
         "bingroup": "x",
         "hovertemplate": "variable=EnforceBansTobaccoAd<br>value=%{x}<br>count=%{y}<extra></extra>",
         "legendgroup": "EnforceBansTobaccoAd",
         "marker": {
          "color": "#636efa",
          "pattern": {
           "shape": ""
          }
         },
         "name": "EnforceBansTobaccoAd",
         "offsetgroup": "EnforceBansTobaccoAd",
         "orientation": "v",
         "showlegend": true,
         "type": "histogram",
         "x": [
          0,
          0,
          0,
          0,
          0,
          0,
          1.1547005383792515,
          0,
          0,
          0,
          0,
          0,
          1.4142135623730951,
          0,
          0,
          0,
          0,
          0,
          0,
          1,
          0,
          0,
          0,
          0.5773502691896258,
          0,
          0,
          0,
          0,
          1.1547005383792515,
          0,
          1,
          0,
          0,
          1,
          0,
          0,
          1.5,
          1,
          0,
          0,
          1.1547005383792515,
          0,
          0,
          0,
          0,
          0,
          0,
          0,
          0,
          0,
          0,
          1.1547005383792515,
          0,
          1.1547005383792515,
          0,
          0,
          0,
          1,
          1.1547005383792515,
          0,
          0,
          0,
          1,
          0,
          0,
          0.49999999999999994,
          1.7320508075688772,
          0,
          0,
          0,
          0.5773502691896258,
          0,
          0,
          0,
          1,
          0,
          0,
          0,
          0,
          0,
          0,
          0,
          0,
          0,
          0,
          0,
          0,
          0,
          0,
          1.5,
          0,
          1,
          0,
          0,
          1.1547005383792515,
          0,
          0,
          0.4999999999999999,
          0,
          0,
          0,
          0,
          0,
          0.4999999999999999,
          1.2583057392117916,
          0,
          0,
          0,
          0.4999999999999999,
          0,
          0,
          0,
          0,
          0,
          0,
          0,
          0,
          0,
          1,
          1,
          1.2583057392117916,
          0,
          0,
          0,
          0,
          0,
          0,
          0,
          0,
          0,
          0,
          1,
          1.1547005383792515,
          1.5,
          0,
          0,
          0,
          1,
          0,
          0,
          0,
          0,
          1.5,
          0,
          0,
          0,
          0,
          1,
          1,
          0,
          0,
          1,
          0,
          1,
          0,
          0,
          0,
          0,
          1,
          0,
          0,
          0,
          0,
          0.5,
          0,
          0,
          1.5,
          0,
          0,
          0,
          0,
          0,
          0,
          0,
          1.7320508075688772,
          0,
          0,
          0,
          1.4142135623730951,
          1,
          1.5,
          0,
          1,
          0.4999999999999999,
          0,
          0,
          1.2583057392117916,
          1.1547005383792515,
          1.5,
          0,
          0,
          0.4999999999999999,
          0,
          0
         ],
         "xaxis": "x",
         "yaxis": "y"
        }
       ],
       "layout": {
        "barmode": "relative",
        "legend": {
         "title": {
          "text": "variable"
         },
         "tracegroupgap": 0
        },
        "margin": {
         "t": 60
        },
        "template": {
         "data": {
          "bar": [
           {
            "error_x": {
             "color": "#2a3f5f"
            },
            "error_y": {
             "color": "#2a3f5f"
            },
            "marker": {
             "line": {
              "color": "#E5ECF6",
              "width": 0.5
             },
             "pattern": {
              "fillmode": "overlay",
              "size": 10,
              "solidity": 0.2
             }
            },
            "type": "bar"
           }
          ],
          "barpolar": [
           {
            "marker": {
             "line": {
              "color": "#E5ECF6",
              "width": 0.5
             },
             "pattern": {
              "fillmode": "overlay",
              "size": 10,
              "solidity": 0.2
             }
            },
            "type": "barpolar"
           }
          ],
          "carpet": [
           {
            "aaxis": {
             "endlinecolor": "#2a3f5f",
             "gridcolor": "white",
             "linecolor": "white",
             "minorgridcolor": "white",
             "startlinecolor": "#2a3f5f"
            },
            "baxis": {
             "endlinecolor": "#2a3f5f",
             "gridcolor": "white",
             "linecolor": "white",
             "minorgridcolor": "white",
             "startlinecolor": "#2a3f5f"
            },
            "type": "carpet"
           }
          ],
          "choropleth": [
           {
            "colorbar": {
             "outlinewidth": 0,
             "ticks": ""
            },
            "type": "choropleth"
           }
          ],
          "contour": [
           {
            "colorbar": {
             "outlinewidth": 0,
             "ticks": ""
            },
            "colorscale": [
             [
              0,
              "#0d0887"
             ],
             [
              0.1111111111111111,
              "#46039f"
             ],
             [
              0.2222222222222222,
              "#7201a8"
             ],
             [
              0.3333333333333333,
              "#9c179e"
             ],
             [
              0.4444444444444444,
              "#bd3786"
             ],
             [
              0.5555555555555556,
              "#d8576b"
             ],
             [
              0.6666666666666666,
              "#ed7953"
             ],
             [
              0.7777777777777778,
              "#fb9f3a"
             ],
             [
              0.8888888888888888,
              "#fdca26"
             ],
             [
              1,
              "#f0f921"
             ]
            ],
            "type": "contour"
           }
          ],
          "contourcarpet": [
           {
            "colorbar": {
             "outlinewidth": 0,
             "ticks": ""
            },
            "type": "contourcarpet"
           }
          ],
          "heatmap": [
           {
            "colorbar": {
             "outlinewidth": 0,
             "ticks": ""
            },
            "colorscale": [
             [
              0,
              "#0d0887"
             ],
             [
              0.1111111111111111,
              "#46039f"
             ],
             [
              0.2222222222222222,
              "#7201a8"
             ],
             [
              0.3333333333333333,
              "#9c179e"
             ],
             [
              0.4444444444444444,
              "#bd3786"
             ],
             [
              0.5555555555555556,
              "#d8576b"
             ],
             [
              0.6666666666666666,
              "#ed7953"
             ],
             [
              0.7777777777777778,
              "#fb9f3a"
             ],
             [
              0.8888888888888888,
              "#fdca26"
             ],
             [
              1,
              "#f0f921"
             ]
            ],
            "type": "heatmap"
           }
          ],
          "heatmapgl": [
           {
            "colorbar": {
             "outlinewidth": 0,
             "ticks": ""
            },
            "colorscale": [
             [
              0,
              "#0d0887"
             ],
             [
              0.1111111111111111,
              "#46039f"
             ],
             [
              0.2222222222222222,
              "#7201a8"
             ],
             [
              0.3333333333333333,
              "#9c179e"
             ],
             [
              0.4444444444444444,
              "#bd3786"
             ],
             [
              0.5555555555555556,
              "#d8576b"
             ],
             [
              0.6666666666666666,
              "#ed7953"
             ],
             [
              0.7777777777777778,
              "#fb9f3a"
             ],
             [
              0.8888888888888888,
              "#fdca26"
             ],
             [
              1,
              "#f0f921"
             ]
            ],
            "type": "heatmapgl"
           }
          ],
          "histogram": [
           {
            "marker": {
             "pattern": {
              "fillmode": "overlay",
              "size": 10,
              "solidity": 0.2
             }
            },
            "type": "histogram"
           }
          ],
          "histogram2d": [
           {
            "colorbar": {
             "outlinewidth": 0,
             "ticks": ""
            },
            "colorscale": [
             [
              0,
              "#0d0887"
             ],
             [
              0.1111111111111111,
              "#46039f"
             ],
             [
              0.2222222222222222,
              "#7201a8"
             ],
             [
              0.3333333333333333,
              "#9c179e"
             ],
             [
              0.4444444444444444,
              "#bd3786"
             ],
             [
              0.5555555555555556,
              "#d8576b"
             ],
             [
              0.6666666666666666,
              "#ed7953"
             ],
             [
              0.7777777777777778,
              "#fb9f3a"
             ],
             [
              0.8888888888888888,
              "#fdca26"
             ],
             [
              1,
              "#f0f921"
             ]
            ],
            "type": "histogram2d"
           }
          ],
          "histogram2dcontour": [
           {
            "colorbar": {
             "outlinewidth": 0,
             "ticks": ""
            },
            "colorscale": [
             [
              0,
              "#0d0887"
             ],
             [
              0.1111111111111111,
              "#46039f"
             ],
             [
              0.2222222222222222,
              "#7201a8"
             ],
             [
              0.3333333333333333,
              "#9c179e"
             ],
             [
              0.4444444444444444,
              "#bd3786"
             ],
             [
              0.5555555555555556,
              "#d8576b"
             ],
             [
              0.6666666666666666,
              "#ed7953"
             ],
             [
              0.7777777777777778,
              "#fb9f3a"
             ],
             [
              0.8888888888888888,
              "#fdca26"
             ],
             [
              1,
              "#f0f921"
             ]
            ],
            "type": "histogram2dcontour"
           }
          ],
          "mesh3d": [
           {
            "colorbar": {
             "outlinewidth": 0,
             "ticks": ""
            },
            "type": "mesh3d"
           }
          ],
          "parcoords": [
           {
            "line": {
             "colorbar": {
              "outlinewidth": 0,
              "ticks": ""
             }
            },
            "type": "parcoords"
           }
          ],
          "pie": [
           {
            "automargin": true,
            "type": "pie"
           }
          ],
          "scatter": [
           {
            "marker": {
             "colorbar": {
              "outlinewidth": 0,
              "ticks": ""
             }
            },
            "type": "scatter"
           }
          ],
          "scatter3d": [
           {
            "line": {
             "colorbar": {
              "outlinewidth": 0,
              "ticks": ""
             }
            },
            "marker": {
             "colorbar": {
              "outlinewidth": 0,
              "ticks": ""
             }
            },
            "type": "scatter3d"
           }
          ],
          "scattercarpet": [
           {
            "marker": {
             "colorbar": {
              "outlinewidth": 0,
              "ticks": ""
             }
            },
            "type": "scattercarpet"
           }
          ],
          "scattergeo": [
           {
            "marker": {
             "colorbar": {
              "outlinewidth": 0,
              "ticks": ""
             }
            },
            "type": "scattergeo"
           }
          ],
          "scattergl": [
           {
            "marker": {
             "colorbar": {
              "outlinewidth": 0,
              "ticks": ""
             }
            },
            "type": "scattergl"
           }
          ],
          "scattermapbox": [
           {
            "marker": {
             "colorbar": {
              "outlinewidth": 0,
              "ticks": ""
             }
            },
            "type": "scattermapbox"
           }
          ],
          "scatterpolar": [
           {
            "marker": {
             "colorbar": {
              "outlinewidth": 0,
              "ticks": ""
             }
            },
            "type": "scatterpolar"
           }
          ],
          "scatterpolargl": [
           {
            "marker": {
             "colorbar": {
              "outlinewidth": 0,
              "ticks": ""
             }
            },
            "type": "scatterpolargl"
           }
          ],
          "scatterternary": [
           {
            "marker": {
             "colorbar": {
              "outlinewidth": 0,
              "ticks": ""
             }
            },
            "type": "scatterternary"
           }
          ],
          "surface": [
           {
            "colorbar": {
             "outlinewidth": 0,
             "ticks": ""
            },
            "colorscale": [
             [
              0,
              "#0d0887"
             ],
             [
              0.1111111111111111,
              "#46039f"
             ],
             [
              0.2222222222222222,
              "#7201a8"
             ],
             [
              0.3333333333333333,
              "#9c179e"
             ],
             [
              0.4444444444444444,
              "#bd3786"
             ],
             [
              0.5555555555555556,
              "#d8576b"
             ],
             [
              0.6666666666666666,
              "#ed7953"
             ],
             [
              0.7777777777777778,
              "#fb9f3a"
             ],
             [
              0.8888888888888888,
              "#fdca26"
             ],
             [
              1,
              "#f0f921"
             ]
            ],
            "type": "surface"
           }
          ],
          "table": [
           {
            "cells": {
             "fill": {
              "color": "#EBF0F8"
             },
             "line": {
              "color": "white"
             }
            },
            "header": {
             "fill": {
              "color": "#C8D4E3"
             },
             "line": {
              "color": "white"
             }
            },
            "type": "table"
           }
          ]
         },
         "layout": {
          "annotationdefaults": {
           "arrowcolor": "#2a3f5f",
           "arrowhead": 0,
           "arrowwidth": 1
          },
          "autotypenumbers": "strict",
          "coloraxis": {
           "colorbar": {
            "outlinewidth": 0,
            "ticks": ""
           }
          },
          "colorscale": {
           "diverging": [
            [
             0,
             "#8e0152"
            ],
            [
             0.1,
             "#c51b7d"
            ],
            [
             0.2,
             "#de77ae"
            ],
            [
             0.3,
             "#f1b6da"
            ],
            [
             0.4,
             "#fde0ef"
            ],
            [
             0.5,
             "#f7f7f7"
            ],
            [
             0.6,
             "#e6f5d0"
            ],
            [
             0.7,
             "#b8e186"
            ],
            [
             0.8,
             "#7fbc41"
            ],
            [
             0.9,
             "#4d9221"
            ],
            [
             1,
             "#276419"
            ]
           ],
           "sequential": [
            [
             0,
             "#0d0887"
            ],
            [
             0.1111111111111111,
             "#46039f"
            ],
            [
             0.2222222222222222,
             "#7201a8"
            ],
            [
             0.3333333333333333,
             "#9c179e"
            ],
            [
             0.4444444444444444,
             "#bd3786"
            ],
            [
             0.5555555555555556,
             "#d8576b"
            ],
            [
             0.6666666666666666,
             "#ed7953"
            ],
            [
             0.7777777777777778,
             "#fb9f3a"
            ],
            [
             0.8888888888888888,
             "#fdca26"
            ],
            [
             1,
             "#f0f921"
            ]
           ],
           "sequentialminus": [
            [
             0,
             "#0d0887"
            ],
            [
             0.1111111111111111,
             "#46039f"
            ],
            [
             0.2222222222222222,
             "#7201a8"
            ],
            [
             0.3333333333333333,
             "#9c179e"
            ],
            [
             0.4444444444444444,
             "#bd3786"
            ],
            [
             0.5555555555555556,
             "#d8576b"
            ],
            [
             0.6666666666666666,
             "#ed7953"
            ],
            [
             0.7777777777777778,
             "#fb9f3a"
            ],
            [
             0.8888888888888888,
             "#fdca26"
            ],
            [
             1,
             "#f0f921"
            ]
           ]
          },
          "colorway": [
           "#636efa",
           "#EF553B",
           "#00cc96",
           "#ab63fa",
           "#FFA15A",
           "#19d3f3",
           "#FF6692",
           "#B6E880",
           "#FF97FF",
           "#FECB52"
          ],
          "font": {
           "color": "#2a3f5f"
          },
          "geo": {
           "bgcolor": "white",
           "lakecolor": "white",
           "landcolor": "#E5ECF6",
           "showlakes": true,
           "showland": true,
           "subunitcolor": "white"
          },
          "hoverlabel": {
           "align": "left"
          },
          "hovermode": "closest",
          "mapbox": {
           "style": "light"
          },
          "paper_bgcolor": "white",
          "plot_bgcolor": "#E5ECF6",
          "polar": {
           "angularaxis": {
            "gridcolor": "white",
            "linecolor": "white",
            "ticks": ""
           },
           "bgcolor": "#E5ECF6",
           "radialaxis": {
            "gridcolor": "white",
            "linecolor": "white",
            "ticks": ""
           }
          },
          "scene": {
           "xaxis": {
            "backgroundcolor": "#E5ECF6",
            "gridcolor": "white",
            "gridwidth": 2,
            "linecolor": "white",
            "showbackground": true,
            "ticks": "",
            "zerolinecolor": "white"
           },
           "yaxis": {
            "backgroundcolor": "#E5ECF6",
            "gridcolor": "white",
            "gridwidth": 2,
            "linecolor": "white",
            "showbackground": true,
            "ticks": "",
            "zerolinecolor": "white"
           },
           "zaxis": {
            "backgroundcolor": "#E5ECF6",
            "gridcolor": "white",
            "gridwidth": 2,
            "linecolor": "white",
            "showbackground": true,
            "ticks": "",
            "zerolinecolor": "white"
           }
          },
          "shapedefaults": {
           "line": {
            "color": "#2a3f5f"
           }
          },
          "ternary": {
           "aaxis": {
            "gridcolor": "white",
            "linecolor": "white",
            "ticks": ""
           },
           "baxis": {
            "gridcolor": "white",
            "linecolor": "white",
            "ticks": ""
           },
           "bgcolor": "#E5ECF6",
           "caxis": {
            "gridcolor": "white",
            "linecolor": "white",
            "ticks": ""
           }
          },
          "title": {
           "x": 0.05
          },
          "xaxis": {
           "automargin": true,
           "gridcolor": "white",
           "linecolor": "white",
           "ticks": "",
           "title": {
            "standoff": 15
           },
           "zerolinecolor": "white",
           "zerolinewidth": 2
          },
          "yaxis": {
           "automargin": true,
           "gridcolor": "white",
           "linecolor": "white",
           "ticks": "",
           "title": {
            "standoff": 15
           },
           "zerolinecolor": "white",
           "zerolinewidth": 2
          }
         }
        },
        "xaxis": {
         "anchor": "y",
         "domain": [
          0,
          1
         ],
         "title": {
          "text": "value"
         }
        },
        "yaxis": {
         "anchor": "x",
         "domain": [
          0,
          1
         ],
         "title": {
          "text": "count"
         }
        }
       }
      }
     },
     "metadata": {},
     "output_type": "display_data"
    }
   ],
   "source": [
    "px.histogram(stop_smoking_df.groupby(\"Entity\").std()[\"EnforceBansTobaccoAd\"])"
   ]
  },
  {
   "cell_type": "code",
   "execution_count": 5,
   "metadata": {},
   "outputs": [
    {
     "data": {
      "application/vnd.plotly.v1+json": {
       "config": {
        "plotlyServerURL": "https://plot.ly"
       },
       "data": [
        {
         "alignmentgroup": "True",
         "bingroup": "x",
         "hovertemplate": "variable=AvgTaxesAsPctCigarettePrice<br>value=%{x}<br>count=%{y}<extra></extra>",
         "legendgroup": "AvgTaxesAsPctCigarettePrice",
         "marker": {
          "color": "#636efa",
          "pattern": {
           "shape": ""
          }
         },
         "name": "AvgTaxesAsPctCigarettePrice",
         "offsetgroup": "AvgTaxesAsPctCigarettePrice",
         "orientation": "v",
         "showlegend": true,
         "type": "histogram",
         "x": [
          null,
          null,
          4.313351365237943,
          null,
          null,
          null,
          0.14142135623731653,
          4.030508652763323,
          3.3234018715767757,
          0.07071067811865074,
          1.5556349186104053,
          null,
          null,
          8.343860018001264,
          null,
          8.131727983645296,
          0,
          null,
          null,
          null,
          0,
          7.636753236814716,
          null,
          1.2020815280171253,
          null,
          1.697056274847718,
          null,
          null,
          3.6062445840513924,
          2.545584412271572,
          0,
          null,
          null,
          null,
          0.28284271247462306,
          0.07071067811865074,
          0.989949493661168,
          null,
          null,
          null,
          null,
          null,
          3.1112698372208083,
          null,
          1.0606601717798212,
          3.111269837220813,
          null,
          0.07071067811865074,
          null,
          null,
          0.42426406871192446,
          1.0606601717798212,
          0.3535533905932738,
          null,
          null,
          null,
          1.7677669529663689,
          null,
          null,
          2.404163056034263,
          1.3435028842544443,
          0.42426406871192446,
          null,
          null,
          5.232590180780453,
          0.7071067811865476,
          3.676955262170045,
          1.1313708498984871,
          null,
          0,
          null,
          null,
          null,
          null,
          1.3435028842544368,
          4.73761543394986,
          0.3535533905932738,
          23.263813101037407,
          10.818733752154175,
          1.1313708498984758,
          null,
          0.7071067811865476,
          null,
          0.42426406871192446,
          2.2627416997969543,
          0.21213203435596475,
          null,
          8.980256121069155,
          0.3535533905932738,
          null,
          null,
          null,
          null,
          0.9899494936611706,
          2.757716446627537,
          null,
          null,
          null,
          1.2727922061357886,
          0.282842712474618,
          null,
          null,
          0.989949493661168,
          null,
          null,
          null,
          null,
          null,
          null,
          0.4949747468305903,
          null,
          4.949747468305833,
          null,
          31.254119728445403,
          null,
          0.28284271247462306,
          null,
          null,
          null,
          null,
          9.687362902255703,
          1.2020815280171377,
          1.2020815280171278,
          null,
          null,
          null,
          null,
          null,
          0.7071067811865476,
          3.959797974644662,
          0,
          0.6363961030678943,
          null,
          0,
          null,
          null,
          3.818376618407358,
          13.293607486307092,
          2.0506096654409767,
          2.3334523779156098,
          null,
          1.4142135623730951,
          3.8890872965260113,
          null,
          null,
          null,
          null,
          null,
          null,
          null,
          null,
          6.293250352560269,
          1.1313708498984771,
          null,
          null,
          2.4041630560342604,
          1.0606601717798212,
          0.7071067811865476,
          null,
          null,
          0.3535533905932738,
          3.5355339059327378,
          null,
          0.28284271247462306,
          0.49497474683058024,
          null,
          null,
          3.5355339059327378,
          1.2020815280171329,
          null,
          null,
          null,
          1.0606601717798212,
          null,
          null,
          null,
          null,
          4.5254833995939086,
          1.3435028842544443,
          null,
          null,
          2.8284271247461903,
          1.9091883092036779,
          2.4041630560342604,
          3.676955262170054,
          0,
          2.4041630560342657,
          1.1313708498984771,
          null,
          null,
          0,
          0.5656854249492436,
          3.181980515339464,
          1.555634918610399
         ],
         "xaxis": "x",
         "yaxis": "y"
        }
       ],
       "layout": {
        "barmode": "relative",
        "legend": {
         "title": {
          "text": "variable"
         },
         "tracegroupgap": 0
        },
        "margin": {
         "t": 60
        },
        "template": {
         "data": {
          "bar": [
           {
            "error_x": {
             "color": "#2a3f5f"
            },
            "error_y": {
             "color": "#2a3f5f"
            },
            "marker": {
             "line": {
              "color": "#E5ECF6",
              "width": 0.5
             },
             "pattern": {
              "fillmode": "overlay",
              "size": 10,
              "solidity": 0.2
             }
            },
            "type": "bar"
           }
          ],
          "barpolar": [
           {
            "marker": {
             "line": {
              "color": "#E5ECF6",
              "width": 0.5
             },
             "pattern": {
              "fillmode": "overlay",
              "size": 10,
              "solidity": 0.2
             }
            },
            "type": "barpolar"
           }
          ],
          "carpet": [
           {
            "aaxis": {
             "endlinecolor": "#2a3f5f",
             "gridcolor": "white",
             "linecolor": "white",
             "minorgridcolor": "white",
             "startlinecolor": "#2a3f5f"
            },
            "baxis": {
             "endlinecolor": "#2a3f5f",
             "gridcolor": "white",
             "linecolor": "white",
             "minorgridcolor": "white",
             "startlinecolor": "#2a3f5f"
            },
            "type": "carpet"
           }
          ],
          "choropleth": [
           {
            "colorbar": {
             "outlinewidth": 0,
             "ticks": ""
            },
            "type": "choropleth"
           }
          ],
          "contour": [
           {
            "colorbar": {
             "outlinewidth": 0,
             "ticks": ""
            },
            "colorscale": [
             [
              0,
              "#0d0887"
             ],
             [
              0.1111111111111111,
              "#46039f"
             ],
             [
              0.2222222222222222,
              "#7201a8"
             ],
             [
              0.3333333333333333,
              "#9c179e"
             ],
             [
              0.4444444444444444,
              "#bd3786"
             ],
             [
              0.5555555555555556,
              "#d8576b"
             ],
             [
              0.6666666666666666,
              "#ed7953"
             ],
             [
              0.7777777777777778,
              "#fb9f3a"
             ],
             [
              0.8888888888888888,
              "#fdca26"
             ],
             [
              1,
              "#f0f921"
             ]
            ],
            "type": "contour"
           }
          ],
          "contourcarpet": [
           {
            "colorbar": {
             "outlinewidth": 0,
             "ticks": ""
            },
            "type": "contourcarpet"
           }
          ],
          "heatmap": [
           {
            "colorbar": {
             "outlinewidth": 0,
             "ticks": ""
            },
            "colorscale": [
             [
              0,
              "#0d0887"
             ],
             [
              0.1111111111111111,
              "#46039f"
             ],
             [
              0.2222222222222222,
              "#7201a8"
             ],
             [
              0.3333333333333333,
              "#9c179e"
             ],
             [
              0.4444444444444444,
              "#bd3786"
             ],
             [
              0.5555555555555556,
              "#d8576b"
             ],
             [
              0.6666666666666666,
              "#ed7953"
             ],
             [
              0.7777777777777778,
              "#fb9f3a"
             ],
             [
              0.8888888888888888,
              "#fdca26"
             ],
             [
              1,
              "#f0f921"
             ]
            ],
            "type": "heatmap"
           }
          ],
          "heatmapgl": [
           {
            "colorbar": {
             "outlinewidth": 0,
             "ticks": ""
            },
            "colorscale": [
             [
              0,
              "#0d0887"
             ],
             [
              0.1111111111111111,
              "#46039f"
             ],
             [
              0.2222222222222222,
              "#7201a8"
             ],
             [
              0.3333333333333333,
              "#9c179e"
             ],
             [
              0.4444444444444444,
              "#bd3786"
             ],
             [
              0.5555555555555556,
              "#d8576b"
             ],
             [
              0.6666666666666666,
              "#ed7953"
             ],
             [
              0.7777777777777778,
              "#fb9f3a"
             ],
             [
              0.8888888888888888,
              "#fdca26"
             ],
             [
              1,
              "#f0f921"
             ]
            ],
            "type": "heatmapgl"
           }
          ],
          "histogram": [
           {
            "marker": {
             "pattern": {
              "fillmode": "overlay",
              "size": 10,
              "solidity": 0.2
             }
            },
            "type": "histogram"
           }
          ],
          "histogram2d": [
           {
            "colorbar": {
             "outlinewidth": 0,
             "ticks": ""
            },
            "colorscale": [
             [
              0,
              "#0d0887"
             ],
             [
              0.1111111111111111,
              "#46039f"
             ],
             [
              0.2222222222222222,
              "#7201a8"
             ],
             [
              0.3333333333333333,
              "#9c179e"
             ],
             [
              0.4444444444444444,
              "#bd3786"
             ],
             [
              0.5555555555555556,
              "#d8576b"
             ],
             [
              0.6666666666666666,
              "#ed7953"
             ],
             [
              0.7777777777777778,
              "#fb9f3a"
             ],
             [
              0.8888888888888888,
              "#fdca26"
             ],
             [
              1,
              "#f0f921"
             ]
            ],
            "type": "histogram2d"
           }
          ],
          "histogram2dcontour": [
           {
            "colorbar": {
             "outlinewidth": 0,
             "ticks": ""
            },
            "colorscale": [
             [
              0,
              "#0d0887"
             ],
             [
              0.1111111111111111,
              "#46039f"
             ],
             [
              0.2222222222222222,
              "#7201a8"
             ],
             [
              0.3333333333333333,
              "#9c179e"
             ],
             [
              0.4444444444444444,
              "#bd3786"
             ],
             [
              0.5555555555555556,
              "#d8576b"
             ],
             [
              0.6666666666666666,
              "#ed7953"
             ],
             [
              0.7777777777777778,
              "#fb9f3a"
             ],
             [
              0.8888888888888888,
              "#fdca26"
             ],
             [
              1,
              "#f0f921"
             ]
            ],
            "type": "histogram2dcontour"
           }
          ],
          "mesh3d": [
           {
            "colorbar": {
             "outlinewidth": 0,
             "ticks": ""
            },
            "type": "mesh3d"
           }
          ],
          "parcoords": [
           {
            "line": {
             "colorbar": {
              "outlinewidth": 0,
              "ticks": ""
             }
            },
            "type": "parcoords"
           }
          ],
          "pie": [
           {
            "automargin": true,
            "type": "pie"
           }
          ],
          "scatter": [
           {
            "marker": {
             "colorbar": {
              "outlinewidth": 0,
              "ticks": ""
             }
            },
            "type": "scatter"
           }
          ],
          "scatter3d": [
           {
            "line": {
             "colorbar": {
              "outlinewidth": 0,
              "ticks": ""
             }
            },
            "marker": {
             "colorbar": {
              "outlinewidth": 0,
              "ticks": ""
             }
            },
            "type": "scatter3d"
           }
          ],
          "scattercarpet": [
           {
            "marker": {
             "colorbar": {
              "outlinewidth": 0,
              "ticks": ""
             }
            },
            "type": "scattercarpet"
           }
          ],
          "scattergeo": [
           {
            "marker": {
             "colorbar": {
              "outlinewidth": 0,
              "ticks": ""
             }
            },
            "type": "scattergeo"
           }
          ],
          "scattergl": [
           {
            "marker": {
             "colorbar": {
              "outlinewidth": 0,
              "ticks": ""
             }
            },
            "type": "scattergl"
           }
          ],
          "scattermapbox": [
           {
            "marker": {
             "colorbar": {
              "outlinewidth": 0,
              "ticks": ""
             }
            },
            "type": "scattermapbox"
           }
          ],
          "scatterpolar": [
           {
            "marker": {
             "colorbar": {
              "outlinewidth": 0,
              "ticks": ""
             }
            },
            "type": "scatterpolar"
           }
          ],
          "scatterpolargl": [
           {
            "marker": {
             "colorbar": {
              "outlinewidth": 0,
              "ticks": ""
             }
            },
            "type": "scatterpolargl"
           }
          ],
          "scatterternary": [
           {
            "marker": {
             "colorbar": {
              "outlinewidth": 0,
              "ticks": ""
             }
            },
            "type": "scatterternary"
           }
          ],
          "surface": [
           {
            "colorbar": {
             "outlinewidth": 0,
             "ticks": ""
            },
            "colorscale": [
             [
              0,
              "#0d0887"
             ],
             [
              0.1111111111111111,
              "#46039f"
             ],
             [
              0.2222222222222222,
              "#7201a8"
             ],
             [
              0.3333333333333333,
              "#9c179e"
             ],
             [
              0.4444444444444444,
              "#bd3786"
             ],
             [
              0.5555555555555556,
              "#d8576b"
             ],
             [
              0.6666666666666666,
              "#ed7953"
             ],
             [
              0.7777777777777778,
              "#fb9f3a"
             ],
             [
              0.8888888888888888,
              "#fdca26"
             ],
             [
              1,
              "#f0f921"
             ]
            ],
            "type": "surface"
           }
          ],
          "table": [
           {
            "cells": {
             "fill": {
              "color": "#EBF0F8"
             },
             "line": {
              "color": "white"
             }
            },
            "header": {
             "fill": {
              "color": "#C8D4E3"
             },
             "line": {
              "color": "white"
             }
            },
            "type": "table"
           }
          ]
         },
         "layout": {
          "annotationdefaults": {
           "arrowcolor": "#2a3f5f",
           "arrowhead": 0,
           "arrowwidth": 1
          },
          "autotypenumbers": "strict",
          "coloraxis": {
           "colorbar": {
            "outlinewidth": 0,
            "ticks": ""
           }
          },
          "colorscale": {
           "diverging": [
            [
             0,
             "#8e0152"
            ],
            [
             0.1,
             "#c51b7d"
            ],
            [
             0.2,
             "#de77ae"
            ],
            [
             0.3,
             "#f1b6da"
            ],
            [
             0.4,
             "#fde0ef"
            ],
            [
             0.5,
             "#f7f7f7"
            ],
            [
             0.6,
             "#e6f5d0"
            ],
            [
             0.7,
             "#b8e186"
            ],
            [
             0.8,
             "#7fbc41"
            ],
            [
             0.9,
             "#4d9221"
            ],
            [
             1,
             "#276419"
            ]
           ],
           "sequential": [
            [
             0,
             "#0d0887"
            ],
            [
             0.1111111111111111,
             "#46039f"
            ],
            [
             0.2222222222222222,
             "#7201a8"
            ],
            [
             0.3333333333333333,
             "#9c179e"
            ],
            [
             0.4444444444444444,
             "#bd3786"
            ],
            [
             0.5555555555555556,
             "#d8576b"
            ],
            [
             0.6666666666666666,
             "#ed7953"
            ],
            [
             0.7777777777777778,
             "#fb9f3a"
            ],
            [
             0.8888888888888888,
             "#fdca26"
            ],
            [
             1,
             "#f0f921"
            ]
           ],
           "sequentialminus": [
            [
             0,
             "#0d0887"
            ],
            [
             0.1111111111111111,
             "#46039f"
            ],
            [
             0.2222222222222222,
             "#7201a8"
            ],
            [
             0.3333333333333333,
             "#9c179e"
            ],
            [
             0.4444444444444444,
             "#bd3786"
            ],
            [
             0.5555555555555556,
             "#d8576b"
            ],
            [
             0.6666666666666666,
             "#ed7953"
            ],
            [
             0.7777777777777778,
             "#fb9f3a"
            ],
            [
             0.8888888888888888,
             "#fdca26"
            ],
            [
             1,
             "#f0f921"
            ]
           ]
          },
          "colorway": [
           "#636efa",
           "#EF553B",
           "#00cc96",
           "#ab63fa",
           "#FFA15A",
           "#19d3f3",
           "#FF6692",
           "#B6E880",
           "#FF97FF",
           "#FECB52"
          ],
          "font": {
           "color": "#2a3f5f"
          },
          "geo": {
           "bgcolor": "white",
           "lakecolor": "white",
           "landcolor": "#E5ECF6",
           "showlakes": true,
           "showland": true,
           "subunitcolor": "white"
          },
          "hoverlabel": {
           "align": "left"
          },
          "hovermode": "closest",
          "mapbox": {
           "style": "light"
          },
          "paper_bgcolor": "white",
          "plot_bgcolor": "#E5ECF6",
          "polar": {
           "angularaxis": {
            "gridcolor": "white",
            "linecolor": "white",
            "ticks": ""
           },
           "bgcolor": "#E5ECF6",
           "radialaxis": {
            "gridcolor": "white",
            "linecolor": "white",
            "ticks": ""
           }
          },
          "scene": {
           "xaxis": {
            "backgroundcolor": "#E5ECF6",
            "gridcolor": "white",
            "gridwidth": 2,
            "linecolor": "white",
            "showbackground": true,
            "ticks": "",
            "zerolinecolor": "white"
           },
           "yaxis": {
            "backgroundcolor": "#E5ECF6",
            "gridcolor": "white",
            "gridwidth": 2,
            "linecolor": "white",
            "showbackground": true,
            "ticks": "",
            "zerolinecolor": "white"
           },
           "zaxis": {
            "backgroundcolor": "#E5ECF6",
            "gridcolor": "white",
            "gridwidth": 2,
            "linecolor": "white",
            "showbackground": true,
            "ticks": "",
            "zerolinecolor": "white"
           }
          },
          "shapedefaults": {
           "line": {
            "color": "#2a3f5f"
           }
          },
          "ternary": {
           "aaxis": {
            "gridcolor": "white",
            "linecolor": "white",
            "ticks": ""
           },
           "baxis": {
            "gridcolor": "white",
            "linecolor": "white",
            "ticks": ""
           },
           "bgcolor": "#E5ECF6",
           "caxis": {
            "gridcolor": "white",
            "linecolor": "white",
            "ticks": ""
           }
          },
          "title": {
           "x": 0.05
          },
          "xaxis": {
           "automargin": true,
           "gridcolor": "white",
           "linecolor": "white",
           "ticks": "",
           "title": {
            "standoff": 15
           },
           "zerolinecolor": "white",
           "zerolinewidth": 2
          },
          "yaxis": {
           "automargin": true,
           "gridcolor": "white",
           "linecolor": "white",
           "ticks": "",
           "title": {
            "standoff": 15
           },
           "zerolinecolor": "white",
           "zerolinewidth": 2
          }
         }
        },
        "xaxis": {
         "anchor": "y",
         "domain": [
          0,
          1
         ],
         "title": {
          "text": "value"
         }
        },
        "yaxis": {
         "anchor": "x",
         "domain": [
          0,
          1
         ],
         "title": {
          "text": "count"
         }
        }
       }
      }
     },
     "metadata": {},
     "output_type": "display_data"
    }
   ],
   "source": [
    "px.histogram(stop_smoking_df.groupby(\"Entity\").std()[\"AvgTaxesAsPctCigarettePrice\"])"
   ]
  },
  {
   "cell_type": "markdown",
   "id": "281f7b6d",
   "metadata": {},
   "source": [
    "## Effect of regulation on tobacco usage (self baseline)"
   ]
  },
  {
   "cell_type": "markdown",
   "id": "1b42a056",
   "metadata": {},
   "source": [
    "Take tobacco usage in 2018 and subtract by the value in 2000.\n",
    "Average the regulation since there is little variance for most countries."
   ]
  },
  {
   "cell_type": "code",
   "execution_count": 25,
   "id": "49bc2894",
   "metadata": {},
   "outputs": [],
   "source": [
    "def merge_reg_use_with_self_baseline(reg_df, use_df):\n",
    "    reg_df = reg_df.copy()\n",
    "    use_df = use_df.copy()\n",
    "\n",
    "    use_df = use_df.rename(columns={\"SpatialDimValueCode\": \"Code\", \"Value\": \"Pct_Smoking\"}).query(\"Gender == 'Both sexes'\")\n",
    "    recent_use_df = use_df[test_df[\"Year\"] == 2018]\n",
    "    baseline_use_df = use_df[test_df[\"Year\"] == 2000][[\"Code\", \"Pct_Smoking\"]]\n",
    "    recent_use_df = pd.merge(recent_use_df, baseline_use_df, on=\"Code\")\n",
    "    recent_use_df[\"Pct_Smoking_Change\"] = recent_use_df[\"Pct_Smoking_x\"] - recent_use_df[\"Pct_Smoking_y\"]\n",
    "\n",
    "    reg_df = reg_df.groupby(\"Code\").mean()[[\"AvgTaxesAsPctCigarettePrice\", \"EnforceBansTobaccoAd\", \"AvgCigarettePriceDollars\"]]\n",
    "    reg_use_df = pd.merge(reg_df, recent_use_df, on=\"Code\")\n",
    "    return reg_use_df"
   ]
  },
  {
   "cell_type": "code",
   "execution_count": 30,
   "id": "afee2a70",
   "metadata": {},
   "outputs": [
    {
     "data": {
      "text/html": [
       "<div>\n",
       "<style scoped>\n",
       "    .dataframe tbody tr th:only-of-type {\n",
       "        vertical-align: middle;\n",
       "    }\n",
       "\n",
       "    .dataframe tbody tr th {\n",
       "        vertical-align: top;\n",
       "    }\n",
       "\n",
       "    .dataframe thead th {\n",
       "        text-align: right;\n",
       "    }\n",
       "</style>\n",
       "<table border=\"1\" class=\"dataframe\">\n",
       "  <thead>\n",
       "    <tr style=\"text-align: right;\">\n",
       "      <th></th>\n",
       "      <th>Code</th>\n",
       "      <th>AvgTaxesAsPctCigarettePrice</th>\n",
       "      <th>EnforceBansTobaccoAd</th>\n",
       "      <th>AvgCigarettePriceDollars</th>\n",
       "      <th>ParentLocationCode</th>\n",
       "      <th>ParentLocation</th>\n",
       "      <th>Location</th>\n",
       "      <th>Year</th>\n",
       "      <th>Gender</th>\n",
       "      <th>Pct_Smoking_x</th>\n",
       "      <th>Pct_Smoking_y</th>\n",
       "      <th>Pct_Smoking_Change</th>\n",
       "    </tr>\n",
       "  </thead>\n",
       "  <tbody>\n",
       "    <tr>\n",
       "      <th>0</th>\n",
       "      <td>ALB</td>\n",
       "      <td>NaN</td>\n",
       "      <td>5.00</td>\n",
       "      <td>NaN</td>\n",
       "      <td>EUR</td>\n",
       "      <td>Europe</td>\n",
       "      <td>Albania</td>\n",
       "      <td>2018</td>\n",
       "      <td>Both sexes</td>\n",
       "      <td>29.2</td>\n",
       "      <td>34.2</td>\n",
       "      <td>-5.0</td>\n",
       "    </tr>\n",
       "    <tr>\n",
       "      <th>1</th>\n",
       "      <td>AND</td>\n",
       "      <td>NaN</td>\n",
       "      <td>2.00</td>\n",
       "      <td>NaN</td>\n",
       "      <td>EUR</td>\n",
       "      <td>Europe</td>\n",
       "      <td>Andorra</td>\n",
       "      <td>2018</td>\n",
       "      <td>Both sexes</td>\n",
       "      <td>33.8</td>\n",
       "      <td>36.3</td>\n",
       "      <td>-2.5</td>\n",
       "    </tr>\n",
       "    <tr>\n",
       "      <th>2</th>\n",
       "      <td>ARE</td>\n",
       "      <td>22.80</td>\n",
       "      <td>4.25</td>\n",
       "      <td>1.685</td>\n",
       "      <td>EMR</td>\n",
       "      <td>Eastern Mediterranean</td>\n",
       "      <td>United Arab Emirates</td>\n",
       "      <td>2018</td>\n",
       "      <td>Both sexes</td>\n",
       "      <td>18.2</td>\n",
       "      <td>21.8</td>\n",
       "      <td>-3.6</td>\n",
       "    </tr>\n",
       "    <tr>\n",
       "      <th>3</th>\n",
       "      <td>ARG</td>\n",
       "      <td>69.80</td>\n",
       "      <td>3.00</td>\n",
       "      <td>3.130</td>\n",
       "      <td>AMR</td>\n",
       "      <td>Americas</td>\n",
       "      <td>Argentina</td>\n",
       "      <td>2018</td>\n",
       "      <td>Both sexes</td>\n",
       "      <td>21.8</td>\n",
       "      <td>46.2</td>\n",
       "      <td>-24.4</td>\n",
       "    </tr>\n",
       "    <tr>\n",
       "      <th>4</th>\n",
       "      <td>ARM</td>\n",
       "      <td>41.25</td>\n",
       "      <td>2.00</td>\n",
       "      <td>1.715</td>\n",
       "      <td>EUR</td>\n",
       "      <td>Europe</td>\n",
       "      <td>Armenia</td>\n",
       "      <td>2018</td>\n",
       "      <td>Both sexes</td>\n",
       "      <td>26.7</td>\n",
       "      <td>34.3</td>\n",
       "      <td>-7.6</td>\n",
       "    </tr>\n",
       "    <tr>\n",
       "      <th>...</th>\n",
       "      <td>...</td>\n",
       "      <td>...</td>\n",
       "      <td>...</td>\n",
       "      <td>...</td>\n",
       "      <td>...</td>\n",
       "      <td>...</td>\n",
       "      <td>...</td>\n",
       "      <td>...</td>\n",
       "      <td>...</td>\n",
       "      <td>...</td>\n",
       "      <td>...</td>\n",
       "      <td>...</td>\n",
       "    </tr>\n",
       "    <tr>\n",
       "      <th>144</th>\n",
       "      <td>WSM</td>\n",
       "      <td>59.50</td>\n",
       "      <td>3.50</td>\n",
       "      <td>5.960</td>\n",
       "      <td>WPR</td>\n",
       "      <td>Western Pacific</td>\n",
       "      <td>Samoa</td>\n",
       "      <td>2018</td>\n",
       "      <td>Both sexes</td>\n",
       "      <td>28.9</td>\n",
       "      <td>41.3</td>\n",
       "      <td>-12.4</td>\n",
       "    </tr>\n",
       "    <tr>\n",
       "      <th>145</th>\n",
       "      <td>YEM</td>\n",
       "      <td>53.30</td>\n",
       "      <td>4.25</td>\n",
       "      <td>1.825</td>\n",
       "      <td>EMR</td>\n",
       "      <td>Eastern Mediterranean</td>\n",
       "      <td>Yemen</td>\n",
       "      <td>2018</td>\n",
       "      <td>Both sexes</td>\n",
       "      <td>20.9</td>\n",
       "      <td>30.9</td>\n",
       "      <td>-10.0</td>\n",
       "    </tr>\n",
       "    <tr>\n",
       "      <th>146</th>\n",
       "      <td>ZAF</td>\n",
       "      <td>47.85</td>\n",
       "      <td>4.00</td>\n",
       "      <td>5.320</td>\n",
       "      <td>AFR</td>\n",
       "      <td>Africa</td>\n",
       "      <td>South Africa</td>\n",
       "      <td>2018</td>\n",
       "      <td>Both sexes</td>\n",
       "      <td>31.4</td>\n",
       "      <td>38.1</td>\n",
       "      <td>-6.7</td>\n",
       "    </tr>\n",
       "    <tr>\n",
       "      <th>147</th>\n",
       "      <td>ZMB</td>\n",
       "      <td>23.55</td>\n",
       "      <td>2.00</td>\n",
       "      <td>1.745</td>\n",
       "      <td>AFR</td>\n",
       "      <td>Africa</td>\n",
       "      <td>Zambia</td>\n",
       "      <td>2018</td>\n",
       "      <td>Both sexes</td>\n",
       "      <td>14.7</td>\n",
       "      <td>19.9</td>\n",
       "      <td>-5.2</td>\n",
       "    </tr>\n",
       "    <tr>\n",
       "      <th>148</th>\n",
       "      <td>ZWE</td>\n",
       "      <td>58.70</td>\n",
       "      <td>2.00</td>\n",
       "      <td>0.870</td>\n",
       "      <td>AFR</td>\n",
       "      <td>Africa</td>\n",
       "      <td>Zimbabwe</td>\n",
       "      <td>2018</td>\n",
       "      <td>Both sexes</td>\n",
       "      <td>13.9</td>\n",
       "      <td>18.3</td>\n",
       "      <td>-4.4</td>\n",
       "    </tr>\n",
       "  </tbody>\n",
       "</table>\n",
       "<p>149 rows × 12 columns</p>\n",
       "</div>"
      ],
      "text/plain": [
       "    Code  AvgTaxesAsPctCigarettePrice  EnforceBansTobaccoAd  \\\n",
       "0    ALB                          NaN                  5.00   \n",
       "1    AND                          NaN                  2.00   \n",
       "2    ARE                        22.80                  4.25   \n",
       "3    ARG                        69.80                  3.00   \n",
       "4    ARM                        41.25                  2.00   \n",
       "..   ...                          ...                   ...   \n",
       "144  WSM                        59.50                  3.50   \n",
       "145  YEM                        53.30                  4.25   \n",
       "146  ZAF                        47.85                  4.00   \n",
       "147  ZMB                        23.55                  2.00   \n",
       "148  ZWE                        58.70                  2.00   \n",
       "\n",
       "     AvgCigarettePriceDollars ParentLocationCode         ParentLocation  \\\n",
       "0                         NaN                EUR                 Europe   \n",
       "1                         NaN                EUR                 Europe   \n",
       "2                       1.685                EMR  Eastern Mediterranean   \n",
       "3                       3.130                AMR               Americas   \n",
       "4                       1.715                EUR                 Europe   \n",
       "..                        ...                ...                    ...   \n",
       "144                     5.960                WPR        Western Pacific   \n",
       "145                     1.825                EMR  Eastern Mediterranean   \n",
       "146                     5.320                AFR                 Africa   \n",
       "147                     1.745                AFR                 Africa   \n",
       "148                     0.870                AFR                 Africa   \n",
       "\n",
       "                 Location  Year      Gender  Pct_Smoking_x  Pct_Smoking_y  \\\n",
       "0                 Albania  2018  Both sexes           29.2           34.2   \n",
       "1                 Andorra  2018  Both sexes           33.8           36.3   \n",
       "2    United Arab Emirates  2018  Both sexes           18.2           21.8   \n",
       "3               Argentina  2018  Both sexes           21.8           46.2   \n",
       "4                 Armenia  2018  Both sexes           26.7           34.3   \n",
       "..                    ...   ...         ...            ...            ...   \n",
       "144                 Samoa  2018  Both sexes           28.9           41.3   \n",
       "145                 Yemen  2018  Both sexes           20.9           30.9   \n",
       "146          South Africa  2018  Both sexes           31.4           38.1   \n",
       "147                Zambia  2018  Both sexes           14.7           19.9   \n",
       "148              Zimbabwe  2018  Both sexes           13.9           18.3   \n",
       "\n",
       "     Pct_Smoking_Change  \n",
       "0                  -5.0  \n",
       "1                  -2.5  \n",
       "2                  -3.6  \n",
       "3                 -24.4  \n",
       "4                  -7.6  \n",
       "..                  ...  \n",
       "144               -12.4  \n",
       "145               -10.0  \n",
       "146                -6.7  \n",
       "147                -5.2  \n",
       "148                -4.4  \n",
       "\n",
       "[149 rows x 12 columns]"
      ]
     },
     "execution_count": 30,
     "metadata": {},
     "output_type": "execute_result"
    }
   ],
   "source": [
    "reg_use_df = merge_reg_use_with_self_baseline(stop_smoking_df, ww_use_df)\n",
    "reg_use_df"
   ]
  },
  {
   "cell_type": "code",
   "execution_count": 31,
   "id": "ae6c9492",
   "metadata": {},
   "outputs": [
    {
     "data": {
      "application/vnd.plotly.v1+json": {
       "config": {
        "plotlyServerURL": "https://plot.ly"
       },
       "data": [
        {
         "alignmentgroup": "True",
         "hovertemplate": "ParentLocation=%{x}<br>Pct_Smoking_Change=%{y}<extra></extra>",
         "legendgroup": "",
         "marker": {
          "color": "#636efa",
          "pattern": {
           "shape": ""
          }
         },
         "name": "",
         "offsetgroup": "",
         "orientation": "v",
         "showlegend": false,
         "textposition": "auto",
         "type": "bar",
         "x": [
          "Africa",
          "Americas",
          "Eastern Mediterranean",
          "Europe",
          "South-East Asia",
          "Western Pacific"
         ],
         "xaxis": "x",
         "y": [
          -6.629729729729729,
          -11.955,
          -5.828571428571428,
          -8.18085106382979,
          -13.533333333333331,
          -10.977272727272727
         ],
         "yaxis": "y"
        }
       ],
       "layout": {
        "barmode": "relative",
        "legend": {
         "tracegroupgap": 0
        },
        "margin": {
         "t": 60
        },
        "template": {
         "data": {
          "bar": [
           {
            "error_x": {
             "color": "#2a3f5f"
            },
            "error_y": {
             "color": "#2a3f5f"
            },
            "marker": {
             "line": {
              "color": "#E5ECF6",
              "width": 0.5
             },
             "pattern": {
              "fillmode": "overlay",
              "size": 10,
              "solidity": 0.2
             }
            },
            "type": "bar"
           }
          ],
          "barpolar": [
           {
            "marker": {
             "line": {
              "color": "#E5ECF6",
              "width": 0.5
             },
             "pattern": {
              "fillmode": "overlay",
              "size": 10,
              "solidity": 0.2
             }
            },
            "type": "barpolar"
           }
          ],
          "carpet": [
           {
            "aaxis": {
             "endlinecolor": "#2a3f5f",
             "gridcolor": "white",
             "linecolor": "white",
             "minorgridcolor": "white",
             "startlinecolor": "#2a3f5f"
            },
            "baxis": {
             "endlinecolor": "#2a3f5f",
             "gridcolor": "white",
             "linecolor": "white",
             "minorgridcolor": "white",
             "startlinecolor": "#2a3f5f"
            },
            "type": "carpet"
           }
          ],
          "choropleth": [
           {
            "colorbar": {
             "outlinewidth": 0,
             "ticks": ""
            },
            "type": "choropleth"
           }
          ],
          "contour": [
           {
            "colorbar": {
             "outlinewidth": 0,
             "ticks": ""
            },
            "colorscale": [
             [
              0,
              "#0d0887"
             ],
             [
              0.1111111111111111,
              "#46039f"
             ],
             [
              0.2222222222222222,
              "#7201a8"
             ],
             [
              0.3333333333333333,
              "#9c179e"
             ],
             [
              0.4444444444444444,
              "#bd3786"
             ],
             [
              0.5555555555555556,
              "#d8576b"
             ],
             [
              0.6666666666666666,
              "#ed7953"
             ],
             [
              0.7777777777777778,
              "#fb9f3a"
             ],
             [
              0.8888888888888888,
              "#fdca26"
             ],
             [
              1,
              "#f0f921"
             ]
            ],
            "type": "contour"
           }
          ],
          "contourcarpet": [
           {
            "colorbar": {
             "outlinewidth": 0,
             "ticks": ""
            },
            "type": "contourcarpet"
           }
          ],
          "heatmap": [
           {
            "colorbar": {
             "outlinewidth": 0,
             "ticks": ""
            },
            "colorscale": [
             [
              0,
              "#0d0887"
             ],
             [
              0.1111111111111111,
              "#46039f"
             ],
             [
              0.2222222222222222,
              "#7201a8"
             ],
             [
              0.3333333333333333,
              "#9c179e"
             ],
             [
              0.4444444444444444,
              "#bd3786"
             ],
             [
              0.5555555555555556,
              "#d8576b"
             ],
             [
              0.6666666666666666,
              "#ed7953"
             ],
             [
              0.7777777777777778,
              "#fb9f3a"
             ],
             [
              0.8888888888888888,
              "#fdca26"
             ],
             [
              1,
              "#f0f921"
             ]
            ],
            "type": "heatmap"
           }
          ],
          "heatmapgl": [
           {
            "colorbar": {
             "outlinewidth": 0,
             "ticks": ""
            },
            "colorscale": [
             [
              0,
              "#0d0887"
             ],
             [
              0.1111111111111111,
              "#46039f"
             ],
             [
              0.2222222222222222,
              "#7201a8"
             ],
             [
              0.3333333333333333,
              "#9c179e"
             ],
             [
              0.4444444444444444,
              "#bd3786"
             ],
             [
              0.5555555555555556,
              "#d8576b"
             ],
             [
              0.6666666666666666,
              "#ed7953"
             ],
             [
              0.7777777777777778,
              "#fb9f3a"
             ],
             [
              0.8888888888888888,
              "#fdca26"
             ],
             [
              1,
              "#f0f921"
             ]
            ],
            "type": "heatmapgl"
           }
          ],
          "histogram": [
           {
            "marker": {
             "pattern": {
              "fillmode": "overlay",
              "size": 10,
              "solidity": 0.2
             }
            },
            "type": "histogram"
           }
          ],
          "histogram2d": [
           {
            "colorbar": {
             "outlinewidth": 0,
             "ticks": ""
            },
            "colorscale": [
             [
              0,
              "#0d0887"
             ],
             [
              0.1111111111111111,
              "#46039f"
             ],
             [
              0.2222222222222222,
              "#7201a8"
             ],
             [
              0.3333333333333333,
              "#9c179e"
             ],
             [
              0.4444444444444444,
              "#bd3786"
             ],
             [
              0.5555555555555556,
              "#d8576b"
             ],
             [
              0.6666666666666666,
              "#ed7953"
             ],
             [
              0.7777777777777778,
              "#fb9f3a"
             ],
             [
              0.8888888888888888,
              "#fdca26"
             ],
             [
              1,
              "#f0f921"
             ]
            ],
            "type": "histogram2d"
           }
          ],
          "histogram2dcontour": [
           {
            "colorbar": {
             "outlinewidth": 0,
             "ticks": ""
            },
            "colorscale": [
             [
              0,
              "#0d0887"
             ],
             [
              0.1111111111111111,
              "#46039f"
             ],
             [
              0.2222222222222222,
              "#7201a8"
             ],
             [
              0.3333333333333333,
              "#9c179e"
             ],
             [
              0.4444444444444444,
              "#bd3786"
             ],
             [
              0.5555555555555556,
              "#d8576b"
             ],
             [
              0.6666666666666666,
              "#ed7953"
             ],
             [
              0.7777777777777778,
              "#fb9f3a"
             ],
             [
              0.8888888888888888,
              "#fdca26"
             ],
             [
              1,
              "#f0f921"
             ]
            ],
            "type": "histogram2dcontour"
           }
          ],
          "mesh3d": [
           {
            "colorbar": {
             "outlinewidth": 0,
             "ticks": ""
            },
            "type": "mesh3d"
           }
          ],
          "parcoords": [
           {
            "line": {
             "colorbar": {
              "outlinewidth": 0,
              "ticks": ""
             }
            },
            "type": "parcoords"
           }
          ],
          "pie": [
           {
            "automargin": true,
            "type": "pie"
           }
          ],
          "scatter": [
           {
            "marker": {
             "colorbar": {
              "outlinewidth": 0,
              "ticks": ""
             }
            },
            "type": "scatter"
           }
          ],
          "scatter3d": [
           {
            "line": {
             "colorbar": {
              "outlinewidth": 0,
              "ticks": ""
             }
            },
            "marker": {
             "colorbar": {
              "outlinewidth": 0,
              "ticks": ""
             }
            },
            "type": "scatter3d"
           }
          ],
          "scattercarpet": [
           {
            "marker": {
             "colorbar": {
              "outlinewidth": 0,
              "ticks": ""
             }
            },
            "type": "scattercarpet"
           }
          ],
          "scattergeo": [
           {
            "marker": {
             "colorbar": {
              "outlinewidth": 0,
              "ticks": ""
             }
            },
            "type": "scattergeo"
           }
          ],
          "scattergl": [
           {
            "marker": {
             "colorbar": {
              "outlinewidth": 0,
              "ticks": ""
             }
            },
            "type": "scattergl"
           }
          ],
          "scattermapbox": [
           {
            "marker": {
             "colorbar": {
              "outlinewidth": 0,
              "ticks": ""
             }
            },
            "type": "scattermapbox"
           }
          ],
          "scatterpolar": [
           {
            "marker": {
             "colorbar": {
              "outlinewidth": 0,
              "ticks": ""
             }
            },
            "type": "scatterpolar"
           }
          ],
          "scatterpolargl": [
           {
            "marker": {
             "colorbar": {
              "outlinewidth": 0,
              "ticks": ""
             }
            },
            "type": "scatterpolargl"
           }
          ],
          "scatterternary": [
           {
            "marker": {
             "colorbar": {
              "outlinewidth": 0,
              "ticks": ""
             }
            },
            "type": "scatterternary"
           }
          ],
          "surface": [
           {
            "colorbar": {
             "outlinewidth": 0,
             "ticks": ""
            },
            "colorscale": [
             [
              0,
              "#0d0887"
             ],
             [
              0.1111111111111111,
              "#46039f"
             ],
             [
              0.2222222222222222,
              "#7201a8"
             ],
             [
              0.3333333333333333,
              "#9c179e"
             ],
             [
              0.4444444444444444,
              "#bd3786"
             ],
             [
              0.5555555555555556,
              "#d8576b"
             ],
             [
              0.6666666666666666,
              "#ed7953"
             ],
             [
              0.7777777777777778,
              "#fb9f3a"
             ],
             [
              0.8888888888888888,
              "#fdca26"
             ],
             [
              1,
              "#f0f921"
             ]
            ],
            "type": "surface"
           }
          ],
          "table": [
           {
            "cells": {
             "fill": {
              "color": "#EBF0F8"
             },
             "line": {
              "color": "white"
             }
            },
            "header": {
             "fill": {
              "color": "#C8D4E3"
             },
             "line": {
              "color": "white"
             }
            },
            "type": "table"
           }
          ]
         },
         "layout": {
          "annotationdefaults": {
           "arrowcolor": "#2a3f5f",
           "arrowhead": 0,
           "arrowwidth": 1
          },
          "autotypenumbers": "strict",
          "coloraxis": {
           "colorbar": {
            "outlinewidth": 0,
            "ticks": ""
           }
          },
          "colorscale": {
           "diverging": [
            [
             0,
             "#8e0152"
            ],
            [
             0.1,
             "#c51b7d"
            ],
            [
             0.2,
             "#de77ae"
            ],
            [
             0.3,
             "#f1b6da"
            ],
            [
             0.4,
             "#fde0ef"
            ],
            [
             0.5,
             "#f7f7f7"
            ],
            [
             0.6,
             "#e6f5d0"
            ],
            [
             0.7,
             "#b8e186"
            ],
            [
             0.8,
             "#7fbc41"
            ],
            [
             0.9,
             "#4d9221"
            ],
            [
             1,
             "#276419"
            ]
           ],
           "sequential": [
            [
             0,
             "#0d0887"
            ],
            [
             0.1111111111111111,
             "#46039f"
            ],
            [
             0.2222222222222222,
             "#7201a8"
            ],
            [
             0.3333333333333333,
             "#9c179e"
            ],
            [
             0.4444444444444444,
             "#bd3786"
            ],
            [
             0.5555555555555556,
             "#d8576b"
            ],
            [
             0.6666666666666666,
             "#ed7953"
            ],
            [
             0.7777777777777778,
             "#fb9f3a"
            ],
            [
             0.8888888888888888,
             "#fdca26"
            ],
            [
             1,
             "#f0f921"
            ]
           ],
           "sequentialminus": [
            [
             0,
             "#0d0887"
            ],
            [
             0.1111111111111111,
             "#46039f"
            ],
            [
             0.2222222222222222,
             "#7201a8"
            ],
            [
             0.3333333333333333,
             "#9c179e"
            ],
            [
             0.4444444444444444,
             "#bd3786"
            ],
            [
             0.5555555555555556,
             "#d8576b"
            ],
            [
             0.6666666666666666,
             "#ed7953"
            ],
            [
             0.7777777777777778,
             "#fb9f3a"
            ],
            [
             0.8888888888888888,
             "#fdca26"
            ],
            [
             1,
             "#f0f921"
            ]
           ]
          },
          "colorway": [
           "#636efa",
           "#EF553B",
           "#00cc96",
           "#ab63fa",
           "#FFA15A",
           "#19d3f3",
           "#FF6692",
           "#B6E880",
           "#FF97FF",
           "#FECB52"
          ],
          "font": {
           "color": "#2a3f5f"
          },
          "geo": {
           "bgcolor": "white",
           "lakecolor": "white",
           "landcolor": "#E5ECF6",
           "showlakes": true,
           "showland": true,
           "subunitcolor": "white"
          },
          "hoverlabel": {
           "align": "left"
          },
          "hovermode": "closest",
          "mapbox": {
           "style": "light"
          },
          "paper_bgcolor": "white",
          "plot_bgcolor": "#E5ECF6",
          "polar": {
           "angularaxis": {
            "gridcolor": "white",
            "linecolor": "white",
            "ticks": ""
           },
           "bgcolor": "#E5ECF6",
           "radialaxis": {
            "gridcolor": "white",
            "linecolor": "white",
            "ticks": ""
           }
          },
          "scene": {
           "xaxis": {
            "backgroundcolor": "#E5ECF6",
            "gridcolor": "white",
            "gridwidth": 2,
            "linecolor": "white",
            "showbackground": true,
            "ticks": "",
            "zerolinecolor": "white"
           },
           "yaxis": {
            "backgroundcolor": "#E5ECF6",
            "gridcolor": "white",
            "gridwidth": 2,
            "linecolor": "white",
            "showbackground": true,
            "ticks": "",
            "zerolinecolor": "white"
           },
           "zaxis": {
            "backgroundcolor": "#E5ECF6",
            "gridcolor": "white",
            "gridwidth": 2,
            "linecolor": "white",
            "showbackground": true,
            "ticks": "",
            "zerolinecolor": "white"
           }
          },
          "shapedefaults": {
           "line": {
            "color": "#2a3f5f"
           }
          },
          "ternary": {
           "aaxis": {
            "gridcolor": "white",
            "linecolor": "white",
            "ticks": ""
           },
           "baxis": {
            "gridcolor": "white",
            "linecolor": "white",
            "ticks": ""
           },
           "bgcolor": "#E5ECF6",
           "caxis": {
            "gridcolor": "white",
            "linecolor": "white",
            "ticks": ""
           }
          },
          "title": {
           "x": 0.05
          },
          "xaxis": {
           "automargin": true,
           "gridcolor": "white",
           "linecolor": "white",
           "ticks": "",
           "title": {
            "standoff": 15
           },
           "zerolinecolor": "white",
           "zerolinewidth": 2
          },
          "yaxis": {
           "automargin": true,
           "gridcolor": "white",
           "linecolor": "white",
           "ticks": "",
           "title": {
            "standoff": 15
           },
           "zerolinecolor": "white",
           "zerolinewidth": 2
          }
         }
        },
        "xaxis": {
         "anchor": "y",
         "domain": [
          0,
          1
         ],
         "title": {
          "text": "ParentLocation"
         }
        },
        "yaxis": {
         "anchor": "x",
         "domain": [
          0,
          1
         ],
         "title": {
          "text": "Pct_Smoking_Change"
         }
        }
       }
      }
     },
     "metadata": {},
     "output_type": "display_data"
    }
   ],
   "source": [
    "# Random visualization of change in smoking rate by area\n",
    "recent_use_df_by_area = reg_use_df.groupby(\"ParentLocation\").mean()\n",
    "px.bar(recent_use_df_by_area, x=recent_use_df_by_area.index, y=\"Pct_Smoking_Change\")"
   ]
  },
  {
   "cell_type": "markdown",
   "id": "f0a1371c",
   "metadata": {},
   "source": [
    "Change in percentage of smokers from 2000-2018 as a function of average tax percentage\n",
    "\n",
    "Observations:\n",
    "- Slight correlation between taxes and smoking rate\n",
    "- Taxes not very effective?"
   ]
  },
  {
   "cell_type": "code",
   "execution_count": 32,
   "id": "0cfd7f9b",
   "metadata": {},
   "outputs": [
    {
     "data": {
      "application/vnd.plotly.v1+json": {
       "config": {
        "plotlyServerURL": "https://plot.ly"
       },
       "data": [
        {
         "hovertemplate": "AvgTaxesAsPctCigarettePrice=%{x}<br>Pct_Smoking_Change=%{y}<extra></extra>",
         "legendgroup": "",
         "marker": {
          "color": "#636efa",
          "symbol": "circle"
         },
         "mode": "markers",
         "name": "",
         "orientation": "v",
         "showlegend": false,
         "type": "scatter",
         "x": [
          null,
          null,
          22.8,
          69.80000000000001,
          41.25,
          60.75,
          74.95,
          18.700000000000003,
          41.2,
          76.4,
          null,
          null,
          69.69999999999999,
          85.2,
          null,
          41.6,
          80.6,
          46.95,
          63.45,
          null,
          null,
          null,
          64.5,
          62.75,
          81.8,
          47.75,
          null,
          19.7,
          null,
          null,
          50.2,
          50.8,
          71.8,
          null,
          76.55,
          77.8,
          74,
          78.75,
          58,
          43.95,
          71.75,
          null,
          79,
          80.45,
          18.7,
          80.75,
          42.3,
          80.3,
          78.69999999999999,
          51.2,
          25.700000000000003,
          34.4,
          82.4,
          null,
          72.6,
          null,
          80.75,
          43.15,
          49.65,
          78.3,
          3.5,
          null,
          56.65,
          85,
          75.8,
          44.5,
          63.05,
          33.35,
          49.05,
          null,
          19.65,
          null,
          62.8,
          null,
          null,
          46.349999999999994,
          17.2,
          73.85,
          null,
          76.69999999999999,
          70.9,
          78,
          68.2,
          48.1,
          null,
          66.15,
          38.1,
          null,
          null,
          22.1,
          null,
          null,
          null,
          59.099999999999994,
          null,
          null,
          21.7,
          73.94999999999999,
          70,
          39.75,
          null,
          74.15,
          22.1,
          61.150000000000006,
          56.5,
          42.2,
          43.6,
          null,
          81.15,
          null,
          77.94999999999999,
          null,
          null,
          76.3,
          47.75,
          24.1,
          22.9,
          33.45,
          72.1,
          null,
          19.7,
          null,
          74.6,
          null,
          83.85,
          78.9,
          71.3,
          null,
          null,
          null,
          null,
          69.45,
          null,
          64.3,
          81.3,
          81.25,
          null,
          null,
          42.2,
          61.05,
          67.3,
          42.9,
          31.900000000000002,
          null,
          59.5,
          53.3,
          47.85,
          23.55,
          58.7
         ],
         "xaxis": "x",
         "y": [
          -5.0000000000000036,
          -2.5,
          -3.6000000000000014,
          -24.400000000000002,
          -7.599999999999998,
          -11.400000000000002,
          -19,
          -8.5,
          -8.000000000000002,
          -4.899999999999999,
          -9.900000000000002,
          -13.899999999999999,
          -12.399999999999999,
          -10.700000000000003,
          -3,
          -0.9000000000000004,
          -8,
          -10.699999999999996,
          -16.299999999999997,
          -1.8000000000000007,
          -1.8999999999999986,
          -8.400000000000002,
          -20.4,
          -3.3999999999999986,
          -8.699999999999996,
          -4.5,
          -7.399999999999999,
          -0.8999999999999986,
          4.900000000000002,
          -17,
          -8.9,
          -24.200000000000003,
          -8.399999999999999,
          -20.4,
          -5.799999999999997,
          -3.299999999999997,
          -5.600000000000001,
          -19,
          -9.499999999999998,
          -3.599999999999998,
          -0.10000000000000142,
          -5.6000000000000005,
          -9.600000000000001,
          -10.600000000000001,
          -2.2,
          -9.400000000000002,
          -6.0000000000000036,
          0,
          -16.000000000000004,
          -4.699999999999999,
          -2.8,
          -7.299999999999999,
          -11.100000000000001,
          -14.7,
          1.7000000000000028,
          -4.1,
          -9.399999999999999,
          -3.8999999999999986,
          -21.9,
          -11.899999999999999,
          -7.399999999999999,
          -5.800000000000001,
          -16.5,
          -5.800000000000001,
          -3,
          -8.3,
          -11.399999999999999,
          -8.800000000000004,
          -6.899999999999999,
          -3.8000000000000007,
          -22.599999999999998,
          -15.900000000000006,
          -13,
          -4.199999999999999,
          -23.300000000000004,
          -1.5,
          -5.799999999999999,
          -5.400000000000002,
          6.199999999999999,
          -9.199999999999996,
          -7.800000000000001,
          -3.799999999999997,
          -8.7,
          0.8000000000000007,
          -15.100000000000001,
          -10.200000000000001,
          -1,
          -8.799999999999997,
          -17.799999999999997,
          -10.899999999999999,
          -13.4,
          -9,
          -13,
          -7.099999999999998,
          -9.100000000000001,
          0.6999999999999993,
          -2.5,
          -8.800000000000004,
          -24.6,
          -32.300000000000004,
          -18.9,
          -14.8,
          0.09999999999999964,
          -21.5,
          -9.999999999999998,
          -24.299999999999997,
          -10.999999999999996,
          -10.599999999999998,
          -14.799999999999997,
          -2.8999999999999986,
          2.599999999999998,
          -17,
          -1.5999999999999996,
          -16.5,
          -5.900000000000002,
          -6.899999999999999,
          -0.5999999999999979,
          -5.6,
          -0.10000000000000142,
          -4.5,
          -17.2,
          -6.400000000000002,
          -5.299999999999997,
          -1,
          0.19999999999999574,
          -2.6000000000000014,
          -23.900000000000002,
          -1.6000000000000014,
          -4.599999999999998,
          -3.5999999999999996,
          -4.6,
          -9,
          -16.199999999999996,
          -3.099999999999998,
          -13.700000000000003,
          -6.099999999999998,
          -13.099999999999994,
          -10.3,
          -15.399999999999999,
          -13.299999999999997,
          -17.2,
          -7.199999999999996,
          -3.8000000000000007,
          -8,
          -12.399999999999999,
          -10,
          -6.700000000000003,
          -5.199999999999999,
          -4.4
         ],
         "yaxis": "y"
        },
        {
         "hovertemplate": "<b>OLS trendline</b><br>Pct_Smoking_Change = -0.0333604 * AvgTaxesAsPctCigarettePrice + -7.19827<br>R<sup>2</sup>=0.010217<br><br>AvgTaxesAsPctCigarettePrice=%{x}<br>Pct_Smoking_Change=%{y} <b>(trend)</b><extra></extra>",
         "legendgroup": "",
         "marker": {
          "color": "#636efa",
          "symbol": "circle"
         },
         "mode": "lines",
         "name": "",
         "showlegend": false,
         "type": "scatter",
         "x": [
          3.5,
          17.2,
          18.7,
          18.700000000000003,
          19.65,
          19.7,
          19.7,
          21.7,
          22.1,
          22.1,
          22.8,
          22.9,
          23.55,
          24.1,
          25.700000000000003,
          31.900000000000002,
          33.35,
          33.45,
          34.4,
          38.1,
          39.75,
          41.2,
          41.25,
          41.6,
          42.2,
          42.2,
          42.3,
          42.9,
          43.15,
          43.6,
          43.95,
          44.5,
          46.349999999999994,
          46.95,
          47.75,
          47.75,
          47.85,
          48.1,
          49.05,
          49.65,
          50.2,
          50.8,
          51.2,
          53.3,
          56.5,
          56.65,
          58,
          58.7,
          59.099999999999994,
          59.5,
          60.75,
          61.05,
          61.150000000000006,
          62.75,
          62.8,
          63.05,
          63.45,
          64.3,
          64.5,
          66.15,
          67.3,
          68.2,
          69.45,
          69.69999999999999,
          69.80000000000001,
          70,
          70.9,
          71.3,
          71.75,
          71.8,
          72.1,
          72.6,
          73.85,
          73.94999999999999,
          74,
          74.15,
          74.6,
          74.95,
          75.8,
          76.3,
          76.4,
          76.55,
          76.69999999999999,
          77.8,
          77.94999999999999,
          78,
          78.3,
          78.69999999999999,
          78.75,
          78.9,
          79,
          80.3,
          80.45,
          80.6,
          80.75,
          80.75,
          81.15,
          81.25,
          81.3,
          81.8,
          82.4,
          83.85,
          85,
          85.2
         ],
         "xaxis": "x",
         "y": [
          -7.315029899419995,
          -7.772067415512395,
          -7.8221080194641175,
          -7.822108019464118,
          -7.8538004019668755,
          -7.8554684220986,
          -7.8554684220986,
          -7.922189227367563,
          -7.935533388421356,
          -7.935533388421356,
          -7.958885670265493,
          -7.962221710528941,
          -7.983905972241354,
          -8.00225419369032,
          -8.05563083790549,
          -8.262465334239277,
          -8.310837918059276,
          -8.314173958322725,
          -8.34586634082548,
          -8.469299830573064,
          -8.524344494919958,
          -8.572717078739958,
          -8.574385098871682,
          -8.58606123979375,
          -8.60607748137444,
          -8.60607748137444,
          -8.609413521637887,
          -8.629429763218576,
          -8.637769863877196,
          -8.652782045062713,
          -8.664458185984783,
          -8.682806407433747,
          -8.744523152307538,
          -8.764539393888228,
          -8.791227715995813,
          -8.791227715995813,
          -8.794563756259262,
          -8.802903856917881,
          -8.83459623942064,
          -8.854612481001329,
          -8.872960702450293,
          -8.892976944030982,
          -8.906321105084775,
          -8.976377950617186,
          -9.083131239047528,
          -9.088135299442701,
          -9.13317184299925,
          -9.156524124843388,
          -9.16986828589718,
          -9.183212446950973,
          -9.224912950244075,
          -9.234921071034421,
          -9.238257111297868,
          -9.29163375551304,
          -9.293301775644764,
          -9.301641876303384,
          -9.314986037357176,
          -9.343342379596486,
          -9.350014460123383,
          -9.405059124470277,
          -9.44342358749993,
          -9.473447949870964,
          -9.515148453164066,
          -9.523488553822688,
          -9.526824594086136,
          -9.533496674613032,
          -9.563521036984065,
          -9.576865198037858,
          -9.591877379223375,
          -9.593545399355099,
          -9.603553520145443,
          -9.620233721462684,
          -9.661934224755786,
          -9.665270265019235,
          -9.666938285150959,
          -9.671942345546132,
          -9.686954526731647,
          -9.698630667653717,
          -9.726987009893026,
          -9.743667211210266,
          -9.747003251473714,
          -9.752007311868887,
          -9.75701137226406,
          -9.793707815161989,
          -9.798711875557162,
          -9.800379895688886,
          -9.81038801647923,
          -9.823732177533023,
          -9.825400197664747,
          -9.83040425805992,
          -9.833740298323367,
          -9.877108821748195,
          -9.882112882143366,
          -9.887116942538539,
          -9.89212100293371,
          -9.89212100293371,
          -9.905465163987504,
          -9.90880120425095,
          -9.910469224382675,
          -9.927149425699916,
          -9.947165667280606,
          -9.995538251100603,
          -10.033902714130258,
          -10.040574794657154
         ],
         "yaxis": "y"
        }
       ],
       "layout": {
        "legend": {
         "tracegroupgap": 0
        },
        "template": {
         "data": {
          "bar": [
           {
            "error_x": {
             "color": "#2a3f5f"
            },
            "error_y": {
             "color": "#2a3f5f"
            },
            "marker": {
             "line": {
              "color": "#E5ECF6",
              "width": 0.5
             },
             "pattern": {
              "fillmode": "overlay",
              "size": 10,
              "solidity": 0.2
             }
            },
            "type": "bar"
           }
          ],
          "barpolar": [
           {
            "marker": {
             "line": {
              "color": "#E5ECF6",
              "width": 0.5
             },
             "pattern": {
              "fillmode": "overlay",
              "size": 10,
              "solidity": 0.2
             }
            },
            "type": "barpolar"
           }
          ],
          "carpet": [
           {
            "aaxis": {
             "endlinecolor": "#2a3f5f",
             "gridcolor": "white",
             "linecolor": "white",
             "minorgridcolor": "white",
             "startlinecolor": "#2a3f5f"
            },
            "baxis": {
             "endlinecolor": "#2a3f5f",
             "gridcolor": "white",
             "linecolor": "white",
             "minorgridcolor": "white",
             "startlinecolor": "#2a3f5f"
            },
            "type": "carpet"
           }
          ],
          "choropleth": [
           {
            "colorbar": {
             "outlinewidth": 0,
             "ticks": ""
            },
            "type": "choropleth"
           }
          ],
          "contour": [
           {
            "colorbar": {
             "outlinewidth": 0,
             "ticks": ""
            },
            "colorscale": [
             [
              0,
              "#0d0887"
             ],
             [
              0.1111111111111111,
              "#46039f"
             ],
             [
              0.2222222222222222,
              "#7201a8"
             ],
             [
              0.3333333333333333,
              "#9c179e"
             ],
             [
              0.4444444444444444,
              "#bd3786"
             ],
             [
              0.5555555555555556,
              "#d8576b"
             ],
             [
              0.6666666666666666,
              "#ed7953"
             ],
             [
              0.7777777777777778,
              "#fb9f3a"
             ],
             [
              0.8888888888888888,
              "#fdca26"
             ],
             [
              1,
              "#f0f921"
             ]
            ],
            "type": "contour"
           }
          ],
          "contourcarpet": [
           {
            "colorbar": {
             "outlinewidth": 0,
             "ticks": ""
            },
            "type": "contourcarpet"
           }
          ],
          "heatmap": [
           {
            "colorbar": {
             "outlinewidth": 0,
             "ticks": ""
            },
            "colorscale": [
             [
              0,
              "#0d0887"
             ],
             [
              0.1111111111111111,
              "#46039f"
             ],
             [
              0.2222222222222222,
              "#7201a8"
             ],
             [
              0.3333333333333333,
              "#9c179e"
             ],
             [
              0.4444444444444444,
              "#bd3786"
             ],
             [
              0.5555555555555556,
              "#d8576b"
             ],
             [
              0.6666666666666666,
              "#ed7953"
             ],
             [
              0.7777777777777778,
              "#fb9f3a"
             ],
             [
              0.8888888888888888,
              "#fdca26"
             ],
             [
              1,
              "#f0f921"
             ]
            ],
            "type": "heatmap"
           }
          ],
          "heatmapgl": [
           {
            "colorbar": {
             "outlinewidth": 0,
             "ticks": ""
            },
            "colorscale": [
             [
              0,
              "#0d0887"
             ],
             [
              0.1111111111111111,
              "#46039f"
             ],
             [
              0.2222222222222222,
              "#7201a8"
             ],
             [
              0.3333333333333333,
              "#9c179e"
             ],
             [
              0.4444444444444444,
              "#bd3786"
             ],
             [
              0.5555555555555556,
              "#d8576b"
             ],
             [
              0.6666666666666666,
              "#ed7953"
             ],
             [
              0.7777777777777778,
              "#fb9f3a"
             ],
             [
              0.8888888888888888,
              "#fdca26"
             ],
             [
              1,
              "#f0f921"
             ]
            ],
            "type": "heatmapgl"
           }
          ],
          "histogram": [
           {
            "marker": {
             "pattern": {
              "fillmode": "overlay",
              "size": 10,
              "solidity": 0.2
             }
            },
            "type": "histogram"
           }
          ],
          "histogram2d": [
           {
            "colorbar": {
             "outlinewidth": 0,
             "ticks": ""
            },
            "colorscale": [
             [
              0,
              "#0d0887"
             ],
             [
              0.1111111111111111,
              "#46039f"
             ],
             [
              0.2222222222222222,
              "#7201a8"
             ],
             [
              0.3333333333333333,
              "#9c179e"
             ],
             [
              0.4444444444444444,
              "#bd3786"
             ],
             [
              0.5555555555555556,
              "#d8576b"
             ],
             [
              0.6666666666666666,
              "#ed7953"
             ],
             [
              0.7777777777777778,
              "#fb9f3a"
             ],
             [
              0.8888888888888888,
              "#fdca26"
             ],
             [
              1,
              "#f0f921"
             ]
            ],
            "type": "histogram2d"
           }
          ],
          "histogram2dcontour": [
           {
            "colorbar": {
             "outlinewidth": 0,
             "ticks": ""
            },
            "colorscale": [
             [
              0,
              "#0d0887"
             ],
             [
              0.1111111111111111,
              "#46039f"
             ],
             [
              0.2222222222222222,
              "#7201a8"
             ],
             [
              0.3333333333333333,
              "#9c179e"
             ],
             [
              0.4444444444444444,
              "#bd3786"
             ],
             [
              0.5555555555555556,
              "#d8576b"
             ],
             [
              0.6666666666666666,
              "#ed7953"
             ],
             [
              0.7777777777777778,
              "#fb9f3a"
             ],
             [
              0.8888888888888888,
              "#fdca26"
             ],
             [
              1,
              "#f0f921"
             ]
            ],
            "type": "histogram2dcontour"
           }
          ],
          "mesh3d": [
           {
            "colorbar": {
             "outlinewidth": 0,
             "ticks": ""
            },
            "type": "mesh3d"
           }
          ],
          "parcoords": [
           {
            "line": {
             "colorbar": {
              "outlinewidth": 0,
              "ticks": ""
             }
            },
            "type": "parcoords"
           }
          ],
          "pie": [
           {
            "automargin": true,
            "type": "pie"
           }
          ],
          "scatter": [
           {
            "marker": {
             "colorbar": {
              "outlinewidth": 0,
              "ticks": ""
             }
            },
            "type": "scatter"
           }
          ],
          "scatter3d": [
           {
            "line": {
             "colorbar": {
              "outlinewidth": 0,
              "ticks": ""
             }
            },
            "marker": {
             "colorbar": {
              "outlinewidth": 0,
              "ticks": ""
             }
            },
            "type": "scatter3d"
           }
          ],
          "scattercarpet": [
           {
            "marker": {
             "colorbar": {
              "outlinewidth": 0,
              "ticks": ""
             }
            },
            "type": "scattercarpet"
           }
          ],
          "scattergeo": [
           {
            "marker": {
             "colorbar": {
              "outlinewidth": 0,
              "ticks": ""
             }
            },
            "type": "scattergeo"
           }
          ],
          "scattergl": [
           {
            "marker": {
             "colorbar": {
              "outlinewidth": 0,
              "ticks": ""
             }
            },
            "type": "scattergl"
           }
          ],
          "scattermapbox": [
           {
            "marker": {
             "colorbar": {
              "outlinewidth": 0,
              "ticks": ""
             }
            },
            "type": "scattermapbox"
           }
          ],
          "scatterpolar": [
           {
            "marker": {
             "colorbar": {
              "outlinewidth": 0,
              "ticks": ""
             }
            },
            "type": "scatterpolar"
           }
          ],
          "scatterpolargl": [
           {
            "marker": {
             "colorbar": {
              "outlinewidth": 0,
              "ticks": ""
             }
            },
            "type": "scatterpolargl"
           }
          ],
          "scatterternary": [
           {
            "marker": {
             "colorbar": {
              "outlinewidth": 0,
              "ticks": ""
             }
            },
            "type": "scatterternary"
           }
          ],
          "surface": [
           {
            "colorbar": {
             "outlinewidth": 0,
             "ticks": ""
            },
            "colorscale": [
             [
              0,
              "#0d0887"
             ],
             [
              0.1111111111111111,
              "#46039f"
             ],
             [
              0.2222222222222222,
              "#7201a8"
             ],
             [
              0.3333333333333333,
              "#9c179e"
             ],
             [
              0.4444444444444444,
              "#bd3786"
             ],
             [
              0.5555555555555556,
              "#d8576b"
             ],
             [
              0.6666666666666666,
              "#ed7953"
             ],
             [
              0.7777777777777778,
              "#fb9f3a"
             ],
             [
              0.8888888888888888,
              "#fdca26"
             ],
             [
              1,
              "#f0f921"
             ]
            ],
            "type": "surface"
           }
          ],
          "table": [
           {
            "cells": {
             "fill": {
              "color": "#EBF0F8"
             },
             "line": {
              "color": "white"
             }
            },
            "header": {
             "fill": {
              "color": "#C8D4E3"
             },
             "line": {
              "color": "white"
             }
            },
            "type": "table"
           }
          ]
         },
         "layout": {
          "annotationdefaults": {
           "arrowcolor": "#2a3f5f",
           "arrowhead": 0,
           "arrowwidth": 1
          },
          "autotypenumbers": "strict",
          "coloraxis": {
           "colorbar": {
            "outlinewidth": 0,
            "ticks": ""
           }
          },
          "colorscale": {
           "diverging": [
            [
             0,
             "#8e0152"
            ],
            [
             0.1,
             "#c51b7d"
            ],
            [
             0.2,
             "#de77ae"
            ],
            [
             0.3,
             "#f1b6da"
            ],
            [
             0.4,
             "#fde0ef"
            ],
            [
             0.5,
             "#f7f7f7"
            ],
            [
             0.6,
             "#e6f5d0"
            ],
            [
             0.7,
             "#b8e186"
            ],
            [
             0.8,
             "#7fbc41"
            ],
            [
             0.9,
             "#4d9221"
            ],
            [
             1,
             "#276419"
            ]
           ],
           "sequential": [
            [
             0,
             "#0d0887"
            ],
            [
             0.1111111111111111,
             "#46039f"
            ],
            [
             0.2222222222222222,
             "#7201a8"
            ],
            [
             0.3333333333333333,
             "#9c179e"
            ],
            [
             0.4444444444444444,
             "#bd3786"
            ],
            [
             0.5555555555555556,
             "#d8576b"
            ],
            [
             0.6666666666666666,
             "#ed7953"
            ],
            [
             0.7777777777777778,
             "#fb9f3a"
            ],
            [
             0.8888888888888888,
             "#fdca26"
            ],
            [
             1,
             "#f0f921"
            ]
           ],
           "sequentialminus": [
            [
             0,
             "#0d0887"
            ],
            [
             0.1111111111111111,
             "#46039f"
            ],
            [
             0.2222222222222222,
             "#7201a8"
            ],
            [
             0.3333333333333333,
             "#9c179e"
            ],
            [
             0.4444444444444444,
             "#bd3786"
            ],
            [
             0.5555555555555556,
             "#d8576b"
            ],
            [
             0.6666666666666666,
             "#ed7953"
            ],
            [
             0.7777777777777778,
             "#fb9f3a"
            ],
            [
             0.8888888888888888,
             "#fdca26"
            ],
            [
             1,
             "#f0f921"
            ]
           ]
          },
          "colorway": [
           "#636efa",
           "#EF553B",
           "#00cc96",
           "#ab63fa",
           "#FFA15A",
           "#19d3f3",
           "#FF6692",
           "#B6E880",
           "#FF97FF",
           "#FECB52"
          ],
          "font": {
           "color": "#2a3f5f"
          },
          "geo": {
           "bgcolor": "white",
           "lakecolor": "white",
           "landcolor": "#E5ECF6",
           "showlakes": true,
           "showland": true,
           "subunitcolor": "white"
          },
          "hoverlabel": {
           "align": "left"
          },
          "hovermode": "closest",
          "mapbox": {
           "style": "light"
          },
          "paper_bgcolor": "white",
          "plot_bgcolor": "#E5ECF6",
          "polar": {
           "angularaxis": {
            "gridcolor": "white",
            "linecolor": "white",
            "ticks": ""
           },
           "bgcolor": "#E5ECF6",
           "radialaxis": {
            "gridcolor": "white",
            "linecolor": "white",
            "ticks": ""
           }
          },
          "scene": {
           "xaxis": {
            "backgroundcolor": "#E5ECF6",
            "gridcolor": "white",
            "gridwidth": 2,
            "linecolor": "white",
            "showbackground": true,
            "ticks": "",
            "zerolinecolor": "white"
           },
           "yaxis": {
            "backgroundcolor": "#E5ECF6",
            "gridcolor": "white",
            "gridwidth": 2,
            "linecolor": "white",
            "showbackground": true,
            "ticks": "",
            "zerolinecolor": "white"
           },
           "zaxis": {
            "backgroundcolor": "#E5ECF6",
            "gridcolor": "white",
            "gridwidth": 2,
            "linecolor": "white",
            "showbackground": true,
            "ticks": "",
            "zerolinecolor": "white"
           }
          },
          "shapedefaults": {
           "line": {
            "color": "#2a3f5f"
           }
          },
          "ternary": {
           "aaxis": {
            "gridcolor": "white",
            "linecolor": "white",
            "ticks": ""
           },
           "baxis": {
            "gridcolor": "white",
            "linecolor": "white",
            "ticks": ""
           },
           "bgcolor": "#E5ECF6",
           "caxis": {
            "gridcolor": "white",
            "linecolor": "white",
            "ticks": ""
           }
          },
          "title": {
           "x": 0.05
          },
          "xaxis": {
           "automargin": true,
           "gridcolor": "white",
           "linecolor": "white",
           "ticks": "",
           "title": {
            "standoff": 15
           },
           "zerolinecolor": "white",
           "zerolinewidth": 2
          },
          "yaxis": {
           "automargin": true,
           "gridcolor": "white",
           "linecolor": "white",
           "ticks": "",
           "title": {
            "standoff": 15
           },
           "zerolinecolor": "white",
           "zerolinewidth": 2
          }
         }
        },
        "title": {
         "text": "Percent Smoker vs. Taxes"
        },
        "xaxis": {
         "anchor": "y",
         "domain": [
          0,
          1
         ],
         "title": {
          "text": "AvgTaxesAsPctCigarettePrice"
         }
        },
        "yaxis": {
         "anchor": "x",
         "domain": [
          0,
          1
         ],
         "title": {
          "text": "Pct_Smoking_Change"
         }
        }
       }
      }
     },
     "metadata": {},
     "output_type": "display_data"
    }
   ],
   "source": [
    "px.scatter(reg_use_df, x=\"AvgTaxesAsPctCigarettePrice\", y=\"Pct_Smoking_Change\", title=\"Percent Smoker vs. Taxes\", trendline=\"ols\")"
   ]
  },
  {
   "cell_type": "code",
   "execution_count": 41,
   "id": "378ac332",
   "metadata": {},
   "outputs": [
    {
     "data": {
      "application/vnd.plotly.v1+json": {
       "config": {
        "plotlyServerURL": "https://plot.ly"
       },
       "data": [
        {
         "alignmentgroup": "True",
         "bingroup": "x",
         "histfunc": "avg",
         "hovertemplate": "EnforceBansTobaccoAd=%{x}<br>avg of Pct_Smoking_Change=%{y}<extra></extra>",
         "legendgroup": "",
         "marker": {
          "color": "#636efa",
          "pattern": {
           "shape": ""
          }
         },
         "name": "",
         "offsetgroup": "",
         "orientation": "v",
         "showlegend": false,
         "type": "histogram",
         "x": [
          5,
          2,
          4.25,
          3,
          2,
          4,
          4,
          4,
          2,
          4,
          4,
          4,
          4,
          4,
          4,
          2,
          4,
          4,
          4.5,
          2,
          4,
          4,
          3.5,
          2,
          4,
          4,
          2,
          4,
          4,
          4,
          4.25,
          2.5,
          3,
          2,
          4,
          4,
          3.75,
          4,
          2,
          4,
          4,
          5,
          4.75,
          4,
          3,
          4,
          4,
          4,
          4,
          2,
          3.5,
          4,
          4,
          2,
          4,
          2,
          4,
          2,
          4,
          4,
          5,
          4,
          4,
          2,
          4,
          2,
          2,
          4,
          5,
          3.5,
          3,
          2.75,
          2,
          4,
          4,
          3,
          2,
          4,
          2,
          4,
          4,
          4,
          4,
          4,
          5,
          2,
          3.75,
          4,
          4,
          4,
          4,
          4.75,
          2,
          4,
          3.5,
          5,
          2,
          4,
          4,
          3.75,
          3.5,
          4,
          2,
          2.5,
          4.25,
          2,
          3.5,
          3,
          4,
          2,
          4,
          2,
          4,
          4,
          2.75,
          2,
          2,
          2.5,
          4,
          3.5,
          2,
          3,
          4,
          2,
          4,
          4,
          4,
          2.5,
          3.5,
          4.5,
          3.5,
          4,
          2,
          4,
          4,
          4,
          4.25,
          4,
          2,
          3.5,
          3.75,
          2,
          3,
          4.25,
          3.5,
          4.25,
          4,
          2,
          2
         ],
         "xaxis": "x",
         "y": [
          -5.0000000000000036,
          -2.5,
          -3.6000000000000014,
          -24.400000000000002,
          -7.599999999999998,
          -11.400000000000002,
          -19,
          -8.5,
          -8.000000000000002,
          -4.899999999999999,
          -9.900000000000002,
          -13.899999999999999,
          -12.399999999999999,
          -10.700000000000003,
          -3,
          -0.9000000000000004,
          -8,
          -10.699999999999996,
          -16.299999999999997,
          -1.8000000000000007,
          -1.8999999999999986,
          -8.400000000000002,
          -20.4,
          -3.3999999999999986,
          -8.699999999999996,
          -4.5,
          -7.399999999999999,
          -0.8999999999999986,
          4.900000000000002,
          -17,
          -8.9,
          -24.200000000000003,
          -8.399999999999999,
          -20.4,
          -5.799999999999997,
          -3.299999999999997,
          -5.600000000000001,
          -19,
          -9.499999999999998,
          -3.599999999999998,
          -0.10000000000000142,
          -5.6000000000000005,
          -9.600000000000001,
          -10.600000000000001,
          -2.2,
          -9.400000000000002,
          -6.0000000000000036,
          0,
          -16.000000000000004,
          -4.699999999999999,
          -2.8,
          -7.299999999999999,
          -11.100000000000001,
          -14.7,
          1.7000000000000028,
          -4.1,
          -9.399999999999999,
          -3.8999999999999986,
          -21.9,
          -11.899999999999999,
          -7.399999999999999,
          -5.800000000000001,
          -16.5,
          -5.800000000000001,
          -3,
          -8.3,
          -11.399999999999999,
          -8.800000000000004,
          -6.899999999999999,
          -3.8000000000000007,
          -22.599999999999998,
          -15.900000000000006,
          -13,
          -4.199999999999999,
          -23.300000000000004,
          -1.5,
          -5.799999999999999,
          -5.400000000000002,
          6.199999999999999,
          -9.199999999999996,
          -7.800000000000001,
          -3.799999999999997,
          -8.7,
          0.8000000000000007,
          -15.100000000000001,
          -10.200000000000001,
          -1,
          -8.799999999999997,
          -17.799999999999997,
          -10.899999999999999,
          -13.4,
          -9,
          -13,
          -7.099999999999998,
          -9.100000000000001,
          0.6999999999999993,
          -2.5,
          -8.800000000000004,
          -24.6,
          -32.300000000000004,
          -18.9,
          -14.8,
          0.09999999999999964,
          -21.5,
          -9.999999999999998,
          -24.299999999999997,
          -10.999999999999996,
          -10.599999999999998,
          -14.799999999999997,
          -2.8999999999999986,
          2.599999999999998,
          -17,
          -1.5999999999999996,
          -16.5,
          -5.900000000000002,
          -6.899999999999999,
          -0.5999999999999979,
          -5.6,
          -0.10000000000000142,
          -4.5,
          -17.2,
          -6.400000000000002,
          -5.299999999999997,
          -1,
          0.19999999999999574,
          -2.6000000000000014,
          -23.900000000000002,
          -1.6000000000000014,
          -4.599999999999998,
          -3.5999999999999996,
          -4.6,
          -9,
          -16.199999999999996,
          -3.099999999999998,
          -13.700000000000003,
          -6.099999999999998,
          -13.099999999999994,
          -10.3,
          -15.399999999999999,
          -13.299999999999997,
          -17.2,
          -7.199999999999996,
          -3.8000000000000007,
          -8,
          -12.399999999999999,
          -10,
          -6.700000000000003,
          -5.199999999999999,
          -4.4
         ],
         "yaxis": "y"
        }
       ],
       "layout": {
        "bargap": 0.2,
        "barmode": "relative",
        "legend": {
         "tracegroupgap": 0
        },
        "margin": {
         "t": 60
        },
        "template": {
         "data": {
          "bar": [
           {
            "error_x": {
             "color": "#2a3f5f"
            },
            "error_y": {
             "color": "#2a3f5f"
            },
            "marker": {
             "line": {
              "color": "#E5ECF6",
              "width": 0.5
             },
             "pattern": {
              "fillmode": "overlay",
              "size": 10,
              "solidity": 0.2
             }
            },
            "type": "bar"
           }
          ],
          "barpolar": [
           {
            "marker": {
             "line": {
              "color": "#E5ECF6",
              "width": 0.5
             },
             "pattern": {
              "fillmode": "overlay",
              "size": 10,
              "solidity": 0.2
             }
            },
            "type": "barpolar"
           }
          ],
          "carpet": [
           {
            "aaxis": {
             "endlinecolor": "#2a3f5f",
             "gridcolor": "white",
             "linecolor": "white",
             "minorgridcolor": "white",
             "startlinecolor": "#2a3f5f"
            },
            "baxis": {
             "endlinecolor": "#2a3f5f",
             "gridcolor": "white",
             "linecolor": "white",
             "minorgridcolor": "white",
             "startlinecolor": "#2a3f5f"
            },
            "type": "carpet"
           }
          ],
          "choropleth": [
           {
            "colorbar": {
             "outlinewidth": 0,
             "ticks": ""
            },
            "type": "choropleth"
           }
          ],
          "contour": [
           {
            "colorbar": {
             "outlinewidth": 0,
             "ticks": ""
            },
            "colorscale": [
             [
              0,
              "#0d0887"
             ],
             [
              0.1111111111111111,
              "#46039f"
             ],
             [
              0.2222222222222222,
              "#7201a8"
             ],
             [
              0.3333333333333333,
              "#9c179e"
             ],
             [
              0.4444444444444444,
              "#bd3786"
             ],
             [
              0.5555555555555556,
              "#d8576b"
             ],
             [
              0.6666666666666666,
              "#ed7953"
             ],
             [
              0.7777777777777778,
              "#fb9f3a"
             ],
             [
              0.8888888888888888,
              "#fdca26"
             ],
             [
              1,
              "#f0f921"
             ]
            ],
            "type": "contour"
           }
          ],
          "contourcarpet": [
           {
            "colorbar": {
             "outlinewidth": 0,
             "ticks": ""
            },
            "type": "contourcarpet"
           }
          ],
          "heatmap": [
           {
            "colorbar": {
             "outlinewidth": 0,
             "ticks": ""
            },
            "colorscale": [
             [
              0,
              "#0d0887"
             ],
             [
              0.1111111111111111,
              "#46039f"
             ],
             [
              0.2222222222222222,
              "#7201a8"
             ],
             [
              0.3333333333333333,
              "#9c179e"
             ],
             [
              0.4444444444444444,
              "#bd3786"
             ],
             [
              0.5555555555555556,
              "#d8576b"
             ],
             [
              0.6666666666666666,
              "#ed7953"
             ],
             [
              0.7777777777777778,
              "#fb9f3a"
             ],
             [
              0.8888888888888888,
              "#fdca26"
             ],
             [
              1,
              "#f0f921"
             ]
            ],
            "type": "heatmap"
           }
          ],
          "heatmapgl": [
           {
            "colorbar": {
             "outlinewidth": 0,
             "ticks": ""
            },
            "colorscale": [
             [
              0,
              "#0d0887"
             ],
             [
              0.1111111111111111,
              "#46039f"
             ],
             [
              0.2222222222222222,
              "#7201a8"
             ],
             [
              0.3333333333333333,
              "#9c179e"
             ],
             [
              0.4444444444444444,
              "#bd3786"
             ],
             [
              0.5555555555555556,
              "#d8576b"
             ],
             [
              0.6666666666666666,
              "#ed7953"
             ],
             [
              0.7777777777777778,
              "#fb9f3a"
             ],
             [
              0.8888888888888888,
              "#fdca26"
             ],
             [
              1,
              "#f0f921"
             ]
            ],
            "type": "heatmapgl"
           }
          ],
          "histogram": [
           {
            "marker": {
             "pattern": {
              "fillmode": "overlay",
              "size": 10,
              "solidity": 0.2
             }
            },
            "type": "histogram"
           }
          ],
          "histogram2d": [
           {
            "colorbar": {
             "outlinewidth": 0,
             "ticks": ""
            },
            "colorscale": [
             [
              0,
              "#0d0887"
             ],
             [
              0.1111111111111111,
              "#46039f"
             ],
             [
              0.2222222222222222,
              "#7201a8"
             ],
             [
              0.3333333333333333,
              "#9c179e"
             ],
             [
              0.4444444444444444,
              "#bd3786"
             ],
             [
              0.5555555555555556,
              "#d8576b"
             ],
             [
              0.6666666666666666,
              "#ed7953"
             ],
             [
              0.7777777777777778,
              "#fb9f3a"
             ],
             [
              0.8888888888888888,
              "#fdca26"
             ],
             [
              1,
              "#f0f921"
             ]
            ],
            "type": "histogram2d"
           }
          ],
          "histogram2dcontour": [
           {
            "colorbar": {
             "outlinewidth": 0,
             "ticks": ""
            },
            "colorscale": [
             [
              0,
              "#0d0887"
             ],
             [
              0.1111111111111111,
              "#46039f"
             ],
             [
              0.2222222222222222,
              "#7201a8"
             ],
             [
              0.3333333333333333,
              "#9c179e"
             ],
             [
              0.4444444444444444,
              "#bd3786"
             ],
             [
              0.5555555555555556,
              "#d8576b"
             ],
             [
              0.6666666666666666,
              "#ed7953"
             ],
             [
              0.7777777777777778,
              "#fb9f3a"
             ],
             [
              0.8888888888888888,
              "#fdca26"
             ],
             [
              1,
              "#f0f921"
             ]
            ],
            "type": "histogram2dcontour"
           }
          ],
          "mesh3d": [
           {
            "colorbar": {
             "outlinewidth": 0,
             "ticks": ""
            },
            "type": "mesh3d"
           }
          ],
          "parcoords": [
           {
            "line": {
             "colorbar": {
              "outlinewidth": 0,
              "ticks": ""
             }
            },
            "type": "parcoords"
           }
          ],
          "pie": [
           {
            "automargin": true,
            "type": "pie"
           }
          ],
          "scatter": [
           {
            "marker": {
             "colorbar": {
              "outlinewidth": 0,
              "ticks": ""
             }
            },
            "type": "scatter"
           }
          ],
          "scatter3d": [
           {
            "line": {
             "colorbar": {
              "outlinewidth": 0,
              "ticks": ""
             }
            },
            "marker": {
             "colorbar": {
              "outlinewidth": 0,
              "ticks": ""
             }
            },
            "type": "scatter3d"
           }
          ],
          "scattercarpet": [
           {
            "marker": {
             "colorbar": {
              "outlinewidth": 0,
              "ticks": ""
             }
            },
            "type": "scattercarpet"
           }
          ],
          "scattergeo": [
           {
            "marker": {
             "colorbar": {
              "outlinewidth": 0,
              "ticks": ""
             }
            },
            "type": "scattergeo"
           }
          ],
          "scattergl": [
           {
            "marker": {
             "colorbar": {
              "outlinewidth": 0,
              "ticks": ""
             }
            },
            "type": "scattergl"
           }
          ],
          "scattermapbox": [
           {
            "marker": {
             "colorbar": {
              "outlinewidth": 0,
              "ticks": ""
             }
            },
            "type": "scattermapbox"
           }
          ],
          "scatterpolar": [
           {
            "marker": {
             "colorbar": {
              "outlinewidth": 0,
              "ticks": ""
             }
            },
            "type": "scatterpolar"
           }
          ],
          "scatterpolargl": [
           {
            "marker": {
             "colorbar": {
              "outlinewidth": 0,
              "ticks": ""
             }
            },
            "type": "scatterpolargl"
           }
          ],
          "scatterternary": [
           {
            "marker": {
             "colorbar": {
              "outlinewidth": 0,
              "ticks": ""
             }
            },
            "type": "scatterternary"
           }
          ],
          "surface": [
           {
            "colorbar": {
             "outlinewidth": 0,
             "ticks": ""
            },
            "colorscale": [
             [
              0,
              "#0d0887"
             ],
             [
              0.1111111111111111,
              "#46039f"
             ],
             [
              0.2222222222222222,
              "#7201a8"
             ],
             [
              0.3333333333333333,
              "#9c179e"
             ],
             [
              0.4444444444444444,
              "#bd3786"
             ],
             [
              0.5555555555555556,
              "#d8576b"
             ],
             [
              0.6666666666666666,
              "#ed7953"
             ],
             [
              0.7777777777777778,
              "#fb9f3a"
             ],
             [
              0.8888888888888888,
              "#fdca26"
             ],
             [
              1,
              "#f0f921"
             ]
            ],
            "type": "surface"
           }
          ],
          "table": [
           {
            "cells": {
             "fill": {
              "color": "#EBF0F8"
             },
             "line": {
              "color": "white"
             }
            },
            "header": {
             "fill": {
              "color": "#C8D4E3"
             },
             "line": {
              "color": "white"
             }
            },
            "type": "table"
           }
          ]
         },
         "layout": {
          "annotationdefaults": {
           "arrowcolor": "#2a3f5f",
           "arrowhead": 0,
           "arrowwidth": 1
          },
          "autotypenumbers": "strict",
          "coloraxis": {
           "colorbar": {
            "outlinewidth": 0,
            "ticks": ""
           }
          },
          "colorscale": {
           "diverging": [
            [
             0,
             "#8e0152"
            ],
            [
             0.1,
             "#c51b7d"
            ],
            [
             0.2,
             "#de77ae"
            ],
            [
             0.3,
             "#f1b6da"
            ],
            [
             0.4,
             "#fde0ef"
            ],
            [
             0.5,
             "#f7f7f7"
            ],
            [
             0.6,
             "#e6f5d0"
            ],
            [
             0.7,
             "#b8e186"
            ],
            [
             0.8,
             "#7fbc41"
            ],
            [
             0.9,
             "#4d9221"
            ],
            [
             1,
             "#276419"
            ]
           ],
           "sequential": [
            [
             0,
             "#0d0887"
            ],
            [
             0.1111111111111111,
             "#46039f"
            ],
            [
             0.2222222222222222,
             "#7201a8"
            ],
            [
             0.3333333333333333,
             "#9c179e"
            ],
            [
             0.4444444444444444,
             "#bd3786"
            ],
            [
             0.5555555555555556,
             "#d8576b"
            ],
            [
             0.6666666666666666,
             "#ed7953"
            ],
            [
             0.7777777777777778,
             "#fb9f3a"
            ],
            [
             0.8888888888888888,
             "#fdca26"
            ],
            [
             1,
             "#f0f921"
            ]
           ],
           "sequentialminus": [
            [
             0,
             "#0d0887"
            ],
            [
             0.1111111111111111,
             "#46039f"
            ],
            [
             0.2222222222222222,
             "#7201a8"
            ],
            [
             0.3333333333333333,
             "#9c179e"
            ],
            [
             0.4444444444444444,
             "#bd3786"
            ],
            [
             0.5555555555555556,
             "#d8576b"
            ],
            [
             0.6666666666666666,
             "#ed7953"
            ],
            [
             0.7777777777777778,
             "#fb9f3a"
            ],
            [
             0.8888888888888888,
             "#fdca26"
            ],
            [
             1,
             "#f0f921"
            ]
           ]
          },
          "colorway": [
           "#636efa",
           "#EF553B",
           "#00cc96",
           "#ab63fa",
           "#FFA15A",
           "#19d3f3",
           "#FF6692",
           "#B6E880",
           "#FF97FF",
           "#FECB52"
          ],
          "font": {
           "color": "#2a3f5f"
          },
          "geo": {
           "bgcolor": "white",
           "lakecolor": "white",
           "landcolor": "#E5ECF6",
           "showlakes": true,
           "showland": true,
           "subunitcolor": "white"
          },
          "hoverlabel": {
           "align": "left"
          },
          "hovermode": "closest",
          "mapbox": {
           "style": "light"
          },
          "paper_bgcolor": "white",
          "plot_bgcolor": "#E5ECF6",
          "polar": {
           "angularaxis": {
            "gridcolor": "white",
            "linecolor": "white",
            "ticks": ""
           },
           "bgcolor": "#E5ECF6",
           "radialaxis": {
            "gridcolor": "white",
            "linecolor": "white",
            "ticks": ""
           }
          },
          "scene": {
           "xaxis": {
            "backgroundcolor": "#E5ECF6",
            "gridcolor": "white",
            "gridwidth": 2,
            "linecolor": "white",
            "showbackground": true,
            "ticks": "",
            "zerolinecolor": "white"
           },
           "yaxis": {
            "backgroundcolor": "#E5ECF6",
            "gridcolor": "white",
            "gridwidth": 2,
            "linecolor": "white",
            "showbackground": true,
            "ticks": "",
            "zerolinecolor": "white"
           },
           "zaxis": {
            "backgroundcolor": "#E5ECF6",
            "gridcolor": "white",
            "gridwidth": 2,
            "linecolor": "white",
            "showbackground": true,
            "ticks": "",
            "zerolinecolor": "white"
           }
          },
          "shapedefaults": {
           "line": {
            "color": "#2a3f5f"
           }
          },
          "ternary": {
           "aaxis": {
            "gridcolor": "white",
            "linecolor": "white",
            "ticks": ""
           },
           "baxis": {
            "gridcolor": "white",
            "linecolor": "white",
            "ticks": ""
           },
           "bgcolor": "#E5ECF6",
           "caxis": {
            "gridcolor": "white",
            "linecolor": "white",
            "ticks": ""
           }
          },
          "title": {
           "x": 0.05
          },
          "xaxis": {
           "automargin": true,
           "gridcolor": "white",
           "linecolor": "white",
           "ticks": "",
           "title": {
            "standoff": 15
           },
           "zerolinecolor": "white",
           "zerolinewidth": 2
          },
          "yaxis": {
           "automargin": true,
           "gridcolor": "white",
           "linecolor": "white",
           "ticks": "",
           "title": {
            "standoff": 15
           },
           "zerolinecolor": "white",
           "zerolinewidth": 2
          }
         }
        },
        "xaxis": {
         "anchor": "y",
         "domain": [
          0,
          1
         ],
         "title": {
          "text": "EnforceBansTobaccoAd"
         }
        },
        "yaxis": {
         "anchor": "x",
         "domain": [
          0,
          1
         ],
         "title": {
          "text": "avg of Pct_Smoking_Change"
         }
        }
       }
      }
     },
     "metadata": {},
     "output_type": "display_data"
    }
   ],
   "source": [
    "fig = px.histogram(reg_use_df, x=\"EnforceBansTobaccoAd\", y=\"Pct_Smoking_Change\", histfunc=\"avg\")\n",
    "fig.update_layout(bargap=0.2)\n",
    "fig.show()"
   ]
  },
  {
   "cell_type": "markdown",
   "metadata": {},
   "source": []
  }
 ],
 "metadata": {
  "interpreter": {
   "hash": "bcc143fceb1d261e388ea4ed9cd3db7690faed6f9b17bc5323448eea02da0617"
  },
  "kernelspec": {
   "display_name": "Python 3.8.8 64-bit ('dgl': conda)",
   "name": "python3"
  },
  "language_info": {
   "codemirror_mode": {
    "name": "ipython",
    "version": 3
   },
   "file_extension": ".py",
   "mimetype": "text/x-python",
   "name": "python",
   "nbconvert_exporter": "python",
   "pygments_lexer": "ipython3",
   "version": "3.8.8"
  }
 },
 "nbformat": 4,
 "nbformat_minor": 5
}
