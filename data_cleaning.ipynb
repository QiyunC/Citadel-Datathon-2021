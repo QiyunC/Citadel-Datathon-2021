{
 "cells": [
  {
   "cell_type": "code",
   "execution_count": 78,
   "metadata": {},
   "outputs": [],
   "source": [
    "import pandas as pd\n",
    "import numpy as np\n",
    "from tqdm import tqdm"
   ]
  },
  {
   "cell_type": "code",
   "execution_count": 11,
   "metadata": {
    "scrolled": true
   },
   "outputs": [],
   "source": [
    "# load all world bank data\n",
    "# columns: \n",
    "# Country Name -> Location, \n",
    "# Country Code -> SpatialDimValueCode , \n",
    "# Year, (ww_value), ExtraFeatures\n",
    "df_arg = pd.read_csv(\"Agriculture/agr_land.csv\")\n",
    "df_cpi = pd.read_csv(\"CPI/ConsumerPriceIndex(2010=100).csv\")\n",
    "df_edu = pd.read_csv(\"edu/school_enrollment.csv\")\n",
    "df_employ = pd.read_csv(\"Employment/EmploymentRate.csv\")\n",
    "df_exchange = pd.read_csv(\"exchange_rate/exchange_to_usd.csv\")\n",
    "df_GDP = pd.read_csv(\"GDP/GDP_per_capita.csv\")\n",
    "df_green = pd.read_csv(\"greenhouse/gas_emission.csv\")\n",
    "df_income = pd.read_csv(\"income/income_per_capita.csv\")\n",
    "df_pop = pd.read_csv(\"population/pop.csv\")\n",
    "df_tax = pd.read_csv(\"tax/tax_in_gdp.csv\")"
   ]
  },
  {
   "cell_type": "code",
   "execution_count": 34,
   "metadata": {},
   "outputs": [
    {
     "name": "stdout",
     "output_type": "stream",
     "text": [
      "266\n",
      "Index(['Country Name', 'Country Code', 'Indicator Name', 'Indicator Code',\n",
      "       '1960', '1961', '1962', '1963', '1964', '1965', '1966', '1967', '1968',\n",
      "       '1969', '1970', '1971', '1972', '1973', '1974', '1975', '1976', '1977',\n",
      "       '1978', '1979', '1980', '1981', '1982', '1983', '1984', '1985', '1986',\n",
      "       '1987', '1988', '1989', '1990', '1991', '1992', '1993', '1994', '1995',\n",
      "       '1996', '1997', '1998', '1999', '2000', '2001', '2002', '2003', '2004',\n",
      "       '2005', '2006', '2007', '2008', '2009', '2010', '2011', '2012', '2013',\n",
      "       '2014', '2015', '2016', '2017', '2018', '2019', '2020'],\n",
      "      dtype='object')\n"
     ]
    }
   ],
   "source": [
    "# unique countries\n",
    "countries = df_arg['Country Name'].unique()\n",
    "num_countries = len(countries)\n",
    "print(num_countries)\n",
    "# unique years\n",
    "print(df_arg.columns) # 1960-2020 => 61\n",
    "yrs = 61"
   ]
  },
  {
   "cell_type": "code",
   "execution_count": 49,
   "metadata": {},
   "outputs": [],
   "source": [
    "def one_wordbank_feature(df,country):\n",
    "    return df.loc[df['Country Name'] == country, '1960':'2020'].values"
   ]
  },
  {
   "cell_type": "code",
   "execution_count": 50,
   "metadata": {},
   "outputs": [],
   "source": [
    "# directly create dictionary\n",
    "d = dict()\n",
    "d[\"Location\"] = np.repeat(list(df_arg['Country Name']),yrs)\n",
    "d[\"SpatialDimValueCode\"] = np.repeat(list(df_arg['Country Code']),yrs)\n",
    "d[\"Year\"] = np.tile(list(df_arg.columns)[4:],num_countries)\n",
    "d[\"arg\"] = np.concatenate([one_wordbank_feature(df_arg,c) for c in countries]).ravel()\n",
    "d[\"cpi\"] = np.concatenate([one_wordbank_feature(df_cpi,c) for c in countries]).ravel()\n",
    "d[\"edu\"] = np.concatenate([one_wordbank_feature(df_edu,c) for c in countries]).ravel()\n",
    "d[\"employ\"] = np.concatenate([one_wordbank_feature(df_employ,c) for c in countries]).ravel()\n",
    "d[\"exchange\"] = np.concatenate([one_wordbank_feature(df_exchange,c) for c in countries]).ravel()\n",
    "d[\"gdp\"] = np.concatenate([one_wordbank_feature(df_GDP,c) for c in countries]).ravel()\n",
    "d[\"green\"] = np.concatenate([one_wordbank_feature(df_green,c) for c in countries]).ravel()\n",
    "d[\"income\"] = np.concatenate([one_wordbank_feature(df_income,c) for c in countries]).ravel()\n",
    "d[\"pop\"] = np.concatenate([one_wordbank_feature(df_pop,c) for c in countries]).ravel()\n",
    "d[\"tax\"] =  np.concatenate([one_wordbank_feature(df_tax,c) for c in countries]).ravel()"
   ]
  },
  {
   "cell_type": "code",
   "execution_count": 52,
   "metadata": {},
   "outputs": [
    {
     "name": "stdout",
     "output_type": "stream",
     "text": [
      "{'Location': array(['Aruba', 'Aruba', 'Aruba', ..., 'Zimbabwe', 'Zimbabwe', 'Zimbabwe'],\n",
      "      dtype='<U52'), 'SpatialDimValueCode': array(['ABW', 'ABW', 'ABW', ..., 'ZWE', 'ZWE', 'ZWE'], dtype='<U3'), 'Year': array(['1960', '1961', '1962', ..., '2018', '2019', '2020'], dtype='<U4'), 'arg': array([        nan, 11.11111111, 11.11111111, ..., 41.87669639,\n",
      "               nan,         nan]), 'cpi': array([        nan,         nan,         nan, ..., 116.7122106,\n",
      "               nan,         nan]), 'edu': array([nan, nan, nan, ..., nan, nan, nan]), 'employ': array([  nan,   nan,   nan, ...,   nan, 35.66,   nan]), 'exchange': array([        nan,         nan,         nan, ...,         nan,\n",
      "               nan, 51.32901312]), 'gdp': array([        nan,         nan,         nan, ..., 1352.162653,\n",
      "       1156.154864, 1128.210711]), 'green': array([   nan,    nan,    nan, ..., 31380.,    nan,    nan]), 'income': array([        nan,         nan,         nan, ..., 1394.088773,\n",
      "       1208.27987 ,         nan]), 'pop': array([   54208.,    55434.,    56234., ..., 14438812., 14645473.,\n",
      "       14862927.]), 'tax': array([        nan,         nan,         nan, ..., 12.62204388,\n",
      "               nan,         nan])}\n"
     ]
    }
   ],
   "source": [
    "print(d)\n",
    "assert(len(d[\"Location\"]) == len(d[\"Year\"]))\n",
    "assert(len(d[\"arg\"]) == len(d[\"Year\"]))"
   ]
  },
  {
   "cell_type": "code",
   "execution_count": 54,
   "metadata": {},
   "outputs": [],
   "source": [
    "df_wb = pd.DataFrame(d)\n",
    "df_wb.to_csv(\"wb.csv\",index=False)"
   ]
  },
  {
   "cell_type": "code",
   "execution_count": 89,
   "metadata": {},
   "outputs": [
    {
     "name": "stderr",
     "output_type": "stream",
     "text": [
      "100%|██████████| 166/166 [00:12<00:00, 13.62it/s]\n",
      "100%|██████████| 166/166 [00:11<00:00, 14.88it/s]\n",
      "100%|██████████| 166/166 [00:12<00:00, 13.47it/s]\n",
      "100%|██████████| 166/166 [00:14<00:00, 11.41it/s]\n",
      "100%|██████████| 166/166 [00:09<00:00, 16.92it/s]\n",
      "100%|██████████| 166/166 [00:09<00:00, 17.13it/s]\n",
      "100%|██████████| 166/166 [00:10<00:00, 15.27it/s]\n",
      "100%|██████████| 166/166 [00:11<00:00, 14.86it/s]\n",
      "100%|██████████| 166/166 [00:11<00:00, 14.93it/s]\n"
     ]
    }
   ],
   "source": [
    "def happy_feature(countries, years, features):\n",
    "    res = []\n",
    "    for country in tqdm(countries):\n",
    "        for year in years:\n",
    "            try:\n",
    "                entry = df_happy.loc[((df_happy['Country name'] == country) \n",
    "                                      & (df_happy['year'] == int(year))),\n",
    "                                     features].values[0]\n",
    "                res.append(entry)\n",
    "            except:\n",
    "                entry = np.nan\n",
    "                res.append(entry)\n",
    "    return res\n",
    "    \n",
    "# merge happiness table\n",
    "df_happy = pd.read_csv('Happiness/WHR2021.csv')\n",
    "count_hap = df_happy['Country name'].unique()\n",
    "count_hap_num = len(count_hap)\n",
    "dh = dict()\n",
    "dh['Location'] = np.repeat(count_hap,yrs)\n",
    "dh['Year'] = np.tile(list(df_arg.columns)[4:],count_hap_num)\n",
    "dh['LifeLadder'] = happy_feature(count_hap,list(df_arg.columns)[4:],'Life Ladder')\n",
    "dh['LogGDPPerCapita'] = happy_feature(count_hap,list(df_arg.columns)[4:],'Log GDP per capita')\n",
    "dh['SocialSupport'] = happy_feature(count_hap,list(df_arg.columns)[4:],'Social support')\n",
    "dh['Expectancy'] = happy_feature(count_hap,list(df_arg.columns)[4:],'Healthy life expectancy at birth')\n",
    "dh['Freedom'] = happy_feature(count_hap,list(df_arg.columns)[4:],'Freedom to make life choices')\n",
    "dh['Generosity'] = happy_feature(count_hap,list(df_arg.columns)[4:],'Generosity')\n",
    "dh['Corruption'] = happy_feature(count_hap,list(df_arg.columns)[4:],'Perceptions of corruption')\n",
    "dh['PositiveAffect'] = happy_feature(count_hap,list(df_arg.columns)[4:],'Positive affect')\n",
    "dh['NegativeAffect'] = happy_feature(count_hap,list(df_arg.columns)[4:],'Negative affect')"
   ]
  },
  {
   "cell_type": "code",
   "execution_count": 88,
   "metadata": {},
   "outputs": [
    {
     "name": "stdout",
     "output_type": "stream",
     "text": [
      "{'Location': array(['Afghanistan', 'Afghanistan', 'Afghanistan', ..., 'Zimbabwe',\n",
      "       'Zimbabwe', 'Zimbabwe'], dtype=object), 'Year': array(['1960', '1961', '1962', ..., '2018', '2019', '2020'], dtype='<U4'), 'LifeLadder': [nan, nan, nan, nan, nan, nan, nan, nan, nan, nan, nan, nan, nan, nan, nan, nan, nan, nan, nan, nan, nan, nan, nan, nan, nan, nan, nan, nan, nan, nan, nan, nan, nan, nan, nan, nan, nan, nan, nan, nan, nan, nan, nan, nan, nan, nan, nan, nan, 3.7239999999999998, 4.402, 4.758, 3.832, 3.783, 3.572, 3.1310000000000002, 3.983, 4.22, 2.662, 2.694, 2.375, nan, nan, nan, nan, nan, nan, nan, nan, nan, nan, nan, nan, nan, nan, nan, nan, nan, nan, nan, nan, nan, nan, nan, nan, nan, nan, nan, nan, nan, nan, nan, nan, nan, nan, nan, nan, nan, nan, nan, nan, nan, nan, nan, nan, nan, nan, nan, nan, 4.6339999999999995, nan, 5.485, 5.269, 5.867000000000001, 5.51, 4.551, 4.814, 4.607, 4.511, 4.64, 5.004, 4.995, 5.365, nan, nan, nan, nan, nan, nan, nan, nan, nan, nan, nan, nan, nan, nan, nan, nan, nan, nan, nan, nan, nan, nan, nan, nan, nan, nan, nan, nan, nan, nan, nan, nan, nan, nan, nan, nan, nan, nan, nan, nan, nan, nan, nan, nan, nan, nan, nan, nan, nan, nan, 5.4639999999999995, 5.317, 5.605, nan, 6.355, nan, 5.341, 5.249, 5.043, 4.745, nan, nan, nan, nan, nan, nan, nan, nan, nan, nan, nan, nan, nan, nan, nan, nan, nan, nan, nan, nan, nan, nan, nan, nan, nan, nan, nan, nan, nan, nan, nan, nan, nan, nan, nan, nan, nan, nan, nan, nan, nan, nan, nan, nan, nan, nan, nan, nan, nan, nan, nan, nan, 5.5889999999999995, 4.36, 3.937, 3.795, nan, nan, nan, nan, nan, nan, nan, nan, nan, nan, nan, nan, nan, nan, nan, nan, nan, nan, nan, nan, nan, nan, nan, nan, nan, nan, nan, nan, nan, nan, nan, nan, nan, nan, nan, nan, nan, nan, nan, nan, nan, nan, nan, nan, nan, nan, nan, nan, nan, nan, nan, nan, 6.313, 6.0729999999999995, 5.961, 6.4239999999999995, 6.441, 6.776, 6.468, 6.582000000000001, 6.671, 6.697, 6.4270000000000005, 6.039, 5.792999999999999, 6.086, 5.901, nan, nan, nan, nan, nan, nan, nan, nan, nan, nan, nan, nan, nan, nan, nan, nan, nan, nan, nan, nan, nan, nan, nan, nan, nan, nan, nan, nan, nan, nan, nan, nan, nan, nan, nan, nan, nan, nan, nan, nan, nan, nan, nan, nan, nan, nan, 4.289, 4.882, 4.652, 4.178, 4.368, 4.26, 4.32, 4.277, 4.453, 4.348, 4.325, 4.288, 5.062, 5.4879999999999995, nan, nan, nan, nan, nan, nan, nan, nan, nan, nan, nan, nan, nan, nan, nan, nan, nan, nan, nan, nan, nan, nan, nan, nan, nan, nan, nan, nan, nan, nan, nan, nan, nan, nan, nan, nan, nan, nan, nan, nan, nan, nan, nan, nan, nan, nan, 7.341, nan, 7.285, 7.254, nan, 7.45, 7.406000000000001, 7.196000000000001, 7.364, 7.289, 7.309, 7.25, 7.257000000000001, 7.1770000000000005, 7.234, 7.1370000000000005, nan, nan, nan, nan, nan, nan, nan, nan, nan, nan, nan, nan, nan, nan, nan, nan, nan, nan, nan, nan, nan, nan, nan, nan, nan, nan, nan, nan, nan, nan, nan, nan, nan, nan, nan, nan, nan, nan, nan, nan, nan, nan, nan, nan, nan, nan, 7.122000000000001, nan, 7.181, nan, 7.303, 7.471, 7.401, 7.499, 6.95, 7.0760000000000005, 7.047999999999999, 7.294, 7.396, 7.195, 7.212999999999999, nan, nan, nan, nan, nan, nan, nan, nan, nan, nan, nan, nan, nan, nan, nan, nan, nan, nan, nan, nan, nan, nan, nan, nan, nan, nan, nan, nan, nan, nan, nan, nan, nan, nan, nan, nan, nan, nan, nan, nan, nan, nan, nan, nan, nan, nan, 4.728, 4.5680000000000005, 4.817, 4.574, 4.218999999999999, 4.68, 4.9110000000000005, 5.481, 5.252000000000001, 5.147, 5.303999999999999, 5.152, 5.167999999999999, 5.172999999999999, nan, nan, nan, nan, nan, nan, nan, nan, nan, nan, nan, nan, nan, nan, nan, nan, nan, nan, nan, nan, nan, nan, nan, nan, nan, nan, nan, nan, nan, nan, nan, nan, nan, nan, nan, nan, nan, nan, nan, nan, nan, nan, nan, nan, nan, nan, nan, nan, nan, nan, 5.7010000000000005, 5.937, 4.824, 5.027, 6.69, 6.165, 6.007000000000001, 6.17, 6.227, nan, 7.098, 6.172999999999999, nan, nan, nan, nan, nan, nan, nan, nan, nan, nan, nan, nan, nan, nan, nan, nan, nan, nan, nan, nan, nan, nan, nan, nan, nan, nan, nan, nan, nan, nan, nan, nan, nan, nan, nan, nan, nan, nan, nan, nan, nan, nan, nan, nan, nan, nan, 4.319, 4.607, 5.052, 5.083, 4.8580000000000005, 4.986000000000001, 4.724, 4.66, 4.636, 4.633, 4.556, 4.31, 4.499, 5.114, 5.28, nan, nan, nan, nan, nan, nan, nan, nan, nan, nan, nan, nan, nan, nan, nan, nan, nan, nan, nan, nan, nan, nan, nan, nan, nan, nan, nan, nan, nan, nan, nan, nan, nan, nan, nan, nan, nan, nan, nan, nan, nan, nan, nan, nan, nan, nan, 5.6579999999999995, 5.617000000000001, 5.462999999999999, 5.564, 5.526, 5.225, 5.749, 5.876, 5.812, 5.718999999999999, 5.178, 5.553, 5.234, 5.821000000000001, nan, nan, nan, nan, nan, nan, nan, nan, nan, nan, nan, nan, nan, nan, nan, nan, nan, nan, nan, nan, nan, nan, nan, nan, nan, nan, nan, nan, nan, nan, nan, nan, nan, nan, nan, nan, nan, nan, nan, nan, nan, nan, nan, nan, nan, nan, 7.2620000000000005, nan, 7.218999999999999, 7.117000000000001, nan, 6.854, 7.111000000000001, 6.935, 7.104, 6.855, 6.904, 6.949, 6.928, 6.892, 6.772, 6.8389999999999995, nan, nan, nan, nan, nan, nan, nan, nan, nan, nan, nan, nan, nan, nan, nan, nan, nan, nan, nan, nan, nan, nan, nan, nan, nan, nan, nan, nan, nan, nan, nan, nan, nan, nan, nan, nan, nan, nan, nan, nan, nan, nan, nan, nan, nan, nan, nan, 6.4510000000000005, nan, nan, nan, nan, nan, nan, 5.956, nan, nan, nan, nan, nan, nan, nan, nan, nan, nan, nan, nan, nan, nan, nan, nan, nan, nan, nan, nan, nan, nan, nan, nan, nan, nan, nan, nan, nan, nan, nan, nan, nan, nan, nan, nan, nan, nan, nan, nan, nan, nan, nan, nan, nan, nan, nan, nan, nan, nan, nan, nan, 3.33, nan, 3.667, nan, nan, 3.87, 3.193, 3.4789999999999996, 3.347, 3.625, 4.007, 4.853, 5.82, 4.976, 4.408, nan, nan, nan, nan, nan, nan, nan, nan, nan, nan, nan, nan, nan, nan, nan, nan, nan, nan, nan, nan, nan, nan, nan, nan, nan, nan, nan, nan, nan, nan, nan, nan, nan, nan, nan, nan, nan, nan, nan, nan, nan, nan, nan, nan, nan, nan, nan, nan, nan, nan, nan, nan, nan, 5.569, 4.939, 5.082, nan, nan, nan, nan, nan, nan, nan, nan, nan, nan, nan, nan, nan, nan, nan, nan, nan, nan, nan, nan, nan, nan, nan, nan, nan, nan, nan, nan, nan, nan, nan, nan, nan, nan, nan, nan, nan, nan, nan, nan, nan, nan, nan, nan, nan, nan, nan, nan, nan, nan, nan, 5.374, 5.627999999999999, 5.297999999999999, 6.086, 5.781000000000001, 5.779, 6.019, 5.767, 5.865, 5.834, 5.77, 5.651, 5.916, 5.6739999999999995, 5.559, nan, nan, nan, nan, nan, nan, nan, nan, nan, nan, nan, nan, nan, nan, nan, nan, nan, nan, nan, nan, nan, nan, nan, nan, nan, nan, nan, nan, nan, nan, nan, nan, nan, nan, nan, nan, nan, nan, nan, nan, nan, nan, nan, nan, nan, nan, nan, 4.9, nan, 4.963, 4.669, 4.995, 4.773, 5.124, 5.249, 5.117, 5.181, 5.09, 5.8870000000000005, 6.016, 5.516, nan, nan, nan, nan, nan, nan, nan, nan, nan, nan, nan, nan, nan, nan, nan, nan, nan, nan, nan, nan, nan, nan, nan, nan, nan, nan, nan, nan, nan, nan, nan, nan, nan, nan, nan, nan, nan, nan, nan, nan, nan, nan, nan, nan, nan, nan, 4.739, nan, 5.4510000000000005, nan, 3.553, 3.52, 4.836, 4.128, 4.031000000000001, 3.762, 3.4989999999999997, 3.505, 3.4610000000000003, 3.471, nan, nan, nan, nan, nan, nan, nan, nan, nan, nan, nan, nan, nan, nan, nan, nan, nan, nan, nan, nan, nan, nan, nan, nan, nan, nan, nan, nan, nan, nan, nan, nan, nan, nan, nan, nan, nan, nan, nan, nan, nan, nan, nan, nan, nan, nan, 6.6370000000000005, nan, 6.321000000000001, 6.691, 7.001, 6.837000000000001, 7.037999999999999, 6.66, 7.14, 6.981, 6.547000000000001, 6.375, 6.332999999999999, 6.191, 6.4510000000000005, 6.11, nan, nan, nan, nan, nan, nan, nan, nan, nan, nan, nan, nan, nan, nan, nan, nan, nan, nan, nan, nan, nan, nan, nan, nan, nan, nan, nan, nan, nan, nan, nan, nan, nan, nan, nan, nan, nan, nan, nan, nan, nan, nan, nan, nan, nan, nan, nan, 3.844, nan, nan, 3.912, 3.875, 4.2219999999999995, 3.9930000000000003, 4.438, 4.865, 4.838, 5.0969999999999995, 5.099, 5.1080000000000005, 5.598, nan, nan, nan, nan, nan, nan, nan, nan, nan, nan, nan, nan, nan, nan, nan, nan, nan, nan, nan, nan, nan, nan, nan, nan, nan, nan, nan, nan, nan, nan, nan, nan, nan, nan, nan, nan, nan, nan, nan, nan, nan, nan, nan, nan, nan, nan, 3.801, 4.0169999999999995, 3.846, nan, 4.0360000000000005, 4.785, 3.955, 3.326, 3.4810000000000003, 4.419, 4.206, 4.647, 4.927, 4.7410000000000005, nan, nan, nan, nan, nan, nan, nan, nan, nan, nan, nan, nan, nan, nan, nan, nan, nan, nan, nan, nan, nan, nan, nan, nan, nan, nan, nan, nan, nan, nan, nan, nan, nan, nan, nan, nan, nan, nan, nan, nan, nan, nan, nan, nan, nan, nan, nan, nan, nan, 3.563, 3.792, nan, 3.7060000000000004, nan, nan, 2.905, nan, nan, nan, 3.775, nan, nan, nan, nan, nan, nan, nan, nan, nan, nan, nan, nan, nan, nan, nan, nan, nan, nan, nan, nan, nan, nan, nan, nan, nan, nan, nan, nan, nan, nan, nan, nan, nan, nan, nan, nan, nan, nan, nan, nan, nan, nan, nan, nan, nan, nan, nan, nan, 3.569, 4.156000000000001, 4.462, 4.111000000000001, 4.141, 4.1610000000000005, 3.8989999999999996, 3.674, 3.883, 4.162, 4.461, 4.586, 5.122000000000001, 4.998, 4.377, nan, nan, nan, nan, nan, nan, nan, nan, nan, nan, nan, nan, nan, nan, nan, nan, nan, nan, nan, nan, nan, nan, nan, nan, nan, nan, nan, nan, nan, nan, nan, nan, nan, nan, nan, nan, nan, nan, nan, nan, nan, nan, nan, nan, nan, nan, 3.8510000000000004, 4.35, 4.292, 4.7410000000000005, 4.553999999999999, 4.434, 4.245, 4.271, 4.24, 5.038, 4.816, 5.074, 5.251, 4.937, 5.2410000000000005, nan, nan, nan, nan, nan, nan, nan, nan, nan, nan, nan, nan, nan, nan, nan, nan, nan, nan, nan, nan, nan, nan, nan, nan, nan, nan, nan, nan, nan, nan, nan, nan, nan, nan, nan, nan, nan, nan, nan, nan, nan, nan, nan, nan, nan, 7.417999999999999, nan, 7.482, 7.486000000000001, 7.4879999999999995, 7.65, 7.426, 7.415, 7.593999999999999, 7.303999999999999, 7.412999999999999, 7.245, 7.415, 7.175, 7.109, 7.025, nan, nan, nan, nan, nan, nan, nan, nan, nan, nan, nan, nan, nan, nan, nan, nan, nan, nan, nan, nan, nan, nan, nan, nan, nan, nan, nan, nan, nan, nan, nan, nan, nan, nan, nan, nan, nan, nan, nan, nan, nan, nan, nan, nan, nan, nan, nan, 4.16, nan, nan, 3.568, 3.678, nan, nan, nan, nan, 2.693, 3.4760000000000004, nan, nan, nan, nan, nan, nan, nan, nan, nan, nan, nan, nan, nan, nan, nan, nan, nan, nan, nan, nan, nan, nan, nan, nan, nan, nan, nan, nan, nan, nan, nan, nan, nan, nan, nan, nan, nan, nan, nan, nan, nan, nan, nan, nan, nan, nan, nan, nan, nan, 3.435, 4.141, 4.632, 3.639, 3.7430000000000003, 4.393, 4.033, 3.508, 3.46, 4.323, 4.029, 4.559, 4.486000000000001, 4.251, nan, nan, nan, nan, nan, nan, nan, nan, nan, nan, nan, nan, nan, nan, nan, nan, nan, nan, nan, nan, nan, nan, nan, nan, nan, nan, nan, nan, nan, nan, nan, nan, nan, nan, nan, nan, nan, nan, nan, nan, nan, nan, nan, nan, nan, nan, nan, 6.063, 5.6979999999999995, 5.789, 6.494, 6.636, 6.526, 6.599, 6.74, 6.843999999999999, 6.5329999999999995, 6.579, 6.32, 6.436, 5.942, 6.151, nan, nan, nan, nan, nan, nan, nan, nan, nan, nan, nan, nan, nan, nan, nan, nan, nan, nan, nan, nan, nan, nan, nan, nan, nan, nan, nan, nan, nan, nan, nan, nan, nan, nan, nan, nan, nan, nan, nan, nan, nan, nan, nan, nan, nan, nan, 4.56, 4.863, 4.846, 4.454, 4.6530000000000005, 5.037, 5.095, 5.2410000000000005, 5.196000000000001, 5.303999999999999, 5.325, 5.099, 5.131, 5.144, 5.771, nan, nan, nan, nan, nan, nan, nan, nan, nan, nan, nan, nan, nan, nan, nan, nan, nan, nan, nan, nan, nan, nan, nan, nan, nan, nan, nan, nan, nan, nan, nan, nan, nan, nan, nan, nan, nan, nan, nan, nan, nan, nan, nan, nan, nan, nan, 6.025, 6.138, 6.167999999999999, 6.272, 6.4079999999999995, 6.4639999999999995, 6.375, 6.607, 6.449, 6.388, 6.234, 6.157, 5.984, 6.35, 5.709, nan, nan, nan, nan, nan, nan, nan, nan, nan, nan, nan, nan, nan, nan, nan, nan, nan, nan, nan, nan, nan, nan, nan, nan, nan, nan, nan, nan, nan, nan, nan, nan, nan, nan, nan, nan, nan, nan, nan, nan, nan, nan, nan, nan, nan, nan, nan, nan, nan, 3.4760000000000004, 3.812, 3.838, 3.9560000000000004, nan, nan, nan, nan, nan, 3.9730000000000003, 4.609, nan, nan, nan, nan, nan, nan, nan, nan, nan, nan, nan, nan, nan, nan, nan, nan, nan, nan, nan, nan, nan, nan, nan, nan, nan, nan, nan, nan, nan, nan, nan, nan, nan, nan, nan, nan, nan, nan, nan, nan, nan, nan, nan, nan, nan, nan, nan, nan, nan, 3.82, nan, nan, 4.51, 3.9189999999999996, 3.955, 4.056, 4.691, 4.119, 4.8839999999999995, 5.49, 5.212999999999999, nan, nan, nan, nan, nan, nan, nan, nan, nan, nan, nan, nan, nan, nan, nan, nan, nan, nan, nan, nan, nan, nan, nan, nan, nan, nan, nan, nan, nan, nan, nan, nan, nan, nan, nan, nan, nan, nan, nan, nan, nan, nan, nan, nan, nan, nan, nan, nan, nan, nan, 3.984, nan, 4.5169999999999995, 4.638999999999999, 4.497, 4.414, 3.903, 4.522, 4.311, nan, nan, nan, nan, nan, nan, nan, nan, nan, nan, nan, nan, nan, nan, nan, nan, nan, nan, nan, nan, nan, nan, nan, nan, nan, nan, nan, nan, nan, nan, nan, nan, nan, nan, nan, nan, nan, nan, nan, nan, nan, nan, nan, nan, nan, nan, nan, nan, nan, 7.082000000000001, 7.432, 6.851, 7.615, 7.271, 7.229, 7.272, 7.1579999999999995, 7.247000000000001, 6.854, 7.136, 7.225, 7.141, 6.997999999999999, nan, nan, nan, nan, nan, nan, nan, nan, nan, nan, nan, nan, nan, nan, nan, nan, nan, nan, nan, nan, nan, nan, nan, nan, nan, nan, nan, nan, nan, nan, nan, nan, nan, nan, nan, nan, nan, nan, nan, nan, nan, nan, nan, nan, nan, nan, nan, nan, 5.821000000000001, nan, 5.433, 5.596, 5.385, 6.028, 5.885, 5.381, 5.205, 5.417000000000001, 5.343, 5.5360000000000005, 5.626, 6.507999999999999, nan, nan, nan, nan, nan, nan, nan, nan, nan, nan, nan, nan, nan, nan, nan, nan, nan, nan, nan, nan, nan, nan, nan, nan, nan, nan, nan, nan, nan, nan, nan, nan, nan, nan, nan, nan, nan, nan, nan, nan, nan, nan, nan, nan, nan, nan, 5.417999999999999, nan, nan, nan, nan, nan, nan, nan, nan, nan, nan, nan, nan, nan, nan, nan, nan, nan, nan, nan, nan, nan, nan, nan, nan, nan, nan, nan, nan, nan, nan, nan, nan, nan, nan, nan, nan, nan, nan, nan, nan, nan, nan, nan, nan, nan, nan, nan, nan, nan, nan, nan, nan, nan, nan, nan, nan, nan, nan, nan, nan, 6.2379999999999995, nan, nan, 6.832999999999999, 6.3870000000000005, 6.69, 6.181, 5.439, 5.627000000000001, 5.439, 5.795, 6.062, 6.276, 6.1370000000000005, 6.26, nan, nan, nan, nan, nan, nan, nan, nan, nan, nan, nan, nan, nan, nan, nan, nan, nan, nan, nan, nan, nan, nan, nan, nan, nan, nan, nan, nan, nan, nan, nan, nan, nan, nan, nan, nan, nan, nan, nan, nan, nan, nan, nan, nan, nan, 6.439, nan, 6.5, nan, nan, 6.25, 6.331, 6.334, 6.6979999999999995, 6.484, 6.608, 6.736000000000001, 6.79, 7.034, nan, 6.897, nan, nan, nan, nan, nan, nan, nan, nan, nan, nan, nan, nan, nan, nan, nan, nan, nan, nan, nan, nan, nan, nan, nan, nan, nan, nan, nan, nan, nan, nan, nan, nan, nan, nan, nan, nan, nan, nan, nan, nan, nan, nan, nan, nan, nan, 8.019, nan, 7.834, 7.971, 7.683, 7.771, 7.787999999999999, 7.52, 7.5889999999999995, 7.507999999999999, 7.513999999999999, 7.558, 7.593999999999999, 7.649, 7.693, 7.515, nan, nan, nan, nan, nan, nan, nan, nan, nan, nan, nan, nan, nan, nan, nan, nan, nan, nan, nan, nan, nan, nan, nan, nan, nan, nan, nan, nan, nan, nan, nan, nan, nan, nan, nan, nan, nan, nan, nan, nan, nan, nan, nan, nan, nan, nan, nan, nan, 5.0089999999999995, 4.906000000000001, 5.006, 4.369, nan, nan, nan, nan, nan, nan, nan, nan, nan, nan, nan, nan, nan, nan, nan, nan, nan, nan, nan, nan, nan, nan, nan, nan, nan, nan, nan, nan, nan, nan, nan, nan, nan, nan, nan, nan, nan, nan, nan, nan, nan, nan, nan, nan, nan, nan, nan, nan, nan, nan, nan, nan, nan, nan, nan, 5.088, 5.081, 4.842, 5.432, 4.735, 5.397, 4.753, 5.016, 5.3870000000000005, 5.062, 5.239, 5.605, 5.433, 6.004, 5.167999999999999, nan, nan, nan, nan, nan, nan, nan, nan, nan, nan, nan, nan, nan, nan, nan, nan, nan, nan, nan, nan, nan, nan, nan, nan, nan, nan, nan, nan, nan, nan, nan, nan, nan, nan, nan, nan, nan, nan, nan, nan, nan, nan, nan, nan, nan, nan, 5.024, 4.996, 5.297000000000001, 6.022, 5.837999999999999, 5.795, 5.961, 6.019, 5.946000000000001, 5.9639999999999995, 6.115, 5.84, 6.127999999999999, 5.809, 5.354, nan, nan, nan, nan, nan, nan, nan, nan, nan, nan, nan, nan, nan, nan, nan, nan, nan, nan, nan, nan, nan, nan, nan, nan, nan, nan, nan, nan, nan, nan, nan, nan, nan, nan, nan, nan, nan, nan, nan, nan, nan, nan, nan, nan, nan, 5.167999999999999, nan, 5.541, 4.632, 5.066, 4.669, 4.1739999999999995, 4.204, 3.5589999999999997, 4.885, 4.763, 4.5569999999999995, 3.929, 4.005, 4.328, 4.4719999999999995, nan, nan, nan, nan, nan, nan, nan, nan, nan, nan, nan, nan, nan, nan, nan, nan, nan, nan, nan, nan, nan, nan, nan, nan, nan, nan, nan, nan, nan, nan, nan, nan, nan, nan, nan, nan, nan, nan, nan, nan, nan, nan, nan, nan, nan, nan, 5.7010000000000005, 5.296, 5.191, 6.8389999999999995, 6.74, 4.7410000000000005, 5.934, 6.325, 5.857, 6.018, 6.14, 6.3389999999999995, 6.2410000000000005, 6.455, 5.462000000000001, nan, nan, nan, nan, nan, nan, nan, nan, nan, nan, nan, nan, nan, nan, nan, nan, nan, nan, nan, nan, nan, nan, nan, nan, nan, nan, nan, nan, nan, nan, nan, nan, nan, nan, nan, nan, nan, nan, nan, nan, nan, nan, nan, nan, nan, nan, 5.371, 5.332000000000001, 5.452000000000001, 5.138, nan, 5.487, 5.364, 5.367000000000001, 5.556, 5.629, 5.65, 5.938, 6.091, 6.035, 6.452999999999999, nan, nan, nan, nan, nan, nan, nan, nan, nan, nan, nan, nan, nan, nan, nan, nan, nan, nan, nan, nan, nan, nan, nan, nan, nan, nan, nan, nan, nan, nan, nan, nan, nan, nan, nan, nan, nan, nan, nan, nan, nan, nan, nan, nan, nan, nan, nan, nan, nan, nan, nan, nan, 4.561, 4.445, 4.507, 4.573, 4.298, 4.18, 4.379, 4.1, 4.5489999999999995, nan, nan, nan, nan, nan, nan, nan, nan, nan, nan, nan, nan, nan, nan, nan, nan, nan, nan, nan, nan, nan, nan, nan, nan, nan, nan, nan, nan, nan, nan, nan, nan, nan, nan, nan, nan, nan, nan, nan, nan, nan, nan, nan, nan, nan, nan, 7.672000000000001, nan, 7.671, nan, 7.393, 7.354, 7.42, 7.445, 7.385, 7.4479999999999995, 7.66, 7.787999999999999, 7.858, 7.78, 7.888999999999999, nan, nan, nan, nan, nan, nan, nan, nan, nan, nan, nan, nan, nan, nan, nan, nan, nan, nan, nan, nan, nan, nan, nan, nan, nan, nan, nan, nan, nan, nan, nan, nan, nan, nan, nan, nan, nan, nan, nan, nan, nan, nan, nan, nan, nan, 7.093, 6.582999999999999, nan, 7.007999999999999, 6.2829999999999995, 6.797999999999999, 6.959, 6.649, 6.667000000000001, 6.4670000000000005, 6.358, 6.475, 6.635, 6.666, 6.69, 6.7139999999999995, nan, nan, nan, nan, nan, nan, nan, nan, nan, nan, nan, nan, nan, nan, nan, nan, nan, nan, nan, nan, nan, nan, nan, nan, nan, nan, nan, nan, nan, nan, nan, nan, nan, nan, nan, nan, nan, nan, nan, nan, nan, nan, nan, nan, nan, nan, nan, nan, nan, nan, nan, 4.255, 3.972, 3.8, 3.918, 4.6610000000000005, 4.832, 4.782, 4.783, 4.914, nan, nan, nan, nan, nan, nan, nan, nan, nan, nan, nan, nan, nan, nan, nan, nan, nan, nan, nan, nan, nan, nan, nan, nan, nan, nan, nan, nan, nan, nan, nan, nan, nan, nan, nan, nan, nan, nan, nan, nan, nan, nan, nan, nan, nan, nan, nan, nan, nan, nan, nan, nan, nan, nan, nan, nan, nan, nan, 4.118, 4.922, 5.164, nan, nan, nan, nan, nan, nan, nan, nan, nan, nan, nan, nan, nan, nan, nan, nan, nan, nan, nan, nan, nan, nan, nan, nan, nan, nan, nan, nan, nan, nan, nan, nan, nan, nan, nan, nan, nan, nan, nan, nan, nan, nan, nan, nan, nan, nan, nan, 3.675, 3.707, 4.156000000000001, 3.801, 4.102, 4.203, 4.254, 4.349, 4.288, 4.122, 4.448, 4.4510000000000005, 4.659, 4.8919999999999995, 5.122999999999999, nan, nan, nan, nan, nan, nan, nan, nan, nan, nan, nan, nan, nan, nan, nan, nan, nan, nan, nan, nan, nan, nan, nan, nan, nan, nan, nan, nan, nan, nan, nan, nan, nan, nan, nan, nan, nan, nan, nan, nan, nan, nan, nan, nan, nan, 6.62, nan, 6.417000000000001, 6.522, 6.641, 6.725, 6.621, 6.702000000000001, 6.965, 6.984, 7.037000000000001, 6.874, 7.074, 7.117999999999999, 7.035, 7.312, nan, nan, nan, nan, nan, nan, nan, nan, nan, nan, nan, nan, nan, nan, nan, nan, nan, nan, nan, nan, nan, nan, nan, nan, nan, nan, nan, nan, nan, nan, nan, nan, nan, nan, nan, nan, nan, nan, nan, nan, nan, nan, nan, nan, nan, nan, 4.535, 5.22, 4.965, 4.198, 4.606, 5.608, 5.0569999999999995, 4.965, 3.86, 3.986, 4.513999999999999, 5.481, 5.004, 4.967, 5.319, nan, nan, nan, nan, nan, nan, nan, nan, nan, nan, nan, nan, nan, nan, nan, nan, nan, nan, nan, nan, nan, nan, nan, nan, nan, nan, nan, nan, nan, nan, nan, nan, nan, nan, nan, nan, nan, nan, nan, nan, nan, nan, nan, nan, nan, 6.006, nan, 6.647, nan, 6.039, 5.84, 5.372000000000001, 5.096, 4.72, 4.756, 5.622999999999999, 5.303, 5.148, 5.409, 5.952000000000001, 5.787999999999999, nan, nan, nan, nan, nan, nan, nan, nan, nan, nan, nan, nan, nan, nan, nan, nan, nan, nan, nan, nan, nan, nan, nan, nan, nan, nan, nan, nan, nan, nan, nan, nan, nan, nan, nan, nan, nan, nan, nan, nan, nan, nan, nan, nan, nan, nan, 5.901, 6.33, 6.414, 6.452000000000001, 6.29, 5.742999999999999, 5.856, 5.985, 6.5360000000000005, 6.465, 6.359, 6.325, 6.627000000000001, 6.2620000000000005, nan, nan, nan, nan, nan, nan, nan, nan, nan, nan, nan, nan, nan, nan, nan, nan, nan, nan, nan, nan, nan, nan, nan, nan, nan, nan, nan, nan, nan, nan, nan, nan, nan, nan, nan, nan, nan, nan, nan, nan, nan, nan, nan, nan, nan, nan, nan, nan, nan, nan, nan, nan, 4.045, 3.6519999999999997, 3.9019999999999997, 3.412, 3.505, 3.603, 4.874, 5.252000000000001, 4.768, nan, nan, nan, nan, nan, nan, nan, nan, nan, nan, nan, nan, nan, nan, nan, nan, nan, nan, nan, nan, nan, nan, nan, nan, nan, nan, nan, nan, nan, nan, nan, nan, nan, nan, nan, nan, nan, nan, nan, nan, nan, nan, nan, nan, nan, nan, nan, nan, 5.992999999999999, nan, nan, nan, nan, nan, nan, nan, nan, nan, nan, nan, nan, nan, nan, nan, nan, nan, nan, nan, nan, nan, nan, nan, nan, nan, nan, nan, nan, nan, nan, nan, nan, nan, nan, nan, nan, nan, nan, nan, nan, nan, nan, nan, nan, nan, nan, nan, nan, nan, nan, nan, nan, nan, nan, nan, nan, nan, nan, nan, 3.7539999999999996, nan, 3.846, nan, 3.766, 4.845, 4.413, 4.622, 3.889, 3.57, 3.352, 3.824, 3.615, nan, nan, nan, nan, nan, nan, nan, nan, nan, nan, nan, nan, nan, nan, nan, nan, nan, nan, nan, nan, nan, nan, nan, nan, nan, nan, nan, nan, nan, nan, nan, nan, nan, nan, nan, nan, nan, nan, nan, nan, nan, nan, nan, nan, nan, nan, nan, nan, 5.397, 5.0969999999999995, 5.42, 6.0329999999999995, 5.8660000000000005, 4.961, 4.602, 4.713, 5.056, 4.845, 5.648, 6.02, 5.9079999999999995, 5.93, nan, nan, nan, nan, nan, nan, nan, nan, nan, nan, nan, nan, nan, nan, nan, nan, nan, nan, nan, nan, nan, nan, nan, nan, nan, nan, nan, nan, nan, nan, nan, nan, nan, nan, nan, nan, nan, nan, nan, nan, nan, nan, nan, nan, nan, nan, nan, 5.511, nan, 5.1370000000000005, 5.397, 5.643, 5.474, 5.484, nan, 5.457999999999999, nan, 5.497999999999999, 5.362, nan, 5.659, 5.295, nan, nan, nan, nan, nan, nan, nan, nan, nan, nan, nan, nan, nan, nan, nan, nan, nan, nan, nan, nan, nan, nan, nan, nan, nan, nan, nan, nan, nan, nan, nan, nan, nan, nan, nan, nan, nan, nan, nan, nan, nan, nan, nan, nan, nan, 5.194, nan, 4.954, nan, 4.895, 4.725, 4.918, 4.683, 4.914, 5.181, 5.343999999999999, 5.449, 6.065, 5.936, 6.0, 6.037999999999999, nan, nan, nan, nan, nan, nan, nan, nan, nan, nan, nan, nan, nan, nan, nan, nan, nan, nan, nan, nan, nan, nan, nan, nan, nan, nan, nan, nan, nan, nan, nan, nan, nan, nan, nan, nan, nan, nan, nan, nan, nan, nan, nan, nan, nan, nan, nan, nan, 6.888, nan, nan, nan, 7.591, 7.501, nan, 7.497999999999999, 7.51, 7.476, nan, 7.5329999999999995, 7.575, nan, nan, nan, nan, nan, nan, nan, nan, nan, nan, nan, nan, nan, nan, nan, nan, nan, nan, nan, nan, nan, nan, nan, nan, nan, nan, nan, nan, nan, nan, nan, nan, nan, nan, nan, nan, nan, nan, nan, nan, nan, nan, nan, nan, nan, nan, 5.348, 5.027, 5.146, 4.522, 4.989, 4.635, 4.72, 4.428, 4.4239999999999995, 4.342, 4.178999999999999, 4.046, 3.818, 3.2489999999999997, 4.225, nan, nan, nan, nan, nan, nan, nan, nan, nan, nan, nan, nan, nan, nan, nan, nan, nan, nan, nan, nan, nan, nan, nan, nan, nan, nan, nan, nan, nan, nan, nan, nan, nan, nan, nan, nan, nan, nan, nan, nan, nan, nan, nan, nan, nan, nan, 4.947, 5.101, 4.815, 5.472, 5.457000000000001, 5.172999999999999, 5.367999999999999, 5.292000000000001, 5.597, 5.043, 5.136, 5.098, 5.34, 5.347, nan, nan, nan, nan, nan, nan, nan, nan, nan, nan, nan, nan, nan, nan, nan, nan, nan, nan, nan, nan, nan, nan, nan, nan, nan, nan, nan, nan, nan, nan, nan, nan, nan, nan, nan, nan, nan, nan, nan, nan, nan, nan, nan, nan, nan, nan, 5.308, nan, 5.336, 5.129, nan, nan, 4.768, 4.609, 5.14, 4.6819999999999995, 4.75, 4.6530000000000005, 4.717, 4.2780000000000005, 5.006, 4.865, nan, nan, nan, nan, nan, nan, nan, nan, nan, nan, nan, nan, nan, nan, nan, nan, nan, nan, nan, nan, nan, nan, nan, nan, nan, nan, nan, nan, nan, nan, nan, nan, nan, nan, nan, nan, nan, nan, nan, nan, nan, nan, nan, nan, nan, nan, nan, nan, 4.59, 4.775, 5.065, 4.725, 4.66, 4.725, 4.542, 4.493, 4.413, 4.462, 4.886, nan, 4.785, nan, nan, nan, nan, nan, nan, nan, nan, nan, nan, nan, nan, nan, nan, nan, nan, nan, nan, nan, nan, nan, nan, nan, nan, nan, nan, nan, nan, nan, nan, nan, nan, nan, nan, nan, nan, nan, nan, nan, nan, nan, nan, nan, nan, nan, nan, 7.144, nan, 7.568, 7.046, 7.257000000000001, 7.007000000000001, 6.965, 6.76, 7.018, 6.83, 7.041, 7.06, 6.962000000000001, 7.255, 7.035, nan, nan, nan, nan, nan, nan, nan, nan, nan, nan, nan, nan, nan, nan, nan, nan, nan, nan, nan, nan, nan, nan, nan, nan, nan, nan, nan, nan, nan, nan, nan, nan, nan, nan, nan, nan, nan, nan, nan, nan, nan, nan, nan, nan, nan, nan, 7.172999999999999, 6.841, 7.261, 7.353, 7.359, 7.433, 7.111000000000001, 7.321000000000001, 7.401, 7.079, 7.159, 7.331, 6.9270000000000005, 7.332000000000001, 7.195, nan, nan, nan, nan, nan, nan, nan, nan, nan, nan, nan, nan, nan, nan, nan, nan, nan, nan, nan, nan, nan, nan, nan, nan, nan, nan, nan, nan, nan, nan, nan, nan, nan, nan, nan, nan, nan, nan, nan, nan, nan, nan, nan, nan, nan, 6.854, nan, 6.574, 6.78, 6.334, 6.354, 6.057, 5.8389999999999995, 6.0089999999999995, 6.027, 5.848, 5.955, 6.199, 6.517, 6.445, 6.4879999999999995, nan, nan, nan, nan, nan, nan, nan, nan, nan, nan, nan, nan, nan, nan, nan, nan, nan, nan, nan, nan, nan, nan, nan, nan, nan, nan, nan, nan, nan, nan, nan, nan, nan, nan, nan, nan, nan, nan, nan, nan, nan, nan, nan, nan, nan, nan, nan, nan, nan, 4.197, nan, nan, nan, 3.739, 3.57, 4.445, 4.543, 5.038, 5.268, 5.392, 5.257000000000001, nan, nan, nan, nan, nan, nan, nan, nan, nan, nan, nan, nan, nan, nan, nan, nan, nan, nan, nan, nan, nan, nan, nan, nan, nan, nan, nan, nan, nan, nan, nan, nan, nan, nan, nan, nan, nan, nan, nan, nan, nan, nan, nan, nan, nan, nan, 6.207999999999999, nan, nan, nan, nan, 5.374, nan, 5.709, 5.311, nan, nan, 5.89, nan, 6.309, nan, nan, nan, nan, nan, nan, nan, nan, nan, nan, nan, nan, nan, nan, nan, nan, nan, nan, nan, nan, nan, nan, nan, nan, nan, nan, nan, nan, nan, nan, nan, nan, nan, nan, nan, nan, nan, nan, nan, nan, nan, nan, nan, nan, nan, nan, 6.516, nan, 6.2379999999999995, 5.9110000000000005, 5.845, 6.057, 6.263, 5.968, 5.959, 5.922999999999999, 5.88, 5.955, 5.9110000000000005, 5.794, 5.9079999999999995, 6.117999999999999, nan, nan, nan, nan, nan, nan, nan, nan, nan, nan, nan, nan, nan, nan, nan, nan, nan, nan, nan, nan, nan, nan, nan, nan, nan, nan, nan, nan, nan, nan, nan, nan, nan, nan, nan, nan, nan, nan, nan, nan, nan, nan, nan, nan, nan, 6.295, nan, 5.598, 4.93, 6.0, 5.57, 5.539, 5.132000000000001, 5.172000000000001, 5.332999999999999, 5.405, 5.271, 4.808, 4.638999999999999, 4.453, 4.093999999999999, nan, nan, nan, nan, nan, nan, nan, nan, nan, nan, nan, nan, nan, nan, nan, nan, nan, nan, nan, nan, nan, nan, nan, nan, nan, nan, nan, nan, nan, nan, nan, nan, nan, nan, nan, nan, nan, nan, nan, nan, nan, nan, nan, nan, nan, nan, 5.476, 5.718999999999999, 5.886, 5.382999999999999, 5.513999999999999, 5.736000000000001, 5.7589999999999995, 5.835, 5.97, 5.95, 5.534, 5.882000000000001, 6.007999999999999, 6.272, 6.167999999999999, nan, nan, nan, nan, nan, nan, nan, nan, nan, nan, nan, nan, nan, nan, nan, nan, nan, nan, nan, nan, nan, nan, nan, nan, nan, nan, nan, nan, nan, nan, nan, nan, nan, nan, nan, nan, nan, nan, nan, nan, nan, nan, nan, nan, nan, nan, 4.223, 4.5760000000000005, 4.015, 4.27, 4.256, 4.405, 4.547, 3.795, 4.905, 4.3580000000000005, 4.396, 4.476, 4.656000000000001, 4.619, 4.547, nan, nan, nan, nan, nan, nan, nan, nan, nan, nan, nan, nan, nan, nan, nan, nan, nan, nan, nan, nan, nan, nan, nan, nan, nan, nan, nan, nan, nan, nan, nan, nan, nan, nan, nan, nan, nan, nan, nan, nan, nan, nan, nan, nan, nan, nan, nan, 5.104, 5.522, 5.891, 5.1770000000000005, 4.86, 5.64, 6.126, 5.0, 5.077, 5.7589999999999995, 6.149, 6.392, 6.425, 6.294, nan, nan, nan, nan, nan, nan, nan, nan, nan, nan, nan, nan, nan, nan, nan, nan, nan, nan, nan, nan, nan, nan, nan, nan, nan, nan, nan, nan, nan, nan, nan, nan, nan, nan, nan, nan, nan, nan, nan, nan, nan, nan, nan, nan, nan, nan, 6.0760000000000005, nan, nan, 6.585, 6.797999999999999, 6.377999999999999, 6.221, 6.48, 6.18, 6.146, 5.947, 6.093999999999999, nan, 6.106, nan, nan, nan, nan, nan, nan, nan, nan, nan, nan, nan, nan, nan, nan, nan, nan, nan, nan, nan, nan, nan, nan, nan, nan, nan, nan, nan, nan, nan, nan, nan, nan, nan, nan, nan, nan, nan, nan, nan, nan, nan, nan, nan, nan, nan, nan, nan, 4.641, 4.698, 4.737, 5.069, 4.996, 4.921, 5.207999999999999, 5.402, 5.252000000000001, 4.905, 4.857, 5.63, 5.297000000000001, 5.685, 6.25, nan, nan, nan, nan, nan, nan, nan, nan, nan, nan, nan, nan, nan, nan, nan, nan, nan, nan, nan, nan, nan, nan, nan, nan, nan, nan, nan, nan, nan, nan, nan, nan, nan, nan, nan, nan, nan, nan, nan, nan, nan, nan, nan, nan, nan, nan, 5.0760000000000005, 5.364, 5.044, nan, nan, 4.704, 4.876, nan, nan, nan, nan, 4.623, 4.859, 5.197, 5.284, nan, nan, nan, nan, nan, nan, nan, nan, nan, nan, nan, nan, nan, nan, nan, nan, nan, nan, nan, nan, nan, nan, nan, nan, nan, nan, nan, nan, nan, nan, nan, nan, nan, nan, nan, nan, nan, nan, nan, nan, nan, nan, nan, nan, nan, nan, 4.71, 4.667, 5.145, 4.669, nan, 4.967, 5.125, 5.07, 5.729, 5.881, 5.94, 5.978, 5.901, 5.97, 6.229, nan, nan, nan, nan, nan, nan, nan, nan, nan, nan, nan, nan, nan, nan, nan, nan, nan, nan, nan, nan, nan, nan, nan, nan, nan, nan, nan, nan, nan, nan, nan, nan, nan, nan, nan, nan, nan, nan, nan, nan, nan, nan, nan, nan, nan, 5.4910000000000005, 4.6530000000000005, nan, 4.595, 5.206, 5.032, 5.188, 4.573, 4.9830000000000005, 5.233, 5.172000000000001, 5.271, 5.154, 5.167000000000001, 4.024, nan, nan, nan, nan, nan, nan, nan, nan, nan, nan, nan, nan, nan, nan, nan, nan, nan, nan, nan, nan, nan, nan, nan, nan, nan, nan, nan, nan, nan, nan, nan, nan, nan, nan, nan, nan, nan, nan, nan, nan, nan, nan, nan, nan, nan, nan, nan, nan, nan, nan, nan, nan, 4.898, nan, nan, nan, nan, 3.8080000000000003, 3.795, nan, 3.512, nan, nan, nan, nan, nan, nan, nan, nan, nan, nan, nan, nan, nan, nan, nan, nan, nan, nan, nan, nan, nan, nan, nan, nan, nan, nan, nan, nan, nan, nan, nan, nan, nan, nan, nan, nan, nan, nan, nan, nan, nan, nan, nan, nan, nan, nan, nan, nan, 3.701, 4.221, nan, 4.196000000000001, nan, nan, nan, 4.571000000000001, 2.702, 3.355, 4.4239999999999995, 4.135, 5.121, nan, nan, nan, nan, nan, nan, nan, nan, nan, nan, nan, nan, nan, nan, nan, nan, nan, nan, nan, nan, nan, nan, nan, nan, nan, nan, nan, nan, nan, nan, nan, nan, nan, nan, nan, nan, nan, nan, nan, nan, nan, nan, nan, nan, nan, nan, nan, nan, nan, nan, nan, nan, nan, 5.754, nan, nan, 5.615, 5.434, 5.647, 5.494, 5.33, nan, nan, nan, nan, nan, nan, nan, nan, nan, nan, nan, nan, nan, nan, nan, nan, nan, nan, nan, nan, nan, nan, nan, nan, nan, nan, nan, nan, nan, nan, nan, nan, nan, nan, nan, nan, nan, nan, nan, nan, nan, nan, nan, nan, nan, nan, nan, 5.954, 5.808, 5.553999999999999, 5.4670000000000005, 5.066, 5.432, 5.771, 5.596, 6.126, 5.711, 5.8660000000000005, 6.273, 6.309, 6.064, 6.391, nan, nan, nan, nan, nan, nan, nan, nan, nan, nan, nan, nan, nan, nan, nan, nan, nan, nan, nan, nan, nan, nan, nan, nan, nan, nan, nan, nan, nan, nan, nan, nan, nan, nan, nan, nan, nan, nan, nan, nan, nan, nan, nan, nan, nan, nan, nan, nan, nan, 6.957999999999999, 7.097, 7.101, 6.9639999999999995, 7.131, 6.891, 6.702000000000001, 6.9670000000000005, 7.061, 7.242999999999999, 7.404, nan, nan, nan, nan, nan, nan, nan, nan, nan, nan, nan, nan, nan, nan, nan, nan, nan, nan, nan, nan, nan, nan, nan, nan, nan, nan, nan, nan, nan, nan, nan, nan, nan, nan, nan, nan, nan, nan, nan, nan, nan, nan, nan, nan, nan, nan, nan, 3.98, nan, 4.64, nan, nan, 4.381, 3.551, 3.8160000000000003, 3.676, 3.593, 3.6630000000000003, 4.079, 4.071000000000001, 4.3389999999999995, nan, nan, nan, nan, nan, nan, nan, nan, nan, nan, nan, nan, nan, nan, nan, nan, nan, nan, nan, nan, nan, nan, nan, nan, nan, nan, nan, nan, nan, nan, nan, nan, nan, nan, nan, nan, nan, nan, nan, nan, nan, nan, nan, nan, nan, nan, nan, 3.83, 4.891, nan, 5.148, nan, 3.946, 4.279, 4.035, 4.563, 3.8680000000000003, 3.4760000000000004, 3.417, 3.335, 3.8689999999999998, nan, nan, nan, nan, nan, nan, nan, nan, nan, nan, nan, nan, nan, nan, nan, nan, nan, nan, nan, nan, nan, nan, nan, nan, nan, nan, nan, nan, nan, nan, nan, nan, nan, nan, nan, nan, nan, nan, nan, nan, nan, nan, nan, nan, nan, nan, nan, 6.0120000000000005, 6.239, 5.807, 5.385, 5.58, 5.7860000000000005, 5.914, 5.77, 5.962999999999999, 6.322, nan, nan, 5.3389999999999995, 5.428, nan, nan, nan, nan, nan, nan, nan, nan, nan, nan, nan, nan, nan, nan, nan, nan, nan, nan, nan, nan, nan, nan, nan, nan, nan, nan, nan, nan, nan, nan, nan, nan, nan, nan, nan, nan, nan, nan, nan, nan, nan, nan, nan, nan, nan, nan, nan, nan, nan, nan, nan, nan, nan, nan, nan, nan, nan, nan, nan, 5.1979999999999995, nan, nan, nan, nan, nan, nan, nan, nan, nan, nan, nan, nan, nan, nan, nan, nan, nan, nan, nan, nan, nan, nan, nan, nan, nan, nan, nan, nan, nan, nan, nan, nan, nan, nan, nan, nan, nan, nan, nan, nan, nan, nan, nan, nan, nan, nan, nan, nan, 4.013999999999999, nan, 4.115, 3.977, 3.762, 4.667, 4.313, 3.676, 3.975, 4.582, 4.016, 4.742, 4.416, 4.988, nan, nan, nan, nan, nan, nan, nan, nan, nan, nan, nan, nan, nan, nan, nan, nan, nan, nan, nan, nan, nan, nan, nan, nan, nan, nan, nan, nan, nan, nan, nan, nan, nan, nan, nan, nan, nan, nan, nan, nan, nan, nan, nan, nan, nan, nan, nan, nan, nan, nan, 6.327999999999999, 5.774, 6.155, 5.962999999999999, 6.38, 6.452000000000001, 6.6129999999999995, 6.591, 6.676, 6.91, 6.733, 6.157, nan, nan, nan, nan, nan, nan, nan, nan, nan, nan, nan, nan, nan, nan, nan, nan, nan, nan, nan, nan, nan, nan, nan, nan, nan, nan, nan, nan, nan, nan, nan, nan, nan, nan, nan, nan, nan, nan, nan, nan, nan, nan, nan, nan, nan, nan, nan, 4.149, 4.248, 4.5, 4.772, 4.785, 4.673, 4.199, 4.4830000000000005, 3.923, 4.4719999999999995, 4.678, 4.314, 4.1530000000000005, nan, nan, nan, nan, nan, nan, nan, nan, nan, nan, nan, nan, nan, nan, nan, nan, nan, nan, nan, nan, nan, nan, nan, nan, nan, nan, nan, nan, nan, nan, nan, nan, nan, nan, nan, nan, nan, nan, nan, nan, nan, nan, nan, nan, nan, nan, nan, nan, nan, nan, nan, nan, 5.477, nan, nan, 5.648, nan, 5.61, 6.1739999999999995, 5.882000000000001, 6.2410000000000005, 6.015, nan, nan, nan, nan, nan, nan, nan, nan, nan, nan, nan, nan, nan, nan, nan, nan, nan, nan, nan, nan, nan, nan, nan, nan, nan, nan, nan, nan, nan, nan, nan, nan, nan, nan, nan, nan, nan, nan, nan, nan, nan, nan, nan, nan, nan, 6.581, nan, 6.525, 6.829, 6.962999999999999, 6.8020000000000005, 6.91, 7.32, 7.443, 6.68, 6.236000000000001, 6.824, 6.41, 6.55, 6.432, 5.9639999999999995, nan, nan, nan, nan, nan, nan, nan, nan, nan, nan, nan, nan, nan, nan, nan, nan, nan, nan, nan, nan, nan, nan, nan, nan, nan, nan, nan, nan, nan, nan, nan, nan, nan, nan, nan, nan, nan, nan, nan, nan, nan, nan, nan, nan, nan, nan, 5.102, 4.775, 5.502999999999999, 5.553999999999999, 5.59, 5.792000000000001, 5.996, 5.756, 5.917000000000001, 6.017, 5.577999999999999, 5.3260000000000005, 5.682, 5.803, 5.812, nan, nan, nan, nan, nan, nan, nan, nan, nan, nan, nan, nan, nan, nan, nan, nan, nan, nan, nan, nan, nan, nan, nan, nan, nan, nan, nan, nan, nan, nan, nan, nan, nan, nan, nan, nan, nan, nan, nan, nan, nan, nan, nan, nan, nan, nan, nan, 4.609, 4.493, nan, 4.586, 5.031000000000001, 4.885, 4.913, 4.825, 4.9830000000000005, 5.0569999999999995, 5.334, 5.465, 5.563, 6.011, nan, nan, nan, nan, nan, nan, nan, nan, nan, nan, nan, nan, nan, nan, nan, nan, nan, nan, nan, nan, nan, nan, nan, nan, nan, nan, nan, nan, nan, nan, nan, nan, nan, nan, nan, nan, nan, nan, nan, nan, nan, nan, nan, nan, nan, nan, nan, 5.196000000000001, nan, 4.801, 5.455, 5.223, 5.218999999999999, 5.074, 5.2829999999999995, 5.125, 5.303999999999999, 5.615, 5.65, 5.386, 5.722, nan, nan, nan, nan, nan, nan, nan, nan, nan, nan, nan, nan, nan, nan, nan, nan, nan, nan, nan, nan, nan, nan, nan, nan, nan, nan, nan, nan, nan, nan, nan, nan, nan, nan, nan, nan, nan, nan, nan, nan, nan, nan, nan, nan, nan, nan, nan, nan, nan, nan, 4.383, 5.085, 4.97, 5.142, nan, 5.162999999999999, 5.386, 5.312, 4.897, 5.0569999999999995, 4.803, nan, nan, nan, nan, nan, nan, nan, nan, nan, nan, nan, nan, nan, nan, nan, nan, nan, nan, nan, nan, nan, nan, nan, nan, nan, nan, nan, nan, nan, nan, nan, nan, nan, nan, nan, nan, nan, nan, nan, nan, nan, nan, nan, nan, nan, nan, 4.595, 4.833, 4.654, nan, nan, 4.971, nan, nan, nan, 4.55, nan, 4.28, 4.654, 4.9319999999999995, nan, nan, nan, nan, nan, nan, nan, nan, nan, nan, nan, nan, nan, nan, nan, nan, nan, nan, nan, nan, nan, nan, nan, nan, nan, nan, nan, nan, nan, nan, nan, nan, nan, nan, nan, nan, nan, nan, nan, nan, nan, nan, nan, nan, nan, nan, nan, nan, nan, nan, nan, nan, nan, 4.439, 4.176, 4.7860000000000005, 4.224, 4.623, 4.154, 4.4110000000000005, 4.434, 4.431, nan, nan, nan, nan, nan, nan, nan, nan, nan, nan, nan, nan, nan, nan, nan, nan, nan, nan, nan, nan, nan, nan, nan, nan, nan, nan, nan, nan, nan, nan, nan, nan, nan, nan, nan, nan, nan, nan, nan, nan, nan, nan, nan, nan, nan, nan, nan, 4.886, nan, nan, nan, nan, nan, nan, 4.574, nan, nan, 4.441, 4.834, 4.436, 4.4510000000000005, nan, nan, nan, nan, nan, nan, nan, nan, nan, nan, nan, nan, nan, nan, nan, nan, nan, nan, nan, nan, nan, nan, nan, nan, nan, nan, nan, nan, nan, nan, nan, nan, nan, nan, nan, nan, nan, nan, nan, nan, nan, nan, nan, nan, nan, nan, 4.567, 4.748, 4.441, 4.917, 4.35, 3.8089999999999997, 4.2330000000000005, 4.605, 4.975, 4.812, 5.1, 4.737, 4.91, 5.449, nan, nan, nan, nan, nan, nan, nan, nan, nan, nan, nan, nan, nan, nan, nan, nan, nan, nan, nan, nan, nan, nan, nan, nan, nan, nan, nan, nan, nan, nan, nan, nan, nan, nan, nan, nan, nan, nan, nan, nan, nan, nan, nan, nan, nan, nan, 7.4639999999999995, nan, 7.452000000000001, 7.631, nan, 7.502000000000001, 7.564, 7.471, 7.407, 7.321000000000001, 7.324, 7.541, 7.459, 7.462999999999999, 7.425, 7.504, nan, nan, nan, nan, nan, nan, nan, nan, nan, nan, nan, nan, nan, nan, nan, nan, nan, nan, nan, nan, nan, nan, nan, nan, nan, nan, nan, nan, nan, nan, nan, nan, nan, nan, nan, nan, nan, nan, nan, nan, nan, nan, nan, nan, nan, nan, 7.305, 7.604, 7.381, nan, 7.224, 7.191, 7.25, 7.28, 7.306, 7.417999999999999, 7.226, 7.327000000000001, 7.37, 7.205, 7.257000000000001, nan, nan, nan, nan, nan, nan, nan, nan, nan, nan, nan, nan, nan, nan, nan, nan, nan, nan, nan, nan, nan, nan, nan, nan, nan, nan, nan, nan, nan, nan, nan, nan, nan, nan, nan, nan, nan, nan, nan, nan, nan, nan, nan, nan, nan, nan, 4.46, 4.944, 5.104, 5.353, 5.687, 5.386, 5.4479999999999995, 5.772, 6.275, 5.9239999999999995, 6.013, 6.476, 5.819, 6.1129999999999995, nan, nan, nan, nan, nan, nan, nan, nan, nan, nan, nan, nan, nan, nan, nan, nan, nan, nan, nan, nan, nan, nan, nan, nan, nan, nan, nan, nan, nan, nan, nan, nan, nan, nan, nan, nan, nan, nan, nan, nan, nan, nan, nan, nan, nan, nan, nan, 3.737, 4.277, 4.236000000000001, 4.2669999999999995, 4.101, 4.556, 3.798, 3.716, 4.181, 3.6710000000000003, 4.235, 4.6160000000000005, 5.164, 5.004, nan, nan, nan, nan, nan, nan, nan, nan, nan, nan, nan, nan, nan, nan, nan, nan, nan, nan, nan, nan, nan, nan, nan, nan, nan, nan, nan, nan, nan, nan, nan, nan, nan, nan, nan, nan, nan, nan, nan, nan, nan, nan, nan, nan, nan, nan, nan, 4.71, 4.89, 4.939, 4.98, 4.76, nan, 5.492999999999999, 4.8180000000000005, nan, 4.933, 5.22, 5.322, 5.252000000000001, 4.356, 5.502999999999999, nan, nan, nan, nan, nan, nan, nan, nan, nan, nan, nan, nan, nan, nan, nan, nan, nan, nan, nan, nan, nan, nan, nan, nan, nan, nan, nan, nan, nan, nan, nan, nan, nan, nan, nan, nan, nan, nan, nan, nan, nan, nan, nan, nan, nan, nan, nan, nan, nan, nan, nan, nan, 5.462999999999999, 5.567, 5.7860000000000005, 5.843, 5.827000000000001, nan, 5.608, 5.4670000000000005, nan, nan, nan, nan, nan, nan, nan, nan, nan, nan, nan, nan, nan, nan, nan, nan, nan, nan, nan, nan, nan, nan, nan, nan, nan, nan, nan, nan, nan, nan, nan, nan, nan, nan, nan, nan, nan, nan, nan, nan, nan, nan, nan, nan, nan, nan, nan, nan, 4.494, nan, 4.428, 4.18, 4.898, 4.64, 5.186, 5.204, 4.976, 5.346, 5.234, 5.24, 5.015, 5.053999999999999, nan, nan, nan, nan, nan, nan, nan, nan, nan, nan, nan, nan, nan, nan, nan, nan, nan, nan, nan, nan, nan, nan, nan, nan, nan, nan, nan, nan, nan, nan, nan, nan, nan, nan, nan, nan, nan, nan, nan, nan, nan, nan, nan, nan, nan, nan, 7.416, nan, 7.632000000000001, nan, nan, nan, 7.678, nan, 7.444, 7.603, 7.596, 7.579, 7.444, 7.442, 7.29, nan, nan, nan, nan, nan, nan, nan, nan, nan, nan, nan, nan, nan, nan, nan, nan, nan, nan, nan, nan, nan, nan, nan, nan, nan, nan, nan, nan, nan, nan, nan, nan, nan, nan, nan, nan, nan, nan, nan, nan, nan, nan, nan, nan, nan, nan, nan, nan, nan, nan, nan, 6.853, nan, nan, nan, nan, nan, nan, nan, nan, nan, nan, nan, nan, nan, nan, nan, nan, nan, nan, nan, nan, nan, nan, nan, nan, nan, nan, nan, nan, nan, nan, nan, nan, nan, nan, nan, nan, nan, nan, nan, nan, nan, nan, nan, nan, nan, nan, nan, nan, nan, nan, nan, nan, nan, nan, 5.225, nan, 5.671, 4.414, 5.207999999999999, 5.7860000000000005, 5.267, 5.132000000000001, 5.138, 5.436, 4.823, 5.5489999999999995, 5.831, 5.472, 4.4430000000000005, nan, nan, nan, nan, nan, nan, nan, nan, nan, nan, nan, nan, nan, nan, nan, nan, nan, nan, nan, nan, nan, nan, nan, nan, nan, nan, nan, nan, nan, nan, nan, nan, nan, nan, nan, nan, nan, nan, nan, nan, nan, nan, nan, nan, nan, nan, nan, 4.716, 4.151, 4.386, 4.47, 4.703, 4.751, 4.647, 4.843999999999999, 4.7219999999999995, 4.695, 4.907, 4.628, 4.553999999999999, 4.4830000000000005, nan, nan, nan, nan, nan, nan, nan, nan, nan, nan, nan, nan, nan, nan, nan, nan, nan, nan, nan, nan, nan, nan, nan, nan, nan, nan, nan, nan, nan, nan, nan, nan, nan, nan, nan, nan, nan, nan, nan, nan, nan, nan, nan, nan, nan, nan, nan, 6.127999999999999, 6.894, 6.931, 7.034, 7.321000000000001, 7.247999999999999, 6.86, 6.8660000000000005, 6.631, 6.606, 6.117999999999999, 6.568, 6.281000000000001, 6.086, nan, nan, nan, nan, nan, nan, nan, nan, nan, nan, nan, nan, nan, nan, nan, nan, nan, nan, nan, nan, nan, nan, nan, nan, nan, nan, nan, nan, nan, nan, nan, nan, nan, nan, nan, nan, nan, nan, nan, nan, nan, nan, nan, nan, nan, nan, nan, 4.73, 5.272, 5.57, 5.5760000000000005, 5.841, 5.6770000000000005, 5.82, 5.936, 5.119, 5.56, 5.801, 5.712999999999999, nan, 5.653, nan, nan, nan, nan, nan, nan, nan, nan, nan, nan, nan, nan, nan, nan, nan, nan, nan, nan, nan, nan, nan, nan, nan, nan, nan, nan, nan, nan, nan, nan, nan, nan, nan, nan, nan, nan, nan, nan, nan, nan, nan, nan, nan, nan, nan, nan, nan, 4.811, 5.2139999999999995, 5.129, 5.519, 5.6129999999999995, 5.892, 5.825, 5.7829999999999995, 5.8660000000000005, 5.577000000000001, 5.7010000000000005, 5.711, 5.68, 5.999, nan, nan, nan, nan, nan, nan, nan, nan, nan, nan, nan, nan, nan, nan, nan, nan, nan, nan, nan, nan, nan, nan, nan, nan, nan, nan, nan, nan, nan, nan, nan, nan, nan, nan, nan, nan, nan, nan, nan, nan, nan, nan, nan, nan, nan, nan, nan, 4.67, 5.074, 4.5889999999999995, 4.88, 4.942, 4.994, 5.002, 4.977, 5.313, 5.547000000000001, 5.431, 5.593999999999999, 5.869, 6.268, 5.08, nan, nan, nan, nan, nan, nan, nan, nan, nan, nan, nan, nan, nan, nan, nan, nan, nan, nan, nan, nan, nan, nan, nan, nan, nan, nan, nan, nan, nan, nan, nan, nan, nan, nan, nan, nan, nan, nan, nan, nan, nan, nan, nan, nan, nan, 5.587000000000001, nan, 5.886, nan, 5.772, 5.8870000000000005, 5.646, 5.876, 5.746, 5.75, 6.007000000000001, 6.162000000000001, 6.2010000000000005, 6.111000000000001, 6.242000000000001, 6.138999999999999, nan, nan, nan, nan, nan, nan, nan, nan, nan, nan, nan, nan, nan, nan, nan, nan, nan, nan, nan, nan, nan, nan, nan, nan, nan, nan, nan, nan, nan, nan, nan, nan, nan, nan, nan, nan, nan, nan, nan, nan, nan, nan, nan, nan, nan, nan, 5.405, nan, 5.7170000000000005, nan, 5.095, 5.22, 4.994, 5.1579999999999995, 5.127000000000001, 5.081, 5.447, 5.711, 5.92, 6.095, 5.768, nan, nan, nan, nan, nan, nan, nan, nan, nan, nan, nan, nan, nan, nan, nan, nan, nan, nan, nan, nan, nan, nan, nan, nan, nan, nan, nan, nan, nan, nan, nan, nan, nan, nan, nan, nan, nan, nan, nan, nan, nan, nan, nan, nan, nan, nan, nan, nan, nan, 6.417999999999999, 6.85, 6.5920000000000005, 6.611000000000001, nan, nan, 6.375, nan, nan, nan, nan, nan, nan, nan, nan, nan, nan, nan, nan, nan, nan, nan, nan, nan, nan, nan, nan, nan, nan, nan, nan, nan, nan, nan, nan, nan, nan, nan, nan, nan, nan, nan, nan, nan, nan, nan, nan, nan, nan, nan, nan, nan, nan, nan, nan, nan, nan, 5.0489999999999995, nan, 5.394, nan, 5.367999999999999, 4.909, 5.023, 5.167000000000001, 5.082, 5.727, 5.777, 5.968999999999999, 6.09, 6.151, 6.13, nan, nan, nan, nan, nan, nan, nan, nan, nan, nan, nan, nan, nan, nan, nan, nan, nan, nan, nan, nan, nan, nan, nan, nan, nan, nan, nan, nan, nan, nan, nan, nan, nan, nan, nan, nan, nan, nan, nan, nan, nan, nan, nan, nan, nan, nan, nan, 4.9639999999999995, 5.223, 5.619, 5.1579999999999995, 5.385, 5.388999999999999, 5.621, 5.537000000000001, 6.037000000000001, 5.996, 5.855, 5.579, 5.513999999999999, 5.441, 5.495, nan, nan, nan, nan, nan, nan, nan, nan, nan, nan, nan, nan, nan, nan, nan, nan, nan, nan, nan, nan, nan, nan, nan, nan, nan, nan, nan, nan, nan, nan, nan, nan, nan, nan, nan, nan, nan, nan, nan, nan, nan, nan, nan, nan, nan, nan, 4.215, nan, 4.363, 4.03, nan, 4.0969999999999995, 3.333, 3.466, 3.596, 3.483, 3.333, 3.108, 3.5610000000000004, 3.2680000000000002, nan, nan, nan, nan, nan, nan, nan, nan, nan, nan, nan, nan, nan, nan, nan, nan, nan, nan, nan, nan, nan, nan, nan, nan, nan, nan, nan, nan, nan, nan, nan, nan, nan, nan, nan, nan, nan, nan, nan, nan, nan, nan, nan, nan, nan, nan, 7.08, nan, 7.267, 6.811, 6.148, 6.307, 6.7, 6.396, 6.495, 6.278, 6.345, 6.474, 6.294, 6.356, 6.561, 6.56, nan, nan, nan, nan, nan, nan, nan, nan, nan, nan, nan, nan, nan, nan, nan, nan, nan, nan, nan, nan, nan, nan, nan, nan, nan, nan, nan, nan, nan, nan, nan, nan, nan, nan, nan, nan, nan, nan, nan, nan, nan, nan, nan, nan, nan, nan, 4.417, 4.68, 4.683, 4.335, 4.372, 3.8339999999999996, 3.6689999999999996, 3.647, 4.395, 4.617, 4.595, 4.683, 4.769, 5.489, nan, nan, nan, nan, nan, nan, nan, nan, nan, nan, nan, nan, nan, nan, nan, nan, nan, nan, nan, nan, nan, nan, nan, nan, nan, nan, nan, nan, nan, nan, nan, nan, nan, nan, nan, nan, nan, nan, nan, nan, nan, nan, nan, nan, nan, nan, nan, nan, 4.75, nan, 4.38, 4.461, 4.815, 5.155, 5.102, 5.113, 5.318, 5.752999999999999, 5.122000000000001, 5.936, 6.2410000000000005, 6.042000000000001, nan, nan, nan, nan, nan, nan, nan, nan, nan, nan, nan, nan, nan, nan, nan, nan, nan, nan, nan, nan, nan, nan, nan, nan, nan, nan, nan, nan, nan, nan, nan, nan, nan, nan, nan, nan, nan, nan, nan, nan, nan, nan, nan, nan, nan, nan, 3.628, 3.585, 2.997, nan, 4.1339999999999995, 4.502, nan, 4.513999999999999, 4.5, 4.909, 4.7330000000000005, 4.09, 4.306, 3.447, nan, nan, nan, nan, nan, nan, nan, nan, nan, nan, nan, nan, nan, nan, nan, nan, nan, nan, nan, nan, nan, nan, nan, nan, nan, nan, nan, nan, nan, nan, nan, nan, nan, nan, nan, nan, nan, nan, nan, nan, nan, nan, nan, nan, nan, nan, nan, 6.462999999999999, 6.834, 6.642, 6.145, 6.531000000000001, 6.561, nan, 6.5329999999999995, 7.062, 6.62, 6.0329999999999995, 6.377999999999999, 6.375, 6.377999999999999, nan, nan, nan, nan, nan, nan, nan, nan, nan, nan, nan, nan, nan, nan, nan, nan, nan, nan, nan, nan, nan, nan, nan, nan, nan, nan, nan, nan, nan, nan, nan, nan, nan, nan, nan, nan, nan, nan, nan, nan, nan, nan, nan, nan, nan, nan, nan, 5.265, nan, nan, nan, 6.0520000000000005, 5.945, 5.9110000000000005, 5.937, 6.138999999999999, 6.162000000000001, 5.992999999999999, 6.3660000000000005, 6.235, 6.242999999999999, 6.519, nan, nan, nan, nan, nan, nan, nan, nan, nan, nan, nan, nan, nan, nan, nan, nan, nan, nan, nan, nan, nan, nan, nan, nan, nan, nan, nan, nan, nan, nan, nan, nan, nan, nan, nan, nan, nan, nan, nan, nan, nan, nan, nan, nan, nan, nan, 5.811, nan, nan, 5.83, 6.082999999999999, 6.0360000000000005, 6.063, 5.975, 5.678, 5.7410000000000005, 5.937, 6.167000000000001, 6.249, 6.665, 6.462000000000001, nan, nan, nan, nan, nan, nan, nan, nan, nan, nan, nan, nan, nan, nan, nan, nan, nan, nan, nan, nan, nan, nan, nan, nan, nan, nan, nan, nan, nan, nan, nan, nan, nan, nan, nan, nan, nan, nan, nan, nan, nan, nan, nan, nan, nan, nan, nan, nan, nan, nan, nan, nan, nan, nan, 5.528, 5.354, 4.668, nan, nan, nan, nan, nan, nan, nan, nan, nan, nan, nan, nan, nan, nan, nan, nan, nan, nan, nan, nan, nan, nan, nan, nan, nan, nan, nan, nan, nan, nan, nan, nan, nan, nan, nan, nan, nan, nan, nan, nan, nan, nan, nan, nan, nan, nan, nan, nan, nan, nan, nan, nan, nan, 4.9910000000000005, 4.657, 4.931, 5.0569999999999995, nan, nan, nan, nan, nan, nan, nan, nan, nan, nan, nan, nan, nan, nan, nan, nan, nan, nan, nan, nan, nan, nan, nan, nan, nan, nan, nan, nan, nan, nan, nan, nan, nan, nan, nan, nan, nan, nan, nan, nan, nan, nan, nan, nan, nan, nan, nan, nan, nan, nan, nan, nan, nan, nan, 5.084, 5.204, 5.346, 5.218, 4.652, 4.931, 5.1339999999999995, 3.661, 4.828, 4.887, 4.77, 4.513999999999999, 4.8839999999999995, 5.035, 4.947, nan, nan, nan, nan, nan, nan, nan, nan, nan, nan, nan, nan, nan, nan, nan, nan, nan, nan, nan, nan, nan, nan, nan, nan, nan, nan, nan, nan, nan, nan, nan, nan, nan, nan, nan, nan, nan, nan, nan, nan, nan, nan, nan, nan, nan, nan, 5.332000000000001, 5.767, 5.39, 5.648, 6.1160000000000005, 6.947, 6.002999999999999, 5.959, 5.801, 5.78, 5.971, 5.874, 5.84, 5.903, 5.792999999999999, nan, nan, nan, nan, nan, nan, nan, nan, nan, nan, nan, nan, nan, nan, nan, nan, nan, nan, nan, nan, nan, nan, nan, nan, nan, nan, nan, nan, nan, nan, nan, nan, nan, nan, nan, nan, nan, nan, nan, nan, nan, nan, nan, nan, nan, nan, nan, nan, nan, nan, nan, nan, nan, nan, 3.832, 4.071000000000001, 2.888, 2.8169999999999997, nan, nan, nan, nan, nan, nan, nan, nan, nan, nan, nan, nan, nan, nan, nan, nan, nan, nan, nan, nan, nan, nan, nan, nan, nan, nan, nan, nan, nan, nan, nan, nan, nan, nan, nan, nan, nan, nan, nan, nan, nan, nan, nan, nan, nan, nan, nan, nan, 7.153, nan, 6.995, 7.294, 6.199, 6.188, 6.518, 6.291, 6.15, 6.456, 6.381, 6.319, 6.23, 6.513, 6.457000000000001, 6.502000000000001, nan, nan, nan, nan, nan, nan, nan, nan, nan, nan, nan, nan, nan, nan, nan, nan, nan, nan, nan, nan, nan, nan, nan, nan, nan, nan, nan, nan, nan, nan, nan, nan, nan, nan, nan, nan, nan, nan, nan, nan, nan, nan, nan, nan, nan, nan, 4.345, 4.415, 4.431, 4.212, 3.977, 4.181, 4.225, 4.365, 4.268, 4.612, nan, 4.331, 4.435, 4.213, nan, nan, nan, nan, nan, nan, nan, nan, nan, nan, nan, nan, nan, nan, nan, nan, nan, nan, nan, nan, nan, nan, nan, nan, nan, nan, nan, nan, nan, nan, nan, nan, nan, nan, nan, nan, nan, nan, nan, nan, nan, nan, nan, nan, nan, nan, nan, nan, nan, nan, 4.455, 4.435, 4.314, 4.55, nan, 4.138999999999999, nan, nan, nan, nan, nan, nan, nan, nan, nan, nan, nan, nan, nan, nan, nan, nan, nan, nan, nan, nan, nan, nan, nan, nan, nan, nan, nan, nan, nan, nan, nan, nan, nan, nan, nan, nan, nan, nan, nan, nan, nan, nan, nan, nan, nan, nan, nan, nan, nan, nan, nan, nan, nan, nan, nan, nan, nan, nan, 6.269, nan, nan, nan, nan, nan, nan, nan, nan, nan, nan, nan, nan, nan, nan, nan, nan, nan, nan, nan, nan, nan, nan, nan, nan, nan, nan, nan, nan, nan, nan, nan, nan, nan, nan, nan, nan, nan, nan, nan, nan, nan, nan, nan, nan, nan, nan, nan, nan, nan, nan, nan, nan, nan, nan, nan, nan, nan, nan, nan, 4.867, nan, nan, nan, nan, nan, nan, 4.212, 4.396, nan, nan, nan, nan, nan, nan, nan, nan, nan, nan, nan, nan, nan, nan, nan, nan, nan, nan, nan, nan, nan, nan, nan, nan, nan, nan, nan, nan, nan, nan, nan, nan, nan, nan, nan, nan, nan, nan, nan, nan, nan, nan, nan, nan, nan, nan, 7.376, nan, 7.2410000000000005, 7.516, 7.266, 7.496, 7.382000000000001, 7.56, 7.434, 7.239, 7.289, 7.369, 7.287000000000001, 7.375, 7.398, 7.314, nan, nan, nan, nan, nan, nan, nan, nan, nan, nan, nan, nan, nan, nan, nan, nan, nan, nan, nan, nan, nan, nan, nan, nan, nan, nan, nan, nan, nan, nan, nan, nan, nan, nan, nan, nan, nan, nan, nan, nan, nan, nan, nan, nan, nan, nan, 7.473, nan, nan, 7.525, nan, nan, 7.776, nan, 7.492999999999999, 7.572, 7.459, 7.474, 7.5089999999999995, 7.694, 7.507999999999999, nan, nan, nan, nan, nan, nan, nan, nan, nan, nan, nan, nan, nan, nan, nan, nan, nan, nan, nan, nan, nan, nan, nan, nan, nan, nan, nan, nan, nan, nan, nan, nan, nan, nan, nan, nan, nan, nan, nan, nan, nan, nan, nan, nan, nan, nan, nan, nan, 5.3229999999999995, 4.979, 4.465, 4.038, 3.1639999999999997, 2.688, nan, 3.4619999999999997, nan, nan, nan, nan, nan, nan, nan, nan, nan, nan, nan, nan, nan, nan, nan, nan, nan, nan, nan, nan, nan, nan, nan, nan, nan, nan, nan, nan, nan, nan, nan, nan, nan, nan, nan, nan, nan, nan, nan, nan, nan, nan, nan, nan, nan, nan, nan, nan, nan, nan, nan, 6.189, nan, 5.547999999999999, nan, 6.229, 6.309, 6.126, 6.34, 6.3629999999999995, 6.45, 6.513, 6.359, 6.4670000000000005, 6.537000000000001, 6.751, nan, nan, nan, nan, nan, nan, nan, nan, nan, nan, nan, nan, nan, nan, nan, nan, nan, nan, nan, nan, nan, nan, nan, nan, nan, nan, nan, nan, nan, nan, nan, nan, nan, nan, nan, nan, nan, nan, nan, nan, nan, nan, nan, nan, nan, nan, 4.613, 4.4319999999999995, 5.064, 4.575, 4.381, 4.263, 4.497, 4.967, 4.896, 5.124, 5.104, 5.829, 5.497000000000001, 5.4639999999999995, 5.372999999999999, nan, nan, nan, nan, nan, nan, nan, nan, nan, nan, nan, nan, nan, nan, nan, nan, nan, nan, nan, nan, nan, nan, nan, nan, nan, nan, nan, nan, nan, nan, nan, nan, nan, nan, nan, nan, nan, nan, nan, nan, nan, nan, nan, nan, nan, nan, 3.9219999999999997, 4.3180000000000005, 4.385, 3.408, 3.2289999999999996, 4.074, 4.007, 3.852, 3.483, 3.661, 2.903, 3.347, 3.445, 3.64, 3.786, nan, nan, nan, nan, nan, nan, nan, nan, nan, nan, nan, nan, nan, nan, nan, nan, nan, nan, nan, nan, nan, nan, nan, nan, nan, nan, nan, nan, nan, nan, nan, nan, nan, nan, nan, nan, nan, nan, nan, nan, nan, nan, nan, nan, nan, nan, 5.885, 5.784, 5.636, 5.476, 6.2170000000000005, 6.664, 6.3, 6.231, 6.985, 6.202000000000001, 6.074, 5.939, 6.0120000000000005, 6.022, 5.885, nan, nan, nan, nan, nan, nan, nan, nan, nan, nan, nan, nan, nan, nan, nan, nan, nan, nan, nan, nan, nan, nan, nan, nan, nan, nan, nan, nan, nan, nan, nan, nan, nan, nan, nan, nan, nan, nan, nan, nan, nan, nan, nan, nan, nan, nan, 3.202, nan, 2.8080000000000003, nan, nan, 2.9360000000000004, nan, nan, 2.839, 3.7680000000000002, 3.8789999999999996, 4.361000000000001, 4.023, 4.178999999999999, nan, nan, nan, nan, nan, nan, nan, nan, nan, nan, nan, nan, nan, nan, nan, nan, nan, nan, nan, nan, nan, nan, nan, nan, nan, nan, nan, nan, nan, nan, nan, nan, nan, nan, nan, nan, nan, nan, nan, nan, nan, nan, nan, nan, nan, nan, nan, 5.832000000000001, nan, 6.696000000000001, nan, nan, 6.519, nan, 6.167999999999999, nan, nan, nan, 6.192, nan, nan, nan, nan, nan, nan, nan, nan, nan, nan, nan, nan, nan, nan, nan, nan, nan, nan, nan, nan, nan, nan, nan, nan, nan, nan, nan, nan, nan, nan, nan, nan, nan, nan, nan, nan, nan, nan, nan, nan, nan, nan, nan, nan, nan, nan, nan, nan, nan, nan, nan, nan, 5.025, 5.131, 4.876, 4.4639999999999995, 5.246, 4.763999999999999, 5.132000000000001, 4.521, 4.124, 4.7410000000000005, 4.315, 4.731, nan, nan, nan, nan, nan, nan, nan, nan, nan, nan, nan, nan, nan, nan, nan, nan, nan, nan, nan, nan, nan, nan, nan, nan, nan, nan, nan, nan, nan, nan, nan, nan, nan, nan, nan, nan, nan, nan, nan, nan, nan, nan, nan, nan, nan, 4.718999999999999, nan, 5.622999999999999, 5.118, 5.212999999999999, 5.49, 5.272, 5.309, 4.888, 5.58, 5.513999999999999, 5.3260000000000005, 5.607, 5.186, 4.872, 4.862, nan, nan, nan, nan, nan, nan, nan, nan, nan, nan, nan, nan, nan, nan, nan, nan, nan, nan, nan, nan, nan, nan, nan, nan, nan, nan, nan, nan, nan, nan, nan, nan, nan, nan, nan, nan, nan, nan, nan, nan, nan, nan, nan, nan, nan, nan, nan, nan, nan, 6.568, nan, 5.792000000000001, 5.4639999999999995, 5.392, 5.787000000000001, 5.791, 5.8870000000000005, 5.229, 4.621, 5.474, nan, nan, nan, nan, nan, nan, nan, nan, nan, nan, nan, nan, nan, nan, nan, nan, nan, nan, nan, nan, nan, nan, nan, nan, nan, nan, nan, nan, nan, nan, nan, nan, nan, nan, nan, nan, nan, nan, nan, nan, nan, nan, nan, nan, nan, nan, nan, 3.734, 4.456, 4.569, 4.612, 4.1930000000000005, 4.8260000000000005, 4.309, 3.71, 3.77, 4.238, 4.2330000000000005, 4.001, 4.322, 4.948, 4.641, nan, nan, nan, nan, nan, nan, nan, nan, nan, nan, nan, nan, nan, nan, nan, nan, nan, nan, nan, nan, nan, nan, nan, nan, nan, nan, nan, nan, nan, nan, nan, nan, nan, nan, nan, nan, nan, nan, nan, nan, nan, nan, nan, nan, nan, nan, 4.803999999999999, 5.252000000000001, 5.172000000000001, 5.166, 5.058, 5.083, 5.03, 4.711, 4.297, 3.965, 4.029, 4.311, 4.662, 4.702, 5.27, nan, nan, nan, nan, nan, nan, nan, nan, nan, nan, nan, nan, nan, nan, nan, nan, nan, nan, nan, nan, nan, nan, nan, nan, nan, nan, nan, nan, nan, nan, nan, nan, nan, nan, nan, nan, nan, nan, nan, nan, nan, nan, nan, nan, nan, nan, 6.734, nan, nan, 6.8660000000000005, 7.097, 7.119, 7.218, 6.621, 6.54, 6.568, 6.831, 7.039, 6.604, 6.711, 6.457999999999999, nan, nan, nan, nan, nan, nan, nan, nan, nan, nan, nan, nan, nan, nan, nan, nan, nan, nan, nan, nan, nan, nan, nan, nan, nan, nan, nan, nan, nan, nan, nan, nan, nan, nan, nan, nan, nan, nan, nan, nan, nan, nan, nan, nan, nan, 6.984, nan, 6.8020000000000005, 6.986000000000001, 6.907, 7.029, 6.869, 6.881, 6.917999999999999, 6.757999999999999, 6.515, 6.824, 7.103, 7.233, 7.157, 6.797999999999999, nan, nan, nan, nan, nan, nan, nan, nan, nan, nan, nan, nan, nan, nan, nan, nan, nan, nan, nan, nan, nan, nan, nan, nan, nan, nan, nan, nan, nan, nan, nan, nan, nan, nan, nan, nan, nan, nan, nan, nan, nan, nan, nan, nan, nan, nan, 7.182, 7.513, 7.28, 7.1579999999999995, 7.164, 7.115, 7.026, 7.249, 7.151, 6.864, 6.803999999999999, 6.992000000000001, 6.882999999999999, 6.944, 7.028, nan, nan, nan, nan, nan, nan, nan, nan, nan, nan, nan, nan, nan, nan, nan, nan, nan, nan, nan, nan, nan, nan, nan, nan, nan, nan, nan, nan, nan, nan, nan, nan, nan, nan, nan, nan, nan, nan, nan, nan, nan, nan, nan, nan, nan, nan, 5.7860000000000005, 5.694, 5.664, 6.296, 6.062, 6.553999999999999, 6.45, 6.444, 6.561, 6.627999999999999, 6.171, 6.336, 6.372000000000001, 6.6, 6.31, nan, nan, nan, nan, nan, nan, nan, nan, nan, nan, nan, nan, nan, nan, nan, nan, nan, nan, nan, nan, nan, nan, nan, nan, nan, nan, nan, nan, nan, nan, nan, nan, nan, nan, nan, nan, nan, nan, nan, nan, nan, nan, nan, nan, nan, nan, 5.232, nan, 5.311, 5.261, 5.095, 5.739, 6.019, 5.94, 6.0489999999999995, 5.972, 5.893, 6.421, 6.205, 6.154, nan, nan, nan, nan, nan, nan, nan, nan, nan, nan, nan, nan, nan, nan, nan, nan, nan, nan, nan, nan, nan, nan, nan, nan, nan, nan, nan, nan, nan, nan, nan, nan, nan, nan, nan, nan, nan, nan, nan, nan, nan, nan, nan, nan, nan, nan, 7.17, 6.525, nan, 6.257999999999999, 7.189, 7.478, 6.58, 7.067, 6.553, 6.136, 5.569, 4.041, 5.071000000000001, 5.006, 5.081, 4.574, nan, nan, nan, nan, nan, nan, nan, nan, nan, nan, nan, nan, nan, nan, nan, nan, nan, nan, nan, nan, nan, nan, nan, nan, nan, nan, nan, nan, nan, nan, nan, nan, nan, nan, nan, nan, nan, nan, nan, nan, nan, nan, nan, nan, nan, nan, 5.294, 5.422000000000001, 5.48, 5.303999999999999, 5.296, 5.767, 5.535, 5.023, 5.085, 5.0760000000000005, 5.062, 5.175, 5.296, 5.4670000000000005, nan, nan, nan, nan, nan, nan, nan, nan, nan, nan, nan, nan, nan, nan, nan, nan, nan, nan, nan, nan, nan, nan, nan, nan, nan, nan, nan, nan, nan, nan, nan, nan, nan, nan, nan, nan, nan, nan, nan, nan, nan, nan, nan, nan, nan, nan, nan, nan, 4.477, nan, 4.809, 4.35, 3.7460000000000004, 4.061, 4.218, 3.968, 2.983, 3.826, 3.2539999999999996, 3.0580000000000003, 4.197, nan, nan, nan, nan, nan, nan, nan, nan, nan, nan, nan, nan, nan, nan, nan, nan, nan, nan, nan, nan, nan, nan, nan, nan, nan, nan, nan, nan, nan, nan, nan, nan, nan, nan, nan, nan, nan, nan, nan, nan, nan, nan, nan, nan, nan, nan, nan, 4.824, 3.998, 4.73, 5.26, nan, 4.999, 5.013, 5.244, 4.346, 4.843, 4.348, 3.9330000000000003, 4.041, 3.307, 4.838, nan, nan, nan, nan, nan, nan, nan, nan, nan, nan, nan, nan, nan, nan, nan, nan, nan, nan, nan, nan, nan, nan, nan, nan, nan, nan, nan, nan, nan, nan, nan, nan, nan, nan, nan, nan, nan, nan, nan, nan, nan, nan, nan, nan, nan, nan, 3.826, 3.28, 3.174, 4.056, 4.6819999999999995, 4.846, 4.955, 4.69, 4.184, 3.7030000000000003, 3.735, 3.638, 3.616, 2.694, 3.16]}\n"
     ]
    }
   ],
   "source": [
    "print(dh)\n",
    "assert(len(dh[\"LifeLadder\"]) == len(dh[\"Year\"]))"
   ]
  },
  {
   "cell_type": "code",
   "execution_count": 105,
   "metadata": {},
   "outputs": [],
   "source": [
    "dff_happy = pd.DataFrame(dh)\n",
    "df_wbb = df_wb.merge(dff_happy, how='left')\n",
    "df_wbb.to_csv(\"extra.csv\",index=False)"
   ]
  },
  {
   "cell_type": "code",
   "execution_count": 106,
   "metadata": {},
   "outputs": [
    {
     "data": {
      "text/html": [
       "<div>\n",
       "<style scoped>\n",
       "    .dataframe tbody tr th:only-of-type {\n",
       "        vertical-align: middle;\n",
       "    }\n",
       "\n",
       "    .dataframe tbody tr th {\n",
       "        vertical-align: top;\n",
       "    }\n",
       "\n",
       "    .dataframe thead th {\n",
       "        text-align: right;\n",
       "    }\n",
       "</style>\n",
       "<table border=\"1\" class=\"dataframe\">\n",
       "  <thead>\n",
       "    <tr style=\"text-align: right;\">\n",
       "      <th></th>\n",
       "      <th>Location</th>\n",
       "      <th>SpatialDimValueCode</th>\n",
       "      <th>Year</th>\n",
       "      <th>arg</th>\n",
       "      <th>cpi</th>\n",
       "      <th>edu</th>\n",
       "      <th>employ</th>\n",
       "      <th>exchange</th>\n",
       "      <th>gdp</th>\n",
       "      <th>green</th>\n",
       "      <th>...</th>\n",
       "      <th>tax</th>\n",
       "      <th>LifeLadder</th>\n",
       "      <th>LogGDPPerCapita</th>\n",
       "      <th>SocialSupport</th>\n",
       "      <th>Expectancy</th>\n",
       "      <th>Freedom</th>\n",
       "      <th>Generosity</th>\n",
       "      <th>Corruption</th>\n",
       "      <th>PositiveAffect</th>\n",
       "      <th>NegativeAffect</th>\n",
       "    </tr>\n",
       "  </thead>\n",
       "  <tbody>\n",
       "    <tr>\n",
       "      <th>0</th>\n",
       "      <td>Aruba</td>\n",
       "      <td>ABW</td>\n",
       "      <td>1960</td>\n",
       "      <td>NaN</td>\n",
       "      <td>NaN</td>\n",
       "      <td>NaN</td>\n",
       "      <td>NaN</td>\n",
       "      <td>NaN</td>\n",
       "      <td>NaN</td>\n",
       "      <td>NaN</td>\n",
       "      <td>...</td>\n",
       "      <td>NaN</td>\n",
       "      <td>NaN</td>\n",
       "      <td>NaN</td>\n",
       "      <td>NaN</td>\n",
       "      <td>NaN</td>\n",
       "      <td>NaN</td>\n",
       "      <td>NaN</td>\n",
       "      <td>NaN</td>\n",
       "      <td>NaN</td>\n",
       "      <td>NaN</td>\n",
       "    </tr>\n",
       "    <tr>\n",
       "      <th>1</th>\n",
       "      <td>Aruba</td>\n",
       "      <td>ABW</td>\n",
       "      <td>1961</td>\n",
       "      <td>11.111111</td>\n",
       "      <td>NaN</td>\n",
       "      <td>NaN</td>\n",
       "      <td>NaN</td>\n",
       "      <td>NaN</td>\n",
       "      <td>NaN</td>\n",
       "      <td>NaN</td>\n",
       "      <td>...</td>\n",
       "      <td>NaN</td>\n",
       "      <td>NaN</td>\n",
       "      <td>NaN</td>\n",
       "      <td>NaN</td>\n",
       "      <td>NaN</td>\n",
       "      <td>NaN</td>\n",
       "      <td>NaN</td>\n",
       "      <td>NaN</td>\n",
       "      <td>NaN</td>\n",
       "      <td>NaN</td>\n",
       "    </tr>\n",
       "    <tr>\n",
       "      <th>2</th>\n",
       "      <td>Aruba</td>\n",
       "      <td>ABW</td>\n",
       "      <td>1962</td>\n",
       "      <td>11.111111</td>\n",
       "      <td>NaN</td>\n",
       "      <td>NaN</td>\n",
       "      <td>NaN</td>\n",
       "      <td>NaN</td>\n",
       "      <td>NaN</td>\n",
       "      <td>NaN</td>\n",
       "      <td>...</td>\n",
       "      <td>NaN</td>\n",
       "      <td>NaN</td>\n",
       "      <td>NaN</td>\n",
       "      <td>NaN</td>\n",
       "      <td>NaN</td>\n",
       "      <td>NaN</td>\n",
       "      <td>NaN</td>\n",
       "      <td>NaN</td>\n",
       "      <td>NaN</td>\n",
       "      <td>NaN</td>\n",
       "    </tr>\n",
       "    <tr>\n",
       "      <th>3</th>\n",
       "      <td>Aruba</td>\n",
       "      <td>ABW</td>\n",
       "      <td>1963</td>\n",
       "      <td>11.111111</td>\n",
       "      <td>NaN</td>\n",
       "      <td>NaN</td>\n",
       "      <td>NaN</td>\n",
       "      <td>NaN</td>\n",
       "      <td>NaN</td>\n",
       "      <td>NaN</td>\n",
       "      <td>...</td>\n",
       "      <td>NaN</td>\n",
       "      <td>NaN</td>\n",
       "      <td>NaN</td>\n",
       "      <td>NaN</td>\n",
       "      <td>NaN</td>\n",
       "      <td>NaN</td>\n",
       "      <td>NaN</td>\n",
       "      <td>NaN</td>\n",
       "      <td>NaN</td>\n",
       "      <td>NaN</td>\n",
       "    </tr>\n",
       "    <tr>\n",
       "      <th>4</th>\n",
       "      <td>Aruba</td>\n",
       "      <td>ABW</td>\n",
       "      <td>1964</td>\n",
       "      <td>11.111111</td>\n",
       "      <td>NaN</td>\n",
       "      <td>NaN</td>\n",
       "      <td>NaN</td>\n",
       "      <td>NaN</td>\n",
       "      <td>NaN</td>\n",
       "      <td>NaN</td>\n",
       "      <td>...</td>\n",
       "      <td>NaN</td>\n",
       "      <td>NaN</td>\n",
       "      <td>NaN</td>\n",
       "      <td>NaN</td>\n",
       "      <td>NaN</td>\n",
       "      <td>NaN</td>\n",
       "      <td>NaN</td>\n",
       "      <td>NaN</td>\n",
       "      <td>NaN</td>\n",
       "      <td>NaN</td>\n",
       "    </tr>\n",
       "  </tbody>\n",
       "</table>\n",
       "<p>5 rows × 22 columns</p>\n",
       "</div>"
      ],
      "text/plain": [
       "  Location SpatialDimValueCode  Year        arg  cpi  edu  employ  exchange  \\\n",
       "0    Aruba                 ABW  1960        NaN  NaN  NaN     NaN       NaN   \n",
       "1    Aruba                 ABW  1961  11.111111  NaN  NaN     NaN       NaN   \n",
       "2    Aruba                 ABW  1962  11.111111  NaN  NaN     NaN       NaN   \n",
       "3    Aruba                 ABW  1963  11.111111  NaN  NaN     NaN       NaN   \n",
       "4    Aruba                 ABW  1964  11.111111  NaN  NaN     NaN       NaN   \n",
       "\n",
       "   gdp  green  ...  tax  LifeLadder  LogGDPPerCapita  SocialSupport  \\\n",
       "0  NaN    NaN  ...  NaN         NaN              NaN            NaN   \n",
       "1  NaN    NaN  ...  NaN         NaN              NaN            NaN   \n",
       "2  NaN    NaN  ...  NaN         NaN              NaN            NaN   \n",
       "3  NaN    NaN  ...  NaN         NaN              NaN            NaN   \n",
       "4  NaN    NaN  ...  NaN         NaN              NaN            NaN   \n",
       "\n",
       "   Expectancy  Freedom  Generosity  Corruption  PositiveAffect  NegativeAffect  \n",
       "0         NaN      NaN         NaN         NaN             NaN             NaN  \n",
       "1         NaN      NaN         NaN         NaN             NaN             NaN  \n",
       "2         NaN      NaN         NaN         NaN             NaN             NaN  \n",
       "3         NaN      NaN         NaN         NaN             NaN             NaN  \n",
       "4         NaN      NaN         NaN         NaN             NaN             NaN  \n",
       "\n",
       "[5 rows x 22 columns]"
      ]
     },
     "execution_count": 106,
     "metadata": {},
     "output_type": "execute_result"
    }
   ],
   "source": [
    "df_wbb.head()"
   ]
  },
  {
   "cell_type": "code",
   "execution_count": 108,
   "metadata": {},
   "outputs": [],
   "source": [
    "df_ww = pd.read_csv(\"ProvidedDatasets/tobacco_use_ww.csv\")\n",
    "# group by Location  \n",
    "df_wbb['Year'] = df_wbb['Year'].astype(str)\n",
    "df_ww['Year'] = df_ww['Year'].astype(str)\n",
    "df_www = df_ww.merge(df_wbb,how='left')\n",
    "df_www.to_csv(\"extra_ww.csv\",index=False)"
   ]
  },
  {
   "cell_type": "code",
   "execution_count": null,
   "metadata": {},
   "outputs": [],
   "source": []
  }
 ],
 "metadata": {
  "kernelspec": {
   "display_name": "Python 3",
   "language": "python",
   "name": "python3"
  },
  "language_info": {
   "codemirror_mode": {
    "name": "ipython",
    "version": 3
   },
   "file_extension": ".py",
   "mimetype": "text/x-python",
   "name": "python",
   "nbconvert_exporter": "python",
   "pygments_lexer": "ipython3",
   "version": "3.7.0"
  }
 },
 "nbformat": 4,
 "nbformat_minor": 4
}
